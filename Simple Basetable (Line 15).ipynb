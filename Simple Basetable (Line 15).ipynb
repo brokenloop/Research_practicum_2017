{
 "cells": [
  {
   "cell_type": "code",
   "execution_count": 65,
   "metadata": {
    "collapsed": false
   },
   "outputs": [],
   "source": [
    "# general \n",
    "import datetime\n",
    "\n",
    "# data analysis and wrangling\n",
    "import pandas as pd\n",
    "import numpy as np\n",
    "import random as rnd\n",
    "\n",
    "# visualization\n",
    "import seaborn as sns\n",
    "import matplotlib.pyplot as plt\n",
    "%matplotlib inline\n",
    "\n",
    "#Import statsmodels package for training a linear regression model.\n",
    "import statsmodels.formula.api as sm\n",
    "\n",
    "# machine learning\n",
    "from sklearn.linear_model import LogisticRegression\n",
    "from sklearn.svm import SVC, LinearSVC\n",
    "from sklearn.ensemble import RandomForestClassifier\n",
    "from sklearn.neighbors import KNeighborsClassifier\n",
    "from sklearn.naive_bayes import GaussianNB\n",
    "from sklearn.linear_model import Perceptron\n",
    "from sklearn.linear_model import SGDClassifier\n",
    "from sklearn.tree import DecisionTreeClassifier\n",
    "from sklearn.model_selection import train_test_split\n",
    "from sklearn import metrics"
   ]
  },
  {
   "cell_type": "markdown",
   "metadata": {},
   "source": [
    "# Importing and Cleaning Data"
   ]
  },
  {
   "cell_type": "code",
   "execution_count": 66,
   "metadata": {
    "collapsed": false
   },
   "outputs": [],
   "source": [
    "#Read in the data from a csv file using Pandas\n",
    "df = pd.read_csv(\"bus_data/cleaned_data/line15.csv\", low_memory=False, header=None)\n",
    "df.columns = [\"Timestamp\", \"LineID\", \"Direction\", \"JourneyPatternID\", \"TimeFrame\", \n",
    "              \"VehicleJourneyID\", \"Operator\", \"Congestion\", \"Lon\", \"Lat\", \n",
    "              \"Delay\", \"BlockID\", \"VehicleID\", \"StopID\", \"AtStop\"]"
   ]
  },
  {
   "cell_type": "code",
   "execution_count": 67,
   "metadata": {
    "collapsed": true
   },
   "outputs": [],
   "source": [
    "#Select all columns of type 'object'\n",
    "object_columns = df.select_dtypes(['object']).columns"
   ]
  },
  {
   "cell_type": "code",
   "execution_count": 68,
   "metadata": {
    "collapsed": true
   },
   "outputs": [],
   "source": [
    "#Convert selected columns to type 'category'\n",
    "for column in object_columns:\n",
    "    df[column] = df[column].astype('category')   "
   ]
  },
  {
   "cell_type": "code",
   "execution_count": 69,
   "metadata": {
    "collapsed": true
   },
   "outputs": [],
   "source": [
    "# Convert Unix timestamp to datetime\n",
    "\n",
    "# Take uneccesary trailing zeroes off of unix timestamp. \n",
    "df['Timestamp'] = df['Timestamp'].apply(lambda x: x//1000000)\n",
    "\n",
    "# Convert the timestamp\n",
    "df['Timestamp'] = pd.to_datetime(df['Timestamp'], unit='s')"
   ]
  },
  {
   "cell_type": "code",
   "execution_count": 70,
   "metadata": {
    "collapsed": true
   },
   "outputs": [],
   "source": [
    "# Add day of week column\n",
    "df['Day'] = df['Timestamp'].dt.dayofweek"
   ]
  },
  {
   "cell_type": "code",
   "execution_count": 71,
   "metadata": {
    "collapsed": true
   },
   "outputs": [],
   "source": [
    "# Add hour of day column\n",
    "df['Hour'] = df['Timestamp'].dt.hour"
   ]
  },
  {
   "cell_type": "code",
   "execution_count": 72,
   "metadata": {
    "collapsed": false
   },
   "outputs": [],
   "source": [
    "# Convert some features to categorical\n",
    "for column in ['LineID', 'Direction','VehicleJourneyID', 'Congestion', 'BlockID', 'VehicleID', 'AtStop','Day','Hour']:\n",
    "    df[column] = df[column].astype('category')"
   ]
  },
  {
   "cell_type": "code",
   "execution_count": 73,
   "metadata": {
    "collapsed": false
   },
   "outputs": [],
   "source": [
    "# Remove irrelevant features\n",
    "df = df.drop('BlockID', 1)\n",
    "df = df.drop('Operator', 1)\n",
    "df = df.drop('Delay', 1)\n",
    "df = df.drop('Congestion', 1)"
   ]
  },
  {
   "cell_type": "code",
   "execution_count": 74,
   "metadata": {
    "collapsed": true
   },
   "outputs": [],
   "source": [
    "# Reduce df to journey pattern we are interested in\n",
    "df = df.loc[df['JourneyPatternID'] == '00150001']"
   ]
  },
  {
   "cell_type": "markdown",
   "metadata": {},
   "source": [
    "## Creating Basetable"
   ]
  },
  {
   "cell_type": "code",
   "execution_count": 75,
   "metadata": {
    "collapsed": false
   },
   "outputs": [],
   "source": [
    "# Making list of dictionaries, to be turned into a dataframe\n",
    "\n",
    "rows = []\n",
    "\n",
    "for date in df.TimeFrame.unique():    \n",
    "    temp_df = df[df.TimeFrame == date]\n",
    "    \n",
    "    for journey in temp_df.VehicleJourneyID.unique():\n",
    "        \n",
    "        inner_df = temp_df[temp_df.VehicleJourneyID == journey]\n",
    "        \n",
    "        row = {}\n",
    "    \n",
    "        duration = inner_df.Timestamp.max()-inner_df.Timestamp.min()\n",
    "        \n",
    "        if (duration > datetime.timedelta(minutes=30)):\n",
    "        \n",
    "            row['hour'] = inner_df.Timestamp.min().hour\n",
    "            row['day'] = inner_df.Timestamp.min().dayofweek\n",
    "            row['duration'] = duration.seconds//60\n",
    "\n",
    "            rows.append(row)"
   ]
  },
  {
   "cell_type": "code",
   "execution_count": 76,
   "metadata": {
    "collapsed": false
   },
   "outputs": [],
   "source": [
    "# Creating dataframe from the list we made in the last cell\n",
    "basetable = pd.DataFrame(rows)"
   ]
  },
  {
   "cell_type": "code",
   "execution_count": 77,
   "metadata": {
    "collapsed": false
   },
   "outputs": [
    {
     "data": {
      "text/html": [
       "<div>\n",
       "<table border=\"1\" class=\"dataframe\">\n",
       "  <thead>\n",
       "    <tr style=\"text-align: right;\">\n",
       "      <th></th>\n",
       "      <th>day</th>\n",
       "      <th>duration</th>\n",
       "      <th>hour</th>\n",
       "    </tr>\n",
       "  </thead>\n",
       "  <tbody>\n",
       "    <tr>\n",
       "      <th>0</th>\n",
       "      <td>1</td>\n",
       "      <td>105</td>\n",
       "      <td>6</td>\n",
       "    </tr>\n",
       "    <tr>\n",
       "      <th>1</th>\n",
       "      <td>1</td>\n",
       "      <td>92</td>\n",
       "      <td>6</td>\n",
       "    </tr>\n",
       "    <tr>\n",
       "      <th>2</th>\n",
       "      <td>1</td>\n",
       "      <td>93</td>\n",
       "      <td>6</td>\n",
       "    </tr>\n",
       "    <tr>\n",
       "      <th>3</th>\n",
       "      <td>1</td>\n",
       "      <td>94</td>\n",
       "      <td>6</td>\n",
       "    </tr>\n",
       "    <tr>\n",
       "      <th>4</th>\n",
       "      <td>1</td>\n",
       "      <td>148</td>\n",
       "      <td>6</td>\n",
       "    </tr>\n",
       "    <tr>\n",
       "      <th>5</th>\n",
       "      <td>1</td>\n",
       "      <td>96</td>\n",
       "      <td>6</td>\n",
       "    </tr>\n",
       "    <tr>\n",
       "      <th>6</th>\n",
       "      <td>1</td>\n",
       "      <td>108</td>\n",
       "      <td>6</td>\n",
       "    </tr>\n",
       "    <tr>\n",
       "      <th>7</th>\n",
       "      <td>1</td>\n",
       "      <td>107</td>\n",
       "      <td>7</td>\n",
       "    </tr>\n",
       "    <tr>\n",
       "      <th>8</th>\n",
       "      <td>1</td>\n",
       "      <td>107</td>\n",
       "      <td>7</td>\n",
       "    </tr>\n",
       "    <tr>\n",
       "      <th>9</th>\n",
       "      <td>1</td>\n",
       "      <td>103</td>\n",
       "      <td>7</td>\n",
       "    </tr>\n",
       "  </tbody>\n",
       "</table>\n",
       "</div>"
      ],
      "text/plain": [
       "   day  duration  hour\n",
       "0    1       105     6\n",
       "1    1        92     6\n",
       "2    1        93     6\n",
       "3    1        94     6\n",
       "4    1       148     6\n",
       "5    1        96     6\n",
       "6    1       108     6\n",
       "7    1       107     7\n",
       "8    1       107     7\n",
       "9    1       103     7"
      ]
     },
     "execution_count": 77,
     "metadata": {},
     "output_type": "execute_result"
    }
   ],
   "source": [
    "basetable.head(10)"
   ]
  }
 ],
 "metadata": {
  "anaconda-cloud": {},
  "kernelspec": {
   "display_name": "Python 3",
   "language": "python",
   "name": "python3"
  },
  "language_info": {
   "codemirror_mode": {
    "name": "ipython",
    "version": 3
   },
   "file_extension": ".py",
   "mimetype": "text/x-python",
   "name": "python",
   "nbconvert_exporter": "python",
   "pygments_lexer": "ipython3",
   "version": "3.6.0"
  }
 },
 "nbformat": 4,
 "nbformat_minor": 1
}
