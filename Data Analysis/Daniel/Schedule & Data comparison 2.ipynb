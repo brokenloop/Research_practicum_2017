{
 "cells": [
  {
   "cell_type": "code",
   "execution_count": 1,
   "metadata": {
    "collapsed": true
   },
   "outputs": [],
   "source": [
    "import pandas as pd\n",
    "import numpy as np\n",
    "\n",
    "import matplotlib.pyplot as plt\n",
    "%matplotlib inline"
   ]
  },
  {
   "cell_type": "markdown",
   "metadata": {},
   "source": [
    "### Static Variables"
   ]
  },
  {
   "cell_type": "code",
   "execution_count": 2,
   "metadata": {
    "collapsed": true
   },
   "outputs": [],
   "source": [
    "line = \"46A\""
   ]
  },
  {
   "cell_type": "markdown",
   "metadata": {},
   "source": [
    "### Extracting Data"
   ]
  },
  {
   "cell_type": "code",
   "execution_count": 3,
   "metadata": {
    "collapsed": false
   },
   "outputs": [
    {
     "data": {
      "text/plain": [
       "(607675, 15)"
      ]
     },
     "execution_count": 3,
     "metadata": {},
     "output_type": "execute_result"
    }
   ],
   "source": [
    "df = pd.read_csv(\"bus_data/clean_data2/\" + line + \".csv\", low_memory=False, header=None)\n",
    "df.columns = [\"Timestamp\", \"LineID\", \"JourneyPatternID\", \"TimeFrame\", \n",
    "              \"VehicleJourneyID\", \"Lon\", \"Lat\", \"VehicleID\", \"StopID\", \n",
    "              \"AtStop\", \"HumanTime\", \"Day\", \"Hour\", \"JourneyGroup\", \"Runtime\"]\n",
    "\n",
    "#convert StopID to string\n",
    "\n",
    "df['StopID'] = df['StopID'].astype('str')\n",
    "\n",
    "\n",
    "df.shape"
   ]
  },
  {
   "cell_type": "code",
   "execution_count": 4,
   "metadata": {
    "collapsed": false
   },
   "outputs": [],
   "source": [
    "schedule = pd.read_csv(\"bus_data/dublinbus_scheduledData2013csv.csv\", low_memory=False, encoding=\"ISO-8859-1\")\n"
   ]
  },
  {
   "cell_type": "code",
   "execution_count": 5,
   "metadata": {
    "collapsed": false
   },
   "outputs": [],
   "source": [
    "# Dropping null values - some in our dataframe are marked as 'null' (string) for some reason?\n",
    "schedule = schedule.dropna()\n",
    "df = df[df.StopID != 'null']"
   ]
  },
  {
   "cell_type": "markdown",
   "metadata": {},
   "source": [
    "### Exploring schedule"
   ]
  },
  {
   "cell_type": "code",
   "execution_count": 6,
   "metadata": {
    "collapsed": false
   },
   "outputs": [
    {
     "data": {
      "text/plain": [
       "Timestamp             int64\n",
       "LineID               object\n",
       "JourneyPatternID      int64\n",
       "TimeFrame            object\n",
       "VehicleJourneyID      int64\n",
       "Lon                 float64\n",
       "Lat                 float64\n",
       "VehicleID             int64\n",
       "StopID               object\n",
       "AtStop                int64\n",
       "HumanTime            object\n",
       "Day                   int64\n",
       "Hour                  int64\n",
       "JourneyGroup         object\n",
       "Runtime               int64\n",
       "dtype: object"
      ]
     },
     "execution_count": 6,
     "metadata": {},
     "output_type": "execute_result"
    }
   ],
   "source": [
    "df.dtypes"
   ]
  },
  {
   "cell_type": "code",
   "execution_count": 7,
   "metadata": {
    "collapsed": true
   },
   "outputs": [],
   "source": [
    "# Extracting StopID from stop_id\n",
    "\n",
    "def get_stop(string):\n",
    "    var = string[-4:]\n",
    "    return var\n",
    "\n",
    "schedule[\"StopID\"] = schedule['stop_id'].apply(lambda x: get_stop(x))"
   ]
  },
  {
   "cell_type": "code",
   "execution_count": 8,
   "metadata": {
    "collapsed": false
   },
   "outputs": [
    {
     "name": "stderr",
     "output_type": "stream",
     "text": [
      "/Users/danieljordan/anaconda3/lib/python3.6/site-packages/ipykernel/__main__.py:3: FutureWarning: currently extract(expand=None) means expand=False (return Index/Series/DataFrame) but in a future version of pandas this will be changed to expand=True (return DataFrame)\n",
      "  app.launch_new_instance()\n"
     ]
    }
   ],
   "source": [
    "# Extracting LineID from trip_id\n",
    "\n",
    "schedule[\"LineID\"] = schedule[\"trip_id\"].str.extract('\\-(.*?)\\-')"
   ]
  },
  {
   "cell_type": "code",
   "execution_count": 9,
   "metadata": {
    "collapsed": false
   },
   "outputs": [],
   "source": [
    "# Convert StopIDs back to int\n",
    "\n",
    "df['StopID'] = df['StopID'].astype('int64')\n",
    "schedule['StopID'] = schedule['StopID'].astype('int64')"
   ]
  },
  {
   "cell_type": "code",
   "execution_count": 10,
   "metadata": {
    "collapsed": true
   },
   "outputs": [],
   "source": [
    "# Extracting direction from trip_id\n",
    "\n",
    "def get_direction(string):\n",
    "    var = string[-1:]\n",
    "    return var\n",
    "\n",
    "schedule[\"Direction\"] = schedule['trip_id'].apply(lambda x: get_direction(x))"
   ]
  },
  {
   "cell_type": "code",
   "execution_count": 11,
   "metadata": {
    "collapsed": true
   },
   "outputs": [],
   "source": [
    "# Converting Direction to JourneyPatternID\n",
    "\n",
    "schedule[\"JourneyPatternID\"] = schedule['Direction'].apply(lambda x: \"1001\" if x == \"I\" else \"0001\")\n",
    "schedule['JourneyPatternID'] = schedule['JourneyPatternID'].astype('int64')"
   ]
  },
  {
   "cell_type": "code",
   "execution_count": 12,
   "metadata": {
    "collapsed": false
   },
   "outputs": [],
   "source": [
    "# dropping irrelevant columns\n",
    "for column in ['trip_id', 'stop_id', 'arrival_time', 'departure_time', 'shape_dist_traveled', 'Direction']:\n",
    "        schedule = schedule.drop(column, 1)"
   ]
  },
  {
   "cell_type": "code",
   "execution_count": 13,
   "metadata": {
    "collapsed": false
   },
   "outputs": [
    {
     "data": {
      "text/html": [
       "<div>\n",
       "<table border=\"1\" class=\"dataframe\">\n",
       "  <thead>\n",
       "    <tr style=\"text-align: right;\">\n",
       "      <th></th>\n",
       "      <th>Name without locality</th>\n",
       "      <th>Name</th>\n",
       "      <th>Lat</th>\n",
       "      <th>Long</th>\n",
       "      <th>stop_sequence</th>\n",
       "      <th>stop_headsign</th>\n",
       "      <th>StopID</th>\n",
       "      <th>LineID</th>\n",
       "      <th>JourneyPatternID</th>\n",
       "    </tr>\n",
       "  </thead>\n",
       "  <tbody>\n",
       "    <tr>\n",
       "      <th>0</th>\n",
       "      <td>Footbridge</td>\n",
       "      <td>Skerries Road</td>\n",
       "      <td>53.591377</td>\n",
       "      <td>-6.156176</td>\n",
       "      <td>1</td>\n",
       "      <td>Swords</td>\n",
       "      <td>3813</td>\n",
       "      <td>33A</td>\n",
       "      <td>1001</td>\n",
       "    </tr>\n",
       "    <tr>\n",
       "      <th>1</th>\n",
       "      <td>Barnageeragh Road</td>\n",
       "      <td>Balbriggan Rd</td>\n",
       "      <td>53.585544</td>\n",
       "      <td>-6.148605</td>\n",
       "      <td>2</td>\n",
       "      <td>Swords</td>\n",
       "      <td>3814</td>\n",
       "      <td>33A</td>\n",
       "      <td>1001</td>\n",
       "    </tr>\n",
       "    <tr>\n",
       "      <th>2</th>\n",
       "      <td>Barnageeragh Road</td>\n",
       "      <td>North Cliff Heights</td>\n",
       "      <td>53.581935</td>\n",
       "      <td>-6.125247</td>\n",
       "      <td>3</td>\n",
       "      <td>Swords</td>\n",
       "      <td>3815</td>\n",
       "      <td>33A</td>\n",
       "      <td>1001</td>\n",
       "    </tr>\n",
       "    <tr>\n",
       "      <th>3</th>\n",
       "      <td>Mourne Drive</td>\n",
       "      <td>North Cliff Heights</td>\n",
       "      <td>53.580471</td>\n",
       "      <td>-6.127622</td>\n",
       "      <td>4</td>\n",
       "      <td>Swords</td>\n",
       "      <td>3816</td>\n",
       "      <td>33A</td>\n",
       "      <td>1001</td>\n",
       "    </tr>\n",
       "    <tr>\n",
       "      <th>4</th>\n",
       "      <td>Selskar Court</td>\n",
       "      <td>Town Parks Rd</td>\n",
       "      <td>53.578067</td>\n",
       "      <td>-6.125055</td>\n",
       "      <td>5</td>\n",
       "      <td>Swords</td>\n",
       "      <td>3566</td>\n",
       "      <td>33A</td>\n",
       "      <td>1001</td>\n",
       "    </tr>\n",
       "  </tbody>\n",
       "</table>\n",
       "</div>"
      ],
      "text/plain": [
       "  Name without locality                 Name        Lat      Long  \\\n",
       "0            Footbridge        Skerries Road  53.591377 -6.156176   \n",
       "1     Barnageeragh Road        Balbriggan Rd  53.585544 -6.148605   \n",
       "2     Barnageeragh Road  North Cliff Heights  53.581935 -6.125247   \n",
       "3          Mourne Drive  North Cliff Heights  53.580471 -6.127622   \n",
       "4         Selskar Court        Town Parks Rd  53.578067 -6.125055   \n",
       "\n",
       "   stop_sequence stop_headsign  StopID LineID  JourneyPatternID  \n",
       "0              1        Swords    3813    33A              1001  \n",
       "1              2        Swords    3814    33A              1001  \n",
       "2              3        Swords    3815    33A              1001  \n",
       "3              4        Swords    3816    33A              1001  \n",
       "4              5        Swords    3566    33A              1001  "
      ]
     },
     "execution_count": 13,
     "metadata": {},
     "output_type": "execute_result"
    }
   ],
   "source": [
    "schedule.head()"
   ]
  },
  {
   "cell_type": "code",
   "execution_count": 14,
   "metadata": {
    "collapsed": false
   },
   "outputs": [
    {
     "name": "stdout",
     "output_type": "stream",
     "text": [
      "1 61\n",
      "1001 64\n"
     ]
    }
   ],
   "source": [
    "# Examining how many stops there are in either direction in schedule\n",
    "\n",
    "schedule_line = schedule[schedule.LineID == line]\n",
    "directions = schedule_line.JourneyPatternID.unique()\n",
    "\n",
    "df_stops = {}\n",
    "\n",
    "for direction in directions:\n",
    "    direction_count = schedule_line[schedule_line.JourneyPatternID == direction].StopID.nunique()\n",
    "    print(direction, direction_count)"
   ]
  },
  {
   "cell_type": "markdown",
   "metadata": {},
   "source": [
    "### Exploring line 15"
   ]
  },
  {
   "cell_type": "code",
   "execution_count": 15,
   "metadata": {
    "collapsed": false
   },
   "outputs": [
    {
     "name": "stdout",
     "output_type": "stream",
     "text": [
      "1001 63\n",
      "1 59\n"
     ]
    }
   ],
   "source": [
    "# Examining how many stops there are in either direction in df\n",
    "\n",
    "variants = df.JourneyPatternID.unique()\n",
    "\n",
    "for variant in variants:\n",
    "    stop_count = df[df.JourneyPatternID == variant].StopID.nunique()\n",
    "    print(variant, stop_count)"
   ]
  },
  {
   "cell_type": "markdown",
   "metadata": {},
   "source": [
    "### Comparing Schedule to our data\n"
   ]
  },
  {
   "cell_type": "code",
   "execution_count": 16,
   "metadata": {
    "collapsed": false
   },
   "outputs": [],
   "source": [
    "schedule_in = schedule[(schedule.LineID == line) & (schedule.JourneyPatternID == 1001)]\n",
    "schedule_out = schedule[(schedule.LineID == line) & (schedule.JourneyPatternID == 1)]\n",
    "df_1001 = df[df.JourneyPatternID == 1001]\n",
    "df_0001 = df[df.JourneyPatternID == 1]\n",
    "\n",
    "\n",
    "stops_in = set(schedule_in.StopID.unique())\n",
    "stops_out = set(schedule_out.StopID.unique())\n",
    "\n",
    "stops_1001 = set(df_1001.StopID.unique())\n",
    "stops_0001 = set(df_0001.StopID.unique())\n",
    "\n",
    "# print(len(set1.difference(set2)))\n"
   ]
  },
  {
   "cell_type": "code",
   "execution_count": 17,
   "metadata": {
    "collapsed": false
   },
   "outputs": [
    {
     "name": "stdout",
     "output_type": "stream",
     "text": [
      "{4962}\n",
      "{4962, 767}\n"
     ]
    }
   ],
   "source": [
    "# symmetric difference between both sets of stops\n",
    "\n",
    "print(stops_in ^ stops_1001)\n",
    "print(stops_out ^ stops_0001)\n"
   ]
  },
  {
   "cell_type": "code",
   "execution_count": null,
   "metadata": {
    "collapsed": false
   },
   "outputs": [],
   "source": []
  },
  {
   "cell_type": "markdown",
   "metadata": {},
   "source": [
    "### Drop all stops that aren't in both dataframes"
   ]
  },
  {
   "cell_type": "code",
   "execution_count": 18,
   "metadata": {
    "collapsed": true
   },
   "outputs": [],
   "source": [
    "instops = list(stops_in & stops_1001)\n",
    "outstops = list(stops_out & stops_0001)\n",
    "\n",
    "allstops = instops + outstops"
   ]
  },
  {
   "cell_type": "code",
   "execution_count": 19,
   "metadata": {
    "collapsed": false
   },
   "outputs": [
    {
     "name": "stdout",
     "output_type": "stream",
     "text": [
      "63\n",
      "59\n",
      "122\n"
     ]
    }
   ],
   "source": [
    "print(len(instops))\n",
    "print(len(outstops))\n",
    "print(len(allstops))"
   ]
  },
  {
   "cell_type": "code",
   "execution_count": 20,
   "metadata": {
    "collapsed": true
   },
   "outputs": [],
   "source": [
    "# have to do this part on a line by line basis. \n",
    "\n",
    "# df = df[df.StopID.isin(allstops)]\n",
    "# schedule = schedule[schedule.StopID.isin(allstops)]"
   ]
  },
  {
   "cell_type": "code",
   "execution_count": null,
   "metadata": {
    "collapsed": true
   },
   "outputs": [],
   "source": []
  },
  {
   "cell_type": "markdown",
   "metadata": {},
   "source": [
    "### Saving CSV with true stop locations"
   ]
  },
  {
   "cell_type": "code",
   "execution_count": 21,
   "metadata": {
    "collapsed": true
   },
   "outputs": [],
   "source": [
    "# Renaming Long to Lon, so it cooperates with our other data\n",
    "schedule = schedule.rename(columns={'Long': 'Lon'})"
   ]
  },
  {
   "cell_type": "code",
   "execution_count": 22,
   "metadata": {
    "collapsed": false
   },
   "outputs": [
    {
     "data": {
      "text/plain": [
       "(921993, 3)"
      ]
     },
     "execution_count": 22,
     "metadata": {},
     "output_type": "execute_result"
    }
   ],
   "source": [
    "stop_locations = schedule[['StopID', 'Lat', 'Lon']]\n",
    "stop_locations.shape"
   ]
  },
  {
   "cell_type": "code",
   "execution_count": 23,
   "metadata": {
    "collapsed": false
   },
   "outputs": [
    {
     "data": {
      "text/plain": [
       "(4719, 3)"
      ]
     },
     "execution_count": 23,
     "metadata": {},
     "output_type": "execute_result"
    }
   ],
   "source": [
    "stop_locations = stop_locations.drop_duplicates()\n",
    "stop_locations.shape"
   ]
  },
  {
   "cell_type": "code",
   "execution_count": 25,
   "metadata": {
    "collapsed": true
   },
   "outputs": [],
   "source": [
    "stop_locations.to_csv(\"bus_data/stop_locations.csv\", index=False)"
   ]
  },
  {
   "cell_type": "code",
   "execution_count": null,
   "metadata": {
    "collapsed": true
   },
   "outputs": [],
   "source": []
  },
  {
   "cell_type": "markdown",
   "metadata": {},
   "source": [
    "### ---Rough Work---"
   ]
  },
  {
   "cell_type": "code",
   "execution_count": 29,
   "metadata": {
    "collapsed": false
   },
   "outputs": [
    {
     "data": {
      "text/plain": [
       "<matplotlib.axes._subplots.AxesSubplot at 0x118b09198>"
      ]
     },
     "execution_count": 29,
     "metadata": {},
     "output_type": "execute_result"
    },
    {
     "data": {
      "image/png": "[encoded data removed]",
      "text/plain": [
       "<matplotlib.figure.Figure at 0x118b13be0>"
      ]
     },
     "metadata": {},
     "output_type": "display_data"
    }
   ],
   "source": [
    "plotdf = schedule[(schedule.LineID == \"46A\") & (schedule.JourneyPatternID == 1)][[\"Lon\", \"Lat\"]]\n",
    "plotdf.plot.scatter(x=\"Lon\", y=\"Lat\")"
   ]
  },
  {
   "cell_type": "code",
   "execution_count": null,
   "metadata": {
    "collapsed": true
   },
   "outputs": [],
   "source": []
  }
 ],
 "metadata": {
  "kernelspec": {
   "display_name": "Python 3",
   "language": "python",
   "name": "python3"
  },
  "language_info": {
   "codemirror_mode": {
    "name": "ipython",
    "version": 3
   },
   "file_extension": ".py",
   "mimetype": "text/x-python",
   "name": "python",
   "nbconvert_exporter": "python",
   "pygments_lexer": "ipython3",
   "version": "3.6.0"
  }
 },
 "nbformat": 4,
 "nbformat_minor": 2
}
