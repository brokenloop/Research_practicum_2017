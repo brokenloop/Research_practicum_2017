{
 "cells": [
  {
   "cell_type": "code",
   "execution_count": 1,
   "metadata": {
    "collapsed": true
   },
   "outputs": [],
   "source": [
    "import pandas as pd\n",
    "\n",
    "import matplotlib.pyplot as plt\n",
    "%matplotlib inline"
   ]
  },
  {
   "cell_type": "markdown",
   "metadata": {},
   "source": [
    "### Static Variables"
   ]
  },
  {
   "cell_type": "code",
   "execution_count": 15,
   "metadata": {
    "collapsed": true
   },
   "outputs": [],
   "source": [
    "line = \"1\""
   ]
  },
  {
   "cell_type": "markdown",
   "metadata": {},
   "source": [
    "### Extracting Data"
   ]
  },
  {
   "cell_type": "code",
   "execution_count": 16,
   "metadata": {
    "collapsed": false
   },
   "outputs": [
    {
     "data": {
      "text/plain": [
       "(156755, 15)"
      ]
     },
     "execution_count": 16,
     "metadata": {},
     "output_type": "execute_result"
    }
   ],
   "source": [
    "df = pd.read_csv(\"bus_data/clean_data2/\" + line + \".csv\", low_memory=False, header=None)\n",
    "df.columns = [\"Timestamp\", \"LineID\", \"JourneyPatternID\", \"TimeFrame\", \n",
    "              \"VehicleJourneyID\", \"Lon\", \"Lat\", \"VehicleID\", \"StopID\", \n",
    "              \"AtStop\", \"HumanTime\", \"Day\", \"Hour\", \"JourneyGroup\", \"Runtime\"]\n",
    "\n",
    "#convert StopID to string\n",
    "\n",
    "df['StopID'] = df['StopID'].astype('str')\n",
    "\n",
    "\n",
    "df.shape"
   ]
  },
  {
   "cell_type": "code",
   "execution_count": 17,
   "metadata": {
    "collapsed": false
   },
   "outputs": [],
   "source": [
    "schedule = pd.read_csv(\"bus_data/dublinbus_scheduledData2013csv.csv\", low_memory=False, encoding=\"ISO-8859-1\")\n"
   ]
  },
  {
   "cell_type": "code",
   "execution_count": 18,
   "metadata": {
    "collapsed": true
   },
   "outputs": [],
   "source": [
    "schedule = schedule.dropna()"
   ]
  },
  {
   "cell_type": "markdown",
   "metadata": {},
   "source": [
    "### Exploring schedule"
   ]
  },
  {
   "cell_type": "code",
   "execution_count": null,
   "metadata": {
    "collapsed": true
   },
   "outputs": [],
   "source": []
  },
  {
   "cell_type": "code",
   "execution_count": 19,
   "metadata": {
    "collapsed": false,
    "scrolled": true
   },
   "outputs": [
    {
     "data": {
      "text/html": [
       "<div>\n",
       "<table border=\"1\" class=\"dataframe\">\n",
       "  <thead>\n",
       "    <tr style=\"text-align: right;\">\n",
       "      <th></th>\n",
       "      <th>trip_id</th>\n",
       "      <th>arrival_time</th>\n",
       "      <th>departure_time</th>\n",
       "      <th>stop_id</th>\n",
       "      <th>Name without locality</th>\n",
       "      <th>Name</th>\n",
       "      <th>Lat</th>\n",
       "      <th>Long</th>\n",
       "      <th>stop_sequence</th>\n",
       "      <th>stop_headsign</th>\n",
       "      <th>shape_dist_traveled</th>\n",
       "    </tr>\n",
       "  </thead>\n",
       "  <tbody>\n",
       "    <tr>\n",
       "      <th>921293</th>\n",
       "      <td>9986.2901.0-39-b12-1.242.I</td>\n",
       "      <td>23:39:26</td>\n",
       "      <td>23:39:26</td>\n",
       "      <td>8220DB001702</td>\n",
       "      <td>Nephin Road</td>\n",
       "      <td>Navan Road</td>\n",
       "      <td>53.365621</td>\n",
       "      <td>-6.310213</td>\n",
       "      <td>54</td>\n",
       "      <td>Baggot St</td>\n",
       "      <td>19629.936770</td>\n",
       "    </tr>\n",
       "    <tr>\n",
       "      <th>921294</th>\n",
       "      <td>9986.2901.0-39-b12-1.242.I</td>\n",
       "      <td>23:40:00</td>\n",
       "      <td>23:40:00</td>\n",
       "      <td>8220DB001703</td>\n",
       "      <td>Nephin Road</td>\n",
       "      <td>Navan Road</td>\n",
       "      <td>53.364717</td>\n",
       "      <td>-6.307334</td>\n",
       "      <td>55</td>\n",
       "      <td>Baggot St</td>\n",
       "      <td>19847.305120</td>\n",
       "    </tr>\n",
       "    <tr>\n",
       "      <th>921295</th>\n",
       "      <td>9986.2901.0-39-b12-1.242.I</td>\n",
       "      <td>23:41:00</td>\n",
       "      <td>23:41:00</td>\n",
       "      <td>8220DB001905</td>\n",
       "      <td>Hampton Green</td>\n",
       "      <td>Navan Road</td>\n",
       "      <td>53.363281</td>\n",
       "      <td>-6.303003</td>\n",
       "      <td>56</td>\n",
       "      <td>Baggot St</td>\n",
       "      <td>20175.174550</td>\n",
       "    </tr>\n",
       "    <tr>\n",
       "      <th>921296</th>\n",
       "      <td>9986.2901.0-39-b12-1.242.I</td>\n",
       "      <td>23:42:00</td>\n",
       "      <td>23:42:00</td>\n",
       "      <td>8220DB001906</td>\n",
       "      <td>Dunard</td>\n",
       "      <td>Old Cabra Rd</td>\n",
       "      <td>53.361201</td>\n",
       "      <td>-6.297061</td>\n",
       "      <td>57</td>\n",
       "      <td>Baggot St</td>\n",
       "      <td>20642.466700</td>\n",
       "    </tr>\n",
       "    <tr>\n",
       "      <th>921297</th>\n",
       "      <td>9986.2901.0-39-b12-1.242.I</td>\n",
       "      <td>23:43:00</td>\n",
       "      <td>23:43:00</td>\n",
       "      <td>8220DB001907</td>\n",
       "      <td>Glenbeigh Road</td>\n",
       "      <td>Old Cabra Rd</td>\n",
       "      <td>53.359905</td>\n",
       "      <td>-6.293807</td>\n",
       "      <td>58</td>\n",
       "      <td>Baggot St</td>\n",
       "      <td>20902.098670</td>\n",
       "    </tr>\n",
       "    <tr>\n",
       "      <th>921298</th>\n",
       "      <td>9986.2901.0-39-b12-1.242.I</td>\n",
       "      <td>23:43:27</td>\n",
       "      <td>23:43:27</td>\n",
       "      <td>8220DB001908</td>\n",
       "      <td>Cabra Drive</td>\n",
       "      <td>Old Cabra Rd</td>\n",
       "      <td>53.358682</td>\n",
       "      <td>-6.291241</td>\n",
       "      <td>59</td>\n",
       "      <td>Baggot St</td>\n",
       "      <td>21121.340750</td>\n",
       "    </tr>\n",
       "    <tr>\n",
       "      <th>921299</th>\n",
       "      <td>9986.2901.0-39-b12-1.242.I</td>\n",
       "      <td>23:44:00</td>\n",
       "      <td>23:44:00</td>\n",
       "      <td>8220DB001909</td>\n",
       "      <td>Drumalee</td>\n",
       "      <td>Prussia Street</td>\n",
       "      <td>53.356890</td>\n",
       "      <td>-6.288504</td>\n",
       "      <td>60</td>\n",
       "      <td>Baggot St</td>\n",
       "      <td>21393.334270</td>\n",
       "    </tr>\n",
       "    <tr>\n",
       "      <th>921300</th>\n",
       "      <td>9986.2901.0-39-b12-1.242.I</td>\n",
       "      <td>23:45:00</td>\n",
       "      <td>23:45:00</td>\n",
       "      <td>8220DB001713</td>\n",
       "      <td>Stanhope Street Convent</td>\n",
       "      <td>Manor Street</td>\n",
       "      <td>53.351908</td>\n",
       "      <td>-6.283310</td>\n",
       "      <td>61</td>\n",
       "      <td>Baggot St</td>\n",
       "      <td>22054.530400</td>\n",
       "    </tr>\n",
       "    <tr>\n",
       "      <th>921301</th>\n",
       "      <td>9986.2901.0-39-b12-1.242.I</td>\n",
       "      <td>23:45:39</td>\n",
       "      <td>23:45:39</td>\n",
       "      <td>8220DB001714</td>\n",
       "      <td>Brunswick Street</td>\n",
       "      <td>Stoneybatter</td>\n",
       "      <td>53.350638</td>\n",
       "      <td>-6.281874</td>\n",
       "      <td>62</td>\n",
       "      <td>Baggot St</td>\n",
       "      <td>22227.051460</td>\n",
       "    </tr>\n",
       "    <tr>\n",
       "      <th>921302</th>\n",
       "      <td>9986.2901.0-39-b12-1.242.I</td>\n",
       "      <td>23:46:55</td>\n",
       "      <td>23:46:55</td>\n",
       "      <td>8220DB001715</td>\n",
       "      <td>Blackhall Street</td>\n",
       "      <td>Blackhall Place</td>\n",
       "      <td>53.347712</td>\n",
       "      <td>-6.282172</td>\n",
       "      <td>63</td>\n",
       "      <td>Baggot St</td>\n",
       "      <td>22550.645330</td>\n",
       "    </tr>\n",
       "    <tr>\n",
       "      <th>921303</th>\n",
       "      <td>9986.2901.0-39-b12-1.242.I</td>\n",
       "      <td>23:49:00</td>\n",
       "      <td>23:49:00</td>\n",
       "      <td>8220DB001477</td>\n",
       "      <td>Church Street</td>\n",
       "      <td>Arran Quay</td>\n",
       "      <td>53.345942</td>\n",
       "      <td>-6.276010</td>\n",
       "      <td>64</td>\n",
       "      <td>Baggot St</td>\n",
       "      <td>23095.773810</td>\n",
       "    </tr>\n",
       "    <tr>\n",
       "      <th>921304</th>\n",
       "      <td>9986.2901.0-39-b12-1.242.I</td>\n",
       "      <td>23:49:55</td>\n",
       "      <td>23:49:55</td>\n",
       "      <td>8220DB001478</td>\n",
       "      <td>Chancery Place</td>\n",
       "      <td>Inns Quay</td>\n",
       "      <td>53.345646</td>\n",
       "      <td>-6.272928</td>\n",
       "      <td>65</td>\n",
       "      <td>Baggot St</td>\n",
       "      <td>23304.661990</td>\n",
       "    </tr>\n",
       "    <tr>\n",
       "      <th>921305</th>\n",
       "      <td>9986.2901.0-39-b12-1.242.I</td>\n",
       "      <td>23:50:57</td>\n",
       "      <td>23:50:57</td>\n",
       "      <td>8220DB001479</td>\n",
       "      <td>Capel Street</td>\n",
       "      <td>Uppr Ormond Quay</td>\n",
       "      <td>53.345916</td>\n",
       "      <td>-6.269237</td>\n",
       "      <td>66</td>\n",
       "      <td>Baggot St</td>\n",
       "      <td>23554.277460</td>\n",
       "    </tr>\n",
       "    <tr>\n",
       "      <th>921306</th>\n",
       "      <td>9986.2901.0-39-b12-1.242.I</td>\n",
       "      <td>23:53:00</td>\n",
       "      <td>23:53:00</td>\n",
       "      <td>8220DB000313</td>\n",
       "      <td>Lower Liffey Street</td>\n",
       "      <td>Bachelors Walk</td>\n",
       "      <td>53.346898</td>\n",
       "      <td>-6.261958</td>\n",
       "      <td>67</td>\n",
       "      <td>Baggot St</td>\n",
       "      <td>24054.926500</td>\n",
       "    </tr>\n",
       "    <tr>\n",
       "      <th>921307</th>\n",
       "      <td>9986.2901.0-39-b12-1.242.I</td>\n",
       "      <td>23:57:00</td>\n",
       "      <td>23:57:00</td>\n",
       "      <td>8220DB000349</td>\n",
       "      <td>Trinity College</td>\n",
       "      <td>College Street</td>\n",
       "      <td>53.345297</td>\n",
       "      <td>-6.258193</td>\n",
       "      <td>68</td>\n",
       "      <td>Baggot St</td>\n",
       "      <td>24576.439440</td>\n",
       "    </tr>\n",
       "    <tr>\n",
       "      <th>921308</th>\n",
       "      <td>9986.2901.0-39-b12-1.242.I</td>\n",
       "      <td>23:59:42</td>\n",
       "      <td>23:59:42</td>\n",
       "      <td>8220DB000404</td>\n",
       "      <td>South Frederick Street</td>\n",
       "      <td>Nassau Street</td>\n",
       "      <td>53.342718</td>\n",
       "      <td>-6.256406</td>\n",
       "      <td>69</td>\n",
       "      <td>Baggot St</td>\n",
       "      <td>25042.833930</td>\n",
       "    </tr>\n",
       "    <tr>\n",
       "      <th>921309</th>\n",
       "      <td>9986.2901.0-39-b12-1.242.I</td>\n",
       "      <td>24:02:00</td>\n",
       "      <td>24:02:00</td>\n",
       "      <td>8220DB000747</td>\n",
       "      <td>Natural History Museum</td>\n",
       "      <td>Kildare Street</td>\n",
       "      <td>53.339930</td>\n",
       "      <td>-6.255694</td>\n",
       "      <td>70</td>\n",
       "      <td>Baggot St</td>\n",
       "      <td>25439.026340</td>\n",
       "    </tr>\n",
       "    <tr>\n",
       "      <th>921310</th>\n",
       "      <td>9986.2901.0-39-b12-1.242.I</td>\n",
       "      <td>24:04:15</td>\n",
       "      <td>24:04:15</td>\n",
       "      <td>8220DB000748</td>\n",
       "      <td>Huguenot Cemetery</td>\n",
       "      <td>Merrion Row</td>\n",
       "      <td>53.338509</td>\n",
       "      <td>-6.255001</td>\n",
       "      <td>71</td>\n",
       "      <td>Baggot St</td>\n",
       "      <td>25686.518470</td>\n",
       "    </tr>\n",
       "    <tr>\n",
       "      <th>921311</th>\n",
       "      <td>9986.2901.0-39-b12-1.242.I</td>\n",
       "      <td>24:07:00</td>\n",
       "      <td>24:07:00</td>\n",
       "      <td>8220DB000749</td>\n",
       "      <td>Pembroke Street</td>\n",
       "      <td>Baggot St</td>\n",
       "      <td>53.337620</td>\n",
       "      <td>-6.250787</td>\n",
       "      <td>72</td>\n",
       "      <td>Baggot St</td>\n",
       "      <td>25985.371280</td>\n",
       "    </tr>\n",
       "    <tr>\n",
       "      <th>921312</th>\n",
       "      <td>9986.2901.0-39-b12-1.242.I</td>\n",
       "      <td>24:07:37</td>\n",
       "      <td>24:07:37</td>\n",
       "      <td>8220DB000750</td>\n",
       "      <td>Fitzwilliam Street</td>\n",
       "      <td>Baggot St</td>\n",
       "      <td>53.336571</td>\n",
       "      <td>-6.248472</td>\n",
       "      <td>73</td>\n",
       "      <td>Baggot St</td>\n",
       "      <td>26176.330580</td>\n",
       "    </tr>\n",
       "    <tr>\n",
       "      <th>921313</th>\n",
       "      <td>9986.2901.0-39-b12-1.242.I</td>\n",
       "      <td>24:08:14</td>\n",
       "      <td>24:08:14</td>\n",
       "      <td>8220DB000751</td>\n",
       "      <td>Herbert Street</td>\n",
       "      <td>Baggot St</td>\n",
       "      <td>53.335320</td>\n",
       "      <td>-6.246557</td>\n",
       "      <td>74</td>\n",
       "      <td>Baggot St</td>\n",
       "      <td>26363.054980</td>\n",
       "    </tr>\n",
       "    <tr>\n",
       "      <th>921314</th>\n",
       "      <td>9986.2901.0-39-b12-1.242.I</td>\n",
       "      <td>24:09:00</td>\n",
       "      <td>24:09:00</td>\n",
       "      <td>8220DB000752</td>\n",
       "      <td>Pembroke Row</td>\n",
       "      <td>Baggot St</td>\n",
       "      <td>53.333671</td>\n",
       "      <td>-6.244447</td>\n",
       "      <td>75</td>\n",
       "      <td>Baggot St</td>\n",
       "      <td>26598.448680</td>\n",
       "    </tr>\n",
       "    <tr>\n",
       "      <th>921315</th>\n",
       "      <td>9986.2901.0-39-b12-1.242.I</td>\n",
       "      <td>24:09:19</td>\n",
       "      <td>24:09:19</td>\n",
       "      <td>8220DB000753</td>\n",
       "      <td>Wellington Lane</td>\n",
       "      <td>Waterloo Road</td>\n",
       "      <td>53.332497</td>\n",
       "      <td>-6.243459</td>\n",
       "      <td>76</td>\n",
       "      <td>Baggot St</td>\n",
       "      <td>26770.082270</td>\n",
       "    </tr>\n",
       "    <tr>\n",
       "      <th>921316</th>\n",
       "      <td>9986.2901.0-39-b12-1.242.I</td>\n",
       "      <td>24:10:00</td>\n",
       "      <td>24:10:00</td>\n",
       "      <td>8220DB007339</td>\n",
       "      <td>Mespil Road</td>\n",
       "      <td>Burlington Road</td>\n",
       "      <td>53.332408</td>\n",
       "      <td>-6.246541</td>\n",
       "      <td>77</td>\n",
       "      <td>Baggot St</td>\n",
       "      <td>27137.748770</td>\n",
       "    </tr>\n",
       "    <tr>\n",
       "      <th>921317</th>\n",
       "      <td>9987.2892.0-39-b12-1.242.I</td>\n",
       "      <td>07:15:00</td>\n",
       "      <td>07:15:00</td>\n",
       "      <td>8240DB007157</td>\n",
       "      <td>Hansfield Road</td>\n",
       "      <td>Ongar Road</td>\n",
       "      <td>53.391120</td>\n",
       "      <td>-6.433486</td>\n",
       "      <td>1</td>\n",
       "      <td>Baggot St</td>\n",
       "      <td>0.000000</td>\n",
       "    </tr>\n",
       "    <tr>\n",
       "      <th>921318</th>\n",
       "      <td>9987.2892.0-39-b12-1.242.I</td>\n",
       "      <td>07:15:34</td>\n",
       "      <td>07:15:34</td>\n",
       "      <td>8240DB007158</td>\n",
       "      <td>Delhurst</td>\n",
       "      <td>Ongar</td>\n",
       "      <td>53.391919</td>\n",
       "      <td>-6.438208</td>\n",
       "      <td>2</td>\n",
       "      <td>Baggot St</td>\n",
       "      <td>328.040253</td>\n",
       "    </tr>\n",
       "    <tr>\n",
       "      <th>921319</th>\n",
       "      <td>9987.2892.0-39-b12-1.242.I</td>\n",
       "      <td>07:16:09</td>\n",
       "      <td>07:16:09</td>\n",
       "      <td>8240DB007048</td>\n",
       "      <td>Ongar Green</td>\n",
       "      <td>Ongar</td>\n",
       "      <td>53.393011</td>\n",
       "      <td>-6.442679</td>\n",
       "      <td>3</td>\n",
       "      <td>Baggot St</td>\n",
       "      <td>673.647729</td>\n",
       "    </tr>\n",
       "    <tr>\n",
       "      <th>921320</th>\n",
       "      <td>9987.2892.0-39-b12-1.242.I</td>\n",
       "      <td>07:17:08</td>\n",
       "      <td>07:17:08</td>\n",
       "      <td>8240DB007159</td>\n",
       "      <td>Ongar Village</td>\n",
       "      <td>Ongar</td>\n",
       "      <td>53.396598</td>\n",
       "      <td>-6.442729</td>\n",
       "      <td>4</td>\n",
       "      <td>Baggot St</td>\n",
       "      <td>1254.598319</td>\n",
       "    </tr>\n",
       "    <tr>\n",
       "      <th>921321</th>\n",
       "      <td>9987.2892.0-39-b12-1.242.I</td>\n",
       "      <td>07:17:24</td>\n",
       "      <td>07:17:24</td>\n",
       "      <td>8240DB007388</td>\n",
       "      <td>Blackwood</td>\n",
       "      <td>Ongar</td>\n",
       "      <td>53.397986</td>\n",
       "      <td>-6.442332</td>\n",
       "      <td>5</td>\n",
       "      <td>Baggot St</td>\n",
       "      <td>1409.956837</td>\n",
       "    </tr>\n",
       "    <tr>\n",
       "      <th>921322</th>\n",
       "      <td>9987.2892.0-39-b12-1.242.I</td>\n",
       "      <td>07:18:49</td>\n",
       "      <td>07:18:49</td>\n",
       "      <td>8240DB007017</td>\n",
       "      <td>Hazelbury Green</td>\n",
       "      <td>Ongar Road</td>\n",
       "      <td>53.401624</td>\n",
       "      <td>-6.435266</td>\n",
       "      <td>6</td>\n",
       "      <td>Baggot St</td>\n",
       "      <td>2244.880468</td>\n",
       "    </tr>\n",
       "    <tr>\n",
       "      <th>...</th>\n",
       "      <td>...</td>\n",
       "      <td>...</td>\n",
       "      <td>...</td>\n",
       "      <td>...</td>\n",
       "      <td>...</td>\n",
       "      <td>...</td>\n",
       "      <td>...</td>\n",
       "      <td>...</td>\n",
       "      <td>...</td>\n",
       "      <td>...</td>\n",
       "      <td>...</td>\n",
       "    </tr>\n",
       "    <tr>\n",
       "      <th>922263</th>\n",
       "      <td>9999.2936.0-39-b12-1.241.O</td>\n",
       "      <td>10:31:06</td>\n",
       "      <td>10:31:06</td>\n",
       "      <td>8240DB007025</td>\n",
       "      <td>Blanchardstown</td>\n",
       "      <td>Blanchardstown</td>\n",
       "      <td>53.393992</td>\n",
       "      <td>-6.391910</td>\n",
       "      <td>39</td>\n",
       "      <td>Ongar</td>\n",
       "      <td>17013.321700</td>\n",
       "    </tr>\n",
       "    <tr>\n",
       "      <th>922264</th>\n",
       "      <td>9999.2936.0-39-b12-1.241.O</td>\n",
       "      <td>10:32:23</td>\n",
       "      <td>10:32:23</td>\n",
       "      <td>8240DB004464</td>\n",
       "      <td>Sheepmoor Grove</td>\n",
       "      <td>Blakestown Way</td>\n",
       "      <td>53.394016</td>\n",
       "      <td>-6.399067</td>\n",
       "      <td>40</td>\n",
       "      <td>Ongar</td>\n",
       "      <td>17592.888660</td>\n",
       "    </tr>\n",
       "    <tr>\n",
       "      <th>922265</th>\n",
       "      <td>9999.2936.0-39-b12-1.241.O</td>\n",
       "      <td>10:32:58</td>\n",
       "      <td>10:32:58</td>\n",
       "      <td>8240DB001869</td>\n",
       "      <td>Sheepmoor Avenue</td>\n",
       "      <td>Blakestown Way</td>\n",
       "      <td>53.396248</td>\n",
       "      <td>-6.399961</td>\n",
       "      <td>41</td>\n",
       "      <td>Ongar</td>\n",
       "      <td>17853.472370</td>\n",
       "    </tr>\n",
       "    <tr>\n",
       "      <th>922266</th>\n",
       "      <td>9999.2936.0-39-b12-1.241.O</td>\n",
       "      <td>10:33:28</td>\n",
       "      <td>10:33:28</td>\n",
       "      <td>8240DB001870</td>\n",
       "      <td>National School</td>\n",
       "      <td>Whitestown Pk</td>\n",
       "      <td>53.398173</td>\n",
       "      <td>-6.399362</td>\n",
       "      <td>42</td>\n",
       "      <td>Ongar</td>\n",
       "      <td>18075.320280</td>\n",
       "    </tr>\n",
       "    <tr>\n",
       "      <th>922267</th>\n",
       "      <td>9999.2936.0-39-b12-1.241.O</td>\n",
       "      <td>10:34:05</td>\n",
       "      <td>10:34:05</td>\n",
       "      <td>8240DB001871</td>\n",
       "      <td>Briarwood</td>\n",
       "      <td>Huntstown Way</td>\n",
       "      <td>53.399650</td>\n",
       "      <td>-6.402284</td>\n",
       "      <td>43</td>\n",
       "      <td>Ongar</td>\n",
       "      <td>18359.209830</td>\n",
       "    </tr>\n",
       "    <tr>\n",
       "      <th>922268</th>\n",
       "      <td>9999.2936.0-39-b12-1.241.O</td>\n",
       "      <td>10:34:43</td>\n",
       "      <td>10:34:43</td>\n",
       "      <td>8240DB001872</td>\n",
       "      <td>Huntstown Road</td>\n",
       "      <td>Huntstown Way</td>\n",
       "      <td>53.400771</td>\n",
       "      <td>-6.406107</td>\n",
       "      <td>44</td>\n",
       "      <td>Ongar</td>\n",
       "      <td>18642.444390</td>\n",
       "    </tr>\n",
       "    <tr>\n",
       "      <th>922269</th>\n",
       "      <td>9999.2936.0-39-b12-1.241.O</td>\n",
       "      <td>10:35:27</td>\n",
       "      <td>10:35:27</td>\n",
       "      <td>8240DB001873</td>\n",
       "      <td>Huntstown Green</td>\n",
       "      <td>Huntstown Way</td>\n",
       "      <td>53.401706</td>\n",
       "      <td>-6.410208</td>\n",
       "      <td>45</td>\n",
       "      <td>Ongar</td>\n",
       "      <td>18965.056260</td>\n",
       "    </tr>\n",
       "    <tr>\n",
       "      <th>922270</th>\n",
       "      <td>9999.2936.0-39-b12-1.241.O</td>\n",
       "      <td>10:36:06</td>\n",
       "      <td>10:36:06</td>\n",
       "      <td>8240DB001874</td>\n",
       "      <td>Huntstown Court</td>\n",
       "      <td>Huntstown Way</td>\n",
       "      <td>53.400223</td>\n",
       "      <td>-6.413557</td>\n",
       "      <td>46</td>\n",
       "      <td>Ongar</td>\n",
       "      <td>19259.893860</td>\n",
       "    </tr>\n",
       "    <tr>\n",
       "      <th>922271</th>\n",
       "      <td>9999.2936.0-39-b12-1.241.O</td>\n",
       "      <td>10:36:39</td>\n",
       "      <td>10:36:39</td>\n",
       "      <td>8240DB001875</td>\n",
       "      <td>Pinebrook</td>\n",
       "      <td>Huntstown Way</td>\n",
       "      <td>53.398267</td>\n",
       "      <td>-6.415163</td>\n",
       "      <td>47</td>\n",
       "      <td>Ongar</td>\n",
       "      <td>19501.482350</td>\n",
       "    </tr>\n",
       "    <tr>\n",
       "      <th>922272</th>\n",
       "      <td>9999.2936.0-39-b12-1.241.O</td>\n",
       "      <td>10:37:12</td>\n",
       "      <td>10:37:12</td>\n",
       "      <td>8240DB001876</td>\n",
       "      <td>Cherryfield Park</td>\n",
       "      <td>Hartstown Rd</td>\n",
       "      <td>53.396419</td>\n",
       "      <td>-6.416811</td>\n",
       "      <td>48</td>\n",
       "      <td>Ongar</td>\n",
       "      <td>19748.088740</td>\n",
       "    </tr>\n",
       "    <tr>\n",
       "      <th>922273</th>\n",
       "      <td>9999.2936.0-39-b12-1.241.O</td>\n",
       "      <td>10:38:00</td>\n",
       "      <td>10:38:00</td>\n",
       "      <td>8240DB001877</td>\n",
       "      <td>Hazelwood</td>\n",
       "      <td>Hartstown Rd</td>\n",
       "      <td>53.393387</td>\n",
       "      <td>-6.418593</td>\n",
       "      <td>49</td>\n",
       "      <td>Ongar</td>\n",
       "      <td>20109.765850</td>\n",
       "    </tr>\n",
       "    <tr>\n",
       "      <th>922274</th>\n",
       "      <td>9999.2936.0-39-b12-1.241.O</td>\n",
       "      <td>10:38:39</td>\n",
       "      <td>10:38:39</td>\n",
       "      <td>8240DB001878</td>\n",
       "      <td>Oakview</td>\n",
       "      <td>Hartstown Rd</td>\n",
       "      <td>53.391126</td>\n",
       "      <td>-6.415504</td>\n",
       "      <td>50</td>\n",
       "      <td>Ongar</td>\n",
       "      <td>20486.184880</td>\n",
       "    </tr>\n",
       "    <tr>\n",
       "      <th>922275</th>\n",
       "      <td>9999.2936.0-39-b12-1.241.O</td>\n",
       "      <td>10:39:22</td>\n",
       "      <td>10:39:22</td>\n",
       "      <td>8240DB001879</td>\n",
       "      <td>Blakestown Cross</td>\n",
       "      <td>Hartstown Rd</td>\n",
       "      <td>53.391153</td>\n",
       "      <td>-6.409414</td>\n",
       "      <td>51</td>\n",
       "      <td>Ongar</td>\n",
       "      <td>20899.377130</td>\n",
       "    </tr>\n",
       "    <tr>\n",
       "      <th>922276</th>\n",
       "      <td>9999.2936.0-39-b12-1.241.O</td>\n",
       "      <td>10:40:08</td>\n",
       "      <td>10:40:08</td>\n",
       "      <td>8240DB001899</td>\n",
       "      <td>Lohunda Road</td>\n",
       "      <td>Shelerin Road</td>\n",
       "      <td>53.387764</td>\n",
       "      <td>-6.409405</td>\n",
       "      <td>52</td>\n",
       "      <td>Ongar</td>\n",
       "      <td>21330.783010</td>\n",
       "    </tr>\n",
       "    <tr>\n",
       "      <th>922277</th>\n",
       "      <td>9999.2936.0-39-b12-1.241.O</td>\n",
       "      <td>10:41:13</td>\n",
       "      <td>10:41:13</td>\n",
       "      <td>8240DB001887</td>\n",
       "      <td>Shelerin Road</td>\n",
       "      <td>Clonsilla Rd</td>\n",
       "      <td>53.382997</td>\n",
       "      <td>-6.410454</td>\n",
       "      <td>53</td>\n",
       "      <td>Ongar</td>\n",
       "      <td>21949.458590</td>\n",
       "    </tr>\n",
       "    <tr>\n",
       "      <th>922278</th>\n",
       "      <td>9999.2936.0-39-b12-1.241.O</td>\n",
       "      <td>10:41:26</td>\n",
       "      <td>10:41:26</td>\n",
       "      <td>8240DB001888</td>\n",
       "      <td>Lambourne</td>\n",
       "      <td>Clonsilla Rd</td>\n",
       "      <td>53.383173</td>\n",
       "      <td>-6.412236</td>\n",
       "      <td>54</td>\n",
       "      <td>Ongar</td>\n",
       "      <td>22069.400240</td>\n",
       "    </tr>\n",
       "    <tr>\n",
       "      <th>922279</th>\n",
       "      <td>9999.2936.0-39-b12-1.241.O</td>\n",
       "      <td>10:42:00</td>\n",
       "      <td>10:42:00</td>\n",
       "      <td>8240DB001889</td>\n",
       "      <td>Funeral Home</td>\n",
       "      <td>Clonsilla Rd</td>\n",
       "      <td>53.383416</td>\n",
       "      <td>-6.417023</td>\n",
       "      <td>55</td>\n",
       "      <td>Ongar</td>\n",
       "      <td>22390.443750</td>\n",
       "    </tr>\n",
       "    <tr>\n",
       "      <th>922280</th>\n",
       "      <td>9999.2936.0-39-b12-1.241.O</td>\n",
       "      <td>10:42:36</td>\n",
       "      <td>10:42:36</td>\n",
       "      <td>8240DB001890</td>\n",
       "      <td>Clonsilla Railway Station</td>\n",
       "      <td>Clonsilla Road</td>\n",
       "      <td>53.383556</td>\n",
       "      <td>-6.422099</td>\n",
       "      <td>56</td>\n",
       "      <td>Ongar</td>\n",
       "      <td>22730.669160</td>\n",
       "    </tr>\n",
       "    <tr>\n",
       "      <th>922281</th>\n",
       "      <td>9999.2936.0-39-b12-1.241.O</td>\n",
       "      <td>10:42:46</td>\n",
       "      <td>10:42:46</td>\n",
       "      <td>8240DB007240</td>\n",
       "      <td>Clonsilla Station</td>\n",
       "      <td>Hansfield Road</td>\n",
       "      <td>53.383430</td>\n",
       "      <td>-6.423486</td>\n",
       "      <td>57</td>\n",
       "      <td>Ongar</td>\n",
       "      <td>22828.427610</td>\n",
       "    </tr>\n",
       "    <tr>\n",
       "      <th>922282</th>\n",
       "      <td>9999.2936.0-39-b12-1.241.O</td>\n",
       "      <td>10:43:59</td>\n",
       "      <td>10:43:59</td>\n",
       "      <td>8240DB001891</td>\n",
       "      <td>St. Joseph's Hospital</td>\n",
       "      <td>Clonsilla</td>\n",
       "      <td>53.387278</td>\n",
       "      <td>-6.429719</td>\n",
       "      <td>58</td>\n",
       "      <td>Ongar</td>\n",
       "      <td>23525.328540</td>\n",
       "    </tr>\n",
       "    <tr>\n",
       "      <th>922283</th>\n",
       "      <td>9999.2936.0-39-b12-1.241.O</td>\n",
       "      <td>10:44:19</td>\n",
       "      <td>10:44:19</td>\n",
       "      <td>8240DB007156</td>\n",
       "      <td>Ongar Road</td>\n",
       "      <td>Grange Road</td>\n",
       "      <td>53.388907</td>\n",
       "      <td>-6.430546</td>\n",
       "      <td>59</td>\n",
       "      <td>Ongar</td>\n",
       "      <td>23715.027530</td>\n",
       "    </tr>\n",
       "    <tr>\n",
       "      <th>922284</th>\n",
       "      <td>9999.2936.0-39-b12-1.241.O</td>\n",
       "      <td>10:45:29</td>\n",
       "      <td>10:45:29</td>\n",
       "      <td>8240DB007020</td>\n",
       "      <td>Latchford Park</td>\n",
       "      <td>Ongar Road</td>\n",
       "      <td>53.394163</td>\n",
       "      <td>-6.431134</td>\n",
       "      <td>60</td>\n",
       "      <td>Ongar</td>\n",
       "      <td>24388.747290</td>\n",
       "    </tr>\n",
       "    <tr>\n",
       "      <th>922285</th>\n",
       "      <td>9999.2936.0-39-b12-1.241.O</td>\n",
       "      <td>10:45:50</td>\n",
       "      <td>10:45:50</td>\n",
       "      <td>8240DB007029</td>\n",
       "      <td>Ravenwood Road</td>\n",
       "      <td>Ongar Road</td>\n",
       "      <td>53.395662</td>\n",
       "      <td>-6.429560</td>\n",
       "      <td>61</td>\n",
       "      <td>Ongar</td>\n",
       "      <td>24588.107320</td>\n",
       "    </tr>\n",
       "    <tr>\n",
       "      <th>922286</th>\n",
       "      <td>9999.2936.0-39-b12-1.241.O</td>\n",
       "      <td>10:46:28</td>\n",
       "      <td>10:46:28</td>\n",
       "      <td>8240DB007038</td>\n",
       "      <td>Castlegrange</td>\n",
       "      <td>Ongar Road</td>\n",
       "      <td>53.398270</td>\n",
       "      <td>-6.431058</td>\n",
       "      <td>62</td>\n",
       "      <td>Ongar</td>\n",
       "      <td>24955.375840</td>\n",
       "    </tr>\n",
       "    <tr>\n",
       "      <th>922287</th>\n",
       "      <td>9999.2936.0-39-b12-1.241.O</td>\n",
       "      <td>10:47:21</td>\n",
       "      <td>10:47:21</td>\n",
       "      <td>8240DB007011</td>\n",
       "      <td>Hazelbury Green</td>\n",
       "      <td>Ongar Road</td>\n",
       "      <td>53.401859</td>\n",
       "      <td>-6.435378</td>\n",
       "      <td>63</td>\n",
       "      <td>Ongar</td>\n",
       "      <td>25470.191070</td>\n",
       "    </tr>\n",
       "    <tr>\n",
       "      <th>922288</th>\n",
       "      <td>9999.2936.0-39-b12-1.241.O</td>\n",
       "      <td>10:48:38</td>\n",
       "      <td>10:48:38</td>\n",
       "      <td>8240DB002171</td>\n",
       "      <td>Lilys Way</td>\n",
       "      <td>Ongar</td>\n",
       "      <td>53.397920</td>\n",
       "      <td>-6.442124</td>\n",
       "      <td>64</td>\n",
       "      <td>Ongar</td>\n",
       "      <td>26208.859720</td>\n",
       "    </tr>\n",
       "    <tr>\n",
       "      <th>922289</th>\n",
       "      <td>9999.2936.0-39-b12-1.241.O</td>\n",
       "      <td>10:48:54</td>\n",
       "      <td>10:48:54</td>\n",
       "      <td>8240DB007160</td>\n",
       "      <td>Village</td>\n",
       "      <td>Ongar</td>\n",
       "      <td>53.396577</td>\n",
       "      <td>-6.442519</td>\n",
       "      <td>65</td>\n",
       "      <td>Ongar</td>\n",
       "      <td>26360.282030</td>\n",
       "    </tr>\n",
       "    <tr>\n",
       "      <th>922290</th>\n",
       "      <td>9999.2936.0-39-b12-1.241.O</td>\n",
       "      <td>10:49:48</td>\n",
       "      <td>10:49:48</td>\n",
       "      <td>8240DB007047</td>\n",
       "      <td>Ongar Green</td>\n",
       "      <td>Ongar</td>\n",
       "      <td>53.393118</td>\n",
       "      <td>-6.442600</td>\n",
       "      <td>66</td>\n",
       "      <td>Ongar</td>\n",
       "      <td>26873.283540</td>\n",
       "    </tr>\n",
       "    <tr>\n",
       "      <th>922291</th>\n",
       "      <td>9999.2936.0-39-b12-1.241.O</td>\n",
       "      <td>10:50:24</td>\n",
       "      <td>10:50:24</td>\n",
       "      <td>8240DB007161</td>\n",
       "      <td>Delhurst</td>\n",
       "      <td>Ongar</td>\n",
       "      <td>53.392054</td>\n",
       "      <td>-6.438158</td>\n",
       "      <td>67</td>\n",
       "      <td>Ongar</td>\n",
       "      <td>27214.722000</td>\n",
       "    </tr>\n",
       "    <tr>\n",
       "      <th>922292</th>\n",
       "      <td>9999.2936.0-39-b12-1.241.O</td>\n",
       "      <td>10:51:00</td>\n",
       "      <td>10:51:00</td>\n",
       "      <td>8240DB007162</td>\n",
       "      <td>Hansfield Road</td>\n",
       "      <td>Ongar</td>\n",
       "      <td>53.391281</td>\n",
       "      <td>-6.433390</td>\n",
       "      <td>68</td>\n",
       "      <td>Ongar</td>\n",
       "      <td>27546.817410</td>\n",
       "    </tr>\n",
       "  </tbody>\n",
       "</table>\n",
       "<p>1000 rows × 11 columns</p>\n",
       "</div>"
      ],
      "text/plain": [
       "                           trip_id arrival_time departure_time       stop_id  \\\n",
       "921293  9986.2901.0-39-b12-1.242.I     23:39:26       23:39:26  8220DB001702   \n",
       "921294  9986.2901.0-39-b12-1.242.I     23:40:00       23:40:00  8220DB001703   \n",
       "921295  9986.2901.0-39-b12-1.242.I     23:41:00       23:41:00  8220DB001905   \n",
       "921296  9986.2901.0-39-b12-1.242.I     23:42:00       23:42:00  8220DB001906   \n",
       "921297  9986.2901.0-39-b12-1.242.I     23:43:00       23:43:00  8220DB001907   \n",
       "921298  9986.2901.0-39-b12-1.242.I     23:43:27       23:43:27  8220DB001908   \n",
       "921299  9986.2901.0-39-b12-1.242.I     23:44:00       23:44:00  8220DB001909   \n",
       "921300  9986.2901.0-39-b12-1.242.I     23:45:00       23:45:00  8220DB001713   \n",
       "921301  9986.2901.0-39-b12-1.242.I     23:45:39       23:45:39  8220DB001714   \n",
       "921302  9986.2901.0-39-b12-1.242.I     23:46:55       23:46:55  8220DB001715   \n",
       "921303  9986.2901.0-39-b12-1.242.I     23:49:00       23:49:00  8220DB001477   \n",
       "921304  9986.2901.0-39-b12-1.242.I     23:49:55       23:49:55  8220DB001478   \n",
       "921305  9986.2901.0-39-b12-1.242.I     23:50:57       23:50:57  8220DB001479   \n",
       "921306  9986.2901.0-39-b12-1.242.I     23:53:00       23:53:00  8220DB000313   \n",
       "921307  9986.2901.0-39-b12-1.242.I     23:57:00       23:57:00  8220DB000349   \n",
       "921308  9986.2901.0-39-b12-1.242.I     23:59:42       23:59:42  8220DB000404   \n",
       "921309  9986.2901.0-39-b12-1.242.I     24:02:00       24:02:00  8220DB000747   \n",
       "921310  9986.2901.0-39-b12-1.242.I     24:04:15       24:04:15  8220DB000748   \n",
       "921311  9986.2901.0-39-b12-1.242.I     24:07:00       24:07:00  8220DB000749   \n",
       "921312  9986.2901.0-39-b12-1.242.I     24:07:37       24:07:37  8220DB000750   \n",
       "921313  9986.2901.0-39-b12-1.242.I     24:08:14       24:08:14  8220DB000751   \n",
       "921314  9986.2901.0-39-b12-1.242.I     24:09:00       24:09:00  8220DB000752   \n",
       "921315  9986.2901.0-39-b12-1.242.I     24:09:19       24:09:19  8220DB000753   \n",
       "921316  9986.2901.0-39-b12-1.242.I     24:10:00       24:10:00  8220DB007339   \n",
       "921317  9987.2892.0-39-b12-1.242.I     07:15:00       07:15:00  8240DB007157   \n",
       "921318  9987.2892.0-39-b12-1.242.I     07:15:34       07:15:34  8240DB007158   \n",
       "921319  9987.2892.0-39-b12-1.242.I     07:16:09       07:16:09  8240DB007048   \n",
       "921320  9987.2892.0-39-b12-1.242.I     07:17:08       07:17:08  8240DB007159   \n",
       "921321  9987.2892.0-39-b12-1.242.I     07:17:24       07:17:24  8240DB007388   \n",
       "921322  9987.2892.0-39-b12-1.242.I     07:18:49       07:18:49  8240DB007017   \n",
       "...                            ...          ...            ...           ...   \n",
       "922263  9999.2936.0-39-b12-1.241.O     10:31:06       10:31:06  8240DB007025   \n",
       "922264  9999.2936.0-39-b12-1.241.O     10:32:23       10:32:23  8240DB004464   \n",
       "922265  9999.2936.0-39-b12-1.241.O     10:32:58       10:32:58  8240DB001869   \n",
       "922266  9999.2936.0-39-b12-1.241.O     10:33:28       10:33:28  8240DB001870   \n",
       "922267  9999.2936.0-39-b12-1.241.O     10:34:05       10:34:05  8240DB001871   \n",
       "922268  9999.2936.0-39-b12-1.241.O     10:34:43       10:34:43  8240DB001872   \n",
       "922269  9999.2936.0-39-b12-1.241.O     10:35:27       10:35:27  8240DB001873   \n",
       "922270  9999.2936.0-39-b12-1.241.O     10:36:06       10:36:06  8240DB001874   \n",
       "922271  9999.2936.0-39-b12-1.241.O     10:36:39       10:36:39  8240DB001875   \n",
       "922272  9999.2936.0-39-b12-1.241.O     10:37:12       10:37:12  8240DB001876   \n",
       "922273  9999.2936.0-39-b12-1.241.O     10:38:00       10:38:00  8240DB001877   \n",
       "922274  9999.2936.0-39-b12-1.241.O     10:38:39       10:38:39  8240DB001878   \n",
       "922275  9999.2936.0-39-b12-1.241.O     10:39:22       10:39:22  8240DB001879   \n",
       "922276  9999.2936.0-39-b12-1.241.O     10:40:08       10:40:08  8240DB001899   \n",
       "922277  9999.2936.0-39-b12-1.241.O     10:41:13       10:41:13  8240DB001887   \n",
       "922278  9999.2936.0-39-b12-1.241.O     10:41:26       10:41:26  8240DB001888   \n",
       "922279  9999.2936.0-39-b12-1.241.O     10:42:00       10:42:00  8240DB001889   \n",
       "922280  9999.2936.0-39-b12-1.241.O     10:42:36       10:42:36  8240DB001890   \n",
       "922281  9999.2936.0-39-b12-1.241.O     10:42:46       10:42:46  8240DB007240   \n",
       "922282  9999.2936.0-39-b12-1.241.O     10:43:59       10:43:59  8240DB001891   \n",
       "922283  9999.2936.0-39-b12-1.241.O     10:44:19       10:44:19  8240DB007156   \n",
       "922284  9999.2936.0-39-b12-1.241.O     10:45:29       10:45:29  8240DB007020   \n",
       "922285  9999.2936.0-39-b12-1.241.O     10:45:50       10:45:50  8240DB007029   \n",
       "922286  9999.2936.0-39-b12-1.241.O     10:46:28       10:46:28  8240DB007038   \n",
       "922287  9999.2936.0-39-b12-1.241.O     10:47:21       10:47:21  8240DB007011   \n",
       "922288  9999.2936.0-39-b12-1.241.O     10:48:38       10:48:38  8240DB002171   \n",
       "922289  9999.2936.0-39-b12-1.241.O     10:48:54       10:48:54  8240DB007160   \n",
       "922290  9999.2936.0-39-b12-1.241.O     10:49:48       10:49:48  8240DB007047   \n",
       "922291  9999.2936.0-39-b12-1.241.O     10:50:24       10:50:24  8240DB007161   \n",
       "922292  9999.2936.0-39-b12-1.241.O     10:51:00       10:51:00  8240DB007162   \n",
       "\n",
       "            Name without locality              Name        Lat      Long  \\\n",
       "921293                Nephin Road        Navan Road  53.365621 -6.310213   \n",
       "921294                Nephin Road        Navan Road  53.364717 -6.307334   \n",
       "921295              Hampton Green        Navan Road  53.363281 -6.303003   \n",
       "921296                     Dunard      Old Cabra Rd  53.361201 -6.297061   \n",
       "921297             Glenbeigh Road      Old Cabra Rd  53.359905 -6.293807   \n",
       "921298                Cabra Drive      Old Cabra Rd  53.358682 -6.291241   \n",
       "921299                   Drumalee    Prussia Street  53.356890 -6.288504   \n",
       "921300    Stanhope Street Convent      Manor Street  53.351908 -6.283310   \n",
       "921301           Brunswick Street      Stoneybatter  53.350638 -6.281874   \n",
       "921302           Blackhall Street   Blackhall Place  53.347712 -6.282172   \n",
       "921303              Church Street        Arran Quay  53.345942 -6.276010   \n",
       "921304             Chancery Place         Inns Quay  53.345646 -6.272928   \n",
       "921305               Capel Street  Uppr Ormond Quay  53.345916 -6.269237   \n",
       "921306        Lower Liffey Street    Bachelors Walk  53.346898 -6.261958   \n",
       "921307            Trinity College    College Street  53.345297 -6.258193   \n",
       "921308     South Frederick Street     Nassau Street  53.342718 -6.256406   \n",
       "921309     Natural History Museum    Kildare Street  53.339930 -6.255694   \n",
       "921310          Huguenot Cemetery       Merrion Row  53.338509 -6.255001   \n",
       "921311            Pembroke Street         Baggot St  53.337620 -6.250787   \n",
       "921312         Fitzwilliam Street         Baggot St  53.336571 -6.248472   \n",
       "921313             Herbert Street         Baggot St  53.335320 -6.246557   \n",
       "921314               Pembroke Row         Baggot St  53.333671 -6.244447   \n",
       "921315            Wellington Lane     Waterloo Road  53.332497 -6.243459   \n",
       "921316                Mespil Road   Burlington Road  53.332408 -6.246541   \n",
       "921317             Hansfield Road        Ongar Road  53.391120 -6.433486   \n",
       "921318                   Delhurst             Ongar  53.391919 -6.438208   \n",
       "921319                Ongar Green             Ongar  53.393011 -6.442679   \n",
       "921320              Ongar Village             Ongar  53.396598 -6.442729   \n",
       "921321                  Blackwood             Ongar  53.397986 -6.442332   \n",
       "921322            Hazelbury Green        Ongar Road  53.401624 -6.435266   \n",
       "...                           ...               ...        ...       ...   \n",
       "922263             Blanchardstown    Blanchardstown  53.393992 -6.391910   \n",
       "922264            Sheepmoor Grove    Blakestown Way  53.394016 -6.399067   \n",
       "922265           Sheepmoor Avenue    Blakestown Way  53.396248 -6.399961   \n",
       "922266            National School     Whitestown Pk  53.398173 -6.399362   \n",
       "922267                  Briarwood     Huntstown Way  53.399650 -6.402284   \n",
       "922268             Huntstown Road     Huntstown Way  53.400771 -6.406107   \n",
       "922269            Huntstown Green     Huntstown Way  53.401706 -6.410208   \n",
       "922270            Huntstown Court     Huntstown Way  53.400223 -6.413557   \n",
       "922271                  Pinebrook     Huntstown Way  53.398267 -6.415163   \n",
       "922272           Cherryfield Park      Hartstown Rd  53.396419 -6.416811   \n",
       "922273                  Hazelwood      Hartstown Rd  53.393387 -6.418593   \n",
       "922274                    Oakview      Hartstown Rd  53.391126 -6.415504   \n",
       "922275           Blakestown Cross      Hartstown Rd  53.391153 -6.409414   \n",
       "922276               Lohunda Road     Shelerin Road  53.387764 -6.409405   \n",
       "922277              Shelerin Road      Clonsilla Rd  53.382997 -6.410454   \n",
       "922278                  Lambourne      Clonsilla Rd  53.383173 -6.412236   \n",
       "922279               Funeral Home      Clonsilla Rd  53.383416 -6.417023   \n",
       "922280  Clonsilla Railway Station    Clonsilla Road  53.383556 -6.422099   \n",
       "922281          Clonsilla Station    Hansfield Road  53.383430 -6.423486   \n",
       "922282      St. Joseph's Hospital         Clonsilla  53.387278 -6.429719   \n",
       "922283                 Ongar Road       Grange Road  53.388907 -6.430546   \n",
       "922284             Latchford Park        Ongar Road  53.394163 -6.431134   \n",
       "922285             Ravenwood Road        Ongar Road  53.395662 -6.429560   \n",
       "922286               Castlegrange        Ongar Road  53.398270 -6.431058   \n",
       "922287            Hazelbury Green        Ongar Road  53.401859 -6.435378   \n",
       "922288                  Lilys Way             Ongar  53.397920 -6.442124   \n",
       "922289                    Village             Ongar  53.396577 -6.442519   \n",
       "922290                Ongar Green             Ongar  53.393118 -6.442600   \n",
       "922291                   Delhurst             Ongar  53.392054 -6.438158   \n",
       "922292             Hansfield Road             Ongar  53.391281 -6.433390   \n",
       "\n",
       "        stop_sequence stop_headsign  shape_dist_traveled  \n",
       "921293             54     Baggot St         19629.936770  \n",
       "921294             55     Baggot St         19847.305120  \n",
       "921295             56     Baggot St         20175.174550  \n",
       "921296             57     Baggot St         20642.466700  \n",
       "921297             58     Baggot St         20902.098670  \n",
       "921298             59     Baggot St         21121.340750  \n",
       "921299             60     Baggot St         21393.334270  \n",
       "921300             61     Baggot St         22054.530400  \n",
       "921301             62     Baggot St         22227.051460  \n",
       "921302             63     Baggot St         22550.645330  \n",
       "921303             64     Baggot St         23095.773810  \n",
       "921304             65     Baggot St         23304.661990  \n",
       "921305             66     Baggot St         23554.277460  \n",
       "921306             67     Baggot St         24054.926500  \n",
       "921307             68     Baggot St         24576.439440  \n",
       "921308             69     Baggot St         25042.833930  \n",
       "921309             70     Baggot St         25439.026340  \n",
       "921310             71     Baggot St         25686.518470  \n",
       "921311             72     Baggot St         25985.371280  \n",
       "921312             73     Baggot St         26176.330580  \n",
       "921313             74     Baggot St         26363.054980  \n",
       "921314             75     Baggot St         26598.448680  \n",
       "921315             76     Baggot St         26770.082270  \n",
       "921316             77     Baggot St         27137.748770  \n",
       "921317              1     Baggot St             0.000000  \n",
       "921318              2     Baggot St           328.040253  \n",
       "921319              3     Baggot St           673.647729  \n",
       "921320              4     Baggot St          1254.598319  \n",
       "921321              5     Baggot St          1409.956837  \n",
       "921322              6     Baggot St          2244.880468  \n",
       "...               ...           ...                  ...  \n",
       "922263             39         Ongar         17013.321700  \n",
       "922264             40         Ongar         17592.888660  \n",
       "922265             41         Ongar         17853.472370  \n",
       "922266             42         Ongar         18075.320280  \n",
       "922267             43         Ongar         18359.209830  \n",
       "922268             44         Ongar         18642.444390  \n",
       "922269             45         Ongar         18965.056260  \n",
       "922270             46         Ongar         19259.893860  \n",
       "922271             47         Ongar         19501.482350  \n",
       "922272             48         Ongar         19748.088740  \n",
       "922273             49         Ongar         20109.765850  \n",
       "922274             50         Ongar         20486.184880  \n",
       "922275             51         Ongar         20899.377130  \n",
       "922276             52         Ongar         21330.783010  \n",
       "922277             53         Ongar         21949.458590  \n",
       "922278             54         Ongar         22069.400240  \n",
       "922279             55         Ongar         22390.443750  \n",
       "922280             56         Ongar         22730.669160  \n",
       "922281             57         Ongar         22828.427610  \n",
       "922282             58         Ongar         23525.328540  \n",
       "922283             59         Ongar         23715.027530  \n",
       "922284             60         Ongar         24388.747290  \n",
       "922285             61         Ongar         24588.107320  \n",
       "922286             62         Ongar         24955.375840  \n",
       "922287             63         Ongar         25470.191070  \n",
       "922288             64         Ongar         26208.859720  \n",
       "922289             65         Ongar         26360.282030  \n",
       "922290             66         Ongar         26873.283540  \n",
       "922291             67         Ongar         27214.722000  \n",
       "922292             68         Ongar         27546.817410  \n",
       "\n",
       "[1000 rows x 11 columns]"
      ]
     },
     "execution_count": 19,
     "metadata": {},
     "output_type": "execute_result"
    }
   ],
   "source": [
    "schedule.tail(1000)"
   ]
  },
  {
   "cell_type": "code",
   "execution_count": 20,
   "metadata": {
    "collapsed": true
   },
   "outputs": [],
   "source": [
    "# Extracting StopID from stop_id\n",
    "\n",
    "def get_stop(string):\n",
    "    var = string[-4:]\n",
    "    return var\n",
    "\n",
    "schedule[\"StopID\"] = schedule['stop_id'].apply(lambda x: get_stop(x))"
   ]
  },
  {
   "cell_type": "code",
   "execution_count": 21,
   "metadata": {
    "collapsed": false
   },
   "outputs": [
    {
     "name": "stderr",
     "output_type": "stream",
     "text": [
      "/Users/danieljordan/anaconda3/lib/python3.6/site-packages/ipykernel/__main__.py:3: FutureWarning: currently extract(expand=None) means expand=False (return Index/Series/DataFrame) but in a future version of pandas this will be changed to expand=True (return DataFrame)\n",
      "  app.launch_new_instance()\n"
     ]
    }
   ],
   "source": [
    "# Extracting LineID from trip_id\n",
    "\n",
    "schedule[\"LineID\"] = schedule[\"trip_id\"].str.extract('\\-(.*?)\\-')"
   ]
  },
  {
   "cell_type": "code",
   "execution_count": 22,
   "metadata": {
    "collapsed": true
   },
   "outputs": [],
   "source": [
    "# Convert StopIDs back to int\n",
    "df['StopID'] = df['StopID'].astype('int64')\n",
    "schedule['StopID'] = schedule['StopID'].astype('int64')"
   ]
  },
  {
   "cell_type": "code",
   "execution_count": 23,
   "metadata": {
    "collapsed": false
   },
   "outputs": [
    {
     "name": "stdout",
     "output_type": "stream",
     "text": [
      "['33A' '41C' '114' '39' '25A' '25X' '39A' '75' '41' '13' '747' '9' '76'\n",
      " '53' '151' '104' '27' '63' '44' '123' '11' '4' '16' '16C' '1' '61' '15'\n",
      " '236' '84' '185' '38' '70' '14' '38A' '14C' '40' '40B' '83' '38B' '83A'\n",
      " '18' '45A' '29A' '31' '31A' '32' '7' '7D' '150' '145' '184' '46A' '47'\n",
      " '140' '41A' '43' '42' '65B' '65' '41B' '33' '27B' '102' '33B' '17A' '25B'\n",
      " '122' '25' '17' '59' '67' '120' '238' '270' '27A' '56A' '77A' '37' '26'\n",
      " '66' '66A' '220' '130' '40D' '15B' '15A' '54A' '49' '79A' '79' '68' '69'\n",
      " '116' '161' '41X' '239' '68A' '69X' '66X' '51D' '8' '7B' '33X' '66B' '67X'\n",
      " '76A' '27X' '44B' '84A' '51X' '46E' '31B' '111' '32X' '142' '84X' '118']\n"
     ]
    }
   ],
   "source": [
    "# Number of unique LineIDs \n",
    "\n",
    "lines = schedule[\"LineID\"].unique()\n",
    "\n",
    "print(lines)"
   ]
  },
  {
   "cell_type": "code",
   "execution_count": 11,
   "metadata": {
    "collapsed": false
   },
   "outputs": [],
   "source": [
    "# Isolating line\n",
    "# Examining how many stops are on each variation\n",
    "# Saving this info in stops\n",
    "\n",
    "schedule_line = schedule[schedule.LineID == line]\n",
    "\n",
    "headsigns = schedule_line.stop_headsign.unique()\n",
    "\n",
    "stops = {}\n",
    "\n",
    "for sign in headsigns:\n",
    "    stop_count = schedule_line[schedule_line.stop_headsign == sign].StopID.nunique()\n",
    "    stop_list = schedule_line[schedule_line.stop_headsign == sign].StopID.unique()\n",
    "    stops[sign] = [stop_count, stop_list]"
   ]
  },
  {
   "cell_type": "code",
   "execution_count": 12,
   "metadata": {
    "collapsed": false
   },
   "outputs": [],
   "source": [
    "# Getting max value for headsign\n",
    "max_headsign = schedule_line['stop_headsign'].value_counts().idxmax()\n",
    "schedule_line = schedule_line[schedule_line.stop_headsign == max_headsign]"
   ]
  },
  {
   "cell_type": "markdown",
   "metadata": {},
   "source": [
    "### Exploring line 15"
   ]
  },
  {
   "cell_type": "code",
   "execution_count": 13,
   "metadata": {
    "collapsed": false
   },
   "outputs": [],
   "source": [
    "# # Isolating variations - getting variation with most stops\n",
    "\n",
    "# df_0001 = df[df.JourneyPatternID == 1]\n",
    "# df_1001 = df[df.JourneyPatternID == 1001]\n",
    "# df_0002 = df[df.JourneyPatternID == 2]\n",
    "# df_1002 = df[df.JourneyPatternID == 1002]\n",
    "\n",
    "max_pattern = df['JourneyPatternID'].value_counts().idxmax()\n",
    "df = df[df.JourneyPatternID == max_pattern]"
   ]
  },
  {
   "cell_type": "code",
   "execution_count": 14,
   "metadata": {
    "collapsed": false
   },
   "outputs": [],
   "source": [
    "runtimes = df.groupby(\"StopID\").Runtime.mean()"
   ]
  },
  {
   "cell_type": "code",
   "execution_count": 15,
   "metadata": {
    "collapsed": false
   },
   "outputs": [],
   "source": [
    "# print(runtimes.sort_values())"
   ]
  },
  {
   "cell_type": "code",
   "execution_count": 16,
   "metadata": {
    "collapsed": false
   },
   "outputs": [],
   "source": [
    "# print(\"1218\" in stops[\"Ballycullen Road\"][1])"
   ]
  },
  {
   "cell_type": "code",
   "execution_count": 17,
   "metadata": {
    "collapsed": true
   },
   "outputs": [],
   "source": [
    "# stoplist = [x for x in df_0002.StopID.unique() if x not in stops[\"Ballycullen Road\"][1]]"
   ]
  },
  {
   "cell_type": "code",
   "execution_count": 18,
   "metadata": {
    "collapsed": false
   },
   "outputs": [],
   "source": [
    "# print(stoplist)"
   ]
  },
  {
   "cell_type": "code",
   "execution_count": null,
   "metadata": {
    "collapsed": true
   },
   "outputs": [],
   "source": []
  },
  {
   "cell_type": "code",
   "execution_count": null,
   "metadata": {
    "collapsed": true
   },
   "outputs": [],
   "source": []
  },
  {
   "cell_type": "markdown",
   "metadata": {},
   "source": [
    "### Comparing Schedule to our data\n"
   ]
  },
  {
   "cell_type": "code",
   "execution_count": 19,
   "metadata": {
    "collapsed": false
   },
   "outputs": [
    {
     "name": "stdout",
     "output_type": "stream",
     "text": [
      "88\n"
     ]
    }
   ],
   "source": [
    "# Number of unique stops on each variation in our data\n",
    "# variations = df.JourneyPatternID.unique()\n",
    "# print(variations)\n",
    "print(df.StopID.nunique())\n",
    "# print(df_1001.StopID.nunique())\n",
    "# print(df_0002.StopID.nunique())\n",
    "# print(df_1002.StopID.nunique())"
   ]
  },
  {
   "cell_type": "code",
   "execution_count": 20,
   "metadata": {
    "collapsed": false
   },
   "outputs": [
    {
     "name": "stdout",
     "output_type": "stream",
     "text": [
      "Ballycullen Road : 72\n",
      "Clongriffin : 68\n",
      "Eden Quay : 37\n",
      "Hawkins St : 34\n"
     ]
    }
   ],
   "source": [
    "# Number of stops on each variation in schedule - doesn't line up exactly \n",
    "\n",
    "for key, value in stops.items():\n",
    "    print(key, \":\", value[0])"
   ]
  },
  {
   "cell_type": "code",
   "execution_count": null,
   "metadata": {
    "collapsed": true
   },
   "outputs": [],
   "source": []
  },
  {
   "cell_type": "code",
   "execution_count": 38,
   "metadata": {
    "collapsed": false
   },
   "outputs": [
    {
     "name": "stdout",
     "output_type": "stream",
     "text": [
      "0\n"
     ]
    }
   ],
   "source": [
    "set1 = set(df.StopID.unique())\n",
    "set2 = set(schedule.StopID.unique())\n",
    "\n",
    "print(len(set1.difference(set2)))\n"
   ]
  },
  {
   "cell_type": "code",
   "execution_count": 23,
   "metadata": {
    "collapsed": false
   },
   "outputs": [
    {
     "name": "stdout",
     "output_type": "stream",
     "text": [
      "[]\n"
     ]
    }
   ],
   "source": [
    "# Finding stops that are on schedule variation but not our data\n",
    "\n",
    "set1 = set(df.StopID.unique())\n",
    "set2 = set(schedule_line.StopID.unique())\n",
    "\n",
    "misc_stops = set2.difference(set1)\n",
    "\n",
    "print(list(misc_stops))"
   ]
  },
  {
   "cell_type": "code",
   "execution_count": 24,
   "metadata": {
    "collapsed": false
   },
   "outputs": [],
   "source": [
    "# # Looking at number of shared stops in our data & schedule\n",
    "\n",
    "# for pattern in journey_patterns:\n",
    "#     set1 = set(pattern.StopID.unique())\n",
    "#     print(\"Number of stops in\", pattern.name, \"=\", len(set1))\n",
    "#     for key, value in stops.items():\n",
    "#         set2 = set(value[1])\n",
    "# #         print(pattern.name, \"&\", key, \":\", set2.issubset(set1))\n",
    "#         print(pattern.name, \"&\", key, \":\", len(set2.intersection(set1)))\n",
    "#     print()\n",
    "\n",
    "# # print(set1.isdisjoint(set2))\n",
    "# # print(set1.difference(set2))"
   ]
  },
  {
   "cell_type": "markdown",
   "metadata": {},
   "source": [
    "### Plotting Stops"
   ]
  },
  {
   "cell_type": "code",
   "execution_count": 25,
   "metadata": {
    "collapsed": false
   },
   "outputs": [
    {
     "data": {
      "text/plain": [
       "<matplotlib.axes._subplots.AxesSubplot at 0x10e01fdd8>"
      ]
     },
     "execution_count": 25,
     "metadata": {},
     "output_type": "execute_result"
    },
    {
     "data": {
      "image/png": "[encoded data removed]",
      "text/plain": [
       "<matplotlib.figure.Figure at 0x115606c18>"
      ]
     },
     "metadata": {},
     "output_type": "display_data"
    }
   ],
   "source": [
    "# Plotting stops in our data\n",
    "\n",
    "locations = df[[\"Lon\", \"Lat\"]]\n",
    "locations.plot.scatter(x=\"Lon\", y=\"Lat\")"
   ]
  },
  {
   "cell_type": "code",
   "execution_count": 26,
   "metadata": {
    "collapsed": false
   },
   "outputs": [
    {
     "data": {
      "text/plain": [
       "<matplotlib.axes._subplots.AxesSubplot at 0x10e0490f0>"
      ]
     },
     "execution_count": 26,
     "metadata": {},
     "output_type": "execute_result"
    },
    {
     "data": {
      "image/png": "[encoded data removed]",
      "text/plain": [
       "<matplotlib.figure.Figure at 0x10e0642b0>"
      ]
     },
     "metadata": {},
     "output_type": "display_data"
    }
   ],
   "source": [
    "# Plotting stops in schedule\n",
    "\n",
    "schedule_locations = schedule_line[[\"Long\", \"Lat\"]]\n",
    "schedule_locations.plot.scatter(x=\"Long\", y=\"Lat\")"
   ]
  },
  {
   "cell_type": "code",
   "execution_count": 28,
   "metadata": {
    "collapsed": false
   },
   "outputs": [
    {
     "name": "stdout",
     "output_type": "stream",
     "text": [
      "No difference!\n"
     ]
    }
   ],
   "source": [
    "# Plotting stops in schedule but not data (misc_stops)\n",
    "\n",
    "set1 = set(df.StopID.unique())\n",
    "set2 = set(schedule_line.StopID.unique())\n",
    "misc_stops = set2.difference(set1)\n",
    "\n",
    "misc_df = schedule_line[schedule_line.StopID.isin(misc_stops)]\n",
    "\n",
    "misc_df.head()\n",
    "\n",
    "if len(misc_df > 0):\n",
    "    locations = misc_df[[\"Long\", \"Lat\"]]\n",
    "    locations.plot.scatter(x=\"Long\", y=\"Lat\")\n",
    "else:\n",
    "    print(\"No difference!\")"
   ]
  },
  {
   "cell_type": "code",
   "execution_count": 29,
   "metadata": {
    "collapsed": false
   },
   "outputs": [
    {
     "data": {
      "image/png": "[encoded data removed]",
      "text/plain": [
       "<matplotlib.figure.Figure at 0x10de2e0f0>"
      ]
     },
     "metadata": {},
     "output_type": "display_data"
    }
   ],
   "source": [
    "# Plotting stops in data but not schedule (misc_stops2)\n",
    "\n",
    "set1 = set(df.StopID.unique())\n",
    "set2 = set(schedule_line.StopID.unique())\n",
    "misc_stops = set1.difference(set2)\n",
    "\n",
    "misc_df = df[df.StopID.isin(misc_stops)]\n",
    "\n",
    "misc_df.head()\n",
    "\n",
    "if len(misc_df > 0):\n",
    "    locations = misc_df[[\"Lon\", \"Lat\"]]\n",
    "    locations.plot.scatter(x=\"Lon\", y=\"Lat\")\n",
    "else:\n",
    "    print(\"No difference!\")"
   ]
  },
  {
   "cell_type": "markdown",
   "metadata": {},
   "source": [
    "### Removing irrelevant stops in our data"
   ]
  },
  {
   "cell_type": "code",
   "execution_count": 30,
   "metadata": {
    "collapsed": false,
    "scrolled": true
   },
   "outputs": [],
   "source": [
    "# df_0001[\"StopID\"].value_counts()"
   ]
  },
  {
   "cell_type": "code",
   "execution_count": 31,
   "metadata": {
    "collapsed": false
   },
   "outputs": [],
   "source": [
    "# Removing stops that don't occur at least 100 times in our data\n",
    "\n",
    "groups = df.groupby('StopID')\n",
    "clean_0001 = groups.filter(lambda x: len(x) > 100)"
   ]
  },
  {
   "cell_type": "code",
   "execution_count": 32,
   "metadata": {
    "collapsed": false
   },
   "outputs": [
    {
     "data": {
      "text/plain": [
       "6282    6134\n",
       "5190    3905\n",
       "4415    3741\n",
       "403     3715\n",
       "4563    3527\n",
       "1076    3007\n",
       "348     2984\n",
       "1277    2799\n",
       "668     2705\n",
       "1270    2661\n",
       "1016    2635\n",
       "1274    2635\n",
       "746     2543\n",
       "1014    2494\n",
       "1273    2429\n",
       "664     2410\n",
       "1077    2387\n",
       "1020    2384\n",
       "844     2295\n",
       "4594    2238\n",
       "1220    2199\n",
       "616     2184\n",
       "1127    2176\n",
       "615     2133\n",
       "1085    2125\n",
       "1081    2066\n",
       "1145    2026\n",
       "4595    1946\n",
       "1125    1942\n",
       "1130    1860\n",
       "        ... \n",
       "3007    1477\n",
       "6320    1477\n",
       "1275    1473\n",
       "4869    1472\n",
       "665     1405\n",
       "1143    1404\n",
       "1017    1369\n",
       "1221    1355\n",
       "1219    1345\n",
       "1144    1324\n",
       "1141    1292\n",
       "1082    1278\n",
       "617     1266\n",
       "6319    1199\n",
       "1142    1199\n",
       "7246    1183\n",
       "4870    1096\n",
       "619     1063\n",
       "1080    1009\n",
       "1019     985\n",
       "1083     957\n",
       "1018     917\n",
       "1272     745\n",
       "1124     664\n",
       "666      588\n",
       "1123     508\n",
       "1078     504\n",
       "1276     499\n",
       "1122     414\n",
       "6318     352\n",
       "Name: StopID, dtype: int64"
      ]
     },
     "execution_count": 32,
     "metadata": {},
     "output_type": "execute_result"
    }
   ],
   "source": [
    "clean_0001[\"StopID\"].value_counts()"
   ]
  },
  {
   "cell_type": "code",
   "execution_count": 33,
   "metadata": {
    "collapsed": false
   },
   "outputs": [
    {
     "data": {
      "text/plain": [
       "<matplotlib.axes._subplots.AxesSubplot at 0x10db48f98>"
      ]
     },
     "execution_count": 33,
     "metadata": {},
     "output_type": "execute_result"
    },
    {
     "data": {
      "image/png": "[encoded data removed]",
      "text/plain": [
       "<matplotlib.figure.Figure at 0x10da0f390>"
      ]
     },
     "metadata": {},
     "output_type": "display_data"
    }
   ],
   "source": [
    "# Plotting stops in our data\n",
    "\n",
    "locations = clean_0001[[\"Lon\", \"Lat\"]]\n",
    "locations.plot.scatter(x=\"Lon\", y=\"Lat\")"
   ]
  },
  {
   "cell_type": "code",
   "execution_count": 34,
   "metadata": {
    "collapsed": false
   },
   "outputs": [
    {
     "data": {
      "text/plain": [
       "<matplotlib.axes._subplots.AxesSubplot at 0x10dde84a8>"
      ]
     },
     "execution_count": 34,
     "metadata": {},
     "output_type": "execute_result"
    },
    {
     "data": {
      "image/png": "[encoded data removed]",
      "text/plain": [
       "<matplotlib.figure.Figure at 0x10da04160>"
      ]
     },
     "metadata": {},
     "output_type": "display_data"
    }
   ],
   "source": [
    "df[\"StopID\"].value_counts().plot()"
   ]
  },
  {
   "cell_type": "code",
   "execution_count": null,
   "metadata": {
    "collapsed": true
   },
   "outputs": [],
   "source": []
  },
  {
   "cell_type": "markdown",
   "metadata": {
    "collapsed": true
   },
   "source": [
    "### Plotting common routes between data and schedule"
   ]
  },
  {
   "cell_type": "code",
   "execution_count": 35,
   "metadata": {
    "collapsed": false
   },
   "outputs": [],
   "source": [
    "set1 = set(df.StopID.unique())\n",
    "set2 = set(schedule_line.StopID.unique())\n",
    "\n",
    "common_stops = set2.intersection(set1)"
   ]
  },
  {
   "cell_type": "code",
   "execution_count": 36,
   "metadata": {
    "collapsed": false
   },
   "outputs": [
    {
     "data": {
      "text/plain": [
       "<matplotlib.axes._subplots.AxesSubplot at 0x1100ee940>"
      ]
     },
     "execution_count": 36,
     "metadata": {},
     "output_type": "execute_result"
    },
    {
     "data": {
      "image/png": "[encoded data removed]",
      "text/plain": [
       "<matplotlib.figure.Figure at 0x11009ac50>"
      ]
     },
     "metadata": {},
     "output_type": "display_data"
    }
   ],
   "source": [
    "# Plotting stops in schedule and data (common_stops)\n",
    "\n",
    "common_df = schedule_line[schedule_line.StopID.isin(common_stops)]\n",
    "\n",
    "common_df.head()\n",
    "\n",
    "locations = common_df[[\"Long\", \"Lat\"]]\n",
    "locations.plot.scatter(x=\"Long\", y=\"Lat\")"
   ]
  },
  {
   "cell_type": "code",
   "execution_count": null,
   "metadata": {
    "collapsed": true
   },
   "outputs": [],
   "source": []
  },
  {
   "cell_type": "code",
   "execution_count": null,
   "metadata": {
    "collapsed": true
   },
   "outputs": [],
   "source": []
  },
  {
   "cell_type": "code",
   "execution_count": null,
   "metadata": {
    "collapsed": true
   },
   "outputs": [],
   "source": []
  },
  {
   "cell_type": "code",
   "execution_count": null,
   "metadata": {
    "collapsed": true
   },
   "outputs": [],
   "source": []
  },
  {
   "cell_type": "code",
   "execution_count": null,
   "metadata": {
    "collapsed": true
   },
   "outputs": [],
   "source": []
  },
  {
   "cell_type": "code",
   "execution_count": null,
   "metadata": {
    "collapsed": true
   },
   "outputs": [],
   "source": []
  }
 ],
 "metadata": {
  "kernelspec": {
   "display_name": "Python 3",
   "language": "python",
   "name": "python3"
  },
  "language_info": {
   "codemirror_mode": {
    "name": "ipython",
    "version": 3
   },
   "file_extension": ".py",
   "mimetype": "text/x-python",
   "name": "python",
   "nbconvert_exporter": "python",
   "pygments_lexer": "ipython3",
   "version": "3.6.0"
  }
 },
 "nbformat": 4,
 "nbformat_minor": 2
}
