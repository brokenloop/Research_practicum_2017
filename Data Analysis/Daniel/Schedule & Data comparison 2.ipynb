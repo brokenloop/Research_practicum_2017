{
 "cells": [
  {
   "cell_type": "code",
   "execution_count": 44,
   "metadata": {
    "collapsed": true
   },
   "outputs": [],
   "source": [
    "import pandas as pd\n",
    "import numpy as np\n",
    "\n",
    "import matplotlib.pyplot as plt\n",
    "%matplotlib inline"
   ]
  },
  {
   "cell_type": "markdown",
   "metadata": {},
   "source": [
    "### Static Variables"
   ]
  },
  {
   "cell_type": "code",
   "execution_count": 70,
   "metadata": {
    "collapsed": true
   },
   "outputs": [],
   "source": [
    "line = \"15\""
   ]
  },
  {
   "cell_type": "markdown",
   "metadata": {},
   "source": [
    "### Extracting Data"
   ]
  },
  {
   "cell_type": "code",
   "execution_count": 71,
   "metadata": {
    "collapsed": false
   },
   "outputs": [
    {
     "data": {
      "text/plain": [
       "(514482, 15)"
      ]
     },
     "execution_count": 71,
     "metadata": {},
     "output_type": "execute_result"
    }
   ],
   "source": [
    "df = pd.read_csv(\"bus_data/clean_data2/\" + line + \".csv\", low_memory=False, header=None)\n",
    "df.columns = [\"Timestamp\", \"LineID\", \"JourneyPatternID\", \"TimeFrame\", \n",
    "              \"VehicleJourneyID\", \"Lon\", \"Lat\", \"VehicleID\", \"StopID\", \n",
    "              \"AtStop\", \"HumanTime\", \"Day\", \"Hour\", \"JourneyGroup\", \"Runtime\"]\n",
    "\n",
    "#convert StopID to string\n",
    "\n",
    "df['StopID'] = df['StopID'].astype('str')\n",
    "\n",
    "\n",
    "df.shape"
   ]
  },
  {
   "cell_type": "code",
   "execution_count": 72,
   "metadata": {
    "collapsed": false
   },
   "outputs": [
    {
     "data": {
      "text/html": [
       "<div>\n",
       "<table border=\"1\" class=\"dataframe\">\n",
       "  <thead>\n",
       "    <tr style=\"text-align: right;\">\n",
       "      <th></th>\n",
       "      <th>trip_id</th>\n",
       "      <th>arrival_time</th>\n",
       "      <th>departure_time</th>\n",
       "      <th>stop_id</th>\n",
       "      <th>Name without locality</th>\n",
       "      <th>Name</th>\n",
       "      <th>Lat</th>\n",
       "      <th>Long</th>\n",
       "      <th>stop_sequence</th>\n",
       "      <th>stop_headsign</th>\n",
       "      <th>shape_dist_traveled</th>\n",
       "    </tr>\n",
       "  </thead>\n",
       "  <tbody>\n",
       "    <tr>\n",
       "      <th>922288</th>\n",
       "      <td>9999.2936.0-39-b12-1.241.O</td>\n",
       "      <td>10:48:38</td>\n",
       "      <td>10:48:38</td>\n",
       "      <td>8240DB002171</td>\n",
       "      <td>Lilys Way</td>\n",
       "      <td>Ongar</td>\n",
       "      <td>53.397920</td>\n",
       "      <td>-6.442124</td>\n",
       "      <td>64</td>\n",
       "      <td>Ongar</td>\n",
       "      <td>26208.85972</td>\n",
       "    </tr>\n",
       "    <tr>\n",
       "      <th>922289</th>\n",
       "      <td>9999.2936.0-39-b12-1.241.O</td>\n",
       "      <td>10:48:54</td>\n",
       "      <td>10:48:54</td>\n",
       "      <td>8240DB007160</td>\n",
       "      <td>Village</td>\n",
       "      <td>Ongar</td>\n",
       "      <td>53.396577</td>\n",
       "      <td>-6.442519</td>\n",
       "      <td>65</td>\n",
       "      <td>Ongar</td>\n",
       "      <td>26360.28203</td>\n",
       "    </tr>\n",
       "    <tr>\n",
       "      <th>922290</th>\n",
       "      <td>9999.2936.0-39-b12-1.241.O</td>\n",
       "      <td>10:49:48</td>\n",
       "      <td>10:49:48</td>\n",
       "      <td>8240DB007047</td>\n",
       "      <td>Ongar Green</td>\n",
       "      <td>Ongar</td>\n",
       "      <td>53.393118</td>\n",
       "      <td>-6.442600</td>\n",
       "      <td>66</td>\n",
       "      <td>Ongar</td>\n",
       "      <td>26873.28354</td>\n",
       "    </tr>\n",
       "    <tr>\n",
       "      <th>922291</th>\n",
       "      <td>9999.2936.0-39-b12-1.241.O</td>\n",
       "      <td>10:50:24</td>\n",
       "      <td>10:50:24</td>\n",
       "      <td>8240DB007161</td>\n",
       "      <td>Delhurst</td>\n",
       "      <td>Ongar</td>\n",
       "      <td>53.392054</td>\n",
       "      <td>-6.438158</td>\n",
       "      <td>67</td>\n",
       "      <td>Ongar</td>\n",
       "      <td>27214.72200</td>\n",
       "    </tr>\n",
       "    <tr>\n",
       "      <th>922292</th>\n",
       "      <td>9999.2936.0-39-b12-1.241.O</td>\n",
       "      <td>10:51:00</td>\n",
       "      <td>10:51:00</td>\n",
       "      <td>8240DB007162</td>\n",
       "      <td>Hansfield Road</td>\n",
       "      <td>Ongar</td>\n",
       "      <td>53.391281</td>\n",
       "      <td>-6.433390</td>\n",
       "      <td>68</td>\n",
       "      <td>Ongar</td>\n",
       "      <td>27546.81741</td>\n",
       "    </tr>\n",
       "  </tbody>\n",
       "</table>\n",
       "</div>"
      ],
      "text/plain": [
       "                           trip_id arrival_time departure_time       stop_id  \\\n",
       "922288  9999.2936.0-39-b12-1.241.O     10:48:38       10:48:38  8240DB002171   \n",
       "922289  9999.2936.0-39-b12-1.241.O     10:48:54       10:48:54  8240DB007160   \n",
       "922290  9999.2936.0-39-b12-1.241.O     10:49:48       10:49:48  8240DB007047   \n",
       "922291  9999.2936.0-39-b12-1.241.O     10:50:24       10:50:24  8240DB007161   \n",
       "922292  9999.2936.0-39-b12-1.241.O     10:51:00       10:51:00  8240DB007162   \n",
       "\n",
       "       Name without locality   Name        Lat      Long  stop_sequence  \\\n",
       "922288             Lilys Way  Ongar  53.397920 -6.442124             64   \n",
       "922289               Village  Ongar  53.396577 -6.442519             65   \n",
       "922290           Ongar Green  Ongar  53.393118 -6.442600             66   \n",
       "922291              Delhurst  Ongar  53.392054 -6.438158             67   \n",
       "922292        Hansfield Road  Ongar  53.391281 -6.433390             68   \n",
       "\n",
       "       stop_headsign  shape_dist_traveled  \n",
       "922288         Ongar          26208.85972  \n",
       "922289         Ongar          26360.28203  \n",
       "922290         Ongar          26873.28354  \n",
       "922291         Ongar          27214.72200  \n",
       "922292         Ongar          27546.81741  "
      ]
     },
     "execution_count": 72,
     "metadata": {},
     "output_type": "execute_result"
    }
   ],
   "source": [
    "schedule = pd.read_csv(\"bus_data/dublinbus_scheduledData2013csv.csv\", low_memory=False, encoding=\"ISO-8859-1\")\n",
    "schedule.tail()"
   ]
  },
  {
   "cell_type": "code",
   "execution_count": 73,
   "metadata": {
    "collapsed": false
   },
   "outputs": [],
   "source": [
    "# Dropping null values - some in our dataframe are marked as 'null' (string) for some reason?\n",
    "schedule = schedule.dropna()\n",
    "df = df[df.StopID != 'null']"
   ]
  },
  {
   "cell_type": "markdown",
   "metadata": {},
   "source": [
    "### Exploring schedule"
   ]
  },
  {
   "cell_type": "code",
   "execution_count": 74,
   "metadata": {
    "collapsed": false
   },
   "outputs": [
    {
     "data": {
      "text/plain": [
       "Timestamp             int64\n",
       "LineID                int64\n",
       "JourneyPatternID      int64\n",
       "TimeFrame            object\n",
       "VehicleJourneyID      int64\n",
       "Lon                 float64\n",
       "Lat                 float64\n",
       "VehicleID             int64\n",
       "StopID               object\n",
       "AtStop                int64\n",
       "HumanTime            object\n",
       "Day                   int64\n",
       "Hour                  int64\n",
       "JourneyGroup         object\n",
       "Runtime               int64\n",
       "dtype: object"
      ]
     },
     "execution_count": 74,
     "metadata": {},
     "output_type": "execute_result"
    }
   ],
   "source": [
    "df.dtypes"
   ]
  },
  {
   "cell_type": "code",
   "execution_count": 75,
   "metadata": {
    "collapsed": true
   },
   "outputs": [],
   "source": [
    "# Extracting StopID from stop_id\n",
    "\n",
    "def get_stop(string):\n",
    "    var = string[-4:]\n",
    "    return var\n",
    "\n",
    "schedule[\"StopID\"] = schedule['stop_id'].apply(lambda x: get_stop(x))"
   ]
  },
  {
   "cell_type": "code",
   "execution_count": 76,
   "metadata": {
    "collapsed": false
   },
   "outputs": [
    {
     "name": "stderr",
     "output_type": "stream",
     "text": [
      "/Users/danieljordan/anaconda3/lib/python3.6/site-packages/ipykernel/__main__.py:3: FutureWarning: currently extract(expand=None) means expand=False (return Index/Series/DataFrame) but in a future version of pandas this will be changed to expand=True (return DataFrame)\n",
      "  app.launch_new_instance()\n"
     ]
    }
   ],
   "source": [
    "# Extracting LineID from trip_id\n",
    "\n",
    "schedule[\"LineID\"] = schedule[\"trip_id\"].str.extract('\\-(.*?)\\-')"
   ]
  },
  {
   "cell_type": "code",
   "execution_count": 77,
   "metadata": {
    "collapsed": false
   },
   "outputs": [],
   "source": [
    "# Convert StopIDs back to int\n",
    "\n",
    "df['StopID'] = df['StopID'].astype('int64')\n",
    "schedule['StopID'] = schedule['StopID'].astype('int64')"
   ]
  },
  {
   "cell_type": "code",
   "execution_count": 78,
   "metadata": {
    "collapsed": true
   },
   "outputs": [],
   "source": [
    "# Extracting direction from trip_id\n",
    "\n",
    "def get_direction(string):\n",
    "    var = string[-1:]\n",
    "    return var\n",
    "\n",
    "schedule[\"Direction\"] = schedule['trip_id'].apply(lambda x: get_direction(x))"
   ]
  },
  {
   "cell_type": "code",
   "execution_count": 79,
   "metadata": {
    "collapsed": true
   },
   "outputs": [],
   "source": [
    "# Dropping non-major journeypatterns\n",
    "schedule = schedule[(schedule.Direction == \"I\") | (schedule.Direction == \"O\")]"
   ]
  },
  {
   "cell_type": "code",
   "execution_count": 63,
   "metadata": {
    "collapsed": true
   },
   "outputs": [],
   "source": [
    "# Converting Direction to JourneyPatternID\n",
    "\n",
    "schedule[\"JourneyPatternID\"] = schedule['Direction'].apply(lambda x: \"1001\" if x == \"I\" else \"0001\")\n",
    "schedule['JourneyPatternID'] = schedule['JourneyPatternID'].astype('int64')"
   ]
  },
  {
   "cell_type": "code",
   "execution_count": 64,
   "metadata": {
    "collapsed": false
   },
   "outputs": [],
   "source": [
    "# dropping irrelevant columns\n",
    "for column in ['trip_id', 'stop_id', 'arrival_time', 'departure_time', 'shape_dist_traveled', 'Direction']:\n",
    "        schedule = schedule.drop(column, 1)"
   ]
  },
  {
   "cell_type": "code",
   "execution_count": 65,
   "metadata": {
    "collapsed": false
   },
   "outputs": [
    {
     "data": {
      "text/html": [
       "<div>\n",
       "<table border=\"1\" class=\"dataframe\">\n",
       "  <thead>\n",
       "    <tr style=\"text-align: right;\">\n",
       "      <th></th>\n",
       "      <th>Name without locality</th>\n",
       "      <th>Name</th>\n",
       "      <th>Lat</th>\n",
       "      <th>Long</th>\n",
       "      <th>stop_sequence</th>\n",
       "      <th>stop_headsign</th>\n",
       "      <th>StopID</th>\n",
       "      <th>LineID</th>\n",
       "      <th>JourneyPatternID</th>\n",
       "    </tr>\n",
       "  </thead>\n",
       "  <tbody>\n",
       "    <tr>\n",
       "      <th>0</th>\n",
       "      <td>Footbridge</td>\n",
       "      <td>Skerries Road</td>\n",
       "      <td>53.591377</td>\n",
       "      <td>-6.156176</td>\n",
       "      <td>1</td>\n",
       "      <td>Swords</td>\n",
       "      <td>3813</td>\n",
       "      <td>33A</td>\n",
       "      <td>1001</td>\n",
       "    </tr>\n",
       "    <tr>\n",
       "      <th>1</th>\n",
       "      <td>Barnageeragh Road</td>\n",
       "      <td>Balbriggan Rd</td>\n",
       "      <td>53.585544</td>\n",
       "      <td>-6.148605</td>\n",
       "      <td>2</td>\n",
       "      <td>Swords</td>\n",
       "      <td>3814</td>\n",
       "      <td>33A</td>\n",
       "      <td>1001</td>\n",
       "    </tr>\n",
       "    <tr>\n",
       "      <th>2</th>\n",
       "      <td>Barnageeragh Road</td>\n",
       "      <td>North Cliff Heights</td>\n",
       "      <td>53.581935</td>\n",
       "      <td>-6.125247</td>\n",
       "      <td>3</td>\n",
       "      <td>Swords</td>\n",
       "      <td>3815</td>\n",
       "      <td>33A</td>\n",
       "      <td>1001</td>\n",
       "    </tr>\n",
       "    <tr>\n",
       "      <th>3</th>\n",
       "      <td>Mourne Drive</td>\n",
       "      <td>North Cliff Heights</td>\n",
       "      <td>53.580471</td>\n",
       "      <td>-6.127622</td>\n",
       "      <td>4</td>\n",
       "      <td>Swords</td>\n",
       "      <td>3816</td>\n",
       "      <td>33A</td>\n",
       "      <td>1001</td>\n",
       "    </tr>\n",
       "    <tr>\n",
       "      <th>4</th>\n",
       "      <td>Selskar Court</td>\n",
       "      <td>Town Parks Rd</td>\n",
       "      <td>53.578067</td>\n",
       "      <td>-6.125055</td>\n",
       "      <td>5</td>\n",
       "      <td>Swords</td>\n",
       "      <td>3566</td>\n",
       "      <td>33A</td>\n",
       "      <td>1001</td>\n",
       "    </tr>\n",
       "  </tbody>\n",
       "</table>\n",
       "</div>"
      ],
      "text/plain": [
       "  Name without locality                 Name        Lat      Long  \\\n",
       "0            Footbridge        Skerries Road  53.591377 -6.156176   \n",
       "1     Barnageeragh Road        Balbriggan Rd  53.585544 -6.148605   \n",
       "2     Barnageeragh Road  North Cliff Heights  53.581935 -6.125247   \n",
       "3          Mourne Drive  North Cliff Heights  53.580471 -6.127622   \n",
       "4         Selskar Court        Town Parks Rd  53.578067 -6.125055   \n",
       "\n",
       "   stop_sequence stop_headsign  StopID LineID  JourneyPatternID  \n",
       "0              1        Swords    3813    33A              1001  \n",
       "1              2        Swords    3814    33A              1001  \n",
       "2              3        Swords    3815    33A              1001  \n",
       "3              4        Swords    3816    33A              1001  \n",
       "4              5        Swords    3566    33A              1001  "
      ]
     },
     "execution_count": 65,
     "metadata": {},
     "output_type": "execute_result"
    }
   ],
   "source": [
    "schedule.head()"
   ]
  },
  {
   "cell_type": "code",
   "execution_count": 66,
   "metadata": {
    "collapsed": false
   },
   "outputs": [
    {
     "name": "stdout",
     "output_type": "stream",
     "text": [
      "1 72\n",
      "1001 68\n"
     ]
    }
   ],
   "source": [
    "# Examining how many stops there are in either direction in schedule\n",
    "\n",
    "schedule_line = schedule[schedule.LineID == line]\n",
    "directions = schedule_line.JourneyPatternID.unique()\n",
    "\n",
    "df_stops = {}\n",
    "\n",
    "for direction in directions:\n",
    "    direction_count = schedule_line[schedule_line.JourneyPatternID == direction].StopID.nunique()\n",
    "    print(direction, direction_count)"
   ]
  },
  {
   "cell_type": "markdown",
   "metadata": {},
   "source": [
    "### Exploring line 15"
   ]
  },
  {
   "cell_type": "code",
   "execution_count": 67,
   "metadata": {
    "collapsed": false
   },
   "outputs": [
    {
     "name": "stdout",
     "output_type": "stream",
     "text": [
      "1 72\n",
      "1001 68\n"
     ]
    }
   ],
   "source": [
    "# Examining how many stops there are in either direction in df\n",
    "\n",
    "variants = df.JourneyPatternID.unique()\n",
    "\n",
    "for variant in variants:\n",
    "    stop_count = df[df.JourneyPatternID == variant].StopID.nunique()\n",
    "    print(variant, stop_count)"
   ]
  },
  {
   "cell_type": "markdown",
   "metadata": {},
   "source": [
    "### Comparing Schedule to our data\n"
   ]
  },
  {
   "cell_type": "code",
   "execution_count": 68,
   "metadata": {
    "collapsed": false
   },
   "outputs": [],
   "source": [
    "schedule_in = schedule[(schedule.LineID == line) & (schedule.JourneyPatternID == 1001)]\n",
    "schedule_out = schedule[(schedule.LineID == line) & (schedule.JourneyPatternID == 1)]\n",
    "df_1001 = df[df.JourneyPatternID == 1001]\n",
    "df_0001 = df[df.JourneyPatternID == 1]\n",
    "\n",
    "\n",
    "stops_in = set(schedule_in.StopID.unique())\n",
    "stops_out = set(schedule_out.StopID.unique())\n",
    "\n",
    "stops_1001 = set(df_1001.StopID.unique())\n",
    "stops_0001 = set(df_0001.StopID.unique())\n",
    "\n",
    "# print(len(set1.difference(set2)))\n"
   ]
  },
  {
   "cell_type": "code",
   "execution_count": 69,
   "metadata": {
    "collapsed": false
   },
   "outputs": [
    {
     "name": "stdout",
     "output_type": "stream",
     "text": [
      "{7236, 7244}\n",
      "set()\n"
     ]
    }
   ],
   "source": [
    "# symmetric difference between both sets of stops\n",
    "\n",
    "print(stops_in ^ stops_1001)\n",
    "print(stops_out ^ stops_0001)\n"
   ]
  },
  {
   "cell_type": "code",
   "execution_count": 80,
   "metadata": {
    "collapsed": false
   },
   "outputs": [
    {
     "data": {
      "text/plain": [
       "array(['Ballycullen Road', 'Hawkins St'], dtype=object)"
      ]
     },
     "execution_count": 80,
     "metadata": {},
     "output_type": "execute_result"
    }
   ],
   "source": [
    "schedule_out.stop_headsign.unique()"
   ]
  },
  {
   "cell_type": "markdown",
   "metadata": {},
   "source": [
    "### Drop all stops that aren't in both dataframes"
   ]
  },
  {
   "cell_type": "code",
   "execution_count": 18,
   "metadata": {
    "collapsed": true
   },
   "outputs": [],
   "source": [
    "instops = list(stops_in & stops_1001)\n",
    "outstops = list(stops_out & stops_0001)\n",
    "\n",
    "allstops = instops + outstops"
   ]
  },
  {
   "cell_type": "code",
   "execution_count": 19,
   "metadata": {
    "collapsed": false
   },
   "outputs": [
    {
     "name": "stdout",
     "output_type": "stream",
     "text": [
      "63\n",
      "59\n",
      "122\n"
     ]
    }
   ],
   "source": [
    "print(len(instops))\n",
    "print(len(outstops))\n",
    "print(len(allstops))"
   ]
  },
  {
   "cell_type": "code",
   "execution_count": 20,
   "metadata": {
    "collapsed": true
   },
   "outputs": [],
   "source": [
    "# have to do this part on a line by line basis. \n",
    "\n",
    "# df = df[df.StopID.isin(allstops)]\n",
    "# schedule = schedule[schedule.StopID.isin(allstops)]"
   ]
  },
  {
   "cell_type": "code",
   "execution_count": null,
   "metadata": {
    "collapsed": true
   },
   "outputs": [],
   "source": []
  },
  {
   "cell_type": "markdown",
   "metadata": {},
   "source": [
    "### Saving CSV with true stop locations"
   ]
  },
  {
   "cell_type": "code",
   "execution_count": 21,
   "metadata": {
    "collapsed": true
   },
   "outputs": [],
   "source": [
    "# Renaming Long to Lon, so it cooperates with our other data\n",
    "schedule = schedule.rename(columns={'Long': 'Lon'})"
   ]
  },
  {
   "cell_type": "code",
   "execution_count": 22,
   "metadata": {
    "collapsed": false
   },
   "outputs": [
    {
     "data": {
      "text/plain": [
       "(921993, 3)"
      ]
     },
     "execution_count": 22,
     "metadata": {},
     "output_type": "execute_result"
    }
   ],
   "source": [
    "stop_locations = schedule[['StopID', 'Lat', 'Lon']]\n",
    "stop_locations.shape"
   ]
  },
  {
   "cell_type": "code",
   "execution_count": 23,
   "metadata": {
    "collapsed": false
   },
   "outputs": [
    {
     "data": {
      "text/plain": [
       "(4719, 3)"
      ]
     },
     "execution_count": 23,
     "metadata": {},
     "output_type": "execute_result"
    }
   ],
   "source": [
    "stop_locations = stop_locations.drop_duplicates()\n",
    "stop_locations.shape"
   ]
  },
  {
   "cell_type": "code",
   "execution_count": 25,
   "metadata": {
    "collapsed": true
   },
   "outputs": [],
   "source": [
    "stop_locations.to_csv(\"bus_data/stop_locations.csv\", index=False)"
   ]
  },
  {
   "cell_type": "code",
   "execution_count": null,
   "metadata": {
    "collapsed": true
   },
   "outputs": [],
   "source": []
  },
  {
   "cell_type": "markdown",
   "metadata": {},
   "source": [
    "### ---Rough Work---"
   ]
  },
  {
   "cell_type": "code",
   "execution_count": 29,
   "metadata": {
    "collapsed": false
   },
   "outputs": [
    {
     "data": {
      "text/plain": [
       "<matplotlib.axes._subplots.AxesSubplot at 0x118b09198>"
      ]
     },
     "execution_count": 29,
     "metadata": {},
     "output_type": "execute_result"
    },
    {
     "data": {
      "image/png": "[encoded data removed]",
      "text/plain": [
       "<matplotlib.figure.Figure at 0x118b13be0>"
      ]
     },
     "metadata": {},
     "output_type": "display_data"
    }
   ],
   "source": [
    "plotdf = schedule[(schedule.LineID == \"46A\") & (schedule.JourneyPatternID == 1)][[\"Lon\", \"Lat\"]]\n",
    "plotdf.plot.scatter(x=\"Lon\", y=\"Lat\")"
   ]
  },
  {
   "cell_type": "code",
   "execution_count": null,
   "metadata": {
    "collapsed": true
   },
   "outputs": [],
   "source": []
  },
  {
   "cell_type": "code",
   "execution_count": 41,
   "metadata": {
    "collapsed": false
   },
   "outputs": [
    {
     "data": {
      "text/html": [
       "<div>\n",
       "<table border=\"1\" class=\"dataframe\">\n",
       "  <thead>\n",
       "    <tr style=\"text-align: right;\">\n",
       "      <th></th>\n",
       "      <th>StopID</th>\n",
       "      <th>Runtime</th>\n",
       "    </tr>\n",
       "  </thead>\n",
       "  <tbody>\n",
       "    <tr>\n",
       "      <th>14</th>\n",
       "      <td>807</td>\n",
       "      <td>-63.045968</td>\n",
       "    </tr>\n",
       "    <tr>\n",
       "      <th>15</th>\n",
       "      <td>808</td>\n",
       "      <td>174.199164</td>\n",
       "    </tr>\n",
       "    <tr>\n",
       "      <th>16</th>\n",
       "      <td>809</td>\n",
       "      <td>205.947537</td>\n",
       "    </tr>\n",
       "    <tr>\n",
       "      <th>17</th>\n",
       "      <td>810</td>\n",
       "      <td>285.002447</td>\n",
       "    </tr>\n",
       "    <tr>\n",
       "      <th>18</th>\n",
       "      <td>811</td>\n",
       "      <td>355.086284</td>\n",
       "    </tr>\n",
       "    <tr>\n",
       "      <th>19</th>\n",
       "      <td>812</td>\n",
       "      <td>403.099066</td>\n",
       "    </tr>\n",
       "    <tr>\n",
       "      <th>20</th>\n",
       "      <td>813</td>\n",
       "      <td>434.422817</td>\n",
       "    </tr>\n",
       "    <tr>\n",
       "      <th>21</th>\n",
       "      <td>814</td>\n",
       "      <td>527.628022</td>\n",
       "    </tr>\n",
       "    <tr>\n",
       "      <th>0</th>\n",
       "      <td>81</td>\n",
       "      <td>698.811580</td>\n",
       "    </tr>\n",
       "    <tr>\n",
       "      <th>22</th>\n",
       "      <td>817</td>\n",
       "      <td>796.512141</td>\n",
       "    </tr>\n",
       "    <tr>\n",
       "      <th>23</th>\n",
       "      <td>818</td>\n",
       "      <td>810.778821</td>\n",
       "    </tr>\n",
       "    <tr>\n",
       "      <th>24</th>\n",
       "      <td>819</td>\n",
       "      <td>880.965174</td>\n",
       "    </tr>\n",
       "    <tr>\n",
       "      <th>1</th>\n",
       "      <td>264</td>\n",
       "      <td>990.371343</td>\n",
       "    </tr>\n",
       "    <tr>\n",
       "      <th>57</th>\n",
       "      <td>6059</td>\n",
       "      <td>1095.466587</td>\n",
       "    </tr>\n",
       "    <tr>\n",
       "      <th>2</th>\n",
       "      <td>334</td>\n",
       "      <td>1293.410424</td>\n",
       "    </tr>\n",
       "    <tr>\n",
       "      <th>3</th>\n",
       "      <td>406</td>\n",
       "      <td>1489.695549</td>\n",
       "    </tr>\n",
       "    <tr>\n",
       "      <th>5</th>\n",
       "      <td>747</td>\n",
       "      <td>1622.096675</td>\n",
       "    </tr>\n",
       "    <tr>\n",
       "      <th>25</th>\n",
       "      <td>842</td>\n",
       "      <td>1705.298009</td>\n",
       "    </tr>\n",
       "    <tr>\n",
       "      <th>26</th>\n",
       "      <td>845</td>\n",
       "      <td>1775.623049</td>\n",
       "    </tr>\n",
       "    <tr>\n",
       "      <th>27</th>\n",
       "      <td>846</td>\n",
       "      <td>1842.809590</td>\n",
       "    </tr>\n",
       "    <tr>\n",
       "      <th>28</th>\n",
       "      <td>847</td>\n",
       "      <td>1909.119912</td>\n",
       "    </tr>\n",
       "    <tr>\n",
       "      <th>29</th>\n",
       "      <td>848</td>\n",
       "      <td>1973.055650</td>\n",
       "    </tr>\n",
       "    <tr>\n",
       "      <th>51</th>\n",
       "      <td>2795</td>\n",
       "      <td>2025.341224</td>\n",
       "    </tr>\n",
       "    <tr>\n",
       "      <th>6</th>\n",
       "      <td>756</td>\n",
       "      <td>2083.394397</td>\n",
       "    </tr>\n",
       "    <tr>\n",
       "      <th>7</th>\n",
       "      <td>757</td>\n",
       "      <td>2146.426703</td>\n",
       "    </tr>\n",
       "    <tr>\n",
       "      <th>8</th>\n",
       "      <td>758</td>\n",
       "      <td>2182.696976</td>\n",
       "    </tr>\n",
       "    <tr>\n",
       "      <th>9</th>\n",
       "      <td>759</td>\n",
       "      <td>2250.713840</td>\n",
       "    </tr>\n",
       "    <tr>\n",
       "      <th>10</th>\n",
       "      <td>760</td>\n",
       "      <td>2368.166589</td>\n",
       "    </tr>\n",
       "    <tr>\n",
       "      <th>12</th>\n",
       "      <td>762</td>\n",
       "      <td>2446.598743</td>\n",
       "    </tr>\n",
       "    <tr>\n",
       "      <th>11</th>\n",
       "      <td>761</td>\n",
       "      <td>2466.105324</td>\n",
       "    </tr>\n",
       "    <tr>\n",
       "      <th>13</th>\n",
       "      <td>763</td>\n",
       "      <td>2502.974354</td>\n",
       "    </tr>\n",
       "    <tr>\n",
       "      <th>30</th>\n",
       "      <td>2007</td>\n",
       "      <td>2560.956679</td>\n",
       "    </tr>\n",
       "    <tr>\n",
       "      <th>31</th>\n",
       "      <td>2008</td>\n",
       "      <td>2636.982614</td>\n",
       "    </tr>\n",
       "    <tr>\n",
       "      <th>32</th>\n",
       "      <td>2009</td>\n",
       "      <td>2680.216787</td>\n",
       "    </tr>\n",
       "    <tr>\n",
       "      <th>33</th>\n",
       "      <td>2010</td>\n",
       "      <td>2762.488254</td>\n",
       "    </tr>\n",
       "    <tr>\n",
       "      <th>4</th>\n",
       "      <td>435</td>\n",
       "      <td>2827.948078</td>\n",
       "    </tr>\n",
       "    <tr>\n",
       "      <th>58</th>\n",
       "      <td>7353</td>\n",
       "      <td>2908.901230</td>\n",
       "    </tr>\n",
       "    <tr>\n",
       "      <th>55</th>\n",
       "      <td>4571</td>\n",
       "      <td>2972.224440</td>\n",
       "    </tr>\n",
       "    <tr>\n",
       "      <th>34</th>\n",
       "      <td>2013</td>\n",
       "      <td>3036.434383</td>\n",
       "    </tr>\n",
       "    <tr>\n",
       "      <th>35</th>\n",
       "      <td>2014</td>\n",
       "      <td>3099.619227</td>\n",
       "    </tr>\n",
       "    <tr>\n",
       "      <th>56</th>\n",
       "      <td>4636</td>\n",
       "      <td>3129.326157</td>\n",
       "    </tr>\n",
       "    <tr>\n",
       "      <th>37</th>\n",
       "      <td>2016</td>\n",
       "      <td>3212.274625</td>\n",
       "    </tr>\n",
       "    <tr>\n",
       "      <th>36</th>\n",
       "      <td>2015</td>\n",
       "      <td>3263.502912</td>\n",
       "    </tr>\n",
       "    <tr>\n",
       "      <th>38</th>\n",
       "      <td>2017</td>\n",
       "      <td>3298.584539</td>\n",
       "    </tr>\n",
       "    <tr>\n",
       "      <th>39</th>\n",
       "      <td>2018</td>\n",
       "      <td>3356.029618</td>\n",
       "    </tr>\n",
       "    <tr>\n",
       "      <th>40</th>\n",
       "      <td>2019</td>\n",
       "      <td>3380.466880</td>\n",
       "    </tr>\n",
       "    <tr>\n",
       "      <th>41</th>\n",
       "      <td>2020</td>\n",
       "      <td>3419.691824</td>\n",
       "    </tr>\n",
       "    <tr>\n",
       "      <th>42</th>\n",
       "      <td>2021</td>\n",
       "      <td>3424.972116</td>\n",
       "    </tr>\n",
       "    <tr>\n",
       "      <th>43</th>\n",
       "      <td>2022</td>\n",
       "      <td>3494.947611</td>\n",
       "    </tr>\n",
       "    <tr>\n",
       "      <th>52</th>\n",
       "      <td>4565</td>\n",
       "      <td>3611.985417</td>\n",
       "    </tr>\n",
       "    <tr>\n",
       "      <th>53</th>\n",
       "      <td>4566</td>\n",
       "      <td>3633.023491</td>\n",
       "    </tr>\n",
       "    <tr>\n",
       "      <th>54</th>\n",
       "      <td>4567</td>\n",
       "      <td>3677.925015</td>\n",
       "    </tr>\n",
       "    <tr>\n",
       "      <th>44</th>\n",
       "      <td>2031</td>\n",
       "      <td>3757.916515</td>\n",
       "    </tr>\n",
       "    <tr>\n",
       "      <th>45</th>\n",
       "      <td>2032</td>\n",
       "      <td>3849.015546</td>\n",
       "    </tr>\n",
       "    <tr>\n",
       "      <th>47</th>\n",
       "      <td>2034</td>\n",
       "      <td>3883.207401</td>\n",
       "    </tr>\n",
       "    <tr>\n",
       "      <th>46</th>\n",
       "      <td>2033</td>\n",
       "      <td>3915.487588</td>\n",
       "    </tr>\n",
       "    <tr>\n",
       "      <th>48</th>\n",
       "      <td>2035</td>\n",
       "      <td>3961.184440</td>\n",
       "    </tr>\n",
       "    <tr>\n",
       "      <th>49</th>\n",
       "      <td>2036</td>\n",
       "      <td>4027.504738</td>\n",
       "    </tr>\n",
       "    <tr>\n",
       "      <th>50</th>\n",
       "      <td>2039</td>\n",
       "      <td>4136.277802</td>\n",
       "    </tr>\n",
       "  </tbody>\n",
       "</table>\n",
       "</div>"
      ],
      "text/plain": [
       "    StopID      Runtime\n",
       "14     807   -63.045968\n",
       "15     808   174.199164\n",
       "16     809   205.947537\n",
       "17     810   285.002447\n",
       "18     811   355.086284\n",
       "19     812   403.099066\n",
       "20     813   434.422817\n",
       "21     814   527.628022\n",
       "0       81   698.811580\n",
       "22     817   796.512141\n",
       "23     818   810.778821\n",
       "24     819   880.965174\n",
       "1      264   990.371343\n",
       "57    6059  1095.466587\n",
       "2      334  1293.410424\n",
       "3      406  1489.695549\n",
       "5      747  1622.096675\n",
       "25     842  1705.298009\n",
       "26     845  1775.623049\n",
       "27     846  1842.809590\n",
       "28     847  1909.119912\n",
       "29     848  1973.055650\n",
       "51    2795  2025.341224\n",
       "6      756  2083.394397\n",
       "7      757  2146.426703\n",
       "8      758  2182.696976\n",
       "9      759  2250.713840\n",
       "10     760  2368.166589\n",
       "12     762  2446.598743\n",
       "11     761  2466.105324\n",
       "13     763  2502.974354\n",
       "30    2007  2560.956679\n",
       "31    2008  2636.982614\n",
       "32    2009  2680.216787\n",
       "33    2010  2762.488254\n",
       "4      435  2827.948078\n",
       "58    7353  2908.901230\n",
       "55    4571  2972.224440\n",
       "34    2013  3036.434383\n",
       "35    2014  3099.619227\n",
       "56    4636  3129.326157\n",
       "37    2016  3212.274625\n",
       "36    2015  3263.502912\n",
       "38    2017  3298.584539\n",
       "39    2018  3356.029618\n",
       "40    2019  3380.466880\n",
       "41    2020  3419.691824\n",
       "42    2021  3424.972116\n",
       "43    2022  3494.947611\n",
       "52    4565  3611.985417\n",
       "53    4566  3633.023491\n",
       "54    4567  3677.925015\n",
       "44    2031  3757.916515\n",
       "45    2032  3849.015546\n",
       "47    2034  3883.207401\n",
       "46    2033  3915.487588\n",
       "48    2035  3961.184440\n",
       "49    2036  4027.504738\n",
       "50    2039  4136.277802"
      ]
     },
     "execution_count": 41,
     "metadata": {},
     "output_type": "execute_result"
    }
   ],
   "source": [
    "out = df[df.JourneyPatternID == 1]\n",
    "\n",
    "out = out.groupby(['StopID'])['Runtime'].mean().reset_index()\n",
    "\n",
    "# out\n",
    "out.sort_values(['Runtime'])\n"
   ]
  },
  {
   "cell_type": "code",
   "execution_count": null,
   "metadata": {
    "collapsed": true
   },
   "outputs": [],
   "source": []
  },
  {
   "cell_type": "code",
   "execution_count": null,
   "metadata": {
    "collapsed": true
   },
   "outputs": [],
   "source": []
  }
 ],
 "metadata": {
  "kernelspec": {
   "display_name": "Python 3",
   "language": "python",
   "name": "python3"
  },
  "language_info": {
   "codemirror_mode": {
    "name": "ipython",
    "version": 3
   },
   "file_extension": ".py",
   "mimetype": "text/x-python",
   "name": "python",
   "nbconvert_exporter": "python",
   "pygments_lexer": "ipython3",
   "version": "3.6.0"
  }
 },
 "nbformat": 4,
 "nbformat_minor": 2
}
