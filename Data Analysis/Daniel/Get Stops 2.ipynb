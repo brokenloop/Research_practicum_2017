{
 "cells": [
  {
   "cell_type": "code",
   "execution_count": 125,
   "metadata": {
    "collapsed": true
   },
   "outputs": [],
   "source": [
    "import pandas as pd\n",
    "import numpy as np\n",
    "import os\n",
    "\n",
    "import matplotlib.pyplot as plt\n",
    "%matplotlib inline"
   ]
  },
  {
   "cell_type": "code",
   "execution_count": 126,
   "metadata": {
    "collapsed": true
   },
   "outputs": [],
   "source": [
    "def read_data(read_file):\n",
    "    df = pd.read_csv(read_file, low_memory=False)\n",
    "#     df.columns = [\"Timestamp\", \"LineID\", \"JourneyPatternID\", \"TimeFrame\", \n",
    "#                   \"VehicleJourneyID\", \"Lon\", \"Lat\", \"VehicleID\", \"StopID\", \n",
    "#                   \"AtStop\", \"HumanTime\", \"Day\", \"Hour\", \"JourneyGroup\", \"Runtime\"]\n",
    "\n",
    "    return df"
   ]
  },
  {
   "cell_type": "code",
   "execution_count": 127,
   "metadata": {
    "collapsed": true
   },
   "outputs": [],
   "source": [
    "def read_schedule(schedule_file):\n",
    "    schedule = pd.read_csv(schedule_file, low_memory=False, encoding=\"ISO-8859-1\")\n",
    "    \n",
    "    return schedule\n"
   ]
  },
  {
   "cell_type": "code",
   "execution_count": 128,
   "metadata": {
    "collapsed": true
   },
   "outputs": [],
   "source": [
    "def clean_df(df):\n",
    "    # Dropping null values\n",
    "    df = df.dropna()\n",
    "    \n",
    "    # Convert LineID to str\n",
    "    df['LineID'] = df['LineID'].astype('str')\n",
    "    \n",
    "    return df\n"
   ]
  },
  {
   "cell_type": "code",
   "execution_count": 129,
   "metadata": {
    "collapsed": true
   },
   "outputs": [],
   "source": [
    "def clean_schedule(schedule):\n",
    "    \n",
    "    # drop null values\n",
    "    schedule.dropna(0, inplace=True)\n",
    "    \n",
    "    # extract StopID\n",
    "    schedule[\"StopID\"] = schedule['stop_id'].apply(lambda x: x[-4:])\n",
    "    \n",
    "    # Convert StopIDs back to int\n",
    "    schedule['StopID'] = schedule['StopID'].astype('int64')\n",
    "    \n",
    "    # Extracting LineID from trip_id\n",
    "    schedule[\"LineID\"] = schedule[\"trip_id\"].str.extract('\\-(.*?)\\-')\n",
    "    \n",
    "    # Extracting direction from trip_id\n",
    "    schedule[\"Direction\"] = schedule['trip_id'].apply(lambda x: x[-1:])\n",
    "    \n",
    "    # Dropping non-major journeypatterns\n",
    "    schedule = schedule[(schedule.Direction == \"I\") | (schedule.Direction == \"O\")]\n",
    "    \n",
    "    # Converting Direction to JourneyPatternID\n",
    "    schedule[\"JourneyPatternID\"] = schedule['Direction'].apply(lambda x: \"1001\" if x == \"I\" else \"0001\")\n",
    "    schedule['JourneyPatternID'] = schedule['JourneyPatternID'].astype('int64')\n",
    "    \n",
    "    # dropping irrelevant columns\n",
    "    for column in ['trip_id', 'stop_id', 'arrival_time', 'departure_time', \n",
    "                   'shape_dist_traveled', 'Direction', 'stop_sequence', 'stop_headsign']:\n",
    "            schedule = schedule.drop(column, 1)\n",
    "            \n",
    "    # Renaming 'Long' to 'Lon'\n",
    "    schedule = schedule.rename(columns={'Long': 'Lon'})\n",
    "    \n",
    "    return schedule"
   ]
  },
  {
   "cell_type": "code",
   "execution_count": 130,
   "metadata": {
    "collapsed": true
   },
   "outputs": [],
   "source": [
    "def get_common_stops(df, schedule, common_stops):\n",
    "#     line = str(df['LineID'].iloc[0])\n",
    "    line = df['LineID'].iloc[0]\n",
    "\n",
    "    \n",
    "    print(line)\n",
    "    \n",
    "    schedule_in = schedule[(schedule.LineID == line) & (schedule.JourneyPatternID == 1001)]\n",
    "    schedule_out = schedule[(schedule.LineID == line) & (schedule.JourneyPatternID == 1)]\n",
    "    df_1001 = df[df.JourneyPatternID == 1001]\n",
    "    df_0001 = df[df.JourneyPatternID == 1]\n",
    "\n",
    "    stops_in = set(schedule_in.StopID.unique())\n",
    "    stops_out = set(schedule_out.StopID.unique())\n",
    "\n",
    "    stops_1001 = set(df_1001.StopID.unique())\n",
    "    stops_0001 = set(df_0001.StopID.unique())\n",
    "    \n",
    "    print(\"Difference 1001\", len(stops_in ^ stops_1001))\n",
    "    print(\"Difference 0001\", len(stops_out ^ stops_0001))\n",
    "    \n",
    "    instops = stops_in & stops_1001\n",
    "    outstops = stops_out & stops_0001\n",
    "\n",
    "    allstops = instops | outstops\n",
    "    \n",
    "    return (allstops | common_stops)\n",
    "    "
   ]
  },
  {
   "cell_type": "code",
   "execution_count": 131,
   "metadata": {
    "collapsed": true
   },
   "outputs": [],
   "source": [
    "def save_stops(schedule, stops, write_file):\n",
    "    stops = list(stops)\n",
    "    schedule = schedule[schedule.StopID.isin(stops)]\n",
    "    \n",
    "    schedule.to_csv(write_file)"
   ]
  },
  {
   "cell_type": "code",
   "execution_count": 132,
   "metadata": {
    "collapsed": true
   },
   "outputs": [],
   "source": [
    "def main(read_directory, schedule_file, write_file):\n",
    "    \n",
    "    schedule = read_schedule(schedule_file)\n",
    "    schedule = clean_schedule(schedule)\n",
    "    \n",
    "    common_stops = set()\n",
    "    \n",
    "    for read_file in os.listdir(read_directory):\n",
    "        if read_file.endswith(\".csv\"):\n",
    "            print(\"Reading\", read_file, \"from\", read_directory)\n",
    "            \n",
    "            df = read_data(read_directory + read_file)\n",
    "            df = clean_df(df)\n",
    "            common_stops = get_common_stops(df, schedule, common_stops)\n",
    "            \n",
    "        print(\"Finished\", read_file)\n",
    "        print()\n",
    "        \n",
    "    save_stops(schedule, common_stops, write_file)\n",
    "\n",
    "    print(\"Finished main!\")    "
   ]
  },
  {
   "cell_type": "code",
   "execution_count": 133,
   "metadata": {
    "collapsed": false
   },
   "outputs": [
    {
     "name": "stderr",
     "output_type": "stream",
     "text": [
      "/Users/danieljordan/anaconda3/lib/python3.6/site-packages/ipykernel/__main__.py:13: FutureWarning: currently extract(expand=None) means expand=False (return Index/Series/DataFrame) but in a future version of pandas this will be changed to expand=True (return DataFrame)\n"
     ]
    },
    {
     "name": "stdout",
     "output_type": "stream",
     "text": [
      "Reading 1.csv from bus_data/clean_data4/\n",
      "1\n",
      "Difference 1001 6\n",
      "Difference 0001 0\n",
      "Finished 1.csv\n",
      "\n",
      "Reading 104.csv from bus_data/clean_data4/\n",
      "104\n",
      "Difference 1001 2\n",
      "Difference 0001 31\n",
      "Finished 104.csv\n",
      "\n",
      "Reading 11.csv from bus_data/clean_data4/\n",
      "11\n",
      "Difference 1001 64\n",
      "Difference 0001 4\n",
      "Finished 11.csv\n",
      "\n",
      "Reading 111.csv from bus_data/clean_data4/\n",
      "111\n",
      "Difference 1001 8\n",
      "Difference 0001 9\n",
      "Finished 111.csv\n",
      "\n",
      "Reading 114.csv from bus_data/clean_data4/\n",
      "114\n",
      "Difference 1001 30\n",
      "Difference 0001 1\n",
      "Finished 114.csv\n",
      "\n",
      "Reading 116.csv from bus_data/clean_data4/\n",
      "116\n",
      "Difference 1001 12\n",
      "Difference 0001 8\n",
      "Finished 116.csv\n",
      "\n",
      "Reading 118.csv from bus_data/clean_data4/\n",
      "118\n",
      "Difference 1001 8\n",
      "Difference 0001 0\n",
      "Finished 118.csv\n",
      "\n",
      "Reading 120.csv from bus_data/clean_data4/\n",
      "120\n",
      "Difference 1001 13\n",
      "Difference 0001 13\n",
      "Finished 120.csv\n",
      "\n",
      "Reading 123.csv from bus_data/clean_data4/\n",
      "123\n",
      "Difference 1001 1\n",
      "Difference 0001 0\n",
      "Finished 123.csv\n",
      "\n",
      "Reading 13.csv from bus_data/clean_data4/\n",
      "13\n",
      "Difference 1001 3\n",
      "Difference 0001 5\n",
      "Finished 13.csv\n",
      "\n",
      "Reading 130.csv from bus_data/clean_data4/\n",
      "130\n",
      "Difference 1001 1\n",
      "Difference 0001 1\n",
      "Finished 130.csv\n",
      "\n",
      "Reading 14.csv from bus_data/clean_data4/\n",
      "14\n",
      "Difference 1001 2\n",
      "Difference 0001 5\n",
      "Finished 14.csv\n",
      "\n",
      "Reading 140.csv from bus_data/clean_data4/\n",
      "140\n",
      "Difference 1001 2\n",
      "Difference 0001 4\n",
      "Finished 140.csv\n",
      "\n",
      "Reading 142.csv from bus_data/clean_data4/\n",
      "142\n",
      "Difference 1001 2\n",
      "Difference 0001 0\n",
      "Finished 142.csv\n",
      "\n",
      "Reading 145.csv from bus_data/clean_data4/\n",
      "145\n",
      "Difference 1001 5\n",
      "Difference 0001 2\n",
      "Finished 145.csv\n",
      "\n",
      "Reading 14C.csv from bus_data/clean_data4/\n",
      "14C\n",
      "Difference 1001 2\n",
      "Difference 0001 5\n",
      "Finished 14C.csv\n",
      "\n",
      "Reading 15.csv from bus_data/clean_data4/\n",
      "15\n",
      "Difference 1001 1\n",
      "Difference 0001 2\n",
      "Finished 15.csv\n",
      "\n",
      "Reading 150.csv from bus_data/clean_data4/\n",
      "150\n",
      "Difference 1001 0\n",
      "Difference 0001 2\n",
      "Finished 150.csv\n",
      "\n",
      "Reading 151.csv from bus_data/clean_data4/\n",
      "151\n",
      "Difference 1001 0\n",
      "Difference 0001 0\n",
      "Finished 151.csv\n",
      "\n",
      "Reading 15A.csv from bus_data/clean_data4/\n",
      "15A\n",
      "Difference 1001 1\n",
      "Difference 0001 3\n",
      "Finished 15A.csv\n",
      "\n",
      "Reading 15B.csv from bus_data/clean_data4/\n",
      "15B\n",
      "Difference 1001 6\n",
      "Difference 0001 9\n",
      "Finished 15B.csv\n",
      "\n",
      "Reading 16.csv from bus_data/clean_data4/\n",
      "16\n",
      "Difference 1001 2\n",
      "Difference 0001 22\n",
      "Finished 16.csv\n",
      "\n",
      "Reading 161.csv from bus_data/clean_data4/\n",
      "161\n",
      "Difference 1001 0\n",
      "Difference 0001 6\n",
      "Finished 161.csv\n",
      "\n",
      "Reading 16C.csv from bus_data/clean_data4/\n",
      "16C\n",
      "Difference 1001 4\n",
      "Difference 0001 21\n",
      "Finished 16C.csv\n",
      "\n",
      "Reading 17.csv from bus_data/clean_data4/\n",
      "17\n",
      "Difference 1001 6\n",
      "Difference 0001 4\n",
      "Finished 17.csv\n",
      "\n",
      "Reading 17A.csv from bus_data/clean_data4/\n",
      "17A\n",
      "Difference 1001 4\n",
      "Difference 0001 5\n",
      "Finished 17A.csv\n",
      "\n",
      "Reading 184.csv from bus_data/clean_data4/\n",
      "184\n",
      "Difference 1001 2\n",
      "Difference 0001 1\n",
      "Finished 184.csv\n",
      "\n",
      "Reading 185.csv from bus_data/clean_data4/\n",
      "185\n",
      "Difference 1001 7\n",
      "Difference 0001 10\n",
      "Finished 185.csv\n",
      "\n",
      "Reading 220.csv from bus_data/clean_data4/\n",
      "220\n",
      "Difference 1001 8\n",
      "Difference 0001 87\n",
      "Finished 220.csv\n",
      "\n",
      "Reading 236.csv from bus_data/clean_data4/\n",
      "236\n",
      "Difference 1001 0\n",
      "Difference 0001 1\n",
      "Finished 236.csv\n",
      "\n",
      "Reading 239.csv from bus_data/clean_data4/\n",
      "239\n",
      "Difference 1001 2\n",
      "Difference 0001 2\n",
      "Finished 239.csv\n",
      "\n",
      "Reading 25.csv from bus_data/clean_data4/\n",
      "25\n",
      "Difference 1001 2\n",
      "Difference 0001 0\n",
      "Finished 25.csv\n",
      "\n",
      "Reading 25A.csv from bus_data/clean_data4/\n",
      "25A\n",
      "Difference 1001 0\n",
      "Difference 0001 0\n",
      "Finished 25A.csv\n",
      "\n",
      "Reading 25X.csv from bus_data/clean_data4/\n",
      "25X\n",
      "Difference 1001 5\n",
      "Difference 0001 2\n",
      "Finished 25X.csv\n",
      "\n",
      "Reading 26.csv from bus_data/clean_data4/\n",
      "26\n",
      "Difference 1001 0\n",
      "Difference 0001 0\n",
      "Finished 26.csv\n",
      "\n",
      "Reading 27.csv from bus_data/clean_data4/\n",
      "27\n",
      "Difference 1001 1\n",
      "Difference 0001 9\n",
      "Finished 27.csv\n",
      "\n",
      "Reading 270.csv from bus_data/clean_data4/\n",
      "270\n",
      "Difference 1001 0\n",
      "Difference 0001 0\n",
      "Finished 270.csv\n",
      "\n",
      "Reading 27A.csv from bus_data/clean_data4/\n",
      "27A\n",
      "Difference 1001 1\n",
      "Difference 0001 0\n",
      "Finished 27A.csv\n",
      "\n",
      "Reading 27X.csv from bus_data/clean_data4/\n",
      "27X\n",
      "Difference 1001 3\n",
      "Difference 0001 2\n",
      "Finished 27X.csv\n",
      "\n",
      "Reading 29A.csv from bus_data/clean_data4/\n",
      "29A\n",
      "Difference 1001 1\n",
      "Difference 0001 2\n",
      "Finished 29A.csv\n",
      "\n",
      "Reading 31.csv from bus_data/clean_data4/\n",
      "31\n",
      "Difference 1001 0\n",
      "Difference 0001 16\n",
      "Finished 31.csv\n",
      "\n",
      "Reading 31A.csv from bus_data/clean_data4/\n",
      "31A\n",
      "Difference 1001 0\n",
      "Difference 0001 0\n",
      "Finished 31A.csv\n",
      "\n",
      "Reading 31B.csv from bus_data/clean_data4/\n",
      "31B\n",
      "Difference 1001 24\n",
      "Difference 0001 2\n",
      "Finished 31B.csv\n",
      "\n",
      "Reading 32.csv from bus_data/clean_data4/\n",
      "32\n",
      "Difference 1001 3\n",
      "Difference 0001 0\n",
      "Finished 32.csv\n",
      "\n",
      "Reading 32A.csv from bus_data/clean_data4/\n",
      "32A\n",
      "Difference 1001 57\n",
      "Difference 0001 54\n",
      "Finished 32A.csv\n",
      "\n",
      "Reading 32B.csv from bus_data/clean_data4/\n",
      "32B\n",
      "Difference 1001 57\n",
      "Difference 0001 53\n",
      "Finished 32B.csv\n",
      "\n",
      "Reading 32X.csv from bus_data/clean_data4/\n",
      "32X\n",
      "Difference 1001 8\n",
      "Difference 0001 7\n",
      "Finished 32X.csv\n",
      "\n",
      "Reading 33.csv from bus_data/clean_data4/\n",
      "33\n",
      "Difference 1001 12\n",
      "Difference 0001 24\n",
      "Finished 33.csv\n",
      "\n",
      "Reading 33A.csv from bus_data/clean_data4/\n",
      "33A\n",
      "Difference 1001 4\n",
      "Difference 0001 4\n",
      "Finished 33A.csv\n",
      "\n",
      "Reading 33B.csv from bus_data/clean_data4/\n",
      "33B\n",
      "Difference 1001 1\n",
      "Difference 0001 1\n",
      "Finished 33B.csv\n",
      "\n",
      "Reading 33X.csv from bus_data/clean_data4/\n",
      "33X\n",
      "Difference 1001 10\n",
      "Difference 0001 15\n",
      "Finished 33X.csv\n",
      "\n",
      "Reading 37.csv from bus_data/clean_data4/\n",
      "37\n",
      "Difference 1001 2\n",
      "Difference 0001 1\n",
      "Finished 37.csv\n",
      "\n",
      "Reading 38.csv from bus_data/clean_data4/\n",
      "38\n",
      "Difference 1001 10\n",
      "Difference 0001 9\n",
      "Finished 38.csv\n",
      "\n",
      "Reading 38A.csv from bus_data/clean_data4/\n",
      "38A\n",
      "Difference 1001 10\n",
      "Difference 0001 0\n",
      "Finished 38A.csv\n",
      "\n",
      "Reading 38B.csv from bus_data/clean_data4/\n",
      "38B\n",
      "Difference 1001 4\n",
      "Difference 0001 48\n",
      "Finished 38B.csv\n",
      "\n",
      "Reading 39.csv from bus_data/clean_data4/\n",
      "39\n",
      "Difference 1001 2\n",
      "Difference 0001 18\n",
      "Finished 39.csv\n",
      "\n",
      "Reading 40.csv from bus_data/clean_data4/\n",
      "40\n",
      "Difference 1001 1\n",
      "Difference 0001 6\n",
      "Finished 40.csv\n",
      "\n",
      "Reading 40B.csv from bus_data/clean_data4/\n",
      "40B\n",
      "Difference 1001 4\n",
      "Difference 0001 4\n",
      "Finished 40B.csv\n",
      "\n",
      "Reading 40D.csv from bus_data/clean_data4/\n",
      "40D\n",
      "Difference 1001 3\n",
      "Difference 0001 5\n",
      "Finished 40D.csv\n",
      "\n",
      "Reading 41.csv from bus_data/clean_data4/\n",
      "41\n",
      "Difference 1001 10\n",
      "Difference 0001 3\n",
      "Finished 41.csv\n",
      "\n",
      "Reading 41A.csv from bus_data/clean_data4/\n",
      "41A\n",
      "Difference 1001 8\n",
      "Difference 0001 0\n",
      "Finished 41A.csv\n",
      "\n",
      "Reading 41C.csv from bus_data/clean_data4/\n",
      "41C\n",
      "Difference 1001 5\n",
      "Difference 0001 2\n",
      "Finished 41C.csv\n",
      "\n",
      "Reading 41X.csv from bus_data/clean_data4/\n",
      "41X\n",
      "Difference 1001 21\n",
      "Difference 0001 16\n",
      "Finished 41X.csv\n",
      "\n",
      "Reading 42.csv from bus_data/clean_data4/\n",
      "42\n",
      "Difference 1001 8\n",
      "Difference 0001 4\n",
      "Finished 42.csv\n",
      "\n",
      "Reading 43.csv from bus_data/clean_data4/\n",
      "43\n",
      "Difference 1001 5\n",
      "Difference 0001 4\n",
      "Finished 43.csv\n",
      "\n",
      "Reading 44.csv from bus_data/clean_data4/\n",
      "44\n",
      "Difference 1001 3\n",
      "Difference 0001 2\n",
      "Finished 44.csv\n",
      "\n",
      "Reading 44B.csv from bus_data/clean_data4/\n",
      "44B\n",
      "Difference 1001 26\n",
      "Difference 0001 3\n",
      "Finished 44B.csv\n",
      "\n",
      "Reading 45A.csv from bus_data/clean_data4/\n",
      "45A\n",
      "Difference 1001 18\n",
      "Difference 0001 61\n",
      "Finished 45A.csv\n",
      "\n",
      "Reading 46A.csv from bus_data/clean_data4/\n",
      "46A\n",
      "Difference 1001 5\n",
      "Difference 0001 4\n",
      "Finished 46A.csv\n",
      "\n",
      "Reading 46E.csv from bus_data/clean_data4/\n",
      "46E\n",
      "Difference 1001 4\n",
      "Difference 0001 0\n",
      "Finished 46E.csv\n",
      "\n",
      "Reading 47.csv from bus_data/clean_data4/\n",
      "47\n",
      "Difference 1001 15\n",
      "Difference 0001 13\n",
      "Finished 47.csv\n",
      "\n",
      "Reading 49.csv from bus_data/clean_data4/\n",
      "49\n",
      "Difference 1001 12\n",
      "Difference 0001 1\n",
      "Finished 49.csv\n",
      "\n",
      "Reading 51D.csv from bus_data/clean_data4/\n",
      "51D\n",
      "Difference 1001 4\n",
      "Difference 0001 5\n",
      "Finished 51D.csv\n",
      "\n",
      "Reading 51X.csv from bus_data/clean_data4/\n",
      "51X\n",
      "Difference 1001 7\n",
      "Difference 0001 0\n",
      "Finished 51X.csv\n",
      "\n",
      "Reading 53.csv from bus_data/clean_data4/\n",
      "53\n",
      "Difference 1001 18\n",
      "Difference 0001 0\n",
      "Finished 53.csv\n",
      "\n",
      "Reading 54A.csv from bus_data/clean_data4/\n",
      "54A\n",
      "Difference 1001 0\n",
      "Difference 0001 0\n",
      "Finished 54A.csv\n",
      "\n",
      "Reading 56A.csv from bus_data/clean_data4/\n",
      "56A\n",
      "Difference 1001 2\n",
      "Difference 0001 55\n",
      "Finished 56A.csv\n",
      "\n",
      "Reading 59.csv from bus_data/clean_data4/\n",
      "59\n",
      "Difference 1001 0\n",
      "Difference 0001 1\n",
      "Finished 59.csv\n",
      "\n",
      "Reading 61.csv from bus_data/clean_data4/\n",
      "61\n",
      "Difference 1001 12\n",
      "Difference 0001 12\n",
      "Finished 61.csv\n",
      "\n",
      "Reading 63.csv from bus_data/clean_data4/\n",
      "63\n",
      "Difference 1001 50\n",
      "Difference 0001 16\n",
      "Finished 63.csv\n",
      "\n",
      "Reading 65.csv from bus_data/clean_data4/\n",
      "65\n",
      "Difference 1001 16\n",
      "Difference 0001 91\n",
      "Finished 65.csv\n",
      "\n",
      "Reading 65B.csv from bus_data/clean_data4/\n",
      "65B\n",
      "Difference 1001 1\n",
      "Difference 0001 1\n",
      "Finished 65B.csv\n",
      "\n",
      "Reading 66.csv from bus_data/clean_data4/\n",
      "66\n",
      "Difference 1001 1\n",
      "Difference 0001 1\n",
      "Finished 66.csv\n",
      "\n",
      "Reading 66B.csv from bus_data/clean_data4/\n",
      "66B\n",
      "Difference 1001 3\n",
      "Difference 0001 0\n",
      "Finished 66B.csv\n",
      "\n",
      "Reading 66X.csv from bus_data/clean_data4/\n",
      "66X\n",
      "Difference 1001 15\n",
      "Difference 0001 9\n",
      "Finished 66X.csv\n",
      "\n",
      "Reading 67.csv from bus_data/clean_data4/\n",
      "67\n",
      "Difference 1001 5\n",
      "Difference 0001 1\n",
      "Finished 67.csv\n",
      "\n",
      "Reading 67X.csv from bus_data/clean_data4/\n",
      "67X\n",
      "Difference 1001 14\n",
      "Difference 0001 10\n",
      "Finished 67X.csv\n",
      "\n",
      "Reading 68.csv from bus_data/clean_data4/\n",
      "68\n",
      "Difference 1001 84\n",
      "Difference 0001 13\n",
      "Finished 68.csv\n",
      "\n",
      "Reading 68A.csv from bus_data/clean_data4/\n",
      "68A\n",
      "Difference 1001 0\n",
      "Difference 0001 1\n",
      "Finished 68A.csv\n",
      "\n",
      "Reading 69.csv from bus_data/clean_data4/\n",
      "69\n",
      "Difference 1001 0\n",
      "Difference 0001 0\n",
      "Finished 69.csv\n",
      "\n",
      "Reading 69X.csv from bus_data/clean_data4/\n",
      "69X\n",
      "Difference 1001 5\n",
      "Difference 0001 5\n",
      "Finished 69X.csv\n",
      "\n",
      "Reading 7.csv from bus_data/clean_data4/\n",
      "7\n",
      "Difference 1001 6\n",
      "Difference 0001 9\n",
      "Finished 7.csv\n",
      "\n",
      "Reading 70.csv from bus_data/clean_data4/\n",
      "70\n",
      "Difference 1001 1\n",
      "Difference 0001 0\n",
      "Finished 70.csv\n",
      "\n",
      "Reading 747.csv from bus_data/clean_data4/\n",
      "747\n",
      "Difference 1001 3\n",
      "Difference 0001 5\n",
      "Finished 747.csv\n",
      "\n",
      "Reading 75.csv from bus_data/clean_data4/\n",
      "75\n",
      "Difference 1001 15\n",
      "Difference 0001 12\n",
      "Finished 75.csv\n",
      "\n",
      "Reading 76.csv from bus_data/clean_data4/\n",
      "76\n",
      "Difference 1001 0\n",
      "Difference 0001 0\n",
      "Finished 76.csv\n",
      "\n",
      "Reading 76A.csv from bus_data/clean_data4/\n",
      "76A\n",
      "Difference 1001 0\n",
      "Difference 0001 3\n",
      "Finished 76A.csv\n",
      "\n",
      "Reading 77A.csv from bus_data/clean_data4/\n",
      "77A\n",
      "Difference 1001 1\n",
      "Difference 0001 2\n",
      "Finished 77A.csv\n",
      "\n",
      "Reading 79.csv from bus_data/clean_data4/\n",
      "79\n",
      "Difference 1001 0\n",
      "Difference 0001 1\n",
      "Finished 79.csv\n",
      "\n",
      "Reading 79A.csv from bus_data/clean_data4/\n",
      "79A\n",
      "Difference 1001 0\n",
      "Difference 0001 0\n",
      "Finished 79A.csv\n",
      "\n",
      "Reading 7B.csv from bus_data/clean_data4/\n",
      "7B\n",
      "Difference 1001 4\n",
      "Difference 0001 5\n",
      "Finished 7B.csv\n",
      "\n",
      "Reading 7D.csv from bus_data/clean_data4/\n",
      "7D\n",
      "Difference 1001 55\n",
      "Difference 0001 9\n",
      "Finished 7D.csv\n",
      "\n",
      "Reading 8.csv from bus_data/clean_data4/\n",
      "8\n",
      "Difference 1001 0\n",
      "Difference 0001 1\n",
      "Finished 8.csv\n",
      "\n",
      "Reading 83.csv from bus_data/clean_data4/\n",
      "83\n",
      "Difference 1001 2\n",
      "Difference 0001 73\n",
      "Finished 83.csv\n",
      "\n",
      "Reading 83A.csv from bus_data/clean_data4/\n",
      "83A\n",
      "Difference 1001 2\n",
      "Difference 0001 71\n",
      "Finished 83A.csv\n",
      "\n",
      "Reading 84.csv from bus_data/clean_data4/\n",
      "84\n",
      "Difference 1001 89\n",
      "Difference 0001 2\n",
      "Finished 84.csv\n",
      "\n",
      "Reading 84A.csv from bus_data/clean_data4/\n",
      "84A\n",
      "Difference 1001 15\n",
      "Difference 0001 9\n",
      "Finished 84A.csv\n",
      "\n",
      "Reading 84X.csv from bus_data/clean_data4/\n",
      "84X\n",
      "Difference 1001 6\n",
      "Difference 0001 4\n",
      "Finished 84X.csv\n",
      "\n",
      "Reading 9.csv from bus_data/clean_data4/\n",
      "9\n",
      "Difference 1001 1\n",
      "Difference 0001 1\n",
      "Finished 9.csv\n",
      "\n",
      "Reading PP07.csv from bus_data/clean_data4/\n",
      "PP07\n",
      "Difference 1001 11\n",
      "Difference 0001 0\n",
      "Finished PP07.csv\n",
      "\n",
      "Finished main!\n"
     ]
    }
   ],
   "source": [
    "read_directory = \"bus_data/clean_data4/\"\n",
    "\n",
    "schedule_file = 'bus_data/dublinbus_scheduledData2013csv.csv'\n",
    "write_file = 'bus_data/static_data2/stops.csv'\n",
    "\n",
    "main(read_directory, schedule_file, write_file)"
   ]
  },
  {
   "cell_type": "code",
   "execution_count": null,
   "metadata": {
    "collapsed": true
   },
   "outputs": [],
   "source": []
  },
  {
   "cell_type": "code",
   "execution_count": null,
   "metadata": {
    "collapsed": true
   },
   "outputs": [],
   "source": []
  },
  {
   "cell_type": "code",
   "execution_count": null,
   "metadata": {
    "collapsed": true
   },
   "outputs": [],
   "source": []
  },
  {
   "cell_type": "code",
   "execution_count": 112,
   "metadata": {
    "collapsed": false
   },
   "outputs": [],
   "source": [
    "read_directory = \"bus_data/clean_data4/\"\n",
    "data_file = \"46A.csv\"\n",
    "\n",
    "schedule_file = 'bus_data/dublinbus_scheduledData2013csv.csv'\n",
    "\n",
    "df = read_data(read_directory + data_file)\n",
    "schedule = read_schedule(schedule_file)"
   ]
  },
  {
   "cell_type": "code",
   "execution_count": 113,
   "metadata": {
    "collapsed": false
   },
   "outputs": [
    {
     "name": "stderr",
     "output_type": "stream",
     "text": [
      "/Users/danieljordan/anaconda3/lib/python3.6/site-packages/ipykernel/__main__.py:13: FutureWarning: currently extract(expand=None) means expand=False (return Index/Series/DataFrame) but in a future version of pandas this will be changed to expand=True (return DataFrame)\n"
     ]
    }
   ],
   "source": [
    "df = clean_df(df)\n",
    "schedule = clean_schedule(schedule)"
   ]
  },
  {
   "cell_type": "code",
   "execution_count": 114,
   "metadata": {
    "collapsed": false
   },
   "outputs": [
    {
     "name": "stdout",
     "output_type": "stream",
     "text": [
      "46A\n",
      "Difference 1001 5\n",
      "Difference 0001 4\n",
      "114\n"
     ]
    }
   ],
   "source": [
    "common_stops = set()\n",
    "\n",
    "print(len(get_common_stops(df, schedule, common_stops)))"
   ]
  },
  {
   "cell_type": "markdown",
   "metadata": {},
   "source": [
    "### Static Variables"
   ]
  },
  {
   "cell_type": "code",
   "execution_count": 30,
   "metadata": {
    "collapsed": true
   },
   "outputs": [],
   "source": [
    "line = \"15\""
   ]
  },
  {
   "cell_type": "markdown",
   "metadata": {},
   "source": [
    "### Extracting Data"
   ]
  },
  {
   "cell_type": "code",
   "execution_count": 31,
   "metadata": {
    "collapsed": false
   },
   "outputs": [
    {
     "data": {
      "text/plain": [
       "(514482, 15)"
      ]
     },
     "execution_count": 31,
     "metadata": {},
     "output_type": "execute_result"
    }
   ],
   "source": [
    "df = pd.read_csv(\"bus_data/clean_data2/\" + line + \".csv\", low_memory=False, header=None)\n",
    "df.columns = [\"Timestamp\", \"LineID\", \"JourneyPatternID\", \"TimeFrame\", \n",
    "              \"VehicleJourneyID\", \"Lon\", \"Lat\", \"VehicleID\", \"StopID\", \n",
    "              \"AtStop\", \"HumanTime\", \"Day\", \"Hour\", \"JourneyGroup\", \"Runtime\"]\n",
    "\n",
    "#convert StopID to string\n",
    "\n",
    "# df['StopID'] = df['StopID'].astype('str')\n",
    "\n",
    "\n",
    "df.shape"
   ]
  },
  {
   "cell_type": "code",
   "execution_count": 38,
   "metadata": {
    "collapsed": false
   },
   "outputs": [],
   "source": [
    "schedule = pd.read_csv(\"bus_data/dublinbus_scheduledData2013csv.csv\", low_memory=False, encoding=\"ISO-8859-1\")\n"
   ]
  },
  {
   "cell_type": "code",
   "execution_count": 39,
   "metadata": {
    "collapsed": false
   },
   "outputs": [],
   "source": [
    "# Dropping null values - some in our dataframe are marked as 'null' (string) for some reason?\n",
    "schedule = schedule.dropna()\n",
    "# df = df[df.StopID != 'null']\n",
    "df = df.dropna()"
   ]
  },
  {
   "cell_type": "markdown",
   "metadata": {},
   "source": [
    "### Exploring schedule"
   ]
  },
  {
   "cell_type": "code",
   "execution_count": 41,
   "metadata": {
    "collapsed": false
   },
   "outputs": [],
   "source": [
    "# Extracting StopID from stop_id\n",
    "\n",
    "# schedule[\"StopID\"] = schedule['stop_id'].apply(lambda x: get_stop(x))\n",
    "schedule[\"StopID\"] = schedule['stop_id'].apply(lambda x: x[-4:])\n",
    "\n",
    "# Convert StopIDs back to int\n",
    "schedule['StopID'] = schedule['StopID'].astype('int64')\n"
   ]
  },
  {
   "cell_type": "code",
   "execution_count": 42,
   "metadata": {
    "collapsed": false
   },
   "outputs": [
    {
     "name": "stderr",
     "output_type": "stream",
     "text": [
      "/Users/danieljordan/anaconda3/lib/python3.6/site-packages/ipykernel/__main__.py:3: FutureWarning: currently extract(expand=None) means expand=False (return Index/Series/DataFrame) but in a future version of pandas this will be changed to expand=True (return DataFrame)\n",
      "  app.launch_new_instance()\n"
     ]
    }
   ],
   "source": [
    "# Extracting LineID from trip_id\n",
    "\n",
    "schedule[\"LineID\"] = schedule[\"trip_id\"].str.extract('\\-(.*?)\\-')"
   ]
  },
  {
   "cell_type": "code",
   "execution_count": 43,
   "metadata": {
    "collapsed": true
   },
   "outputs": [],
   "source": [
    "# Extracting direction from trip_id\n",
    "schedule[\"Direction\"] = schedule['trip_id'].apply(lambda x: x[-1:])"
   ]
  },
  {
   "cell_type": "code",
   "execution_count": 48,
   "metadata": {
    "collapsed": true
   },
   "outputs": [],
   "source": [
    "# Dropping non-major journeypatterns\n",
    "schedule = schedule[(schedule.Direction == \"I\") | (schedule.Direction == \"O\")]"
   ]
  },
  {
   "cell_type": "code",
   "execution_count": 49,
   "metadata": {
    "collapsed": true
   },
   "outputs": [],
   "source": [
    "# Converting Direction to JourneyPatternID\n",
    "\n",
    "schedule[\"JourneyPatternID\"] = schedule['Direction'].apply(lambda x: \"1001\" if x == \"I\" else \"0001\")\n",
    "schedule['JourneyPatternID'] = schedule['JourneyPatternID'].astype('int64')"
   ]
  },
  {
   "cell_type": "code",
   "execution_count": 50,
   "metadata": {
    "collapsed": false
   },
   "outputs": [],
   "source": [
    "# dropping irrelevant columns\n",
    "for column in ['trip_id', 'stop_id', 'arrival_time', 'departure_time', 'shape_dist_traveled', 'Direction']:\n",
    "        schedule = schedule.drop(column, 1)"
   ]
  },
  {
   "cell_type": "code",
   "execution_count": 51,
   "metadata": {
    "collapsed": false
   },
   "outputs": [
    {
     "name": "stdout",
     "output_type": "stream",
     "text": [
      "1 72\n",
      "1001 68\n"
     ]
    }
   ],
   "source": [
    "# Examining how many stops there are in either direction in schedule\n",
    "\n",
    "schedule_line = schedule[schedule.LineID == line]\n",
    "directions = schedule_line.JourneyPatternID.unique()\n",
    "\n",
    "df_stops = {}\n",
    "\n",
    "for direction in directions:\n",
    "    direction_count = schedule_line[schedule_line.JourneyPatternID == direction].StopID.nunique()\n",
    "    print(direction, direction_count)"
   ]
  },
  {
   "cell_type": "markdown",
   "metadata": {},
   "source": [
    "### Exploring line 15"
   ]
  },
  {
   "cell_type": "code",
   "execution_count": 52,
   "metadata": {
    "collapsed": false
   },
   "outputs": [
    {
     "name": "stdout",
     "output_type": "stream",
     "text": [
      "1 72\n",
      "1001 68\n"
     ]
    }
   ],
   "source": [
    "# Examining how many stops there are in either direction in df\n",
    "\n",
    "variants = df.JourneyPatternID.unique()\n",
    "\n",
    "for variant in variants:\n",
    "    stop_count = df[df.JourneyPatternID == variant].StopID.nunique()\n",
    "    print(variant, stop_count)"
   ]
  },
  {
   "cell_type": "markdown",
   "metadata": {},
   "source": [
    "### Comparing Schedule to our data\n"
   ]
  },
  {
   "cell_type": "code",
   "execution_count": 53,
   "metadata": {
    "collapsed": false
   },
   "outputs": [],
   "source": [
    "schedule_in = schedule[(schedule.LineID == line) & (schedule.JourneyPatternID == 1001)]\n",
    "schedule_out = schedule[(schedule.LineID == line) & (schedule.JourneyPatternID == 1)]\n",
    "df_1001 = df[df.JourneyPatternID == 1001]\n",
    "df_0001 = df[df.JourneyPatternID == 1]\n",
    "\n",
    "\n",
    "stops_in = set(schedule_in.StopID.unique())\n",
    "stops_out = set(schedule_out.StopID.unique())\n",
    "\n",
    "stops_1001 = set(df_1001.StopID.unique())\n",
    "stops_0001 = set(df_0001.StopID.unique())\n",
    "\n",
    "# print(len(set1.difference(set2)))\n"
   ]
  },
  {
   "cell_type": "code",
   "execution_count": 54,
   "metadata": {
    "collapsed": false
   },
   "outputs": [
    {
     "name": "stdout",
     "output_type": "stream",
     "text": [
      "{7236, 7244}\n",
      "set()\n"
     ]
    }
   ],
   "source": [
    "# symmetric difference between both sets of stops\n",
    "\n",
    "print(stops_in ^ stops_1001)\n",
    "print(stops_out ^ stops_0001)\n"
   ]
  },
  {
   "cell_type": "code",
   "execution_count": 55,
   "metadata": {
    "collapsed": false
   },
   "outputs": [
    {
     "data": {
      "text/plain": [
       "array(['Ballycullen Road', 'Hawkins St'], dtype=object)"
      ]
     },
     "execution_count": 55,
     "metadata": {},
     "output_type": "execute_result"
    }
   ],
   "source": [
    "schedule_out.stop_headsign.unique()"
   ]
  },
  {
   "cell_type": "markdown",
   "metadata": {},
   "source": [
    "### Drop all stops that aren't in both dataframes"
   ]
  },
  {
   "cell_type": "code",
   "execution_count": 18,
   "metadata": {
    "collapsed": true
   },
   "outputs": [],
   "source": [
    "instops = list(stops_in & stops_1001)\n",
    "outstops = list(stops_out & stops_0001)\n",
    "\n",
    "allstops = instops + outstops"
   ]
  },
  {
   "cell_type": "code",
   "execution_count": 19,
   "metadata": {
    "collapsed": false
   },
   "outputs": [
    {
     "name": "stdout",
     "output_type": "stream",
     "text": [
      "63\n",
      "59\n",
      "122\n"
     ]
    }
   ],
   "source": [
    "print(len(instops))\n",
    "print(len(outstops))\n",
    "print(len(allstops))"
   ]
  },
  {
   "cell_type": "code",
   "execution_count": 20,
   "metadata": {
    "collapsed": true
   },
   "outputs": [],
   "source": [
    "# have to do this part on a line by line basis. \n",
    "\n",
    "# df = df[df.StopID.isin(allstops)]\n",
    "# schedule = schedule[schedule.StopID.isin(allstops)]"
   ]
  },
  {
   "cell_type": "code",
   "execution_count": null,
   "metadata": {
    "collapsed": true
   },
   "outputs": [],
   "source": []
  },
  {
   "cell_type": "markdown",
   "metadata": {},
   "source": [
    "### Saving CSV with true stop locations"
   ]
  },
  {
   "cell_type": "code",
   "execution_count": 21,
   "metadata": {
    "collapsed": true
   },
   "outputs": [],
   "source": [
    "# Renaming Long to Lon, so it cooperates with our other data\n",
    "schedule = schedule.rename(columns={'Long': 'Lon'})"
   ]
  },
  {
   "cell_type": "code",
   "execution_count": 22,
   "metadata": {
    "collapsed": false
   },
   "outputs": [
    {
     "data": {
      "text/plain": [
       "(921993, 3)"
      ]
     },
     "execution_count": 22,
     "metadata": {},
     "output_type": "execute_result"
    }
   ],
   "source": [
    "stop_locations = schedule[['StopID', 'Lat', 'Lon']]\n",
    "stop_locations.shape"
   ]
  },
  {
   "cell_type": "code",
   "execution_count": 23,
   "metadata": {
    "collapsed": false
   },
   "outputs": [
    {
     "data": {
      "text/plain": [
       "(4719, 3)"
      ]
     },
     "execution_count": 23,
     "metadata": {},
     "output_type": "execute_result"
    }
   ],
   "source": [
    "stop_locations = stop_locations.drop_duplicates()\n",
    "stop_locations.shape"
   ]
  },
  {
   "cell_type": "code",
   "execution_count": 25,
   "metadata": {
    "collapsed": true
   },
   "outputs": [],
   "source": [
    "# stop_locations.to_csv(\"bus_data/stop_locations.csv\", index=False)"
   ]
  },
  {
   "cell_type": "code",
   "execution_count": null,
   "metadata": {
    "collapsed": true
   },
   "outputs": [],
   "source": []
  },
  {
   "cell_type": "markdown",
   "metadata": {},
   "source": [
    "### ---Rough Work---"
   ]
  },
  {
   "cell_type": "code",
   "execution_count": 29,
   "metadata": {
    "collapsed": false
   },
   "outputs": [
    {
     "data": {
      "text/plain": [
       "<matplotlib.axes._subplots.AxesSubplot at 0x118b09198>"
      ]
     },
     "execution_count": 29,
     "metadata": {},
     "output_type": "execute_result"
    },
    {
     "data": {
      "image/png": "[encoded data removed]",
      "text/plain": [
       "<matplotlib.figure.Figure at 0x118b13be0>"
      ]
     },
     "metadata": {},
     "output_type": "display_data"
    }
   ],
   "source": [
    "plotdf = schedule[(schedule.LineID == \"46A\") & (schedule.JourneyPatternID == 1)][[\"Lon\", \"Lat\"]]\n",
    "plotdf.plot.scatter(x=\"Lon\", y=\"Lat\")"
   ]
  },
  {
   "cell_type": "code",
   "execution_count": null,
   "metadata": {
    "collapsed": true
   },
   "outputs": [],
   "source": []
  },
  {
   "cell_type": "code",
   "execution_count": 41,
   "metadata": {
    "collapsed": false
   },
   "outputs": [
    {
     "data": {
      "text/html": [
       "<div>\n",
       "<table border=\"1\" class=\"dataframe\">\n",
       "  <thead>\n",
       "    <tr style=\"text-align: right;\">\n",
       "      <th></th>\n",
       "      <th>StopID</th>\n",
       "      <th>Runtime</th>\n",
       "    </tr>\n",
       "  </thead>\n",
       "  <tbody>\n",
       "    <tr>\n",
       "      <th>14</th>\n",
       "      <td>807</td>\n",
       "      <td>-63.045968</td>\n",
       "    </tr>\n",
       "    <tr>\n",
       "      <th>15</th>\n",
       "      <td>808</td>\n",
       "      <td>174.199164</td>\n",
       "    </tr>\n",
       "    <tr>\n",
       "      <th>16</th>\n",
       "      <td>809</td>\n",
       "      <td>205.947537</td>\n",
       "    </tr>\n",
       "    <tr>\n",
       "      <th>17</th>\n",
       "      <td>810</td>\n",
       "      <td>285.002447</td>\n",
       "    </tr>\n",
       "    <tr>\n",
       "      <th>18</th>\n",
       "      <td>811</td>\n",
       "      <td>355.086284</td>\n",
       "    </tr>\n",
       "    <tr>\n",
       "      <th>19</th>\n",
       "      <td>812</td>\n",
       "      <td>403.099066</td>\n",
       "    </tr>\n",
       "    <tr>\n",
       "      <th>20</th>\n",
       "      <td>813</td>\n",
       "      <td>434.422817</td>\n",
       "    </tr>\n",
       "    <tr>\n",
       "      <th>21</th>\n",
       "      <td>814</td>\n",
       "      <td>527.628022</td>\n",
       "    </tr>\n",
       "    <tr>\n",
       "      <th>0</th>\n",
       "      <td>81</td>\n",
       "      <td>698.811580</td>\n",
       "    </tr>\n",
       "    <tr>\n",
       "      <th>22</th>\n",
       "      <td>817</td>\n",
       "      <td>796.512141</td>\n",
       "    </tr>\n",
       "    <tr>\n",
       "      <th>23</th>\n",
       "      <td>818</td>\n",
       "      <td>810.778821</td>\n",
       "    </tr>\n",
       "    <tr>\n",
       "      <th>24</th>\n",
       "      <td>819</td>\n",
       "      <td>880.965174</td>\n",
       "    </tr>\n",
       "    <tr>\n",
       "      <th>1</th>\n",
       "      <td>264</td>\n",
       "      <td>990.371343</td>\n",
       "    </tr>\n",
       "    <tr>\n",
       "      <th>57</th>\n",
       "      <td>6059</td>\n",
       "      <td>1095.466587</td>\n",
       "    </tr>\n",
       "    <tr>\n",
       "      <th>2</th>\n",
       "      <td>334</td>\n",
       "      <td>1293.410424</td>\n",
       "    </tr>\n",
       "    <tr>\n",
       "      <th>3</th>\n",
       "      <td>406</td>\n",
       "      <td>1489.695549</td>\n",
       "    </tr>\n",
       "    <tr>\n",
       "      <th>5</th>\n",
       "      <td>747</td>\n",
       "      <td>1622.096675</td>\n",
       "    </tr>\n",
       "    <tr>\n",
       "      <th>25</th>\n",
       "      <td>842</td>\n",
       "      <td>1705.298009</td>\n",
       "    </tr>\n",
       "    <tr>\n",
       "      <th>26</th>\n",
       "      <td>845</td>\n",
       "      <td>1775.623049</td>\n",
       "    </tr>\n",
       "    <tr>\n",
       "      <th>27</th>\n",
       "      <td>846</td>\n",
       "      <td>1842.809590</td>\n",
       "    </tr>\n",
       "    <tr>\n",
       "      <th>28</th>\n",
       "      <td>847</td>\n",
       "      <td>1909.119912</td>\n",
       "    </tr>\n",
       "    <tr>\n",
       "      <th>29</th>\n",
       "      <td>848</td>\n",
       "      <td>1973.055650</td>\n",
       "    </tr>\n",
       "    <tr>\n",
       "      <th>51</th>\n",
       "      <td>2795</td>\n",
       "      <td>2025.341224</td>\n",
       "    </tr>\n",
       "    <tr>\n",
       "      <th>6</th>\n",
       "      <td>756</td>\n",
       "      <td>2083.394397</td>\n",
       "    </tr>\n",
       "    <tr>\n",
       "      <th>7</th>\n",
       "      <td>757</td>\n",
       "      <td>2146.426703</td>\n",
       "    </tr>\n",
       "    <tr>\n",
       "      <th>8</th>\n",
       "      <td>758</td>\n",
       "      <td>2182.696976</td>\n",
       "    </tr>\n",
       "    <tr>\n",
       "      <th>9</th>\n",
       "      <td>759</td>\n",
       "      <td>2250.713840</td>\n",
       "    </tr>\n",
       "    <tr>\n",
       "      <th>10</th>\n",
       "      <td>760</td>\n",
       "      <td>2368.166589</td>\n",
       "    </tr>\n",
       "    <tr>\n",
       "      <th>12</th>\n",
       "      <td>762</td>\n",
       "      <td>2446.598743</td>\n",
       "    </tr>\n",
       "    <tr>\n",
       "      <th>11</th>\n",
       "      <td>761</td>\n",
       "      <td>2466.105324</td>\n",
       "    </tr>\n",
       "    <tr>\n",
       "      <th>13</th>\n",
       "      <td>763</td>\n",
       "      <td>2502.974354</td>\n",
       "    </tr>\n",
       "    <tr>\n",
       "      <th>30</th>\n",
       "      <td>2007</td>\n",
       "      <td>2560.956679</td>\n",
       "    </tr>\n",
       "    <tr>\n",
       "      <th>31</th>\n",
       "      <td>2008</td>\n",
       "      <td>2636.982614</td>\n",
       "    </tr>\n",
       "    <tr>\n",
       "      <th>32</th>\n",
       "      <td>2009</td>\n",
       "      <td>2680.216787</td>\n",
       "    </tr>\n",
       "    <tr>\n",
       "      <th>33</th>\n",
       "      <td>2010</td>\n",
       "      <td>2762.488254</td>\n",
       "    </tr>\n",
       "    <tr>\n",
       "      <th>4</th>\n",
       "      <td>435</td>\n",
       "      <td>2827.948078</td>\n",
       "    </tr>\n",
       "    <tr>\n",
       "      <th>58</th>\n",
       "      <td>7353</td>\n",
       "      <td>2908.901230</td>\n",
       "    </tr>\n",
       "    <tr>\n",
       "      <th>55</th>\n",
       "      <td>4571</td>\n",
       "      <td>2972.224440</td>\n",
       "    </tr>\n",
       "    <tr>\n",
       "      <th>34</th>\n",
       "      <td>2013</td>\n",
       "      <td>3036.434383</td>\n",
       "    </tr>\n",
       "    <tr>\n",
       "      <th>35</th>\n",
       "      <td>2014</td>\n",
       "      <td>3099.619227</td>\n",
       "    </tr>\n",
       "    <tr>\n",
       "      <th>56</th>\n",
       "      <td>4636</td>\n",
       "      <td>3129.326157</td>\n",
       "    </tr>\n",
       "    <tr>\n",
       "      <th>37</th>\n",
       "      <td>2016</td>\n",
       "      <td>3212.274625</td>\n",
       "    </tr>\n",
       "    <tr>\n",
       "      <th>36</th>\n",
       "      <td>2015</td>\n",
       "      <td>3263.502912</td>\n",
       "    </tr>\n",
       "    <tr>\n",
       "      <th>38</th>\n",
       "      <td>2017</td>\n",
       "      <td>3298.584539</td>\n",
       "    </tr>\n",
       "    <tr>\n",
       "      <th>39</th>\n",
       "      <td>2018</td>\n",
       "      <td>3356.029618</td>\n",
       "    </tr>\n",
       "    <tr>\n",
       "      <th>40</th>\n",
       "      <td>2019</td>\n",
       "      <td>3380.466880</td>\n",
       "    </tr>\n",
       "    <tr>\n",
       "      <th>41</th>\n",
       "      <td>2020</td>\n",
       "      <td>3419.691824</td>\n",
       "    </tr>\n",
       "    <tr>\n",
       "      <th>42</th>\n",
       "      <td>2021</td>\n",
       "      <td>3424.972116</td>\n",
       "    </tr>\n",
       "    <tr>\n",
       "      <th>43</th>\n",
       "      <td>2022</td>\n",
       "      <td>3494.947611</td>\n",
       "    </tr>\n",
       "    <tr>\n",
       "      <th>52</th>\n",
       "      <td>4565</td>\n",
       "      <td>3611.985417</td>\n",
       "    </tr>\n",
       "    <tr>\n",
       "      <th>53</th>\n",
       "      <td>4566</td>\n",
       "      <td>3633.023491</td>\n",
       "    </tr>\n",
       "    <tr>\n",
       "      <th>54</th>\n",
       "      <td>4567</td>\n",
       "      <td>3677.925015</td>\n",
       "    </tr>\n",
       "    <tr>\n",
       "      <th>44</th>\n",
       "      <td>2031</td>\n",
       "      <td>3757.916515</td>\n",
       "    </tr>\n",
       "    <tr>\n",
       "      <th>45</th>\n",
       "      <td>2032</td>\n",
       "      <td>3849.015546</td>\n",
       "    </tr>\n",
       "    <tr>\n",
       "      <th>47</th>\n",
       "      <td>2034</td>\n",
       "      <td>3883.207401</td>\n",
       "    </tr>\n",
       "    <tr>\n",
       "      <th>46</th>\n",
       "      <td>2033</td>\n",
       "      <td>3915.487588</td>\n",
       "    </tr>\n",
       "    <tr>\n",
       "      <th>48</th>\n",
       "      <td>2035</td>\n",
       "      <td>3961.184440</td>\n",
       "    </tr>\n",
       "    <tr>\n",
       "      <th>49</th>\n",
       "      <td>2036</td>\n",
       "      <td>4027.504738</td>\n",
       "    </tr>\n",
       "    <tr>\n",
       "      <th>50</th>\n",
       "      <td>2039</td>\n",
       "      <td>4136.277802</td>\n",
       "    </tr>\n",
       "  </tbody>\n",
       "</table>\n",
       "</div>"
      ],
      "text/plain": [
       "    StopID      Runtime\n",
       "14     807   -63.045968\n",
       "15     808   174.199164\n",
       "16     809   205.947537\n",
       "17     810   285.002447\n",
       "18     811   355.086284\n",
       "19     812   403.099066\n",
       "20     813   434.422817\n",
       "21     814   527.628022\n",
       "0       81   698.811580\n",
       "22     817   796.512141\n",
       "23     818   810.778821\n",
       "24     819   880.965174\n",
       "1      264   990.371343\n",
       "57    6059  1095.466587\n",
       "2      334  1293.410424\n",
       "3      406  1489.695549\n",
       "5      747  1622.096675\n",
       "25     842  1705.298009\n",
       "26     845  1775.623049\n",
       "27     846  1842.809590\n",
       "28     847  1909.119912\n",
       "29     848  1973.055650\n",
       "51    2795  2025.341224\n",
       "6      756  2083.394397\n",
       "7      757  2146.426703\n",
       "8      758  2182.696976\n",
       "9      759  2250.713840\n",
       "10     760  2368.166589\n",
       "12     762  2446.598743\n",
       "11     761  2466.105324\n",
       "13     763  2502.974354\n",
       "30    2007  2560.956679\n",
       "31    2008  2636.982614\n",
       "32    2009  2680.216787\n",
       "33    2010  2762.488254\n",
       "4      435  2827.948078\n",
       "58    7353  2908.901230\n",
       "55    4571  2972.224440\n",
       "34    2013  3036.434383\n",
       "35    2014  3099.619227\n",
       "56    4636  3129.326157\n",
       "37    2016  3212.274625\n",
       "36    2015  3263.502912\n",
       "38    2017  3298.584539\n",
       "39    2018  3356.029618\n",
       "40    2019  3380.466880\n",
       "41    2020  3419.691824\n",
       "42    2021  3424.972116\n",
       "43    2022  3494.947611\n",
       "52    4565  3611.985417\n",
       "53    4566  3633.023491\n",
       "54    4567  3677.925015\n",
       "44    2031  3757.916515\n",
       "45    2032  3849.015546\n",
       "47    2034  3883.207401\n",
       "46    2033  3915.487588\n",
       "48    2035  3961.184440\n",
       "49    2036  4027.504738\n",
       "50    2039  4136.277802"
      ]
     },
     "execution_count": 41,
     "metadata": {},
     "output_type": "execute_result"
    }
   ],
   "source": [
    "out = df[df.JourneyPatternID == 1]\n",
    "\n",
    "out = out.groupby(['StopID'])['Runtime'].mean().reset_index()\n",
    "\n",
    "# out\n",
    "out.sort_values(['Runtime'])\n"
   ]
  },
  {
   "cell_type": "code",
   "execution_count": null,
   "metadata": {
    "collapsed": true
   },
   "outputs": [],
   "source": []
  },
  {
   "cell_type": "code",
   "execution_count": null,
   "metadata": {
    "collapsed": true
   },
   "outputs": [],
   "source": []
  }
 ],
 "metadata": {
  "kernelspec": {
   "display_name": "Python 3",
   "language": "python",
   "name": "python3"
  },
  "language_info": {
   "codemirror_mode": {
    "name": "ipython",
    "version": 3
   },
   "file_extension": ".py",
   "mimetype": "text/x-python",
   "name": "python",
   "nbconvert_exporter": "python",
   "pygments_lexer": "ipython3",
   "version": "3.6.0"
  }
 },
 "nbformat": 4,
 "nbformat_minor": 2
}
