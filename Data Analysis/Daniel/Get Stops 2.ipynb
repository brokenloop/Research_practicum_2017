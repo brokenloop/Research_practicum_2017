{
 "cells": [
  {
   "cell_type": "code",
   "execution_count": 18,
   "metadata": {
    "collapsed": true
   },
   "outputs": [],
   "source": [
    "import pandas as pd\n",
    "\n",
    "import matplotlib.pyplot as plt\n",
    "%matplotlib inline"
   ]
  },
  {
   "cell_type": "markdown",
   "metadata": {},
   "source": [
    "### Static Variables"
   ]
  },
  {
   "cell_type": "code",
   "execution_count": 19,
   "metadata": {
    "collapsed": true
   },
   "outputs": [],
   "source": [
    "line = \"15\""
   ]
  },
  {
   "cell_type": "markdown",
   "metadata": {},
   "source": [
    "### Reading Data"
   ]
  },
  {
   "cell_type": "code",
   "execution_count": 20,
   "metadata": {
    "collapsed": false
   },
   "outputs": [],
   "source": [
    "schedule = pd.read_csv(\"bus_data/dublinbus_scheduledData2013csv.csv\", low_memory=False, encoding=\"ISO-8859-1\")\n"
   ]
  },
  {
   "cell_type": "code",
   "execution_count": 21,
   "metadata": {
    "collapsed": false
   },
   "outputs": [],
   "source": [
    "# schedule.iloc[135418:135425]"
   ]
  },
  {
   "cell_type": "markdown",
   "metadata": {},
   "source": [
    "### Cleaning Data"
   ]
  },
  {
   "cell_type": "code",
   "execution_count": 22,
   "metadata": {
    "collapsed": true
   },
   "outputs": [],
   "source": [
    "# dropping rows with missing values \n",
    "schedule = schedule.dropna()"
   ]
  },
  {
   "cell_type": "code",
   "execution_count": 23,
   "metadata": {
    "collapsed": true
   },
   "outputs": [],
   "source": [
    "# Extracting StopID from stop_id\n",
    "\n",
    "def get_stop(string):\n",
    "    var = string[-4:]\n",
    "    return var\n",
    "\n",
    "schedule[\"StopID\"] = schedule['stop_id'].apply(lambda x: get_stop(x))"
   ]
  },
  {
   "cell_type": "code",
   "execution_count": 24,
   "metadata": {
    "collapsed": false
   },
   "outputs": [
    {
     "name": "stderr",
     "output_type": "stream",
     "text": [
      "/Users/danieljordan/anaconda3/lib/python3.6/site-packages/ipykernel/__main__.py:3: FutureWarning: currently extract(expand=None) means expand=False (return Index/Series/DataFrame) but in a future version of pandas this will be changed to expand=True (return DataFrame)\n",
      "  app.launch_new_instance()\n"
     ]
    }
   ],
   "source": [
    "# Extracting LineID from trip_id\n",
    "\n",
    "schedule[\"LineID\"] = schedule[\"trip_id\"].str.extract('\\-(.*?)\\-')"
   ]
  },
  {
   "cell_type": "code",
   "execution_count": 25,
   "metadata": {
    "collapsed": false
   },
   "outputs": [
    {
     "data": {
      "text/html": [
       "<div>\n",
       "<table border=\"1\" class=\"dataframe\">\n",
       "  <thead>\n",
       "    <tr style=\"text-align: right;\">\n",
       "      <th></th>\n",
       "      <th>trip_id</th>\n",
       "      <th>arrival_time</th>\n",
       "      <th>departure_time</th>\n",
       "      <th>stop_id</th>\n",
       "      <th>Name without locality</th>\n",
       "      <th>Name</th>\n",
       "      <th>Lat</th>\n",
       "      <th>Long</th>\n",
       "      <th>stop_sequence</th>\n",
       "      <th>stop_headsign</th>\n",
       "      <th>shape_dist_traveled</th>\n",
       "      <th>StopID</th>\n",
       "      <th>LineID</th>\n",
       "    </tr>\n",
       "  </thead>\n",
       "  <tbody>\n",
       "    <tr>\n",
       "      <th>0</th>\n",
       "      <td>1.1598.0-33A-b12-1.451.I</td>\n",
       "      <td>16:15:00</td>\n",
       "      <td>16:15:00</td>\n",
       "      <td>8240DB003813</td>\n",
       "      <td>Footbridge</td>\n",
       "      <td>Skerries Road</td>\n",
       "      <td>53.591377</td>\n",
       "      <td>-6.156176</td>\n",
       "      <td>1</td>\n",
       "      <td>Swords</td>\n",
       "      <td>0.000000</td>\n",
       "      <td>3813</td>\n",
       "      <td>33A</td>\n",
       "    </tr>\n",
       "    <tr>\n",
       "      <th>1</th>\n",
       "      <td>1.1598.0-33A-b12-1.451.I</td>\n",
       "      <td>16:15:39</td>\n",
       "      <td>16:15:39</td>\n",
       "      <td>8240DB003814</td>\n",
       "      <td>Barnageeragh Road</td>\n",
       "      <td>Balbriggan Rd</td>\n",
       "      <td>53.585544</td>\n",
       "      <td>-6.148605</td>\n",
       "      <td>2</td>\n",
       "      <td>Swords</td>\n",
       "      <td>827.070328</td>\n",
       "      <td>3814</td>\n",
       "      <td>33A</td>\n",
       "    </tr>\n",
       "    <tr>\n",
       "      <th>2</th>\n",
       "      <td>1.1598.0-33A-b12-1.451.I</td>\n",
       "      <td>16:17:11</td>\n",
       "      <td>16:17:11</td>\n",
       "      <td>8240DB003815</td>\n",
       "      <td>Barnageeragh Road</td>\n",
       "      <td>North Cliff Heights</td>\n",
       "      <td>53.581935</td>\n",
       "      <td>-6.125247</td>\n",
       "      <td>3</td>\n",
       "      <td>Swords</td>\n",
       "      <td>2746.649492</td>\n",
       "      <td>3815</td>\n",
       "      <td>33A</td>\n",
       "    </tr>\n",
       "    <tr>\n",
       "      <th>3</th>\n",
       "      <td>1.1598.0-33A-b12-1.451.I</td>\n",
       "      <td>16:17:22</td>\n",
       "      <td>16:17:22</td>\n",
       "      <td>8240DB003816</td>\n",
       "      <td>Mourne Drive</td>\n",
       "      <td>North Cliff Heights</td>\n",
       "      <td>53.580471</td>\n",
       "      <td>-6.127622</td>\n",
       "      <td>4</td>\n",
       "      <td>Swords</td>\n",
       "      <td>2973.900755</td>\n",
       "      <td>3816</td>\n",
       "      <td>33A</td>\n",
       "    </tr>\n",
       "    <tr>\n",
       "      <th>4</th>\n",
       "      <td>1.1598.0-33A-b12-1.451.I</td>\n",
       "      <td>16:17:44</td>\n",
       "      <td>16:17:44</td>\n",
       "      <td>8240DB003566</td>\n",
       "      <td>Selskar Court</td>\n",
       "      <td>Town Parks Rd</td>\n",
       "      <td>53.578067</td>\n",
       "      <td>-6.125055</td>\n",
       "      <td>5</td>\n",
       "      <td>Swords</td>\n",
       "      <td>3447.155571</td>\n",
       "      <td>3566</td>\n",
       "      <td>33A</td>\n",
       "    </tr>\n",
       "  </tbody>\n",
       "</table>\n",
       "</div>"
      ],
      "text/plain": [
       "                    trip_id arrival_time departure_time       stop_id  \\\n",
       "0  1.1598.0-33A-b12-1.451.I     16:15:00       16:15:00  8240DB003813   \n",
       "1  1.1598.0-33A-b12-1.451.I     16:15:39       16:15:39  8240DB003814   \n",
       "2  1.1598.0-33A-b12-1.451.I     16:17:11       16:17:11  8240DB003815   \n",
       "3  1.1598.0-33A-b12-1.451.I     16:17:22       16:17:22  8240DB003816   \n",
       "4  1.1598.0-33A-b12-1.451.I     16:17:44       16:17:44  8240DB003566   \n",
       "\n",
       "  Name without locality                 Name        Lat      Long  \\\n",
       "0            Footbridge        Skerries Road  53.591377 -6.156176   \n",
       "1     Barnageeragh Road        Balbriggan Rd  53.585544 -6.148605   \n",
       "2     Barnageeragh Road  North Cliff Heights  53.581935 -6.125247   \n",
       "3          Mourne Drive  North Cliff Heights  53.580471 -6.127622   \n",
       "4         Selskar Court        Town Parks Rd  53.578067 -6.125055   \n",
       "\n",
       "   stop_sequence stop_headsign  shape_dist_traveled StopID LineID  \n",
       "0              1        Swords             0.000000   3813    33A  \n",
       "1              2        Swords           827.070328   3814    33A  \n",
       "2              3        Swords          2746.649492   3815    33A  \n",
       "3              4        Swords          2973.900755   3816    33A  \n",
       "4              5        Swords          3447.155571   3566    33A  "
      ]
     },
     "execution_count": 25,
     "metadata": {},
     "output_type": "execute_result"
    }
   ],
   "source": [
    "schedule.head()"
   ]
  },
  {
   "cell_type": "markdown",
   "metadata": {},
   "source": [
    "### Getting Stops From Schedule 1"
   ]
  },
  {
   "cell_type": "code",
   "execution_count": 26,
   "metadata": {
    "collapsed": false
   },
   "outputs": [],
   "source": [
    "schedule.drop_duplicates(subset=\"StopID\", inplace=\"True\")"
   ]
  },
  {
   "cell_type": "code",
   "execution_count": 27,
   "metadata": {
    "collapsed": true
   },
   "outputs": [],
   "source": [
    "stops_1 = schedule[[\"StopID\", \"Name without locality\", \"Name\", \"Lat\", \"Long\"]]"
   ]
  },
  {
   "cell_type": "code",
   "execution_count": 28,
   "metadata": {
    "collapsed": false
   },
   "outputs": [
    {
     "data": {
      "text/plain": [
       "(4693, 5)"
      ]
     },
     "execution_count": 28,
     "metadata": {},
     "output_type": "execute_result"
    }
   ],
   "source": [
    "# 4693 before dropping NaN rows - 4697 after. WTF? Whatever. \n",
    "\n",
    "stops_1.shape"
   ]
  },
  {
   "cell_type": "code",
   "execution_count": 29,
   "metadata": {
    "collapsed": false
   },
   "outputs": [
    {
     "data": {
      "text/plain": [
       "<matplotlib.axes._subplots.AxesSubplot at 0x11f961dd8>"
      ]
     },
     "execution_count": 29,
     "metadata": {},
     "output_type": "execute_result"
    },
    {
     "data": {
      "image/png": "[encoded data removed]",
      "text/plain": [
       "<matplotlib.figure.Figure at 0x120fa04e0>"
      ]
     },
     "metadata": {},
     "output_type": "display_data"
    }
   ],
   "source": [
    "locations = stops_1[[\"Long\", \"Lat\"]]\n",
    "locations.plot.scatter(x=\"Long\", y=\"Lat\")"
   ]
  },
  {
   "cell_type": "code",
   "execution_count": 30,
   "metadata": {
    "collapsed": false
   },
   "outputs": [],
   "source": [
    "# # filtering out one weird row (index: 135419)\n",
    "\n",
    "# stops1 = stops_1[stops_1.StopID.apply(lambda x: str(x).isdigit())]\n",
    "\n",
    "# # df[df['entrytype'].apply(lambda x: str(x).isdigit())]\n",
    "\n",
    "# stops1 = stops1[stops1.StopID.str.contains(\":\") == False]\n"
   ]
  },
  {
   "cell_type": "code",
   "execution_count": null,
   "metadata": {
    "collapsed": false
   },
   "outputs": [],
   "source": []
  },
  {
   "cell_type": "markdown",
   "metadata": {},
   "source": [
    "### Saving to CSV"
   ]
  },
  {
   "cell_type": "code",
   "execution_count": 31,
   "metadata": {
    "collapsed": true
   },
   "outputs": [],
   "source": [
    "stops_1.to_csv(\"bus_data/static_data/stops_all.csv\")"
   ]
  },
  {
   "cell_type": "code",
   "execution_count": null,
   "metadata": {
    "collapsed": true
   },
   "outputs": [],
   "source": []
  },
  {
   "cell_type": "markdown",
   "metadata": {
    "collapsed": true
   },
   "source": [
    "### Getting Stops From Schedule 2 (Doesn't work properly)"
   ]
  },
  {
   "cell_type": "code",
   "execution_count": 15,
   "metadata": {
    "collapsed": false
   },
   "outputs": [
    {
     "name": "stdout",
     "output_type": "stream",
     "text": [
      "4693\n"
     ]
    }
   ],
   "source": [
    "# Number of unique LineIDs \n",
    "\n",
    "stops = schedule[\"StopID\"].unique()\n",
    "\n",
    "print(len(stops))"
   ]
  },
  {
   "cell_type": "code",
   "execution_count": 16,
   "metadata": {
    "collapsed": false,
    "scrolled": false
   },
   "outputs": [],
   "source": [
    "stops_df = schedule[\"StopID\"]\n",
    "stops_df = stops_df.drop_duplicates()\n",
    "stops_df = stops_df.reset_index()\n",
    "stops_df = stops_df.drop('index', axis=1)"
   ]
  },
  {
   "cell_type": "code",
   "execution_count": 17,
   "metadata": {
    "collapsed": true
   },
   "outputs": [],
   "source": [
    "# static_stops = pd.merge(stops_df, schedule, on='StopID')\n",
    "\n",
    "# pd.merge(order, loc_df, on='StopID')"
   ]
  },
  {
   "cell_type": "code",
   "execution_count": null,
   "metadata": {
    "collapsed": false
   },
   "outputs": [],
   "source": []
  },
  {
   "cell_type": "code",
   "execution_count": null,
   "metadata": {
    "collapsed": true
   },
   "outputs": [],
   "source": []
  }
 ],
 "metadata": {
  "kernelspec": {
   "display_name": "Python 3",
   "language": "python",
   "name": "python3"
  },
  "language_info": {
   "codemirror_mode": {
    "name": "ipython",
    "version": 3
   },
   "file_extension": ".py",
   "mimetype": "text/x-python",
   "name": "python",
   "nbconvert_exporter": "python",
   "pygments_lexer": "ipython3",
   "version": "3.6.0"
  }
 },
 "nbformat": 4,
 "nbformat_minor": 2
}
