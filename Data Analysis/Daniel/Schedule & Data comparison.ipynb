{
 "cells": [
  {
   "cell_type": "code",
   "execution_count": 1,
   "metadata": {
    "collapsed": true
   },
   "outputs": [],
   "source": [
    "import pandas as pd\n",
    "\n",
    "import matplotlib.pyplot as plt\n",
    "%matplotlib inline"
   ]
  },
  {
   "cell_type": "markdown",
   "metadata": {},
   "source": [
    "### Static Variables"
   ]
  },
  {
   "cell_type": "code",
   "execution_count": 2,
   "metadata": {
    "collapsed": true
   },
   "outputs": [],
   "source": [
    "line = \"15\""
   ]
  },
  {
   "cell_type": "markdown",
   "metadata": {},
   "source": [
    "### Extracting Data"
   ]
  },
  {
   "cell_type": "code",
   "execution_count": 3,
   "metadata": {
    "collapsed": false
   },
   "outputs": [
    {
     "data": {
      "text/plain": [
       "(252288, 14)"
      ]
     },
     "execution_count": 3,
     "metadata": {},
     "output_type": "execute_result"
    }
   ],
   "source": [
    "df = pd.read_csv(\"bus_data/line_data/\" + line + \".csv\", low_memory=False, header=None)\n",
    "df.columns = [\"Timestamp\", \"LineID\", \"JourneyPatternID\", \"TimeFrame\", \n",
    "              \"VehicleJourneyID\", \"Lon\", \"Lat\", \"VehicleID\", \"StopID\", \n",
    "              \"AtStop\", \"HumanTime\", \"Day\", \"Hour\", \"Runtime\"]\n",
    "\n",
    "#convert StopID to string\n",
    "\n",
    "df['StopID'] = df['StopID'].astype('str')\n",
    "\n",
    "\n",
    "df.shape"
   ]
  },
  {
   "cell_type": "code",
   "execution_count": 4,
   "metadata": {
    "collapsed": false
   },
   "outputs": [],
   "source": [
    "schedule = pd.read_csv(\"bus_data/dublinbus_scheduledData2013csv.csv\", low_memory=False, encoding=\"ISO-8859-1\")\n"
   ]
  },
  {
   "cell_type": "markdown",
   "metadata": {},
   "source": [
    "### Exploring schedule"
   ]
  },
  {
   "cell_type": "code",
   "execution_count": null,
   "metadata": {
    "collapsed": true
   },
   "outputs": [],
   "source": []
  },
  {
   "cell_type": "code",
   "execution_count": 5,
   "metadata": {
    "collapsed": false,
    "scrolled": true
   },
   "outputs": [
    {
     "data": {
      "text/html": [
       "<div>\n",
       "<table border=\"1\" class=\"dataframe\">\n",
       "  <thead>\n",
       "    <tr style=\"text-align: right;\">\n",
       "      <th></th>\n",
       "      <th>trip_id</th>\n",
       "      <th>arrival_time</th>\n",
       "      <th>departure_time</th>\n",
       "      <th>stop_id</th>\n",
       "      <th>Name without locality</th>\n",
       "      <th>Name</th>\n",
       "      <th>Lat</th>\n",
       "      <th>Long</th>\n",
       "      <th>stop_sequence</th>\n",
       "      <th>stop_headsign</th>\n",
       "      <th>shape_dist_traveled</th>\n",
       "    </tr>\n",
       "  </thead>\n",
       "  <tbody>\n",
       "    <tr>\n",
       "      <th>0</th>\n",
       "      <td>1.1598.0-33A-b12-1.451.I</td>\n",
       "      <td>16:15:00</td>\n",
       "      <td>16:15:00</td>\n",
       "      <td>8240DB003813</td>\n",
       "      <td>Footbridge</td>\n",
       "      <td>Skerries Road</td>\n",
       "      <td>53.591377</td>\n",
       "      <td>-6.156176</td>\n",
       "      <td>1</td>\n",
       "      <td>Swords</td>\n",
       "      <td>0.000000</td>\n",
       "    </tr>\n",
       "    <tr>\n",
       "      <th>1</th>\n",
       "      <td>1.1598.0-33A-b12-1.451.I</td>\n",
       "      <td>16:15:39</td>\n",
       "      <td>16:15:39</td>\n",
       "      <td>8240DB003814</td>\n",
       "      <td>Barnageeragh Road</td>\n",
       "      <td>Balbriggan Rd</td>\n",
       "      <td>53.585544</td>\n",
       "      <td>-6.148605</td>\n",
       "      <td>2</td>\n",
       "      <td>Swords</td>\n",
       "      <td>827.070328</td>\n",
       "    </tr>\n",
       "    <tr>\n",
       "      <th>2</th>\n",
       "      <td>1.1598.0-33A-b12-1.451.I</td>\n",
       "      <td>16:17:11</td>\n",
       "      <td>16:17:11</td>\n",
       "      <td>8240DB003815</td>\n",
       "      <td>Barnageeragh Road</td>\n",
       "      <td>North Cliff Heights</td>\n",
       "      <td>53.581935</td>\n",
       "      <td>-6.125247</td>\n",
       "      <td>3</td>\n",
       "      <td>Swords</td>\n",
       "      <td>2746.649492</td>\n",
       "    </tr>\n",
       "    <tr>\n",
       "      <th>3</th>\n",
       "      <td>1.1598.0-33A-b12-1.451.I</td>\n",
       "      <td>16:17:22</td>\n",
       "      <td>16:17:22</td>\n",
       "      <td>8240DB003816</td>\n",
       "      <td>Mourne Drive</td>\n",
       "      <td>North Cliff Heights</td>\n",
       "      <td>53.580471</td>\n",
       "      <td>-6.127622</td>\n",
       "      <td>4</td>\n",
       "      <td>Swords</td>\n",
       "      <td>2973.900755</td>\n",
       "    </tr>\n",
       "    <tr>\n",
       "      <th>4</th>\n",
       "      <td>1.1598.0-33A-b12-1.451.I</td>\n",
       "      <td>16:17:44</td>\n",
       "      <td>16:17:44</td>\n",
       "      <td>8240DB003566</td>\n",
       "      <td>Selskar Court</td>\n",
       "      <td>Town Parks Rd</td>\n",
       "      <td>53.578067</td>\n",
       "      <td>-6.125055</td>\n",
       "      <td>5</td>\n",
       "      <td>Swords</td>\n",
       "      <td>3447.155571</td>\n",
       "    </tr>\n",
       "  </tbody>\n",
       "</table>\n",
       "</div>"
      ],
      "text/plain": [
       "                    trip_id arrival_time departure_time       stop_id  \\\n",
       "0  1.1598.0-33A-b12-1.451.I     16:15:00       16:15:00  8240DB003813   \n",
       "1  1.1598.0-33A-b12-1.451.I     16:15:39       16:15:39  8240DB003814   \n",
       "2  1.1598.0-33A-b12-1.451.I     16:17:11       16:17:11  8240DB003815   \n",
       "3  1.1598.0-33A-b12-1.451.I     16:17:22       16:17:22  8240DB003816   \n",
       "4  1.1598.0-33A-b12-1.451.I     16:17:44       16:17:44  8240DB003566   \n",
       "\n",
       "  Name without locality                 Name        Lat      Long  \\\n",
       "0            Footbridge        Skerries Road  53.591377 -6.156176   \n",
       "1     Barnageeragh Road        Balbriggan Rd  53.585544 -6.148605   \n",
       "2     Barnageeragh Road  North Cliff Heights  53.581935 -6.125247   \n",
       "3          Mourne Drive  North Cliff Heights  53.580471 -6.127622   \n",
       "4         Selskar Court        Town Parks Rd  53.578067 -6.125055   \n",
       "\n",
       "   stop_sequence stop_headsign  shape_dist_traveled  \n",
       "0              1        Swords             0.000000  \n",
       "1              2        Swords           827.070328  \n",
       "2              3        Swords          2746.649492  \n",
       "3              4        Swords          2973.900755  \n",
       "4              5        Swords          3447.155571  "
      ]
     },
     "execution_count": 5,
     "metadata": {},
     "output_type": "execute_result"
    }
   ],
   "source": [
    "schedule.head()"
   ]
  },
  {
   "cell_type": "code",
   "execution_count": 6,
   "metadata": {
    "collapsed": true
   },
   "outputs": [],
   "source": [
    "# Extracting StopID from stop_id\n",
    "\n",
    "def get_stop(string):\n",
    "    var = string[-4:]\n",
    "    return var\n",
    "\n",
    "schedule[\"StopID\"] = schedule['stop_id'].apply(lambda x: get_stop(x))"
   ]
  },
  {
   "cell_type": "code",
   "execution_count": 7,
   "metadata": {
    "collapsed": false
   },
   "outputs": [
    {
     "name": "stderr",
     "output_type": "stream",
     "text": [
      "/Users/danieljordan/anaconda3/lib/python3.6/site-packages/ipykernel/__main__.py:3: FutureWarning: currently extract(expand=None) means expand=False (return Index/Series/DataFrame) but in a future version of pandas this will be changed to expand=True (return DataFrame)\n",
      "  app.launch_new_instance()\n"
     ]
    }
   ],
   "source": [
    "# Extracting LineID from trip_id\n",
    "\n",
    "schedule[\"LineID\"] = schedule[\"trip_id\"].str.extract('\\-(.*?)\\-')"
   ]
  },
  {
   "cell_type": "code",
   "execution_count": 8,
   "metadata": {
    "collapsed": false
   },
   "outputs": [
    {
     "name": "stdout",
     "output_type": "stream",
     "text": [
      "['33A' '41C' '114' '39' '25A' '25X' '39A' '75' '41' '13' '747' '9' '76'\n",
      " '53' '151' '104' '27' '63' '44' '123' '11' '4' '16' '16C' '1' '61' '15'\n",
      " '236' '84' '185' '38' '70' '14' '38A' '14C' '40' '40B' '83' '38B' '83A'\n",
      " '18' '45A' '29A' '31' '31A' '32' '7' '7D' '150' '145' '184' '46A' '47'\n",
      " '140' '41A' '43' '42' '65B' '65' '41B' '33' '27B' '102' '33B' '17A' '25B'\n",
      " '122' '25' '17' '59' '67' '120' '238' '270' '27A' '56A' '77A' '37' '26'\n",
      " '66' '66A' '220' '130' '40D' '15B' '15A' '54A' '49' '79A' '79' '68' '69'\n",
      " '116' '161' '41X' '239' '68A' '69X' '66X' '51D' '8' '7B' '33X' '66B' '67X'\n",
      " '76A' '27X' '44B' '86' '332' '84A' '51X' '46E' '31B' '111' '32X' '142'\n",
      " '84X' '118']\n"
     ]
    }
   ],
   "source": [
    "# Number of unique LineIDs \n",
    "\n",
    "lines = schedule[\"LineID\"].unique()\n",
    "\n",
    "print(lines)"
   ]
  },
  {
   "cell_type": "code",
   "execution_count": 9,
   "metadata": {
    "collapsed": false
   },
   "outputs": [],
   "source": [
    "# Isolating line\n",
    "# Examining how many stops are on each variation\n",
    "# Saving this info in stops\n",
    "\n",
    "schedule_line = schedule[schedule.LineID == line]\n",
    "\n",
    "headsigns = schedule_line.stop_headsign.unique()\n",
    "\n",
    "stops = {}\n",
    "\n",
    "for sign in headsigns:\n",
    "    stop_count = schedule_line[schedule_line.stop_headsign == sign].StopID.nunique()\n",
    "    stop_list = schedule_line[schedule_line.stop_headsign == sign].StopID.unique()\n",
    "    stops[sign] = [stop_count, stop_list]"
   ]
  },
  {
   "cell_type": "code",
   "execution_count": 10,
   "metadata": {
    "collapsed": false
   },
   "outputs": [],
   "source": [
    "# Getting max value for headsign\n",
    "max_headsign = schedule_line['stop_headsign'].value_counts().idxmax()\n",
    "schedule_line = schedule_line[schedule_line.stop_headsign == max_headsign]"
   ]
  },
  {
   "cell_type": "markdown",
   "metadata": {},
   "source": [
    "### Exploring line 15"
   ]
  },
  {
   "cell_type": "code",
   "execution_count": 11,
   "metadata": {
    "collapsed": false
   },
   "outputs": [],
   "source": [
    "# # Isolating variations - getting variation with most stops\n",
    "\n",
    "# df_0001 = df[df.JourneyPatternID == 1]\n",
    "# df_1001 = df[df.JourneyPatternID == 1001]\n",
    "# df_0002 = df[df.JourneyPatternID == 2]\n",
    "# df_1002 = df[df.JourneyPatternID == 1002]\n",
    "\n",
    "max_pattern = df['JourneyPatternID'].value_counts().idxmax()\n",
    "df = df[df.JourneyPatternID == max_pattern]"
   ]
  },
  {
   "cell_type": "code",
   "execution_count": 12,
   "metadata": {
    "collapsed": false
   },
   "outputs": [],
   "source": [
    "runtimes = df.groupby(\"StopID\").Runtime.mean()"
   ]
  },
  {
   "cell_type": "code",
   "execution_count": 13,
   "metadata": {
    "collapsed": false
   },
   "outputs": [],
   "source": [
    "# print(runtimes.sort_values())"
   ]
  },
  {
   "cell_type": "code",
   "execution_count": 14,
   "metadata": {
    "collapsed": false
   },
   "outputs": [],
   "source": [
    "# print(\"1218\" in stops[\"Ballycullen Road\"][1])"
   ]
  },
  {
   "cell_type": "code",
   "execution_count": 15,
   "metadata": {
    "collapsed": true
   },
   "outputs": [],
   "source": [
    "# stoplist = [x for x in df_0002.StopID.unique() if x not in stops[\"Ballycullen Road\"][1]]"
   ]
  },
  {
   "cell_type": "code",
   "execution_count": 16,
   "metadata": {
    "collapsed": false
   },
   "outputs": [],
   "source": [
    "# print(stoplist)"
   ]
  },
  {
   "cell_type": "code",
   "execution_count": null,
   "metadata": {
    "collapsed": true
   },
   "outputs": [],
   "source": []
  },
  {
   "cell_type": "code",
   "execution_count": null,
   "metadata": {
    "collapsed": true
   },
   "outputs": [],
   "source": []
  },
  {
   "cell_type": "markdown",
   "metadata": {},
   "source": [
    "### Comparing Schedule to our data\n"
   ]
  },
  {
   "cell_type": "code",
   "execution_count": 17,
   "metadata": {
    "collapsed": false
   },
   "outputs": [
    {
     "name": "stdout",
     "output_type": "stream",
     "text": [
      "88\n"
     ]
    }
   ],
   "source": [
    "# Number of unique stops on each variation in our data\n",
    "# variations = df.JourneyPatternID.unique()\n",
    "# print(variations)\n",
    "print(df.StopID.nunique())\n",
    "# print(df_1001.StopID.nunique())\n",
    "# print(df_0002.StopID.nunique())\n",
    "# print(df_1002.StopID.nunique())"
   ]
  },
  {
   "cell_type": "code",
   "execution_count": 18,
   "metadata": {
    "collapsed": false
   },
   "outputs": [
    {
     "name": "stdout",
     "output_type": "stream",
     "text": [
      "Ballycullen Road : 72\n",
      "Clongriffin : 68\n",
      "Eden Quay : 37\n",
      "Hawkins St : 34\n"
     ]
    }
   ],
   "source": [
    "# Number of stops on each variation in schedule - doesn't line up exactly \n",
    "\n",
    "for key, value in stops.items():\n",
    "    print(key, \":\", value[0])"
   ]
  },
  {
   "cell_type": "code",
   "execution_count": null,
   "metadata": {
    "collapsed": true
   },
   "outputs": [],
   "source": []
  },
  {
   "cell_type": "code",
   "execution_count": 19,
   "metadata": {
    "collapsed": false
   },
   "outputs": [],
   "source": [
    "# # Testing how many stops in our data are missing from schedule\n",
    "\n",
    "# journey_patterns = [df_0001, df_1001, df_1002, df_0002]\n",
    "\n",
    "# for pattern in journey_patterns:\n",
    "#     set1 = set(pattern.StopID.unique())\n",
    "#     print(len(set1.difference(set(schedule_stops))))\n"
   ]
  },
  {
   "cell_type": "code",
   "execution_count": null,
   "metadata": {
    "collapsed": true
   },
   "outputs": [],
   "source": []
  },
  {
   "cell_type": "code",
   "execution_count": 20,
   "metadata": {
    "collapsed": false
   },
   "outputs": [
    {
     "name": "stdout",
     "output_type": "stream",
     "text": [
      "['0619', '0614', '0665', '0617', '0348', '0664', '0618', '0668', '0615', '0844', '0616', '0666', '0675', '0403', '0746', '0667']\n"
     ]
    }
   ],
   "source": [
    "# Finding stops that are on schedule variation but not our data\n",
    "\n",
    "set1 = set(df.StopID.unique())\n",
    "set2 = set(schedule_line.StopID.unique())\n",
    "\n",
    "misc_stops = set2.difference(set1)\n",
    "\n",
    "print(list(misc_stops))"
   ]
  },
  {
   "cell_type": "code",
   "execution_count": 21,
   "metadata": {
    "collapsed": false
   },
   "outputs": [],
   "source": [
    "# # Looking at number of shared stops in our data & schedule\n",
    "\n",
    "# for pattern in journey_patterns:\n",
    "#     set1 = set(pattern.StopID.unique())\n",
    "#     print(\"Number of stops in\", pattern.name, \"=\", len(set1))\n",
    "#     for key, value in stops.items():\n",
    "#         set2 = set(value[1])\n",
    "# #         print(pattern.name, \"&\", key, \":\", set2.issubset(set1))\n",
    "#         print(pattern.name, \"&\", key, \":\", len(set2.intersection(set1)))\n",
    "#     print()\n",
    "\n",
    "# # print(set1.isdisjoint(set2))\n",
    "# # print(set1.difference(set2))"
   ]
  },
  {
   "cell_type": "markdown",
   "metadata": {},
   "source": [
    "### Plotting Stops"
   ]
  },
  {
   "cell_type": "code",
   "execution_count": 22,
   "metadata": {
    "collapsed": false
   },
   "outputs": [
    {
     "data": {
      "text/plain": [
       "<matplotlib.axes._subplots.AxesSubplot at 0x1179bf0f0>"
      ]
     },
     "execution_count": 22,
     "metadata": {},
     "output_type": "execute_result"
    },
    {
     "data": {
      "image/png": "[encoded data removed]",
      "text/plain": [
       "<matplotlib.figure.Figure at 0x1179c0390>"
      ]
     },
     "metadata": {},
     "output_type": "display_data"
    }
   ],
   "source": [
    "# Plotting stops in our data\n",
    "\n",
    "locations = df[[\"Lon\", \"Lat\"]]\n",
    "locations.plot.scatter(x=\"Lon\", y=\"Lat\")"
   ]
  },
  {
   "cell_type": "code",
   "execution_count": 23,
   "metadata": {
    "collapsed": false
   },
   "outputs": [
    {
     "data": {
      "text/plain": [
       "<matplotlib.axes._subplots.AxesSubplot at 0x127b15e48>"
      ]
     },
     "execution_count": 23,
     "metadata": {},
     "output_type": "execute_result"
    },
    {
     "data": {
      "image/png": "[encoded data removed]",
      "text/plain": [
       "<matplotlib.figure.Figure at 0x1179c0dd8>"
      ]
     },
     "metadata": {},
     "output_type": "display_data"
    }
   ],
   "source": [
    "# Plotting stops in schedule\n",
    "\n",
    "schedule_locations = schedule_line[[\"Long\", \"Lat\"]]\n",
    "schedule_locations.plot.scatter(x=\"Long\", y=\"Lat\")"
   ]
  },
  {
   "cell_type": "code",
   "execution_count": 24,
   "metadata": {
    "collapsed": false
   },
   "outputs": [
    {
     "data": {
      "text/plain": [
       "<matplotlib.axes._subplots.AxesSubplot at 0x118c0df98>"
      ]
     },
     "execution_count": 24,
     "metadata": {},
     "output_type": "execute_result"
    },
    {
     "data": {
      "image/png": "[encoded data removed]",
      "text/plain": [
       "<matplotlib.figure.Figure at 0x118c14ef0>"
      ]
     },
     "metadata": {},
     "output_type": "display_data"
    }
   ],
   "source": [
    "# Plotting stops in schedule but not data (misc_stops)\n",
    "\n",
    "set1 = set(df.StopID.unique())\n",
    "set2 = set(schedule_line.StopID.unique())\n",
    "misc_stops = set2.difference(set1)\n",
    "\n",
    "misc_df = schedule_line[schedule_line.StopID.isin(misc_stops)]\n",
    "\n",
    "misc_df.head()\n",
    "\n",
    "locations = misc_df[[\"Long\", \"Lat\"]]\n",
    "locations.plot.scatter(x=\"Long\", y=\"Lat\")"
   ]
  },
  {
   "cell_type": "code",
   "execution_count": 25,
   "metadata": {
    "collapsed": false
   },
   "outputs": [
    {
     "data": {
      "text/plain": [
       "<matplotlib.axes._subplots.AxesSubplot at 0x115ac8588>"
      ]
     },
     "execution_count": 25,
     "metadata": {},
     "output_type": "execute_result"
    },
    {
     "data": {
      "image/png": "[encoded data removed]",
      "text/plain": [
       "<matplotlib.figure.Figure at 0x115ac4be0>"
      ]
     },
     "metadata": {},
     "output_type": "display_data"
    }
   ],
   "source": [
    "# Plotting stops in data but not schedule (misc_stops2)\n",
    "\n",
    "set1 = set(df.StopID.unique())\n",
    "set2 = set(schedule_line.StopID.unique())\n",
    "misc_stops = set1.difference(set2)\n",
    "\n",
    "misc_df = df[df.StopID.isin(misc_stops)]\n",
    "\n",
    "misc_df.head()\n",
    "\n",
    "locations = misc_df[[\"Lon\", \"Lat\"]]\n",
    "locations.plot.scatter(x=\"Lon\", y=\"Lat\")"
   ]
  },
  {
   "cell_type": "markdown",
   "metadata": {},
   "source": [
    "### Removing irrelevant stops in our data"
   ]
  },
  {
   "cell_type": "code",
   "execution_count": 26,
   "metadata": {
    "collapsed": false,
    "scrolled": true
   },
   "outputs": [],
   "source": [
    "# df_0001[\"StopID\"].value_counts()"
   ]
  },
  {
   "cell_type": "code",
   "execution_count": 27,
   "metadata": {
    "collapsed": false
   },
   "outputs": [],
   "source": [
    "# Removing stops that don't occur at least 100 times in our data\n",
    "\n",
    "groups = df.groupby('StopID')\n",
    "clean_0001 = groups.filter(lambda x: len(x) > 100)"
   ]
  },
  {
   "cell_type": "code",
   "execution_count": 28,
   "metadata": {
    "collapsed": false
   },
   "outputs": [
    {
     "data": {
      "text/plain": [
       "6282    6134\n",
       "5190    3905\n",
       "4415    3741\n",
       "403     3715\n",
       "4563    3527\n",
       "1076    3007\n",
       "348     2984\n",
       "1277    2799\n",
       "668     2705\n",
       "1270    2661\n",
       "1016    2635\n",
       "1274    2635\n",
       "746     2543\n",
       "1014    2494\n",
       "1273    2429\n",
       "664     2410\n",
       "1077    2387\n",
       "1020    2384\n",
       "844     2295\n",
       "4594    2238\n",
       "1220    2199\n",
       "616     2184\n",
       "1127    2176\n",
       "615     2133\n",
       "1085    2125\n",
       "1081    2066\n",
       "1145    2026\n",
       "4595    1946\n",
       "1125    1942\n",
       "1130    1860\n",
       "        ... \n",
       "3007    1477\n",
       "6320    1477\n",
       "1275    1473\n",
       "4869    1472\n",
       "665     1405\n",
       "1143    1404\n",
       "1017    1369\n",
       "1221    1355\n",
       "1219    1345\n",
       "1144    1324\n",
       "1141    1292\n",
       "1082    1278\n",
       "617     1266\n",
       "1142    1199\n",
       "6319    1199\n",
       "7246    1183\n",
       "4870    1096\n",
       "619     1063\n",
       "1080    1009\n",
       "1019     985\n",
       "1083     957\n",
       "1018     917\n",
       "1272     745\n",
       "1124     664\n",
       "666      588\n",
       "1123     508\n",
       "1078     504\n",
       "1276     499\n",
       "1122     414\n",
       "6318     352\n",
       "Name: StopID, dtype: int64"
      ]
     },
     "execution_count": 28,
     "metadata": {},
     "output_type": "execute_result"
    }
   ],
   "source": [
    "clean_0001[\"StopID\"].value_counts()"
   ]
  },
  {
   "cell_type": "code",
   "execution_count": 29,
   "metadata": {
    "collapsed": false
   },
   "outputs": [
    {
     "data": {
      "text/plain": [
       "<matplotlib.axes._subplots.AxesSubplot at 0x115da6dd8>"
      ]
     },
     "execution_count": 29,
     "metadata": {},
     "output_type": "execute_result"
    },
    {
     "data": {
      "image/png": "[encoded data removed]",
      "text/plain": [
       "<matplotlib.figure.Figure at 0x1179b7588>"
      ]
     },
     "metadata": {},
     "output_type": "display_data"
    }
   ],
   "source": [
    "# Plotting stops in our data\n",
    "\n",
    "locations = clean_0001[[\"Lon\", \"Lat\"]]\n",
    "locations.plot.scatter(x=\"Lon\", y=\"Lat\")"
   ]
  },
  {
   "cell_type": "code",
   "execution_count": 30,
   "metadata": {
    "collapsed": false
   },
   "outputs": [
    {
     "data": {
      "text/plain": [
       "<matplotlib.axes._subplots.AxesSubplot at 0x1215922b0>"
      ]
     },
     "execution_count": 30,
     "metadata": {},
     "output_type": "execute_result"
    },
    {
     "data": {
      "image/png": "[encoded data removed]",
      "text/plain": [
       "<matplotlib.figure.Figure at 0x120fba358>"
      ]
     },
     "metadata": {},
     "output_type": "display_data"
    }
   ],
   "source": [
    "df[\"StopID\"].value_counts().plot()"
   ]
  },
  {
   "cell_type": "code",
   "execution_count": null,
   "metadata": {
    "collapsed": true
   },
   "outputs": [],
   "source": []
  },
  {
   "cell_type": "markdown",
   "metadata": {
    "collapsed": true
   },
   "source": [
    "### Plotting common routes between data and schedule"
   ]
  },
  {
   "cell_type": "code",
   "execution_count": 31,
   "metadata": {
    "collapsed": false
   },
   "outputs": [],
   "source": [
    "set1 = set(df.StopID.unique())\n",
    "set2 = set(schedule_line.StopID.unique())\n",
    "\n",
    "common_stops = set2.intersection(set1)"
   ]
  },
  {
   "cell_type": "code",
   "execution_count": 32,
   "metadata": {
    "collapsed": false
   },
   "outputs": [
    {
     "data": {
      "text/plain": [
       "<matplotlib.axes._subplots.AxesSubplot at 0x11799a6a0>"
      ]
     },
     "execution_count": 32,
     "metadata": {},
     "output_type": "execute_result"
    },
    {
     "data": {
      "image/png": "[encoded data removed]",
      "text/plain": [
       "<matplotlib.figure.Figure at 0x117988da0>"
      ]
     },
     "metadata": {},
     "output_type": "display_data"
    }
   ],
   "source": [
    "# Plotting stops in schedule and data (common_stops)\n",
    "\n",
    "common_df = schedule_line[schedule_line.StopID.isin(common_stops)]\n",
    "\n",
    "common_df.head()\n",
    "\n",
    "locations = common_df[[\"Long\", \"Lat\"]]\n",
    "locations.plot.scatter(x=\"Long\", y=\"Lat\")"
   ]
  },
  {
   "cell_type": "code",
   "execution_count": null,
   "metadata": {
    "collapsed": true
   },
   "outputs": [],
   "source": []
  },
  {
   "cell_type": "code",
   "execution_count": null,
   "metadata": {
    "collapsed": true
   },
   "outputs": [],
   "source": []
  },
  {
   "cell_type": "code",
   "execution_count": null,
   "metadata": {
    "collapsed": true
   },
   "outputs": [],
   "source": []
  },
  {
   "cell_type": "code",
   "execution_count": null,
   "metadata": {
    "collapsed": true
   },
   "outputs": [],
   "source": []
  },
  {
   "cell_type": "code",
   "execution_count": null,
   "metadata": {
    "collapsed": true
   },
   "outputs": [],
   "source": []
  },
  {
   "cell_type": "code",
   "execution_count": null,
   "metadata": {
    "collapsed": true
   },
   "outputs": [],
   "source": []
  }
 ],
 "metadata": {
  "kernelspec": {
   "display_name": "Python 3",
   "language": "python",
   "name": "python3"
  },
  "language_info": {
   "codemirror_mode": {
    "name": "ipython",
    "version": 3
   },
   "file_extension": ".py",
   "mimetype": "text/x-python",
   "name": "python",
   "nbconvert_exporter": "python",
   "pygments_lexer": "ipython3",
   "version": "3.6.0"
  }
 },
 "nbformat": 4,
 "nbformat_minor": 2
}
