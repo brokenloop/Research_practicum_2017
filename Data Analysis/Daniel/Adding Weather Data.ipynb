{
 "cells": [
  {
   "cell_type": "code",
   "execution_count": 73,
   "metadata": {
    "collapsed": false
   },
   "outputs": [],
   "source": [
    "# general \n",
    "import datetime\n",
    "\n",
    "# data analysis and wrangling\n",
    "import pandas as pd\n",
    "import numpy as np\n",
    "import random as rnd\n",
    "\n",
    "# visualization\n",
    "import seaborn as sns\n",
    "import matplotlib.pyplot as plt\n",
    "%matplotlib inline\n",
    "\n",
    "\n"
   ]
  },
  {
   "cell_type": "markdown",
   "metadata": {},
   "source": [
    "# Importing and Cleaning Data"
   ]
  },
  {
   "cell_type": "code",
   "execution_count": 115,
   "metadata": {
    "collapsed": true
   },
   "outputs": [],
   "source": [
    "line = \"15\""
   ]
  },
  {
   "cell_type": "code",
   "execution_count": 116,
   "metadata": {
    "collapsed": false
   },
   "outputs": [],
   "source": [
    "# Read in our data\n",
    "df = pd.read_csv(\"bus_data/clean_data3/\" + line + \".csv\", low_memory=False, header=None)\n",
    "df.columns = [\"Timestamp\", \"LineID\", \"JourneyPatternID\", \"TimeFrame\", \n",
    "              \"VehicleJourneyID\", \"Lon\", \"Lat\", \"VehicleID\", \"StopID\", \n",
    "              \"AtStop\", \"HumanTime\", \"Day\", \"Hour\", \"JourneyGroup\", \"Runtime\"]"
   ]
  },
  {
   "cell_type": "code",
   "execution_count": 117,
   "metadata": {
    "collapsed": false
   },
   "outputs": [
    {
     "data": {
      "text/html": [
       "<div>\n",
       "<table border=\"1\" class=\"dataframe\">\n",
       "  <thead>\n",
       "    <tr style=\"text-align: right;\">\n",
       "      <th></th>\n",
       "      <th>Timestamp</th>\n",
       "      <th>LineID</th>\n",
       "      <th>JourneyPatternID</th>\n",
       "      <th>TimeFrame</th>\n",
       "      <th>VehicleJourneyID</th>\n",
       "      <th>Lon</th>\n",
       "      <th>Lat</th>\n",
       "      <th>VehicleID</th>\n",
       "      <th>StopID</th>\n",
       "      <th>AtStop</th>\n",
       "      <th>HumanTime</th>\n",
       "      <th>Day</th>\n",
       "      <th>Hour</th>\n",
       "      <th>JourneyGroup</th>\n",
       "      <th>Runtime</th>\n",
       "    </tr>\n",
       "  </thead>\n",
       "  <tbody>\n",
       "    <tr>\n",
       "      <th>0</th>\n",
       "      <td>1352182204000000</td>\n",
       "      <td>15</td>\n",
       "      <td>1</td>\n",
       "      <td>2012-11-06</td>\n",
       "      <td>5899</td>\n",
       "      <td>-6.151132</td>\n",
       "      <td>53.402328</td>\n",
       "      <td>33498</td>\n",
       "      <td>6318</td>\n",
       "      <td>0</td>\n",
       "      <td>2012-11-06 06:10:04</td>\n",
       "      <td>1</td>\n",
       "      <td>6</td>\n",
       "      <td>2012-11-065899</td>\n",
       "      <td>0</td>\n",
       "    </tr>\n",
       "    <tr>\n",
       "      <th>1</th>\n",
       "      <td>1352192390000000</td>\n",
       "      <td>15</td>\n",
       "      <td>1</td>\n",
       "      <td>2012-11-06</td>\n",
       "      <td>5828</td>\n",
       "      <td>-6.150883</td>\n",
       "      <td>53.402351</td>\n",
       "      <td>33523</td>\n",
       "      <td>6318</td>\n",
       "      <td>1</td>\n",
       "      <td>2012-11-06 08:59:50</td>\n",
       "      <td>1</td>\n",
       "      <td>8</td>\n",
       "      <td>2012-11-065828</td>\n",
       "      <td>0</td>\n",
       "    </tr>\n",
       "    <tr>\n",
       "      <th>2</th>\n",
       "      <td>1352192858000000</td>\n",
       "      <td>15</td>\n",
       "      <td>1</td>\n",
       "      <td>2012-11-06</td>\n",
       "      <td>5835</td>\n",
       "      <td>-6.150987</td>\n",
       "      <td>53.402309</td>\n",
       "      <td>33254</td>\n",
       "      <td>6318</td>\n",
       "      <td>1</td>\n",
       "      <td>2012-11-06 09:07:38</td>\n",
       "      <td>1</td>\n",
       "      <td>9</td>\n",
       "      <td>2012-11-065835</td>\n",
       "      <td>0</td>\n",
       "    </tr>\n",
       "    <tr>\n",
       "      <th>3</th>\n",
       "      <td>1352193393000000</td>\n",
       "      <td>15</td>\n",
       "      <td>1</td>\n",
       "      <td>2012-11-06</td>\n",
       "      <td>5853</td>\n",
       "      <td>-6.150987</td>\n",
       "      <td>53.402309</td>\n",
       "      <td>33209</td>\n",
       "      <td>6318</td>\n",
       "      <td>1</td>\n",
       "      <td>2012-11-06 09:16:33</td>\n",
       "      <td>1</td>\n",
       "      <td>9</td>\n",
       "      <td>2012-11-065853</td>\n",
       "      <td>0</td>\n",
       "    </tr>\n",
       "    <tr>\n",
       "      <th>4</th>\n",
       "      <td>1352194244000000</td>\n",
       "      <td>15</td>\n",
       "      <td>1</td>\n",
       "      <td>2012-11-06</td>\n",
       "      <td>5878</td>\n",
       "      <td>-6.151132</td>\n",
       "      <td>53.402328</td>\n",
       "      <td>33020</td>\n",
       "      <td>6318</td>\n",
       "      <td>0</td>\n",
       "      <td>2012-11-06 09:30:44</td>\n",
       "      <td>1</td>\n",
       "      <td>9</td>\n",
       "      <td>2012-11-065878</td>\n",
       "      <td>0</td>\n",
       "    </tr>\n",
       "  </tbody>\n",
       "</table>\n",
       "</div>"
      ],
      "text/plain": [
       "          Timestamp  LineID  JourneyPatternID   TimeFrame  VehicleJourneyID  \\\n",
       "0  1352182204000000      15                 1  2012-11-06              5899   \n",
       "1  1352192390000000      15                 1  2012-11-06              5828   \n",
       "2  1352192858000000      15                 1  2012-11-06              5835   \n",
       "3  1352193393000000      15                 1  2012-11-06              5853   \n",
       "4  1352194244000000      15                 1  2012-11-06              5878   \n",
       "\n",
       "        Lon        Lat  VehicleID  StopID  AtStop            HumanTime  Day  \\\n",
       "0 -6.151132  53.402328      33498    6318       0  2012-11-06 06:10:04    1   \n",
       "1 -6.150883  53.402351      33523    6318       1  2012-11-06 08:59:50    1   \n",
       "2 -6.150987  53.402309      33254    6318       1  2012-11-06 09:07:38    1   \n",
       "3 -6.150987  53.402309      33209    6318       1  2012-11-06 09:16:33    1   \n",
       "4 -6.151132  53.402328      33020    6318       0  2012-11-06 09:30:44    1   \n",
       "\n",
       "   Hour    JourneyGroup  Runtime  \n",
       "0     6  2012-11-065899        0  \n",
       "1     8  2012-11-065828        0  \n",
       "2     9  2012-11-065835        0  \n",
       "3     9  2012-11-065853        0  \n",
       "4     9  2012-11-065878        0  "
      ]
     },
     "execution_count": 117,
     "metadata": {},
     "output_type": "execute_result"
    }
   ],
   "source": [
    "df.head()"
   ]
  },
  {
   "cell_type": "code",
   "execution_count": 118,
   "metadata": {
    "collapsed": false
   },
   "outputs": [
    {
     "data": {
      "text/html": [
       "<div>\n",
       "<table border=\"1\" class=\"dataframe\">\n",
       "  <thead>\n",
       "    <tr style=\"text-align: right;\">\n",
       "      <th></th>\n",
       "      <th>date</th>\n",
       "      <th>ind</th>\n",
       "      <th>rain</th>\n",
       "      <th>ind.1</th>\n",
       "      <th>temp</th>\n",
       "      <th>ind.2</th>\n",
       "      <th>wetb</th>\n",
       "      <th>dewpt</th>\n",
       "      <th>vappr</th>\n",
       "      <th>rhum</th>\n",
       "      <th>msl</th>\n",
       "    </tr>\n",
       "  </thead>\n",
       "  <tbody>\n",
       "    <tr>\n",
       "      <th>86611</th>\n",
       "      <td>30-jun-2017 20:00</td>\n",
       "      <td>0</td>\n",
       "      <td>0.0</td>\n",
       "      <td>0</td>\n",
       "      <td>13.4</td>\n",
       "      <td>0</td>\n",
       "      <td>10.7</td>\n",
       "      <td>8.0</td>\n",
       "      <td>10.7</td>\n",
       "      <td>69</td>\n",
       "      <td>1016.5</td>\n",
       "    </tr>\n",
       "    <tr>\n",
       "      <th>86612</th>\n",
       "      <td>30-jun-2017 21:00</td>\n",
       "      <td>0</td>\n",
       "      <td>0.0</td>\n",
       "      <td>0</td>\n",
       "      <td>11.4</td>\n",
       "      <td>0</td>\n",
       "      <td>10.0</td>\n",
       "      <td>8.5</td>\n",
       "      <td>11.1</td>\n",
       "      <td>82</td>\n",
       "      <td>1017.2</td>\n",
       "    </tr>\n",
       "    <tr>\n",
       "      <th>86613</th>\n",
       "      <td>30-jun-2017 22:00</td>\n",
       "      <td>0</td>\n",
       "      <td>0.0</td>\n",
       "      <td>0</td>\n",
       "      <td>9.7</td>\n",
       "      <td>0</td>\n",
       "      <td>8.8</td>\n",
       "      <td>7.7</td>\n",
       "      <td>10.5</td>\n",
       "      <td>87</td>\n",
       "      <td>1017.6</td>\n",
       "    </tr>\n",
       "    <tr>\n",
       "      <th>86614</th>\n",
       "      <td>30-jun-2017 23:00</td>\n",
       "      <td>0</td>\n",
       "      <td>0.0</td>\n",
       "      <td>0</td>\n",
       "      <td>8.2</td>\n",
       "      <td>0</td>\n",
       "      <td>7.8</td>\n",
       "      <td>7.2</td>\n",
       "      <td>10.1</td>\n",
       "      <td>93</td>\n",
       "      <td>1017.9</td>\n",
       "    </tr>\n",
       "    <tr>\n",
       "      <th>86615</th>\n",
       "      <td>01-jul-2017 00:00</td>\n",
       "      <td>0</td>\n",
       "      <td>0.0</td>\n",
       "      <td>0</td>\n",
       "      <td>8.2</td>\n",
       "      <td>0</td>\n",
       "      <td>7.8</td>\n",
       "      <td>7.2</td>\n",
       "      <td>10.2</td>\n",
       "      <td>93</td>\n",
       "      <td>1018.2</td>\n",
       "    </tr>\n",
       "  </tbody>\n",
       "</table>\n",
       "</div>"
      ],
      "text/plain": [
       "                    date  ind rain  ind.1  temp  ind.2  wetb dewpt vappr rhum  \\\n",
       "86611  30-jun-2017 20:00    0  0.0      0  13.4      0  10.7   8.0  10.7   69   \n",
       "86612  30-jun-2017 21:00    0  0.0      0  11.4      0  10.0   8.5  11.1   82   \n",
       "86613  30-jun-2017 22:00    0  0.0      0   9.7      0   8.8   7.7  10.5   87   \n",
       "86614  30-jun-2017 23:00    0  0.0      0   8.2      0   7.8   7.2  10.1   93   \n",
       "86615  01-jul-2017 00:00    0  0.0      0   8.2      0   7.8   7.2  10.2   93   \n",
       "\n",
       "          msl  \n",
       "86611  1016.5  \n",
       "86612  1017.2  \n",
       "86613  1017.6  \n",
       "86614  1017.9  \n",
       "86615  1018.2  "
      ]
     },
     "execution_count": 118,
     "metadata": {},
     "output_type": "execute_result"
    }
   ],
   "source": [
    "# read in weather data\n",
    "\n",
    "weather = pd.read_csv(\"bus_data/hourly_weather_data.csv\", low_memory=False)\n",
    "#Read in the data from a csv file using Pandas\n",
    "weather.tail()"
   ]
  },
  {
   "cell_type": "markdown",
   "metadata": {},
   "source": [
    "### Weather Info\n",
    "\n",
    "Station Name: PhoenixPark\n",
    "Station Height: 48 M \n",
    "Latitude:53.358  ,Longitude: -6.342\n",
    "\n",
    "\n",
    "date:  -  Date and Time (utc)\n",
    "rain:  -  Precipitation Amount (mm)\t  \n",
    "temp:  -  Air Temperature (C)\t\n",
    "wetb:  -  Wet Bulb Temperature (C)\n",
    "dewpt: -  Dew Point Temperature (C)\n",
    "vappr: -  Vapour Pressure (hPa)\t\t                 \n",
    "rhum:  -  Relative Humidity (%) \n",
    "msl:   -  Mean Sea Level Pressure (hPa)\n",
    "ind:   -  Indicator"
   ]
  },
  {
   "cell_type": "code",
   "execution_count": 119,
   "metadata": {
    "collapsed": false
   },
   "outputs": [],
   "source": [
    "weather['datetime'] = pd.to_datetime(weather['date'])"
   ]
  },
  {
   "cell_type": "code",
   "execution_count": 120,
   "metadata": {
    "collapsed": false
   },
   "outputs": [
    {
     "data": {
      "text/html": [
       "<div>\n",
       "<table border=\"1\" class=\"dataframe\">\n",
       "  <thead>\n",
       "    <tr style=\"text-align: right;\">\n",
       "      <th></th>\n",
       "      <th>date</th>\n",
       "      <th>ind</th>\n",
       "      <th>rain</th>\n",
       "      <th>ind.1</th>\n",
       "      <th>temp</th>\n",
       "      <th>ind.2</th>\n",
       "      <th>wetb</th>\n",
       "      <th>dewpt</th>\n",
       "      <th>vappr</th>\n",
       "      <th>rhum</th>\n",
       "      <th>msl</th>\n",
       "      <th>datetime</th>\n",
       "    </tr>\n",
       "  </thead>\n",
       "  <tbody>\n",
       "    <tr>\n",
       "      <th>0</th>\n",
       "      <td>31-may-2007 01:00</td>\n",
       "      <td>-1</td>\n",
       "      <td></td>\n",
       "      <td>4</td>\n",
       "      <td></td>\n",
       "      <td>4</td>\n",
       "      <td></td>\n",
       "      <td></td>\n",
       "      <td></td>\n",
       "      <td></td>\n",
       "      <td></td>\n",
       "      <td>2007-05-31 01:00:00</td>\n",
       "    </tr>\n",
       "    <tr>\n",
       "      <th>1</th>\n",
       "      <td>31-may-2007 02:00</td>\n",
       "      <td>-1</td>\n",
       "      <td></td>\n",
       "      <td>4</td>\n",
       "      <td></td>\n",
       "      <td>4</td>\n",
       "      <td></td>\n",
       "      <td></td>\n",
       "      <td></td>\n",
       "      <td></td>\n",
       "      <td></td>\n",
       "      <td>2007-05-31 02:00:00</td>\n",
       "    </tr>\n",
       "    <tr>\n",
       "      <th>2</th>\n",
       "      <td>31-may-2007 03:00</td>\n",
       "      <td>-1</td>\n",
       "      <td></td>\n",
       "      <td>4</td>\n",
       "      <td></td>\n",
       "      <td>4</td>\n",
       "      <td></td>\n",
       "      <td></td>\n",
       "      <td></td>\n",
       "      <td></td>\n",
       "      <td></td>\n",
       "      <td>2007-05-31 03:00:00</td>\n",
       "    </tr>\n",
       "    <tr>\n",
       "      <th>3</th>\n",
       "      <td>31-may-2007 04:00</td>\n",
       "      <td>-1</td>\n",
       "      <td></td>\n",
       "      <td>4</td>\n",
       "      <td></td>\n",
       "      <td>4</td>\n",
       "      <td></td>\n",
       "      <td></td>\n",
       "      <td></td>\n",
       "      <td></td>\n",
       "      <td></td>\n",
       "      <td>2007-05-31 04:00:00</td>\n",
       "    </tr>\n",
       "    <tr>\n",
       "      <th>4</th>\n",
       "      <td>31-may-2007 05:00</td>\n",
       "      <td>-1</td>\n",
       "      <td></td>\n",
       "      <td>4</td>\n",
       "      <td></td>\n",
       "      <td>4</td>\n",
       "      <td></td>\n",
       "      <td></td>\n",
       "      <td></td>\n",
       "      <td></td>\n",
       "      <td></td>\n",
       "      <td>2007-05-31 05:00:00</td>\n",
       "    </tr>\n",
       "  </tbody>\n",
       "</table>\n",
       "</div>"
      ],
      "text/plain": [
       "                date  ind rain  ind.1 temp  ind.2 wetb dewpt vappr rhum msl  \\\n",
       "0  31-may-2007 01:00   -1           4           4                             \n",
       "1  31-may-2007 02:00   -1           4           4                             \n",
       "2  31-may-2007 03:00   -1           4           4                             \n",
       "3  31-may-2007 04:00   -1           4           4                             \n",
       "4  31-may-2007 05:00   -1           4           4                             \n",
       "\n",
       "             datetime  \n",
       "0 2007-05-31 01:00:00  \n",
       "1 2007-05-31 02:00:00  \n",
       "2 2007-05-31 03:00:00  \n",
       "3 2007-05-31 04:00:00  \n",
       "4 2007-05-31 05:00:00  "
      ]
     },
     "execution_count": 120,
     "metadata": {},
     "output_type": "execute_result"
    }
   ],
   "source": [
    "weather.head()"
   ]
  },
  {
   "cell_type": "code",
   "execution_count": 121,
   "metadata": {
    "collapsed": false
   },
   "outputs": [],
   "source": [
    "weather['Hour'] = weather['datetime'].dt.hour\n",
    "weather['Date'] = weather['datetime'].dt.date\n",
    "weather = weather.drop(['datetime'], axis=1)"
   ]
  },
  {
   "cell_type": "code",
   "execution_count": 122,
   "metadata": {
    "collapsed": true
   },
   "outputs": [],
   "source": [
    "# Dropping everything we don't want from weather \n",
    "\n",
    "weather = weather[['Date', 'Hour', 'rain']]"
   ]
  },
  {
   "cell_type": "code",
   "execution_count": 123,
   "metadata": {
    "collapsed": false
   },
   "outputs": [
    {
     "data": {
      "text/html": [
       "<div>\n",
       "<table border=\"1\" class=\"dataframe\">\n",
       "  <thead>\n",
       "    <tr style=\"text-align: right;\">\n",
       "      <th></th>\n",
       "      <th>Date</th>\n",
       "      <th>Hour</th>\n",
       "      <th>rain</th>\n",
       "    </tr>\n",
       "  </thead>\n",
       "  <tbody>\n",
       "    <tr>\n",
       "      <th>0</th>\n",
       "      <td>2007-05-31</td>\n",
       "      <td>1</td>\n",
       "      <td></td>\n",
       "    </tr>\n",
       "    <tr>\n",
       "      <th>1</th>\n",
       "      <td>2007-05-31</td>\n",
       "      <td>2</td>\n",
       "      <td></td>\n",
       "    </tr>\n",
       "    <tr>\n",
       "      <th>2</th>\n",
       "      <td>2007-05-31</td>\n",
       "      <td>3</td>\n",
       "      <td></td>\n",
       "    </tr>\n",
       "    <tr>\n",
       "      <th>3</th>\n",
       "      <td>2007-05-31</td>\n",
       "      <td>4</td>\n",
       "      <td></td>\n",
       "    </tr>\n",
       "    <tr>\n",
       "      <th>4</th>\n",
       "      <td>2007-05-31</td>\n",
       "      <td>5</td>\n",
       "      <td></td>\n",
       "    </tr>\n",
       "  </tbody>\n",
       "</table>\n",
       "</div>"
      ],
      "text/plain": [
       "         Date  Hour rain\n",
       "0  2007-05-31     1     \n",
       "1  2007-05-31     2     \n",
       "2  2007-05-31     3     \n",
       "3  2007-05-31     4     \n",
       "4  2007-05-31     5     "
      ]
     },
     "execution_count": 123,
     "metadata": {},
     "output_type": "execute_result"
    }
   ],
   "source": [
    "weather.head()"
   ]
  },
  {
   "cell_type": "markdown",
   "metadata": {
    "collapsed": false
   },
   "source": [
    "## Merging data & weather"
   ]
  },
  {
   "cell_type": "code",
   "execution_count": 124,
   "metadata": {
    "collapsed": true
   },
   "outputs": [],
   "source": [
    "df['Date'] = pd.to_datetime(df['Timestamp'], unit='us')\n",
    "df['Date'] = df['Date'].dt.date"
   ]
  },
  {
   "cell_type": "code",
   "execution_count": 134,
   "metadata": {
    "collapsed": false
   },
   "outputs": [],
   "source": [
    "# replacing empty cells with 0, converting to float\n",
    "weather['rain'] = pd.to_numeric(weather['rain'], errors='coerce')\n",
    "weather['rain'].fillna(0, inplace=True)"
   ]
  },
  {
   "cell_type": "code",
   "execution_count": 150,
   "metadata": {
    "collapsed": false
   },
   "outputs": [],
   "source": [
    "# Merging rain info with bus data\n",
    "new_df = pd.merge(df, weather, how='left' , on=['Date','Hour'])\n",
    "\n",
    "# renaming rain to Rain\n",
    "new_df = new_df.rename(columns={'rain': 'Rain'})"
   ]
  },
  {
   "cell_type": "code",
   "execution_count": 155,
   "metadata": {
    "collapsed": false
   },
   "outputs": [],
   "source": [
    "new_df['Rain'] = new_df['Rain'].apply(lambda x: 1 if (x >= 1) else 0)"
   ]
  },
  {
   "cell_type": "code",
   "execution_count": 93,
   "metadata": {
    "collapsed": false
   },
   "outputs": [
    {
     "data": {
      "text/plain": [
       "Timestamp             int64\n",
       "LineID                int64\n",
       "JourneyPatternID      int64\n",
       "TimeFrame            object\n",
       "VehicleJourneyID      int64\n",
       "Lon                 float64\n",
       "Lat                 float64\n",
       "VehicleID             int64\n",
       "StopID                int64\n",
       "AtStop                int64\n",
       "HumanTime            object\n",
       "Day                   int64\n",
       "Hour                  int64\n",
       "JourneyGroup         object\n",
       "Runtime               int64\n",
       "Date                 object\n",
       "rain                 object\n",
       "dtype: object"
      ]
     },
     "execution_count": 93,
     "metadata": {},
     "output_type": "execute_result"
    }
   ],
   "source": [
    "new_df.dtypes"
   ]
  },
  {
   "cell_type": "code",
   "execution_count": 73,
   "metadata": {
    "collapsed": false
   },
   "outputs": [
    {
     "data": {
      "text/plain": [
       "nan"
      ]
     },
     "execution_count": 73,
     "metadata": {},
     "output_type": "execute_result"
    }
   ],
   "source": [
    "#Zeros showing as nan\n",
    "new_df.rain[0]"
   ]
  },
  {
   "cell_type": "code",
   "execution_count": 74,
   "metadata": {
    "collapsed": false
   },
   "outputs": [
    {
     "data": {
      "text/html": [
       "<div>\n",
       "<table border=\"1\" class=\"dataframe\">\n",
       "  <thead>\n",
       "    <tr style=\"text-align: right;\">\n",
       "      <th></th>\n",
       "      <th>day_x</th>\n",
       "      <th>duration</th>\n",
       "      <th>hour</th>\n",
       "      <th>weekday</th>\n",
       "      <th>rain</th>\n",
       "      <th>day_y</th>\n",
       "    </tr>\n",
       "  </thead>\n",
       "  <tbody>\n",
       "    <tr>\n",
       "      <th>count</th>\n",
       "      <td>4353.000000</td>\n",
       "      <td>4353.000000</td>\n",
       "      <td>4353.000000</td>\n",
       "      <td>4353.000000</td>\n",
       "      <td>2326.000000</td>\n",
       "      <td>2326.000000</td>\n",
       "    </tr>\n",
       "    <tr>\n",
       "      <th>mean</th>\n",
       "      <td>2.584654</td>\n",
       "      <td>99.937285</td>\n",
       "      <td>13.271307</td>\n",
       "      <td>0.839191</td>\n",
       "      <td>0.131083</td>\n",
       "      <td>2.567068</td>\n",
       "    </tr>\n",
       "    <tr>\n",
       "      <th>std</th>\n",
       "      <td>1.769784</td>\n",
       "      <td>11.663321</td>\n",
       "      <td>4.627051</td>\n",
       "      <td>0.367397</td>\n",
       "      <td>0.416221</td>\n",
       "      <td>1.802154</td>\n",
       "    </tr>\n",
       "    <tr>\n",
       "      <th>min</th>\n",
       "      <td>0.000000</td>\n",
       "      <td>30.000000</td>\n",
       "      <td>6.000000</td>\n",
       "      <td>0.000000</td>\n",
       "      <td>0.000000</td>\n",
       "      <td>0.000000</td>\n",
       "    </tr>\n",
       "    <tr>\n",
       "      <th>25%</th>\n",
       "      <td>1.000000</td>\n",
       "      <td>95.000000</td>\n",
       "      <td>9.000000</td>\n",
       "      <td>1.000000</td>\n",
       "      <td>0.000000</td>\n",
       "      <td>1.000000</td>\n",
       "    </tr>\n",
       "    <tr>\n",
       "      <th>50%</th>\n",
       "      <td>3.000000</td>\n",
       "      <td>100.000000</td>\n",
       "      <td>13.000000</td>\n",
       "      <td>1.000000</td>\n",
       "      <td>0.000000</td>\n",
       "      <td>2.000000</td>\n",
       "    </tr>\n",
       "    <tr>\n",
       "      <th>75%</th>\n",
       "      <td>4.000000</td>\n",
       "      <td>105.000000</td>\n",
       "      <td>17.000000</td>\n",
       "      <td>1.000000</td>\n",
       "      <td>0.000000</td>\n",
       "      <td>4.000000</td>\n",
       "    </tr>\n",
       "    <tr>\n",
       "      <th>max</th>\n",
       "      <td>6.000000</td>\n",
       "      <td>254.000000</td>\n",
       "      <td>23.000000</td>\n",
       "      <td>1.000000</td>\n",
       "      <td>4.000000</td>\n",
       "      <td>6.000000</td>\n",
       "    </tr>\n",
       "  </tbody>\n",
       "</table>\n",
       "</div>"
      ],
      "text/plain": [
       "             day_x     duration         hour      weekday         rain  \\\n",
       "count  4353.000000  4353.000000  4353.000000  4353.000000  2326.000000   \n",
       "mean      2.584654    99.937285    13.271307     0.839191     0.131083   \n",
       "std       1.769784    11.663321     4.627051     0.367397     0.416221   \n",
       "min       0.000000    30.000000     6.000000     0.000000     0.000000   \n",
       "25%       1.000000    95.000000     9.000000     1.000000     0.000000   \n",
       "50%       3.000000   100.000000    13.000000     1.000000     0.000000   \n",
       "75%       4.000000   105.000000    17.000000     1.000000     0.000000   \n",
       "max       6.000000   254.000000    23.000000     1.000000     4.000000   \n",
       "\n",
       "             day_y  \n",
       "count  2326.000000  \n",
       "mean      2.567068  \n",
       "std       1.802154  \n",
       "min       0.000000  \n",
       "25%       1.000000  \n",
       "50%       2.000000  \n",
       "75%       4.000000  \n",
       "max       6.000000  "
      ]
     },
     "execution_count": 74,
     "metadata": {},
     "output_type": "execute_result"
    }
   ],
   "source": [
    "new_df.describe()"
   ]
  },
  {
   "cell_type": "code",
   "execution_count": 80,
   "metadata": {
    "collapsed": true
   },
   "outputs": [],
   "source": [
    "# new_df.fillna(0, inplace=True)"
   ]
  },
  {
   "cell_type": "code",
   "execution_count": 83,
   "metadata": {
    "collapsed": false
   },
   "outputs": [
    {
     "data": {
      "text/html": [
       "<div>\n",
       "<table border=\"1\" class=\"dataframe\">\n",
       "  <thead>\n",
       "    <tr style=\"text-align: right;\">\n",
       "      <th></th>\n",
       "      <th>date</th>\n",
       "      <th>day_x</th>\n",
       "      <th>duration</th>\n",
       "      <th>hour</th>\n",
       "      <th>weekday</th>\n",
       "      <th>datetime</th>\n",
       "      <th>rain</th>\n",
       "      <th>day_y</th>\n",
       "    </tr>\n",
       "  </thead>\n",
       "  <tbody>\n",
       "    <tr>\n",
       "      <th>0</th>\n",
       "      <td>2012-11-06</td>\n",
       "      <td>1</td>\n",
       "      <td>105</td>\n",
       "      <td>6</td>\n",
       "      <td>1</td>\n",
       "      <td>1970-01-01</td>\n",
       "      <td>0.0</td>\n",
       "      <td>0.0</td>\n",
       "    </tr>\n",
       "    <tr>\n",
       "      <th>1</th>\n",
       "      <td>2012-11-06</td>\n",
       "      <td>1</td>\n",
       "      <td>92</td>\n",
       "      <td>6</td>\n",
       "      <td>1</td>\n",
       "      <td>1970-01-01</td>\n",
       "      <td>0.0</td>\n",
       "      <td>0.0</td>\n",
       "    </tr>\n",
       "    <tr>\n",
       "      <th>2</th>\n",
       "      <td>2012-11-06</td>\n",
       "      <td>1</td>\n",
       "      <td>93</td>\n",
       "      <td>6</td>\n",
       "      <td>1</td>\n",
       "      <td>1970-01-01</td>\n",
       "      <td>0.0</td>\n",
       "      <td>0.0</td>\n",
       "    </tr>\n",
       "    <tr>\n",
       "      <th>3</th>\n",
       "      <td>2012-11-06</td>\n",
       "      <td>1</td>\n",
       "      <td>94</td>\n",
       "      <td>6</td>\n",
       "      <td>1</td>\n",
       "      <td>1970-01-01</td>\n",
       "      <td>0.0</td>\n",
       "      <td>0.0</td>\n",
       "    </tr>\n",
       "    <tr>\n",
       "      <th>4</th>\n",
       "      <td>2012-11-06</td>\n",
       "      <td>1</td>\n",
       "      <td>148</td>\n",
       "      <td>6</td>\n",
       "      <td>1</td>\n",
       "      <td>1970-01-01</td>\n",
       "      <td>0.0</td>\n",
       "      <td>0.0</td>\n",
       "    </tr>\n",
       "  </tbody>\n",
       "</table>\n",
       "</div>"
      ],
      "text/plain": [
       "         date  day_x  duration  hour  weekday   datetime  rain  day_y\n",
       "0  2012-11-06      1       105     6        1 1970-01-01   0.0    0.0\n",
       "1  2012-11-06      1        92     6        1 1970-01-01   0.0    0.0\n",
       "2  2012-11-06      1        93     6        1 1970-01-01   0.0    0.0\n",
       "3  2012-11-06      1        94     6        1 1970-01-01   0.0    0.0\n",
       "4  2012-11-06      1       148     6        1 1970-01-01   0.0    0.0"
      ]
     },
     "execution_count": 83,
     "metadata": {},
     "output_type": "execute_result"
    }
   ],
   "source": [
    "new_df.head()"
   ]
  },
  {
   "cell_type": "code",
   "execution_count": 84,
   "metadata": {
    "collapsed": false
   },
   "outputs": [],
   "source": [
    "new_df = new_df.drop('date', 1)\n",
    "new_df = new_df.drop('datetime', 1)\n",
    "new_df = new_df.drop('day_y', 1)"
   ]
  },
  {
   "cell_type": "code",
   "execution_count": 87,
   "metadata": {
    "collapsed": false
   },
   "outputs": [
    {
     "data": {
      "text/html": [
       "<div>\n",
       "<table border=\"1\" class=\"dataframe\">\n",
       "  <thead>\n",
       "    <tr style=\"text-align: right;\">\n",
       "      <th></th>\n",
       "      <th>day</th>\n",
       "      <th>duration</th>\n",
       "      <th>hour</th>\n",
       "      <th>weekday</th>\n",
       "      <th>rain</th>\n",
       "    </tr>\n",
       "  </thead>\n",
       "  <tbody>\n",
       "    <tr>\n",
       "      <th>0</th>\n",
       "      <td>1</td>\n",
       "      <td>105</td>\n",
       "      <td>6</td>\n",
       "      <td>1</td>\n",
       "      <td>0.0</td>\n",
       "    </tr>\n",
       "    <tr>\n",
       "      <th>1</th>\n",
       "      <td>1</td>\n",
       "      <td>92</td>\n",
       "      <td>6</td>\n",
       "      <td>1</td>\n",
       "      <td>0.0</td>\n",
       "    </tr>\n",
       "    <tr>\n",
       "      <th>2</th>\n",
       "      <td>1</td>\n",
       "      <td>93</td>\n",
       "      <td>6</td>\n",
       "      <td>1</td>\n",
       "      <td>0.0</td>\n",
       "    </tr>\n",
       "    <tr>\n",
       "      <th>3</th>\n",
       "      <td>1</td>\n",
       "      <td>94</td>\n",
       "      <td>6</td>\n",
       "      <td>1</td>\n",
       "      <td>0.0</td>\n",
       "    </tr>\n",
       "    <tr>\n",
       "      <th>4</th>\n",
       "      <td>1</td>\n",
       "      <td>148</td>\n",
       "      <td>6</td>\n",
       "      <td>1</td>\n",
       "      <td>0.0</td>\n",
       "    </tr>\n",
       "  </tbody>\n",
       "</table>\n",
       "</div>"
      ],
      "text/plain": [
       "   day  duration  hour  weekday  rain\n",
       "0    1       105     6        1   0.0\n",
       "1    1        92     6        1   0.0\n",
       "2    1        93     6        1   0.0\n",
       "3    1        94     6        1   0.0\n",
       "4    1       148     6        1   0.0"
      ]
     },
     "execution_count": 87,
     "metadata": {},
     "output_type": "execute_result"
    }
   ],
   "source": [
    "new_df.head()"
   ]
  },
  {
   "cell_type": "code",
   "execution_count": 86,
   "metadata": {
    "collapsed": true
   },
   "outputs": [],
   "source": [
    "new_df.columns = ['day','duration','hour','weekday','rain']\n"
   ]
  },
  {
   "cell_type": "code",
   "execution_count": 90,
   "metadata": {
    "collapsed": false
   },
   "outputs": [],
   "source": [
    "new_df.to_csv('00150001.rain.csv', encoding='utf-8')"
   ]
  },
  {
   "cell_type": "code",
   "execution_count": null,
   "metadata": {
    "collapsed": true
   },
   "outputs": [],
   "source": []
  }
 ],
 "metadata": {
  "anaconda-cloud": {},
  "kernelspec": {
   "display_name": "Python 3",
   "language": "python",
   "name": "python3"
  },
  "language_info": {
   "codemirror_mode": {
    "name": "ipython",
    "version": 3
   },
   "file_extension": ".py",
   "mimetype": "text/x-python",
   "name": "python",
   "nbconvert_exporter": "python",
   "pygments_lexer": "ipython3",
   "version": "3.6.0"
  }
 },
 "nbformat": 4,
 "nbformat_minor": 1
}
