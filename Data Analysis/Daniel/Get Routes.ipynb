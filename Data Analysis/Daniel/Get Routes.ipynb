{
 "cells": [
  {
   "cell_type": "code",
   "execution_count": 1,
   "metadata": {
    "collapsed": true
   },
   "outputs": [],
   "source": [
    "import pandas as pd\n",
    "import os\n",
    "\n",
    "import matplotlib.pyplot as plt\n",
    "%matplotlib inline"
   ]
  },
  {
   "cell_type": "markdown",
   "metadata": {},
   "source": [
    "### Static Variables"
   ]
  },
  {
   "cell_type": "code",
   "execution_count": 2,
   "metadata": {
    "collapsed": true
   },
   "outputs": [],
   "source": [
    "line = \"15\""
   ]
  },
  {
   "cell_type": "markdown",
   "metadata": {},
   "source": [
    "### Extracting Data"
   ]
  },
  {
   "cell_type": "code",
   "execution_count": 3,
   "metadata": {
    "collapsed": false
   },
   "outputs": [
    {
     "data": {
      "text/html": [
       "<div>\n",
       "<table border=\"1\" class=\"dataframe\">\n",
       "  <thead>\n",
       "    <tr style=\"text-align: right;\">\n",
       "      <th></th>\n",
       "      <th>Timestamp</th>\n",
       "      <th>LineID</th>\n",
       "      <th>JourneyPatternID</th>\n",
       "      <th>TimeFrame</th>\n",
       "      <th>VehicleJourneyID</th>\n",
       "      <th>Lon</th>\n",
       "      <th>Lat</th>\n",
       "      <th>VehicleID</th>\n",
       "      <th>StopID</th>\n",
       "      <th>AtStop</th>\n",
       "      <th>HumanTime</th>\n",
       "      <th>Day</th>\n",
       "      <th>Hour</th>\n",
       "      <th>Runtime</th>\n",
       "    </tr>\n",
       "  </thead>\n",
       "  <tbody>\n",
       "    <tr>\n",
       "      <th>0</th>\n",
       "      <td>1352181644000000</td>\n",
       "      <td>15</td>\n",
       "      <td>1</td>\n",
       "      <td>2012-11-06</td>\n",
       "      <td>5891</td>\n",
       "      <td>-6.153783</td>\n",
       "      <td>53.402687</td>\n",
       "      <td>33553</td>\n",
       "      <td>6319</td>\n",
       "      <td>1</td>\n",
       "      <td>2012-11-06 06:00:44</td>\n",
       "      <td>1</td>\n",
       "      <td>6</td>\n",
       "      <td>0</td>\n",
       "    </tr>\n",
       "    <tr>\n",
       "      <th>1</th>\n",
       "      <td>1352181825000000</td>\n",
       "      <td>15</td>\n",
       "      <td>1</td>\n",
       "      <td>2012-11-06</td>\n",
       "      <td>5891</td>\n",
       "      <td>-6.163521</td>\n",
       "      <td>53.399288</td>\n",
       "      <td>33553</td>\n",
       "      <td>4594</td>\n",
       "      <td>1</td>\n",
       "      <td>2012-11-06 06:03:45</td>\n",
       "      <td>1</td>\n",
       "      <td>6</td>\n",
       "      <td>181</td>\n",
       "    </tr>\n",
       "    <tr>\n",
       "      <th>2</th>\n",
       "      <td>1352181904000000</td>\n",
       "      <td>15</td>\n",
       "      <td>1</td>\n",
       "      <td>2012-11-06</td>\n",
       "      <td>5891</td>\n",
       "      <td>-6.173066</td>\n",
       "      <td>53.402138</td>\n",
       "      <td>33553</td>\n",
       "      <td>4595</td>\n",
       "      <td>1</td>\n",
       "      <td>2012-11-06 06:05:04</td>\n",
       "      <td>1</td>\n",
       "      <td>6</td>\n",
       "      <td>260</td>\n",
       "    </tr>\n",
       "    <tr>\n",
       "      <th>3</th>\n",
       "      <td>1352181908000000</td>\n",
       "      <td>15</td>\n",
       "      <td>1001</td>\n",
       "      <td>2012-11-06</td>\n",
       "      <td>5781</td>\n",
       "      <td>-6.310957</td>\n",
       "      <td>53.286865</td>\n",
       "      <td>33469</td>\n",
       "      <td>1153</td>\n",
       "      <td>1</td>\n",
       "      <td>2012-11-06 06:05:08</td>\n",
       "      <td>1</td>\n",
       "      <td>6</td>\n",
       "      <td>0</td>\n",
       "    </tr>\n",
       "    <tr>\n",
       "      <th>4</th>\n",
       "      <td>1352181944000000</td>\n",
       "      <td>15</td>\n",
       "      <td>1</td>\n",
       "      <td>2012-11-06</td>\n",
       "      <td>5891</td>\n",
       "      <td>-6.177130</td>\n",
       "      <td>53.402370</td>\n",
       "      <td>33553</td>\n",
       "      <td>4596</td>\n",
       "      <td>1</td>\n",
       "      <td>2012-11-06 06:05:44</td>\n",
       "      <td>1</td>\n",
       "      <td>6</td>\n",
       "      <td>300</td>\n",
       "    </tr>\n",
       "  </tbody>\n",
       "</table>\n",
       "</div>"
      ],
      "text/plain": [
       "          Timestamp  LineID  JourneyPatternID   TimeFrame  VehicleJourneyID  \\\n",
       "0  1352181644000000      15                 1  2012-11-06              5891   \n",
       "1  1352181825000000      15                 1  2012-11-06              5891   \n",
       "2  1352181904000000      15                 1  2012-11-06              5891   \n",
       "3  1352181908000000      15              1001  2012-11-06              5781   \n",
       "4  1352181944000000      15                 1  2012-11-06              5891   \n",
       "\n",
       "        Lon        Lat  VehicleID StopID  AtStop            HumanTime  Day  \\\n",
       "0 -6.153783  53.402687      33553   6319       1  2012-11-06 06:00:44    1   \n",
       "1 -6.163521  53.399288      33553   4594       1  2012-11-06 06:03:45    1   \n",
       "2 -6.173066  53.402138      33553   4595       1  2012-11-06 06:05:04    1   \n",
       "3 -6.310957  53.286865      33469   1153       1  2012-11-06 06:05:08    1   \n",
       "4 -6.177130  53.402370      33553   4596       1  2012-11-06 06:05:44    1   \n",
       "\n",
       "   Hour  Runtime  \n",
       "0     6        0  \n",
       "1     6      181  \n",
       "2     6      260  \n",
       "3     6        0  \n",
       "4     6      300  "
      ]
     },
     "execution_count": 3,
     "metadata": {},
     "output_type": "execute_result"
    }
   ],
   "source": [
    "df = pd.read_csv(\"bus_data/line_data/\" + line + \".csv\", low_memory=False, header=None)\n",
    "df.columns = [\"Timestamp\", \"LineID\", \"JourneyPatternID\", \"TimeFrame\", \n",
    "              \"VehicleJourneyID\", \"Lon\", \"Lat\", \"VehicleID\", \"StopID\", \n",
    "              \"AtStop\", \"HumanTime\", \"Day\", \"Hour\", \"Runtime\"]\n",
    "\n",
    "#convert StopID to string\n",
    "\n",
    "df['StopID'] = df['StopID'].astype('str')\n",
    "\n",
    "\n",
    "df.head()"
   ]
  },
  {
   "cell_type": "code",
   "execution_count": 4,
   "metadata": {
    "collapsed": false
   },
   "outputs": [],
   "source": [
    "df.drop_duplicates(subset=[\"LineID\", \"JourneyPatternID\"], inplace='True')\n",
    "journey = df[['LineID', 'JourneyPatternID']]\n"
   ]
  },
  {
   "cell_type": "code",
   "execution_count": 5,
   "metadata": {
    "collapsed": false
   },
   "outputs": [
    {
     "data": {
      "text/html": [
       "<div>\n",
       "<table border=\"1\" class=\"dataframe\">\n",
       "  <thead>\n",
       "    <tr style=\"text-align: right;\">\n",
       "      <th></th>\n",
       "      <th>LineID</th>\n",
       "      <th>JourneyPatternID</th>\n",
       "    </tr>\n",
       "  </thead>\n",
       "  <tbody>\n",
       "    <tr>\n",
       "      <th>0</th>\n",
       "      <td>15</td>\n",
       "      <td>1</td>\n",
       "    </tr>\n",
       "    <tr>\n",
       "      <th>3</th>\n",
       "      <td>15</td>\n",
       "      <td>1001</td>\n",
       "    </tr>\n",
       "    <tr>\n",
       "      <th>5403</th>\n",
       "      <td>15</td>\n",
       "      <td>1002</td>\n",
       "    </tr>\n",
       "    <tr>\n",
       "      <th>10936</th>\n",
       "      <td>15</td>\n",
       "      <td>2</td>\n",
       "    </tr>\n",
       "  </tbody>\n",
       "</table>\n",
       "</div>"
      ],
      "text/plain": [
       "       LineID  JourneyPatternID\n",
       "0          15                 1\n",
       "3          15              1001\n",
       "5403       15              1002\n",
       "10936      15                 2"
      ]
     },
     "execution_count": 5,
     "metadata": {},
     "output_type": "execute_result"
    }
   ],
   "source": [
    "journey.head()"
   ]
  },
  {
   "cell_type": "code",
   "execution_count": null,
   "metadata": {
    "collapsed": true
   },
   "outputs": [],
   "source": []
  },
  {
   "cell_type": "code",
   "execution_count": 6,
   "metadata": {
    "collapsed": true
   },
   "outputs": [],
   "source": [
    "master = pd.DataFrame()\n",
    "\n",
    "master = pd.concat([master, journey], ignore_index=True)"
   ]
  },
  {
   "cell_type": "code",
   "execution_count": 7,
   "metadata": {
    "collapsed": false
   },
   "outputs": [
    {
     "data": {
      "text/html": [
       "<div>\n",
       "<table border=\"1\" class=\"dataframe\">\n",
       "  <thead>\n",
       "    <tr style=\"text-align: right;\">\n",
       "      <th></th>\n",
       "      <th>LineID</th>\n",
       "      <th>JourneyPatternID</th>\n",
       "    </tr>\n",
       "  </thead>\n",
       "  <tbody>\n",
       "    <tr>\n",
       "      <th>0</th>\n",
       "      <td>15</td>\n",
       "      <td>1</td>\n",
       "    </tr>\n",
       "    <tr>\n",
       "      <th>1</th>\n",
       "      <td>15</td>\n",
       "      <td>1001</td>\n",
       "    </tr>\n",
       "    <tr>\n",
       "      <th>2</th>\n",
       "      <td>15</td>\n",
       "      <td>1002</td>\n",
       "    </tr>\n",
       "    <tr>\n",
       "      <th>3</th>\n",
       "      <td>15</td>\n",
       "      <td>2</td>\n",
       "    </tr>\n",
       "    <tr>\n",
       "      <th>4</th>\n",
       "      <td>15</td>\n",
       "      <td>1</td>\n",
       "    </tr>\n",
       "    <tr>\n",
       "      <th>5</th>\n",
       "      <td>15</td>\n",
       "      <td>1001</td>\n",
       "    </tr>\n",
       "    <tr>\n",
       "      <th>6</th>\n",
       "      <td>15</td>\n",
       "      <td>1002</td>\n",
       "    </tr>\n",
       "    <tr>\n",
       "      <th>7</th>\n",
       "      <td>15</td>\n",
       "      <td>2</td>\n",
       "    </tr>\n",
       "  </tbody>\n",
       "</table>\n",
       "</div>"
      ],
      "text/plain": [
       "   LineID  JourneyPatternID\n",
       "0      15                 1\n",
       "1      15              1001\n",
       "2      15              1002\n",
       "3      15                 2\n",
       "4      15                 1\n",
       "5      15              1001\n",
       "6      15              1002\n",
       "7      15                 2"
      ]
     },
     "execution_count": 7,
     "metadata": {},
     "output_type": "execute_result"
    }
   ],
   "source": [
    "master = pd.concat([master, journey], ignore_index=True)\n",
    "master"
   ]
  },
  {
   "cell_type": "code",
   "execution_count": 8,
   "metadata": {
    "collapsed": true
   },
   "outputs": [],
   "source": [
    "# shows how to concatenate dataframes ignoring index\n",
    "# result = pd.concat([df1, df4], ignore_index=True)"
   ]
  },
  {
   "cell_type": "code",
   "execution_count": 9,
   "metadata": {
    "collapsed": true
   },
   "outputs": [],
   "source": [
    "def get_static(line_id, master):\n",
    "        \n",
    "    # read data from csv\n",
    "    df = pd.read_csv(\"bus_data/line_data/\" + line_id + \".csv\", low_memory=False, header=None)\n",
    "    df.columns = [\"Timestamp\", \"LineID\", \"JourneyPatternID\", \"TimeFrame\", \n",
    "                  \"VehicleJourneyID\", \"Lon\", \"Lat\", \"VehicleID\", \"StopID\", \n",
    "                  \"AtStop\", \"HumanTime\", \"Day\", \"Hour\", \"Runtime\"]\n",
    "\n",
    "    # convert StopID to string\n",
    "    df['StopID'] = df['StopID'].astype('str')\n",
    "    \n",
    "    # drop non-static info & duplicates\n",
    "    df.drop_duplicates(subset=[\"LineID\", \"JourneyPatternID\"], inplace='True')\n",
    "    df = df[['LineID', 'JourneyPatternID']]\n",
    "    \n",
    "    return pd.concat([master, df], ignore_index=True)\n",
    "    \n",
    "    \n",
    "    "
   ]
  },
  {
   "cell_type": "code",
   "execution_count": 10,
   "metadata": {
    "collapsed": true
   },
   "outputs": [],
   "source": [
    "def main(directory):\n",
    "    master = pd.DataFrame()\n",
    "    \n",
    "    for readfile in os.listdir(directory):\n",
    "        line_id = readfile[:-4]\n",
    "        if readfile.endswith(\".csv\"): \n",
    "            print(\"Opening line\", line_id)\n",
    "            readfile = directory + \"/\" + readfile\n",
    "            master = get_static(line_id, master)\n",
    "    print(\"Finished!\")\n",
    "    \n",
    "    master = master.drop_duplicates()\n",
    "    \n",
    "    return master"
   ]
  },
  {
   "cell_type": "code",
   "execution_count": 11,
   "metadata": {
    "collapsed": false
   },
   "outputs": [
    {
     "name": "stdout",
     "output_type": "stream",
     "text": [
      "Opening line 1\n",
      "Opening line 102\n",
      "Opening line 104\n",
      "Opening line 11\n",
      "Opening line 111\n",
      "Opening line 114\n",
      "Opening line 116\n",
      "Opening line 118\n",
      "Opening line 120\n",
      "Opening line 122\n",
      "Opening line 123\n",
      "Opening line 13\n",
      "Opening line 130\n",
      "Opening line 14\n",
      "Opening line 140\n",
      "Opening line 142\n",
      "Opening line 145\n",
      "Opening line 14C\n",
      "Opening line 15\n",
      "Opening line 150\n",
      "Opening line 151\n",
      "Opening line 15A\n",
      "Opening line 15B\n",
      "Opening line 16\n",
      "Opening line 161\n",
      "Opening line 16C\n",
      "Opening line 17\n",
      "Opening line 17A\n",
      "Opening line 18\n",
      "Opening line 184\n",
      "Opening line 185\n",
      "Opening line 220\n",
      "Opening line 236\n",
      "Opening line 238\n",
      "Opening line 239\n",
      "Opening line 25\n",
      "Opening line 25A\n",
      "Opening line 25B\n",
      "Opening line 25X\n",
      "Opening line 26\n",
      "Opening line 27\n",
      "Opening line 270\n",
      "Opening line 27A\n",
      "Opening line 27B\n",
      "Opening line 27X\n",
      "Opening line 29A\n",
      "Opening line 31\n",
      "Opening line 31A\n",
      "Opening line 31B\n",
      "Opening line 32\n",
      "Opening line 32A\n",
      "Opening line 32B\n",
      "Opening line 32X\n",
      "Opening line 33\n",
      "Opening line 33A\n",
      "Opening line 33B\n",
      "Opening line 33X\n",
      "Opening line 37\n",
      "Opening line 38\n",
      "Opening line 38A\n",
      "Opening line 38B\n",
      "Opening line 39\n",
      "Opening line 39A\n",
      "Opening line 4\n",
      "Opening line 40\n",
      "Opening line 40B\n",
      "Opening line 40D\n",
      "Opening line 41\n",
      "Opening line 41A\n",
      "Opening line 41B\n",
      "Opening line 41C\n",
      "Opening line 41X\n",
      "Opening line 42\n",
      "Opening line 43\n",
      "Opening line 44\n",
      "Opening line 44B\n",
      "Opening line 45A\n",
      "Opening line 46A\n",
      "Opening line 46E\n",
      "Opening line 47\n",
      "Opening line 49\n",
      "Opening line 51D\n",
      "Opening line 51X\n",
      "Opening line 53\n",
      "Opening line 54A\n",
      "Opening line 56A\n",
      "Opening line 59\n",
      "Opening line 61\n",
      "Opening line 63\n",
      "Opening line 65\n",
      "Opening line 65B\n",
      "Opening line 66\n",
      "Opening line 66A\n",
      "Opening line 66B\n",
      "Opening line 66X\n",
      "Opening line 67\n",
      "Opening line 67X\n",
      "Opening line 68\n",
      "Opening line 68A\n",
      "Opening line 69\n",
      "Opening line 69X\n",
      "Opening line 7\n",
      "Opening line 70\n",
      "Opening line 747\n",
      "Opening line 75\n",
      "Opening line 76\n",
      "Opening line 76A\n",
      "Opening line 77A\n",
      "Opening line 79\n",
      "Opening line 79A\n",
      "Opening line 7B\n",
      "Opening line 7D\n",
      "Opening line 8\n",
      "Opening line 83\n",
      "Opening line 83A\n",
      "Opening line 84\n",
      "Opening line 84A\n",
      "Opening line 84X\n",
      "Opening line 9\n",
      "Opening line OL77\n",
      "Opening line PP07\n",
      "Finished!\n"
     ]
    }
   ],
   "source": [
    "master = main('bus_data/line_data')"
   ]
  },
  {
   "cell_type": "code",
   "execution_count": 12,
   "metadata": {
    "collapsed": false
   },
   "outputs": [],
   "source": [
    "master.to_csv(\"bus_data/static_data/routes_all.csv\")"
   ]
  },
  {
   "cell_type": "code",
   "execution_count": null,
   "metadata": {
    "collapsed": true
   },
   "outputs": [],
   "source": []
  }
 ],
 "metadata": {
  "kernelspec": {
   "display_name": "Python 3",
   "language": "python",
   "name": "python3"
  },
  "language_info": {
   "codemirror_mode": {
    "name": "ipython",
    "version": 3
   },
   "file_extension": ".py",
   "mimetype": "text/x-python",
   "name": "python",
   "nbconvert_exporter": "python",
   "pygments_lexer": "ipython3",
   "version": "3.6.0"
  }
 },
 "nbformat": 4,
 "nbformat_minor": 2
}
