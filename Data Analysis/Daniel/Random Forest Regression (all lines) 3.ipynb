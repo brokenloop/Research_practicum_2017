{
 "cells": [
  {
   "cell_type": "markdown",
   "metadata": {
    "collapsed": true
   },
   "source": [
    "### This random forest model reads data from clean_data_final, and writes to sklearn_models. Here we are using rain as a boolean feature. "
   ]
  },
  {
   "cell_type": "code",
   "execution_count": 1,
   "metadata": {
    "collapsed": true
   },
   "outputs": [],
   "source": [
    "# general \n",
    "import datetime\n",
    "import os\n",
    "\n",
    "# data analysis and wrangling\n",
    "import pandas as pd\n",
    "\n",
    "import numpy as np\n",
    "\n",
    "# machine learning\n",
    "from sklearn.linear_model import LogisticRegression\n",
    "from sklearn.svm import SVC, LinearSVC\n",
    "from sklearn.ensemble import RandomForestRegressor\n",
    "from sklearn.tree import DecisionTreeClassifier\n",
    "from sklearn.model_selection import train_test_split\n",
    "from sklearn import metrics\n",
    "\n",
    "# pickling\n",
    "import pickle\n",
    "\n",
    "%matplotlib inline"
   ]
  },
  {
   "cell_type": "code",
   "execution_count": 2,
   "metadata": {
    "collapsed": false
   },
   "outputs": [],
   "source": [
    "def train_model(read_directory, write_directory, line):\n",
    "    \n",
    "#     Read in the data from a csv file using Pandas\n",
    "    df = pd.read_csv(read_directory + line + \".csv\", low_memory=False)\n",
    "    \n",
    "    # Setting up descriptive & target features\n",
    "    features = [\"Day\", \"Hour\", \"JourneyPatternID\", \"Rain\", \"StopID\",]# \"JourneyPatternID\"] #'LineID', 'JourneyPatternID']\n",
    "\n",
    "    # converting to categories\n",
    "    for feature in features:\n",
    "        df[feature] = df[feature].astype('category')\n",
    "\n",
    "    # Priming features for the model\n",
    "    X = pd.concat([df[features]], axis=1)\n",
    "    y = df.Runtime\n",
    "\n",
    "    # Creating and training the model \n",
    "    rfc = RandomForestRegressor(n_estimators=100, max_features='auto', oob_score=True, random_state=1)\n",
    "    rfc.fit(X, y)\n",
    "\n",
    "    # pickling the model \n",
    "    pickle.dump(rfc, open(write_directory + line + \".sav\", 'wb'))\n",
    "\n"
   ]
  },
  {
   "cell_type": "code",
   "execution_count": 3,
   "metadata": {
    "collapsed": false
   },
   "outputs": [],
   "source": [
    "def main(read_directory, write_directory):\n",
    "    for read_file in os.listdir(read_directory):\n",
    "        if read_file.endswith(\".csv\"):\n",
    "            line = read_file[:-4]\n",
    "        #             print(\"Reading\", read_file, \"from\", read_directory)\n",
    "            if not os.path.isfile(write_directory + line + \".sav\"):\n",
    "                print(write_directory + line + \".sav\")\n",
    "                train_model(read_directory, write_directory, line)            \n",
    "            print(\"Finished\", read_file)\n",
    "            print()\n",
    "    print(\"Finished main!\")"
   ]
  },
  {
   "cell_type": "markdown",
   "metadata": {},
   "source": [
    "## Main loop to create & pickle models"
   ]
  },
  {
   "cell_type": "code",
   "execution_count": 5,
   "metadata": {
    "collapsed": false
   },
   "outputs": [
    {
     "name": "stdout",
     "output_type": "stream",
     "text": [
      "bus_data/sklearn_models/1.sav\n",
      "Finished 1.csv\n",
      "\n",
      "bus_data/sklearn_models/102.sav\n",
      "Finished 102.csv\n",
      "\n",
      "bus_data/sklearn_models/104.sav\n",
      "Finished 104.csv\n",
      "\n",
      "bus_data/sklearn_models/11.sav\n",
      "Finished 11.csv\n",
      "\n",
      "bus_data/sklearn_models/111.sav\n",
      "Finished 111.csv\n",
      "\n",
      "bus_data/sklearn_models/114.sav\n",
      "Finished 114.csv\n",
      "\n",
      "bus_data/sklearn_models/116.sav\n",
      "Finished 116.csv\n",
      "\n",
      "bus_data/sklearn_models/118.sav\n",
      "Finished 118.csv\n",
      "\n",
      "bus_data/sklearn_models/120.sav\n",
      "Finished 120.csv\n",
      "\n",
      "bus_data/sklearn_models/122.sav\n",
      "Finished 122.csv\n",
      "\n",
      "bus_data/sklearn_models/123.sav\n",
      "Finished 123.csv\n",
      "\n",
      "bus_data/sklearn_models/13.sav\n",
      "Finished 13.csv\n",
      "\n",
      "bus_data/sklearn_models/130.sav\n",
      "Finished 130.csv\n",
      "\n",
      "bus_data/sklearn_models/14.sav\n",
      "Finished 14.csv\n",
      "\n",
      "bus_data/sklearn_models/140.sav\n",
      "Finished 140.csv\n",
      "\n",
      "bus_data/sklearn_models/142.sav\n",
      "Finished 142.csv\n",
      "\n",
      "bus_data/sklearn_models/145.sav\n",
      "Finished 145.csv\n",
      "\n",
      "bus_data/sklearn_models/14C.sav\n",
      "Finished 14C.csv\n",
      "\n",
      "bus_data/sklearn_models/15.sav\n",
      "Finished 15.csv\n",
      "\n",
      "bus_data/sklearn_models/150.sav\n",
      "Finished 150.csv\n",
      "\n",
      "bus_data/sklearn_models/151.sav\n",
      "Finished 151.csv\n",
      "\n",
      "bus_data/sklearn_models/15A.sav\n",
      "Finished 15A.csv\n",
      "\n",
      "bus_data/sklearn_models/15B.sav\n",
      "Finished 15B.csv\n",
      "\n",
      "bus_data/sklearn_models/16.sav\n",
      "Finished 16.csv\n",
      "\n",
      "bus_data/sklearn_models/161.sav\n",
      "Finished 161.csv\n",
      "\n",
      "bus_data/sklearn_models/16C.sav\n",
      "Finished 16C.csv\n",
      "\n",
      "bus_data/sklearn_models/17.sav\n",
      "Finished 17.csv\n",
      "\n",
      "bus_data/sklearn_models/17A.sav\n",
      "Finished 17A.csv\n",
      "\n",
      "bus_data/sklearn_models/18.sav\n",
      "Finished 18.csv\n",
      "\n",
      "bus_data/sklearn_models/184.sav\n",
      "Finished 184.csv\n",
      "\n",
      "bus_data/sklearn_models/185.sav\n",
      "Finished 185.csv\n",
      "\n",
      "bus_data/sklearn_models/220.sav\n",
      "Finished 220.csv\n",
      "\n",
      "bus_data/sklearn_models/236.sav\n",
      "Finished 236.csv\n",
      "\n",
      "bus_data/sklearn_models/238.sav\n",
      "Finished 238.csv\n",
      "\n",
      "bus_data/sklearn_models/239.sav\n",
      "Finished 239.csv\n",
      "\n",
      "bus_data/sklearn_models/25.sav\n",
      "Finished 25.csv\n",
      "\n",
      "bus_data/sklearn_models/25A.sav\n",
      "Finished 25A.csv\n",
      "\n",
      "bus_data/sklearn_models/25B.sav\n",
      "Finished 25B.csv\n",
      "\n",
      "bus_data/sklearn_models/25X.sav\n",
      "Finished 25X.csv\n",
      "\n",
      "bus_data/sklearn_models/26.sav\n",
      "Finished 26.csv\n",
      "\n",
      "bus_data/sklearn_models/27.sav\n",
      "Finished 27.csv\n",
      "\n",
      "bus_data/sklearn_models/270.sav\n",
      "Finished 270.csv\n",
      "\n",
      "bus_data/sklearn_models/27A.sav\n",
      "Finished 27A.csv\n",
      "\n",
      "bus_data/sklearn_models/27B.sav\n",
      "Finished 27B.csv\n",
      "\n",
      "bus_data/sklearn_models/27X.sav\n",
      "Finished 27X.csv\n",
      "\n",
      "bus_data/sklearn_models/29A.sav\n",
      "Finished 29A.csv\n",
      "\n",
      "bus_data/sklearn_models/31.sav\n",
      "Finished 31.csv\n",
      "\n",
      "bus_data/sklearn_models/31A.sav\n",
      "Finished 31A.csv\n",
      "\n",
      "bus_data/sklearn_models/31B.sav\n",
      "Finished 31B.csv\n",
      "\n",
      "bus_data/sklearn_models/32.sav\n",
      "Finished 32.csv\n",
      "\n",
      "bus_data/sklearn_models/32X.sav\n",
      "Finished 32X.csv\n",
      "\n",
      "bus_data/sklearn_models/33.sav\n",
      "Finished 33.csv\n",
      "\n",
      "bus_data/sklearn_models/33A.sav\n",
      "Finished 33A.csv\n",
      "\n",
      "bus_data/sklearn_models/33B.sav\n",
      "Finished 33B.csv\n",
      "\n",
      "bus_data/sklearn_models/33X.sav\n",
      "Finished 33X.csv\n",
      "\n",
      "bus_data/sklearn_models/37.sav\n",
      "Finished 37.csv\n",
      "\n",
      "bus_data/sklearn_models/38.sav\n",
      "Finished 38.csv\n",
      "\n",
      "bus_data/sklearn_models/38A.sav\n",
      "Finished 38A.csv\n",
      "\n",
      "bus_data/sklearn_models/38B.sav\n",
      "Finished 38B.csv\n",
      "\n",
      "bus_data/sklearn_models/39.sav\n",
      "Finished 39.csv\n",
      "\n",
      "bus_data/sklearn_models/39A.sav\n",
      "Finished 39A.csv\n",
      "\n",
      "bus_data/sklearn_models/4.sav\n",
      "Finished 4.csv\n",
      "\n",
      "bus_data/sklearn_models/40.sav\n",
      "Finished 40.csv\n",
      "\n",
      "bus_data/sklearn_models/40B.sav\n",
      "Finished 40B.csv\n",
      "\n",
      "bus_data/sklearn_models/40D.sav\n",
      "Finished 40D.csv\n",
      "\n",
      "bus_data/sklearn_models/41.sav\n",
      "Finished 41.csv\n",
      "\n",
      "bus_data/sklearn_models/41A.sav\n",
      "Finished 41A.csv\n",
      "\n",
      "bus_data/sklearn_models/41B.sav\n",
      "Finished 41B.csv\n",
      "\n",
      "bus_data/sklearn_models/41C.sav\n",
      "Finished 41C.csv\n",
      "\n",
      "bus_data/sklearn_models/41X.sav\n",
      "Finished 41X.csv\n",
      "\n",
      "bus_data/sklearn_models/42.sav\n",
      "Finished 42.csv\n",
      "\n",
      "bus_data/sklearn_models/43.sav\n",
      "Finished 43.csv\n",
      "\n",
      "bus_data/sklearn_models/44.sav\n",
      "Finished 44.csv\n",
      "\n",
      "bus_data/sklearn_models/44B.sav\n",
      "Finished 44B.csv\n",
      "\n",
      "bus_data/sklearn_models/45A.sav\n",
      "Finished 45A.csv\n",
      "\n",
      "bus_data/sklearn_models/46A.sav\n",
      "Finished 46A.csv\n",
      "\n",
      "bus_data/sklearn_models/46E.sav\n",
      "Finished 46E.csv\n",
      "\n",
      "bus_data/sklearn_models/47.sav\n",
      "Finished 47.csv\n",
      "\n",
      "bus_data/sklearn_models/49.sav\n",
      "Finished 49.csv\n",
      "\n",
      "bus_data/sklearn_models/51D.sav\n",
      "Finished 51D.csv\n",
      "\n",
      "bus_data/sklearn_models/51X.sav\n",
      "Finished 51X.csv\n",
      "\n",
      "bus_data/sklearn_models/53.sav\n",
      "Finished 53.csv\n",
      "\n",
      "bus_data/sklearn_models/54A.sav\n",
      "Finished 54A.csv\n",
      "\n",
      "bus_data/sklearn_models/56A.sav\n",
      "Finished 56A.csv\n",
      "\n",
      "bus_data/sklearn_models/59.sav\n",
      "Finished 59.csv\n",
      "\n",
      "bus_data/sklearn_models/61.sav\n",
      "Finished 61.csv\n",
      "\n",
      "bus_data/sklearn_models/63.sav\n",
      "Finished 63.csv\n",
      "\n",
      "bus_data/sklearn_models/65.sav\n",
      "Finished 65.csv\n",
      "\n",
      "bus_data/sklearn_models/65B.sav\n",
      "Finished 65B.csv\n",
      "\n",
      "bus_data/sklearn_models/66.sav\n",
      "Finished 66.csv\n",
      "\n",
      "bus_data/sklearn_models/66A.sav\n",
      "Finished 66A.csv\n",
      "\n",
      "bus_data/sklearn_models/66B.sav\n",
      "Finished 66B.csv\n",
      "\n",
      "bus_data/sklearn_models/66X.sav\n",
      "Finished 66X.csv\n",
      "\n",
      "bus_data/sklearn_models/67.sav\n",
      "Finished 67.csv\n",
      "\n",
      "bus_data/sklearn_models/67X.sav\n",
      "Finished 67X.csv\n",
      "\n",
      "bus_data/sklearn_models/68.sav\n",
      "Finished 68.csv\n",
      "\n",
      "bus_data/sklearn_models/68A.sav\n",
      "Finished 68A.csv\n",
      "\n",
      "bus_data/sklearn_models/69.sav\n",
      "Finished 69.csv\n",
      "\n",
      "bus_data/sklearn_models/69X.sav\n",
      "Finished 69X.csv\n",
      "\n",
      "bus_data/sklearn_models/7.sav\n",
      "Finished 7.csv\n",
      "\n",
      "bus_data/sklearn_models/70.sav\n",
      "Finished 70.csv\n",
      "\n",
      "bus_data/sklearn_models/747.sav\n",
      "Finished 747.csv\n",
      "\n",
      "bus_data/sklearn_models/75.sav\n",
      "Finished 75.csv\n",
      "\n",
      "bus_data/sklearn_models/76.sav\n",
      "Finished 76.csv\n",
      "\n",
      "bus_data/sklearn_models/76A.sav\n",
      "Finished 76A.csv\n",
      "\n",
      "bus_data/sklearn_models/77A.sav\n",
      "Finished 77A.csv\n",
      "\n",
      "bus_data/sklearn_models/79.sav\n",
      "Finished 79.csv\n",
      "\n",
      "bus_data/sklearn_models/79A.sav\n",
      "Finished 79A.csv\n",
      "\n",
      "bus_data/sklearn_models/7B.sav\n",
      "Finished 7B.csv\n",
      "\n",
      "bus_data/sklearn_models/7D.sav\n",
      "Finished 7D.csv\n",
      "\n",
      "bus_data/sklearn_models/8.sav\n",
      "Finished 8.csv\n",
      "\n",
      "bus_data/sklearn_models/83.sav\n",
      "Finished 83.csv\n",
      "\n",
      "bus_data/sklearn_models/83A.sav\n",
      "Finished 83A.csv\n",
      "\n",
      "bus_data/sklearn_models/84.sav\n",
      "Finished 84.csv\n",
      "\n",
      "bus_data/sklearn_models/84A.sav\n",
      "Finished 84A.csv\n",
      "\n",
      "bus_data/sklearn_models/84X.sav\n",
      "Finished 84X.csv\n",
      "\n",
      "bus_data/sklearn_models/9.sav\n",
      "Finished 9.csv\n",
      "\n",
      "Finished main!\n"
     ]
    }
   ],
   "source": [
    "read_directory = \"bus_data/clean_data_final/\"\n",
    "write_directory = \"bus_data/sklearn_models/\"\n",
    "\n",
    "main(read_directory, write_directory)"
   ]
  },
  {
   "cell_type": "markdown",
   "metadata": {},
   "source": [
    "## Training Models on different data"
   ]
  },
  {
   "cell_type": "code",
   "execution_count": 8,
   "metadata": {
    "collapsed": false
   },
   "outputs": [
    {
     "data": {
      "text/plain": [
       "RandomForestRegressor(bootstrap=True, criterion='mse', max_depth=None,\n",
       "           max_features='auto', max_leaf_nodes=None,\n",
       "           min_impurity_split=1e-07, min_samples_leaf=1,\n",
       "           min_samples_split=2, min_weight_fraction_leaf=0.0,\n",
       "           n_estimators=100, n_jobs=1, oob_score=True, random_state=1,\n",
       "           verbose=0, warm_start=False)"
      ]
     },
     "execution_count": 8,
     "metadata": {},
     "output_type": "execute_result"
    }
   ],
   "source": [
    "read_directory = \"bus_data/clean_data_final/\"\n",
    "line = \"15\"\n",
    "\n",
    "# Read in the data from a csv file using Pandas\n",
    "df = pd.read_csv(read_directory + line + \".csv\", low_memory=False)\n",
    "\n",
    "\n",
    "# Setting up descriptive & target features\n",
    "features = [\"Day\", \"Hour\", \"JourneyPatternID\", \"Rain\", \"StopID\"]# \"JourneyPatternID\"] #'LineID', 'JourneyPatternID']\n",
    "\n",
    "# converting to categories\n",
    "for feature in features:\n",
    "    df[feature] = df[feature].astype('category')\n",
    "\n",
    "# Priming features for the model\n",
    "X = pd.concat([df[features]], axis=1)\n",
    "y = df.Runtime\n",
    "\n",
    "# Creating and training the model \n",
    "rfc = RandomForestRegressor(n_estimators=100, max_features='auto', oob_score=True, random_state=1)\n",
    "rfc.fit(X, y)\n",
    "\n",
    "# pickling the model \n",
    "#     pickle.dump(rfc, open(write_directory + line + \".sav\", 'wb'))"
   ]
  },
  {
   "cell_type": "markdown",
   "metadata": {},
   "source": [
    "### Testing the model "
   ]
  },
  {
   "cell_type": "code",
   "execution_count": 9,
   "metadata": {
    "collapsed": false
   },
   "outputs": [
    {
     "name": "stdout",
     "output_type": "stream",
     "text": [
      "[ 0.01386834  0.06533765  0.11656705  0.00215231  0.80207465]\n"
     ]
    }
   ],
   "source": [
    "importances = rfc.feature_importances_\n",
    "std = np.std([tree.feature_importances_ for tree in rfc.estimators_],\n",
    "             axis=0)\n",
    "indices = np.argsort(importances)[::-1]\n",
    "\n",
    "# Print the feature ranking\n",
    "print(importances)"
   ]
  },
  {
   "cell_type": "code",
   "execution_count": 10,
   "metadata": {
    "collapsed": false
   },
   "outputs": [
    {
     "name": "stdout",
     "output_type": "stream",
     "text": [
      "R Squared:  0.947820209687\n",
      "neg_mean_absolute_error:  239.992843406\n",
      "mean_squared_error:  116695.377017\n",
      "median_absolute_error:  175.054086794\n"
     ]
    },
    {
     "data": {
      "text/plain": [
       "<matplotlib.axes._subplots.AxesSubplot at 0x11b88e240>"
      ]
     },
     "execution_count": 10,
     "metadata": {},
     "output_type": "execute_result"
    },
    {
     "data": {
      "image/png": "[encoded data removed]",
      "text/plain": [
       "<matplotlib.figure.Figure at 0x11b951278>"
      ]
     },
     "metadata": {},
     "output_type": "display_data"
    }
   ],
   "source": [
    "rfc_predictions = rfc.predict(X)\n",
    "\n",
    "print(\"R Squared: \", metrics.r2_score(y, rfc_predictions))\n",
    "print(\"neg_mean_absolute_error: \", metrics.mean_absolute_error(y, rfc_predictions))\n",
    "print(\"mean_squared_error: \", metrics.mean_squared_error(y, rfc_predictions))\n",
    "print(\"median_absolute_error: \", metrics.median_absolute_error(y, rfc_predictions))\n",
    "\n",
    "true_v_pred = pd.DataFrame({'Actual Value': y, 'Predicted Value': rfc_predictions, 'Hour': df.Hour, 'Day': df.Day})\n",
    "\n",
    "sample = true_v_pred.sample(150).reset_index(drop=True)\n",
    "sample.plot()"
   ]
  },
  {
   "cell_type": "code",
   "execution_count": 11,
   "metadata": {
    "collapsed": false
   },
   "outputs": [
    {
     "data": {
      "text/plain": [
       "0.0"
      ]
     },
     "execution_count": 11,
     "metadata": {},
     "output_type": "execute_result"
    }
   ],
   "source": [
    "rfc_predictions.min()"
   ]
  },
  {
   "cell_type": "markdown",
   "metadata": {},
   "source": [
    "## Train Test Split"
   ]
  },
  {
   "cell_type": "code",
   "execution_count": 12,
   "metadata": {
    "collapsed": false
   },
   "outputs": [],
   "source": [
    "# Training model\n",
    "\n",
    "X_train, X_test, y_train, y_test = train_test_split(X, y, test_size=0.3)\n",
    "\n",
    "# Fit model on training dataset\n",
    "rfc.fit(X_train, y_train)\n",
    "\n",
    "# Predicted class labels for test examples, \n",
    "rfc_predictions = rfc.predict(X_test)"
   ]
  },
  {
   "cell_type": "code",
   "execution_count": 13,
   "metadata": {
    "collapsed": false
   },
   "outputs": [
    {
     "name": "stdout",
     "output_type": "stream",
     "text": [
      "R Squared:  0.937944437273\n",
      "neg_mean_absolute_error:  261.804927075\n",
      "mean_squared_error:  138938.740398\n",
      "median_absolute_error:  190.723389708\n"
     ]
    },
    {
     "data": {
      "text/plain": [
       "<matplotlib.axes._subplots.AxesSubplot at 0x1208ab550>"
      ]
     },
     "execution_count": 13,
     "metadata": {},
     "output_type": "execute_result"
    },
    {
     "data": {
      "image/png": "[encoded data removed]",
      "text/plain": [
       "<matplotlib.figure.Figure at 0x11b9510f0>"
      ]
     },
     "metadata": {},
     "output_type": "display_data"
    }
   ],
   "source": [
    "# Accuracy metrics\n",
    "\n",
    "print(\"R Squared: \", metrics.r2_score(y_test, rfc_predictions))\n",
    "print(\"neg_mean_absolute_error: \", metrics.mean_absolute_error(y_test, rfc_predictions))\n",
    "print(\"mean_squared_error: \", metrics.mean_squared_error(y_test, rfc_predictions))\n",
    "print(\"median_absolute_error: \", metrics.median_absolute_error(y_test, rfc_predictions))\n",
    "\n",
    "# y_test,rfc_predictions, hour, day = zip(*sorted(zip(y_test,rfc_predictions, X_test.Hour, X_test.Day),key=lambda x: x[0]))\n",
    "\n",
    "true_v_pred = pd.DataFrame({'Actual Value': y_test, 'Predicted Value': rfc_predictions}) #, 'Hour': hour, 'Day': day})\n",
    "\n",
    "sample = true_v_pred.sample(50).reset_index(drop=True)\n",
    "sample.plot()"
   ]
  },
  {
   "cell_type": "code",
   "execution_count": 14,
   "metadata": {
    "collapsed": false
   },
   "outputs": [
    {
     "data": {
      "text/plain": [
       "0.0"
      ]
     },
     "execution_count": 14,
     "metadata": {},
     "output_type": "execute_result"
    }
   ],
   "source": [
    "rfc_predictions.min()"
   ]
  },
  {
   "cell_type": "markdown",
   "metadata": {},
   "source": [
    "### Testing Accuracy (Within margin)"
   ]
  },
  {
   "cell_type": "code",
   "execution_count": 16,
   "metadata": {
    "collapsed": false
   },
   "outputs": [
    {
     "name": "stdout",
     "output_type": "stream",
     "text": [
      "0.9087942463719895\n"
     ]
    }
   ],
   "source": [
    "correct = 0\n",
    "window = 600\n",
    "\n",
    "for index, row in true_v_pred.iterrows():\n",
    "    tolerance = range(int(row['Predicted Value']) - window, int(row['Predicted Value']) + window)\n",
    "    if (row['Actual Value'] >= tolerance[0]) and (row['Actual Value'] <= tolerance[-1]):\n",
    "        correct += 1\n",
    "\n",
    "accuracy = correct / len(true_v_pred)\n",
    "print (accuracy)\n",
    "\n",
    "#0.6049916101840475 - with 4 features (day, hour, stopid, journeypatternid)\n",
    "#0.6035118316223393 - with 3 features (day, hour, stopid)"
   ]
  },
  {
   "cell_type": "code",
   "execution_count": null,
   "metadata": {
    "collapsed": true
   },
   "outputs": [],
   "source": []
  },
  {
   "cell_type": "code",
   "execution_count": null,
   "metadata": {
    "collapsed": true
   },
   "outputs": [],
   "source": []
  }
 ],
 "metadata": {
  "kernelspec": {
   "display_name": "Python 3",
   "language": "python",
   "name": "python3"
  },
  "language_info": {
   "codemirror_mode": {
    "name": "ipython",
    "version": 3
   },
   "file_extension": ".py",
   "mimetype": "text/x-python",
   "name": "python",
   "nbconvert_exporter": "python",
   "pygments_lexer": "ipython3",
   "version": "3.6.0"
  }
 },
 "nbformat": 4,
 "nbformat_minor": 0
}
