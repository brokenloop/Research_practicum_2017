{
 "cells": [
  {
   "cell_type": "code",
   "execution_count": 2,
   "metadata": {
    "collapsed": true
   },
   "outputs": [],
   "source": [
    "import pandas as pd\n",
    "import os\n",
    "import time\n",
    "\n",
    "from math import radians, cos, sin, asin, sqrt\n",
    "\n",
    "\n",
    "import matplotlib.pyplot as plt\n",
    "import seaborn as sns\n",
    "%matplotlib inline"
   ]
  },
  {
   "cell_type": "code",
   "execution_count": 3,
   "metadata": {
    "collapsed": true
   },
   "outputs": [],
   "source": [
    "# found here https://stackoverflow.com/questions/15736995/how-can-i-quickly-estimate-the-distance-between-two-latitude-longitude-points\n",
    "# Is correct, but quite slow\n",
    "\n",
    "def haversine(lon1, lat1, lon2, lat2):\n",
    "    \"\"\"\n",
    "    Calculate the great circle distance between two points \n",
    "    on the earth (specified in decimal degrees)\n",
    "    \"\"\"\n",
    "    # convert decimal degrees to radians \n",
    "    lon1, lat1, lon2, lat2 = map(radians, [lon1, lat1, lon2, lat2])\n",
    "    # haversine formula \n",
    "    dlon = lon2 - lon1 \n",
    "    dlat = lat2 - lat1 \n",
    "    a = sin(dlat/2)**2 + cos(lat1) * cos(lat2) * sin(dlon/2)**2\n",
    "    c = 2 * asin(sqrt(a)) \n",
    "    km = 6367 * c\n",
    "    return km"
   ]
  },
  {
   "cell_type": "code",
   "execution_count": 4,
   "metadata": {
    "collapsed": false
   },
   "outputs": [],
   "source": [
    "def fast_distance(lon1, lat1, lon2, lat2):\n",
    "    R = 6371  # radius of the earth in km\n",
    "    x = (lon2 - lon1) * cos( 0.5*(lat2+lat1) )\n",
    "    y = lat2 - lat1\n",
    "    d = R * sqrt( x*x + y*y ) # distance in km\n",
    "    \n",
    "    return d"
   ]
  },
  {
   "cell_type": "code",
   "execution_count": 5,
   "metadata": {
    "collapsed": true
   },
   "outputs": [],
   "source": [
    "def check_distance(row):    \n",
    "    tolerance = 1    # measured in km\n",
    "    distance = fast_distance(row.Lon, row.Lat, row.RealLon, row.RealLat)\n",
    "    \n",
    "    return (True if distance < tolerance else False)"
   ]
  },
  {
   "cell_type": "code",
   "execution_count": 6,
   "metadata": {
    "collapsed": true
   },
   "outputs": [],
   "source": [
    "\n",
    "def read_data(filename):\n",
    "\n",
    "    df = pd.read_csv(filename, low_memory=False, header=None)\n",
    "    df.columns = [\"Timestamp\", \"LineID\", \"JourneyPatternID\", \"TimeFrame\", \n",
    "                  \"VehicleJourneyID\", \"Lon\", \"Lat\", \"VehicleID\", \"StopID\", \n",
    "                  \"AtStop\", \"HumanTime\", \"Day\", \"Hour\", \"JourneyGroup\", \"Runtime\"]\n",
    "\n",
    "    \n",
    "    return df"
   ]
  },
  {
   "cell_type": "code",
   "execution_count": 7,
   "metadata": {
    "collapsed": true
   },
   "outputs": [],
   "source": [
    "def filter_distance(df, locations):\n",
    "    locations = locations.rename(columns={'Lon': 'RealLon', 'Lat': 'RealLat'})\n",
    "    \n",
    "    df = pd.merge(df, locations, how='inner', on=['StopID'])\n",
    "    df[\"ValidDistance\"] = True\n",
    "    df[\"ValidDistance\"] = df.apply(check_distance, axis=1)\n",
    "    \n",
    "    df = df[df.ValidDistance == True]\n",
    "    \n",
    "    # Dropping irrelevant columns\n",
    "    for column in ['RealLat', 'RealLon', 'ValidDistance']:\n",
    "        df = df.drop(column, 1)\n",
    "    \n",
    "    return df"
   ]
  },
  {
   "cell_type": "code",
   "execution_count": 8,
   "metadata": {
    "collapsed": true
   },
   "outputs": [],
   "source": [
    "def main(read_directory, write_directory, location_csv):\n",
    "    \n",
    "    print(\"Reading locations\")\n",
    "    locations = pd.read_csv(location_csv)\n",
    "\n",
    "    for read_file in os.listdir(read_directory):\n",
    "        if read_file.endswith(\".csv\"):\n",
    "            if os.path.isfile(write_directory + \"/\" + read_file):\n",
    "                print(read_file, \"exists\")\n",
    "            else:\n",
    "                print(\"Reading\", read_file, \"from\", read_directory)\n",
    "                try:\n",
    "                    df = read_data(read_directory + \"/\" + read_file)\n",
    "                    df = filter_distance(df, locations)\n",
    "\n",
    "                    with open(write_directory + \"/\" + read_file, 'w+') as f:\n",
    "                        df.to_csv(f, header=False, index=False)\n",
    "                except (ValueError, IndexError) as error:\n",
    "                    print(error, \"!\")\n",
    "                    print(\"Couldn't finish\", read_file)\n",
    "                    \n",
    "                print(\"Finished\", read_file)\n",
    "                print()\n",
    "    print(\"Finished main!\")"
   ]
  },
  {
   "cell_type": "code",
   "execution_count": 9,
   "metadata": {
    "collapsed": false,
    "scrolled": true
   },
   "outputs": [],
   "source": [
    "read_directory = \"bus_data/clean_data5\"\n",
    "write_directory = \"bus_data/clean_location_data/\"\n",
    "location_csv = 'bus_data/stop_locations.csv'\n",
    "\n",
    "# main(read_directory, write_directory, location_csv)"
   ]
  },
  {
   "cell_type": "code",
   "execution_count": null,
   "metadata": {
    "collapsed": true
   },
   "outputs": [],
   "source": []
  },
  {
   "cell_type": "markdown",
   "metadata": {},
   "source": [
    "### --Rough work--"
   ]
  },
  {
   "cell_type": "code",
   "execution_count": 10,
   "metadata": {
    "collapsed": false
   },
   "outputs": [],
   "source": [
    "line = '15'\n",
    "# df = read_data('bus_data/clean_data_rough/' + line + '.csv')\n",
    "# df = pd.read_csv('bus_data/clean_data_rough/' + line + '.csv', low_memory=False)\n",
    "df = read_data('bus_data/clean_data5/' + line + '.csv')\n",
    "locations = pd.read_csv('bus_data/stop_locations.csv')"
   ]
  },
  {
   "cell_type": "code",
   "execution_count": 11,
   "metadata": {
    "collapsed": false
   },
   "outputs": [
    {
     "data": {
      "text/plain": [
       "<matplotlib.axes._subplots.AxesSubplot at 0x116d5a780>"
      ]
     },
     "execution_count": 11,
     "metadata": {},
     "output_type": "execute_result"
    },
    {
     "data": {
      "image/png": "[encoded data removed]",
      "text/plain": [
       "<matplotlib.figure.Figure at 0x116d5a390>"
      ]
     },
     "metadata": {},
     "output_type": "display_data"
    }
   ],
   "source": [
    "plotdf = df[[\"Lon\", \"Lat\"]]\n",
    "plotdf.plot.scatter(x=\"Lon\", y=\"Lat\")"
   ]
  },
  {
   "cell_type": "code",
   "execution_count": 12,
   "metadata": {
    "collapsed": false
   },
   "outputs": [
    {
     "data": {
      "text/plain": [
       "(72,)"
      ]
     },
     "execution_count": 12,
     "metadata": {},
     "output_type": "execute_result"
    }
   ],
   "source": [
    "df_0001 = df[df.JourneyPatternID == 1]\n",
    "\n",
    "df_0001.StopID.unique().shape"
   ]
  },
  {
   "cell_type": "code",
   "execution_count": 13,
   "metadata": {
    "collapsed": true
   },
   "outputs": [],
   "source": [
    "newdf = filter_distance(df, locations)\n"
   ]
  },
  {
   "cell_type": "code",
   "execution_count": 14,
   "metadata": {
    "collapsed": false
   },
   "outputs": [],
   "source": [
    "# df_0001 = newdf[df.JourneyPatternID == 1]\n",
    "\n",
    "# df_0001.StopID.unique().shape"
   ]
  },
  {
   "cell_type": "code",
   "execution_count": 15,
   "metadata": {
    "collapsed": false
   },
   "outputs": [
    {
     "data": {
      "text/plain": [
       "<matplotlib.axes._subplots.AxesSubplot at 0x118c53cc0>"
      ]
     },
     "execution_count": 15,
     "metadata": {},
     "output_type": "execute_result"
    },
    {
     "data": {
      "image/png": "[encoded data removed]",
      "text/plain": [
       "<matplotlib.figure.Figure at 0x116e16fd0>"
      ]
     },
     "metadata": {},
     "output_type": "display_data"
    }
   ],
   "source": [
    "plotdf = newdf[[\"Lon\", \"Lat\"]]\n",
    "plotdf.plot.scatter(x=\"Lon\", y=\"Lat\")"
   ]
  },
  {
   "cell_type": "code",
   "execution_count": 16,
   "metadata": {
    "collapsed": false
   },
   "outputs": [
    {
     "data": {
      "text/html": [
       "<div>\n",
       "<table border=\"1\" class=\"dataframe\">\n",
       "  <thead>\n",
       "    <tr style=\"text-align: right;\">\n",
       "      <th></th>\n",
       "      <th>Timestamp</th>\n",
       "      <th>LineID</th>\n",
       "      <th>JourneyPatternID</th>\n",
       "      <th>TimeFrame</th>\n",
       "      <th>VehicleJourneyID</th>\n",
       "      <th>Lon</th>\n",
       "      <th>Lat</th>\n",
       "      <th>VehicleID</th>\n",
       "      <th>StopID</th>\n",
       "      <th>AtStop</th>\n",
       "      <th>HumanTime</th>\n",
       "      <th>Day</th>\n",
       "      <th>Hour</th>\n",
       "      <th>JourneyGroup</th>\n",
       "      <th>Runtime</th>\n",
       "    </tr>\n",
       "  </thead>\n",
       "  <tbody>\n",
       "    <tr>\n",
       "      <th>1</th>\n",
       "      <td>1352182204000000</td>\n",
       "      <td>15</td>\n",
       "      <td>1</td>\n",
       "      <td>2012-11-06</td>\n",
       "      <td>5899</td>\n",
       "      <td>-6.151132</td>\n",
       "      <td>53.402328</td>\n",
       "      <td>33498</td>\n",
       "      <td>6318</td>\n",
       "      <td>0</td>\n",
       "      <td>2012-11-06 06:10:04</td>\n",
       "      <td>1</td>\n",
       "      <td>6</td>\n",
       "      <td>2012-11-065899</td>\n",
       "      <td>0</td>\n",
       "    </tr>\n",
       "    <tr>\n",
       "      <th>16</th>\n",
       "      <td>1352192390000000</td>\n",
       "      <td>15</td>\n",
       "      <td>1</td>\n",
       "      <td>2012-11-06</td>\n",
       "      <td>5828</td>\n",
       "      <td>-6.150883</td>\n",
       "      <td>53.402351</td>\n",
       "      <td>33523</td>\n",
       "      <td>6318</td>\n",
       "      <td>1</td>\n",
       "      <td>2012-11-06 08:59:50</td>\n",
       "      <td>1</td>\n",
       "      <td>8</td>\n",
       "      <td>2012-11-065828</td>\n",
       "      <td>0</td>\n",
       "    </tr>\n",
       "    <tr>\n",
       "      <th>17</th>\n",
       "      <td>1352192858000000</td>\n",
       "      <td>15</td>\n",
       "      <td>1</td>\n",
       "      <td>2012-11-06</td>\n",
       "      <td>5835</td>\n",
       "      <td>-6.150987</td>\n",
       "      <td>53.402309</td>\n",
       "      <td>33254</td>\n",
       "      <td>6318</td>\n",
       "      <td>1</td>\n",
       "      <td>2012-11-06 09:07:38</td>\n",
       "      <td>1</td>\n",
       "      <td>9</td>\n",
       "      <td>2012-11-065835</td>\n",
       "      <td>0</td>\n",
       "    </tr>\n",
       "    <tr>\n",
       "      <th>18</th>\n",
       "      <td>1352193393000000</td>\n",
       "      <td>15</td>\n",
       "      <td>1</td>\n",
       "      <td>2012-11-06</td>\n",
       "      <td>5853</td>\n",
       "      <td>-6.150987</td>\n",
       "      <td>53.402309</td>\n",
       "      <td>33209</td>\n",
       "      <td>6318</td>\n",
       "      <td>1</td>\n",
       "      <td>2012-11-06 09:16:33</td>\n",
       "      <td>1</td>\n",
       "      <td>9</td>\n",
       "      <td>2012-11-065853</td>\n",
       "      <td>0</td>\n",
       "    </tr>\n",
       "    <tr>\n",
       "      <th>19</th>\n",
       "      <td>1352194244000000</td>\n",
       "      <td>15</td>\n",
       "      <td>1</td>\n",
       "      <td>2012-11-06</td>\n",
       "      <td>5878</td>\n",
       "      <td>-6.151132</td>\n",
       "      <td>53.402328</td>\n",
       "      <td>33020</td>\n",
       "      <td>6318</td>\n",
       "      <td>0</td>\n",
       "      <td>2012-11-06 09:30:44</td>\n",
       "      <td>1</td>\n",
       "      <td>9</td>\n",
       "      <td>2012-11-065878</td>\n",
       "      <td>0</td>\n",
       "    </tr>\n",
       "  </tbody>\n",
       "</table>\n",
       "</div>"
      ],
      "text/plain": [
       "           Timestamp  LineID  JourneyPatternID   TimeFrame  VehicleJourneyID  \\\n",
       "1   1352182204000000      15                 1  2012-11-06              5899   \n",
       "16  1352192390000000      15                 1  2012-11-06              5828   \n",
       "17  1352192858000000      15                 1  2012-11-06              5835   \n",
       "18  1352193393000000      15                 1  2012-11-06              5853   \n",
       "19  1352194244000000      15                 1  2012-11-06              5878   \n",
       "\n",
       "         Lon        Lat  VehicleID  StopID  AtStop            HumanTime  Day  \\\n",
       "1  -6.151132  53.402328      33498    6318       0  2012-11-06 06:10:04    1   \n",
       "16 -6.150883  53.402351      33523    6318       1  2012-11-06 08:59:50    1   \n",
       "17 -6.150987  53.402309      33254    6318       1  2012-11-06 09:07:38    1   \n",
       "18 -6.150987  53.402309      33209    6318       1  2012-11-06 09:16:33    1   \n",
       "19 -6.151132  53.402328      33020    6318       0  2012-11-06 09:30:44    1   \n",
       "\n",
       "    Hour    JourneyGroup  Runtime  \n",
       "1      6  2012-11-065899        0  \n",
       "16     8  2012-11-065828        0  \n",
       "17     9  2012-11-065835        0  \n",
       "18     9  2012-11-065853        0  \n",
       "19     9  2012-11-065878        0  "
      ]
     },
     "execution_count": 16,
     "metadata": {},
     "output_type": "execute_result"
    }
   ],
   "source": [
    "newdf.head()"
   ]
  },
  {
   "cell_type": "markdown",
   "metadata": {},
   "source": [
    "### Visualising stuff with seaborn"
   ]
  },
  {
   "cell_type": "code",
   "execution_count": null,
   "metadata": {
    "collapsed": true
   },
   "outputs": [],
   "source": []
  },
  {
   "cell_type": "code",
   "execution_count": 23,
   "metadata": {
    "collapsed": false
   },
   "outputs": [
    {
     "data": {
      "image/png": "[encoded data removed]",
      "text/plain": [
       "<matplotlib.figure.Figure at 0x118b41128>"
      ]
     },
     "metadata": {},
     "output_type": "display_data"
    }
   ],
   "source": [
    "# Scatterplot arguments\n",
    "sns.lmplot(x='Lon', y='Lat', data=df,\n",
    "           fit_reg=False, # No regression line\n",
    "           )\n",
    "\n",
    "sns.plt.savefig(\"bus_data/images/direction_locations.png\")"
   ]
  },
  {
   "cell_type": "code",
   "execution_count": 18,
   "metadata": {
    "collapsed": false
   },
   "outputs": [
    {
     "data": {
      "image/png": "[encoded data removed]",
      "text/plain": [
       "<matplotlib.figure.Figure at 0x13ca0fe48>"
      ]
     },
     "metadata": {},
     "output_type": "display_data"
    }
   ],
   "source": [
    "# Scatterplot arguments\n",
    "cleanplot = sns.lmplot(x='Lon', y='Lat', data=newdf,\n",
    "           fit_reg=False, # No regression line\n",
    "            hue='JourneyPatternID')"
   ]
  },
  {
   "cell_type": "code",
   "execution_count": 19,
   "metadata": {
    "collapsed": false
   },
   "outputs": [
    {
     "data": {
      "image/png": "[encoded data removed]",
      "text/plain": [
       "<matplotlib.figure.Figure at 0x13c9ef710>"
      ]
     },
     "metadata": {},
     "output_type": "display_data"
    },
    {
     "data": {
      "image/png": "[encoded data removed]",
      "text/plain": [
       "<matplotlib.figure.Figure at 0x1181fa7b8>"
      ]
     },
     "metadata": {},
     "output_type": "display_data"
    }
   ],
   "source": [
    "sns.lmplot(x='Lon', y='Lat', data=df,\n",
    "           fit_reg=False) # No regression line\n",
    "#             hue='StopID')\n",
    "\n",
    "sns.lmplot(x='Lon', y='Lat', data=newdf,\n",
    "           fit_reg=False) # No regression line\n",
    "#             hue='StopID')\n",
    "\n",
    "sns.plt.savefig(\"bus_data/images/clean_locations_15.png\")\n",
    "sns.plt.show()"
   ]
  },
  {
   "cell_type": "code",
   "execution_count": 20,
   "metadata": {
    "collapsed": false
   },
   "outputs": [
    {
     "data": {
      "text/plain": [
       "196"
      ]
     },
     "execution_count": 20,
     "metadata": {},
     "output_type": "execute_result"
    }
   ],
   "source": [
    "len(newdf.VehicleID.unique())"
   ]
  },
  {
   "cell_type": "code",
   "execution_count": 21,
   "metadata": {
    "collapsed": false
   },
   "outputs": [
    {
     "data": {
      "text/plain": [
       "<matplotlib.axes._subplots.AxesSubplot at 0x11db0f208>"
      ]
     },
     "execution_count": 21,
     "metadata": {},
     "output_type": "execute_result"
    },
    {
     "data": {
      "image/png": "[encoded data removed]",
      "text/plain": [
       "<matplotlib.figure.Figure at 0x11d282da0>"
      ]
     },
     "metadata": {},
     "output_type": "display_data"
    }
   ],
   "source": [
    "corrdf = newdf[[\"Hour\", \"Runtime\", \"JourneyPatternID\", \"StopID\"]]\n",
    "sns.heatmap(corrdf.corr(), annot=True, fmt=\".3f\")\n"
   ]
  },
  {
   "cell_type": "code",
   "execution_count": 22,
   "metadata": {
    "collapsed": false
   },
   "outputs": [],
   "source": [
    "# grouped = df.groupby(\"Hour\").Runtime.mean()"
   ]
  },
  {
   "cell_type": "code",
   "execution_count": 23,
   "metadata": {
    "collapsed": false
   },
   "outputs": [
    {
     "ename": "ValueError",
     "evalue": "x and y must be the same size",
     "output_type": "error",
     "traceback": [
      "\u001b[0;31m---------------------------------------------------------------------------\u001b[0m",
      "\u001b[0;31mValueError\u001b[0m                                Traceback (most recent call last)",
      "\u001b[0;32m<ipython-input-23-1e2c625923ef>\u001b[0m in \u001b[0;36m<module>\u001b[0;34m()\u001b[0m\n\u001b[1;32m      1\u001b[0m sns.lmplot(x='Lon', y='Runtime', data=grouped,\n\u001b[0;32m----> 2\u001b[0;31m            fit_reg=False) # No regression line\n\u001b[0m\u001b[1;32m      3\u001b[0m \u001b[0;31m#             hue='StopID')\u001b[0m\u001b[0;34m\u001b[0m\u001b[0;34m\u001b[0m\u001b[0m\n",
      "\u001b[0;32m/Users/danieljordan/anaconda3/lib/python3.6/site-packages/seaborn/linearmodels.py\u001b[0m in \u001b[0;36mlmplot\u001b[0;34m(x, y, data, hue, col, row, palette, col_wrap, size, aspect, markers, sharex, sharey, hue_order, col_order, row_order, legend, legend_out, x_estimator, x_bins, x_ci, scatter, fit_reg, ci, n_boot, units, order, logistic, lowess, robust, logx, x_partial, y_partial, truncate, x_jitter, y_jitter, scatter_kws, line_kws)\u001b[0m\n\u001b[1;32m    566\u001b[0m     \u001b[0;32mif\u001b[0m \u001b[0msharex\u001b[0m\u001b[0;34m:\u001b[0m\u001b[0;34m\u001b[0m\u001b[0m\n\u001b[1;32m    567\u001b[0m         \u001b[0;32mfor\u001b[0m \u001b[0max\u001b[0m \u001b[0;32min\u001b[0m \u001b[0mfacets\u001b[0m\u001b[0;34m.\u001b[0m\u001b[0maxes\u001b[0m\u001b[0;34m.\u001b[0m\u001b[0mflat\u001b[0m\u001b[0;34m:\u001b[0m\u001b[0;34m\u001b[0m\u001b[0m\n\u001b[0;32m--> 568\u001b[0;31m             \u001b[0max\u001b[0m\u001b[0;34m.\u001b[0m\u001b[0mscatter\u001b[0m\u001b[0;34m(\u001b[0m\u001b[0mdata\u001b[0m\u001b[0;34m[\u001b[0m\u001b[0mx\u001b[0m\u001b[0;34m]\u001b[0m\u001b[0;34m,\u001b[0m \u001b[0mnp\u001b[0m\u001b[0;34m.\u001b[0m\u001b[0mones\u001b[0m\u001b[0;34m(\u001b[0m\u001b[0mlen\u001b[0m\u001b[0;34m(\u001b[0m\u001b[0mdata\u001b[0m\u001b[0;34m)\u001b[0m\u001b[0;34m)\u001b[0m \u001b[0;34m*\u001b[0m \u001b[0mdata\u001b[0m\u001b[0;34m[\u001b[0m\u001b[0my\u001b[0m\u001b[0;34m]\u001b[0m\u001b[0;34m.\u001b[0m\u001b[0mmean\u001b[0m\u001b[0;34m(\u001b[0m\u001b[0;34m)\u001b[0m\u001b[0;34m)\u001b[0m\u001b[0;34m.\u001b[0m\u001b[0mremove\u001b[0m\u001b[0;34m(\u001b[0m\u001b[0;34m)\u001b[0m\u001b[0;34m\u001b[0m\u001b[0m\n\u001b[0m\u001b[1;32m    569\u001b[0m \u001b[0;34m\u001b[0m\u001b[0m\n\u001b[1;32m    570\u001b[0m     \u001b[0;31m# Draw the regression plot on each facet\u001b[0m\u001b[0;34m\u001b[0m\u001b[0;34m\u001b[0m\u001b[0m\n",
      "\u001b[0;32m/Users/danieljordan/anaconda3/lib/python3.6/site-packages/matplotlib/__init__.py\u001b[0m in \u001b[0;36minner\u001b[0;34m(ax, *args, **kwargs)\u001b[0m\n\u001b[1;32m   1890\u001b[0m                     warnings.warn(msg % (label_namer, func.__name__),\n\u001b[1;32m   1891\u001b[0m                                   RuntimeWarning, stacklevel=2)\n\u001b[0;32m-> 1892\u001b[0;31m             \u001b[0;32mreturn\u001b[0m \u001b[0mfunc\u001b[0m\u001b[0;34m(\u001b[0m\u001b[0max\u001b[0m\u001b[0;34m,\u001b[0m \u001b[0;34m*\u001b[0m\u001b[0margs\u001b[0m\u001b[0;34m,\u001b[0m \u001b[0;34m**\u001b[0m\u001b[0mkwargs\u001b[0m\u001b[0;34m)\u001b[0m\u001b[0;34m\u001b[0m\u001b[0m\n\u001b[0m\u001b[1;32m   1893\u001b[0m         \u001b[0mpre_doc\u001b[0m \u001b[0;34m=\u001b[0m \u001b[0minner\u001b[0m\u001b[0;34m.\u001b[0m\u001b[0m__doc__\u001b[0m\u001b[0;34m\u001b[0m\u001b[0m\n\u001b[1;32m   1894\u001b[0m         \u001b[0;32mif\u001b[0m \u001b[0mpre_doc\u001b[0m \u001b[0;32mis\u001b[0m \u001b[0;32mNone\u001b[0m\u001b[0;34m:\u001b[0m\u001b[0;34m\u001b[0m\u001b[0m\n",
      "\u001b[0;32m/Users/danieljordan/anaconda3/lib/python3.6/site-packages/matplotlib/axes/_axes.py\u001b[0m in \u001b[0;36mscatter\u001b[0;34m(self, x, y, s, c, marker, cmap, norm, vmin, vmax, alpha, linewidths, verts, edgecolors, **kwargs)\u001b[0m\n\u001b[1;32m   3956\u001b[0m         \u001b[0my\u001b[0m \u001b[0;34m=\u001b[0m \u001b[0mnp\u001b[0m\u001b[0;34m.\u001b[0m\u001b[0mma\u001b[0m\u001b[0;34m.\u001b[0m\u001b[0mravel\u001b[0m\u001b[0;34m(\u001b[0m\u001b[0my\u001b[0m\u001b[0;34m)\u001b[0m\u001b[0;34m\u001b[0m\u001b[0m\n\u001b[1;32m   3957\u001b[0m         \u001b[0;32mif\u001b[0m \u001b[0mx\u001b[0m\u001b[0;34m.\u001b[0m\u001b[0msize\u001b[0m \u001b[0;34m!=\u001b[0m \u001b[0my\u001b[0m\u001b[0;34m.\u001b[0m\u001b[0msize\u001b[0m\u001b[0;34m:\u001b[0m\u001b[0;34m\u001b[0m\u001b[0m\n\u001b[0;32m-> 3958\u001b[0;31m             \u001b[0;32mraise\u001b[0m \u001b[0mValueError\u001b[0m\u001b[0;34m(\u001b[0m\u001b[0;34m\"x and y must be the same size\"\u001b[0m\u001b[0;34m)\u001b[0m\u001b[0;34m\u001b[0m\u001b[0m\n\u001b[0m\u001b[1;32m   3959\u001b[0m \u001b[0;34m\u001b[0m\u001b[0m\n\u001b[1;32m   3960\u001b[0m         \u001b[0;32mif\u001b[0m \u001b[0ms\u001b[0m \u001b[0;32mis\u001b[0m \u001b[0;32mNone\u001b[0m\u001b[0;34m:\u001b[0m\u001b[0;34m\u001b[0m\u001b[0m\n",
      "\u001b[0;31mValueError\u001b[0m: x and y must be the same size"
     ]
    },
    {
     "data": {
      "image/png": "[encoded data removed]",
      "text/plain": [
       "<matplotlib.figure.Figure at 0x11dc001d0>"
      ]
     },
     "metadata": {},
     "output_type": "display_data"
    }
   ],
   "source": [
    "# sns.lmplot(x='Lon', y='Runtime', data=grouped,\n",
    "#            fit_reg=False) # No regression line\n",
    "# #             hue='StopID')"
   ]
  },
  {
   "cell_type": "code",
   "execution_count": null,
   "metadata": {
    "collapsed": false
   },
   "outputs": [],
   "source": [
    "# sns.swarmplot(x=\"Day\", y=\"Runtime\", data=newdf);"
   ]
  },
  {
   "cell_type": "code",
   "execution_count": null,
   "metadata": {
    "collapsed": true
   },
   "outputs": [],
   "source": [
    "# sns.swarmplot(x=\"Hour\", y=\"Runtime\", data=newdf);"
   ]
  },
  {
   "cell_type": "code",
   "execution_count": null,
   "metadata": {
    "collapsed": true
   },
   "outputs": [],
   "source": []
  },
  {
   "cell_type": "code",
   "execution_count": null,
   "metadata": {
    "collapsed": true
   },
   "outputs": [],
   "source": []
  },
  {
   "cell_type": "code",
   "execution_count": null,
   "metadata": {
    "collapsed": true
   },
   "outputs": [],
   "source": []
  },
  {
   "cell_type": "code",
   "execution_count": null,
   "metadata": {
    "collapsed": true
   },
   "outputs": [],
   "source": []
  },
  {
   "cell_type": "code",
   "execution_count": null,
   "metadata": {
    "collapsed": true
   },
   "outputs": [],
   "source": []
  },
  {
   "cell_type": "code",
   "execution_count": null,
   "metadata": {
    "collapsed": true
   },
   "outputs": [],
   "source": []
  },
  {
   "cell_type": "code",
   "execution_count": null,
   "metadata": {
    "collapsed": true
   },
   "outputs": [],
   "source": []
  },
  {
   "cell_type": "code",
   "execution_count": null,
   "metadata": {
    "collapsed": true
   },
   "outputs": [],
   "source": [
    "# changing name of Lat and Lon so that they can be distinguished\n",
    "\n",
    "locations = locations.rename(columns={'Lon': 'RealLon', 'Lat': 'RealLat'})"
   ]
  },
  {
   "cell_type": "code",
   "execution_count": null,
   "metadata": {
    "collapsed": false
   },
   "outputs": [],
   "source": [
    "locations.tail()"
   ]
  },
  {
   "cell_type": "code",
   "execution_count": null,
   "metadata": {
    "collapsed": true
   },
   "outputs": [],
   "source": [
    "df = pd.merge(df, locations, how='inner', on=['StopID'])"
   ]
  },
  {
   "cell_type": "code",
   "execution_count": null,
   "metadata": {
    "collapsed": false
   },
   "outputs": [],
   "source": [
    "df.shape"
   ]
  },
  {
   "cell_type": "code",
   "execution_count": null,
   "metadata": {
    "collapsed": true
   },
   "outputs": [],
   "source": []
  },
  {
   "cell_type": "code",
   "execution_count": null,
   "metadata": {
    "collapsed": false
   },
   "outputs": [],
   "source": [
    "def check_distance(row):    \n",
    "    tolerance = 1    # measured in km\n",
    "    distance = fast_distance(row.Lon, row.Lat, row.RealLon, row.RealLat)\n",
    "    \n",
    "    return (True if distance < tolerance else False)\n",
    "\n",
    "df[\"ValidDistance\"] = True\n",
    "df[\"ValidDistance\"] = df.apply(check_distance, axis=1)"
   ]
  },
  {
   "cell_type": "code",
   "execution_count": null,
   "metadata": {
    "collapsed": false
   },
   "outputs": [],
   "source": [
    "df.ValidDistance.value_counts()"
   ]
  },
  {
   "cell_type": "code",
   "execution_count": null,
   "metadata": {
    "collapsed": true
   },
   "outputs": [],
   "source": [
    "trimmed_df = df[df.ValidDistance == True]"
   ]
  },
  {
   "cell_type": "code",
   "execution_count": null,
   "metadata": {
    "collapsed": false
   },
   "outputs": [],
   "source": [
    "trimmed_df.head()"
   ]
  },
  {
   "cell_type": "code",
   "execution_count": null,
   "metadata": {
    "collapsed": true
   },
   "outputs": [],
   "source": [
    "plotdf = trimmed_df[[\"Lon\", \"Lat\"]]\n",
    "plotdf.plot.scatter(x=\"Lon\", y=\"Lat\")"
   ]
  },
  {
   "cell_type": "code",
   "execution_count": null,
   "metadata": {
    "collapsed": true
   },
   "outputs": [],
   "source": []
  }
 ],
 "metadata": {
  "kernelspec": {
   "display_name": "Python 3",
   "language": "python",
   "name": "python3"
  },
  "language_info": {
   "codemirror_mode": {
    "name": "ipython",
    "version": 3
   },
   "file_extension": ".py",
   "mimetype": "text/x-python",
   "name": "python",
   "nbconvert_exporter": "python",
   "pygments_lexer": "ipython3",
   "version": "3.6.0"
  }
 },
 "nbformat": 4,
 "nbformat_minor": 2
}
