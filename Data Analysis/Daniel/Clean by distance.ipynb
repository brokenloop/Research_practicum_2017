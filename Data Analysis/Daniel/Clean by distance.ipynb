{
 "cells": [
  {
   "cell_type": "code",
   "execution_count": 1,
   "metadata": {
    "collapsed": true
   },
   "outputs": [],
   "source": [
    "import pandas as pd\n",
    "import os\n",
    "import time\n",
    "\n",
    "from math import radians, cos, sin, asin, sqrt\n",
    "\n",
    "\n",
    "import matplotlib.pyplot as plt\n",
    "%matplotlib inline"
   ]
  },
  {
   "cell_type": "code",
   "execution_count": 2,
   "metadata": {
    "collapsed": true
   },
   "outputs": [],
   "source": [
    "# found here https://stackoverflow.com/questions/15736995/how-can-i-quickly-estimate-the-distance-between-two-latitude-longitude-points\n",
    "# Is correct, but quite slow\n",
    "\n",
    "def haversine(lon1, lat1, lon2, lat2):\n",
    "    \"\"\"\n",
    "    Calculate the great circle distance between two points \n",
    "    on the earth (specified in decimal degrees)\n",
    "    \"\"\"\n",
    "    # convert decimal degrees to radians \n",
    "    lon1, lat1, lon2, lat2 = map(radians, [lon1, lat1, lon2, lat2])\n",
    "    # haversine formula \n",
    "    dlon = lon2 - lon1 \n",
    "    dlat = lat2 - lat1 \n",
    "    a = sin(dlat/2)**2 + cos(lat1) * cos(lat2) * sin(dlon/2)**2\n",
    "    c = 2 * asin(sqrt(a)) \n",
    "    km = 6367 * c\n",
    "    return km"
   ]
  },
  {
   "cell_type": "code",
   "execution_count": 3,
   "metadata": {
    "collapsed": false
   },
   "outputs": [],
   "source": [
    "def fast_distance(lon1, lat1, lon2, lat2):\n",
    "    R = 6371  # radius of the earth in km\n",
    "    x = (lon2 - lon1) * cos( 0.5*(lat2+lat1) )\n",
    "    y = lat2 - lat1\n",
    "    d = R * sqrt( x*x + y*y ) # distance in km\n",
    "    \n",
    "    return d"
   ]
  },
  {
   "cell_type": "code",
   "execution_count": 4,
   "metadata": {
    "collapsed": true
   },
   "outputs": [],
   "source": [
    "def check_distance(row):    \n",
    "    tolerance = 1    # measured in km\n",
    "    distance = fast_distance(row.Lon, row.Lat, row.RealLon, row.RealLat)\n",
    "    \n",
    "    return (True if distance < tolerance else False)"
   ]
  },
  {
   "cell_type": "code",
   "execution_count": 5,
   "metadata": {
    "collapsed": true
   },
   "outputs": [],
   "source": [
    "\n",
    "def read_data(filename):\n",
    "\n",
    "    df = pd.read_csv(filename, low_memory=False, header=None)\n",
    "    df.columns = [\"Timestamp\", \"LineID\", \"JourneyPatternID\", \"TimeFrame\", \n",
    "                  \"VehicleJourneyID\", \"Lon\", \"Lat\", \"VehicleID\", \"StopID\", \n",
    "                  \"AtStop\", \"HumanTime\", \"Day\", \"Hour\", \"JourneyGroup\", \"Runtime\"]\n",
    "\n",
    "    \n",
    "    return df"
   ]
  },
  {
   "cell_type": "code",
   "execution_count": 6,
   "metadata": {
    "collapsed": true
   },
   "outputs": [],
   "source": [
    "def filter_distance(df, locations):\n",
    "    locations = locations.rename(columns={'Lon': 'RealLon', 'Lat': 'RealLat'})\n",
    "    \n",
    "    df = pd.merge(df, locations, how='inner', on=['StopID'])\n",
    "    df[\"ValidDistance\"] = True\n",
    "    df[\"ValidDistance\"] = df.apply(check_distance, axis=1)\n",
    "    \n",
    "    df = df[df.ValidDistance == True]\n",
    "    \n",
    "    # Dropping irrelevant columns\n",
    "    for column in ['RealLat', 'RealLon', 'ValidDistance']:\n",
    "        df = df.drop(column, 1)\n",
    "    \n",
    "    return df"
   ]
  },
  {
   "cell_type": "code",
   "execution_count": 7,
   "metadata": {
    "collapsed": true
   },
   "outputs": [],
   "source": [
    "def main(read_directory, write_directory, location_csv):\n",
    "    \n",
    "    print(\"Reading locations\")\n",
    "    locations = pd.read_csv(location_csv)\n",
    "\n",
    "    for read_file in os.listdir(read_directory):\n",
    "        if read_file.endswith(\".csv\"):\n",
    "            if os.path.isfile(write_directory + \"/\" + read_file):\n",
    "                print(read_file, \"exists\")\n",
    "            else:\n",
    "                print(\"Reading\", read_file, \"from\", read_directory)\n",
    "                try:\n",
    "                    df = read_data(read_directory + \"/\" + read_file)\n",
    "                    df = filter_distance(df, locations)\n",
    "\n",
    "                    with open(write_directory + \"/\" + read_file, 'w+') as f:\n",
    "                        df.to_csv(f, header=False, index=False)\n",
    "                except (ValueError, IndexError) as error:\n",
    "                    print(error, \"!\")\n",
    "                    print(\"Couldn't finish\", read_file)\n",
    "                    \n",
    "                print(\"Finished\", read_file)\n",
    "                print()\n",
    "    print(\"Finished main!\")"
   ]
  },
  {
   "cell_type": "code",
   "execution_count": 9,
   "metadata": {
    "collapsed": false,
    "scrolled": false
   },
   "outputs": [
    {
     "name": "stdout",
     "output_type": "stream",
     "text": [
      "Reading locations\n",
      "Reading 1.csv from bus_data/clean_data5\n",
      "Finished 1.csv\n",
      "\n",
      "Reading 102.csv from bus_data/clean_data5\n",
      "Finished 102.csv\n",
      "\n",
      "Reading 104.csv from bus_data/clean_data5\n",
      "Finished 104.csv\n",
      "\n",
      "Reading 11.csv from bus_data/clean_data5\n",
      "Finished 11.csv\n",
      "\n",
      "Reading 111.csv from bus_data/clean_data5\n",
      "Finished 111.csv\n",
      "\n",
      "Reading 114.csv from bus_data/clean_data5\n",
      "Finished 114.csv\n",
      "\n",
      "Reading 116.csv from bus_data/clean_data5\n",
      "Finished 116.csv\n",
      "\n",
      "Reading 118.csv from bus_data/clean_data5\n",
      "Finished 118.csv\n",
      "\n",
      "Reading 120.csv from bus_data/clean_data5\n",
      "Finished 120.csv\n",
      "\n",
      "Reading 122.csv from bus_data/clean_data5\n",
      "Finished 122.csv\n",
      "\n",
      "Reading 123.csv from bus_data/clean_data5\n",
      "Finished 123.csv\n",
      "\n",
      "Reading 13.csv from bus_data/clean_data5\n",
      "Finished 13.csv\n",
      "\n",
      "Reading 130.csv from bus_data/clean_data5\n",
      "Finished 130.csv\n",
      "\n",
      "Reading 14.csv from bus_data/clean_data5\n",
      "Finished 14.csv\n",
      "\n",
      "Reading 140.csv from bus_data/clean_data5\n",
      "Finished 140.csv\n",
      "\n",
      "Reading 142.csv from bus_data/clean_data5\n",
      "Finished 142.csv\n",
      "\n",
      "Reading 145.csv from bus_data/clean_data5\n",
      "Finished 145.csv\n",
      "\n",
      "Reading 14C.csv from bus_data/clean_data5\n",
      "Finished 14C.csv\n",
      "\n",
      "Reading 15.csv from bus_data/clean_data5\n",
      "Finished 15.csv\n",
      "\n",
      "Reading 150.csv from bus_data/clean_data5\n",
      "Finished 150.csv\n",
      "\n",
      "Reading 151.csv from bus_data/clean_data5\n",
      "Finished 151.csv\n",
      "\n",
      "Reading 15A.csv from bus_data/clean_data5\n",
      "Finished 15A.csv\n",
      "\n",
      "Reading 15B.csv from bus_data/clean_data5\n",
      "Finished 15B.csv\n",
      "\n",
      "Reading 16.csv from bus_data/clean_data5\n",
      "Finished 16.csv\n",
      "\n",
      "Reading 161.csv from bus_data/clean_data5\n",
      "Finished 161.csv\n",
      "\n",
      "Reading 16C.csv from bus_data/clean_data5\n",
      "Finished 16C.csv\n",
      "\n",
      "Reading 17.csv from bus_data/clean_data5\n",
      "Finished 17.csv\n",
      "\n",
      "Reading 17A.csv from bus_data/clean_data5\n",
      "Finished 17A.csv\n",
      "\n",
      "Reading 18.csv from bus_data/clean_data5\n",
      "Finished 18.csv\n",
      "\n",
      "Reading 184.csv from bus_data/clean_data5\n",
      "Finished 184.csv\n",
      "\n",
      "Reading 185.csv from bus_data/clean_data5\n",
      "Finished 185.csv\n",
      "\n",
      "Reading 220.csv from bus_data/clean_data5\n",
      "Finished 220.csv\n",
      "\n",
      "Reading 236.csv from bus_data/clean_data5\n",
      "Finished 236.csv\n",
      "\n",
      "Reading 238.csv from bus_data/clean_data5\n",
      "Finished 238.csv\n",
      "\n",
      "Reading 239.csv from bus_data/clean_data5\n",
      "Finished 239.csv\n",
      "\n",
      "Reading 25.csv from bus_data/clean_data5\n",
      "Finished 25.csv\n",
      "\n",
      "Reading 25A.csv from bus_data/clean_data5\n",
      "Finished 25A.csv\n",
      "\n",
      "Reading 25B.csv from bus_data/clean_data5\n",
      "Finished 25B.csv\n",
      "\n",
      "Reading 25X.csv from bus_data/clean_data5\n",
      "Finished 25X.csv\n",
      "\n",
      "Reading 26.csv from bus_data/clean_data5\n",
      "Finished 26.csv\n",
      "\n",
      "Reading 27.csv from bus_data/clean_data5\n",
      "Finished 27.csv\n",
      "\n",
      "Reading 270.csv from bus_data/clean_data5\n",
      "Finished 270.csv\n",
      "\n",
      "Reading 27A.csv from bus_data/clean_data5\n",
      "Finished 27A.csv\n",
      "\n",
      "Reading 27B.csv from bus_data/clean_data5\n",
      "Finished 27B.csv\n",
      "\n",
      "Reading 27X.csv from bus_data/clean_data5\n",
      "Finished 27X.csv\n",
      "\n",
      "Reading 29A.csv from bus_data/clean_data5\n",
      "Finished 29A.csv\n",
      "\n",
      "Reading 31.csv from bus_data/clean_data5\n",
      "Finished 31.csv\n",
      "\n",
      "Reading 31A.csv from bus_data/clean_data5\n",
      "Finished 31A.csv\n",
      "\n",
      "Reading 31B.csv from bus_data/clean_data5\n",
      "Finished 31B.csv\n",
      "\n",
      "Reading 32.csv from bus_data/clean_data5\n",
      "Finished 32.csv\n",
      "\n",
      "Reading 32X.csv from bus_data/clean_data5\n",
      "Finished 32X.csv\n",
      "\n",
      "Reading 33.csv from bus_data/clean_data5\n",
      "Finished 33.csv\n",
      "\n",
      "Reading 33A.csv from bus_data/clean_data5\n",
      "Finished 33A.csv\n",
      "\n",
      "Reading 33B.csv from bus_data/clean_data5\n",
      "Finished 33B.csv\n",
      "\n",
      "Reading 33X.csv from bus_data/clean_data5\n",
      "Finished 33X.csv\n",
      "\n",
      "Reading 37.csv from bus_data/clean_data5\n",
      "Finished 37.csv\n",
      "\n",
      "Reading 38.csv from bus_data/clean_data5\n",
      "Finished 38.csv\n",
      "\n",
      "Reading 38A.csv from bus_data/clean_data5\n",
      "Finished 38A.csv\n",
      "\n",
      "Reading 38B.csv from bus_data/clean_data5\n",
      "Finished 38B.csv\n",
      "\n",
      "Reading 39.csv from bus_data/clean_data5\n",
      "Finished 39.csv\n",
      "\n",
      "Reading 39A.csv from bus_data/clean_data5\n",
      "Finished 39A.csv\n",
      "\n",
      "Reading 4.csv from bus_data/clean_data5\n",
      "Finished 4.csv\n",
      "\n",
      "Reading 40.csv from bus_data/clean_data5\n",
      "Finished 40.csv\n",
      "\n",
      "Reading 40B.csv from bus_data/clean_data5\n",
      "Finished 40B.csv\n",
      "\n",
      "Reading 40D.csv from bus_data/clean_data5\n",
      "Finished 40D.csv\n",
      "\n",
      "Reading 41.csv from bus_data/clean_data5\n",
      "Finished 41.csv\n",
      "\n",
      "Reading 41A.csv from bus_data/clean_data5\n",
      "Finished 41A.csv\n",
      "\n",
      "Reading 41B.csv from bus_data/clean_data5\n",
      "Finished 41B.csv\n",
      "\n",
      "Reading 41C.csv from bus_data/clean_data5\n",
      "Finished 41C.csv\n",
      "\n",
      "Reading 41X.csv from bus_data/clean_data5\n",
      "Finished 41X.csv\n",
      "\n",
      "Reading 42.csv from bus_data/clean_data5\n",
      "Finished 42.csv\n",
      "\n",
      "Reading 43.csv from bus_data/clean_data5\n",
      "Finished 43.csv\n",
      "\n",
      "Reading 44.csv from bus_data/clean_data5\n",
      "Finished 44.csv\n",
      "\n",
      "Reading 44B.csv from bus_data/clean_data5\n",
      "Finished 44B.csv\n",
      "\n",
      "Reading 45A.csv from bus_data/clean_data5\n",
      "Finished 45A.csv\n",
      "\n",
      "Reading 46A.csv from bus_data/clean_data5\n",
      "Finished 46A.csv\n",
      "\n",
      "Reading 46E.csv from bus_data/clean_data5\n",
      "Finished 46E.csv\n",
      "\n",
      "Reading 47.csv from bus_data/clean_data5\n",
      "Finished 47.csv\n",
      "\n",
      "Reading 49.csv from bus_data/clean_data5\n",
      "Finished 49.csv\n",
      "\n",
      "Reading 51D.csv from bus_data/clean_data5\n",
      "Finished 51D.csv\n",
      "\n",
      "Reading 51X.csv from bus_data/clean_data5\n",
      "Finished 51X.csv\n",
      "\n",
      "Reading 53.csv from bus_data/clean_data5\n",
      "Finished 53.csv\n",
      "\n",
      "Reading 54A.csv from bus_data/clean_data5\n",
      "Finished 54A.csv\n",
      "\n",
      "Reading 56A.csv from bus_data/clean_data5\n",
      "Finished 56A.csv\n",
      "\n",
      "Reading 59.csv from bus_data/clean_data5\n",
      "Finished 59.csv\n",
      "\n",
      "Reading 61.csv from bus_data/clean_data5\n",
      "Finished 61.csv\n",
      "\n",
      "Reading 63.csv from bus_data/clean_data5\n",
      "Finished 63.csv\n",
      "\n",
      "Reading 65.csv from bus_data/clean_data5\n",
      "Finished 65.csv\n",
      "\n",
      "Reading 65B.csv from bus_data/clean_data5\n",
      "Finished 65B.csv\n",
      "\n",
      "Reading 66.csv from bus_data/clean_data5\n",
      "Finished 66.csv\n",
      "\n",
      "Reading 66A.csv from bus_data/clean_data5\n",
      "Finished 66A.csv\n",
      "\n",
      "Reading 66B.csv from bus_data/clean_data5\n",
      "Finished 66B.csv\n",
      "\n",
      "Reading 66X.csv from bus_data/clean_data5\n",
      "Finished 66X.csv\n",
      "\n",
      "Reading 67.csv from bus_data/clean_data5\n",
      "Finished 67.csv\n",
      "\n",
      "Reading 67X.csv from bus_data/clean_data5\n",
      "Finished 67X.csv\n",
      "\n",
      "Reading 68.csv from bus_data/clean_data5\n",
      "Finished 68.csv\n",
      "\n",
      "Reading 68A.csv from bus_data/clean_data5\n",
      "Finished 68A.csv\n",
      "\n",
      "Reading 69.csv from bus_data/clean_data5\n",
      "Finished 69.csv\n",
      "\n",
      "Reading 69X.csv from bus_data/clean_data5\n",
      "Finished 69X.csv\n",
      "\n",
      "Reading 7.csv from bus_data/clean_data5\n",
      "Finished 7.csv\n",
      "\n",
      "Reading 70.csv from bus_data/clean_data5\n",
      "Finished 70.csv\n",
      "\n",
      "Reading 747.csv from bus_data/clean_data5\n",
      "Finished 747.csv\n",
      "\n",
      "Reading 75.csv from bus_data/clean_data5\n",
      "Finished 75.csv\n",
      "\n",
      "Reading 76.csv from bus_data/clean_data5\n",
      "Finished 76.csv\n",
      "\n",
      "Reading 76A.csv from bus_data/clean_data5\n",
      "Finished 76A.csv\n",
      "\n",
      "Reading 77A.csv from bus_data/clean_data5\n",
      "Finished 77A.csv\n",
      "\n",
      "Reading 79.csv from bus_data/clean_data5\n",
      "Finished 79.csv\n",
      "\n",
      "Reading 79A.csv from bus_data/clean_data5\n",
      "Finished 79A.csv\n",
      "\n",
      "Reading 7B.csv from bus_data/clean_data5\n",
      "Finished 7B.csv\n",
      "\n",
      "Reading 7D.csv from bus_data/clean_data5\n",
      "Finished 7D.csv\n",
      "\n",
      "Reading 8.csv from bus_data/clean_data5\n",
      "Finished 8.csv\n",
      "\n",
      "Reading 83.csv from bus_data/clean_data5\n",
      "Finished 83.csv\n",
      "\n",
      "Reading 83A.csv from bus_data/clean_data5\n",
      "Finished 83A.csv\n",
      "\n",
      "Reading 84.csv from bus_data/clean_data5\n",
      "Finished 84.csv\n",
      "\n",
      "Reading 84A.csv from bus_data/clean_data5\n",
      "Finished 84A.csv\n",
      "\n",
      "Reading 84X.csv from bus_data/clean_data5\n",
      "Finished 84X.csv\n",
      "\n",
      "Reading 9.csv from bus_data/clean_data5\n",
      "Finished 9.csv\n",
      "\n",
      "Finished main!\n"
     ]
    }
   ],
   "source": [
    "read_directory = \"bus_data/clean_data5\"\n",
    "write_directory = \"bus_data/clean_location_data/\"\n",
    "location_csv = 'bus_data/stop_locations.csv'\n",
    "\n",
    "main(read_directory, write_directory, location_csv)"
   ]
  },
  {
   "cell_type": "code",
   "execution_count": null,
   "metadata": {
    "collapsed": true
   },
   "outputs": [],
   "source": []
  },
  {
   "cell_type": "markdown",
   "metadata": {},
   "source": [
    "### --Rough work--"
   ]
  },
  {
   "cell_type": "code",
   "execution_count": 139,
   "metadata": {
    "collapsed": false
   },
   "outputs": [],
   "source": [
    "line = '220'\n",
    "# df = read_data('bus_data/clean_data_rough/' + line + '.csv')\n",
    "df = pd.read_csv('bus_data/clean_data_rough/' + line + '.csv', low_memory=False)\n",
    "locations = pd.read_csv('bus_data/stop_locations.csv')"
   ]
  },
  {
   "cell_type": "code",
   "execution_count": 140,
   "metadata": {
    "collapsed": false
   },
   "outputs": [
    {
     "data": {
      "text/plain": [
       "<matplotlib.axes._subplots.AxesSubplot at 0x1844cb9e8>"
      ]
     },
     "execution_count": 140,
     "metadata": {},
     "output_type": "execute_result"
    },
    {
     "data": {
      "image/png": "[encoded data removed]",
      "text/plain": [
       "<matplotlib.figure.Figure at 0x12a3c2828>"
      ]
     },
     "metadata": {},
     "output_type": "display_data"
    }
   ],
   "source": [
    "plotdf = df[[\"Lon\", \"Lat\"]]\n",
    "plotdf.plot.scatter(x=\"Lon\", y=\"Lat\")"
   ]
  },
  {
   "cell_type": "code",
   "execution_count": 141,
   "metadata": {
    "collapsed": false
   },
   "outputs": [
    {
     "data": {
      "text/plain": [
       "(86,)"
      ]
     },
     "execution_count": 141,
     "metadata": {},
     "output_type": "execute_result"
    }
   ],
   "source": [
    "df_0001 = df[df.JourneyPatternID == 1]\n",
    "\n",
    "df_0001.StopID.unique().shape"
   ]
  },
  {
   "cell_type": "code",
   "execution_count": 142,
   "metadata": {
    "collapsed": true
   },
   "outputs": [],
   "source": [
    "df = filter_distance(df, locations)\n"
   ]
  },
  {
   "cell_type": "code",
   "execution_count": 143,
   "metadata": {
    "collapsed": false
   },
   "outputs": [
    {
     "data": {
      "text/plain": [
       "(81,)"
      ]
     },
     "execution_count": 143,
     "metadata": {},
     "output_type": "execute_result"
    }
   ],
   "source": [
    "df_0001 = df[df.JourneyPatternID == 1]\n",
    "\n",
    "df_0001.StopID.unique().shape"
   ]
  },
  {
   "cell_type": "code",
   "execution_count": 144,
   "metadata": {
    "collapsed": false
   },
   "outputs": [
    {
     "data": {
      "text/plain": [
       "<matplotlib.axes._subplots.AxesSubplot at 0x126ebbf28>"
      ]
     },
     "execution_count": 144,
     "metadata": {},
     "output_type": "execute_result"
    },
    {
     "data": {
      "image/png": "[encoded data removed]",
      "text/plain": [
       "<matplotlib.figure.Figure at 0x126edf6a0>"
      ]
     },
     "metadata": {},
     "output_type": "display_data"
    }
   ],
   "source": [
    "plotdf = df[[\"Lon\", \"Lat\"]]\n",
    "plotdf.plot.scatter(x=\"Lon\", y=\"Lat\")"
   ]
  },
  {
   "cell_type": "code",
   "execution_count": 28,
   "metadata": {
    "collapsed": true
   },
   "outputs": [],
   "source": [
    "# changing name of Lat and Lon so that they can be distinguished\n",
    "\n",
    "locations = locations.rename(columns={'Lon': 'RealLon', 'Lat': 'RealLat'})"
   ]
  },
  {
   "cell_type": "code",
   "execution_count": 29,
   "metadata": {
    "collapsed": false
   },
   "outputs": [
    {
     "data": {
      "text/html": [
       "<div>\n",
       "<table border=\"1\" class=\"dataframe\">\n",
       "  <thead>\n",
       "    <tr style=\"text-align: right;\">\n",
       "      <th></th>\n",
       "      <th>StopID</th>\n",
       "      <th>RealLat</th>\n",
       "      <th>RealLon</th>\n",
       "    </tr>\n",
       "  </thead>\n",
       "  <tbody>\n",
       "    <tr>\n",
       "      <th>4714</th>\n",
       "      <td>7259</td>\n",
       "      <td>53.121085</td>\n",
       "      <td>-6.535927</td>\n",
       "    </tr>\n",
       "    <tr>\n",
       "      <th>4715</th>\n",
       "      <td>7256</td>\n",
       "      <td>53.129805</td>\n",
       "      <td>-6.527291</td>\n",
       "    </tr>\n",
       "    <tr>\n",
       "      <th>4716</th>\n",
       "      <td>7255</td>\n",
       "      <td>53.148724</td>\n",
       "      <td>-6.536721</td>\n",
       "    </tr>\n",
       "    <tr>\n",
       "      <th>4717</th>\n",
       "      <td>6087</td>\n",
       "      <td>53.446092</td>\n",
       "      <td>-6.132319</td>\n",
       "    </tr>\n",
       "    <tr>\n",
       "      <th>4718</th>\n",
       "      <td>3621</td>\n",
       "      <td>53.448382</td>\n",
       "      <td>-6.136781</td>\n",
       "    </tr>\n",
       "  </tbody>\n",
       "</table>\n",
       "</div>"
      ],
      "text/plain": [
       "      StopID    RealLat   RealLon\n",
       "4714    7259  53.121085 -6.535927\n",
       "4715    7256  53.129805 -6.527291\n",
       "4716    7255  53.148724 -6.536721\n",
       "4717    6087  53.446092 -6.132319\n",
       "4718    3621  53.448382 -6.136781"
      ]
     },
     "execution_count": 29,
     "metadata": {},
     "output_type": "execute_result"
    }
   ],
   "source": [
    "locations.tail()"
   ]
  },
  {
   "cell_type": "code",
   "execution_count": 33,
   "metadata": {
    "collapsed": true
   },
   "outputs": [],
   "source": [
    "df = pd.merge(df, locations, how='inner', on=['StopID'])"
   ]
  },
  {
   "cell_type": "code",
   "execution_count": 44,
   "metadata": {
    "collapsed": false
   },
   "outputs": [
    {
     "data": {
      "text/plain": [
       "(518286, 18)"
      ]
     },
     "execution_count": 44,
     "metadata": {},
     "output_type": "execute_result"
    }
   ],
   "source": [
    "df.shape"
   ]
  },
  {
   "cell_type": "code",
   "execution_count": null,
   "metadata": {
    "collapsed": true
   },
   "outputs": [],
   "source": []
  },
  {
   "cell_type": "code",
   "execution_count": 58,
   "metadata": {
    "collapsed": false
   },
   "outputs": [],
   "source": [
    "def check_distance(row):    \n",
    "    tolerance = 1    # measured in km\n",
    "    distance = fast_distance(row.Lon, row.Lat, row.RealLon, row.RealLat)\n",
    "    \n",
    "    return (True if distance < tolerance else False)\n",
    "\n",
    "df[\"ValidDistance\"] = True\n",
    "df[\"ValidDistance\"] = df.apply(check_distance, axis=1)"
   ]
  },
  {
   "cell_type": "code",
   "execution_count": 59,
   "metadata": {
    "collapsed": false
   },
   "outputs": [
    {
     "data": {
      "text/plain": [
       "False    281240\n",
       "True     237046\n",
       "Name: ValidDistance, dtype: int64"
      ]
     },
     "execution_count": 59,
     "metadata": {},
     "output_type": "execute_result"
    }
   ],
   "source": [
    "df.ValidDistance.value_counts()"
   ]
  },
  {
   "cell_type": "code",
   "execution_count": 60,
   "metadata": {
    "collapsed": true
   },
   "outputs": [],
   "source": [
    "trimmed_df = df[df.ValidDistance == True]"
   ]
  },
  {
   "cell_type": "code",
   "execution_count": 62,
   "metadata": {
    "collapsed": false
   },
   "outputs": [
    {
     "data": {
      "text/html": [
       "<div>\n",
       "<table border=\"1\" class=\"dataframe\">\n",
       "  <thead>\n",
       "    <tr style=\"text-align: right;\">\n",
       "      <th></th>\n",
       "      <th>Timestamp</th>\n",
       "      <th>LineID</th>\n",
       "      <th>JourneyPatternID</th>\n",
       "      <th>TimeFrame</th>\n",
       "      <th>VehicleJourneyID</th>\n",
       "      <th>Lon</th>\n",
       "      <th>Lat</th>\n",
       "      <th>VehicleID</th>\n",
       "      <th>StopID</th>\n",
       "      <th>AtStop</th>\n",
       "      <th>HumanTime</th>\n",
       "      <th>Day</th>\n",
       "      <th>Hour</th>\n",
       "      <th>JourneyGroup</th>\n",
       "      <th>Runtime</th>\n",
       "      <th>RealLat</th>\n",
       "      <th>RealLon</th>\n",
       "      <th>ValidDistance</th>\n",
       "    </tr>\n",
       "  </thead>\n",
       "  <tbody>\n",
       "    <tr>\n",
       "      <th>1</th>\n",
       "      <td>1352182204000000</td>\n",
       "      <td>15</td>\n",
       "      <td>1</td>\n",
       "      <td>2012-11-06</td>\n",
       "      <td>5899</td>\n",
       "      <td>-6.151132</td>\n",
       "      <td>53.402328</td>\n",
       "      <td>33498</td>\n",
       "      <td>6318</td>\n",
       "      <td>0</td>\n",
       "      <td>2012-11-06 06:10:04</td>\n",
       "      <td>1</td>\n",
       "      <td>6</td>\n",
       "      <td>2012-11-065899</td>\n",
       "      <td>0</td>\n",
       "      <td>53.402314</td>\n",
       "      <td>-6.150992</td>\n",
       "      <td>True</td>\n",
       "    </tr>\n",
       "    <tr>\n",
       "      <th>16</th>\n",
       "      <td>1352192390000000</td>\n",
       "      <td>15</td>\n",
       "      <td>1</td>\n",
       "      <td>2012-11-06</td>\n",
       "      <td>5828</td>\n",
       "      <td>-6.150883</td>\n",
       "      <td>53.402351</td>\n",
       "      <td>33523</td>\n",
       "      <td>6318</td>\n",
       "      <td>1</td>\n",
       "      <td>2012-11-06 08:59:50</td>\n",
       "      <td>1</td>\n",
       "      <td>8</td>\n",
       "      <td>2012-11-065828</td>\n",
       "      <td>0</td>\n",
       "      <td>53.402314</td>\n",
       "      <td>-6.150992</td>\n",
       "      <td>True</td>\n",
       "    </tr>\n",
       "    <tr>\n",
       "      <th>17</th>\n",
       "      <td>1352192858000000</td>\n",
       "      <td>15</td>\n",
       "      <td>1</td>\n",
       "      <td>2012-11-06</td>\n",
       "      <td>5835</td>\n",
       "      <td>-6.150987</td>\n",
       "      <td>53.402309</td>\n",
       "      <td>33254</td>\n",
       "      <td>6318</td>\n",
       "      <td>1</td>\n",
       "      <td>2012-11-06 09:07:38</td>\n",
       "      <td>1</td>\n",
       "      <td>9</td>\n",
       "      <td>2012-11-065835</td>\n",
       "      <td>0</td>\n",
       "      <td>53.402314</td>\n",
       "      <td>-6.150992</td>\n",
       "      <td>True</td>\n",
       "    </tr>\n",
       "    <tr>\n",
       "      <th>18</th>\n",
       "      <td>1352193393000000</td>\n",
       "      <td>15</td>\n",
       "      <td>1</td>\n",
       "      <td>2012-11-06</td>\n",
       "      <td>5853</td>\n",
       "      <td>-6.150987</td>\n",
       "      <td>53.402309</td>\n",
       "      <td>33209</td>\n",
       "      <td>6318</td>\n",
       "      <td>1</td>\n",
       "      <td>2012-11-06 09:16:33</td>\n",
       "      <td>1</td>\n",
       "      <td>9</td>\n",
       "      <td>2012-11-065853</td>\n",
       "      <td>0</td>\n",
       "      <td>53.402314</td>\n",
       "      <td>-6.150992</td>\n",
       "      <td>True</td>\n",
       "    </tr>\n",
       "    <tr>\n",
       "      <th>19</th>\n",
       "      <td>1352194244000000</td>\n",
       "      <td>15</td>\n",
       "      <td>1</td>\n",
       "      <td>2012-11-06</td>\n",
       "      <td>5878</td>\n",
       "      <td>-6.151132</td>\n",
       "      <td>53.402328</td>\n",
       "      <td>33020</td>\n",
       "      <td>6318</td>\n",
       "      <td>0</td>\n",
       "      <td>2012-11-06 09:30:44</td>\n",
       "      <td>1</td>\n",
       "      <td>9</td>\n",
       "      <td>2012-11-065878</td>\n",
       "      <td>0</td>\n",
       "      <td>53.402314</td>\n",
       "      <td>-6.150992</td>\n",
       "      <td>True</td>\n",
       "    </tr>\n",
       "  </tbody>\n",
       "</table>\n",
       "</div>"
      ],
      "text/plain": [
       "           Timestamp  LineID  JourneyPatternID   TimeFrame  VehicleJourneyID  \\\n",
       "1   1352182204000000      15                 1  2012-11-06              5899   \n",
       "16  1352192390000000      15                 1  2012-11-06              5828   \n",
       "17  1352192858000000      15                 1  2012-11-06              5835   \n",
       "18  1352193393000000      15                 1  2012-11-06              5853   \n",
       "19  1352194244000000      15                 1  2012-11-06              5878   \n",
       "\n",
       "         Lon        Lat  VehicleID  StopID  AtStop            HumanTime  Day  \\\n",
       "1  -6.151132  53.402328      33498    6318       0  2012-11-06 06:10:04    1   \n",
       "16 -6.150883  53.402351      33523    6318       1  2012-11-06 08:59:50    1   \n",
       "17 -6.150987  53.402309      33254    6318       1  2012-11-06 09:07:38    1   \n",
       "18 -6.150987  53.402309      33209    6318       1  2012-11-06 09:16:33    1   \n",
       "19 -6.151132  53.402328      33020    6318       0  2012-11-06 09:30:44    1   \n",
       "\n",
       "    Hour    JourneyGroup  Runtime    RealLat   RealLon ValidDistance  \n",
       "1      6  2012-11-065899        0  53.402314 -6.150992          True  \n",
       "16     8  2012-11-065828        0  53.402314 -6.150992          True  \n",
       "17     9  2012-11-065835        0  53.402314 -6.150992          True  \n",
       "18     9  2012-11-065853        0  53.402314 -6.150992          True  \n",
       "19     9  2012-11-065878        0  53.402314 -6.150992          True  "
      ]
     },
     "execution_count": 62,
     "metadata": {},
     "output_type": "execute_result"
    }
   ],
   "source": [
    "trimmed_df.head()"
   ]
  },
  {
   "cell_type": "code",
   "execution_count": 61,
   "metadata": {
    "collapsed": true
   },
   "outputs": [
    {
     "data": {
      "text/plain": [
       "<matplotlib.axes._subplots.AxesSubplot at 0x12a5d51d0>"
      ]
     },
     "execution_count": 61,
     "metadata": {},
     "output_type": "execute_result"
    },
    {
     "data": {
      "image/png": "[encoded data removed]",
      "text/plain": [
       "<matplotlib.figure.Figure at 0x156ddc898>"
      ]
     },
     "metadata": {},
     "output_type": "display_data"
    }
   ],
   "source": [
    "plotdf = trimmed_df[[\"Lon\", \"Lat\"]]\n",
    "plotdf.plot.scatter(x=\"Lon\", y=\"Lat\")"
   ]
  },
  {
   "cell_type": "code",
   "execution_count": null,
   "metadata": {
    "collapsed": true
   },
   "outputs": [],
   "source": []
  }
 ],
 "metadata": {
  "kernelspec": {
   "display_name": "Python 3",
   "language": "python",
   "name": "python3"
  },
  "language_info": {
   "codemirror_mode": {
    "name": "ipython",
    "version": 3
   },
   "file_extension": ".py",
   "mimetype": "text/x-python",
   "name": "python",
   "nbconvert_exporter": "python",
   "pygments_lexer": "ipython3",
   "version": "3.6.0"
  }
 },
 "nbformat": 4,
 "nbformat_minor": 2
}
