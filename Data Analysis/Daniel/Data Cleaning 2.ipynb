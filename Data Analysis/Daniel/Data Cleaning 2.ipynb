{
 "cells": [
  {
   "cell_type": "code",
   "execution_count": 3,
   "metadata": {
    "collapsed": true
   },
   "outputs": [],
   "source": [
    "import pandas as pd\n",
    "import os\n",
    "import time\n",
    "\n",
    "import matplotlib.pyplot as plt\n",
    "%matplotlib inline"
   ]
  },
  {
   "cell_type": "code",
   "execution_count": 4,
   "metadata": {
    "collapsed": true
   },
   "outputs": [],
   "source": [
    "def read_schedule(schedule_file):\n",
    "    schedule = pd.read_csv(schedule_file, low_memory=False, encoding=\"ISO-8859-1\")\n",
    "    \n",
    "    return schedule\n"
   ]
  },
  {
   "cell_type": "code",
   "execution_count": 5,
   "metadata": {
    "collapsed": true
   },
   "outputs": [],
   "source": [
    "def clean_schedule(schedule):\n",
    "    \n",
    "    # drop null values\n",
    "    schedule.dropna(0, inplace=True)\n",
    "    \n",
    "    # extract StopID\n",
    "    schedule[\"StopID\"] = schedule['stop_id'].apply(lambda x: x[-4:])\n",
    "    \n",
    "    # Convert StopIDs back to int\n",
    "    schedule['StopID'] = schedule['StopID'].astype('int64')\n",
    "    \n",
    "    # Extracting LineID from trip_id\n",
    "    schedule[\"LineID\"] = schedule[\"trip_id\"].str.extract('\\-(.*?)\\-')\n",
    "    \n",
    "    # Extracting direction from trip_id\n",
    "    schedule[\"Direction\"] = schedule['trip_id'].apply(lambda x: x[-1:])\n",
    "    \n",
    "    # Dropping non-major journeypatterns\n",
    "    schedule = schedule[(schedule.Direction == \"I\") | (schedule.Direction == \"O\")]\n",
    "    \n",
    "    # Converting Direction to JourneyPatternID\n",
    "    schedule[\"JourneyPatternID\"] = schedule['Direction'].apply(lambda x: \"1001\" if x == \"I\" else \"0001\")\n",
    "    schedule['JourneyPatternID'] = schedule['JourneyPatternID'].astype('int64')\n",
    "    \n",
    "#     # dropping irrelevant columns\n",
    "#     for column in ['trip_id', 'stop_id', 'arrival_time', 'departure_time', \n",
    "#                    'shape_dist_traveled', 'Direction', 'stop_sequence', 'stop_headsign']:\n",
    "#             schedule = schedule.drop(column, 1)\n",
    "            \n",
    "    # Renaming 'Long' to 'Lon'\n",
    "    schedule = schedule.rename(columns={'Long': 'Lon'})\n",
    "    \n",
    "    return schedule"
   ]
  },
  {
   "cell_type": "code",
   "execution_count": 6,
   "metadata": {
    "collapsed": false
   },
   "outputs": [],
   "source": [
    "# MIGHT HAVE TO CHANGE COLUMN NAMES - NOT SURE IF I HAVE THE CORRECT AMOUNT\n",
    "\n",
    "def read_data(filename):\n",
    "\n",
    "    df = pd.read_csv(filename, low_memory=False, header=None)\n",
    "    df.columns = [\"Timestamp\", \"LineID\", \"Direction\", \"JourneyPatternID\", \"TimeFrame\",\n",
    "                  \"VehicleJourneyID\", \"Operator\", \"Congestion\", \"Lon\", \"Lat\",\n",
    "                  \"Delay\", \"BlockID\", \"VehicleID\", \"StopID\", \"AtStop\"]\n",
    "    \n",
    "    \n",
    "    \n",
    "    return df"
   ]
  },
  {
   "cell_type": "code",
   "execution_count": 7,
   "metadata": {
    "collapsed": true
   },
   "outputs": [],
   "source": [
    "# ADDING HOUR, DAY, HUMANTIME COLUMNS\n",
    "# DROPPING IRRELEVANT COLUMNS\n",
    "# CAN REMAIN UNCHANGED - MIGHT WANT TO MAKE HOUR MORE GRANULAR? \n",
    "\n",
    "def add_features(df):\n",
    "\n",
    "    # Add column for human readable time\n",
    "    df['HumanTime'] = pd.to_datetime(df['Timestamp'], unit='us')\n",
    "\n",
    "\n",
    "    # Add day of week column\n",
    "    df['Day'] = df['HumanTime'].dt.dayofweek\n",
    "\n",
    "    # Add hour of day column\n",
    "    df['Hour'] = df['HumanTime'].dt.hour\n",
    "\n",
    "\n",
    "    # Dropping irrelevant columns\n",
    "    for column in ['BlockID', 'Direction', 'Operator', 'Delay', 'Congestion']:\n",
    "        df = df.drop(column, 1)\n",
    "    \n",
    "    return df"
   ]
  },
  {
   "cell_type": "code",
   "execution_count": 8,
   "metadata": {
    "collapsed": false
   },
   "outputs": [],
   "source": [
    "# # REMOVE ALL JOURNEYS WHERE BUS DOESN'T START AT CORRECT STOP HERE\n",
    "# # FIND MOST COMMON STARTING STOP, DROP ALL JOURNEYS WHICH DON'T HAVE THIS\n",
    "# # AS THEIR FIRST STOP\n",
    "\n",
    "# def filter_direction(df):\n",
    "\n",
    "#     # converting data, adding compound feature\n",
    "#     for column in ['TimeFrame', 'VehicleJourneyID',]:\n",
    "#             df[column] = df[column].astype('str')\n",
    "\n",
    "#     df[\"JourneyGroup\"] = df[\"TimeFrame\"] + df[\"VehicleJourneyID\"]\n",
    "\n",
    "\n",
    "#     patterns = df.JourneyPatternID.unique()\n",
    "\n",
    "#     tempdf = pd.DataFrame()\n",
    "\n",
    "#     for pattern in patterns:\n",
    "#         patterndf = df[df.JourneyPatternID == pattern]\n",
    "\n",
    "#         firstlines = patterndf.groupby([\"TimeFrame\", \"VehicleJourneyID\"]).head(1)\n",
    "#         start = firstlines.StopID.mode()[0]\n",
    "#         #     print(start)\n",
    "\n",
    "#         # Getting all journeys that start at the right stop\n",
    "#         valid_journeys = []\n",
    "#         for index, row in firstlines.iterrows():\n",
    "#             if row.StopID == start:\n",
    "#                 valid_journeys.append(row.JourneyGroup)\n",
    "\n",
    "#         # removing journeys that don't start at the right stop\n",
    "#         patterndf = patterndf[patterndf.JourneyGroup.isin(valid_journeys)]\n",
    "\n",
    "\n",
    "#         if tempdf.empty:\n",
    "#             tempdf = patterndf\n",
    "\n",
    "#         else: \n",
    "#             tempdf = pd.concat([tempdf, patterndf], axis=0)\n",
    "\n",
    "#     return tempdf"
   ]
  },
  {
   "cell_type": "code",
   "execution_count": 9,
   "metadata": {
    "collapsed": true
   },
   "outputs": [],
   "source": [
    "def add_journeygroup(df):\n",
    "    # For testing only - filter_direction is causing errors\n",
    "    # So we need to test\n",
    "    # converting data, adding compound feature\n",
    "    for column in ['TimeFrame', 'VehicleJourneyID',]:\n",
    "            df[column] = df[column].astype('str')\n",
    "\n",
    "    df[\"JourneyGroup\"] = df[\"TimeFrame\"] + df[\"VehicleJourneyID\"]\n",
    "    \n",
    "    return df\n",
    "    "
   ]
  },
  {
   "cell_type": "code",
   "execution_count": 61,
   "metadata": {
    "collapsed": false
   },
   "outputs": [],
   "source": [
    "def filter_direction2(df, schedule):\n",
    "    \n",
    "    # casting StopID to int\n",
    "    df['StopID'] = df['StopID'].astype('int64')\n",
    "    \n",
    "    # getting line variable\n",
    "    line = df.LineID.iloc[0]\n",
    "    line = str(line)\n",
    "\n",
    "    # converting data, adding compound feature\n",
    "    for column in ['TimeFrame', 'VehicleJourneyID',]:\n",
    "            df[column] = df[column].astype('str')\n",
    "\n",
    "    # creating compound feature, getting patterns, creating temp df\n",
    "    df[\"JourneyGroup\"] = df[\"TimeFrame\"] + df[\"VehicleJourneyID\"]\n",
    "    patterns = df.JourneyPatternID.unique()\n",
    "    tempdf = pd.DataFrame()\n",
    "\n",
    "    for pattern in patterns:\n",
    "        \n",
    "        # Getting first 5 stops for all variations in schedule \n",
    "        pattern_sched = schedule[(schedule.LineID == line) & (schedule.JourneyPatternID == pattern)]\n",
    "        starting_stops = set()\n",
    "        headsigns = pattern_sched.stop_headsign.unique()\n",
    "        for sign in headsigns:\n",
    "            headsign_sched = pattern_sched[pattern_sched.stop_headsign == sign]\n",
    "            first_5 = set(headsign_sched.head(5).StopID.tolist())\n",
    "            starting_stops = first_5.union(starting_stops)\n",
    "            \n",
    "        starting_stops = list(starting_stops)\n",
    "                \n",
    "        # Getting first stops of all journeys in our data\n",
    "        patterndf = df[df.JourneyPatternID == pattern]\n",
    "        firstlines = patterndf.groupby([\"TimeFrame\", \"VehicleJourneyID\"]).head(1)\n",
    "        \n",
    "        # removing stops from our data that don't appear in schedule \n",
    "\n",
    "\n",
    "        # Getting all journeys that start at in the first 5\n",
    "        valid_journeys = []\n",
    "        for index, row in firstlines.iterrows():\n",
    "            if row.StopID in starting_stops:\n",
    "                valid_journeys.append(row.JourneyGroup)\n",
    "\n",
    "        # removing journeys that don't start at the right stop\n",
    "        patterndf = patterndf[patterndf.JourneyGroup.isin(valid_journeys)]\n",
    "\n",
    "        if tempdf.empty:\n",
    "            tempdf = patterndf\n",
    "        else: \n",
    "            tempdf = pd.concat([tempdf, patterndf], axis=0)\n",
    "\n",
    "    return tempdf"
   ]
  },
  {
   "cell_type": "code",
   "execution_count": null,
   "metadata": {
    "collapsed": true
   },
   "outputs": [],
   "source": [
    "# REMOVING STOPS THAT AREN'T IN THE SCHEDULE. \n",
    "\n",
    "def schedule_validate(df, schedule):\n",
    "    line = df.LineID.iloc[0]\n",
    "    line = str(line) \n",
    "    \n",
    "    patterns = df.JourneyPatternID.unique()\n",
    "    \n",
    "    tempdf = pd.DataFrame()\n",
    "        \n",
    "    for pattern in patterns:\n",
    "        pattern_sched = schedule[(schedule.LineID == line) & (schedule.JourneyPatternID == pattern)]\n",
    "        stops = schedule.StopID.unique().tolist()\n"
   ]
  },
  {
   "cell_type": "code",
   "execution_count": 11,
   "metadata": {
    "collapsed": true
   },
   "outputs": [],
   "source": [
    "# DROPPING ROWS WHERE BUS ISN'T AT STOP \n",
    "# THIS SECTION NEEDS TO BE CHANGED, INCLUDE ONLY ROWS WHERE STOPID CHANGES\n",
    "\n",
    "def drop_rows(df):\n",
    "\n",
    "    # drop duplicate rows\n",
    "    df = df.drop_duplicates([\"TimeFrame\", \"VehicleJourneyID\", \"StopID\"])\n",
    "\n",
    "    # mean = df.JourneyGroup.value_counts().mean()\n",
    "    # drop trips with less than 5 stops\n",
    "    df = df[df.groupby('JourneyGroup').JourneyGroup.transform(len) > 5]\n",
    "    \n",
    "    return df"
   ]
  },
  {
   "cell_type": "code",
   "execution_count": 12,
   "metadata": {
    "collapsed": true
   },
   "outputs": [],
   "source": [
    "def runtime_function(row, mydict):\n",
    "    # Takes a row and a dictionary of start times\n",
    "    # returns time elapsed (seconds) between that row's timestamp and the start of the line\n",
    "#     start = mydict[row.TimeFrame, row.VehicleID, row.VehicleJourneyID][\"time\"]\n",
    "    start = mydict[row.TimeFrame, row.VehicleJourneyID][\"time\"]\n",
    "\n",
    "    current = row.Timestamp\n",
    "    return (current - start) // 1000000"
   ]
  },
  {
   "cell_type": "code",
   "execution_count": 13,
   "metadata": {
    "collapsed": false
   },
   "outputs": [],
   "source": [
    "# ADDING RUNTIME COLUMN - THIS CAN REMAIN UNCHANGED\n",
    "\n",
    "def add_runtime(df):\n",
    "    # Putting the first sightings of a vehiclejourneyid and timeframe combo timestamp into a dictionary\n",
    "    start_times = {}\n",
    "    \n",
    "#     df = df.sort_values(['Timestamp'])\n",
    "\n",
    "    # This gives you the first line anything has been seen by\n",
    "#     firstlines = df.groupby([\"TimeFrame\", \"VehicleID\", \"VehicleJourneyID\"]).head(1)\n",
    "    firstlines = df.groupby([\"TimeFrame\", \"VehicleJourneyID\"]).head(1)\n",
    "\n",
    "\n",
    "#     firstlines = firstlines.sort_values(['Timestamp']).head(1)\n",
    "\n",
    "    # This iterates through them and assigns values to the dictionary\n",
    "    for index, row in firstlines.iterrows():\n",
    "        start_times[row.TimeFrame, row.VehicleJourneyID] = {\"time\":row.Timestamp, \"loc\":[row.Lat, row.Lon]}\n",
    "\n",
    "#         start_times[row.TimeFrame, row.VehicleID, row.VehicleJourneyID] = {\"time\":row.Timestamp, \"loc\":[row.Lat, row.Lon]}\n",
    "\n",
    "\n",
    "    df['Runtime'] = \"\"\n",
    "\n",
    "    # Applies this function to the newdf\n",
    "    df['Runtime'] = df.apply(lambda row: runtime_function(row, start_times),axis=1)\n",
    "    \n",
    "    return df"
   ]
  },
  {
   "cell_type": "code",
   "execution_count": 14,
   "metadata": {
    "collapsed": true
   },
   "outputs": [],
   "source": [
    "def insert_into_file(df, writefile):\n",
    "    \"\"\"  This function writes a dataframe (df) to a file (writefile),\n",
    "        or does nothing if the file doesn't exist\n",
    "        \n",
    "        CHANGED FROM OTHER\n",
    "    \"\"\"\n",
    "    try:\n",
    "        with open(writefile, 'a') as f:\n",
    "#             df.to_csv(f, header=False, index=False)\n",
    "            print(writefile, \"exists\")\n",
    "            pass\n",
    "    except IOError:\n",
    "        with open(writefile, 'w+') as f:\n",
    "            df.to_csv(f, header=False, index=False)\n"
   ]
  },
  {
   "cell_type": "code",
   "execution_count": 15,
   "metadata": {
    "collapsed": false
   },
   "outputs": [],
   "source": [
    "def main(read_directory, write_directory):\n",
    "    for read_file in os.listdir(read_directory):\n",
    "        if read_file.endswith(\".csv\"):\n",
    "            if os.path.isfile(write_directory + \"/\" + read_file):\n",
    "                print(read_file, \"exists\")\n",
    "            else:\n",
    "                print(\"Reading\", read_file, \"from\", read_directory)\n",
    "                try:\n",
    "                    df = read_data(read_directory + \"/\" + read_file)\n",
    "                    df = add_features(df)\n",
    "#                     df = filter_direction(df)\n",
    "                    df = add_journeygroup(df)\n",
    "                    df = drop_rows(df)\n",
    "                    df = add_runtime(df)\n",
    "        \n",
    "\n",
    "\n",
    "                    with open(write_directory + \"/\" + read_file, 'w+') as f:\n",
    "                        df.to_csv(f, header=False, index=False)\n",
    "                except (ValueError, IndexError) as error:\n",
    "                    print(error, \"!\")\n",
    "                    print(\"Couldn't finish\", read_file)\n",
    "                    \n",
    "\n",
    "                print(\"Finished\", read_file)\n",
    "                print()\n",
    "    print(\"Finished main!\")"
   ]
  },
  {
   "cell_type": "code",
   "execution_count": 16,
   "metadata": {
    "collapsed": false,
    "scrolled": true
   },
   "outputs": [],
   "source": [
    "# MAIN SECTION\n",
    "\n",
    "read_directory = \"bus_data/line_data2\"\n",
    "write_directory = \"bus_data/clean_data5\"\n",
    "\n",
    "# main(read_directory, write_directory)"
   ]
  },
  {
   "cell_type": "code",
   "execution_count": null,
   "metadata": {
    "collapsed": true
   },
   "outputs": [],
   "source": []
  },
  {
   "cell_type": "code",
   "execution_count": null,
   "metadata": {
    "collapsed": true
   },
   "outputs": [],
   "source": []
  },
  {
   "cell_type": "code",
   "execution_count": 75,
   "metadata": {
    "collapsed": false
   },
   "outputs": [],
   "source": [
    "line = \"15\"\n",
    "\n",
    "readfile = \"bus_data/line_data2/\" + line + \".csv\"\n",
    "\n",
    "\n",
    "# schedule = read_schedule(schedule_file)\n",
    "# schedule = clean_schedule(schedule)\n",
    "    \n",
    "    \n",
    "df = read_data(readfile)\n",
    "df = add_features(df)\n",
    "# df = filter_direction2(df, schedule)\n",
    "df = add_journeygroup(df)\n",
    "df = drop_rows(df)\n",
    "df = add_runtime(df)\n",
    "\n",
    "# df.to_csv('bus_data/clean_data_rough/' + line + '.csv')"
   ]
  },
  {
   "cell_type": "code",
   "execution_count": 76,
   "metadata": {
    "collapsed": false
   },
   "outputs": [
    {
     "data": {
      "text/html": [
       "<div>\n",
       "<table border=\"1\" class=\"dataframe\">\n",
       "  <thead>\n",
       "    <tr style=\"text-align: right;\">\n",
       "      <th></th>\n",
       "      <th>Timestamp</th>\n",
       "      <th>LineID</th>\n",
       "      <th>JourneyPatternID</th>\n",
       "      <th>TimeFrame</th>\n",
       "      <th>VehicleJourneyID</th>\n",
       "      <th>Lon</th>\n",
       "      <th>Lat</th>\n",
       "      <th>VehicleID</th>\n",
       "      <th>StopID</th>\n",
       "      <th>AtStop</th>\n",
       "      <th>HumanTime</th>\n",
       "      <th>Day</th>\n",
       "      <th>Hour</th>\n",
       "      <th>JourneyGroup</th>\n",
       "      <th>Runtime</th>\n",
       "    </tr>\n",
       "  </thead>\n",
       "  <tbody>\n",
       "    <tr>\n",
       "      <th>185</th>\n",
       "      <td>1352181603000000</td>\n",
       "      <td>15</td>\n",
       "      <td>1</td>\n",
       "      <td>2012-11-06</td>\n",
       "      <td>5891</td>\n",
       "      <td>-6.151784</td>\n",
       "      <td>53.402409</td>\n",
       "      <td>33553</td>\n",
       "      <td>6318</td>\n",
       "      <td>0</td>\n",
       "      <td>2012-11-06 06:00:03</td>\n",
       "      <td>1</td>\n",
       "      <td>6</td>\n",
       "      <td>2012-11-065891</td>\n",
       "      <td>0</td>\n",
       "    </tr>\n",
       "    <tr>\n",
       "      <th>186</th>\n",
       "      <td>1352181607000000</td>\n",
       "      <td>15</td>\n",
       "      <td>1001</td>\n",
       "      <td>2012-11-06</td>\n",
       "      <td>5781</td>\n",
       "      <td>-6.328997</td>\n",
       "      <td>53.271782</td>\n",
       "      <td>33469</td>\n",
       "      <td>6282</td>\n",
       "      <td>0</td>\n",
       "      <td>2012-11-06 06:00:07</td>\n",
       "      <td>1</td>\n",
       "      <td>6</td>\n",
       "      <td>2012-11-065781</td>\n",
       "      <td>0</td>\n",
       "    </tr>\n",
       "    <tr>\n",
       "      <th>189</th>\n",
       "      <td>1352181628000000</td>\n",
       "      <td>15</td>\n",
       "      <td>1001</td>\n",
       "      <td>2012-11-06</td>\n",
       "      <td>5781</td>\n",
       "      <td>-6.331199</td>\n",
       "      <td>53.275208</td>\n",
       "      <td>33469</td>\n",
       "      <td>6335</td>\n",
       "      <td>0</td>\n",
       "      <td>2012-11-06 06:00:28</td>\n",
       "      <td>1</td>\n",
       "      <td>6</td>\n",
       "      <td>2012-11-065781</td>\n",
       "      <td>21</td>\n",
       "    </tr>\n",
       "    <tr>\n",
       "      <th>190</th>\n",
       "      <td>1352181644000000</td>\n",
       "      <td>15</td>\n",
       "      <td>1</td>\n",
       "      <td>2012-11-06</td>\n",
       "      <td>5891</td>\n",
       "      <td>-6.153783</td>\n",
       "      <td>53.402687</td>\n",
       "      <td>33553</td>\n",
       "      <td>6319</td>\n",
       "      <td>1</td>\n",
       "      <td>2012-11-06 06:00:44</td>\n",
       "      <td>1</td>\n",
       "      <td>6</td>\n",
       "      <td>2012-11-065891</td>\n",
       "      <td>41</td>\n",
       "    </tr>\n",
       "    <tr>\n",
       "      <th>191</th>\n",
       "      <td>1352181648000000</td>\n",
       "      <td>15</td>\n",
       "      <td>1001</td>\n",
       "      <td>2012-11-06</td>\n",
       "      <td>5781</td>\n",
       "      <td>-6.331120</td>\n",
       "      <td>53.276268</td>\n",
       "      <td>33469</td>\n",
       "      <td>6326</td>\n",
       "      <td>0</td>\n",
       "      <td>2012-11-06 06:00:48</td>\n",
       "      <td>1</td>\n",
       "      <td>6</td>\n",
       "      <td>2012-11-065781</td>\n",
       "      <td>41</td>\n",
       "    </tr>\n",
       "  </tbody>\n",
       "</table>\n",
       "</div>"
      ],
      "text/plain": [
       "            Timestamp  LineID  JourneyPatternID   TimeFrame VehicleJourneyID  \\\n",
       "185  1352181603000000      15                 1  2012-11-06             5891   \n",
       "186  1352181607000000      15              1001  2012-11-06             5781   \n",
       "189  1352181628000000      15              1001  2012-11-06             5781   \n",
       "190  1352181644000000      15                 1  2012-11-06             5891   \n",
       "191  1352181648000000      15              1001  2012-11-06             5781   \n",
       "\n",
       "          Lon        Lat  VehicleID StopID  AtStop           HumanTime  Day  \\\n",
       "185 -6.151784  53.402409      33553   6318       0 2012-11-06 06:00:03    1   \n",
       "186 -6.328997  53.271782      33469   6282       0 2012-11-06 06:00:07    1   \n",
       "189 -6.331199  53.275208      33469   6335       0 2012-11-06 06:00:28    1   \n",
       "190 -6.153783  53.402687      33553   6319       1 2012-11-06 06:00:44    1   \n",
       "191 -6.331120  53.276268      33469   6326       0 2012-11-06 06:00:48    1   \n",
       "\n",
       "     Hour    JourneyGroup  Runtime  \n",
       "185     6  2012-11-065891        0  \n",
       "186     6  2012-11-065781        0  \n",
       "189     6  2012-11-065781       21  \n",
       "190     6  2012-11-065891       41  \n",
       "191     6  2012-11-065781       41  "
      ]
     },
     "execution_count": 76,
     "metadata": {},
     "output_type": "execute_result"
    }
   ],
   "source": [
    "df.head()"
   ]
  },
  {
   "cell_type": "code",
   "execution_count": 77,
   "metadata": {
    "collapsed": false
   },
   "outputs": [
    {
     "name": "stderr",
     "output_type": "stream",
     "text": [
      "/Users/danieljordan/anaconda3/lib/python3.6/site-packages/ipykernel/__main__.py:13: FutureWarning: currently extract(expand=None) means expand=False (return Index/Series/DataFrame) but in a future version of pandas this will be changed to expand=True (return DataFrame)\n"
     ]
    }
   ],
   "source": [
    "schedule_file = 'bus_data/dublinbus_scheduledData2013csv.csv'\n",
    "schedule = read_schedule(schedule_file)\n",
    "schedule = clean_schedule(schedule)"
   ]
  },
  {
   "cell_type": "code",
   "execution_count": 78,
   "metadata": {
    "collapsed": false
   },
   "outputs": [
    {
     "name": "stdout",
     "output_type": "stream",
     "text": [
      "Pattern: 1\n",
      "['Ballycullen Road' 'Hawkins St']\n",
      "{7246, 6318, 6320, 6319, 4594}\n",
      "{7246, 6318, 6320, 6319, 4594}\n",
      "[7246, 6318, 6320, 6319, 4594]\n",
      "First lines: (7645, 15)\n",
      "Valid Journeys: 4272\n",
      "Pattern: 1001\n",
      "['Clongriffin' 'Eden Quay']\n",
      "{6282, 4886, 4887, 6326, 6335}\n",
      "{6282, 4886, 4887, 6326, 6335}\n",
      "[6282, 4886, 4887, 6326, 6335]\n",
      "First lines: (5058, 15)\n",
      "Valid Journeys: 4247\n"
     ]
    }
   ],
   "source": [
    "newdf = filter_direction2(df, schedule)"
   ]
  },
  {
   "cell_type": "code",
   "execution_count": 79,
   "metadata": {
    "collapsed": false
   },
   "outputs": [],
   "source": [
    "newdf.to_csv('bus_data/clean_data_rough/' + line + '.csv')"
   ]
  },
  {
   "cell_type": "code",
   "execution_count": 80,
   "metadata": {
    "collapsed": false
   },
   "outputs": [
    {
     "data": {
      "text/html": [
       "<div>\n",
       "<table border=\"1\" class=\"dataframe\">\n",
       "  <thead>\n",
       "    <tr style=\"text-align: right;\">\n",
       "      <th></th>\n",
       "      <th>Timestamp</th>\n",
       "      <th>LineID</th>\n",
       "      <th>JourneyPatternID</th>\n",
       "      <th>TimeFrame</th>\n",
       "      <th>VehicleJourneyID</th>\n",
       "      <th>Lon</th>\n",
       "      <th>Lat</th>\n",
       "      <th>VehicleID</th>\n",
       "      <th>StopID</th>\n",
       "      <th>AtStop</th>\n",
       "      <th>HumanTime</th>\n",
       "      <th>Day</th>\n",
       "      <th>Hour</th>\n",
       "      <th>JourneyGroup</th>\n",
       "      <th>Runtime</th>\n",
       "    </tr>\n",
       "  </thead>\n",
       "  <tbody>\n",
       "    <tr>\n",
       "      <th>185</th>\n",
       "      <td>1352181603000000</td>\n",
       "      <td>15</td>\n",
       "      <td>1</td>\n",
       "      <td>2012-11-06</td>\n",
       "      <td>5891</td>\n",
       "      <td>-6.151784</td>\n",
       "      <td>53.402409</td>\n",
       "      <td>33553</td>\n",
       "      <td>6318</td>\n",
       "      <td>0</td>\n",
       "      <td>2012-11-06 06:00:03</td>\n",
       "      <td>1</td>\n",
       "      <td>6</td>\n",
       "      <td>2012-11-065891</td>\n",
       "      <td>0</td>\n",
       "    </tr>\n",
       "    <tr>\n",
       "      <th>190</th>\n",
       "      <td>1352181644000000</td>\n",
       "      <td>15</td>\n",
       "      <td>1</td>\n",
       "      <td>2012-11-06</td>\n",
       "      <td>5891</td>\n",
       "      <td>-6.153783</td>\n",
       "      <td>53.402687</td>\n",
       "      <td>33553</td>\n",
       "      <td>6319</td>\n",
       "      <td>1</td>\n",
       "      <td>2012-11-06 06:00:44</td>\n",
       "      <td>1</td>\n",
       "      <td>6</td>\n",
       "      <td>2012-11-065891</td>\n",
       "      <td>41</td>\n",
       "    </tr>\n",
       "    <tr>\n",
       "      <th>194</th>\n",
       "      <td>1352181683000000</td>\n",
       "      <td>15</td>\n",
       "      <td>1</td>\n",
       "      <td>2012-11-06</td>\n",
       "      <td>5891</td>\n",
       "      <td>-6.158463</td>\n",
       "      <td>53.402805</td>\n",
       "      <td>33553</td>\n",
       "      <td>7246</td>\n",
       "      <td>0</td>\n",
       "      <td>2012-11-06 06:01:23</td>\n",
       "      <td>1</td>\n",
       "      <td>6</td>\n",
       "      <td>2012-11-065891</td>\n",
       "      <td>80</td>\n",
       "    </tr>\n",
       "    <tr>\n",
       "      <th>202</th>\n",
       "      <td>1352181764000000</td>\n",
       "      <td>15</td>\n",
       "      <td>1</td>\n",
       "      <td>2012-11-06</td>\n",
       "      <td>5891</td>\n",
       "      <td>-6.162246</td>\n",
       "      <td>53.401226</td>\n",
       "      <td>33553</td>\n",
       "      <td>6320</td>\n",
       "      <td>0</td>\n",
       "      <td>2012-11-06 06:02:44</td>\n",
       "      <td>1</td>\n",
       "      <td>6</td>\n",
       "      <td>2012-11-065891</td>\n",
       "      <td>161</td>\n",
       "    </tr>\n",
       "    <tr>\n",
       "      <th>208</th>\n",
       "      <td>1352181825000000</td>\n",
       "      <td>15</td>\n",
       "      <td>1</td>\n",
       "      <td>2012-11-06</td>\n",
       "      <td>5891</td>\n",
       "      <td>-6.163521</td>\n",
       "      <td>53.399288</td>\n",
       "      <td>33553</td>\n",
       "      <td>4594</td>\n",
       "      <td>1</td>\n",
       "      <td>2012-11-06 06:03:45</td>\n",
       "      <td>1</td>\n",
       "      <td>6</td>\n",
       "      <td>2012-11-065891</td>\n",
       "      <td>222</td>\n",
       "    </tr>\n",
       "  </tbody>\n",
       "</table>\n",
       "</div>"
      ],
      "text/plain": [
       "            Timestamp  LineID  JourneyPatternID   TimeFrame VehicleJourneyID  \\\n",
       "185  1352181603000000      15                 1  2012-11-06             5891   \n",
       "190  1352181644000000      15                 1  2012-11-06             5891   \n",
       "194  1352181683000000      15                 1  2012-11-06             5891   \n",
       "202  1352181764000000      15                 1  2012-11-06             5891   \n",
       "208  1352181825000000      15                 1  2012-11-06             5891   \n",
       "\n",
       "          Lon        Lat  VehicleID  StopID  AtStop           HumanTime  Day  \\\n",
       "185 -6.151784  53.402409      33553    6318       0 2012-11-06 06:00:03    1   \n",
       "190 -6.153783  53.402687      33553    6319       1 2012-11-06 06:00:44    1   \n",
       "194 -6.158463  53.402805      33553    7246       0 2012-11-06 06:01:23    1   \n",
       "202 -6.162246  53.401226      33553    6320       0 2012-11-06 06:02:44    1   \n",
       "208 -6.163521  53.399288      33553    4594       1 2012-11-06 06:03:45    1   \n",
       "\n",
       "     Hour    JourneyGroup  Runtime  \n",
       "185     6  2012-11-065891        0  \n",
       "190     6  2012-11-065891       41  \n",
       "194     6  2012-11-065891       80  \n",
       "202     6  2012-11-065891      161  \n",
       "208     6  2012-11-065891      222  "
      ]
     },
     "execution_count": 80,
     "metadata": {},
     "output_type": "execute_result"
    }
   ],
   "source": [
    "newdf.head()"
   ]
  },
  {
   "cell_type": "code",
   "execution_count": null,
   "metadata": {
    "collapsed": true
   },
   "outputs": [],
   "source": []
  },
  {
   "cell_type": "code",
   "execution_count": null,
   "metadata": {
    "collapsed": true
   },
   "outputs": [],
   "source": []
  },
  {
   "cell_type": "code",
   "execution_count": null,
   "metadata": {
    "collapsed": false
   },
   "outputs": [],
   "source": [
    "df.head()"
   ]
  },
  {
   "cell_type": "code",
   "execution_count": null,
   "metadata": {
    "collapsed": true
   },
   "outputs": [],
   "source": [
    "df = df[df.JourneyPatternID == 1]"
   ]
  },
  {
   "cell_type": "code",
   "execution_count": null,
   "metadata": {
    "collapsed": false
   },
   "outputs": [],
   "source": [
    "df.StopID.unique().shape"
   ]
  },
  {
   "cell_type": "code",
   "execution_count": null,
   "metadata": {
    "collapsed": true
   },
   "outputs": [],
   "source": []
  },
  {
   "cell_type": "code",
   "execution_count": null,
   "metadata": {
    "collapsed": true
   },
   "outputs": [],
   "source": []
  },
  {
   "cell_type": "code",
   "execution_count": null,
   "metadata": {
    "collapsed": false
   },
   "outputs": [],
   "source": [
    "out = df[df.JourneyPatternID == 1]\n",
    "\n",
    "out = out.groupby(['StopID'])['Runtime'].mean().reset_index()\n",
    "\n",
    "# out\n",
    "# out.sort_values(['Runtime'])\n"
   ]
  },
  {
   "cell_type": "code",
   "execution_count": null,
   "metadata": {
    "collapsed": false
   },
   "outputs": [],
   "source": [
    "journeys = df.JourneyGroup.unique()\n",
    "journeys = journeys[:100]"
   ]
  },
  {
   "cell_type": "code",
   "execution_count": null,
   "metadata": {
    "collapsed": false
   },
   "outputs": [],
   "source": [
    "negs = df[(df.Runtime < 0)]\n",
    "negs.head(100)"
   ]
  },
  {
   "cell_type": "code",
   "execution_count": null,
   "metadata": {
    "collapsed": false
   },
   "outputs": [],
   "source": [
    "# for index in journeys:\n",
    "#     for i in range(1000):\n",
    "#         first = df[df.JourneyGroup == index].head(1)\n",
    "#     #     if first.Runtime < 0:\n",
    "#     #         print(first[['HumanTime', 'Runtime']])\n",
    "#         print(first[['JourneyGroup', 'Runtime']])"
   ]
  },
  {
   "cell_type": "code",
   "execution_count": null,
   "metadata": {
    "collapsed": false
   },
   "outputs": [],
   "source": [
    "journey = df[df.JourneyGroup == \"2012-11-065815\"]\n",
    "times = journey[['HumanTime', 'Runtime']]\n",
    "\n",
    "# middle = journey[(journey.Runtime < 10000) & (times.Runtime > -1000)]\n",
    "\n",
    "# middle\n",
    "\n",
    "journey.tail()\n"
   ]
  },
  {
   "cell_type": "code",
   "execution_count": null,
   "metadata": {
    "collapsed": true
   },
   "outputs": [],
   "source": [
    "# 6282"
   ]
  },
  {
   "cell_type": "code",
   "execution_count": null,
   "metadata": {
    "collapsed": false
   },
   "outputs": [],
   "source": [
    "times.plot()"
   ]
  },
  {
   "cell_type": "code",
   "execution_count": null,
   "metadata": {
    "collapsed": true
   },
   "outputs": [],
   "source": []
  },
  {
   "cell_type": "code",
   "execution_count": null,
   "metadata": {
    "collapsed": true
   },
   "outputs": [],
   "source": []
  },
  {
   "cell_type": "code",
   "execution_count": null,
   "metadata": {
    "collapsed": false
   },
   "outputs": [],
   "source": [
    "df.JourneyGroup.value_counts().plot()"
   ]
  },
  {
   "cell_type": "code",
   "execution_count": null,
   "metadata": {
    "collapsed": false
   },
   "outputs": [],
   "source": [
    "locations = newdf[[\"Lon\", \"Lat\"]]\n",
    "locations.plot.scatter(x=\"Lon\", y=\"Lat\")"
   ]
  },
  {
   "cell_type": "code",
   "execution_count": null,
   "metadata": {
    "collapsed": true
   },
   "outputs": [],
   "source": []
  },
  {
   "cell_type": "code",
   "execution_count": null,
   "metadata": {
    "collapsed": true
   },
   "outputs": [],
   "source": []
  },
  {
   "cell_type": "code",
   "execution_count": null,
   "metadata": {
    "collapsed": false
   },
   "outputs": [],
   "source": [
    "newdf.JourneyGroup.unique()"
   ]
  },
  {
   "cell_type": "code",
   "execution_count": null,
   "metadata": {
    "collapsed": false
   },
   "outputs": [],
   "source": [
    "xxxx = df[df.JourneyGroup == \"2013-01-085057\"]\n",
    "xxxx.shape"
   ]
  },
  {
   "cell_type": "code",
   "execution_count": null,
   "metadata": {
    "collapsed": true
   },
   "outputs": [],
   "source": [
    "firstlines = patterndf.groupby([\"TimeFrame\", \"VehicleJourneyID\"]).head(1)\n",
    "\n"
   ]
  },
  {
   "cell_type": "code",
   "execution_count": null,
   "metadata": {
    "collapsed": true
   },
   "outputs": [],
   "source": [
    "# ADDING RUNTIME COLUMN - THIS CAN REMAIN UNCHANGED\n",
    "\n",
    "# # Putting the first sightings of a vehiclejourneyid and timeframe combo timestamp into a dictionary\n",
    "# start_times = {}\n",
    "\n",
    "# # This gives you the first line anything has been seen by\n",
    "# firstlines = df.groupby([\"TimeFrame\", \"VehicleJourneyID\"]).head(1)\n",
    "\n",
    "# # This iterates through them and assigns values to the dictionary\n",
    "# for index, row in firstlines.iterrows():\n",
    "#     start_times[row.TimeFrame, row.VehicleJourneyID] = {\"time\":row.Timestamp, \"loc\":[row.Lat, row.Lon]}\n",
    "\n",
    "\n",
    "# df['Runtime'] = \"\"\n",
    "\n",
    "# # Applies this function to the newdf\n",
    "# df['Runtime'] = df.apply(lambda row: add_runtime(row, start_times),axis=1)"
   ]
  },
  {
   "cell_type": "code",
   "execution_count": null,
   "metadata": {
    "collapsed": true
   },
   "outputs": [],
   "source": []
  },
  {
   "cell_type": "code",
   "execution_count": null,
   "metadata": {
    "collapsed": true
   },
   "outputs": [],
   "source": []
  },
  {
   "cell_type": "code",
   "execution_count": null,
   "metadata": {
    "collapsed": true
   },
   "outputs": [],
   "source": []
  }
 ],
 "metadata": {
  "kernelspec": {
   "display_name": "Python 3",
   "language": "python",
   "name": "python3"
  },
  "language_info": {
   "codemirror_mode": {
    "name": "ipython",
    "version": 3
   },
   "file_extension": ".py",
   "mimetype": "text/x-python",
   "name": "python",
   "nbconvert_exporter": "python",
   "pygments_lexer": "ipython3",
   "version": "3.6.0"
  }
 },
 "nbformat": 4,
 "nbformat_minor": 2
}
