{
 "cells": [
  {
   "cell_type": "code",
   "execution_count": 168,
   "metadata": {
    "collapsed": true
   },
   "outputs": [],
   "source": [
    "import pandas as pd\n",
    "import os\n",
    "import time\n",
    "\n",
    "import matplotlib.pyplot as plt\n",
    "%matplotlib inline"
   ]
  },
  {
   "cell_type": "code",
   "execution_count": 221,
   "metadata": {
    "collapsed": false
   },
   "outputs": [],
   "source": [
    "# MIGHT HAVE TO CHANGE COLUMN NAMES - NOT SURE IF I HAVE THE CORRECT AMOUNT\n",
    "\n",
    "def read_data(filename):\n",
    "\n",
    "    df = pd.read_csv(filename, low_memory=False, header=None)\n",
    "    df.columns = [\"Timestamp\", \"LineID\", \"Direction\", \"JourneyPatternID\", \"TimeFrame\",\n",
    "                  \"VehicleJourneyID\", \"Operator\", \"Congestion\", \"Lon\", \"Lat\",\n",
    "                  \"Delay\", \"BlockID\", \"VehicleID\", \"StopID\", \"AtStop\"]\n",
    "    \n",
    "    return df"
   ]
  },
  {
   "cell_type": "code",
   "execution_count": 222,
   "metadata": {
    "collapsed": true
   },
   "outputs": [],
   "source": [
    "# ADDING HOUR, DAY, HUMANTIME COLUMNS\n",
    "# DROPPING IRRELEVANT COLUMNS\n",
    "# CAN REMAIN UNCHANGED - MIGHT WANT TO MAKE HOUR MORE GRANULAR? \n",
    "\n",
    "def add_features(df):\n",
    "\n",
    "    # Add column for human readable time\n",
    "    df['HumanTime'] = pd.to_datetime(df['Timestamp'], unit='us')\n",
    "\n",
    "\n",
    "    # Add day of week column\n",
    "    df['Day'] = df['HumanTime'].dt.dayofweek\n",
    "\n",
    "    # Add hour of day column\n",
    "    df['Hour'] = df['HumanTime'].dt.hour\n",
    "\n",
    "\n",
    "    # Dropping irrelevant columns\n",
    "    for column in ['BlockID', 'Direction', 'Operator', 'Delay', 'Congestion']:\n",
    "        df = df.drop(column, 1)\n",
    "    \n",
    "    return df"
   ]
  },
  {
   "cell_type": "code",
   "execution_count": 223,
   "metadata": {
    "collapsed": false
   },
   "outputs": [],
   "source": [
    "# REMOVE ALL JOURNEYS WHERE BUS DOESN'T START AT CORRECT STOP HERE\n",
    "# FIND MOST COMMON STARTING STOP, DROP ALL JOURNEYS WHICH DON'T HAVE THIS\n",
    "# AS THEIR FIRST STOP\n",
    "\n",
    "def filter_direction(df):\n",
    "\n",
    "    # converting data, adding compound feature\n",
    "    for column in ['TimeFrame', 'VehicleJourneyID',]:\n",
    "            df[column] = df[column].astype('str')\n",
    "\n",
    "    df[\"JourneyGroup\"] = df[\"TimeFrame\"] + df[\"VehicleJourneyID\"]\n",
    "\n",
    "\n",
    "    patterns = df.JourneyPatternID.unique()\n",
    "\n",
    "    tempdf = pd.DataFrame()\n",
    "\n",
    "    for pattern in patterns:\n",
    "        patterndf = df[df.JourneyPatternID == pattern]\n",
    "\n",
    "        firstlines = patterndf.groupby([\"TimeFrame\", \"VehicleJourneyID\"]).head(1)\n",
    "        start = firstlines.StopID.mode()[0]\n",
    "        #     print(start)\n",
    "\n",
    "        # Getting all journeys that start at the right stop\n",
    "        valid_journeys = []\n",
    "        for index, row in firstlines.iterrows():\n",
    "            if row.StopID == start:\n",
    "                valid_journeys.append(row.JourneyGroup)\n",
    "\n",
    "        # removing journeys that don't start at the right stop\n",
    "        patterndf = patterndf[patterndf.JourneyGroup.isin(valid_journeys)]\n",
    "\n",
    "\n",
    "        if tempdf.empty:\n",
    "            tempdf = patterndf\n",
    "\n",
    "        else: \n",
    "            tempdf = pd.concat([tempdf, patterndf], axis=0)\n",
    "\n",
    "    return tempdf"
   ]
  },
  {
   "cell_type": "code",
   "execution_count": 224,
   "metadata": {
    "collapsed": true
   },
   "outputs": [],
   "source": [
    "# DROPPING ROWS WHERE BUS ISN'T AT STOP \n",
    "# THIS SECTION NEEDS TO BE CHANGED, INCLUDE ONLY ROWS WHERE STOPID CHANGES\n",
    "\n",
    "def drop_rows(df):\n",
    "\n",
    "    # drop duplicate rows\n",
    "    df = df.drop_duplicates([\"TimeFrame\", \"VehicleJourneyID\", \"StopID\"])\n",
    "\n",
    "    # mean = df.JourneyGroup.value_counts().mean()\n",
    "    # drop trips with less than 5 stops\n",
    "    df = df[df.groupby('JourneyGroup').JourneyGroup.transform(len) > 5]\n",
    "    \n",
    "    return df"
   ]
  },
  {
   "cell_type": "code",
   "execution_count": 225,
   "metadata": {
    "collapsed": true
   },
   "outputs": [],
   "source": [
    "def runtime_function(row, mydict):\n",
    "    # Takes a row and a dictionary of start times\n",
    "    # returns time elapsed (seconds) between that row's timestamp and the start of the line\n",
    "    start = mydict[row.TimeFrame, row.VehicleJourneyID][\"time\"]\n",
    "    current = row.Timestamp\n",
    "    return (current - start) // 1000000"
   ]
  },
  {
   "cell_type": "code",
   "execution_count": 226,
   "metadata": {
    "collapsed": false
   },
   "outputs": [],
   "source": [
    "# ADDING RUNTIME COLUMN - THIS CAN REMAIN UNCHANGED\n",
    "\n",
    "def add_runtime(df):\n",
    "    # Putting the first sightings of a vehiclejourneyid and timeframe combo timestamp into a dictionary\n",
    "    start_times = {}\n",
    "\n",
    "    # This gives you the first line anything has been seen by\n",
    "    firstlines = df.groupby([\"TimeFrame\", \"VehicleID\", \"VehicleJourneyID\"]).head(1)\n",
    "\n",
    "    # This iterates through them and assigns values to the dictionary\n",
    "    for index, row in firstlines.iterrows():\n",
    "        start_times[row.TimeFrame, row.VehicleJourneyID] = {\"time\":row.Timestamp, \"loc\":[row.Lat, row.Lon]}\n",
    "\n",
    "\n",
    "    df['Runtime'] = \"\"\n",
    "\n",
    "    # Applies this function to the newdf\n",
    "    df['Runtime'] = df.apply(lambda row: runtime_function(row, start_times),axis=1)\n",
    "    \n",
    "    return df"
   ]
  },
  {
   "cell_type": "code",
   "execution_count": 227,
   "metadata": {
    "collapsed": true
   },
   "outputs": [],
   "source": [
    "def insert_into_file(df, writefile):\n",
    "    \"\"\"  This function writes a dataframe (df) to a file (writefile),\n",
    "        or does nothing if the file doesn't exist\n",
    "        \n",
    "        CHANGED FROM OTHER\n",
    "    \"\"\"\n",
    "    try:\n",
    "        with open(writefile, 'a') as f:\n",
    "#             df.to_csv(f, header=False, index=False)\n",
    "            print(writefile, \"exists\")\n",
    "            pass\n",
    "    except IOError:\n",
    "        with open(writefile, 'w+') as f:\n",
    "            df.to_csv(f, header=False, index=False)\n"
   ]
  },
  {
   "cell_type": "code",
   "execution_count": 235,
   "metadata": {
    "collapsed": true
   },
   "outputs": [],
   "source": [
    "def main(read_directory, write_directory):\n",
    "    for read_file in os.listdir(read_directory):\n",
    "        if read_file.endswith(\".csv\"):\n",
    "            if os.path.isfile(write_directory + \"/\" + read_file):\n",
    "                print(read_file, \"exists\")\n",
    "            else:\n",
    "                print(\"Reading\", read_file, \"from\", read_directory)\n",
    "\n",
    "                df = read_data(read_directory + \"/\" + read_file)\n",
    "                df = add_features(df)\n",
    "                df = filter_direction(df)\n",
    "                df = drop_rows(df)\n",
    "                df = add_runtime(df)\n",
    "                \n",
    "                with open(write_directory + \"/\" + read_file, 'w+') as f:\n",
    "                    df.to_csv(f, header=False, index=False)\n",
    "\n",
    "                print(\"Finished\", read_file)\n",
    "                print()\n",
    "    print(\"Finished main!\")"
   ]
  },
  {
   "cell_type": "code",
   "execution_count": null,
   "metadata": {
    "collapsed": false
   },
   "outputs": [
    {
     "name": "stdout",
     "output_type": "stream",
     "text": [
      "Reading 1.csv from bus_data/line_data2\n",
      "Finished 1.csv\n",
      "\n",
      "Reading 102.csv from bus_data/line_data2\n",
      "Finished 102.csv\n",
      "\n",
      "Reading 104.csv from bus_data/line_data2\n",
      "Finished 104.csv\n",
      "\n",
      "Reading 11.csv from bus_data/line_data2\n",
      "Finished 11.csv\n",
      "\n",
      "Reading 111.csv from bus_data/line_data2\n",
      "Finished 111.csv\n",
      "\n",
      "Reading 114.csv from bus_data/line_data2\n",
      "Finished 114.csv\n",
      "\n",
      "Reading 116.csv from bus_data/line_data2\n",
      "Finished 116.csv\n",
      "\n",
      "Reading 118.csv from bus_data/line_data2\n",
      "Finished 118.csv\n",
      "\n",
      "Reading 120.csv from bus_data/line_data2\n",
      "Finished 120.csv\n",
      "\n",
      "Reading 122.csv from bus_data/line_data2\n",
      "Finished 122.csv\n",
      "\n",
      "Reading 123.csv from bus_data/line_data2\n",
      "Finished 123.csv\n",
      "\n",
      "Reading 13.csv from bus_data/line_data2\n",
      "Finished 13.csv\n",
      "\n",
      "Reading 130.csv from bus_data/line_data2\n",
      "Finished 130.csv\n",
      "\n",
      "Reading 14.csv from bus_data/line_data2\n",
      "Finished 14.csv\n",
      "\n",
      "Reading 140.csv from bus_data/line_data2\n",
      "Finished 140.csv\n",
      "\n",
      "Reading 142.csv from bus_data/line_data2\n",
      "Finished 142.csv\n",
      "\n",
      "Reading 145.csv from bus_data/line_data2\n",
      "Finished 145.csv\n",
      "\n",
      "Reading 14C.csv from bus_data/line_data2\n",
      "Finished 14C.csv\n",
      "\n",
      "Reading 15.csv from bus_data/line_data2\n",
      "Finished 15.csv\n",
      "\n",
      "Reading 150.csv from bus_data/line_data2\n",
      "Finished 150.csv\n",
      "\n",
      "Reading 151.csv from bus_data/line_data2\n",
      "Finished 151.csv\n",
      "\n",
      "Reading 15A.csv from bus_data/line_data2\n",
      "Finished 15A.csv\n",
      "\n",
      "Reading 15B.csv from bus_data/line_data2\n",
      "Finished 15B.csv\n",
      "\n",
      "Reading 16.csv from bus_data/line_data2\n"
     ]
    }
   ],
   "source": [
    "read_directory = \"bus_data/line_data2\"\n",
    "write_directory = \"bus_data/clean_data2\"\n",
    "\n",
    "main(read_directory, write_directory)"
   ]
  },
  {
   "cell_type": "code",
   "execution_count": null,
   "metadata": {
    "collapsed": true
   },
   "outputs": [],
   "source": []
  },
  {
   "cell_type": "code",
   "execution_count": null,
   "metadata": {
    "collapsed": true
   },
   "outputs": [],
   "source": []
  },
  {
   "cell_type": "code",
   "execution_count": 229,
   "metadata": {
    "collapsed": false
   },
   "outputs": [],
   "source": [
    "readfile = \"bus_data/line_data2/15.csv\"\n",
    "\n",
    "df = read_data(readfile)\n",
    "df = add_features(df)\n",
    "df = filter_direction(df)\n",
    "df = drop_rows(df)\n",
    "df = add_runtime(df)"
   ]
  },
  {
   "cell_type": "code",
   "execution_count": 230,
   "metadata": {
    "collapsed": false
   },
   "outputs": [
    {
     "data": {
      "text/html": [
       "<div>\n",
       "<table border=\"1\" class=\"dataframe\">\n",
       "  <thead>\n",
       "    <tr style=\"text-align: right;\">\n",
       "      <th></th>\n",
       "      <th>Timestamp</th>\n",
       "      <th>LineID</th>\n",
       "      <th>JourneyPatternID</th>\n",
       "      <th>TimeFrame</th>\n",
       "      <th>VehicleJourneyID</th>\n",
       "      <th>Lon</th>\n",
       "      <th>Lat</th>\n",
       "      <th>VehicleID</th>\n",
       "      <th>StopID</th>\n",
       "      <th>AtStop</th>\n",
       "      <th>HumanTime</th>\n",
       "      <th>Day</th>\n",
       "      <th>Hour</th>\n",
       "      <th>JourneyGroup</th>\n",
       "      <th>Runtime</th>\n",
       "    </tr>\n",
       "  </thead>\n",
       "  <tbody>\n",
       "    <tr>\n",
       "      <th>2564395</th>\n",
       "      <td>1359632636000000</td>\n",
       "      <td>15</td>\n",
       "      <td>1001</td>\n",
       "      <td>2013-01-31</td>\n",
       "      <td>7271</td>\n",
       "      <td>-6.263947</td>\n",
       "      <td>53.333710</td>\n",
       "      <td>33020</td>\n",
       "      <td>1074</td>\n",
       "      <td>1</td>\n",
       "      <td>2013-01-31 11:43:56</td>\n",
       "      <td>3</td>\n",
       "      <td>11</td>\n",
       "      <td>2013-01-317271</td>\n",
       "      <td>2322</td>\n",
       "    </tr>\n",
       "    <tr>\n",
       "      <th>2564410</th>\n",
       "      <td>1359632653000000</td>\n",
       "      <td>15</td>\n",
       "      <td>1001</td>\n",
       "      <td>2013-01-31</td>\n",
       "      <td>5002</td>\n",
       "      <td>-6.213551</td>\n",
       "      <td>53.378284</td>\n",
       "      <td>33248</td>\n",
       "      <td>1196</td>\n",
       "      <td>0</td>\n",
       "      <td>2013-01-31 11:44:13</td>\n",
       "      <td>3</td>\n",
       "      <td>11</td>\n",
       "      <td>2013-01-315002</td>\n",
       "      <td>4156</td>\n",
       "    </tr>\n",
       "    <tr>\n",
       "      <th>2564418</th>\n",
       "      <td>1359632669000000</td>\n",
       "      <td>15</td>\n",
       "      <td>1001</td>\n",
       "      <td>2013-01-31</td>\n",
       "      <td>7264</td>\n",
       "      <td>-6.218322</td>\n",
       "      <td>53.375755</td>\n",
       "      <td>33488</td>\n",
       "      <td>4382</td>\n",
       "      <td>0</td>\n",
       "      <td>2013-01-31 11:44:29</td>\n",
       "      <td>3</td>\n",
       "      <td>11</td>\n",
       "      <td>2013-01-317264</td>\n",
       "      <td>3412</td>\n",
       "    </tr>\n",
       "    <tr>\n",
       "      <th>2564423</th>\n",
       "      <td>1359632669000000</td>\n",
       "      <td>15</td>\n",
       "      <td>1001</td>\n",
       "      <td>2013-01-31</td>\n",
       "      <td>7289</td>\n",
       "      <td>-6.285324</td>\n",
       "      <td>53.309166</td>\n",
       "      <td>33546</td>\n",
       "      <td>1163</td>\n",
       "      <td>0</td>\n",
       "      <td>2013-01-31 11:44:29</td>\n",
       "      <td>3</td>\n",
       "      <td>11</td>\n",
       "      <td>2013-01-317289</td>\n",
       "      <td>1158</td>\n",
       "    </tr>\n",
       "    <tr>\n",
       "      <th>2564430</th>\n",
       "      <td>1359632669000000</td>\n",
       "      <td>15</td>\n",
       "      <td>1001</td>\n",
       "      <td>2013-01-31</td>\n",
       "      <td>7278</td>\n",
       "      <td>-6.271373</td>\n",
       "      <td>53.315929</td>\n",
       "      <td>33018</td>\n",
       "      <td>1167</td>\n",
       "      <td>1</td>\n",
       "      <td>2013-01-31 11:44:29</td>\n",
       "      <td>3</td>\n",
       "      <td>11</td>\n",
       "      <td>2013-01-317278</td>\n",
       "      <td>1781</td>\n",
       "    </tr>\n",
       "  </tbody>\n",
       "</table>\n",
       "</div>"
      ],
      "text/plain": [
       "                Timestamp  LineID  JourneyPatternID   TimeFrame  \\\n",
       "2564395  1359632636000000      15              1001  2013-01-31   \n",
       "2564410  1359632653000000      15              1001  2013-01-31   \n",
       "2564418  1359632669000000      15              1001  2013-01-31   \n",
       "2564423  1359632669000000      15              1001  2013-01-31   \n",
       "2564430  1359632669000000      15              1001  2013-01-31   \n",
       "\n",
       "        VehicleJourneyID       Lon        Lat  VehicleID StopID  AtStop  \\\n",
       "2564395             7271 -6.263947  53.333710      33020   1074       1   \n",
       "2564410             5002 -6.213551  53.378284      33248   1196       0   \n",
       "2564418             7264 -6.218322  53.375755      33488   4382       0   \n",
       "2564423             7289 -6.285324  53.309166      33546   1163       0   \n",
       "2564430             7278 -6.271373  53.315929      33018   1167       1   \n",
       "\n",
       "                  HumanTime  Day  Hour    JourneyGroup  Runtime  \n",
       "2564395 2013-01-31 11:43:56    3    11  2013-01-317271     2322  \n",
       "2564410 2013-01-31 11:44:13    3    11  2013-01-315002     4156  \n",
       "2564418 2013-01-31 11:44:29    3    11  2013-01-317264     3412  \n",
       "2564423 2013-01-31 11:44:29    3    11  2013-01-317289     1158  \n",
       "2564430 2013-01-31 11:44:29    3    11  2013-01-317278     1781  "
      ]
     },
     "execution_count": 230,
     "metadata": {},
     "output_type": "execute_result"
    }
   ],
   "source": [
    "df.tail()"
   ]
  },
  {
   "cell_type": "code",
   "execution_count": 231,
   "metadata": {
    "collapsed": false
   },
   "outputs": [
    {
     "data": {
      "text/html": [
       "<div>\n",
       "<table border=\"1\" class=\"dataframe\">\n",
       "  <thead>\n",
       "    <tr style=\"text-align: right;\">\n",
       "      <th></th>\n",
       "      <th>Runtime</th>\n",
       "    </tr>\n",
       "  </thead>\n",
       "  <tbody>\n",
       "    <tr>\n",
       "      <th>2560467</th>\n",
       "      <td>0</td>\n",
       "    </tr>\n",
       "    <tr>\n",
       "      <th>2560892</th>\n",
       "      <td>418</td>\n",
       "    </tr>\n",
       "    <tr>\n",
       "      <th>2560975</th>\n",
       "      <td>500</td>\n",
       "    </tr>\n",
       "    <tr>\n",
       "      <th>2561046</th>\n",
       "      <td>578</td>\n",
       "    </tr>\n",
       "    <tr>\n",
       "      <th>2561074</th>\n",
       "      <td>760</td>\n",
       "    </tr>\n",
       "    <tr>\n",
       "      <th>2561082</th>\n",
       "      <td>762</td>\n",
       "    </tr>\n",
       "    <tr>\n",
       "      <th>2561116</th>\n",
       "      <td>782</td>\n",
       "    </tr>\n",
       "    <tr>\n",
       "      <th>2561135</th>\n",
       "      <td>801</td>\n",
       "    </tr>\n",
       "    <tr>\n",
       "      <th>2561246</th>\n",
       "      <td>922</td>\n",
       "    </tr>\n",
       "    <tr>\n",
       "      <th>2561403</th>\n",
       "      <td>1081</td>\n",
       "    </tr>\n",
       "    <tr>\n",
       "      <th>2561476</th>\n",
       "      <td>1158</td>\n",
       "    </tr>\n",
       "    <tr>\n",
       "      <th>2561554</th>\n",
       "      <td>1256</td>\n",
       "    </tr>\n",
       "    <tr>\n",
       "      <th>2561608</th>\n",
       "      <td>1298</td>\n",
       "    </tr>\n",
       "    <tr>\n",
       "      <th>2561648</th>\n",
       "      <td>1343</td>\n",
       "    </tr>\n",
       "    <tr>\n",
       "      <th>2561670</th>\n",
       "      <td>1364</td>\n",
       "    </tr>\n",
       "    <tr>\n",
       "      <th>2561704</th>\n",
       "      <td>1399</td>\n",
       "    </tr>\n",
       "    <tr>\n",
       "      <th>2561800</th>\n",
       "      <td>1499</td>\n",
       "    </tr>\n",
       "    <tr>\n",
       "      <th>2561861</th>\n",
       "      <td>1562</td>\n",
       "    </tr>\n",
       "    <tr>\n",
       "      <th>2561960</th>\n",
       "      <td>1660</td>\n",
       "    </tr>\n",
       "    <tr>\n",
       "      <th>2562016</th>\n",
       "      <td>1732</td>\n",
       "    </tr>\n",
       "    <tr>\n",
       "      <th>2562055</th>\n",
       "      <td>1775</td>\n",
       "    </tr>\n",
       "    <tr>\n",
       "      <th>2562093</th>\n",
       "      <td>1811</td>\n",
       "    </tr>\n",
       "    <tr>\n",
       "      <th>2562128</th>\n",
       "      <td>1837</td>\n",
       "    </tr>\n",
       "    <tr>\n",
       "      <th>2562190</th>\n",
       "      <td>1899</td>\n",
       "    </tr>\n",
       "    <tr>\n",
       "      <th>2562247</th>\n",
       "      <td>1962</td>\n",
       "    </tr>\n",
       "    <tr>\n",
       "      <th>2562329</th>\n",
       "      <td>2042</td>\n",
       "    </tr>\n",
       "    <tr>\n",
       "      <th>2562372</th>\n",
       "      <td>2082</td>\n",
       "    </tr>\n",
       "    <tr>\n",
       "      <th>2562396</th>\n",
       "      <td>2102</td>\n",
       "    </tr>\n",
       "    <tr>\n",
       "      <th>2562576</th>\n",
       "      <td>2282</td>\n",
       "    </tr>\n",
       "    <tr>\n",
       "      <th>2562739</th>\n",
       "      <td>2447</td>\n",
       "    </tr>\n",
       "    <tr>\n",
       "      <th>2562888</th>\n",
       "      <td>2589</td>\n",
       "    </tr>\n",
       "    <tr>\n",
       "      <th>2562968</th>\n",
       "      <td>2667</td>\n",
       "    </tr>\n",
       "    <tr>\n",
       "      <th>2563055</th>\n",
       "      <td>2749</td>\n",
       "    </tr>\n",
       "    <tr>\n",
       "      <th>2563359</th>\n",
       "      <td>3068</td>\n",
       "    </tr>\n",
       "    <tr>\n",
       "      <th>2563587</th>\n",
       "      <td>3297</td>\n",
       "    </tr>\n",
       "    <tr>\n",
       "      <th>2563690</th>\n",
       "      <td>3389</td>\n",
       "    </tr>\n",
       "    <tr>\n",
       "      <th>2563778</th>\n",
       "      <td>3488</td>\n",
       "    </tr>\n",
       "    <tr>\n",
       "      <th>2563845</th>\n",
       "      <td>3551</td>\n",
       "    </tr>\n",
       "    <tr>\n",
       "      <th>2563934</th>\n",
       "      <td>3646</td>\n",
       "    </tr>\n",
       "    <tr>\n",
       "      <th>2563972</th>\n",
       "      <td>3689</td>\n",
       "    </tr>\n",
       "    <tr>\n",
       "      <th>2564044</th>\n",
       "      <td>3769</td>\n",
       "    </tr>\n",
       "    <tr>\n",
       "      <th>2564117</th>\n",
       "      <td>3852</td>\n",
       "    </tr>\n",
       "    <tr>\n",
       "      <th>2564156</th>\n",
       "      <td>3888</td>\n",
       "    </tr>\n",
       "    <tr>\n",
       "      <th>2564216</th>\n",
       "      <td>3948</td>\n",
       "    </tr>\n",
       "    <tr>\n",
       "      <th>2564235</th>\n",
       "      <td>3967</td>\n",
       "    </tr>\n",
       "    <tr>\n",
       "      <th>2564274</th>\n",
       "      <td>4007</td>\n",
       "    </tr>\n",
       "    <tr>\n",
       "      <th>2564329</th>\n",
       "      <td>4074</td>\n",
       "    </tr>\n",
       "    <tr>\n",
       "      <th>2564410</th>\n",
       "      <td>4156</td>\n",
       "    </tr>\n",
       "  </tbody>\n",
       "</table>\n",
       "</div>"
      ],
      "text/plain": [
       "         Runtime\n",
       "2560467        0\n",
       "2560892      418\n",
       "2560975      500\n",
       "2561046      578\n",
       "2561074      760\n",
       "2561082      762\n",
       "2561116      782\n",
       "2561135      801\n",
       "2561246      922\n",
       "2561403     1081\n",
       "2561476     1158\n",
       "2561554     1256\n",
       "2561608     1298\n",
       "2561648     1343\n",
       "2561670     1364\n",
       "2561704     1399\n",
       "2561800     1499\n",
       "2561861     1562\n",
       "2561960     1660\n",
       "2562016     1732\n",
       "2562055     1775\n",
       "2562093     1811\n",
       "2562128     1837\n",
       "2562190     1899\n",
       "2562247     1962\n",
       "2562329     2042\n",
       "2562372     2082\n",
       "2562396     2102\n",
       "2562576     2282\n",
       "2562739     2447\n",
       "2562888     2589\n",
       "2562968     2667\n",
       "2563055     2749\n",
       "2563359     3068\n",
       "2563587     3297\n",
       "2563690     3389\n",
       "2563778     3488\n",
       "2563845     3551\n",
       "2563934     3646\n",
       "2563972     3689\n",
       "2564044     3769\n",
       "2564117     3852\n",
       "2564156     3888\n",
       "2564216     3948\n",
       "2564235     3967\n",
       "2564274     4007\n",
       "2564329     4074\n",
       "2564410     4156"
      ]
     },
     "execution_count": 231,
     "metadata": {},
     "output_type": "execute_result"
    }
   ],
   "source": [
    "journey = df[df.JourneyGroup == \"2013-01-315002\"]\n",
    "times = journey[['Runtime']]\n",
    "times"
   ]
  },
  {
   "cell_type": "code",
   "execution_count": 220,
   "metadata": {
    "collapsed": false
   },
   "outputs": [
    {
     "data": {
      "text/plain": [
       "<matplotlib.axes._subplots.AxesSubplot at 0x17b25bd30>"
      ]
     },
     "execution_count": 220,
     "metadata": {},
     "output_type": "execute_result"
    },
    {
     "data": {
      "image/png": "[encoded data removed]",
      "text/plain": [
       "<matplotlib.figure.Figure at 0x17b254f98>"
      ]
     },
     "metadata": {},
     "output_type": "display_data"
    }
   ],
   "source": [
    "times.plot()"
   ]
  },
  {
   "cell_type": "code",
   "execution_count": null,
   "metadata": {
    "collapsed": true
   },
   "outputs": [],
   "source": []
  },
  {
   "cell_type": "code",
   "execution_count": null,
   "metadata": {
    "collapsed": true
   },
   "outputs": [],
   "source": []
  },
  {
   "cell_type": "code",
   "execution_count": 148,
   "metadata": {
    "collapsed": false
   },
   "outputs": [
    {
     "data": {
      "text/plain": [
       "<matplotlib.axes._subplots.AxesSubplot at 0x1c59deac8>"
      ]
     },
     "execution_count": 148,
     "metadata": {},
     "output_type": "execute_result"
    },
    {
     "data": {
      "image/png": "[encoded data removed]",
      "text/plain": [
       "<matplotlib.figure.Figure at 0x1c5532278>"
      ]
     },
     "metadata": {},
     "output_type": "display_data"
    }
   ],
   "source": [
    "df.JourneyGroup.value_counts().plot()"
   ]
  },
  {
   "cell_type": "code",
   "execution_count": 149,
   "metadata": {
    "collapsed": false
   },
   "outputs": [
    {
     "data": {
      "text/plain": [
       "<matplotlib.axes._subplots.AxesSubplot at 0x1c554d518>"
      ]
     },
     "execution_count": 149,
     "metadata": {},
     "output_type": "execute_result"
    },
    {
     "data": {
      "image/png": "[encoded data removed]",
      "text/plain": [
       "<matplotlib.figure.Figure at 0x1c555d470>"
      ]
     },
     "metadata": {},
     "output_type": "display_data"
    }
   ],
   "source": [
    "locations = newdf[[\"Lon\", \"Lat\"]]\n",
    "locations.plot.scatter(x=\"Lon\", y=\"Lat\")"
   ]
  },
  {
   "cell_type": "code",
   "execution_count": null,
   "metadata": {
    "collapsed": true
   },
   "outputs": [],
   "source": []
  },
  {
   "cell_type": "code",
   "execution_count": null,
   "metadata": {
    "collapsed": true
   },
   "outputs": [],
   "source": []
  },
  {
   "cell_type": "code",
   "execution_count": 108,
   "metadata": {
    "collapsed": false
   },
   "outputs": [
    {
     "data": {
      "text/plain": [
       "array(['2012-11-065891', '2012-11-065899', '2012-11-065902', ...,\n",
       "       '2013-01-317271', '2013-01-317278', '2013-01-317289'], dtype=object)"
      ]
     },
     "execution_count": 108,
     "metadata": {},
     "output_type": "execute_result"
    }
   ],
   "source": [
    "newdf.JourneyGroup.unique()"
   ]
  },
  {
   "cell_type": "code",
   "execution_count": 109,
   "metadata": {
    "collapsed": false
   },
   "outputs": [
    {
     "data": {
      "text/plain": [
       "(71, 14)"
      ]
     },
     "execution_count": 109,
     "metadata": {},
     "output_type": "execute_result"
    }
   ],
   "source": [
    "xxxx = df[df.JourneyGroup == \"2013-01-085057\"]\n",
    "xxxx.shape"
   ]
  },
  {
   "cell_type": "code",
   "execution_count": null,
   "metadata": {
    "collapsed": true
   },
   "outputs": [],
   "source": [
    "firstlines = patterndf.groupby([\"TimeFrame\", \"VehicleJourneyID\"]).head(1)\n",
    "\n"
   ]
  },
  {
   "cell_type": "code",
   "execution_count": null,
   "metadata": {
    "collapsed": true
   },
   "outputs": [],
   "source": [
    "# ADDING RUNTIME COLUMN - THIS CAN REMAIN UNCHANGED\n",
    "\n",
    "# # Putting the first sightings of a vehiclejourneyid and timeframe combo timestamp into a dictionary\n",
    "# start_times = {}\n",
    "\n",
    "# # This gives you the first line anything has been seen by\n",
    "# firstlines = df.groupby([\"TimeFrame\", \"VehicleJourneyID\"]).head(1)\n",
    "\n",
    "# # This iterates through them and assigns values to the dictionary\n",
    "# for index, row in firstlines.iterrows():\n",
    "#     start_times[row.TimeFrame, row.VehicleJourneyID] = {\"time\":row.Timestamp, \"loc\":[row.Lat, row.Lon]}\n",
    "\n",
    "\n",
    "# df['Runtime'] = \"\"\n",
    "\n",
    "# # Applies this function to the newdf\n",
    "# df['Runtime'] = df.apply(lambda row: add_runtime(row, start_times),axis=1)"
   ]
  },
  {
   "cell_type": "code",
   "execution_count": null,
   "metadata": {
    "collapsed": true
   },
   "outputs": [],
   "source": []
  },
  {
   "cell_type": "code",
   "execution_count": null,
   "metadata": {
    "collapsed": true
   },
   "outputs": [],
   "source": []
  },
  {
   "cell_type": "code",
   "execution_count": null,
   "metadata": {
    "collapsed": true
   },
   "outputs": [],
   "source": []
  }
 ],
 "metadata": {
  "kernelspec": {
   "display_name": "Python 3",
   "language": "python",
   "name": "python3"
  },
  "language_info": {
   "codemirror_mode": {
    "name": "ipython",
    "version": 3
   },
   "file_extension": ".py",
   "mimetype": "text/x-python",
   "name": "python",
   "nbconvert_exporter": "python",
   "pygments_lexer": "ipython3",
   "version": "3.6.0"
  }
 },
 "nbformat": 4,
 "nbformat_minor": 2
}
