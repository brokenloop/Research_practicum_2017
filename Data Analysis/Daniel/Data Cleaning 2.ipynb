{
 "cells": [
  {
   "cell_type": "code",
   "execution_count": 249,
   "metadata": {
    "collapsed": true
   },
   "outputs": [],
   "source": [
    "import pandas as pd\n",
    "import os\n",
    "import time\n",
    "\n",
    "import matplotlib.pyplot as plt\n",
    "%matplotlib inline"
   ]
  },
  {
   "cell_type": "code",
   "execution_count": 250,
   "metadata": {
    "collapsed": false
   },
   "outputs": [],
   "source": [
    "# MIGHT HAVE TO CHANGE COLUMN NAMES - NOT SURE IF I HAVE THE CORRECT AMOUNT\n",
    "\n",
    "def read_data(filename):\n",
    "\n",
    "    df = pd.read_csv(filename, low_memory=False, header=None)\n",
    "    df.columns = [\"Timestamp\", \"LineID\", \"Direction\", \"JourneyPatternID\", \"TimeFrame\",\n",
    "                  \"VehicleJourneyID\", \"Operator\", \"Congestion\", \"Lon\", \"Lat\",\n",
    "                  \"Delay\", \"BlockID\", \"VehicleID\", \"StopID\", \"AtStop\"]\n",
    "    \n",
    "    return df"
   ]
  },
  {
   "cell_type": "code",
   "execution_count": 251,
   "metadata": {
    "collapsed": true
   },
   "outputs": [],
   "source": [
    "# ADDING HOUR, DAY, HUMANTIME COLUMNS\n",
    "# DROPPING IRRELEVANT COLUMNS\n",
    "# CAN REMAIN UNCHANGED - MIGHT WANT TO MAKE HOUR MORE GRANULAR? \n",
    "\n",
    "def add_features(df):\n",
    "\n",
    "    # Add column for human readable time\n",
    "    df['HumanTime'] = pd.to_datetime(df['Timestamp'], unit='us')\n",
    "\n",
    "\n",
    "    # Add day of week column\n",
    "    df['Day'] = df['HumanTime'].dt.dayofweek\n",
    "\n",
    "    # Add hour of day column\n",
    "    df['Hour'] = df['HumanTime'].dt.hour\n",
    "\n",
    "\n",
    "    # Dropping irrelevant columns\n",
    "    for column in ['BlockID', 'Direction', 'Operator', 'Delay', 'Congestion']:\n",
    "        df = df.drop(column, 1)\n",
    "    \n",
    "    return df"
   ]
  },
  {
   "cell_type": "code",
   "execution_count": 252,
   "metadata": {
    "collapsed": false
   },
   "outputs": [],
   "source": [
    "# REMOVE ALL JOURNEYS WHERE BUS DOESN'T START AT CORRECT STOP HERE\n",
    "# FIND MOST COMMON STARTING STOP, DROP ALL JOURNEYS WHICH DON'T HAVE THIS\n",
    "# AS THEIR FIRST STOP\n",
    "\n",
    "def filter_direction(df):\n",
    "\n",
    "    # converting data, adding compound feature\n",
    "    for column in ['TimeFrame', 'VehicleJourneyID',]:\n",
    "            df[column] = df[column].astype('str')\n",
    "\n",
    "    df[\"JourneyGroup\"] = df[\"TimeFrame\"] + df[\"VehicleJourneyID\"]\n",
    "\n",
    "\n",
    "    patterns = df.JourneyPatternID.unique()\n",
    "\n",
    "    tempdf = pd.DataFrame()\n",
    "\n",
    "    for pattern in patterns:\n",
    "        patterndf = df[df.JourneyPatternID == pattern]\n",
    "\n",
    "        firstlines = patterndf.groupby([\"TimeFrame\", \"VehicleJourneyID\"]).head(1)\n",
    "        start = firstlines.StopID.mode()[0]\n",
    "        #     print(start)\n",
    "\n",
    "        # Getting all journeys that start at the right stop\n",
    "        valid_journeys = []\n",
    "        for index, row in firstlines.iterrows():\n",
    "            if row.StopID == start:\n",
    "                valid_journeys.append(row.JourneyGroup)\n",
    "\n",
    "        # removing journeys that don't start at the right stop\n",
    "        patterndf = patterndf[patterndf.JourneyGroup.isin(valid_journeys)]\n",
    "\n",
    "\n",
    "        if tempdf.empty:\n",
    "            tempdf = patterndf\n",
    "\n",
    "        else: \n",
    "            tempdf = pd.concat([tempdf, patterndf], axis=0)\n",
    "\n",
    "    return tempdf"
   ]
  },
  {
   "cell_type": "code",
   "execution_count": 253,
   "metadata": {
    "collapsed": true
   },
   "outputs": [],
   "source": [
    "# DROPPING ROWS WHERE BUS ISN'T AT STOP \n",
    "# THIS SECTION NEEDS TO BE CHANGED, INCLUDE ONLY ROWS WHERE STOPID CHANGES\n",
    "\n",
    "def drop_rows(df):\n",
    "\n",
    "    # drop duplicate rows\n",
    "    df = df.drop_duplicates([\"TimeFrame\", \"VehicleJourneyID\", \"StopID\"])\n",
    "\n",
    "    # mean = df.JourneyGroup.value_counts().mean()\n",
    "    # drop trips with less than 5 stops\n",
    "    df = df[df.groupby('JourneyGroup').JourneyGroup.transform(len) > 5]\n",
    "    \n",
    "    return df"
   ]
  },
  {
   "cell_type": "code",
   "execution_count": 332,
   "metadata": {
    "collapsed": true
   },
   "outputs": [],
   "source": [
    "def runtime_function(row, mydict):\n",
    "    # Takes a row and a dictionary of start times\n",
    "    # returns time elapsed (seconds) between that row's timestamp and the start of the line\n",
    "#     start = mydict[row.TimeFrame, row.VehicleID, row.VehicleJourneyID][\"time\"]\n",
    "    start = mydict[row.TimeFrame, row.VehicleJourneyID][\"time\"]\n",
    "\n",
    "    current = row.Timestamp\n",
    "    return (current - start) // 1000000"
   ]
  },
  {
   "cell_type": "code",
   "execution_count": 333,
   "metadata": {
    "collapsed": false
   },
   "outputs": [],
   "source": [
    "# ADDING RUNTIME COLUMN - THIS CAN REMAIN UNCHANGED\n",
    "\n",
    "def add_runtime(df):\n",
    "    # Putting the first sightings of a vehiclejourneyid and timeframe combo timestamp into a dictionary\n",
    "    start_times = {}\n",
    "    \n",
    "#     df = df.sort_values(['Timestamp'])\n",
    "\n",
    "    # This gives you the first line anything has been seen by\n",
    "#     firstlines = df.groupby([\"TimeFrame\", \"VehicleID\", \"VehicleJourneyID\"]).head(1)\n",
    "    firstlines = df.groupby([\"TimeFrame\", \"VehicleJourneyID\"]).head(1)\n",
    "\n",
    "\n",
    "#     firstlines = firstlines.sort_values(['Timestamp']).head(1)\n",
    "\n",
    "    # This iterates through them and assigns values to the dictionary\n",
    "    for index, row in firstlines.iterrows():\n",
    "        start_times[row.TimeFrame, row.VehicleJourneyID] = {\"time\":row.Timestamp, \"loc\":[row.Lat, row.Lon]}\n",
    "\n",
    "#         start_times[row.TimeFrame, row.VehicleID, row.VehicleJourneyID] = {\"time\":row.Timestamp, \"loc\":[row.Lat, row.Lon]}\n",
    "\n",
    "\n",
    "    df['Runtime'] = \"\"\n",
    "\n",
    "    # Applies this function to the newdf\n",
    "    df['Runtime'] = df.apply(lambda row: runtime_function(row, start_times),axis=1)\n",
    "    \n",
    "    return df"
   ]
  },
  {
   "cell_type": "code",
   "execution_count": 334,
   "metadata": {
    "collapsed": true
   },
   "outputs": [],
   "source": [
    "def insert_into_file(df, writefile):\n",
    "    \"\"\"  This function writes a dataframe (df) to a file (writefile),\n",
    "        or does nothing if the file doesn't exist\n",
    "        \n",
    "        CHANGED FROM OTHER\n",
    "    \"\"\"\n",
    "    try:\n",
    "        with open(writefile, 'a') as f:\n",
    "#             df.to_csv(f, header=False, index=False)\n",
    "            print(writefile, \"exists\")\n",
    "            pass\n",
    "    except IOError:\n",
    "        with open(writefile, 'w+') as f:\n",
    "            df.to_csv(f, header=False, index=False)\n"
   ]
  },
  {
   "cell_type": "code",
   "execution_count": 318,
   "metadata": {
    "collapsed": false
   },
   "outputs": [],
   "source": [
    "def main(read_directory, write_directory):\n",
    "    for read_file in os.listdir(read_directory):\n",
    "        if read_file.endswith(\".csv\"):\n",
    "            if os.path.isfile(write_directory + \"/\" + read_file):\n",
    "                print(read_file, \"exists\")\n",
    "            else:\n",
    "                print(\"Reading\", read_file, \"from\", read_directory)\n",
    "                try:\n",
    "                    df = read_data(read_directory + \"/\" + read_file)\n",
    "                    df = add_features(df)\n",
    "                    df = filter_direction(df)\n",
    "                    df = drop_rows(df)\n",
    "                    df = add_runtime(df)\n",
    "\n",
    "                    with open(write_directory + \"/\" + read_file, 'w+') as f:\n",
    "                        df.to_csv(f, header=False, index=False)\n",
    "                except (ValueError, IndexError) as error:\n",
    "                    print(error, \"!\")\n",
    "                    print(\"Couldn't finish\", read_file)\n",
    "                    \n",
    "\n",
    "                print(\"Finished\", read_file)\n",
    "                print()\n",
    "    print(\"Finished main!\")"
   ]
  },
  {
   "cell_type": "code",
   "execution_count": 353,
   "metadata": {
    "collapsed": false,
    "scrolled": false
   },
   "outputs": [
    {
     "name": "stdout",
     "output_type": "stream",
     "text": [
      "Reading 1.csv from bus_data/line_data2\n",
      "Finished 1.csv\n",
      "\n",
      "Reading 102.csv from bus_data/line_data2\n",
      "Finished 102.csv\n",
      "\n",
      "Reading 104.csv from bus_data/line_data2\n",
      "Finished 104.csv\n",
      "\n",
      "Reading 11.csv from bus_data/line_data2\n",
      "Finished 11.csv\n",
      "\n",
      "Reading 111.csv from bus_data/line_data2\n",
      "Finished 111.csv\n",
      "\n",
      "Reading 114.csv from bus_data/line_data2\n",
      "Finished 114.csv\n",
      "\n",
      "Reading 116.csv from bus_data/line_data2\n",
      "Finished 116.csv\n",
      "\n",
      "Reading 118.csv from bus_data/line_data2\n",
      "Finished 118.csv\n",
      "\n",
      "Reading 120.csv from bus_data/line_data2\n",
      "Finished 120.csv\n",
      "\n",
      "Reading 122.csv from bus_data/line_data2\n",
      "Finished 122.csv\n",
      "\n",
      "Reading 123.csv from bus_data/line_data2\n",
      "Finished 123.csv\n",
      "\n",
      "Reading 13.csv from bus_data/line_data2\n",
      "Finished 13.csv\n",
      "\n",
      "Reading 130.csv from bus_data/line_data2\n",
      "Finished 130.csv\n",
      "\n",
      "Reading 14.csv from bus_data/line_data2\n",
      "Finished 14.csv\n",
      "\n",
      "Reading 140.csv from bus_data/line_data2\n",
      "Finished 140.csv\n",
      "\n",
      "Reading 142.csv from bus_data/line_data2\n",
      "Finished 142.csv\n",
      "\n",
      "Reading 145.csv from bus_data/line_data2\n",
      "Finished 145.csv\n",
      "\n",
      "Reading 14C.csv from bus_data/line_data2\n",
      "Finished 14C.csv\n",
      "\n",
      "Reading 15.csv from bus_data/line_data2\n",
      "Finished 15.csv\n",
      "\n",
      "Reading 150.csv from bus_data/line_data2\n",
      "Finished 150.csv\n",
      "\n",
      "Reading 151.csv from bus_data/line_data2\n",
      "Finished 151.csv\n",
      "\n",
      "Reading 15A.csv from bus_data/line_data2\n",
      "Finished 15A.csv\n",
      "\n",
      "Reading 15B.csv from bus_data/line_data2\n",
      "Finished 15B.csv\n",
      "\n",
      "Reading 16.csv from bus_data/line_data2\n",
      "Finished 16.csv\n",
      "\n",
      "Reading 161.csv from bus_data/line_data2\n",
      "Finished 161.csv\n",
      "\n",
      "Reading 16C.csv from bus_data/line_data2\n",
      "Finished 16C.csv\n",
      "\n",
      "Reading 17.csv from bus_data/line_data2\n",
      "Finished 17.csv\n",
      "\n",
      "Reading 17A.csv from bus_data/line_data2\n",
      "Finished 17A.csv\n",
      "\n",
      "Reading 18.csv from bus_data/line_data2\n",
      "Finished 18.csv\n",
      "\n",
      "Reading 184.csv from bus_data/line_data2\n",
      "Finished 184.csv\n",
      "\n",
      "Reading 185.csv from bus_data/line_data2\n",
      "Finished 185.csv\n",
      "\n",
      "Reading 220.csv from bus_data/line_data2\n",
      "Finished 220.csv\n",
      "\n",
      "Reading 236.csv from bus_data/line_data2\n",
      "Finished 236.csv\n",
      "\n",
      "Reading 238.csv from bus_data/line_data2\n",
      "Finished 238.csv\n",
      "\n",
      "Reading 239.csv from bus_data/line_data2\n",
      "Finished 239.csv\n",
      "\n",
      "Reading 25.csv from bus_data/line_data2\n",
      "Finished 25.csv\n",
      "\n",
      "Reading 25A.csv from bus_data/line_data2\n",
      "Finished 25A.csv\n",
      "\n",
      "Reading 25B.csv from bus_data/line_data2\n",
      "Finished 25B.csv\n",
      "\n",
      "Reading 25X.csv from bus_data/line_data2\n",
      "Finished 25X.csv\n",
      "\n",
      "Reading 26.csv from bus_data/line_data2\n",
      "Finished 26.csv\n",
      "\n",
      "Reading 27.csv from bus_data/line_data2\n",
      "Finished 27.csv\n",
      "\n",
      "Reading 270.csv from bus_data/line_data2\n",
      "Finished 270.csv\n",
      "\n",
      "Reading 27A.csv from bus_data/line_data2\n",
      "Finished 27A.csv\n",
      "\n",
      "Reading 27B.csv from bus_data/line_data2\n",
      "Finished 27B.csv\n",
      "\n",
      "Reading 27X.csv from bus_data/line_data2\n",
      "Finished 27X.csv\n",
      "\n",
      "Reading 29A.csv from bus_data/line_data2\n",
      "Finished 29A.csv\n",
      "\n",
      "Reading 31.csv from bus_data/line_data2\n",
      "Finished 31.csv\n",
      "\n",
      "Reading 31A.csv from bus_data/line_data2\n",
      "Finished 31A.csv\n",
      "\n",
      "Reading 31B.csv from bus_data/line_data2\n",
      "Finished 31B.csv\n",
      "\n",
      "Reading 32.csv from bus_data/line_data2\n",
      "Finished 32.csv\n",
      "\n",
      "Reading 32A.csv from bus_data/line_data2\n",
      "Finished 32A.csv\n",
      "\n",
      "Reading 32B.csv from bus_data/line_data2\n",
      "Finished 32B.csv\n",
      "\n",
      "Reading 32X.csv from bus_data/line_data2\n",
      "Finished 32X.csv\n",
      "\n",
      "Reading 33.csv from bus_data/line_data2\n",
      "Finished 33.csv\n",
      "\n",
      "Reading 33A.csv from bus_data/line_data2\n",
      "Finished 33A.csv\n",
      "\n",
      "Reading 33B.csv from bus_data/line_data2\n",
      "Finished 33B.csv\n",
      "\n",
      "Reading 33X.csv from bus_data/line_data2\n",
      "Finished 33X.csv\n",
      "\n",
      "Reading 37.csv from bus_data/line_data2\n",
      "Finished 37.csv\n",
      "\n",
      "Reading 38.csv from bus_data/line_data2\n",
      "Finished 38.csv\n",
      "\n",
      "Reading 38A.csv from bus_data/line_data2\n",
      "Finished 38A.csv\n",
      "\n",
      "Reading 38B.csv from bus_data/line_data2\n",
      "Finished 38B.csv\n",
      "\n",
      "Reading 39.csv from bus_data/line_data2\n",
      "Finished 39.csv\n",
      "\n",
      "Reading 39A.csv from bus_data/line_data2\n",
      "Finished 39A.csv\n",
      "\n",
      "Reading 4.csv from bus_data/line_data2\n",
      "Finished 4.csv\n",
      "\n",
      "Reading 40.csv from bus_data/line_data2\n",
      "Finished 40.csv\n",
      "\n",
      "Reading 40B.csv from bus_data/line_data2\n",
      "Finished 40B.csv\n",
      "\n",
      "Reading 40D.csv from bus_data/line_data2\n",
      "Finished 40D.csv\n",
      "\n",
      "Reading 41.csv from bus_data/line_data2\n",
      "Finished 41.csv\n",
      "\n",
      "Reading 41A.csv from bus_data/line_data2\n",
      "Finished 41A.csv\n",
      "\n",
      "Reading 41B.csv from bus_data/line_data2\n",
      "Cannot set a frame with no defined index and a value that cannot be converted to a Series !\n",
      "Couldn't finish 41B.csv\n",
      "Finished 41B.csv\n",
      "\n",
      "Reading 41C.csv from bus_data/line_data2\n",
      "Finished 41C.csv\n",
      "\n",
      "Reading 41X.csv from bus_data/line_data2\n",
      "Finished 41X.csv\n",
      "\n",
      "Reading 42.csv from bus_data/line_data2\n",
      "Finished 42.csv\n",
      "\n",
      "Reading 43.csv from bus_data/line_data2\n",
      "Finished 43.csv\n",
      "\n",
      "Reading 44.csv from bus_data/line_data2\n",
      "Finished 44.csv\n",
      "\n",
      "Reading 44B.csv from bus_data/line_data2\n",
      "Finished 44B.csv\n",
      "\n",
      "Reading 45A.csv from bus_data/line_data2\n",
      "Finished 45A.csv\n",
      "\n",
      "Reading 46A.csv from bus_data/line_data2\n",
      "Finished 46A.csv\n",
      "\n",
      "Reading 46E.csv from bus_data/line_data2\n",
      "Finished 46E.csv\n",
      "\n",
      "Reading 47.csv from bus_data/line_data2\n",
      "Finished 47.csv\n",
      "\n",
      "Reading 49.csv from bus_data/line_data2\n",
      "Finished 49.csv\n",
      "\n",
      "Reading 51D.csv from bus_data/line_data2\n",
      "Finished 51D.csv\n",
      "\n",
      "Reading 51X.csv from bus_data/line_data2\n",
      "Finished 51X.csv\n",
      "\n",
      "Reading 53.csv from bus_data/line_data2\n",
      "Finished 53.csv\n",
      "\n",
      "Reading 53B.csv from bus_data/line_data2\n",
      "index out of bounds !\n",
      "Couldn't finish 53B.csv\n",
      "Finished 53B.csv\n",
      "\n",
      "Reading 54A.csv from bus_data/line_data2\n",
      "Finished 54A.csv\n",
      "\n",
      "Reading 56A.csv from bus_data/line_data2\n",
      "Finished 56A.csv\n",
      "\n",
      "Reading 59.csv from bus_data/line_data2\n",
      "Finished 59.csv\n",
      "\n",
      "Reading 61.csv from bus_data/line_data2\n",
      "Finished 61.csv\n",
      "\n",
      "Reading 63.csv from bus_data/line_data2\n",
      "Finished 63.csv\n",
      "\n",
      "Reading 65.csv from bus_data/line_data2\n",
      "Finished 65.csv\n",
      "\n",
      "Reading 65B.csv from bus_data/line_data2\n",
      "Finished 65B.csv\n",
      "\n",
      "Reading 66.csv from bus_data/line_data2\n",
      "Finished 66.csv\n",
      "\n",
      "Reading 66A.csv from bus_data/line_data2\n",
      "Finished 66A.csv\n",
      "\n",
      "Reading 66B.csv from bus_data/line_data2\n",
      "Finished 66B.csv\n",
      "\n",
      "Reading 66X.csv from bus_data/line_data2\n",
      "Finished 66X.csv\n",
      "\n",
      "Reading 67.csv from bus_data/line_data2\n",
      "Finished 67.csv\n",
      "\n",
      "Reading 67X.csv from bus_data/line_data2\n",
      "Finished 67X.csv\n",
      "\n",
      "Reading 68.csv from bus_data/line_data2\n",
      "Finished 68.csv\n",
      "\n",
      "Reading 68A.csv from bus_data/line_data2\n",
      "Finished 68A.csv\n",
      "\n",
      "Reading 69.csv from bus_data/line_data2\n",
      "Finished 69.csv\n",
      "\n",
      "Reading 69X.csv from bus_data/line_data2\n",
      "Finished 69X.csv\n",
      "\n",
      "Reading 7.csv from bus_data/line_data2\n",
      "Finished 7.csv\n",
      "\n",
      "Reading 70.csv from bus_data/line_data2\n",
      "Finished 70.csv\n",
      "\n",
      "Reading 747.csv from bus_data/line_data2\n",
      "Finished 747.csv\n",
      "\n",
      "Reading 75.csv from bus_data/line_data2\n",
      "Finished 75.csv\n",
      "\n",
      "Reading 76.csv from bus_data/line_data2\n",
      "Finished 76.csv\n",
      "\n",
      "Reading 76A.csv from bus_data/line_data2\n",
      "Finished 76A.csv\n",
      "\n",
      "Reading 77A.csv from bus_data/line_data2\n",
      "Finished 77A.csv\n",
      "\n",
      "Reading 79.csv from bus_data/line_data2\n",
      "Finished 79.csv\n",
      "\n",
      "Reading 79A.csv from bus_data/line_data2\n",
      "Finished 79A.csv\n",
      "\n",
      "Reading 7B.csv from bus_data/line_data2\n",
      "Finished 7B.csv\n",
      "\n",
      "Reading 7D.csv from bus_data/line_data2\n",
      "Finished 7D.csv\n",
      "\n",
      "Reading 8.csv from bus_data/line_data2\n",
      "Finished 8.csv\n",
      "\n",
      "Reading 83.csv from bus_data/line_data2\n",
      "Finished 83.csv\n",
      "\n",
      "Reading 83A.csv from bus_data/line_data2\n",
      "Finished 83A.csv\n",
      "\n",
      "Reading 84.csv from bus_data/line_data2\n",
      "Finished 84.csv\n",
      "\n",
      "Reading 84A.csv from bus_data/line_data2\n",
      "Finished 84A.csv\n",
      "\n",
      "Reading 84X.csv from bus_data/line_data2\n",
      "Finished 84X.csv\n",
      "\n",
      "Reading 9.csv from bus_data/line_data2\n",
      "Finished 9.csv\n",
      "\n",
      "Reading PP07.csv from bus_data/line_data2\n",
      "Finished PP07.csv\n",
      "\n",
      "Finished main!\n"
     ]
    }
   ],
   "source": [
    "# MAIN SECTION\n",
    "\n",
    "read_directory = \"bus_data/line_data2\"\n",
    "write_directory = \"bus_data/clean_data2\"\n",
    "\n",
    "main(read_directory, write_directory)"
   ]
  },
  {
   "cell_type": "code",
   "execution_count": null,
   "metadata": {
    "collapsed": true
   },
   "outputs": [],
   "source": []
  },
  {
   "cell_type": "code",
   "execution_count": null,
   "metadata": {
    "collapsed": true
   },
   "outputs": [],
   "source": []
  },
  {
   "cell_type": "code",
   "execution_count": 335,
   "metadata": {
    "collapsed": false
   },
   "outputs": [],
   "source": [
    "# readfile = \"bus_data/line_data2/15.csv\"\n",
    "\n",
    "# df = read_data(readfile)\n",
    "# df = add_features(df)\n",
    "# df = filter_direction(df)\n",
    "# df = drop_rows(df)\n",
    "df = add_runtime(df)"
   ]
  },
  {
   "cell_type": "code",
   "execution_count": 336,
   "metadata": {
    "collapsed": false
   },
   "outputs": [
    {
     "data": {
      "text/html": [
       "<div>\n",
       "<table border=\"1\" class=\"dataframe\">\n",
       "  <thead>\n",
       "    <tr style=\"text-align: right;\">\n",
       "      <th></th>\n",
       "      <th>Timestamp</th>\n",
       "      <th>LineID</th>\n",
       "      <th>JourneyPatternID</th>\n",
       "      <th>TimeFrame</th>\n",
       "      <th>VehicleJourneyID</th>\n",
       "      <th>Lon</th>\n",
       "      <th>Lat</th>\n",
       "      <th>VehicleID</th>\n",
       "      <th>StopID</th>\n",
       "      <th>AtStop</th>\n",
       "      <th>HumanTime</th>\n",
       "      <th>Day</th>\n",
       "      <th>Hour</th>\n",
       "      <th>JourneyGroup</th>\n",
       "      <th>Runtime</th>\n",
       "    </tr>\n",
       "  </thead>\n",
       "  <tbody>\n",
       "    <tr>\n",
       "      <th>185</th>\n",
       "      <td>1352181603000000</td>\n",
       "      <td>15</td>\n",
       "      <td>1</td>\n",
       "      <td>2012-11-06</td>\n",
       "      <td>5891</td>\n",
       "      <td>-6.151784</td>\n",
       "      <td>53.402409</td>\n",
       "      <td>33553</td>\n",
       "      <td>6318</td>\n",
       "      <td>0</td>\n",
       "      <td>2012-11-06 06:00:03</td>\n",
       "      <td>1</td>\n",
       "      <td>6</td>\n",
       "      <td>2012-11-065891</td>\n",
       "      <td>0</td>\n",
       "    </tr>\n",
       "    <tr>\n",
       "      <th>190</th>\n",
       "      <td>1352181644000000</td>\n",
       "      <td>15</td>\n",
       "      <td>1</td>\n",
       "      <td>2012-11-06</td>\n",
       "      <td>5891</td>\n",
       "      <td>-6.153783</td>\n",
       "      <td>53.402687</td>\n",
       "      <td>33553</td>\n",
       "      <td>6319</td>\n",
       "      <td>1</td>\n",
       "      <td>2012-11-06 06:00:44</td>\n",
       "      <td>1</td>\n",
       "      <td>6</td>\n",
       "      <td>2012-11-065891</td>\n",
       "      <td>41</td>\n",
       "    </tr>\n",
       "    <tr>\n",
       "      <th>194</th>\n",
       "      <td>1352181683000000</td>\n",
       "      <td>15</td>\n",
       "      <td>1</td>\n",
       "      <td>2012-11-06</td>\n",
       "      <td>5891</td>\n",
       "      <td>-6.158463</td>\n",
       "      <td>53.402805</td>\n",
       "      <td>33553</td>\n",
       "      <td>7246</td>\n",
       "      <td>0</td>\n",
       "      <td>2012-11-06 06:01:23</td>\n",
       "      <td>1</td>\n",
       "      <td>6</td>\n",
       "      <td>2012-11-065891</td>\n",
       "      <td>80</td>\n",
       "    </tr>\n",
       "    <tr>\n",
       "      <th>202</th>\n",
       "      <td>1352181764000000</td>\n",
       "      <td>15</td>\n",
       "      <td>1</td>\n",
       "      <td>2012-11-06</td>\n",
       "      <td>5891</td>\n",
       "      <td>-6.162246</td>\n",
       "      <td>53.401226</td>\n",
       "      <td>33553</td>\n",
       "      <td>6320</td>\n",
       "      <td>0</td>\n",
       "      <td>2012-11-06 06:02:44</td>\n",
       "      <td>1</td>\n",
       "      <td>6</td>\n",
       "      <td>2012-11-065891</td>\n",
       "      <td>161</td>\n",
       "    </tr>\n",
       "    <tr>\n",
       "      <th>208</th>\n",
       "      <td>1352181825000000</td>\n",
       "      <td>15</td>\n",
       "      <td>1</td>\n",
       "      <td>2012-11-06</td>\n",
       "      <td>5891</td>\n",
       "      <td>-6.163521</td>\n",
       "      <td>53.399288</td>\n",
       "      <td>33553</td>\n",
       "      <td>4594</td>\n",
       "      <td>1</td>\n",
       "      <td>2012-11-06 06:03:45</td>\n",
       "      <td>1</td>\n",
       "      <td>6</td>\n",
       "      <td>2012-11-065891</td>\n",
       "      <td>222</td>\n",
       "    </tr>\n",
       "  </tbody>\n",
       "</table>\n",
       "</div>"
      ],
      "text/plain": [
       "            Timestamp  LineID  JourneyPatternID   TimeFrame VehicleJourneyID  \\\n",
       "185  1352181603000000      15                 1  2012-11-06             5891   \n",
       "190  1352181644000000      15                 1  2012-11-06             5891   \n",
       "194  1352181683000000      15                 1  2012-11-06             5891   \n",
       "202  1352181764000000      15                 1  2012-11-06             5891   \n",
       "208  1352181825000000      15                 1  2012-11-06             5891   \n",
       "\n",
       "          Lon        Lat  VehicleID StopID  AtStop           HumanTime  Day  \\\n",
       "185 -6.151784  53.402409      33553   6318       0 2012-11-06 06:00:03    1   \n",
       "190 -6.153783  53.402687      33553   6319       1 2012-11-06 06:00:44    1   \n",
       "194 -6.158463  53.402805      33553   7246       0 2012-11-06 06:01:23    1   \n",
       "202 -6.162246  53.401226      33553   6320       0 2012-11-06 06:02:44    1   \n",
       "208 -6.163521  53.399288      33553   4594       1 2012-11-06 06:03:45    1   \n",
       "\n",
       "     Hour    JourneyGroup  Runtime  \n",
       "185     6  2012-11-065891        0  \n",
       "190     6  2012-11-065891       41  \n",
       "194     6  2012-11-065891       80  \n",
       "202     6  2012-11-065891      161  \n",
       "208     6  2012-11-065891      222  "
      ]
     },
     "execution_count": 336,
     "metadata": {},
     "output_type": "execute_result"
    }
   ],
   "source": [
    "df.head()"
   ]
  },
  {
   "cell_type": "code",
   "execution_count": 337,
   "metadata": {
    "collapsed": false
   },
   "outputs": [],
   "source": [
    "out = df[df.JourneyPatternID == 1]\n",
    "\n",
    "out = out.groupby(['StopID'])['Runtime'].mean().reset_index()\n",
    "\n",
    "# out\n",
    "# out.sort_values(['Runtime'])\n"
   ]
  },
  {
   "cell_type": "code",
   "execution_count": 338,
   "metadata": {
    "collapsed": false
   },
   "outputs": [],
   "source": [
    "journeys = df.JourneyGroup.unique()\n",
    "journeys = journeys[:100]"
   ]
  },
  {
   "cell_type": "code",
   "execution_count": 339,
   "metadata": {
    "collapsed": false
   },
   "outputs": [
    {
     "data": {
      "text/html": [
       "<div>\n",
       "<table border=\"1\" class=\"dataframe\">\n",
       "  <thead>\n",
       "    <tr style=\"text-align: right;\">\n",
       "      <th></th>\n",
       "      <th>Timestamp</th>\n",
       "      <th>LineID</th>\n",
       "      <th>JourneyPatternID</th>\n",
       "      <th>TimeFrame</th>\n",
       "      <th>VehicleJourneyID</th>\n",
       "      <th>Lon</th>\n",
       "      <th>Lat</th>\n",
       "      <th>VehicleID</th>\n",
       "      <th>StopID</th>\n",
       "      <th>AtStop</th>\n",
       "      <th>HumanTime</th>\n",
       "      <th>Day</th>\n",
       "      <th>Hour</th>\n",
       "      <th>JourneyGroup</th>\n",
       "      <th>Runtime</th>\n",
       "    </tr>\n",
       "  </thead>\n",
       "  <tbody>\n",
       "  </tbody>\n",
       "</table>\n",
       "</div>"
      ],
      "text/plain": [
       "Empty DataFrame\n",
       "Columns: [Timestamp, LineID, JourneyPatternID, TimeFrame, VehicleJourneyID, Lon, Lat, VehicleID, StopID, AtStop, HumanTime, Day, Hour, JourneyGroup, Runtime]\n",
       "Index: []"
      ]
     },
     "execution_count": 339,
     "metadata": {},
     "output_type": "execute_result"
    }
   ],
   "source": [
    "negs = df[(df.Runtime < 0)]\n",
    "negs.head(100)"
   ]
  },
  {
   "cell_type": "code",
   "execution_count": 340,
   "metadata": {
    "collapsed": false
   },
   "outputs": [],
   "source": [
    "# for index in journeys:\n",
    "#     for i in range(1000):\n",
    "#         first = df[df.JourneyGroup == index].head(1)\n",
    "#     #     if first.Runtime < 0:\n",
    "#     #         print(first[['HumanTime', 'Runtime']])\n",
    "#         print(first[['JourneyGroup', 'Runtime']])"
   ]
  },
  {
   "cell_type": "code",
   "execution_count": 351,
   "metadata": {
    "collapsed": false
   },
   "outputs": [
    {
     "data": {
      "text/html": [
       "<div>\n",
       "<table border=\"1\" class=\"dataframe\">\n",
       "  <thead>\n",
       "    <tr style=\"text-align: right;\">\n",
       "      <th></th>\n",
       "      <th>Timestamp</th>\n",
       "      <th>LineID</th>\n",
       "      <th>JourneyPatternID</th>\n",
       "      <th>TimeFrame</th>\n",
       "      <th>VehicleJourneyID</th>\n",
       "      <th>Lon</th>\n",
       "      <th>Lat</th>\n",
       "      <th>VehicleID</th>\n",
       "      <th>StopID</th>\n",
       "      <th>AtStop</th>\n",
       "      <th>HumanTime</th>\n",
       "      <th>Day</th>\n",
       "      <th>Hour</th>\n",
       "      <th>JourneyGroup</th>\n",
       "      <th>Runtime</th>\n",
       "    </tr>\n",
       "  </thead>\n",
       "  <tbody>\n",
       "    <tr>\n",
       "      <th>36492</th>\n",
       "      <td>1352221135000000</td>\n",
       "      <td>15</td>\n",
       "      <td>1</td>\n",
       "      <td>2012-11-06</td>\n",
       "      <td>5815</td>\n",
       "      <td>-6.321288</td>\n",
       "      <td>53.278419</td>\n",
       "      <td>33469</td>\n",
       "      <td>4869</td>\n",
       "      <td>0</td>\n",
       "      <td>2012-11-06 16:58:55</td>\n",
       "      <td>1</td>\n",
       "      <td>16</td>\n",
       "      <td>2012-11-065815</td>\n",
       "      <td>5409</td>\n",
       "    </tr>\n",
       "    <tr>\n",
       "      <th>36642</th>\n",
       "      <td>1352221274000000</td>\n",
       "      <td>15</td>\n",
       "      <td>1</td>\n",
       "      <td>2012-11-06</td>\n",
       "      <td>5815</td>\n",
       "      <td>-6.330113</td>\n",
       "      <td>53.276764</td>\n",
       "      <td>33469</td>\n",
       "      <td>4870</td>\n",
       "      <td>1</td>\n",
       "      <td>2012-11-06 17:01:14</td>\n",
       "      <td>1</td>\n",
       "      <td>17</td>\n",
       "      <td>2012-11-065815</td>\n",
       "      <td>5548</td>\n",
       "    </tr>\n",
       "    <tr>\n",
       "      <th>36687</th>\n",
       "      <td>1352221313000000</td>\n",
       "      <td>15</td>\n",
       "      <td>1</td>\n",
       "      <td>2012-11-06</td>\n",
       "      <td>5815</td>\n",
       "      <td>-6.331184</td>\n",
       "      <td>53.276196</td>\n",
       "      <td>33469</td>\n",
       "      <td>3007</td>\n",
       "      <td>1</td>\n",
       "      <td>2012-11-06 17:01:53</td>\n",
       "      <td>1</td>\n",
       "      <td>17</td>\n",
       "      <td>2012-11-065815</td>\n",
       "      <td>5587</td>\n",
       "    </tr>\n",
       "    <tr>\n",
       "      <th>36753</th>\n",
       "      <td>1352221374000000</td>\n",
       "      <td>15</td>\n",
       "      <td>1</td>\n",
       "      <td>2012-11-06</td>\n",
       "      <td>5815</td>\n",
       "      <td>-6.330219</td>\n",
       "      <td>53.273067</td>\n",
       "      <td>33469</td>\n",
       "      <td>6283</td>\n",
       "      <td>0</td>\n",
       "      <td>2012-11-06 17:02:54</td>\n",
       "      <td>1</td>\n",
       "      <td>17</td>\n",
       "      <td>2012-11-065815</td>\n",
       "      <td>5648</td>\n",
       "    </tr>\n",
       "    <tr>\n",
       "      <th>37231</th>\n",
       "      <td>1352221839000000</td>\n",
       "      <td>15</td>\n",
       "      <td>1</td>\n",
       "      <td>2012-11-06</td>\n",
       "      <td>5815</td>\n",
       "      <td>-6.328600</td>\n",
       "      <td>53.271385</td>\n",
       "      <td>33469</td>\n",
       "      <td>6282</td>\n",
       "      <td>1</td>\n",
       "      <td>2012-11-06 17:10:39</td>\n",
       "      <td>1</td>\n",
       "      <td>17</td>\n",
       "      <td>2012-11-065815</td>\n",
       "      <td>6113</td>\n",
       "    </tr>\n",
       "  </tbody>\n",
       "</table>\n",
       "</div>"
      ],
      "text/plain": [
       "              Timestamp  LineID  JourneyPatternID   TimeFrame  \\\n",
       "36492  1352221135000000      15                 1  2012-11-06   \n",
       "36642  1352221274000000      15                 1  2012-11-06   \n",
       "36687  1352221313000000      15                 1  2012-11-06   \n",
       "36753  1352221374000000      15                 1  2012-11-06   \n",
       "37231  1352221839000000      15                 1  2012-11-06   \n",
       "\n",
       "      VehicleJourneyID       Lon        Lat  VehicleID StopID  AtStop  \\\n",
       "36492             5815 -6.321288  53.278419      33469   4869       0   \n",
       "36642             5815 -6.330113  53.276764      33469   4870       1   \n",
       "36687             5815 -6.331184  53.276196      33469   3007       1   \n",
       "36753             5815 -6.330219  53.273067      33469   6283       0   \n",
       "37231             5815 -6.328600  53.271385      33469   6282       1   \n",
       "\n",
       "                HumanTime  Day  Hour    JourneyGroup  Runtime  \n",
       "36492 2012-11-06 16:58:55    1    16  2012-11-065815     5409  \n",
       "36642 2012-11-06 17:01:14    1    17  2012-11-065815     5548  \n",
       "36687 2012-11-06 17:01:53    1    17  2012-11-065815     5587  \n",
       "36753 2012-11-06 17:02:54    1    17  2012-11-065815     5648  \n",
       "37231 2012-11-06 17:10:39    1    17  2012-11-065815     6113  "
      ]
     },
     "execution_count": 351,
     "metadata": {},
     "output_type": "execute_result"
    }
   ],
   "source": [
    "journey = df[df.JourneyGroup == \"2012-11-065815\"]\n",
    "times = journey[['HumanTime', 'Runtime']]\n",
    "\n",
    "# middle = journey[(journey.Runtime < 10000) & (times.Runtime > -1000)]\n",
    "\n",
    "# middle\n",
    "\n",
    "journey.tail()\n"
   ]
  },
  {
   "cell_type": "code",
   "execution_count": null,
   "metadata": {
    "collapsed": true
   },
   "outputs": [],
   "source": [
    "# 6282"
   ]
  },
  {
   "cell_type": "code",
   "execution_count": 344,
   "metadata": {
    "collapsed": false
   },
   "outputs": [
    {
     "data": {
      "text/plain": [
       "<matplotlib.axes._subplots.AxesSubplot at 0x1d4fce7f0>"
      ]
     },
     "execution_count": 344,
     "metadata": {},
     "output_type": "execute_result"
    },
    {
     "data": {
      "image/png": "[encoded data removed]",
      "text/plain": [
       "<matplotlib.figure.Figure at 0x1d4fd2780>"
      ]
     },
     "metadata": {},
     "output_type": "display_data"
    }
   ],
   "source": [
    "times.plot()"
   ]
  },
  {
   "cell_type": "code",
   "execution_count": null,
   "metadata": {
    "collapsed": true
   },
   "outputs": [],
   "source": []
  },
  {
   "cell_type": "code",
   "execution_count": null,
   "metadata": {
    "collapsed": true
   },
   "outputs": [],
   "source": []
  },
  {
   "cell_type": "code",
   "execution_count": 328,
   "metadata": {
    "collapsed": false
   },
   "outputs": [
    {
     "data": {
      "text/plain": [
       "<matplotlib.axes._subplots.AxesSubplot at 0x1894536a0>"
      ]
     },
     "execution_count": 328,
     "metadata": {},
     "output_type": "execute_result"
    },
    {
     "data": {
      "image/png": "[encoded data removed]",
      "text/plain": [
       "<matplotlib.figure.Figure at 0x1c5342080>"
      ]
     },
     "metadata": {},
     "output_type": "display_data"
    }
   ],
   "source": [
    "df.JourneyGroup.value_counts().plot()"
   ]
  },
  {
   "cell_type": "code",
   "execution_count": 329,
   "metadata": {
    "collapsed": false
   },
   "outputs": [
    {
     "data": {
      "text/plain": [
       "<matplotlib.axes._subplots.AxesSubplot at 0x1896332e8>"
      ]
     },
     "execution_count": 329,
     "metadata": {},
     "output_type": "execute_result"
    },
    {
     "data": {
      "image/png": "[encoded data removed]",
      "text/plain": [
       "<matplotlib.figure.Figure at 0x119b28eb8>"
      ]
     },
     "metadata": {},
     "output_type": "display_data"
    }
   ],
   "source": [
    "locations = newdf[[\"Lon\", \"Lat\"]]\n",
    "locations.plot.scatter(x=\"Lon\", y=\"Lat\")"
   ]
  },
  {
   "cell_type": "code",
   "execution_count": null,
   "metadata": {
    "collapsed": true
   },
   "outputs": [],
   "source": []
  },
  {
   "cell_type": "code",
   "execution_count": null,
   "metadata": {
    "collapsed": true
   },
   "outputs": [],
   "source": []
  },
  {
   "cell_type": "code",
   "execution_count": 330,
   "metadata": {
    "collapsed": false
   },
   "outputs": [
    {
     "data": {
      "text/plain": [
       "array(['2012-11-065891', '2012-11-065899', '2012-11-065902', ...,\n",
       "       '2013-01-317271', '2013-01-317278', '2013-01-317289'], dtype=object)"
      ]
     },
     "execution_count": 330,
     "metadata": {},
     "output_type": "execute_result"
    }
   ],
   "source": [
    "newdf.JourneyGroup.unique()"
   ]
  },
  {
   "cell_type": "code",
   "execution_count": 331,
   "metadata": {
    "collapsed": false
   },
   "outputs": [
    {
     "data": {
      "text/plain": [
       "(71, 15)"
      ]
     },
     "execution_count": 331,
     "metadata": {},
     "output_type": "execute_result"
    }
   ],
   "source": [
    "xxxx = df[df.JourneyGroup == \"2013-01-085057\"]\n",
    "xxxx.shape"
   ]
  },
  {
   "cell_type": "code",
   "execution_count": null,
   "metadata": {
    "collapsed": true
   },
   "outputs": [],
   "source": [
    "firstlines = patterndf.groupby([\"TimeFrame\", \"VehicleJourneyID\"]).head(1)\n",
    "\n"
   ]
  },
  {
   "cell_type": "code",
   "execution_count": null,
   "metadata": {
    "collapsed": true
   },
   "outputs": [],
   "source": [
    "# ADDING RUNTIME COLUMN - THIS CAN REMAIN UNCHANGED\n",
    "\n",
    "# # Putting the first sightings of a vehiclejourneyid and timeframe combo timestamp into a dictionary\n",
    "# start_times = {}\n",
    "\n",
    "# # This gives you the first line anything has been seen by\n",
    "# firstlines = df.groupby([\"TimeFrame\", \"VehicleJourneyID\"]).head(1)\n",
    "\n",
    "# # This iterates through them and assigns values to the dictionary\n",
    "# for index, row in firstlines.iterrows():\n",
    "#     start_times[row.TimeFrame, row.VehicleJourneyID] = {\"time\":row.Timestamp, \"loc\":[row.Lat, row.Lon]}\n",
    "\n",
    "\n",
    "# df['Runtime'] = \"\"\n",
    "\n",
    "# # Applies this function to the newdf\n",
    "# df['Runtime'] = df.apply(lambda row: add_runtime(row, start_times),axis=1)"
   ]
  },
  {
   "cell_type": "code",
   "execution_count": null,
   "metadata": {
    "collapsed": true
   },
   "outputs": [],
   "source": []
  },
  {
   "cell_type": "code",
   "execution_count": null,
   "metadata": {
    "collapsed": true
   },
   "outputs": [],
   "source": []
  },
  {
   "cell_type": "code",
   "execution_count": null,
   "metadata": {
    "collapsed": true
   },
   "outputs": [],
   "source": []
  }
 ],
 "metadata": {
  "kernelspec": {
   "display_name": "Python 3",
   "language": "python",
   "name": "python3"
  },
  "language_info": {
   "codemirror_mode": {
    "name": "ipython",
    "version": 3
   },
   "file_extension": ".py",
   "mimetype": "text/x-python",
   "name": "python",
   "nbconvert_exporter": "python",
   "pygments_lexer": "ipython3",
   "version": "3.6.0"
  }
 },
 "nbformat": 4,
 "nbformat_minor": 2
}
