{
 "cells": [
  {
   "cell_type": "code",
   "execution_count": 1,
   "metadata": {
    "collapsed": true
   },
   "outputs": [],
   "source": [
    "import pandas as pd\n",
    "import os\n",
    "\n",
    "\n",
    "import matplotlib.pyplot as plt\n",
    "%matplotlib inline"
   ]
  },
  {
   "cell_type": "markdown",
   "metadata": {},
   "source": [
    "### Static Variables"
   ]
  },
  {
   "cell_type": "code",
   "execution_count": 2,
   "metadata": {
    "collapsed": true
   },
   "outputs": [],
   "source": [
    "line = \"46A\""
   ]
  },
  {
   "cell_type": "markdown",
   "metadata": {},
   "source": [
    "### Functions\n"
   ]
  },
  {
   "cell_type": "code",
   "execution_count": 3,
   "metadata": {
    "collapsed": true
   },
   "outputs": [],
   "source": [
    "def read_file(csv_path):\n",
    "    # Reading df from file\n",
    "    df = pd.read_csv(csv_path, low_memory=False, header=None)\n",
    "    df.columns = [\"Timestamp\", \"LineID\", \"JourneyPatternID\", \"TimeFrame\", \n",
    "                  \"VehicleJourneyID\", \"Lon\", \"Lat\", \"VehicleID\", \"StopID\", \n",
    "                  \"AtStop\", \"HumanTime\", \"Day\", \"Hour\", \"Runtime\"]\n",
    "\n",
    "    #convert StopID to string\n",
    "    df['StopID'] = df['StopID'].astype('str')\n",
    "    \n",
    "    return df\n"
   ]
  },
  {
   "cell_type": "code",
   "execution_count": 4,
   "metadata": {
    "collapsed": true
   },
   "outputs": [],
   "source": [
    "def extract_pattern_order(df):\n",
    "    \n",
    "    # cutting stops that don't appear more than once\n",
    "#     groups = df.groupby('StopID')\n",
    "#     df = groups.filter(lambda x: len(x) > 1)\n",
    "    \n",
    "    # extracting stop order from mean time to reach the stop\n",
    "    runtimes = df.groupby(\"StopID\").Runtime.mean()\n",
    "    order = runtimes.sort_values().to_frame()\n",
    "    order.reset_index(level=0, inplace=True)\n",
    "    order['Order'] = order.index\n",
    "    \n",
    "    # merging these with LineID and JourneyPatternID\n",
    "    line_df = df[[\"StopID\", \"LineID\", \"JourneyPatternID\"]].drop_duplicates(\"StopID\")\n",
    "    final_df = pd.merge(order, line_df, on='StopID')\n",
    "    \n",
    "    return final_df\n",
    "    \n",
    "    "
   ]
  },
  {
   "cell_type": "code",
   "execution_count": 5,
   "metadata": {
    "collapsed": true
   },
   "outputs": [],
   "source": [
    "def get_location(df):\n",
    "    \n",
    "    # Concat location data\n",
    "    df['location'] = \"\"\n",
    "    df['location'] = df['Lon'].astype(str) + \"_\" + df['Lat'].astype(str)\n",
    "    \n",
    "    # Extracting the most frequent locations for each stop\n",
    "    groups = df.groupby('StopID')\n",
    "    loc_df = groups['location'].agg(lambda x:x.value_counts().index[0]).to_frame()\n",
    "    loc_df.reset_index(level=0, inplace=True)\n",
    "\n",
    "    # Converting location back to float columns\n",
    "    loc_df['Lon'], loc_df['Lat'] = loc_df['location'].str.split('_', 1).str\n",
    "    loc_df['Lon'], loc_df['Lat'] = loc_df['Lon'].astype('float64'), loc_df['Lat'].astype('float64')\n",
    "\n",
    "    # drop concatenated colum 'location'\n",
    "    loc_df = loc_df.drop('location', axis=1)\n",
    "    return loc_df"
   ]
  },
  {
   "cell_type": "code",
   "execution_count": 6,
   "metadata": {
    "collapsed": true
   },
   "outputs": [],
   "source": [
    "def extract_line_order(path):\n",
    "    df = read_file(path)\n",
    "    \n",
    "    locations = get_location(df)\n",
    "    \n",
    "    master = pd.DataFrame()\n",
    "    patterns = df['JourneyPatternID'].unique()\n",
    "        \n",
    "    for pattern in patterns:\n",
    "        new_df = df[df.JourneyPatternID == pattern]\n",
    "        new_df = extract_pattern_order(new_df)\n",
    "        \n",
    "        master = pd.concat([master, new_df], ignore_index=True)\n",
    "    master = pd.merge(master, locations, on='StopID')  \n",
    "    \n",
    "    return master"
   ]
  },
  {
   "cell_type": "code",
   "execution_count": 7,
   "metadata": {
    "collapsed": true
   },
   "outputs": [],
   "source": [
    "def main(directory):\n",
    "    master = pd.DataFrame()\n",
    "    \n",
    "    for readfile in os.listdir(directory):\n",
    "        if readfile.endswith(\".csv\"): \n",
    "            print(\"Opening line\", readfile)\n",
    "            path = directory + \"/\" + readfile\n",
    "            line_df = extract_line_order(path)\n",
    "            master = pd.concat([master, line_df], ignore_index=True)\n",
    "    print(\"Finished!\")\n",
    "    \n",
    "    master = master.drop_duplicates()\n",
    "    \n",
    "    return master"
   ]
  },
  {
   "cell_type": "markdown",
   "metadata": {},
   "source": [
    "### Testing Functions\n"
   ]
  },
  {
   "cell_type": "code",
   "execution_count": 8,
   "metadata": {
    "collapsed": true
   },
   "outputs": [],
   "source": [
    "# df = pd.read_csv('bus_data/line_data/15.csv', low_memory=False, header=None)\n",
    "# df.columns = [\"Timestamp\", \"LineID\", \"JourneyPatternID\", \"TimeFrame\", \n",
    "#               \"VehicleJourneyID\", \"Lon\", \"Lat\", \"VehicleID\", \"StopID\", \n",
    "#               \"AtStop\", \"HumanTime\", \"Day\", \"Hour\", \"Runtime\"]\n",
    "\n"
   ]
  },
  {
   "cell_type": "code",
   "execution_count": 9,
   "metadata": {
    "collapsed": false
   },
   "outputs": [],
   "source": [
    "# loc = extract_line_order('bus_data/line_data/15.csv')"
   ]
  },
  {
   "cell_type": "code",
   "execution_count": 10,
   "metadata": {
    "collapsed": false
   },
   "outputs": [],
   "source": [
    "# loc.head()"
   ]
  },
  {
   "cell_type": "code",
   "execution_count": null,
   "metadata": {
    "collapsed": true
   },
   "outputs": [],
   "source": []
  },
  {
   "cell_type": "code",
   "execution_count": null,
   "metadata": {
    "collapsed": true
   },
   "outputs": [],
   "source": []
  },
  {
   "cell_type": "markdown",
   "metadata": {},
   "source": [
    "### Running Functions"
   ]
  },
  {
   "cell_type": "code",
   "execution_count": 11,
   "metadata": {
    "collapsed": false
   },
   "outputs": [
    {
     "name": "stdout",
     "output_type": "stream",
     "text": [
      "Opening line 1.csv\n",
      "Opening line 102.csv\n",
      "Opening line 104.csv\n",
      "Opening line 11.csv\n",
      "Opening line 111.csv\n",
      "Opening line 114.csv\n",
      "Opening line 116.csv\n",
      "Opening line 118.csv\n",
      "Opening line 120.csv\n",
      "Opening line 122.csv\n",
      "Opening line 123.csv\n",
      "Opening line 13.csv\n",
      "Opening line 130.csv\n",
      "Opening line 14.csv\n",
      "Opening line 140.csv\n",
      "Opening line 142.csv\n",
      "Opening line 145.csv\n",
      "Opening line 14C.csv\n",
      "Opening line 15.csv\n",
      "Opening line 150.csv\n",
      "Opening line 151.csv\n",
      "Opening line 15A.csv\n",
      "Opening line 15B.csv\n",
      "Opening line 16.csv\n",
      "Opening line 161.csv\n",
      "Opening line 16C.csv\n",
      "Opening line 17.csv\n",
      "Opening line 17A.csv\n",
      "Opening line 18.csv\n",
      "Opening line 184.csv\n",
      "Opening line 185.csv\n",
      "Opening line 220.csv\n",
      "Opening line 236.csv\n",
      "Opening line 238.csv\n",
      "Opening line 239.csv\n",
      "Opening line 25.csv\n",
      "Opening line 25A.csv\n",
      "Opening line 25B.csv\n",
      "Opening line 25X.csv\n",
      "Opening line 26.csv\n",
      "Opening line 27.csv\n",
      "Opening line 270.csv\n",
      "Opening line 27A.csv\n",
      "Opening line 27B.csv\n",
      "Opening line 27X.csv\n",
      "Opening line 29A.csv\n",
      "Opening line 31.csv\n",
      "Opening line 31A.csv\n",
      "Opening line 31B.csv\n",
      "Opening line 32.csv\n",
      "Opening line 32A.csv\n",
      "Opening line 32B.csv\n",
      "Opening line 32X.csv\n",
      "Opening line 33.csv\n",
      "Opening line 33A.csv\n",
      "Opening line 33B.csv\n",
      "Opening line 33X.csv\n",
      "Opening line 37.csv\n",
      "Opening line 38.csv\n",
      "Opening line 38A.csv\n",
      "Opening line 38B.csv\n",
      "Opening line 39.csv\n",
      "Opening line 39A.csv\n",
      "Opening line 4.csv\n",
      "Opening line 40.csv\n",
      "Opening line 40B.csv\n",
      "Opening line 40D.csv\n",
      "Opening line 41.csv\n",
      "Opening line 41A.csv\n",
      "Opening line 41B.csv\n",
      "Opening line 41C.csv\n",
      "Opening line 41X.csv\n",
      "Opening line 42.csv\n",
      "Opening line 43.csv\n",
      "Opening line 44.csv\n",
      "Opening line 44B.csv\n",
      "Opening line 45A.csv\n",
      "Opening line 46A.csv\n",
      "Opening line 46E.csv\n",
      "Opening line 47.csv\n",
      "Opening line 49.csv\n",
      "Opening line 51D.csv\n",
      "Opening line 51X.csv\n",
      "Opening line 53.csv\n",
      "Opening line 54A.csv\n",
      "Opening line 56A.csv\n",
      "Opening line 59.csv\n",
      "Opening line 61.csv\n",
      "Opening line 63.csv\n",
      "Opening line 65.csv\n",
      "Opening line 65B.csv\n",
      "Opening line 66.csv\n",
      "Opening line 66A.csv\n",
      "Opening line 66B.csv\n",
      "Opening line 66X.csv\n",
      "Opening line 67.csv\n",
      "Opening line 67X.csv\n",
      "Opening line 68.csv\n",
      "Opening line 68A.csv\n",
      "Opening line 69.csv\n",
      "Opening line 69X.csv\n",
      "Opening line 7.csv\n",
      "Opening line 70.csv\n",
      "Opening line 747.csv\n",
      "Opening line 75.csv\n",
      "Opening line 76.csv\n",
      "Opening line 76A.csv\n",
      "Opening line 77A.csv\n",
      "Opening line 79.csv\n",
      "Opening line 79A.csv\n",
      "Opening line 7B.csv\n",
      "Opening line 7D.csv\n",
      "Opening line 8.csv\n",
      "Opening line 83.csv\n",
      "Opening line 83A.csv\n",
      "Opening line 84.csv\n",
      "Opening line 84A.csv\n",
      "Opening line 84X.csv\n",
      "Opening line 9.csv\n",
      "Opening line OL77.csv\n",
      "Opening line PP07.csv\n",
      "Finished!\n"
     ]
    }
   ],
   "source": [
    "dir_path = \"bus_data/line_data/\"\n",
    "\n",
    "df = main(dir_path)"
   ]
  },
  {
   "cell_type": "code",
   "execution_count": 12,
   "metadata": {
    "collapsed": false
   },
   "outputs": [
    {
     "data": {
      "text/html": [
       "<div>\n",
       "<table border=\"1\" class=\"dataframe\">\n",
       "  <thead>\n",
       "    <tr style=\"text-align: right;\">\n",
       "      <th></th>\n",
       "      <th>StopID</th>\n",
       "      <th>Runtime</th>\n",
       "      <th>Order</th>\n",
       "      <th>LineID</th>\n",
       "      <th>JourneyPatternID</th>\n",
       "      <th>Lon</th>\n",
       "      <th>Lat</th>\n",
       "    </tr>\n",
       "  </thead>\n",
       "  <tbody>\n",
       "    <tr>\n",
       "      <th>23171</th>\n",
       "      <td>476</td>\n",
       "      <td>1911.0</td>\n",
       "      <td>5</td>\n",
       "      <td>PP07</td>\n",
       "      <td>1001</td>\n",
       "      <td>-6.204702</td>\n",
       "      <td>53.315838</td>\n",
       "    </tr>\n",
       "    <tr>\n",
       "      <th>23172</th>\n",
       "      <td>4705</td>\n",
       "      <td>2067.0</td>\n",
       "      <td>6</td>\n",
       "      <td>PP07</td>\n",
       "      <td>1001</td>\n",
       "      <td>-6.199994</td>\n",
       "      <td>53.310928</td>\n",
       "    </tr>\n",
       "    <tr>\n",
       "      <th>23173</th>\n",
       "      <td>487</td>\n",
       "      <td>2075.0</td>\n",
       "      <td>7</td>\n",
       "      <td>PP07</td>\n",
       "      <td>1001</td>\n",
       "      <td>-6.233802</td>\n",
       "      <td>53.330879</td>\n",
       "    </tr>\n",
       "    <tr>\n",
       "      <th>23174</th>\n",
       "      <td>493</td>\n",
       "      <td>2694.0</td>\n",
       "      <td>8</td>\n",
       "      <td>PP07</td>\n",
       "      <td>1001</td>\n",
       "      <td>-6.247320</td>\n",
       "      <td>53.339970</td>\n",
       "    </tr>\n",
       "    <tr>\n",
       "      <th>23175</th>\n",
       "      <td>279</td>\n",
       "      <td>2854.5</td>\n",
       "      <td>9</td>\n",
       "      <td>PP07</td>\n",
       "      <td>1001</td>\n",
       "      <td>-6.260572</td>\n",
       "      <td>53.350132</td>\n",
       "    </tr>\n",
       "  </tbody>\n",
       "</table>\n",
       "</div>"
      ],
      "text/plain": [
       "      StopID  Runtime  Order LineID JourneyPatternID       Lon        Lat\n",
       "23171    476   1911.0      5   PP07             1001 -6.204702  53.315838\n",
       "23172   4705   2067.0      6   PP07             1001 -6.199994  53.310928\n",
       "23173    487   2075.0      7   PP07             1001 -6.233802  53.330879\n",
       "23174    493   2694.0      8   PP07             1001 -6.247320  53.339970\n",
       "23175    279   2854.5      9   PP07             1001 -6.260572  53.350132"
      ]
     },
     "execution_count": 12,
     "metadata": {},
     "output_type": "execute_result"
    }
   ],
   "source": [
    "df.tail()"
   ]
  },
  {
   "cell_type": "code",
   "execution_count": 13,
   "metadata": {
    "collapsed": true
   },
   "outputs": [],
   "source": [
    "df.to_csv(\"bus_data/static_data/route_stops_all.csv\")"
   ]
  },
  {
   "cell_type": "code",
   "execution_count": null,
   "metadata": {
    "collapsed": true
   },
   "outputs": [],
   "source": []
  }
 ],
 "metadata": {
  "kernelspec": {
   "display_name": "Python 3",
   "language": "python",
   "name": "python3"
  },
  "language_info": {
   "codemirror_mode": {
    "name": "ipython",
    "version": 3
   },
   "file_extension": ".py",
   "mimetype": "text/x-python",
   "name": "python",
   "nbconvert_exporter": "python",
   "pygments_lexer": "ipython3",
   "version": "3.6.0"
  }
 },
 "nbformat": 4,
 "nbformat_minor": 2
}
