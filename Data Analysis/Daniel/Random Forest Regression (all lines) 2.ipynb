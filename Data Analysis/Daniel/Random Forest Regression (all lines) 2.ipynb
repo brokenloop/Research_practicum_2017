{
 "cells": [
  {
   "cell_type": "code",
   "execution_count": 1,
   "metadata": {
    "collapsed": true
   },
   "outputs": [],
   "source": [
    "# general \n",
    "import datetime\n",
    "import os\n",
    "\n",
    "# data analysis and wrangling\n",
    "import pandas as pd\n",
    "\n",
    "import numpy as np\n",
    "\n",
    "# machine learning\n",
    "from sklearn.linear_model import LogisticRegression\n",
    "from sklearn.svm import SVC, LinearSVC\n",
    "from sklearn.ensemble import RandomForestRegressor\n",
    "from sklearn.tree import DecisionTreeClassifier\n",
    "from sklearn.model_selection import train_test_split\n",
    "from sklearn import metrics\n",
    "\n",
    "# pickling\n",
    "import pickle\n",
    "\n",
    "%matplotlib inline"
   ]
  },
  {
   "cell_type": "code",
   "execution_count": 2,
   "metadata": {
    "collapsed": false
   },
   "outputs": [],
   "source": [
    "def train_model(read_directory, write_directory, line):\n",
    "    \n",
    "#     Read in the data from a csv file using Pandas\n",
    "    df = pd.read_csv(read_directory + line + \".csv\", low_memory=False, header=None)\n",
    "    df.columns = [\"Timestamp\", \"LineID\", \"JourneyPatternID\", \"TimeFrame\", \n",
    "                  \"VehicleJourneyID\", \"Lon\", \"Lat\", \"VehicleID\", \"StopID\", \n",
    "                  \"AtStop\", \"HumanTime\", \"Day\", \"Hour\", \"JourneyGroup\", \"Runtime\"]\n",
    "    \n",
    "    # Setting up descriptive & target features\n",
    "    features = [\"Day\", \"Hour\", \"JourneyPatternID\", \"StopID\",]# \"JourneyPatternID\"] #'LineID', 'JourneyPatternID']\n",
    "\n",
    "    # converting to categories\n",
    "    for feature in features:\n",
    "        df[feature] = df[feature].astype('category')\n",
    "\n",
    "    # Priming features for the model\n",
    "    X = pd.concat([df[features]], axis=1)\n",
    "    y = df.Runtime\n",
    "\n",
    "    # Creating and training the model \n",
    "    rfc = RandomForestRegressor(n_estimators=100, max_features='auto', oob_score=True, random_state=1)\n",
    "    rfc.fit(X, y)\n",
    "\n",
    "    # pickling the model \n",
    "    pickle.dump(rfc, open(write_directory + line + \".sav\", 'wb'))\n",
    "\n"
   ]
  },
  {
   "cell_type": "code",
   "execution_count": 14,
   "metadata": {
    "collapsed": false
   },
   "outputs": [],
   "source": [
    "def main(read_directory, write_directory):\n",
    "    for read_file in os.listdir(read_directory):\n",
    "        if read_file.endswith(\".csv\"):\n",
    "            line = read_file[:-4]\n",
    "        #             print(\"Reading\", read_file, \"from\", read_directory)\n",
    "            if not os.path.isfile(write_directory + line + \".sav\"):\n",
    "                print(write_directory + line + \".sav\")\n",
    "                train_model(read_directory, write_directory, line)            \n",
    "            print(\"Finished\", read_file)\n",
    "            print()\n",
    "    print(\"Finished main!\")"
   ]
  },
  {
   "cell_type": "markdown",
   "metadata": {},
   "source": [
    "## Main loop to create & pickle models"
   ]
  },
  {
   "cell_type": "code",
   "execution_count": 15,
   "metadata": {
    "collapsed": false
   },
   "outputs": [
    {
     "name": "stdout",
     "output_type": "stream",
     "text": [
      "bus_data/sklearn_models2/1.sav\n",
      "Finished 1.csv\n",
      "\n",
      "bus_data/sklearn_models2/104.sav\n",
      "Finished 104.csv\n",
      "\n",
      "bus_data/sklearn_models2/11.sav\n",
      "Finished 11.csv\n",
      "\n",
      "bus_data/sklearn_models2/111.sav\n",
      "Finished 111.csv\n",
      "\n",
      "bus_data/sklearn_models2/114.sav\n",
      "Finished 114.csv\n",
      "\n",
      "bus_data/sklearn_models2/116.sav\n",
      "Finished 116.csv\n",
      "\n",
      "bus_data/sklearn_models2/118.sav\n",
      "Finished 118.csv\n",
      "\n",
      "bus_data/sklearn_models2/120.sav\n",
      "Finished 120.csv\n",
      "\n",
      "bus_data/sklearn_models2/123.sav\n",
      "Finished 123.csv\n",
      "\n",
      "bus_data/sklearn_models2/13.sav\n",
      "Finished 13.csv\n",
      "\n",
      "bus_data/sklearn_models2/130.sav\n",
      "Finished 130.csv\n",
      "\n",
      "bus_data/sklearn_models2/14.sav\n",
      "Finished 14.csv\n",
      "\n",
      "bus_data/sklearn_models2/140.sav\n",
      "Finished 140.csv\n",
      "\n",
      "bus_data/sklearn_models2/142.sav\n",
      "Finished 142.csv\n",
      "\n",
      "bus_data/sklearn_models2/145.sav\n",
      "Finished 145.csv\n",
      "\n",
      "bus_data/sklearn_models2/14C.sav\n",
      "Finished 14C.csv\n",
      "\n",
      "bus_data/sklearn_models2/15.sav\n",
      "Finished 15.csv\n",
      "\n",
      "bus_data/sklearn_models2/150.sav\n",
      "Finished 150.csv\n",
      "\n",
      "bus_data/sklearn_models2/151.sav\n",
      "Finished 151.csv\n",
      "\n",
      "bus_data/sklearn_models2/15A.sav\n",
      "Finished 15A.csv\n",
      "\n",
      "bus_data/sklearn_models2/15B.sav\n",
      "Finished 15B.csv\n",
      "\n",
      "bus_data/sklearn_models2/16.sav\n",
      "Finished 16.csv\n",
      "\n",
      "bus_data/sklearn_models2/161.sav\n",
      "Finished 161.csv\n",
      "\n",
      "bus_data/sklearn_models2/16C.sav\n",
      "Finished 16C.csv\n",
      "\n",
      "bus_data/sklearn_models2/17.sav\n",
      "Finished 17.csv\n",
      "\n",
      "bus_data/sklearn_models2/17A.sav\n",
      "Finished 17A.csv\n",
      "\n",
      "bus_data/sklearn_models2/184.sav\n",
      "Finished 184.csv\n",
      "\n",
      "bus_data/sklearn_models2/185.sav\n",
      "Finished 185.csv\n",
      "\n",
      "bus_data/sklearn_models2/220.sav\n",
      "Finished 220.csv\n",
      "\n",
      "bus_data/sklearn_models2/236.sav\n",
      "Finished 236.csv\n",
      "\n",
      "bus_data/sklearn_models2/239.sav\n",
      "Finished 239.csv\n",
      "\n",
      "bus_data/sklearn_models2/25.sav\n",
      "Finished 25.csv\n",
      "\n",
      "bus_data/sklearn_models2/25A.sav\n",
      "Finished 25A.csv\n",
      "\n",
      "bus_data/sklearn_models2/25X.sav\n",
      "Finished 25X.csv\n",
      "\n",
      "bus_data/sklearn_models2/26.sav\n",
      "Finished 26.csv\n",
      "\n",
      "bus_data/sklearn_models2/27.sav\n",
      "Finished 27.csv\n",
      "\n",
      "bus_data/sklearn_models2/270.sav\n",
      "Finished 270.csv\n",
      "\n",
      "bus_data/sklearn_models2/27A.sav\n",
      "Finished 27A.csv\n",
      "\n",
      "bus_data/sklearn_models2/27X.sav\n",
      "Finished 27X.csv\n",
      "\n",
      "bus_data/sklearn_models2/29A.sav\n",
      "Finished 29A.csv\n",
      "\n",
      "bus_data/sklearn_models2/31.sav\n",
      "Finished 31.csv\n",
      "\n",
      "bus_data/sklearn_models2/31A.sav\n",
      "Finished 31A.csv\n",
      "\n",
      "bus_data/sklearn_models2/31B.sav\n",
      "Finished 31B.csv\n",
      "\n",
      "bus_data/sklearn_models2/32.sav\n",
      "Finished 32.csv\n",
      "\n",
      "bus_data/sklearn_models2/32A.sav\n",
      "Finished 32A.csv\n",
      "\n",
      "bus_data/sklearn_models2/32B.sav\n",
      "Finished 32B.csv\n",
      "\n",
      "bus_data/sklearn_models2/32X.sav\n",
      "Finished 32X.csv\n",
      "\n",
      "bus_data/sklearn_models2/33.sav\n",
      "Finished 33.csv\n",
      "\n",
      "bus_data/sklearn_models2/33A.sav\n",
      "Finished 33A.csv\n",
      "\n",
      "bus_data/sklearn_models2/33B.sav\n",
      "Finished 33B.csv\n",
      "\n",
      "bus_data/sklearn_models2/33X.sav\n",
      "Finished 33X.csv\n",
      "\n",
      "bus_data/sklearn_models2/37.sav\n",
      "Finished 37.csv\n",
      "\n",
      "bus_data/sklearn_models2/38.sav\n",
      "Finished 38.csv\n",
      "\n",
      "bus_data/sklearn_models2/38A.sav\n",
      "Finished 38A.csv\n",
      "\n",
      "bus_data/sklearn_models2/38B.sav\n",
      "Finished 38B.csv\n",
      "\n",
      "bus_data/sklearn_models2/39.sav\n",
      "Finished 39.csv\n",
      "\n",
      "bus_data/sklearn_models2/40.sav\n",
      "Finished 40.csv\n",
      "\n",
      "bus_data/sklearn_models2/40B.sav\n",
      "Finished 40B.csv\n",
      "\n",
      "bus_data/sklearn_models2/40D.sav\n",
      "Finished 40D.csv\n",
      "\n",
      "bus_data/sklearn_models2/41.sav\n",
      "Finished 41.csv\n",
      "\n",
      "bus_data/sklearn_models2/41A.sav\n",
      "Finished 41A.csv\n",
      "\n",
      "bus_data/sklearn_models2/41C.sav\n",
      "Finished 41C.csv\n",
      "\n",
      "bus_data/sklearn_models2/41X.sav\n",
      "Finished 41X.csv\n",
      "\n",
      "bus_data/sklearn_models2/42.sav\n",
      "Finished 42.csv\n",
      "\n",
      "bus_data/sklearn_models2/43.sav\n",
      "Finished 43.csv\n",
      "\n",
      "bus_data/sklearn_models2/44.sav\n",
      "Finished 44.csv\n",
      "\n",
      "bus_data/sklearn_models2/44B.sav\n",
      "Finished 44B.csv\n",
      "\n",
      "bus_data/sklearn_models2/45A.sav\n",
      "Finished 45A.csv\n",
      "\n",
      "bus_data/sklearn_models2/46A.sav\n",
      "Finished 46A.csv\n",
      "\n",
      "bus_data/sklearn_models2/46E.sav\n",
      "Finished 46E.csv\n",
      "\n",
      "bus_data/sklearn_models2/47.sav\n",
      "Finished 47.csv\n",
      "\n",
      "bus_data/sklearn_models2/49.sav\n",
      "Finished 49.csv\n",
      "\n",
      "bus_data/sklearn_models2/51D.sav\n",
      "Finished 51D.csv\n",
      "\n",
      "bus_data/sklearn_models2/51X.sav\n",
      "Finished 51X.csv\n",
      "\n",
      "bus_data/sklearn_models2/53.sav\n",
      "Finished 53.csv\n",
      "\n",
      "bus_data/sklearn_models2/54A.sav\n",
      "Finished 54A.csv\n",
      "\n",
      "bus_data/sklearn_models2/56A.sav\n",
      "Finished 56A.csv\n",
      "\n",
      "bus_data/sklearn_models2/59.sav\n",
      "Finished 59.csv\n",
      "\n",
      "bus_data/sklearn_models2/61.sav\n",
      "Finished 61.csv\n",
      "\n",
      "bus_data/sklearn_models2/63.sav\n",
      "Finished 63.csv\n",
      "\n",
      "bus_data/sklearn_models2/65.sav\n",
      "Finished 65.csv\n",
      "\n",
      "bus_data/sklearn_models2/65B.sav\n",
      "Finished 65B.csv\n",
      "\n",
      "bus_data/sklearn_models2/66.sav\n",
      "Finished 66.csv\n",
      "\n",
      "bus_data/sklearn_models2/66B.sav\n",
      "Finished 66B.csv\n",
      "\n",
      "bus_data/sklearn_models2/66X.sav\n",
      "Finished 66X.csv\n",
      "\n",
      "bus_data/sklearn_models2/67.sav\n",
      "Finished 67.csv\n",
      "\n",
      "bus_data/sklearn_models2/67X.sav\n",
      "Finished 67X.csv\n",
      "\n",
      "bus_data/sklearn_models2/68.sav\n",
      "Finished 68.csv\n",
      "\n",
      "bus_data/sklearn_models2/68A.sav\n",
      "Finished 68A.csv\n",
      "\n",
      "bus_data/sklearn_models2/69.sav\n",
      "Finished 69.csv\n",
      "\n",
      "bus_data/sklearn_models2/69X.sav\n",
      "Finished 69X.csv\n",
      "\n",
      "bus_data/sklearn_models2/7.sav\n",
      "Finished 7.csv\n",
      "\n",
      "bus_data/sklearn_models2/70.sav\n",
      "Finished 70.csv\n",
      "\n",
      "bus_data/sklearn_models2/747.sav\n",
      "Finished 747.csv\n",
      "\n",
      "bus_data/sklearn_models2/75.sav\n",
      "Finished 75.csv\n",
      "\n",
      "bus_data/sklearn_models2/76.sav\n",
      "Finished 76.csv\n",
      "\n",
      "bus_data/sklearn_models2/76A.sav\n",
      "Finished 76A.csv\n",
      "\n",
      "bus_data/sklearn_models2/77A.sav\n",
      "Finished 77A.csv\n",
      "\n",
      "bus_data/sklearn_models2/79.sav\n",
      "Finished 79.csv\n",
      "\n",
      "bus_data/sklearn_models2/79A.sav\n",
      "Finished 79A.csv\n",
      "\n",
      "bus_data/sklearn_models2/7B.sav\n",
      "Finished 7B.csv\n",
      "\n",
      "bus_data/sklearn_models2/7D.sav\n",
      "Finished 7D.csv\n",
      "\n",
      "bus_data/sklearn_models2/8.sav\n",
      "Finished 8.csv\n",
      "\n",
      "bus_data/sklearn_models2/83.sav\n",
      "Finished 83.csv\n",
      "\n",
      "bus_data/sklearn_models2/83A.sav\n",
      "Finished 83A.csv\n",
      "\n",
      "bus_data/sklearn_models2/84.sav\n",
      "Finished 84.csv\n",
      "\n",
      "bus_data/sklearn_models2/84A.sav\n",
      "Finished 84A.csv\n",
      "\n",
      "bus_data/sklearn_models2/84X.sav\n",
      "Finished 84X.csv\n",
      "\n",
      "bus_data/sklearn_models2/9.sav\n",
      "Finished 9.csv\n",
      "\n",
      "bus_data/sklearn_models2/PP07.sav\n",
      "Finished PP07.csv\n",
      "\n",
      "Finished main!\n"
     ]
    }
   ],
   "source": [
    "read_directory = \"bus_data/clean_data3/\"\n",
    "write_directory = \"bus_data/sklearn_models2/\"\n",
    "\n",
    "main(read_directory, write_directory)"
   ]
  },
  {
   "cell_type": "code",
   "execution_count": null,
   "metadata": {
    "collapsed": true
   },
   "outputs": [],
   "source": []
  },
  {
   "cell_type": "code",
   "execution_count": null,
   "metadata": {
    "collapsed": true
   },
   "outputs": [],
   "source": []
  },
  {
   "cell_type": "code",
   "execution_count": null,
   "metadata": {
    "collapsed": true
   },
   "outputs": [],
   "source": []
  },
  {
   "cell_type": "code",
   "execution_count": null,
   "metadata": {
    "collapsed": true
   },
   "outputs": [],
   "source": []
  },
  {
   "cell_type": "markdown",
   "metadata": {},
   "source": [
    "## Training Models on different data"
   ]
  },
  {
   "cell_type": "code",
   "execution_count": 4,
   "metadata": {
    "collapsed": false
   },
   "outputs": [
    {
     "data": {
      "text/plain": [
       "RandomForestRegressor(bootstrap=True, criterion='mse', max_depth=None,\n",
       "           max_features='auto', max_leaf_nodes=None,\n",
       "           min_impurity_split=1e-07, min_samples_leaf=1,\n",
       "           min_samples_split=2, min_weight_fraction_leaf=0.0,\n",
       "           n_estimators=100, n_jobs=1, oob_score=True, random_state=1,\n",
       "           verbose=0, warm_start=False)"
      ]
     },
     "execution_count": 4,
     "metadata": {},
     "output_type": "execute_result"
    }
   ],
   "source": [
    "read_directory = \"bus_data/clean_data3/\"\n",
    "line = \"15\"\n",
    "\n",
    "#     Read in the data from a csv file using Pandas\n",
    "df = pd.read_csv(read_directory + line + \".csv\", low_memory=False, header=None)\n",
    "df.columns = [\"Timestamp\", \"LineID\", \"JourneyPatternID\", \"TimeFrame\", \n",
    "                  \"VehicleJourneyID\", \"Lon\", \"Lat\", \"VehicleID\", \"StopID\", \n",
    "                  \"AtStop\", \"HumanTime\", \"Day\", \"Hour\", \"JourneyGroup\", \"Runtime\"]\n",
    "\n",
    "# Setting up descriptive & target features\n",
    "features = [\"Day\", \"Hour\", \"JourneyPatternID\", \"StopID\",]# \"JourneyPatternID\"] #'LineID', 'JourneyPatternID']\n",
    "\n",
    "# converting to categories\n",
    "for feature in features:\n",
    "    df[feature] = df[feature].astype('category')\n",
    "\n",
    "# Priming features for the model\n",
    "X = pd.concat([df[features]], axis=1)\n",
    "y = df.Runtime\n",
    "\n",
    "# Creating and training the model \n",
    "rfc = RandomForestRegressor(n_estimators=100, max_features='auto', oob_score=True, random_state=1)\n",
    "rfc.fit(X, y)\n",
    "\n",
    "# pickling the model \n",
    "#     pickle.dump(rfc, open(write_directory + line + \".sav\", 'wb'))"
   ]
  },
  {
   "cell_type": "markdown",
   "metadata": {},
   "source": [
    "### Testing the model "
   ]
  },
  {
   "cell_type": "code",
   "execution_count": 5,
   "metadata": {
    "collapsed": false
   },
   "outputs": [
    {
     "name": "stdout",
     "output_type": "stream",
     "text": [
      "[ 0.01340892  0.06448378  0.23193319  0.69017411]\n"
     ]
    }
   ],
   "source": [
    "importances = rfc.feature_importances_\n",
    "std = np.std([tree.feature_importances_ for tree in rfc.estimators_],\n",
    "             axis=0)\n",
    "indices = np.argsort(importances)[::-1]\n",
    "\n",
    "# Print the feature ranking\n",
    "print(importances)"
   ]
  },
  {
   "cell_type": "code",
   "execution_count": 6,
   "metadata": {
    "collapsed": false
   },
   "outputs": [
    {
     "name": "stdout",
     "output_type": "stream",
     "text": [
      "R Squared:  0.946666847636\n",
      "neg_mean_absolute_error:  238.467708701\n",
      "mean_squared_error:  119577.209713\n",
      "median_absolute_error:  170.908035619\n"
     ]
    },
    {
     "data": {
      "text/plain": [
       "<matplotlib.axes._subplots.AxesSubplot at 0x11f488828>"
      ]
     },
     "execution_count": 6,
     "metadata": {},
     "output_type": "execute_result"
    },
    {
     "data": {
      "image/png": "[encoded data removed]",
      "text/plain": [
       "<matplotlib.figure.Figure at 0x11c178828>"
      ]
     },
     "metadata": {},
     "output_type": "display_data"
    }
   ],
   "source": [
    "rfc_predictions = rfc.predict(X)\n",
    "\n",
    "print(\"R Squared: \", metrics.r2_score(y, rfc_predictions))\n",
    "print(\"neg_mean_absolute_error: \", metrics.mean_absolute_error(y, rfc_predictions))\n",
    "print(\"mean_squared_error: \", metrics.mean_squared_error(y, rfc_predictions))\n",
    "print(\"median_absolute_error: \", metrics.median_absolute_error(y, rfc_predictions))\n",
    "\n",
    "true_v_pred = pd.DataFrame({'Actual Value': y, 'Predicted Value': rfc_predictions, 'Hour': df.Hour, 'Day': df.Day})\n",
    "\n",
    "sample = true_v_pred.sample(150).reset_index(drop=True)\n",
    "sample.plot()"
   ]
  },
  {
   "cell_type": "code",
   "execution_count": 7,
   "metadata": {
    "collapsed": false
   },
   "outputs": [
    {
     "data": {
      "text/plain": [
       "0.0"
      ]
     },
     "execution_count": 7,
     "metadata": {},
     "output_type": "execute_result"
    }
   ],
   "source": [
    "rfc_predictions.min()"
   ]
  },
  {
   "cell_type": "markdown",
   "metadata": {},
   "source": [
    "## Train Test Split"
   ]
  },
  {
   "cell_type": "code",
   "execution_count": 8,
   "metadata": {
    "collapsed": false
   },
   "outputs": [],
   "source": [
    "# Training model\n",
    "\n",
    "X_train, X_test, y_train, y_test = train_test_split(X, y, test_size=0.3)\n",
    "\n",
    "# Fit model on training dataset\n",
    "rfc.fit(X_train, y_train)\n",
    "\n",
    "# Predicted class labels for test examples, \n",
    "rfc_predictions = rfc.predict(X_test)"
   ]
  },
  {
   "cell_type": "code",
   "execution_count": 9,
   "metadata": {
    "collapsed": false
   },
   "outputs": [
    {
     "name": "stdout",
     "output_type": "stream",
     "text": [
      "R Squared:  0.938519560501\n",
      "neg_mean_absolute_error:  257.446261745\n",
      "mean_squared_error:  137928.166084\n",
      "median_absolute_error:  185.683961975\n"
     ]
    },
    {
     "data": {
      "text/plain": [
       "<matplotlib.axes._subplots.AxesSubplot at 0x11d804a90>"
      ]
     },
     "execution_count": 9,
     "metadata": {},
     "output_type": "execute_result"
    },
    {
     "data": {
      "image/png": "[encoded data removed]",
      "text/plain": [
       "<matplotlib.figure.Figure at 0x11c178780>"
      ]
     },
     "metadata": {},
     "output_type": "display_data"
    }
   ],
   "source": [
    "# Accuracy metrics\n",
    "\n",
    "print(\"R Squared: \", metrics.r2_score(y_test, rfc_predictions))\n",
    "print(\"neg_mean_absolute_error: \", metrics.mean_absolute_error(y_test, rfc_predictions))\n",
    "print(\"mean_squared_error: \", metrics.mean_squared_error(y_test, rfc_predictions))\n",
    "print(\"median_absolute_error: \", metrics.median_absolute_error(y_test, rfc_predictions))\n",
    "\n",
    "# y_test,rfc_predictions, hour, day = zip(*sorted(zip(y_test,rfc_predictions, X_test.Hour, X_test.Day),key=lambda x: x[0]))\n",
    "\n",
    "true_v_pred = pd.DataFrame({'Actual Value': y_test, 'Predicted Value': rfc_predictions}) #, 'Hour': hour, 'Day': day})\n",
    "\n",
    "sample = true_v_pred.sample(50).reset_index(drop=True)\n",
    "sample.plot()\n",
    "\n",
    "\n"
   ]
  },
  {
   "cell_type": "code",
   "execution_count": 10,
   "metadata": {
    "collapsed": false
   },
   "outputs": [
    {
     "data": {
      "text/plain": [
       "0.0"
      ]
     },
     "execution_count": 10,
     "metadata": {},
     "output_type": "execute_result"
    }
   ],
   "source": [
    "rfc_predictions.min()"
   ]
  },
  {
   "cell_type": "code",
   "execution_count": null,
   "metadata": {
    "collapsed": true
   },
   "outputs": [],
   "source": []
  },
  {
   "cell_type": "code",
   "execution_count": null,
   "metadata": {
    "collapsed": true
   },
   "outputs": [],
   "source": []
  },
  {
   "cell_type": "code",
   "execution_count": null,
   "metadata": {
    "collapsed": true
   },
   "outputs": [],
   "source": []
  }
 ],
 "metadata": {
  "kernelspec": {
   "display_name": "Python 3",
   "language": "python",
   "name": "python3"
  },
  "language_info": {
   "codemirror_mode": {
    "name": "ipython",
    "version": 3
   },
   "file_extension": ".py",
   "mimetype": "text/x-python",
   "name": "python",
   "nbconvert_exporter": "python",
   "pygments_lexer": "ipython3",
   "version": "3.6.0"
  }
 },
 "nbformat": 4,
 "nbformat_minor": 0
}
