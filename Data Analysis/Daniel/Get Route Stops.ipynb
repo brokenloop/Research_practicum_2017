{
 "cells": [
  {
   "cell_type": "code",
   "execution_count": 1,
   "metadata": {
    "collapsed": true
   },
   "outputs": [],
   "source": [
    "import pandas as pd\n",
    "\n",
    "import matplotlib.pyplot as plt\n",
    "%matplotlib inline"
   ]
  },
  {
   "cell_type": "code",
   "execution_count": null,
   "metadata": {
    "collapsed": true
   },
   "outputs": [],
   "source": []
  },
  {
   "cell_type": "markdown",
   "metadata": {},
   "source": [
    "### Static Variables"
   ]
  },
  {
   "cell_type": "code",
   "execution_count": 2,
   "metadata": {
    "collapsed": true
   },
   "outputs": [],
   "source": [
    "line = \"18\""
   ]
  },
  {
   "cell_type": "code",
   "execution_count": null,
   "metadata": {
    "collapsed": true
   },
   "outputs": [],
   "source": []
  },
  {
   "cell_type": "markdown",
   "metadata": {},
   "source": [
    "### Extracting Data"
   ]
  },
  {
   "cell_type": "code",
   "execution_count": 3,
   "metadata": {
    "collapsed": false
   },
   "outputs": [
    {
     "data": {
      "text/plain": [
       "(81350, 14)"
      ]
     },
     "execution_count": 3,
     "metadata": {},
     "output_type": "execute_result"
    }
   ],
   "source": [
    "df = pd.read_csv(\"bus_data/line_data/\" + line + \".csv\", low_memory=False, header=None)\n",
    "df.columns = [\"Timestamp\", \"LineID\", \"JourneyPatternID\", \"TimeFrame\", \n",
    "              \"VehicleJourneyID\", \"Lon\", \"Lat\", \"VehicleID\", \"StopID\", \n",
    "              \"AtStop\", \"HumanTime\", \"Day\", \"Hour\", \"Runtime\"]\n",
    "\n",
    "#convert StopID to string\n",
    "\n",
    "df['StopID'] = df['StopID'].astype('str')\n",
    "\n",
    "\n",
    "df.shape"
   ]
  },
  {
   "cell_type": "code",
   "execution_count": 4,
   "metadata": {
    "collapsed": false
   },
   "outputs": [],
   "source": [
    "schedule = pd.read_csv(\"bus_data/dublinbus_scheduledData2013csv.csv\", low_memory=False, encoding=\"ISO-8859-1\")\n"
   ]
  },
  {
   "cell_type": "markdown",
   "metadata": {},
   "source": [
    "### Exploring schedule"
   ]
  },
  {
   "cell_type": "code",
   "execution_count": null,
   "metadata": {
    "collapsed": true
   },
   "outputs": [],
   "source": []
  },
  {
   "cell_type": "code",
   "execution_count": 5,
   "metadata": {
    "collapsed": false,
    "scrolled": true
   },
   "outputs": [
    {
     "data": {
      "text/html": [
       "<div>\n",
       "<table border=\"1\" class=\"dataframe\">\n",
       "  <thead>\n",
       "    <tr style=\"text-align: right;\">\n",
       "      <th></th>\n",
       "      <th>trip_id</th>\n",
       "      <th>arrival_time</th>\n",
       "      <th>departure_time</th>\n",
       "      <th>stop_id</th>\n",
       "      <th>Name without locality</th>\n",
       "      <th>Name</th>\n",
       "      <th>Lat</th>\n",
       "      <th>Long</th>\n",
       "      <th>stop_sequence</th>\n",
       "      <th>stop_headsign</th>\n",
       "      <th>shape_dist_traveled</th>\n",
       "    </tr>\n",
       "  </thead>\n",
       "  <tbody>\n",
       "    <tr>\n",
       "      <th>0</th>\n",
       "      <td>1.1598.0-33A-b12-1.451.I</td>\n",
       "      <td>16:15:00</td>\n",
       "      <td>16:15:00</td>\n",
       "      <td>8240DB003813</td>\n",
       "      <td>Footbridge</td>\n",
       "      <td>Skerries Road</td>\n",
       "      <td>53.591377</td>\n",
       "      <td>-6.156176</td>\n",
       "      <td>1</td>\n",
       "      <td>Swords</td>\n",
       "      <td>0.000000</td>\n",
       "    </tr>\n",
       "    <tr>\n",
       "      <th>1</th>\n",
       "      <td>1.1598.0-33A-b12-1.451.I</td>\n",
       "      <td>16:15:39</td>\n",
       "      <td>16:15:39</td>\n",
       "      <td>8240DB003814</td>\n",
       "      <td>Barnageeragh Road</td>\n",
       "      <td>Balbriggan Rd</td>\n",
       "      <td>53.585544</td>\n",
       "      <td>-6.148605</td>\n",
       "      <td>2</td>\n",
       "      <td>Swords</td>\n",
       "      <td>827.070328</td>\n",
       "    </tr>\n",
       "    <tr>\n",
       "      <th>2</th>\n",
       "      <td>1.1598.0-33A-b12-1.451.I</td>\n",
       "      <td>16:17:11</td>\n",
       "      <td>16:17:11</td>\n",
       "      <td>8240DB003815</td>\n",
       "      <td>Barnageeragh Road</td>\n",
       "      <td>North Cliff Heights</td>\n",
       "      <td>53.581935</td>\n",
       "      <td>-6.125247</td>\n",
       "      <td>3</td>\n",
       "      <td>Swords</td>\n",
       "      <td>2746.649492</td>\n",
       "    </tr>\n",
       "    <tr>\n",
       "      <th>3</th>\n",
       "      <td>1.1598.0-33A-b12-1.451.I</td>\n",
       "      <td>16:17:22</td>\n",
       "      <td>16:17:22</td>\n",
       "      <td>8240DB003816</td>\n",
       "      <td>Mourne Drive</td>\n",
       "      <td>North Cliff Heights</td>\n",
       "      <td>53.580471</td>\n",
       "      <td>-6.127622</td>\n",
       "      <td>4</td>\n",
       "      <td>Swords</td>\n",
       "      <td>2973.900755</td>\n",
       "    </tr>\n",
       "    <tr>\n",
       "      <th>4</th>\n",
       "      <td>1.1598.0-33A-b12-1.451.I</td>\n",
       "      <td>16:17:44</td>\n",
       "      <td>16:17:44</td>\n",
       "      <td>8240DB003566</td>\n",
       "      <td>Selskar Court</td>\n",
       "      <td>Town Parks Rd</td>\n",
       "      <td>53.578067</td>\n",
       "      <td>-6.125055</td>\n",
       "      <td>5</td>\n",
       "      <td>Swords</td>\n",
       "      <td>3447.155571</td>\n",
       "    </tr>\n",
       "  </tbody>\n",
       "</table>\n",
       "</div>"
      ],
      "text/plain": [
       "                    trip_id arrival_time departure_time       stop_id  \\\n",
       "0  1.1598.0-33A-b12-1.451.I     16:15:00       16:15:00  8240DB003813   \n",
       "1  1.1598.0-33A-b12-1.451.I     16:15:39       16:15:39  8240DB003814   \n",
       "2  1.1598.0-33A-b12-1.451.I     16:17:11       16:17:11  8240DB003815   \n",
       "3  1.1598.0-33A-b12-1.451.I     16:17:22       16:17:22  8240DB003816   \n",
       "4  1.1598.0-33A-b12-1.451.I     16:17:44       16:17:44  8240DB003566   \n",
       "\n",
       "  Name without locality                 Name        Lat      Long  \\\n",
       "0            Footbridge        Skerries Road  53.591377 -6.156176   \n",
       "1     Barnageeragh Road        Balbriggan Rd  53.585544 -6.148605   \n",
       "2     Barnageeragh Road  North Cliff Heights  53.581935 -6.125247   \n",
       "3          Mourne Drive  North Cliff Heights  53.580471 -6.127622   \n",
       "4         Selskar Court        Town Parks Rd  53.578067 -6.125055   \n",
       "\n",
       "   stop_sequence stop_headsign  shape_dist_traveled  \n",
       "0              1        Swords             0.000000  \n",
       "1              2        Swords           827.070328  \n",
       "2              3        Swords          2746.649492  \n",
       "3              4        Swords          2973.900755  \n",
       "4              5        Swords          3447.155571  "
      ]
     },
     "execution_count": 5,
     "metadata": {},
     "output_type": "execute_result"
    }
   ],
   "source": [
    "schedule.head()"
   ]
  },
  {
   "cell_type": "code",
   "execution_count": 6,
   "metadata": {
    "collapsed": true
   },
   "outputs": [],
   "source": [
    "# Extracting StopID from stop_id\n",
    "\n",
    "def get_stop(string):\n",
    "    var = string[-4:]\n",
    "    return var\n",
    "\n",
    "schedule[\"StopID\"] = schedule['stop_id'].apply(lambda x: get_stop(x))"
   ]
  },
  {
   "cell_type": "code",
   "execution_count": 7,
   "metadata": {
    "collapsed": false
   },
   "outputs": [
    {
     "name": "stderr",
     "output_type": "stream",
     "text": [
      "/Users/danieljordan/anaconda3/lib/python3.6/site-packages/ipykernel/__main__.py:3: FutureWarning: currently extract(expand=None) means expand=False (return Index/Series/DataFrame) but in a future version of pandas this will be changed to expand=True (return DataFrame)\n",
      "  app.launch_new_instance()\n"
     ]
    }
   ],
   "source": [
    "# Extracting LineID from trip_id\n",
    "\n",
    "schedule[\"LineID\"] = schedule[\"trip_id\"].str.extract('\\-(.*?)\\-')"
   ]
  },
  {
   "cell_type": "code",
   "execution_count": 8,
   "metadata": {
    "collapsed": false
   },
   "outputs": [
    {
     "name": "stdout",
     "output_type": "stream",
     "text": [
      "['33A' '41C' '114' '39' '25A' '25X' '39A' '75' '41' '13' '747' '9' '76'\n",
      " '53' '151' '104' '27' '63' '44' '123' '11' '4' '16' '16C' '1' '61' '15'\n",
      " '236' '84' '185' '38' '70' '14' '38A' '14C' '40' '40B' '83' '38B' '83A'\n",
      " '18' '45A' '29A' '31' '31A' '32' '7' '7D' '150' '145' '184' '46A' '47'\n",
      " '140' '41A' '43' '42' '65B' '65' '41B' '33' '27B' '102' '33B' '17A' '25B'\n",
      " '122' '25' '17' '59' '67' '120' '238' '270' '27A' '56A' '77A' '37' '26'\n",
      " '66' '66A' '220' '130' '40D' '15B' '15A' '54A' '49' '79A' '79' '68' '69'\n",
      " '116' '161' '41X' '239' '68A' '69X' '66X' '51D' '8' '7B' '33X' '66B' '67X'\n",
      " '76A' '27X' '44B' '86' '332' '84A' '51X' '46E' '31B' '111' '32X' '142'\n",
      " '84X' '118']\n"
     ]
    }
   ],
   "source": [
    "# Number of unique LineIDs \n",
    "\n",
    "lines = schedule[\"LineID\"].unique()\n",
    "\n",
    "print(lines)"
   ]
  },
  {
   "cell_type": "code",
   "execution_count": 9,
   "metadata": {
    "collapsed": false
   },
   "outputs": [],
   "source": [
    "# Isolating line\n",
    "# Examining how many stops are on each variation\n",
    "# Saving this info in stops\n",
    "\n",
    "schedule_15 = schedule[schedule.LineID == line]\n",
    "\n",
    "headsigns = schedule_15.stop_headsign.unique()\n",
    "\n",
    "stops = {}\n",
    "\n",
    "for sign in headsigns:\n",
    "    stop_count = schedule_15[schedule_15.stop_headsign == sign].StopID.nunique()\n",
    "    stop_list = schedule_15[schedule_15.stop_headsign == sign].StopID.unique()\n",
    "    stops[sign] = [stop_count, stop_list]"
   ]
  },
  {
   "cell_type": "code",
   "execution_count": null,
   "metadata": {
    "collapsed": true
   },
   "outputs": [],
   "source": []
  },
  {
   "cell_type": "markdown",
   "metadata": {},
   "source": [
    "### Exploring line 15"
   ]
  },
  {
   "cell_type": "code",
   "execution_count": 10,
   "metadata": {
    "collapsed": false
   },
   "outputs": [],
   "source": [
    "# # Isolating variations - getting variation with most stops\n",
    "\n",
    "# df_0001 = df[df.JourneyPatternID == 1]\n",
    "# df_1001 = df[df.JourneyPatternID == 1001]\n",
    "# df_0002 = df[df.JourneyPatternID == 2]\n",
    "# df_1002 = df[df.JourneyPatternID == 1002]\n",
    "\n",
    "df_var = df.groupby.JourneyPatternID\n"
   ]
  },
  {
   "cell_type": "code",
   "execution_count": 11,
   "metadata": {
    "collapsed": true
   },
   "outputs": [],
   "source": [
    "# Naming variations\n",
    "\n",
    "df_0001.name = \"df_0001\"\n",
    "df_1001.name = \"df_1001\"\n",
    "df_0002.name = \"df_0002\"\n",
    "df_1002.name = \"df_1002\"\n",
    "\n"
   ]
  },
  {
   "cell_type": "code",
   "execution_count": 12,
   "metadata": {
    "collapsed": false
   },
   "outputs": [],
   "source": [
    "runtimes = df_0001.groupby(\"StopID\").Runtime.mean()"
   ]
  },
  {
   "cell_type": "code",
   "execution_count": 13,
   "metadata": {
    "collapsed": false
   },
   "outputs": [],
   "source": [
    "# print(runtimes.sort_values())"
   ]
  },
  {
   "cell_type": "code",
   "execution_count": 15,
   "metadata": {
    "collapsed": false
   },
   "outputs": [],
   "source": [
    "# print(\"1218\" in stops[\"Ballycullen Road\"][1])"
   ]
  },
  {
   "cell_type": "code",
   "execution_count": 16,
   "metadata": {
    "collapsed": true
   },
   "outputs": [],
   "source": [
    "# stoplist = [x for x in df_0002.StopID.unique() if x not in stops[\"Ballycullen Road\"][1]]"
   ]
  },
  {
   "cell_type": "code",
   "execution_count": 17,
   "metadata": {
    "collapsed": false
   },
   "outputs": [],
   "source": [
    "# print(stoplist)"
   ]
  },
  {
   "cell_type": "code",
   "execution_count": null,
   "metadata": {
    "collapsed": true
   },
   "outputs": [],
   "source": []
  },
  {
   "cell_type": "code",
   "execution_count": null,
   "metadata": {
    "collapsed": true
   },
   "outputs": [],
   "source": []
  },
  {
   "cell_type": "markdown",
   "metadata": {},
   "source": [
    "### Comparing Schedule to our data\n"
   ]
  },
  {
   "cell_type": "code",
   "execution_count": 18,
   "metadata": {
    "collapsed": false
   },
   "outputs": [
    {
     "name": "stdout",
     "output_type": "stream",
     "text": [
      "71\n",
      "72\n",
      "0\n",
      "50\n"
     ]
    }
   ],
   "source": [
    "# Number of unique stops on each variation in our data\n",
    "\n",
    "print(df_0001.StopID.nunique())\n",
    "print(df_1001.StopID.nunique())\n",
    "print(df_0002.StopID.nunique())\n",
    "print(df_1002.StopID.nunique())"
   ]
  },
  {
   "cell_type": "code",
   "execution_count": 19,
   "metadata": {
    "collapsed": false
   },
   "outputs": [
    {
     "name": "stdout",
     "output_type": "stream",
     "text": [
      "Palmerstown : 62\n",
      "Sandymount : 64\n"
     ]
    }
   ],
   "source": [
    "# Number of stops on each variation in schedule - doesn't line up exactly \n",
    "\n",
    "for key, value in stops.items():\n",
    "    print(key, \":\", value[0])"
   ]
  },
  {
   "cell_type": "code",
   "execution_count": null,
   "metadata": {
    "collapsed": true
   },
   "outputs": [],
   "source": []
  },
  {
   "cell_type": "code",
   "execution_count": null,
   "metadata": {
    "collapsed": false
   },
   "outputs": [],
   "source": [
    "# # Testing how many stops in our data are missing from schedule\n",
    "\n",
    "# journey_patterns = [df_0001, df_1001, df_1002, df_0002]\n",
    "\n",
    "# for pattern in journey_patterns:\n",
    "#     set1 = set(pattern.StopID.unique())\n",
    "#     print(len(set1.difference(set(schedule_stops))))\n"
   ]
  },
  {
   "cell_type": "code",
   "execution_count": null,
   "metadata": {
    "collapsed": true
   },
   "outputs": [],
   "source": []
  },
  {
   "cell_type": "code",
   "execution_count": null,
   "metadata": {
    "collapsed": false
   },
   "outputs": [],
   "source": [
    "# Finding stops that are on schedule variation but not our data\n",
    "\n",
    "set1 = set(df_0001.StopID.unique())\n",
    "set2 = set(stops[\"Ballycullen Road\"][1])\n",
    "\n",
    "misc_stops = set2.difference(set1)\n",
    "\n",
    "print(list(misc_stops))"
   ]
  },
  {
   "cell_type": "code",
   "execution_count": null,
   "metadata": {
    "collapsed": false
   },
   "outputs": [],
   "source": [
    "# Looking at number of shared stops in our data & schedule\n",
    "\n",
    "for pattern in journey_patterns:\n",
    "    set1 = set(pattern.StopID.unique())\n",
    "    print(\"Number of stops in\", pattern.name, \"=\", len(set1))\n",
    "    for key, value in stops.items():\n",
    "        set2 = set(value[1])\n",
    "#         print(pattern.name, \"&\", key, \":\", set2.issubset(set1))\n",
    "        print(pattern.name, \"&\", key, \":\", len(set2.intersection(set1)))\n",
    "    print()\n",
    "\n",
    "# print(set1.isdisjoint(set2))\n",
    "# print(set1.difference(set2))"
   ]
  },
  {
   "cell_type": "markdown",
   "metadata": {},
   "source": [
    "### Plotting Stops"
   ]
  },
  {
   "cell_type": "code",
   "execution_count": null,
   "metadata": {
    "collapsed": false
   },
   "outputs": [],
   "source": [
    "# Plotting stops in our data\n",
    "\n",
    "locations = df_0001[[\"Lon\", \"Lat\"]]\n",
    "locations.plot.scatter(x=\"Lon\", y=\"Lat\")"
   ]
  },
  {
   "cell_type": "code",
   "execution_count": null,
   "metadata": {
    "collapsed": false
   },
   "outputs": [],
   "source": [
    "# Plotting stops in schedule\n",
    "variation_stops = stops[\"Ballycullen Road\"][1]\n",
    "\n",
    "schedule_locations = schedule_15[schedule_15.StopID.isin(variation_stops)]\n",
    "schedule_locations = schedule_15[[\"Lat\", \"Long\"]]\n",
    "schedule_locations.plot.scatter(x=\"Long\", y=\"Lat\")"
   ]
  },
  {
   "cell_type": "code",
   "execution_count": null,
   "metadata": {
    "collapsed": false
   },
   "outputs": [],
   "source": [
    "# Plotting stops in schedule but not data (misc_stops)\n",
    "\n",
    "misc_df = schedule_15[schedule_15.StopID.isin(misc_stops)]\n",
    "\n",
    "misc_df.head()\n",
    "\n",
    "locations = misc_df[[\"Long\", \"Lat\"]]\n",
    "locations.plot.scatter(x=\"Long\", y=\"Lat\")"
   ]
  },
  {
   "cell_type": "code",
   "execution_count": null,
   "metadata": {
    "collapsed": true
   },
   "outputs": [],
   "source": []
  },
  {
   "cell_type": "markdown",
   "metadata": {},
   "source": [
    "### Removing irrelevant stops in our data"
   ]
  },
  {
   "cell_type": "code",
   "execution_count": null,
   "metadata": {
    "collapsed": false,
    "scrolled": true
   },
   "outputs": [],
   "source": [
    "# df_0001[\"StopID\"].value_counts()"
   ]
  },
  {
   "cell_type": "code",
   "execution_count": null,
   "metadata": {
    "collapsed": false
   },
   "outputs": [],
   "source": [
    "# Removing stops that don't occur at least 100 times in our data\n",
    "\n",
    "groups = df_0001.groupby('StopID')\n",
    "clean_0001 = groups.filter(lambda x: len(x) > 100)"
   ]
  },
  {
   "cell_type": "code",
   "execution_count": null,
   "metadata": {
    "collapsed": false
   },
   "outputs": [],
   "source": [
    "clean_0001[\"StopID\"].value_counts()"
   ]
  },
  {
   "cell_type": "code",
   "execution_count": null,
   "metadata": {
    "collapsed": false
   },
   "outputs": [],
   "source": [
    "# Plotting stops in our data\n",
    "\n",
    "locations = clean_0001[[\"Lon\", \"Lat\"]]\n",
    "locations.plot.scatter(x=\"Lon\", y=\"Lat\")"
   ]
  },
  {
   "cell_type": "code",
   "execution_count": null,
   "metadata": {
    "collapsed": false
   },
   "outputs": [],
   "source": [
    "df_0001[\"StopID\"].value_counts().plot()"
   ]
  },
  {
   "cell_type": "code",
   "execution_count": null,
   "metadata": {
    "collapsed": true
   },
   "outputs": [],
   "source": []
  },
  {
   "cell_type": "markdown",
   "metadata": {
    "collapsed": true
   },
   "source": [
    "### Plotting common routes between data and schedule"
   ]
  },
  {
   "cell_type": "code",
   "execution_count": null,
   "metadata": {
    "collapsed": true
   },
   "outputs": [],
   "source": [
    "set1 = set(df_0001.StopID.unique())\n",
    "set2 = set(stops[\"Ballycullen Road\"][1])\n",
    "\n",
    "common_stops = set2.intersection(set1)"
   ]
  },
  {
   "cell_type": "code",
   "execution_count": null,
   "metadata": {
    "collapsed": false
   },
   "outputs": [],
   "source": [
    "# Plotting stops in schedule and data (common_stops)\n",
    "\n",
    "common_df = schedule_15[schedule_15.StopID.isin(common_stops)]\n",
    "\n",
    "common_df.head()\n",
    "\n",
    "locations = common_df[[\"Long\", \"Lat\"]]\n",
    "locations.plot.scatter(x=\"Long\", y=\"Lat\")"
   ]
  },
  {
   "cell_type": "code",
   "execution_count": null,
   "metadata": {
    "collapsed": true
   },
   "outputs": [],
   "source": []
  },
  {
   "cell_type": "code",
   "execution_count": null,
   "metadata": {
    "collapsed": true
   },
   "outputs": [],
   "source": []
  },
  {
   "cell_type": "code",
   "execution_count": null,
   "metadata": {
    "collapsed": true
   },
   "outputs": [],
   "source": []
  },
  {
   "cell_type": "code",
   "execution_count": null,
   "metadata": {
    "collapsed": true
   },
   "outputs": [],
   "source": []
  },
  {
   "cell_type": "code",
   "execution_count": null,
   "metadata": {
    "collapsed": true
   },
   "outputs": [],
   "source": []
  },
  {
   "cell_type": "code",
   "execution_count": null,
   "metadata": {
    "collapsed": true
   },
   "outputs": [],
   "source": []
  }
 ],
 "metadata": {
  "kernelspec": {
   "display_name": "Python 3",
   "language": "python",
   "name": "python3"
  },
  "language_info": {
   "codemirror_mode": {
    "name": "ipython",
    "version": 3
   },
   "file_extension": ".py",
   "mimetype": "text/x-python",
   "name": "python",
   "nbconvert_exporter": "python",
   "pygments_lexer": "ipython3",
   "version": "3.6.0"
  }
 },
 "nbformat": 4,
 "nbformat_minor": 2
}
