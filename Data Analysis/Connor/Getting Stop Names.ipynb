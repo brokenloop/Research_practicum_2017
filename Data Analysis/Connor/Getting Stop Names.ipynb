{
 "cells": [
  {
   "cell_type": "code",
   "execution_count": null,
   "metadata": {
    "collapsed": true
   },
   "outputs": [],
   "source": [
    "from selenium import webdriver\n",
    "from bs4 import BeautifulSoup as bs\n",
    "import pandas as pd\n",
    "\n",
    "# To use selenium webdriver you have to install selenium (pip install selenium) \n",
    "# and download the specific driver depending on the browser you are using:\n",
    "# https://sites.google.com/a/chromium.org/chromedriver/downloads (for chrome).\n",
    "# Then make sure the downloaded file is in your PATH (e.p. /usr/local/bin for mac).\n"
   ]
  },
  {
   "cell_type": "code",
   "execution_count": null,
   "metadata": {
    "collapsed": false
   },
   "outputs": [],
   "source": [
    "# Create the instance of Chrome webdriver.\n",
    "# browser.get navigates to the page given by the URL.\n",
    "\n",
    "browser = webdriver.Chrome()\n",
    "browser.get(\"https://www.dublinbus.ie/RTPI/Sources-of-Real-Time-Information/?searchtype=route&searchquery=15\")\n",
    "\n",
    "# Get the source code using selenium and beautifulsoup:\n",
    "\n",
    "html = browser.page_source\n",
    "soup = bs(html, \"lxml\")\n",
    "soup.prettify()\n",
    "soup\n"
   ]
  },
  {
   "cell_type": "code",
   "execution_count": null,
   "metadata": {
    "collapsed": false
   },
   "outputs": [],
   "source": [
    "# Dublin Bus uses a javascript to load the list of bus stops on a route without changing the URL.\n",
    "# So we have to simulate the click event and capture the source code after.\n",
    "# Find the link in the source code that lets you view all the stops on the chosen route.\n",
    "# Use selenium to simulate the click of the 'View Direction' button.\n",
    "\n",
    "browser.find_element_by_link_text('View Direction').click()\n"
   ]
  },
  {
   "cell_type": "code",
   "execution_count": null,
   "metadata": {
    "collapsed": false
   },
   "outputs": [],
   "source": [
    "# Get the source code after the click event.\n",
    "\n",
    "html_new = browser.page_source\n",
    "soup = bs(html_new, \"lxml\")\n",
    "print(soup.prettify())\n"
   ]
  },
  {
   "cell_type": "code",
   "execution_count": null,
   "metadata": {
    "collapsed": false
   },
   "outputs": [],
   "source": [
    "# Find the table that displays all the stops along the route.\n",
    "\n",
    "data = soup.findAll('table',attrs={'id':'rtpi-results'})\n",
    "\n",
    "# Find all the rows in the table and add the content to the list 'stops'.\n",
    "\n",
    "stops = []\n",
    "\n",
    "for tr in data:\n",
    "    rows = tr.findAll('td')\n",
    "    for td in rows:\n",
    "        stops.append(td.contents[0])\n"
   ]
  },
  {
   "cell_type": "code",
   "execution_count": null,
   "metadata": {
    "collapsed": false
   },
   "outputs": [],
   "source": [
    "# Cleans the list for further usage.\n",
    "\n",
    "def strip_stops(stops):\n",
    "    '''Function that strips the list objects of whitespaces, new line breaks, and empty list objects'''\n",
    "    \n",
    "    stripped = [x.strip('\\n') for x in stops]\n",
    "    stripped = [x.rstrip() for x in stripped]\n",
    "    stripped = [x.strip(' ') for x in stripped]\n",
    "    stripped = [x for x in stripped if x != '']\n",
    "    \n",
    "    return stripped\n",
    "\n",
    "stripped = strip_stops(stops)\n"
   ]
  },
  {
   "cell_type": "code",
   "execution_count": null,
   "metadata": {
    "collapsed": false
   },
   "outputs": [],
   "source": [
    "# def create_stop_list(list):\n",
    "    \n",
    "#     StopID = []\n",
    "    \n",
    "#     for i in list[::3]:\n",
    "#         StopID.append(i)\n",
    "        \n",
    "#     StopName = []\n",
    "\n",
    "#     for i in list[1::3]:\n",
    "#         StopName.append(i)\n",
    "        \n",
    "#     StopNameSpecific = []\n",
    "\n",
    "#     for i in list[2::3]:\n",
    "#         StopNameSpecific.append(i)\n",
    "        \n",
    "#     return StopID, StopName, StopNameSpecific\n",
    "\n",
    "#     full_list = []\n",
    "    \n",
    "#     full_list.\n",
    "\n",
    "# full_list = create_stop_list(stripped)\n",
    "    "
   ]
  },
  {
   "cell_type": "code",
   "execution_count": null,
   "metadata": {
    "collapsed": false
   },
   "outputs": [],
   "source": [
    "# df1 = pd.DataFrame(full_list)\n",
    "# # df1 = df1.transpose()\n",
    "# # df1.columns = ['StopID', 'StopName', 'StopNameSpecific']\n",
    "# df1"
   ]
  },
  {
   "cell_type": "code",
   "execution_count": null,
   "metadata": {
    "collapsed": false
   },
   "outputs": [],
   "source": [
    "# Extract the stop numbers and store them in a separate list.\n",
    "\n",
    "StopID = []\n",
    "\n",
    "for i in stripped[::3]:\n",
    "\n",
    "    StopID.append(i)\n"
   ]
  },
  {
   "cell_type": "code",
   "execution_count": null,
   "metadata": {
    "collapsed": false
   },
   "outputs": [],
   "source": [
    "# Extract the stop names and store them in a separate list.\n",
    "\n",
    "StopName = []\n",
    "\n",
    "for i in stripped[1::3]:\n",
    "\n",
    "    StopName.append(i)\n"
   ]
  },
  {
   "cell_type": "code",
   "execution_count": null,
   "metadata": {
    "collapsed": false
   },
   "outputs": [],
   "source": [
    "# Extract the more specific names and store them in a separate list.\n",
    "\n",
    "StopNameSpecific = []\n",
    "\n",
    "for i in stripped[2::3]:\n",
    "    StopNameSpecific.append(i)\n"
   ]
  },
  {
   "cell_type": "code",
   "execution_count": null,
   "metadata": {
    "collapsed": false
   },
   "outputs": [],
   "source": [
    "# Reads the individual lists into a joint dataframe.\n",
    "\n",
    "df = pd.DataFrame(\n",
    "    {'StopID': StopID,\n",
    "     'StopName': StopName,\n",
    "     'StopNameSpecific': StopNameSpecific\n",
    "    })\n",
    "\n",
    "df.head()\n"
   ]
  },
  {
   "cell_type": "code",
   "execution_count": null,
   "metadata": {
    "collapsed": true
   },
   "outputs": [],
   "source": [
    "df.to_csv(\"bus_data/cleaned_data/line15_stop_list_today.csv\")"
   ]
  },
  {
   "cell_type": "code",
   "execution_count": null,
   "metadata": {
    "collapsed": true
   },
   "outputs": [],
   "source": [
    "browser.quit()\n",
    "\n",
    "## Storing stops in DB:"
   ]
  },
  {
   "cell_type": "code",
   "execution_count": null,
   "metadata": {
    "collapsed": true
   },
   "outputs": [],
   "source": []
  }
 ],
 "metadata": {
  "anaconda-cloud": {},
  "kernelspec": {
   "display_name": "Python [default]",
   "language": "python",
   "name": "python3"
  },
  "language_info": {
   "codemirror_mode": {
    "name": "ipython",
    "version": 3
   },
   "file_extension": ".py",
   "mimetype": "text/x-python",
   "name": "python",
   "nbconvert_exporter": "python",
   "pygments_lexer": "ipython3",
   "version": "3.5.2"
  }
 },
 "nbformat": 4,
 "nbformat_minor": 1
}
