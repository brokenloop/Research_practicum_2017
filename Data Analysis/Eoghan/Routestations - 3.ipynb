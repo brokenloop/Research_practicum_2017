{
 "cells": [
  {
   "cell_type": "code",
   "execution_count": 1,
   "metadata": {
    "collapsed": true
   },
   "outputs": [],
   "source": [
    "import pandas as pd\n",
    "import numpy as np\n",
    "import os\n",
    "\n",
    "import matplotlib.pyplot as plt\n",
    "%matplotlib inline"
   ]
  },
  {
   "cell_type": "markdown",
   "metadata": {},
   "source": [
    "### Static Variables"
   ]
  },
  {
   "cell_type": "code",
   "execution_count": 2,
   "metadata": {
    "collapsed": true
   },
   "outputs": [],
   "source": [
    "linefiles = os.listdir(\"bus_data/clean_data2\")\n",
    "lines = []\n",
    "for line in linefiles:\n",
    "    lines.append(line.replace(\".csv\",\"\"))\n",
    "    \n"
   ]
  },
  {
   "cell_type": "markdown",
   "metadata": {},
   "source": [
    "### Extracting Data"
   ]
  },
  {
   "cell_type": "markdown",
   "metadata": {},
   "source": [
    "### Read in External Data"
   ]
  },
  {
   "cell_type": "code",
   "execution_count": 20,
   "metadata": {
    "collapsed": false
   },
   "outputs": [],
   "source": [
    "schedule = pd.read_csv(\"bus_data/dublinbus_scheduledData2013csv.csv\", low_memory=False, encoding=\"ISO-8859-1\")"
   ]
  },
  {
   "cell_type": "code",
   "execution_count": 21,
   "metadata": {
    "collapsed": false
   },
   "outputs": [],
   "source": [
    "# Dropping null values - some in our dataframe are marked as 'null' (string) for some reason?\n",
    "schedule = schedule.dropna()\n",
    "schedule = schedule[schedule.stop_id != 'null']"
   ]
  },
  {
   "cell_type": "code",
   "execution_count": 22,
   "metadata": {
    "collapsed": true
   },
   "outputs": [],
   "source": [
    "# Extracting StopID from stop_id\n",
    "\n",
    "def get_stop(string):\n",
    "    var = string[-4:]\n",
    "    return var\n",
    "\n",
    "schedule[\"StopID\"] = schedule['stop_id'].apply(lambda x: get_stop(x))"
   ]
  },
  {
   "cell_type": "code",
   "execution_count": 23,
   "metadata": {
    "collapsed": false
   },
   "outputs": [
    {
     "name": "stderr",
     "output_type": "stream",
     "text": [
      "C:\\Users\\eogha\\Anaconda3\\envs\\comp47350\\lib\\site-packages\\ipykernel\\__main__.py:2: FutureWarning: currently extract(expand=None) means expand=False (return Index/Series/DataFrame) but in a future version of pandas this will be changed to expand=True (return DataFrame)\n",
      "  from ipykernel import kernelapp as app\n"
     ]
    }
   ],
   "source": [
    "# Extracting LineID from trip_id\n",
    "schedule[\"LineID\"] = schedule[\"trip_id\"].str.extract('\\-(.*?)\\-')"
   ]
  },
  {
   "cell_type": "code",
   "execution_count": 24,
   "metadata": {
    "collapsed": false
   },
   "outputs": [],
   "source": [
    "# Convert StopIDs back to int\n",
    "# df['StopID'] = df['StopID'].astype('int64')\n",
    "schedule['StopID'] = schedule['StopID'].astype('int64')"
   ]
  },
  {
   "cell_type": "code",
   "execution_count": 25,
   "metadata": {
    "collapsed": true
   },
   "outputs": [],
   "source": [
    "# Extracting direction from trip_id\n",
    "def get_direction(string):\n",
    "    var = string[-1:]\n",
    "    return var\n",
    "\n",
    "schedule[\"Direction\"] = schedule['trip_id'].apply(lambda x: get_direction(x))"
   ]
  },
  {
   "cell_type": "code",
   "execution_count": 26,
   "metadata": {
    "collapsed": true
   },
   "outputs": [],
   "source": [
    "def get_first_bit(string):\n",
    "    var = string.split(\"-\")[0]\n",
    "    return var\n",
    "\n",
    "schedule[\"first_bit\"] = schedule['trip_id'].apply(lambda x: get_first_bit(x))"
   ]
  },
  {
   "cell_type": "code",
   "execution_count": 27,
   "metadata": {
    "collapsed": true
   },
   "outputs": [],
   "source": [
    "def get_middle_bit(string):\n",
    "    var = string.split(\"-\")[2]\n",
    "    return var\n",
    "\n",
    "schedule[\"middle_bit\"] = schedule['trip_id'].apply(lambda x: get_middle_bit(x))"
   ]
  },
  {
   "cell_type": "code",
   "execution_count": 28,
   "metadata": {
    "collapsed": true
   },
   "outputs": [],
   "source": [
    "def get_last_bit(string):\n",
    "    var = string.split(\"-\")[3][2:-2]\n",
    "    return var\n",
    "\n",
    "schedule[\"last_bit\"] = schedule['trip_id'].apply(lambda x: get_last_bit(x))"
   ]
  },
  {
   "cell_type": "code",
   "execution_count": 29,
   "metadata": {
    "collapsed": true
   },
   "outputs": [],
   "source": [
    "# Converting Direction to JourneyPatternID\n",
    "schedule[\"JourneyPatternID\"] = schedule['Direction'].apply(lambda x: \"1001\" if x == \"I\" else \"0001\")\n",
    "schedule['JourneyPatternID'] = schedule['JourneyPatternID'].astype('int64')"
   ]
  },
  {
   "cell_type": "markdown",
   "metadata": {},
   "source": [
    "### Exploration"
   ]
  },
  {
   "cell_type": "markdown",
   "metadata": {},
   "source": [
    "#### Investigate Trip ID"
   ]
  },
  {
   "cell_type": "code",
   "execution_count": 30,
   "metadata": {
    "collapsed": false
   },
   "outputs": [
    {
     "name": "stdout",
     "output_type": "stream",
     "text": [
      "1\n",
      "102\n",
      "104\n",
      "11\n",
      "111\n",
      "114\n",
      "116\n",
      "118\n",
      "120\n",
      "122\n",
      "123\n",
      "13\n",
      "130\n",
      "14\n",
      "140\n",
      "142\n",
      "145\n",
      "14C\n",
      "15\n",
      "150\n",
      "151\n",
      "15A\n",
      "15B\n",
      "16\n",
      "161\n",
      "16C\n",
      "17\n",
      "17A\n",
      "18\n",
      "184\n",
      "185\n",
      "220\n",
      "236\n",
      "238\n",
      "239\n",
      "25\n",
      "25A\n",
      "25B\n",
      "25X\n",
      "26\n",
      "27\n",
      "270\n",
      "27A\n",
      "27B\n",
      "27X\n",
      "29A\n",
      "31\n",
      "31A\n",
      "31B\n",
      "32\n",
      "32A\n",
      "32B\n",
      "32X\n",
      "33\n",
      "33A\n",
      "33B\n",
      "33X\n",
      "37\n",
      "38\n",
      "38A\n",
      "38B\n",
      "39\n",
      "39A\n",
      "4\n",
      "40\n",
      "40B\n",
      "40D\n",
      "41\n",
      "41A\n",
      "41C\n",
      "41X\n",
      "42\n",
      "43\n",
      "44\n",
      "44B\n",
      "45A\n",
      "46A\n",
      "46E\n",
      "47\n",
      "49\n",
      "51D\n",
      "51X\n",
      "53\n",
      "54A\n",
      "56A\n",
      "59\n",
      "61\n",
      "63\n",
      "65\n",
      "65B\n",
      "66\n",
      "66A\n",
      "66B\n",
      "66X\n",
      "67\n",
      "67X\n",
      "68\n",
      "68A\n",
      "69\n",
      "69X\n",
      "7\n",
      "70\n",
      "747\n",
      "75\n",
      "76\n",
      "76A\n",
      "77A\n",
      "79\n",
      "79A\n",
      "7B\n",
      "7D\n",
      "8\n",
      "83\n",
      "83A\n",
      "84\n",
      "84A\n",
      "84X\n",
      "9\n",
      "PP07\n",
      "1\n",
      "102\n",
      "104\n",
      "11\n",
      "111\n",
      "114\n",
      "116\n",
      "118\n",
      "120\n",
      "122\n",
      "123\n",
      "13\n",
      "130\n",
      "14\n",
      "140\n",
      "142\n",
      "145\n",
      "14C\n",
      "15\n",
      "150\n",
      "151\n",
      "15A\n",
      "15B\n",
      "16\n",
      "161\n",
      "16C\n",
      "17\n",
      "17A\n",
      "18\n",
      "184\n",
      "185\n",
      "220\n",
      "236\n",
      "238\n",
      "239\n",
      "25\n",
      "25A\n",
      "25B\n",
      "25X\n",
      "26\n",
      "27\n",
      "270\n",
      "27A\n",
      "27B\n",
      "27X\n",
      "29A\n",
      "31\n",
      "31A\n",
      "31B\n",
      "32\n",
      "32A\n",
      "32B\n",
      "32X\n",
      "33\n",
      "33A\n",
      "33B\n",
      "33X\n",
      "37\n",
      "38\n",
      "38A\n",
      "38B\n",
      "39\n",
      "39A\n",
      "4\n",
      "40\n",
      "40B\n",
      "40D\n",
      "41\n",
      "41A\n",
      "41C\n",
      "41X\n",
      "42\n",
      "43\n",
      "44\n",
      "44B\n",
      "45A\n",
      "46A\n",
      "46E\n",
      "47\n",
      "49\n",
      "51D\n",
      "51X\n",
      "53\n",
      "54A\n",
      "56A\n",
      "59\n",
      "61\n",
      "63\n",
      "65\n",
      "65B\n",
      "66\n",
      "66A\n",
      "66B\n",
      "66X\n",
      "67\n",
      "67X\n",
      "68\n",
      "68A\n",
      "69\n",
      "69X\n",
      "7\n",
      "70\n",
      "747\n",
      "75\n",
      "76\n",
      "76A\n",
      "77A\n",
      "79\n",
      "79A\n",
      "7B\n",
      "7D\n",
      "8\n",
      "83\n",
      "83A\n",
      "84\n",
      "84A\n",
      "84X\n",
      "9\n",
      "PP07\n"
     ]
    }
   ],
   "source": [
    "#Extract Modal Journey Length for each line in each direction\n",
    "newschedule = pd.DataFrame()\n",
    "jplist = [1,1001]\n",
    "for jp in jplist:\n",
    "    for line in lines:\n",
    "        print(\"reading\",line, jp)\n",
    "        linedata = schedule[(schedule.LineID == line) & (schedule.JourneyPatternID == jp )]\n",
    "        #Extract Modal Journey Length\n",
    "        if not (linedata.empty):\n",
    "            if len(linedata.first_bit.value_counts().values)<=1:\n",
    "        #mode doesnt work on a sinleton list\n",
    "                modal = linedata.first_bit.value_counts().values[0]\n",
    "            else:\n",
    "                modal = linedata.first_bit.value_counts().mode().values[0]\n",
    "\n",
    "            tempdf = linedata.first_bit.value_counts()\n",
    "            #create list of last_bit labels of only the major route length\n",
    "            fulltrips = tempdf[tempdf.values == modal].index\n",
    "\n",
    "            newschedule = newschedule.append(linedata[linedata['first_bit'].isin(fulltrips)])"
   ]
  },
  {
   "cell_type": "code",
   "execution_count": 34,
   "metadata": {
    "collapsed": false
   },
   "outputs": [],
   "source": [
    "#extract only the relevant columns\n",
    "routestations = newschedule[['LineID','StopID','stop_sequence','stop_headsign','JourneyPatternID','Name','Name without locality','Lat','Long']]"
   ]
  },
  {
   "cell_type": "code",
   "execution_count": 35,
   "metadata": {
    "collapsed": false
   },
   "outputs": [],
   "source": [
    "routestations = routestations.drop_duplicates()"
   ]
  },
  {
   "cell_type": "code",
   "execution_count": 36,
   "metadata": {
    "collapsed": false
   },
   "outputs": [],
   "source": [
    "### THIS DOES IT ALL!?!??!?!\n",
    "new_grouped = routestations.groupby(['LineID','JourneyPatternID','stop_sequence',]).agg(lambda x:x.value_counts().index[0])\n"
   ]
  },
  {
   "cell_type": "code",
   "execution_count": 37,
   "metadata": {
    "collapsed": false
   },
   "outputs": [],
   "source": [
    "#remove multi-indexing\n",
    "df = new_grouped.reset_index()"
   ]
  },
  {
   "cell_type": "code",
   "execution_count": 50,
   "metadata": {
    "collapsed": false
   },
   "outputs": [],
   "source": [
    "# View Stop Order for given line in given direction!\n",
    "route = df[(df.LineID==\"15B\")&(df.JourneyPatternID==1)]"
   ]
  },
  {
   "cell_type": "code",
   "execution_count": 51,
   "metadata": {
    "collapsed": false
   },
   "outputs": [
    {
     "data": {
      "text/plain": [
       "<matplotlib.axes._subplots.AxesSubplot at 0x29e97764fd0>"
      ]
     },
     "execution_count": 51,
     "metadata": {},
     "output_type": "execute_result"
    },
    {
     "data": {
      "image/png": "[encoded data removed]",
      "text/plain": [
       "<matplotlib.figure.Figure at 0x29e977538d0>"
      ]
     },
     "metadata": {},
     "output_type": "display_data"
    }
   ],
   "source": [
    "# route.plot(x='Long', y='Lat')"
   ]
  },
  {
   "cell_type": "code",
   "execution_count": 38,
   "metadata": {
    "collapsed": true
   },
   "outputs": [],
   "source": [
    "df.to_csv(\"routestations3.csv\")"
   ]
  },
  {
   "cell_type": "code",
   "execution_count": 119,
   "metadata": {
    "collapsed": false
   },
   "outputs": [],
   "source": [
    "check\n",
    "# # jplist = [1,1001]\n",
    "# #check there are each sequence_number has only one entry\n",
    "# for line in lines:\n",
    "#     for jp in jplist:\n",
    "#         checklist = list(df[(df.LineID == line) & (df.JourneyPatternID == jp)].stop_sequence.value_counts())\n",
    "#         for i in checklist:\n",
    "#             if i != 1:\n",
    "#                 print(\"Error\",line,jp)"
   ]
  }
 ],
 "metadata": {
  "anaconda-cloud": {},
  "kernelspec": {
   "display_name": "Python 3",
   "language": "python",
   "name": "python3"
  },
  "language_info": {
   "codemirror_mode": {
    "name": "ipython",
    "version": 3
   },
   "file_extension": ".py",
   "mimetype": "text/x-python",
   "name": "python",
   "nbconvert_exporter": "python",
   "pygments_lexer": "ipython3",
   "version": "3.6.0"
  }
 },
 "nbformat": 4,
 "nbformat_minor": 2
}
