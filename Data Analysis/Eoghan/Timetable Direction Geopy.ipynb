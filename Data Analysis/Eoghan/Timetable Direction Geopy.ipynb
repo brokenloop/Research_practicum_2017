{
 "cells": [
  {
   "cell_type": "markdown",
   "metadata": {},
   "source": [
    "# JourneyPatternID is a combination of Variant and Direction"
   ]
  },
  {
   "cell_type": "code",
   "execution_count": 77,
   "metadata": {
    "collapsed": true
   },
   "outputs": [],
   "source": [
    "import pandas as pd\n",
    "import math\n",
    "from datetime import datetime, timedelta\n",
    "from geopy.geocoders import Nominatim\n",
    "\n",
    "import matplotlib.pyplot as plt\n",
    "%matplotlib inline"
   ]
  },
  {
   "cell_type": "markdown",
   "metadata": {},
   "source": [
    "### Constants"
   ]
  },
  {
   "cell_type": "code",
   "execution_count": 2,
   "metadata": {
    "collapsed": false
   },
   "outputs": [],
   "source": [
    "lines = ['1', '102', '104', '11', '111', '114', '116', '118', '120', '122', '123', '13', '130', '14', '140', '142', '145', '14C', '15', '150', '151', '15A', '15B', '16', '161', '16C', '17', '17A', '18', '184', '185', '220', '236', '238', '239', '25', '25A', '25B', '25X', '26', '27', '270', '27A', '27B', '27X', '29A', '31', '31A', '31B', '32', '32X', '33', '332', '33A', '33B', '33X', '37', '38', '38A', '38B', '39', '39A', '4', '40', '40B', '40D', '41', '41A', '41B', '41C', '41X', '42', '43', '44', '44B', '45A', '46A', '46E', '47', '49', '51D', '51X', '53', '54A', '56A', '59', '61', '63', '65', '65B', '66', '66A', '66B', '66X', '67', '67X', '68', '68A', '69', '69X', '7', '70', '747', '75', '76', '76A', '77A', '79', '79A', '7B', '7D', '8', '83', '83A', '84', '84A', '84X', '86', '9']\n",
    "normal_lines = [x for x in lines if \"X\" not in x]\n",
    "\n",
    "timeframes = [\"2012-11-23\", \"2012-11-27\", \"2012-11-09\", \"2012-11-22\", \"2012-11-16\", \"2012-11-29\", \"2012-11-15\", \n",
    "            \"2012-11-08\", \"2013-01-24\", \"2013-01-09\", \"2013-01-17\", \"2012-11-07\", \"2013-01-11\", \"2012-11-06\", \"2012-11-14\", \"2013-01-29\",\n",
    "            \"2012-11-19\", \"2012-11-13\", \"2013-01-23\", \"2013-01-22\", \"2013-01-08\", \"2012-11-20\", \"2013-01-15\", \"2013-01-25\",\"2012-11-21\",\n",
    "            \"2013-01-14\", \"2013-01-28\", \"2013-01-16\", \"2013-01-04\", \"2013-01-10\", \"2013-01-18\", \"2012-11-26\", \"2012-11-28\", \"2013-01-07\", \n",
    "            \"2013-01-03\", \"2013-01-21\", \"2012-11-12\", \"2013-01-02\", \"2012-11-30\", \"2013-01-12\", \"2012-11-10\", \"2012-11-17\", \"2013-01-26\",\n",
    "            \"2013-01-19\", \"2013-01-05\", \"2012-11-24\", \"2013-01-30\", \"2012-11-11\", \"2012-11-18\", \"2012-11-25\", \"2013-01-20\", \"2013-01-13\", \n",
    "            \"2013-01-06\", \"2013-01-27\", \"2013-01-01\", \"2013-01-31\",]\n",
    "\n",
    "#journeypatterns dependent upon line data therefore not defined here\n",
    "service_types = [\"weekday\",\"weekday\",\"weekday\",\"weekday\",\"weekday\",\"saturday\",\"sunday\"]"
   ]
  },
  {
   "cell_type": "markdown",
   "metadata": {},
   "source": [
    "## Timetable"
   ]
  },
  {
   "cell_type": "code",
   "execution_count": 49,
   "metadata": {
    "collapsed": false
   },
   "outputs": [],
   "source": [
    "names = pd.read_csv(\"names.csv\", index_col=\"Unnamed: 0\")"
   ]
  },
  {
   "cell_type": "code",
   "execution_count": 4,
   "metadata": {
    "collapsed": false
   },
   "outputs": [
    {
     "data": {
      "text/html": [
       "<div>\n",
       "<table border=\"1\" class=\"dataframe\">\n",
       "  <thead>\n",
       "    <tr style=\"text-align: right;\">\n",
       "      <th></th>\n",
       "      <th>fullname</th>\n",
       "      <th>from</th>\n",
       "      <th>towards</th>\n",
       "    </tr>\n",
       "  </thead>\n",
       "  <tbody>\n",
       "    <tr>\n",
       "      <th>0</th>\n",
       "      <td>102_saturday_From Dublin Airport Towards Sutto...</td>\n",
       "      <td>Dublin Airport, Dublin</td>\n",
       "      <td>Sutton Station, Dublin</td>\n",
       "    </tr>\n",
       "    <tr>\n",
       "      <th>1</th>\n",
       "      <td>102_saturday_From Sutton Station Towards Dubli...</td>\n",
       "      <td>Sutton Station, Dublin</td>\n",
       "      <td>Dublin Airport, Dublin</td>\n",
       "    </tr>\n",
       "    <tr>\n",
       "      <th>2</th>\n",
       "      <td>102_sunday_From Dublin Airport Towards Sutton ...</td>\n",
       "      <td>Dublin Airport, Dublin</td>\n",
       "      <td>Sutton Station, Dublin</td>\n",
       "    </tr>\n",
       "    <tr>\n",
       "      <th>3</th>\n",
       "      <td>102_sunday_From Sutton Station Towards Dublin ...</td>\n",
       "      <td>Sutton Station, Dublin</td>\n",
       "      <td>Dublin Airport, Dublin</td>\n",
       "    </tr>\n",
       "    <tr>\n",
       "      <th>4</th>\n",
       "      <td>102_weekday_From Dublin Airport Towards Sutton...</td>\n",
       "      <td>Dublin Airport, Dublin</td>\n",
       "      <td>Sutton Station, Dublin</td>\n",
       "    </tr>\n",
       "  </tbody>\n",
       "</table>\n",
       "</div>"
      ],
      "text/plain": [
       "                                            fullname                    from  \\\n",
       "0  102_saturday_From Dublin Airport Towards Sutto...  Dublin Airport, Dublin   \n",
       "1  102_saturday_From Sutton Station Towards Dubli...  Sutton Station, Dublin   \n",
       "2  102_sunday_From Dublin Airport Towards Sutton ...  Dublin Airport, Dublin   \n",
       "3  102_sunday_From Sutton Station Towards Dublin ...  Sutton Station, Dublin   \n",
       "4  102_weekday_From Dublin Airport Towards Sutton...  Dublin Airport, Dublin   \n",
       "\n",
       "                  towards  \n",
       "0  Sutton Station, Dublin  \n",
       "1  Dublin Airport, Dublin  \n",
       "2  Sutton Station, Dublin  \n",
       "3  Dublin Airport, Dublin  \n",
       "4  Sutton Station, Dublin  "
      ]
     },
     "execution_count": 4,
     "metadata": {},
     "output_type": "execute_result"
    }
   ],
   "source": [
    "names.head()"
   ]
  },
  {
   "cell_type": "code",
   "execution_count": 62,
   "metadata": {
    "collapsed": false
   },
   "outputs": [
    {
     "data": {
      "text/plain": [
       "53.307407"
      ]
     },
     "execution_count": 62,
     "metadata": {},
     "output_type": "execute_result"
    }
   ],
   "source": [
    "Nominatim().geocode('Limekiln Ave., Dublin').latitude"
   ]
  },
  {
   "cell_type": "code",
   "execution_count": 7,
   "metadata": {
    "collapsed": false,
    "scrolled": true
   },
   "outputs": [],
   "source": [
    "# names.loc[names['towards'] == 'Bray Rail Station']"
   ]
  },
  {
   "cell_type": "code",
   "execution_count": 15,
   "metadata": {
    "collapsed": false
   },
   "outputs": [
    {
     "data": {
      "text/plain": [
       "'Castle Ave., Dublin'"
      ]
     },
     "execution_count": 15,
     "metadata": {},
     "output_type": "execute_result"
    }
   ],
   "source": [
    "names['from'][45]"
   ]
  },
  {
   "cell_type": "code",
   "execution_count": null,
   "metadata": {
    "collapsed": true
   },
   "outputs": [],
   "source": [
    "# df = pd.DataFrame()\n",
    "# g = lambda x: (Nominatim().geocode(names['towards'][i].split(\" or \")[0].split(\" (\")[0])).latitude)\n",
    "# df['from_lat'] = names.apply(g, axis=1)"
   ]
  },
  {
   "cell_type": "code",
   "execution_count": 75,
   "metadata": {
    "collapsed": false
   },
   "outputs": [
    {
     "name": "stdout",
     "output_type": "stream",
     "text": [
      "361 Phoenix Park, Dublin\n",
      "362 Dun Laoghaire, Dublin\n",
      "363 Phoenix Park, Dublin\n",
      "364 Blackrock Station, Dublin\n",
      "365 Belarmine, Dublin\n",
      "366 Fleet St., Dublin\n",
      "367 Belarmine, Dublin\n",
      "368 Fleet St., Dublin\n",
      "369 Belarmine, Dublin\n",
      "370 Fleet St., Dublin\n",
      "371 Pearse St., Dublin\n",
      "372 Tallaght (The Square), Dublin\n",
      "373 Pearse St., Dublin\n",
      "374 Tallaght (The Square), Dublin\n",
      "375 Pearse St., Dublin\n",
      "376 Tallaght (The Square), Dublin\n",
      "377 Harristown, Dublin\n",
      "378 Monkstown Avenue, Dublin\n",
      "379 Harristown, Dublin\n",
      "380 Monkstown Avenue, Dublin\n",
      "381 Harristown, Dublin\n",
      "382 Monkstown Avenue, Dublin\n",
      "383 Clondalkin, Dublin\n",
      "384 Hawkins St. or Waterloo Rd., Dublin\n",
      "385 Dublin Port, Dublin\n",
      "386 Talbot St., Dublin\n",
      "387 Dublin Port, Dublin\n",
      "388 Talbot St., Dublin\n",
      "389 Dublin Port, Dublin\n",
      "390 Talbot St., Dublin\n",
      "391 Ellensborough  or  Kiltipper Way, Dublin\n",
      "392 Pearse St., Dublin\n",
      "393 Ellensborough  or  Kiltipper Way, Dublin\n",
      "394 Pearse St., Dublin\n",
      "395 Ellensborough  or  Kiltipper Way, Dublin\n",
      "396 Pearse St., Dublin\n",
      "397 Ringsend Rd., Dublin\n",
      "398 Tallaght (The Square), Dublin\n",
      "399 Ringsend Rd., Dublin\n",
      "400 Tallaght (The Square), Dublin\n",
      "401 Ringsend Rd., Dublin\n",
      "402 Tallaght (The Square), Dublin\n",
      "403 Dun Laoghaire, Dublin\n",
      "404 Mackintosh Park, Dublin\n",
      "405 Dun Laoghaire, Dublin\n",
      "406 Mackintosh Park, Dublin\n",
      "407 Dun Laoghaire, Dublin\n",
      "408 Mackintosh Park, Dublin\n",
      "409 D'Olier St., Dublin\n",
      "410 Whitechurch, Dublin\n",
      "411 D'Olier St., Dublin\n",
      "412 Whitechurch, Dublin\n",
      "413 D'Olier St., Dublin\n",
      "414 Whitechurch, Dublin\n",
      "415 Dun Laoghaire, Dublin\n",
      "416 Kilternan, Dublin\n",
      "417 Dun Laoghaire, Dublin\n",
      "418 Kilternan, Dublin\n",
      "419 Dun Laoghaire, Dublin\n",
      "420 Kilternan, Dublin\n",
      "421 Citywest, Dublin\n",
      "422 Hawkins St., Dublin\n",
      "423 Citywest, Dublin\n",
      "424 Hawkins St., Dublin\n",
      "425 Citywest, Dublin\n",
      "426 Hawkins St., Dublin\n",
      "427 Blessington  or  Ballymore, Dublin\n",
      "428 Hawkins St., Dublin\n",
      "429 Blessington  or  Ballymore, Dublin\n",
      "430 Hawkins St., Dublin\n",
      "431 Blessington  or  Ballymore, Dublin\n",
      "432 Hawkins St., Dublin\n",
      "433 Leixlip (Captain's Hill), Dublin\n",
      "434 Merrion Sq., Dublin\n",
      "435 Leixlip (Captain's Hill), Dublin\n",
      "436 Merrion Sq., Dublin\n",
      "437 Leixlip (Captain's Hill), Dublin\n",
      "438 Merrion Sq., Dublin\n",
      "439 Maynooth, Dublin\n",
      "440 Merrion Sq., Dublin\n",
      "441 Maynooth, Dublin\n",
      "442 Merrion Sq., Dublin\n",
      "443 Maynooth, Dublin\n",
      "444 Merrion Sq., Dublin\n",
      "445 Maynooth, Dublin\n",
      "446 Merrion Sq., Dublin\n",
      "447 Maynooth, Dublin\n",
      "448 Merrion Sq., Dublin\n",
      "449 Maynooth, Dublin\n",
      "450 Merrion Sq., Dublin\n",
      "451 Hawkins St., Dublin\n",
      "452 Newcastle  or  Greenogue Business Park, Dublin\n",
      "453 Hawkins St., Dublin\n",
      "454 Newcastle  or  Greenogue Business Park, Dublin\n",
      "455 Hawkins St., Dublin\n",
      "456 Newcastle  or  Greenogue Business Park, Dublin\n",
      "457 Hawkins St., Dublin\n",
      "458 Rathcoole, Dublin\n",
      "459 Hawkins St., Dublin\n",
      "460 Rathcoole, Dublin\n",
      "461 Hawkins St., Dublin\n",
      "462 Rathcoole, Dublin\n",
      "463 Baggot St. (Grand Canal), Dublin\n",
      "464 Dunboyne, Dublin\n",
      "465 Baggot St. (Grand Canal), Dublin\n",
      "466 Dunboyne, Dublin\n",
      "467 Baggot St. (Grand Canal), Dublin\n",
      "468 Dunboyne, Dublin\n",
      "469 Dublin Airport, Dublin\n",
      "470 Heuston Station, Dublin\n",
      "471 Dublin Airport, Dublin\n",
      "472 Heuston Station, Dublin\n",
      "473 Dublin Airport, Dublin\n",
      "474 Heuston Station, Dublin\n",
      "475 Dun Laoghaire, Dublin\n",
      "476 Tallaght (The Square), Dublin\n",
      "477 Dun Laoghaire, Dublin\n",
      "478 Tallaght (The Square), Dublin\n",
      "479 Dun Laoghaire, Dublin\n",
      "480 Tallaght (The Square), Dublin\n",
      "481 Blanchardstown Centre, Dublin\n",
      "482 Tallaght (The Square), Dublin\n",
      "483 Chapelizod, Dublin\n",
      "484 Tallaght (The Square), Dublin\n",
      "485 Chapelizod, Dublin\n",
      "486 Tallaght (The Square), Dublin\n",
      "487 Chapelizod, Dublin\n",
      "488 Tallaght (The Square), Dublin\n",
      "489 Citywest, Dublin\n",
      "490 Ringsend Rd., Dublin\n",
      "491 Citywest, Dublin\n",
      "492 Ringsend Rd., Dublin\n",
      "493 Citywest, Dublin\n",
      "494 Ringsend Rd., Dublin\n",
      "495 Aston Quay, Dublin\n",
      "496 Spiddal Park or Parkwest, Dublin\n",
      "497 Aston Quay, Dublin\n",
      "498 Spiddal Park or Parkwest, Dublin\n",
      "499 Aston Quay, Dublin\n",
      "500 Spiddal Park or Parkwest, Dublin\n",
      "501 Mountjoy Sq., Dublin\n",
      "502 Shankill, Dublin\n",
      "503 Dalkey, Dublin\n",
      "504 Mountjoy Sq., Dublin\n",
      "505 Loughlinstown or Cherrywood, Dublin\n",
      "506 Mountjoy Sq., Dublin\n",
      "507 Mountjoy Sq., Dublin\n",
      "508 Loughlinstown or Cherrywood, Dublin\n",
      "509 Loughlinstown or Cherrywood, Dublin\n",
      "510 Mountjoy Sq., Dublin\n",
      "511 Harristown, Dublin\n",
      "512 Kimmage, Dublin\n",
      "513 Harristown, Dublin\n",
      "514 Kimmage, Dublin\n",
      "515 Harristown, Dublin\n",
      "516 Kimmage, Dublin\n",
      "517 Blackrock, Dublin\n",
      "518 Newcastle, Wicklow\n",
      "519 Blackrock, Dublin\n",
      "520 Newcastle, Wicklow\n",
      "521 Blackrock, Dublin\n",
      "522 Newcastle, Wicklow\n",
      "523 Dalkey, Dublin\n",
      "524 Mountjoy Sq., Dublin\n",
      "525 Dalkey, Dublin\n",
      "526 Mountjoy Sq., Dublin\n",
      "527 Dalkey, Dublin\n",
      "528 Mountjoy Sq., Dublin\n",
      "529 Heuston Station, Dublin\n",
      "530 International Financial Services Centre, Dublin\n",
      "531 Charlestown, Dublin\n",
      "532 Limekiln Ave., Dublin\n",
      "533 Charlestown, Dublin\n",
      "534 Limekiln Ave., Dublin\n",
      "535 Charlestown, Dublin\n",
      "536 Limekiln Ave., Dublin\n"
     ]
    }
   ],
   "source": [
    "# timedout_index\n",
    "# for i in range(timedout_index,len(names['from'])):\n",
    "#     print(i, names['from'][i])\n",
    "#     from_list.append((Nominatim().geocode(names['from'][i].split(\" or \")[0].split(\" (\")[0])).latitude)"
   ]
  },
  {
   "cell_type": "code",
   "execution_count": 81,
   "metadata": {
    "collapsed": false
   },
   "outputs": [],
   "source": [
    "from_series = pd.Series(from_list)\n",
    "towards_series = pd.Series(towards_list)"
   ]
  },
  {
   "cell_type": "code",
   "execution_count": 82,
   "metadata": {
    "collapsed": false
   },
   "outputs": [],
   "source": [
    "names['towards_lat'] = towards_series"
   ]
  },
  {
   "cell_type": "code",
   "execution_count": 83,
   "metadata": {
    "collapsed": false
   },
   "outputs": [],
   "source": [
    "names['from_lat'] = from_series"
   ]
  },
  {
   "cell_type": "code",
   "execution_count": 84,
   "metadata": {
    "collapsed": true
   },
   "outputs": [],
   "source": [
    "backupnames = names"
   ]
  },
  {
   "cell_type": "code",
   "execution_count": 86,
   "metadata": {
    "collapsed": false
   },
   "outputs": [],
   "source": [
    "names['southbound'] = (names.from_lat - names.towards_lat)>0"
   ]
  },
  {
   "cell_type": "code",
   "execution_count": 88,
   "metadata": {
    "collapsed": false
   },
   "outputs": [],
   "source": [
    "names.to_csv(\"direction_timetable_mapping.csv\")"
   ]
  },
  {
   "cell_type": "code",
   "execution_count": null,
   "metadata": {
    "collapsed": true
   },
   "outputs": [],
   "source": [
    ""
   ]
  }
 ],
 "metadata": {
  "kernelspec": {
   "display_name": "Python 3",
   "language": "python",
   "name": "python3"
  },
  "language_info": {
   "codemirror_mode": {
    "name": "ipython",
    "version": 3.0
   },
   "file_extension": ".py",
   "mimetype": "text/x-python",
   "name": "python",
   "nbconvert_exporter": "python",
   "pygments_lexer": "ipython3",
   "version": "3.6.0"
  }
 },
 "nbformat": 4,
 "nbformat_minor": 0
}