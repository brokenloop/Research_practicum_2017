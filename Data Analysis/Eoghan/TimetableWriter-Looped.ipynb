{
 "cells": [
  {
   "cell_type": "code",
   "execution_count": 4,
   "metadata": {
    "collapsed": true
   },
   "outputs": [],
   "source": [
    "import urllib.request as ur\n",
    "from bs4 import BeautifulSoup as bs\n",
    "\n",
    "url = \"https://web.archive.org/web/20121004001856/http://dublinbus.ie/Your-Journey1/Timetables/\"\n",
    "text = ur.urlopen(url).read()\n",
    "soup = bs(text, 'html.parser')\n",
    "\n",
    "routes = []\n",
    "\n",
    "data = soup.findAll('td',attrs={'class':'RouteNumberColumn'})\n",
    "for td in data:\n",
    "    links = td.findAll('a')\n",
    "    for a in links:\n",
    "        routes.append(a['href'])\n",
    "\n",
    "handle = open('regular_links.txt', 'r')\n",
    "regular_routes = handle.read().splitlines()"
   ]
  },
  {
   "cell_type": "code",
   "execution_count": 5,
   "metadata": {
    "collapsed": true
   },
   "outputs": [],
   "source": [
    "#2 directions per line\n",
    "def get_directions(soup):\n",
    "    \"\"\"Returns a list of directions when given a soup object\"\"\"\n",
    "    directions = []\n",
    "    for direction in soup.findAll('div', attrs={\"class\":\"TT_Title_left\"}):\n",
    "        direction = direction.text\n",
    "        direction = \" \".join(direction.split())\n",
    "        direction = direction.replace(\"/\",\" or \")\n",
    "        directions.append(direction)\n",
    "        directions.append(direction)\n",
    "        directions.append(direction)\n",
    "    return directions"
   ]
  },
  {
   "cell_type": "markdown",
   "metadata": {},
   "source": [
    "# Loop Line Write"
   ]
  },
  {
   "cell_type": "code",
   "execution_count": 6,
   "metadata": {
    "collapsed": false
   },
   "outputs": [
    {
     "ename": "AttributeError",
     "evalue": "'NoneType' object has no attribute 'findAll'",
     "output_type": "error",
     "traceback": [
      "\u001b[0;31m---------------------------------------------------------------------------\u001b[0m",
      "\u001b[0;31mAttributeError\u001b[0m                            Traceback (most recent call last)",
      "\u001b[0;32m<ipython-input-6-36b0cf072893>\u001b[0m in \u001b[0;36m<module>\u001b[0;34m()\u001b[0m\n\u001b[1;32m     30\u001b[0m         \u001b[0mf\u001b[0m\u001b[1;33m.\u001b[0m\u001b[0mwrite\u001b[0m\u001b[1;33m(\u001b[0m\u001b[0mheader\u001b[0m\u001b[1;33m)\u001b[0m\u001b[1;33m\u001b[0m\u001b[0m\n\u001b[1;32m     31\u001b[0m \u001b[1;33m\u001b[0m\u001b[0m\n\u001b[0;32m---> 32\u001b[0;31m         \u001b[1;32mfor\u001b[0m \u001b[0mdeparture\u001b[0m \u001b[1;32min\u001b[0m \u001b[0mtimetables\u001b[0m\u001b[1;33m[\u001b[0m\u001b[0mi\u001b[0m\u001b[1;33m]\u001b[0m\u001b[1;33m.\u001b[0m\u001b[0mfindAll\u001b[0m\u001b[1;33m(\u001b[0m\u001b[1;34m'div'\u001b[0m\u001b[1;33m,\u001b[0m \u001b[0mattrs\u001b[0m\u001b[1;33m=\u001b[0m\u001b[1;33m{\u001b[0m\u001b[1;34m\"class\"\u001b[0m\u001b[1;33m:\u001b[0m\u001b[1;34m\"time_item\"\u001b[0m\u001b[1;33m}\u001b[0m\u001b[1;33m)\u001b[0m\u001b[1;33m:\u001b[0m\u001b[1;33m\u001b[0m\u001b[0m\n\u001b[0m\u001b[1;32m     33\u001b[0m             \u001b[0m_\u001b[0m \u001b[1;33m=\u001b[0m \u001b[0mdeparture\u001b[0m\u001b[1;33m.\u001b[0m\u001b[0mfindAll\u001b[0m\u001b[1;33m(\u001b[0m\u001b[1;34m'div'\u001b[0m\u001b[1;33m)\u001b[0m\u001b[1;33m\u001b[0m\u001b[0m\n\u001b[1;32m     34\u001b[0m             \u001b[0mtime\u001b[0m \u001b[1;33m=\u001b[0m \u001b[0m_\u001b[0m\u001b[1;33m[\u001b[0m\u001b[1;36m0\u001b[0m\u001b[1;33m]\u001b[0m\u001b[1;33m.\u001b[0m\u001b[0mtext\u001b[0m\u001b[1;33m.\u001b[0m\u001b[0mstrip\u001b[0m\u001b[1;33m(\u001b[0m\u001b[1;33m)\u001b[0m\u001b[1;33m\u001b[0m\u001b[0m\n",
      "\u001b[0;31mAttributeError\u001b[0m: 'NoneType' object has no attribute 'findAll'"
     ]
    }
   ],
   "source": [
    "#regular routes has 71 elements\n",
    "#route 7 omitted\n",
    "#22 problem\n",
    "for k in range(35,len(regular_routes)-1):\n",
    "    route = regular_routes[k]\n",
    "    text = ur.urlopen(\"https://web.archive.org\"+route).read()\n",
    "    soup = bs(text, 'html.parser')\n",
    "\n",
    "    top_weekday = soup.find('div',attrs={'id':'ctl00_FullRegion_MainRegion_MainContentRegion_MainBodyRegion_Timetable1_ctl01_DataList1_ctl00_dlTimeTop'})\n",
    "    top_saturday = soup.find('div',attrs={'id':'ctl00_FullRegion_MainRegion_MainContentRegion_MainBodyRegion_Timetable1_ctl01_DataList1_ctl01_dlTimeTop'})\n",
    "    top_sunday = soup.find('div',attrs={'id':'ctl00_FullRegion_MainRegion_MainContentRegion_MainBodyRegion_Timetable1_ctl01_DataList1_ctl02_dlTimeTop'})\n",
    "    bottom_bottom = soup.find('div',attrs={'id':'ctl00_FullRegion_MainRegion_MainContentRegion_MainBodyRegion_Timetable1_ctl02_DataList1_ctl00_dlTimeTop'})\n",
    "    bottom_saturday = soup.find('div',attrs={'id':'ctl00_FullRegion_MainRegion_MainContentRegion_MainBodyRegion_Timetable1_ctl02_DataList1_ctl01_dlTimeTop'})\n",
    "    bottom_sunday = soup.find('div',attrs={'id':'ctl00_FullRegion_MainRegion_MainContentRegion_MainBodyRegion_Timetable1_ctl02_DataList1_ctl02_dlTimeTop'})\n",
    "\n",
    "    #Assign Variables\n",
    "    timetables = [top_weekday, top_saturday, top_sunday, bottom_bottom ,bottom_saturday, bottom_sunday]\n",
    "    line = soup.title.text.split()[0]\n",
    "    days = [\"weekday\",\"saturday\",\"sunday\",\"weekday\",\"saturday\",\"sunday\"]\n",
    "    directions = get_directions(soup)\n",
    "\n",
    "    #index i indexes multiple lists\n",
    "    for i in range(len(timetables)):\n",
    "\n",
    "        #create and name a file for a specific line direction and day\n",
    "        filename = line + \"_\" + days[i] + \"_\" +  directions[i] + \".csv\"\n",
    "        f = open(filename, \"w\")\n",
    "\n",
    "        header = \"departure, variant\\n\"\n",
    "        f.write(header)\n",
    "\n",
    "        for departure in timetables[i].findAll('div', attrs={\"class\":\"time_item\"}):\n",
    "            _ = departure.findAll('div')\n",
    "            time = _[0].text.strip()\n",
    "            variant = _[1].text.strip()\n",
    "            f.write(time+\", \"+ variant + \"\\n\")\n",
    "        f.close()"
   ]
  },
  {
   "cell_type": "code",
   "execution_count": null,
   "metadata": {
    "collapsed": true
   },
   "outputs": [],
   "source": []
  }
 ],
 "metadata": {
  "kernelspec": {
   "display_name": "Python 3",
   "language": "python",
   "name": "python3"
  },
  "language_info": {
   "codemirror_mode": {
    "name": "ipython",
    "version": 3
   },
   "file_extension": ".py",
   "mimetype": "text/x-python",
   "name": "python",
   "nbconvert_exporter": "python",
   "pygments_lexer": "ipython3",
   "version": "3.6.0"
  }
 },
 "nbformat": 4,
 "nbformat_minor": 1
}
