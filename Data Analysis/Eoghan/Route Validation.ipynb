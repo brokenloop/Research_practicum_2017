{
 "cells": [
  {
   "cell_type": "code",
   "execution_count": 3,
   "metadata": {
    "collapsed": true
   },
   "outputs": [],
   "source": [
    "import pandas as pd\n",
    "import math\n",
    "from datetime import datetime, timedelta\n",
    "import os\n",
    "\n",
    "import matplotlib.pyplot as plt\n",
    "%matplotlib inline"
   ]
  },
  {
   "cell_type": "markdown",
   "metadata": {},
   "source": [
    "### Constants"
   ]
  },
  {
   "cell_type": "code",
   "execution_count": 4,
   "metadata": {
    "collapsed": false
   },
   "outputs": [],
   "source": [
    "lines = []\n",
    "for i in os.listdir(\"bus_data/clean_data_final/\"):\n",
    "    lines.append(i.strip(\".csv\"))"
   ]
  },
  {
   "cell_type": "code",
   "execution_count": 5,
   "metadata": {
    "collapsed": false
   },
   "outputs": [],
   "source": [
    "#Existing Mapping\n",
    "timetable = pd.read_csv('bus_data/static_data/final_timetable.csv')\n",
    "timetable = timetable.drop('Unnamed: 0', 1)"
   ]
  },
  {
   "cell_type": "code",
   "execution_count": 16,
   "metadata": {
    "collapsed": false
   },
   "outputs": [
    {
     "data": {
      "text/plain": [
       "array(['1', '102', '104', '11', '111', '114', '116', '118', '120', '122',\n",
       "       '123', '13', '130', '14', '140', '142', '145', '14C', '15', '150',\n",
       "       '151', '15A', '15B', '16', '161', '16C', '17', '17A', '18', '184',\n",
       "       '185', '220', '236', '238', '239', '25', '25A', '25B', '25X', '26',\n",
       "       '27', '270', '27A', '27B', '27X', '29A', '31', '31A', '31B', '32',\n",
       "       '32X', '33', '33A', '33B', '33X', '37', '38', '38A', '38B', '39',\n",
       "       '39A', '4', '40', '40B', '40D', '41', '41A', '41B', '41C', '41X',\n",
       "       '42', '43', '44', '44B', '45A', '46A', '46E', '47', '49', '51D',\n",
       "       '51X', '53', '54A', '56A', '59', '61', '63', '65', '65B', '66',\n",
       "       '66A', '66B', '66X', '67', '67X', '68', '68A', '69', '69X', '7',\n",
       "       '70', '747', '75', '76', '76A', '77A', '79', '79A', '7B', '7D', '8',\n",
       "       '83', '83A', '84', '84A', '84X', '9'], dtype=object)"
      ]
     },
     "execution_count": 16,
     "metadata": {},
     "output_type": "execute_result"
    }
   ],
   "source": [
    "#OUR DATA\n",
    "pd.Series(lines).unique()"
   ]
  },
  {
   "cell_type": "code",
   "execution_count": 15,
   "metadata": {
    "collapsed": false
   },
   "outputs": [
    {
     "data": {
      "text/plain": [
       "array(['1', '102', '104', '11', '111', '114', '116', '118', '120', '122',\n",
       "       '123', '13', '130', '14', '140', '142', '145', '15', '150', '151',\n",
       "       '15A', '15B', '16', '161', '17', '17A', '18', '184', '185', '220',\n",
       "       '236', '238', '239', '25', '25A', '25B', '25X', '26', '27', '270',\n",
       "       '27A', '27B', '27X', '29A', '31', '31B', '32', '32X', '33', '33A',\n",
       "       '33B', '33X', '37', '38', '38A', '39', '39A', '4', '40', '40B',\n",
       "       '40D', '41', '41B', '41C', '41X', '42', '43', '44', '44B', '45A',\n",
       "       '46A', '46E', '47', '49', '51D', '51X', '53', '54A', '56A', '59',\n",
       "       '61', '63', '65', '65B', '66', '66A', '66X', '67', '68', '69',\n",
       "       '69X', '7', '70', '747', '75', '76', '76A', '77A', '79', '79A',\n",
       "       '7B', '7D', '8', '83', '84', '84A', '84X', '9'], dtype=object)"
      ]
     },
     "execution_count": 15,
     "metadata": {},
     "output_type": "execute_result"
    }
   ],
   "source": [
    "#TIMETABLE DATA\n",
    "timetable.LineID.sort_values().unique()"
   ]
  },
  {
   "cell_type": "code",
   "execution_count": 8,
   "metadata": {
    "collapsed": false
   },
   "outputs": [
    {
     "name": "stdout",
     "output_type": "stream",
     "text": [
      "14C\n",
      "16C\n",
      "31A\n",
      "38B\n",
      "41A\n",
      "66B\n",
      "67X\n",
      "68A\n",
      "83A\n"
     ]
    }
   ],
   "source": [
    "#LINES IN OUR DATA WHICH ARE NOT IN THE TIMETABLES\n",
    "for i in lines:\n",
    "    if i not in timetable.LineID.unique():\n",
    "        print(i)"
   ]
  },
  {
   "cell_type": "code",
   "execution_count": 10,
   "metadata": {
    "collapsed": false
   },
   "outputs": [],
   "source": [
    "#LINES IN THE TIMETABLE NOT IN OUR DATA\n",
    "for i in timetable.LineID.unique():\n",
    "    if i not in lines:\n",
    "        print(i)"
   ]
  },
  {
   "cell_type": "code",
   "execution_count": null,
   "metadata": {
    "collapsed": true
   },
   "outputs": [],
   "source": []
  }
 ],
 "metadata": {
  "anaconda-cloud": {},
  "kernelspec": {
   "display_name": "Python 3",
   "language": "python",
   "name": "python3"
  },
  "language_info": {
   "codemirror_mode": {
    "name": "ipython",
    "version": 3
   },
   "file_extension": ".py",
   "mimetype": "text/x-python",
   "name": "python",
   "nbconvert_exporter": "python",
   "pygments_lexer": "ipython3",
   "version": "3.6.0"
  }
 },
 "nbformat": 4,
 "nbformat_minor": 2
}
