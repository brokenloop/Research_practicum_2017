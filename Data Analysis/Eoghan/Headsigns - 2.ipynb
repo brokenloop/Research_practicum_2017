{
 "cells": [
  {
   "cell_type": "code",
   "execution_count": 34,
   "metadata": {
    "collapsed": true
   },
   "outputs": [],
   "source": [
    "import pandas as pd\n",
    "import numpy as np\n",
    "import os\n",
    "\n",
    "import matplotlib.pyplot as plt\n",
    "%matplotlib inline"
   ]
  },
  {
   "cell_type": "markdown",
   "metadata": {},
   "source": [
    "### Static Variables"
   ]
  },
  {
   "cell_type": "code",
   "execution_count": 35,
   "metadata": {
    "collapsed": true
   },
   "outputs": [],
   "source": [
    "linefiles = os.listdir(\"bus_data/clean_data2\")\n",
    "lines = []\n",
    "for line in linefiles:\n",
    "    lines.append(line.replace(\".csv\",\"\"))\n",
    "    \n"
   ]
  },
  {
   "cell_type": "markdown",
   "metadata": {},
   "source": [
    "### Extracting Data"
   ]
  },
  {
   "cell_type": "markdown",
   "metadata": {},
   "source": [
    "### Read in External Data"
   ]
  },
  {
   "cell_type": "code",
   "execution_count": 36,
   "metadata": {
    "collapsed": false
   },
   "outputs": [],
   "source": [
    "schedule = pd.read_csv(\"bus_data/dublinbus_scheduledData2013csv.csv\", low_memory=False, encoding=\"ISO-8859-1\")"
   ]
  },
  {
   "cell_type": "code",
   "execution_count": 37,
   "metadata": {
    "collapsed": false
   },
   "outputs": [],
   "source": [
    "# Dropping null values - some in our dataframe are marked as 'null' (string) for some reason?\n",
    "schedule = schedule.dropna()\n",
    "schedule = schedule[schedule.stop_id != 'null']"
   ]
  },
  {
   "cell_type": "markdown",
   "metadata": {},
   "source": [
    "### Exploring schedule"
   ]
  },
  {
   "cell_type": "code",
   "execution_count": 38,
   "metadata": {
    "collapsed": true
   },
   "outputs": [],
   "source": [
    "# Extracting StopID from stop_id\n",
    "\n",
    "def get_stop(string):\n",
    "    var = string[-4:]\n",
    "    return var\n",
    "\n",
    "schedule[\"StopID\"] = schedule['stop_id'].apply(lambda x: get_stop(x))"
   ]
  },
  {
   "cell_type": "code",
   "execution_count": 39,
   "metadata": {
    "collapsed": false
   },
   "outputs": [
    {
     "name": "stderr",
     "output_type": "stream",
     "text": [
      "C:\\Users\\eogha\\Anaconda3\\envs\\comp47350\\lib\\site-packages\\ipykernel\\__main__.py:2: FutureWarning: currently extract(expand=None) means expand=False (return Index/Series/DataFrame) but in a future version of pandas this will be changed to expand=True (return DataFrame)\n",
      "  from ipykernel import kernelapp as app\n"
     ]
    }
   ],
   "source": [
    "# Extracting LineID from trip_id\n",
    "schedule[\"LineID\"] = schedule[\"trip_id\"].str.extract('\\-(.*?)\\-')"
   ]
  },
  {
   "cell_type": "code",
   "execution_count": 40,
   "metadata": {
    "collapsed": false
   },
   "outputs": [],
   "source": [
    "# Convert StopIDs back to int\n",
    "# df['StopID'] = df['StopID'].astype('int64')\n",
    "schedule['StopID'] = schedule['StopID'].astype('int64')"
   ]
  },
  {
   "cell_type": "code",
   "execution_count": 41,
   "metadata": {
    "collapsed": false
   },
   "outputs": [],
   "source": [
    "# Extracting direction from trip_id\n",
    "def get_direction(string):\n",
    "    var = string[-1:]\n",
    "    return var\n",
    "\n",
    "schedule[\"Direction\"] = schedule['trip_id'].apply(lambda x: get_direction(x))"
   ]
  },
  {
   "cell_type": "code",
   "execution_count": 42,
   "metadata": {
    "collapsed": false
   },
   "outputs": [],
   "source": [
    "schedule = schedule[(schedule.Direction == \"I\") | (schedule.Direction == \"O\")]    "
   ]
  },
  {
   "cell_type": "code",
   "execution_count": 43,
   "metadata": {
    "collapsed": false
   },
   "outputs": [
    {
     "data": {
      "text/html": [
       "<div>\n",
       "<table border=\"1\" class=\"dataframe\">\n",
       "  <thead>\n",
       "    <tr style=\"text-align: right;\">\n",
       "      <th></th>\n",
       "      <th>trip_id</th>\n",
       "      <th>arrival_time</th>\n",
       "      <th>departure_time</th>\n",
       "      <th>stop_id</th>\n",
       "      <th>Name without locality</th>\n",
       "      <th>Name</th>\n",
       "      <th>Lat</th>\n",
       "      <th>Long</th>\n",
       "      <th>stop_sequence</th>\n",
       "      <th>stop_headsign</th>\n",
       "      <th>shape_dist_traveled</th>\n",
       "      <th>StopID</th>\n",
       "      <th>LineID</th>\n",
       "      <th>Direction</th>\n",
       "    </tr>\n",
       "  </thead>\n",
       "  <tbody>\n",
       "    <tr>\n",
       "      <th>0</th>\n",
       "      <td>1.1598.0-33A-b12-1.451.I</td>\n",
       "      <td>16:15:00</td>\n",
       "      <td>16:15:00</td>\n",
       "      <td>8240DB003813</td>\n",
       "      <td>Footbridge</td>\n",
       "      <td>Skerries Road</td>\n",
       "      <td>53.591377</td>\n",
       "      <td>-6.156176</td>\n",
       "      <td>1</td>\n",
       "      <td>Swords</td>\n",
       "      <td>0.000000</td>\n",
       "      <td>3813</td>\n",
       "      <td>33A</td>\n",
       "      <td>I</td>\n",
       "    </tr>\n",
       "    <tr>\n",
       "      <th>1</th>\n",
       "      <td>1.1598.0-33A-b12-1.451.I</td>\n",
       "      <td>16:15:39</td>\n",
       "      <td>16:15:39</td>\n",
       "      <td>8240DB003814</td>\n",
       "      <td>Barnageeragh Road</td>\n",
       "      <td>Balbriggan Rd</td>\n",
       "      <td>53.585544</td>\n",
       "      <td>-6.148605</td>\n",
       "      <td>2</td>\n",
       "      <td>Swords</td>\n",
       "      <td>827.070328</td>\n",
       "      <td>3814</td>\n",
       "      <td>33A</td>\n",
       "      <td>I</td>\n",
       "    </tr>\n",
       "    <tr>\n",
       "      <th>2</th>\n",
       "      <td>1.1598.0-33A-b12-1.451.I</td>\n",
       "      <td>16:17:11</td>\n",
       "      <td>16:17:11</td>\n",
       "      <td>8240DB003815</td>\n",
       "      <td>Barnageeragh Road</td>\n",
       "      <td>North Cliff Heights</td>\n",
       "      <td>53.581935</td>\n",
       "      <td>-6.125247</td>\n",
       "      <td>3</td>\n",
       "      <td>Swords</td>\n",
       "      <td>2746.649492</td>\n",
       "      <td>3815</td>\n",
       "      <td>33A</td>\n",
       "      <td>I</td>\n",
       "    </tr>\n",
       "    <tr>\n",
       "      <th>3</th>\n",
       "      <td>1.1598.0-33A-b12-1.451.I</td>\n",
       "      <td>16:17:22</td>\n",
       "      <td>16:17:22</td>\n",
       "      <td>8240DB003816</td>\n",
       "      <td>Mourne Drive</td>\n",
       "      <td>North Cliff Heights</td>\n",
       "      <td>53.580471</td>\n",
       "      <td>-6.127622</td>\n",
       "      <td>4</td>\n",
       "      <td>Swords</td>\n",
       "      <td>2973.900755</td>\n",
       "      <td>3816</td>\n",
       "      <td>33A</td>\n",
       "      <td>I</td>\n",
       "    </tr>\n",
       "    <tr>\n",
       "      <th>4</th>\n",
       "      <td>1.1598.0-33A-b12-1.451.I</td>\n",
       "      <td>16:17:44</td>\n",
       "      <td>16:17:44</td>\n",
       "      <td>8240DB003566</td>\n",
       "      <td>Selskar Court</td>\n",
       "      <td>Town Parks Rd</td>\n",
       "      <td>53.578067</td>\n",
       "      <td>-6.125055</td>\n",
       "      <td>5</td>\n",
       "      <td>Swords</td>\n",
       "      <td>3447.155571</td>\n",
       "      <td>3566</td>\n",
       "      <td>33A</td>\n",
       "      <td>I</td>\n",
       "    </tr>\n",
       "  </tbody>\n",
       "</table>\n",
       "</div>"
      ],
      "text/plain": [
       "                    trip_id arrival_time departure_time       stop_id  \\\n",
       "0  1.1598.0-33A-b12-1.451.I     16:15:00       16:15:00  8240DB003813   \n",
       "1  1.1598.0-33A-b12-1.451.I     16:15:39       16:15:39  8240DB003814   \n",
       "2  1.1598.0-33A-b12-1.451.I     16:17:11       16:17:11  8240DB003815   \n",
       "3  1.1598.0-33A-b12-1.451.I     16:17:22       16:17:22  8240DB003816   \n",
       "4  1.1598.0-33A-b12-1.451.I     16:17:44       16:17:44  8240DB003566   \n",
       "\n",
       "  Name without locality                 Name        Lat      Long  \\\n",
       "0            Footbridge        Skerries Road  53.591377 -6.156176   \n",
       "1     Barnageeragh Road        Balbriggan Rd  53.585544 -6.148605   \n",
       "2     Barnageeragh Road  North Cliff Heights  53.581935 -6.125247   \n",
       "3          Mourne Drive  North Cliff Heights  53.580471 -6.127622   \n",
       "4         Selskar Court        Town Parks Rd  53.578067 -6.125055   \n",
       "\n",
       "   stop_sequence stop_headsign  shape_dist_traveled  StopID LineID Direction  \n",
       "0              1        Swords             0.000000    3813    33A         I  \n",
       "1              2        Swords           827.070328    3814    33A         I  \n",
       "2              3        Swords          2746.649492    3815    33A         I  \n",
       "3              4        Swords          2973.900755    3816    33A         I  \n",
       "4              5        Swords          3447.155571    3566    33A         I  "
      ]
     },
     "execution_count": 43,
     "metadata": {},
     "output_type": "execute_result"
    }
   ],
   "source": [
    "schedule.head()"
   ]
  },
  {
   "cell_type": "code",
   "execution_count": 44,
   "metadata": {
    "collapsed": false
   },
   "outputs": [],
   "source": [
    "# Converting Direction to JourneyPatternID\n",
    "schedule[\"JourneyPatternID\"] = schedule['Direction'].apply(lambda x: \"1001\" if x == \"I\" else \"0001\")\n",
    "schedule['JourneyPatternID'] = schedule['JourneyPatternID'].astype('int64')"
   ]
  },
  {
   "cell_type": "code",
   "execution_count": 45,
   "metadata": {
    "collapsed": false
   },
   "outputs": [],
   "source": [
    "# dropping irrelevant columns\n",
    "for column in ['trip_id', 'stop_id', 'arrival_time', 'departure_time', 'shape_dist_traveled', 'Direction']:\n",
    "        schedule = schedule.drop(column, 1)"
   ]
  },
  {
   "cell_type": "code",
   "execution_count": 46,
   "metadata": {
    "collapsed": true
   },
   "outputs": [],
   "source": [
    "merge_schedule = schedule[['Name without locality','Name','Lat','Long','StopID']]"
   ]
  },
  {
   "cell_type": "markdown",
   "metadata": {},
   "source": [
    "## Single Extraction\n",
    "    "
   ]
  },
  {
   "cell_type": "code",
   "execution_count": 33,
   "metadata": {
    "collapsed": false
   },
   "outputs": [
    {
     "data": {
      "text/plain": [
       "1       3324\n",
       "1001    3208\n",
       "Name: JourneyPatternID, dtype: int64"
      ]
     },
     "execution_count": 33,
     "metadata": {},
     "output_type": "execute_result"
    }
   ],
   "source": [
    "temp = schedule[(schedule['LineID'] == \"68\")]\n",
    "temp.JourneyPatternID.value_counts()"
   ]
  },
  {
   "cell_type": "code",
   "execution_count": 26,
   "metadata": {
    "collapsed": false
   },
   "outputs": [
    {
     "data": {
      "text/plain": [
       "Hawkins St      2948\n",
       "Greenogue       1924\n",
       "Newcastle       1400\n",
       "Conyngham Rd     260\n",
       "Name: stop_headsign, dtype: int64"
      ]
     },
     "execution_count": 26,
     "metadata": {},
     "output_type": "execute_result"
    }
   ],
   "source": [
    "schedule[(schedule['LineID'] == \"68\")].stop_headsign.value_counts()"
   ]
  },
  {
   "cell_type": "code",
   "execution_count": 47,
   "metadata": {
    "collapsed": false
   },
   "outputs": [
    {
     "data": {
      "text/plain": [
       "'68'"
      ]
     },
     "execution_count": 47,
     "metadata": {},
     "output_type": "execute_result"
    }
   ],
   "source": [
    "line = lines[96]\n",
    "\n",
    "#Iterate through line data files\n",
    "# for line in lines:\n",
    "df = pd.read_csv(\"bus_data/clean_data2/\" + line + \".csv\", low_memory=False, header=None)\n",
    "df.columns = [\"Timestamp\", \"LineID\", \"JourneyPatternID\", \"TimeFrame\", \n",
    "              \"VehicleJourneyID\", \"Lon\", \"Lat\", \"VehicleID\", \"StopID\", \n",
    "              \"AtStop\", \"HumanTime\", \"Day\", \"Hour\", \"JourneyGroup\", \"Runtime\"]\n",
    "\n",
    "line"
   ]
  },
  {
   "cell_type": "code",
   "execution_count": 48,
   "metadata": {
    "collapsed": false
   },
   "outputs": [],
   "source": [
    "df = df.drop([\"Timestamp\", \"TimeFrame\", \"VehicleJourneyID\", \"VehicleID\", \n",
    "              \"AtStop\", \"HumanTime\", \"Day\", \"Hour\", \"JourneyGroup\", \"Runtime\"], 1)\n",
    "df.LineID = df.LineID.astype(\"object\")\n",
    "df['StopID'] = df['StopID'].astype('str')\n",
    "\n",
    "df.StopID = df.StopID.astype(\"int64\")\n",
    "\n",
    "new_df = df['StopID'].drop_duplicates()\n",
    "\n",
    "new_df = pd.DataFrame(new_df)"
   ]
  },
  {
   "cell_type": "code",
   "execution_count": 49,
   "metadata": {
    "collapsed": true
   },
   "outputs": [],
   "source": [
    "\n",
    "# merged_df = pd.merge(new_df, schedule, how='inner', on=['StopID'])\n",
    "merged_df = pd.merge(new_df, schedule, how='inner', on=['StopID'])\n",
    "merged_df = merged_df.drop_duplicates()\n"
   ]
  },
  {
   "cell_type": "code",
   "execution_count": 50,
   "metadata": {
    "collapsed": false
   },
   "outputs": [
    {
     "data": {
      "text/plain": [
       "Index(['Greenogue', 'Newcastle'], dtype='object')"
      ]
     },
     "execution_count": 50,
     "metadata": {},
     "output_type": "execute_result"
    }
   ],
   "source": [
    "line_df = merged_df[(merged_df.LineID == line)]\n",
    "line_df[(line_df.LineID == line)].stop_headsign.value_counts().index\n",
    "# tdf = line.drop_duplicates(subset=['stop_headsign'], keep='last')"
   ]
  },
  {
   "cell_type": "code",
   "execution_count": 51,
   "metadata": {
    "collapsed": false
   },
   "outputs": [
    {
     "data": {
      "text/plain": [
       "Int64Index([1], dtype='int64')"
      ]
     },
     "execution_count": 51,
     "metadata": {},
     "output_type": "execute_result"
    }
   ],
   "source": [
    "a = line_df[(line_df.LineID == line)].JourneyPatternID.value_counts().index\n",
    "a"
   ]
  },
  {
   "cell_type": "code",
   "execution_count": 52,
   "metadata": {
    "collapsed": true
   },
   "outputs": [],
   "source": [
    "rowlists = []"
   ]
  },
  {
   "cell_type": "code",
   "execution_count": 53,
   "metadata": {
    "collapsed": false
   },
   "outputs": [
    {
     "ename": "NameError",
     "evalue": "name 'jp1' is not defined",
     "output_type": "error",
     "traceback": [
      "\u001b[0;31m---------------------------------------------------------------------------\u001b[0m",
      "\u001b[0;31mNameError\u001b[0m                                 Traceback (most recent call last)",
      "\u001b[0;32m<ipython-input-53-9780d0d29d8e>\u001b[0m in \u001b[0;36m<module>\u001b[0;34m()\u001b[0m\n\u001b[0;32m----> 1\u001b[0;31m \u001b[0mrowlists\u001b[0m\u001b[1;33m.\u001b[0m\u001b[0mappend\u001b[0m\u001b[1;33m(\u001b[0m\u001b[1;33m[\u001b[0m\u001b[0mjp1\u001b[0m\u001b[1;33m,\u001b[0m\u001b[0mhs1\u001b[0m\u001b[1;33m,\u001b[0m\u001b[0mline\u001b[0m\u001b[1;33m]\u001b[0m\u001b[1;33m)\u001b[0m\u001b[1;33m\u001b[0m\u001b[0m\n\u001b[0m\u001b[1;32m      2\u001b[0m \u001b[0mrowlists\u001b[0m\u001b[1;33m.\u001b[0m\u001b[0mappend\u001b[0m\u001b[1;33m(\u001b[0m\u001b[1;33m[\u001b[0m\u001b[0mjp2\u001b[0m\u001b[1;33m,\u001b[0m\u001b[0mhs2\u001b[0m\u001b[1;33m,\u001b[0m\u001b[0mline\u001b[0m\u001b[1;33m]\u001b[0m\u001b[1;33m)\u001b[0m\u001b[1;33m\u001b[0m\u001b[0m\n",
      "\u001b[0;31mNameError\u001b[0m: name 'jp1' is not defined"
     ]
    }
   ],
   "source": [
    "rowlists.append([jp1,hs1,line])\n",
    "rowlists.append([jp2,hs2,line])"
   ]
  },
  {
   "cell_type": "code",
   "execution_count": 128,
   "metadata": {
    "collapsed": true
   },
   "outputs": [],
   "source": [
    "ldf = pd.DataFrame(rowlists,columns=['JourneyPatternID','Headsign','LineID'])"
   ]
  },
  {
   "cell_type": "markdown",
   "metadata": {},
   "source": [
    "# Find Route Subsections  - Looped"
   ]
  },
  {
   "cell_type": "code",
   "execution_count": 138,
   "metadata": {
    "collapsed": true
   },
   "outputs": [],
   "source": [
    "rowlists = []"
   ]
  },
  {
   "cell_type": "markdown",
   "metadata": {},
   "source": [
    "### Read in Line Data"
   ]
  },
  {
   "cell_type": "code",
   "execution_count": 145,
   "metadata": {
    "collapsed": false
   },
   "outputs": [
    {
     "name": "stdout",
     "output_type": "stream",
     "text": [
      "68A\n",
      "69\n",
      "69X\n",
      "7\n",
      "70\n",
      "747\n",
      "75\n",
      "76\n",
      "76A\n",
      "77A\n",
      "79\n",
      "79A\n",
      "7B\n",
      "7D\n",
      "8\n",
      "83\n",
      "83A\n",
      "84\n",
      "84A\n",
      "84X\n",
      "9\n",
      "PP07\n"
     ]
    }
   ],
   "source": [
    "# line = lines[70]\n",
    "for i in range(97, len(lines)):\n",
    "    line = lines[i]\n",
    "    print(line)\n",
    "    #Iterate through line data files\n",
    "    # for line in lines:\n",
    "    df = pd.read_csv(\"bus_data/clean_data2/\" + line+ \".csv\", low_memory=False, header=None)\n",
    "    df.columns = [\"Timestamp\", \"LineID\", \"JourneyPatternID\", \"TimeFrame\", \n",
    "                  \"VehicleJourneyID\", \"Lon\", \"Lat\", \"VehicleID\", \"StopID\", \n",
    "                  \"AtStop\", \"HumanTime\", \"Day\", \"Hour\", \"JourneyGroup\", \"Runtime\"]\n",
    "    df = df.drop([\"Timestamp\", \"TimeFrame\", \"VehicleJourneyID\", \"VehicleID\", \n",
    "                  \"AtStop\", \"HumanTime\", \"Day\", \"Hour\", \"JourneyGroup\", \"Runtime\"], 1)\n",
    "    df.LineID = df.LineID.astype(\"object\")\n",
    "    df['StopID'] = df['StopID'].astype('str')\n",
    "    df = df[df.StopID != 'null']\n",
    "\n",
    "    df.StopID = df.StopID.astype(\"int64\")\n",
    "\n",
    "    new_df = df['StopID'].drop_duplicates()\n",
    "\n",
    "    new_df = pd.DataFrame(new_df)\n",
    "\n",
    "    # merged_df = pd.merge(new_df, schedule, how='inner', on=['StopID'])\n",
    "    merged_df = pd.merge(new_df, schedule, how='inner', on=['StopID'])\n",
    "\n",
    "    merged_df = merged_df.drop_duplicates()\n",
    "\n",
    "    line_df = merged_df[(merged_df.LineID == line)]\n",
    "    \n",
    "    if len(line_df[(line_df.LineID == line)].stop_headsign.value_counts()) == 1:\n",
    "        hs1 = line_df[(line_df.LineID == line)].stop_headsign.value_counts().index[0]\n",
    "        jp1 = line_df[(line_df.LineID == line)].JourneyPatternID.value_counts().index[0]\n",
    "        rowlists.append([jp1,hs1,line])\n",
    "    elif len(line_df[(line_df.LineID == line)].stop_headsign.value_counts()) == 0:\n",
    "        continue\n",
    "    else:\n",
    "        hs1 = line_df[(line_df.LineID == line)].stop_headsign.value_counts().index[0]\n",
    "        hs2 = line_df[(line_df.LineID == line)].stop_headsign.value_counts().index[1]\n",
    "        # tdf = line.drop_duplicates(subset=['stop_headsign'], keep='last')\n",
    "\n",
    "\n",
    "        line_df[(line_df.LineID == line)].JourneyPatternID.value_counts()\n",
    "\n",
    "        jp1 = line_df[(line_df.LineID == line)].JourneyPatternID.value_counts().index[0]\n",
    "        jp2 = line_df[(line_df.LineID == line)].JourneyPatternID.value_counts().index[1]\n",
    "\n",
    "        rowlists.append([jp1,hs1,line])\n",
    "        rowlists.append([jp2,hs2,line])"
   ]
  },
  {
   "cell_type": "code",
   "execution_count": 146,
   "metadata": {
    "collapsed": false
   },
   "outputs": [
    {
     "data": {
      "text/plain": [
       "224"
      ]
     },
     "execution_count": 146,
     "metadata": {},
     "output_type": "execute_result"
    }
   ],
   "source": [
    "len(rowlists)"
   ]
  },
  {
   "cell_type": "code",
   "execution_count": 147,
   "metadata": {
    "collapsed": false
   },
   "outputs": [],
   "source": [
    "ldf = pd.DataFrame(rowlists,columns=['JourneyPatternID','Headsign','LineID'])\n"
   ]
  },
  {
   "cell_type": "code",
   "execution_count": null,
   "metadata": {
    "collapsed": true
   },
   "outputs": [],
   "source": []
  },
  {
   "cell_type": "code",
   "execution_count": 148,
   "metadata": {
    "collapsed": false
   },
   "outputs": [
    {
     "data": {
      "text/html": [
       "<div>\n",
       "<table border=\"1\" class=\"dataframe\">\n",
       "  <thead>\n",
       "    <tr style=\"text-align: right;\">\n",
       "      <th></th>\n",
       "      <th>JourneyPatternID</th>\n",
       "      <th>Headsign</th>\n",
       "      <th>LineID</th>\n",
       "    </tr>\n",
       "  </thead>\n",
       "  <tbody>\n",
       "    <tr>\n",
       "      <th>0</th>\n",
       "      <td>1</td>\n",
       "      <td>Sandymount</td>\n",
       "      <td>1</td>\n",
       "    </tr>\n",
       "    <tr>\n",
       "      <th>1</th>\n",
       "      <td>1001</td>\n",
       "      <td>O'Connell Street</td>\n",
       "      <td>1</td>\n",
       "    </tr>\n",
       "    <tr>\n",
       "      <th>2</th>\n",
       "      <td>1001</td>\n",
       "      <td>Station Rd</td>\n",
       "      <td>102</td>\n",
       "    </tr>\n",
       "    <tr>\n",
       "      <th>3</th>\n",
       "      <td>1</td>\n",
       "      <td>Airport</td>\n",
       "      <td>102</td>\n",
       "    </tr>\n",
       "    <tr>\n",
       "      <th>4</th>\n",
       "      <td>1001</td>\n",
       "      <td>Clontarf Road</td>\n",
       "      <td>104</td>\n",
       "    </tr>\n",
       "    <tr>\n",
       "      <th>5</th>\n",
       "      <td>1</td>\n",
       "      <td>Shanard Road</td>\n",
       "      <td>104</td>\n",
       "    </tr>\n",
       "    <tr>\n",
       "      <th>6</th>\n",
       "      <td>1</td>\n",
       "      <td>Sandyford I.E.</td>\n",
       "      <td>11</td>\n",
       "    </tr>\n",
       "    <tr>\n",
       "      <th>7</th>\n",
       "      <td>1001</td>\n",
       "      <td>City Centre</td>\n",
       "      <td>11</td>\n",
       "    </tr>\n",
       "    <tr>\n",
       "      <th>8</th>\n",
       "      <td>1001</td>\n",
       "      <td>Loughlinstown</td>\n",
       "      <td>111</td>\n",
       "    </tr>\n",
       "    <tr>\n",
       "      <th>9</th>\n",
       "      <td>1</td>\n",
       "      <td>Dun Laoghaire</td>\n",
       "      <td>111</td>\n",
       "    </tr>\n",
       "    <tr>\n",
       "      <th>10</th>\n",
       "      <td>1</td>\n",
       "      <td>Blackrock DART</td>\n",
       "      <td>114</td>\n",
       "    </tr>\n",
       "    <tr>\n",
       "      <th>11</th>\n",
       "      <td>1001</td>\n",
       "      <td>Ticknock</td>\n",
       "      <td>114</td>\n",
       "    </tr>\n",
       "    <tr>\n",
       "      <th>12</th>\n",
       "      <td>1001</td>\n",
       "      <td>Parnell Sq</td>\n",
       "      <td>116</td>\n",
       "    </tr>\n",
       "    <tr>\n",
       "      <th>13</th>\n",
       "      <td>1</td>\n",
       "      <td>Whitechurch</td>\n",
       "      <td>116</td>\n",
       "    </tr>\n",
       "    <tr>\n",
       "      <th>14</th>\n",
       "      <td>1001</td>\n",
       "      <td>D'Olier St</td>\n",
       "      <td>118</td>\n",
       "    </tr>\n",
       "    <tr>\n",
       "      <th>15</th>\n",
       "      <td>1</td>\n",
       "      <td>Ashtown Stn</td>\n",
       "      <td>120</td>\n",
       "    </tr>\n",
       "    <tr>\n",
       "      <th>16</th>\n",
       "      <td>1001</td>\n",
       "      <td>Parnell St</td>\n",
       "      <td>120</td>\n",
       "    </tr>\n",
       "    <tr>\n",
       "      <th>17</th>\n",
       "      <td>1001</td>\n",
       "      <td>Drimnagh Road</td>\n",
       "      <td>122</td>\n",
       "    </tr>\n",
       "    <tr>\n",
       "      <th>18</th>\n",
       "      <td>1</td>\n",
       "      <td>Ashington</td>\n",
       "      <td>122</td>\n",
       "    </tr>\n",
       "    <tr>\n",
       "      <th>19</th>\n",
       "      <td>1</td>\n",
       "      <td>Kilnamanagh Rd</td>\n",
       "      <td>123</td>\n",
       "    </tr>\n",
       "    <tr>\n",
       "      <th>20</th>\n",
       "      <td>1001</td>\n",
       "      <td>City Centre</td>\n",
       "      <td>123</td>\n",
       "    </tr>\n",
       "    <tr>\n",
       "      <th>21</th>\n",
       "      <td>1</td>\n",
       "      <td>Harristown</td>\n",
       "      <td>13</td>\n",
       "    </tr>\n",
       "    <tr>\n",
       "      <th>22</th>\n",
       "      <td>1001</td>\n",
       "      <td>Grange Castle</td>\n",
       "      <td>13</td>\n",
       "    </tr>\n",
       "    <tr>\n",
       "      <th>23</th>\n",
       "      <td>1001</td>\n",
       "      <td>Marlborough St</td>\n",
       "      <td>130</td>\n",
       "    </tr>\n",
       "    <tr>\n",
       "      <th>24</th>\n",
       "      <td>1</td>\n",
       "      <td>Castle Ave</td>\n",
       "      <td>130</td>\n",
       "    </tr>\n",
       "    <tr>\n",
       "      <th>25</th>\n",
       "      <td>1001</td>\n",
       "      <td>Beaumont</td>\n",
       "      <td>14</td>\n",
       "    </tr>\n",
       "    <tr>\n",
       "      <th>26</th>\n",
       "      <td>1</td>\n",
       "      <td>Dundrum Luas</td>\n",
       "      <td>14</td>\n",
       "    </tr>\n",
       "    <tr>\n",
       "      <th>27</th>\n",
       "      <td>1</td>\n",
       "      <td>IKEA</td>\n",
       "      <td>140</td>\n",
       "    </tr>\n",
       "    <tr>\n",
       "      <th>28</th>\n",
       "      <td>1001</td>\n",
       "      <td>O'Connell St</td>\n",
       "      <td>140</td>\n",
       "    </tr>\n",
       "    <tr>\n",
       "      <th>29</th>\n",
       "      <td>1001</td>\n",
       "      <td>Portmarnock</td>\n",
       "      <td>142</td>\n",
       "    </tr>\n",
       "    <tr>\n",
       "      <th>...</th>\n",
       "      <td>...</td>\n",
       "      <td>...</td>\n",
       "      <td>...</td>\n",
       "    </tr>\n",
       "    <tr>\n",
       "      <th>194</th>\n",
       "      <td>1001</td>\n",
       "      <td>The Square</td>\n",
       "      <td>75</td>\n",
       "    </tr>\n",
       "    <tr>\n",
       "      <th>195</th>\n",
       "      <td>1</td>\n",
       "      <td>Dun Laoghaire</td>\n",
       "      <td>75</td>\n",
       "    </tr>\n",
       "    <tr>\n",
       "      <th>196</th>\n",
       "      <td>1001</td>\n",
       "      <td>Chapelizod</td>\n",
       "      <td>76</td>\n",
       "    </tr>\n",
       "    <tr>\n",
       "      <th>197</th>\n",
       "      <td>1</td>\n",
       "      <td>The Square</td>\n",
       "      <td>76</td>\n",
       "    </tr>\n",
       "    <tr>\n",
       "      <th>198</th>\n",
       "      <td>1</td>\n",
       "      <td>The Square</td>\n",
       "      <td>76A</td>\n",
       "    </tr>\n",
       "    <tr>\n",
       "      <th>199</th>\n",
       "      <td>1001</td>\n",
       "      <td>Blanchardstown SC</td>\n",
       "      <td>76A</td>\n",
       "    </tr>\n",
       "    <tr>\n",
       "      <th>200</th>\n",
       "      <td>1</td>\n",
       "      <td>Citywest</td>\n",
       "      <td>77A</td>\n",
       "    </tr>\n",
       "    <tr>\n",
       "      <th>201</th>\n",
       "      <td>1001</td>\n",
       "      <td>Ringsend Rd</td>\n",
       "      <td>77A</td>\n",
       "    </tr>\n",
       "    <tr>\n",
       "      <th>202</th>\n",
       "      <td>1</td>\n",
       "      <td>Spiddal Pk</td>\n",
       "      <td>79</td>\n",
       "    </tr>\n",
       "    <tr>\n",
       "      <th>203</th>\n",
       "      <td>1001</td>\n",
       "      <td>Aston Quay</td>\n",
       "      <td>79</td>\n",
       "    </tr>\n",
       "    <tr>\n",
       "      <th>204</th>\n",
       "      <td>1</td>\n",
       "      <td>Parkwest</td>\n",
       "      <td>79A</td>\n",
       "    </tr>\n",
       "    <tr>\n",
       "      <th>205</th>\n",
       "      <td>1001</td>\n",
       "      <td>City Centre</td>\n",
       "      <td>79A</td>\n",
       "    </tr>\n",
       "    <tr>\n",
       "      <th>206</th>\n",
       "      <td>1001</td>\n",
       "      <td>Mountjoy Sq</td>\n",
       "      <td>7B</td>\n",
       "    </tr>\n",
       "    <tr>\n",
       "      <th>207</th>\n",
       "      <td>1</td>\n",
       "      <td>Shankill</td>\n",
       "      <td>7B</td>\n",
       "    </tr>\n",
       "    <tr>\n",
       "      <th>208</th>\n",
       "      <td>1</td>\n",
       "      <td>Dalkey</td>\n",
       "      <td>7D</td>\n",
       "    </tr>\n",
       "    <tr>\n",
       "      <th>209</th>\n",
       "      <td>1001</td>\n",
       "      <td>Mountjoy Sq</td>\n",
       "      <td>7D</td>\n",
       "    </tr>\n",
       "    <tr>\n",
       "      <th>210</th>\n",
       "      <td>1001</td>\n",
       "      <td>Mountjoy Sq</td>\n",
       "      <td>8</td>\n",
       "    </tr>\n",
       "    <tr>\n",
       "      <th>211</th>\n",
       "      <td>1</td>\n",
       "      <td>Parnell Square West</td>\n",
       "      <td>8</td>\n",
       "    </tr>\n",
       "    <tr>\n",
       "      <th>212</th>\n",
       "      <td>1001</td>\n",
       "      <td>Harristown</td>\n",
       "      <td>83</td>\n",
       "    </tr>\n",
       "    <tr>\n",
       "      <th>213</th>\n",
       "      <td>1</td>\n",
       "      <td>Charlestown</td>\n",
       "      <td>83</td>\n",
       "    </tr>\n",
       "    <tr>\n",
       "      <th>214</th>\n",
       "      <td>1001</td>\n",
       "      <td>Harristown</td>\n",
       "      <td>83A</td>\n",
       "    </tr>\n",
       "    <tr>\n",
       "      <th>215</th>\n",
       "      <td>1</td>\n",
       "      <td>Charlestown</td>\n",
       "      <td>83A</td>\n",
       "    </tr>\n",
       "    <tr>\n",
       "      <th>216</th>\n",
       "      <td>1</td>\n",
       "      <td>Newcastle</td>\n",
       "      <td>84</td>\n",
       "    </tr>\n",
       "    <tr>\n",
       "      <th>217</th>\n",
       "      <td>1001</td>\n",
       "      <td>Blackrock</td>\n",
       "      <td>84</td>\n",
       "    </tr>\n",
       "    <tr>\n",
       "      <th>218</th>\n",
       "      <td>1001</td>\n",
       "      <td>Bray Station</td>\n",
       "      <td>84A</td>\n",
       "    </tr>\n",
       "    <tr>\n",
       "      <th>219</th>\n",
       "      <td>1</td>\n",
       "      <td>Blackrock</td>\n",
       "      <td>84A</td>\n",
       "    </tr>\n",
       "    <tr>\n",
       "      <th>220</th>\n",
       "      <td>1001</td>\n",
       "      <td>Westmoreland St</td>\n",
       "      <td>84X</td>\n",
       "    </tr>\n",
       "    <tr>\n",
       "      <th>221</th>\n",
       "      <td>1</td>\n",
       "      <td>Newcastle</td>\n",
       "      <td>84X</td>\n",
       "    </tr>\n",
       "    <tr>\n",
       "      <th>222</th>\n",
       "      <td>1001</td>\n",
       "      <td>Charlestown</td>\n",
       "      <td>9</td>\n",
       "    </tr>\n",
       "    <tr>\n",
       "      <th>223</th>\n",
       "      <td>1</td>\n",
       "      <td>Limekiln Avenue</td>\n",
       "      <td>9</td>\n",
       "    </tr>\n",
       "  </tbody>\n",
       "</table>\n",
       "<p>224 rows × 3 columns</p>\n",
       "</div>"
      ],
      "text/plain": [
       "     JourneyPatternID             Headsign LineID\n",
       "0                   1           Sandymount      1\n",
       "1                1001     O'Connell Street      1\n",
       "2                1001           Station Rd    102\n",
       "3                   1              Airport    102\n",
       "4                1001        Clontarf Road    104\n",
       "5                   1         Shanard Road    104\n",
       "6                   1       Sandyford I.E.     11\n",
       "7                1001          City Centre     11\n",
       "8                1001        Loughlinstown    111\n",
       "9                   1        Dun Laoghaire    111\n",
       "10                  1       Blackrock DART    114\n",
       "11               1001             Ticknock    114\n",
       "12               1001           Parnell Sq    116\n",
       "13                  1          Whitechurch    116\n",
       "14               1001           D'Olier St    118\n",
       "15                  1          Ashtown Stn    120\n",
       "16               1001           Parnell St    120\n",
       "17               1001        Drimnagh Road    122\n",
       "18                  1            Ashington    122\n",
       "19                  1       Kilnamanagh Rd    123\n",
       "20               1001          City Centre    123\n",
       "21                  1           Harristown     13\n",
       "22               1001        Grange Castle     13\n",
       "23               1001       Marlborough St    130\n",
       "24                  1           Castle Ave    130\n",
       "25               1001             Beaumont     14\n",
       "26                  1         Dundrum Luas     14\n",
       "27                  1                 IKEA    140\n",
       "28               1001         O'Connell St    140\n",
       "29               1001          Portmarnock    142\n",
       "..                ...                  ...    ...\n",
       "194              1001           The Square     75\n",
       "195                 1        Dun Laoghaire     75\n",
       "196              1001           Chapelizod     76\n",
       "197                 1           The Square     76\n",
       "198                 1           The Square    76A\n",
       "199              1001    Blanchardstown SC    76A\n",
       "200                 1             Citywest    77A\n",
       "201              1001          Ringsend Rd    77A\n",
       "202                 1           Spiddal Pk     79\n",
       "203              1001           Aston Quay     79\n",
       "204                 1             Parkwest    79A\n",
       "205              1001          City Centre    79A\n",
       "206              1001          Mountjoy Sq     7B\n",
       "207                 1             Shankill     7B\n",
       "208                 1               Dalkey     7D\n",
       "209              1001          Mountjoy Sq     7D\n",
       "210              1001          Mountjoy Sq      8\n",
       "211                 1  Parnell Square West      8\n",
       "212              1001           Harristown     83\n",
       "213                 1          Charlestown     83\n",
       "214              1001           Harristown    83A\n",
       "215                 1          Charlestown    83A\n",
       "216                 1            Newcastle     84\n",
       "217              1001            Blackrock     84\n",
       "218              1001         Bray Station    84A\n",
       "219                 1            Blackrock    84A\n",
       "220              1001      Westmoreland St    84X\n",
       "221                 1            Newcastle    84X\n",
       "222              1001          Charlestown      9\n",
       "223                 1      Limekiln Avenue      9\n",
       "\n",
       "[224 rows x 3 columns]"
      ]
     },
     "execution_count": 148,
     "metadata": {},
     "output_type": "execute_result"
    }
   ],
   "source": [
    "ldf"
   ]
  },
  {
   "cell_type": "code",
   "execution_count": 149,
   "metadata": {
    "collapsed": true
   },
   "outputs": [],
   "source": [
    "ldf.to_csv(\"68missing.csv\")"
   ]
  },
  {
   "cell_type": "code",
   "execution_count": null,
   "metadata": {
    "collapsed": true
   },
   "outputs": [],
   "source": []
  }
 ],
 "metadata": {
  "kernelspec": {
   "display_name": "Python 3",
   "language": "python",
   "name": "python3"
  },
  "language_info": {
   "codemirror_mode": {
    "name": "ipython",
    "version": 3
   },
   "file_extension": ".py",
   "mimetype": "text/x-python",
   "name": "python",
   "nbconvert_exporter": "python",
   "pygments_lexer": "ipython3",
   "version": "3.6.0"
  }
 },
 "nbformat": 4,
 "nbformat_minor": 2
}
