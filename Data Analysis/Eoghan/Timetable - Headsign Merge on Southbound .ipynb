{
 "cells": [
  {
   "cell_type": "markdown",
   "metadata": {},
   "source": [
    "# JourneyPatternID is a combination of Variant and Direction"
   ]
  },
  {
   "cell_type": "markdown",
   "metadata": {},
   "source": [
    "## Plan\n",
    "## Merge on southbound\n",
    "\n",
    "### from routes_all(headsigns).csv derrive SOUTHBOUND (LineID,JourneyPatternID,Headsign)\n",
    "#### Step1:\n",
    "Append County to headsigns\n",
    "#### Step2:\n",
    "Derrive Southbound - for a given LineID there are two headsigns, substract the corresponding latitude for each headsign from the other.\n",
    "\n",
    "### From Timetable - Derive Southbound Column\n",
    "#### Step4:\n",
    "derive to_lat\n",
    "#### Step5:\n",
    "derive from_lat\n",
    "#### Step6:\n",
    "subtract to get southbound\n"
   ]
  },
  {
   "cell_type": "code",
   "execution_count": 10,
   "metadata": {
    "collapsed": true
   },
   "outputs": [],
   "source": [
    "import pandas as pd\n",
    "import math\n",
    "from datetime import datetime, timedelta\n",
    "import os\n",
    "\n",
    "import matplotlib.pyplot as plt\n",
    "%matplotlib inline"
   ]
  },
  {
   "cell_type": "markdown",
   "metadata": {},
   "source": [
    "### Constants"
   ]
  },
  {
   "cell_type": "code",
   "execution_count": 17,
   "metadata": {
    "collapsed": false
   },
   "outputs": [],
   "source": [
    "lines = []\n",
    "for i in os.listdir(\"bus_data/clean_data_final/\"):\n",
    "    lines.append(i.strip(\".csv\"))"
   ]
  },
  {
   "cell_type": "code",
   "execution_count": 18,
   "metadata": {
    "collapsed": false
   },
   "outputs": [
    {
     "data": {
      "text/plain": [
       "['1',\n",
       " '102',\n",
       " '104',\n",
       " '11',\n",
       " '111',\n",
       " '114',\n",
       " '116',\n",
       " '118',\n",
       " '120',\n",
       " '122',\n",
       " '123',\n",
       " '13',\n",
       " '130',\n",
       " '14',\n",
       " '140',\n",
       " '142',\n",
       " '145',\n",
       " '14C',\n",
       " '15',\n",
       " '150',\n",
       " '151',\n",
       " '15A',\n",
       " '15B',\n",
       " '16',\n",
       " '161',\n",
       " '16C',\n",
       " '17',\n",
       " '17A',\n",
       " '18',\n",
       " '184',\n",
       " '185',\n",
       " '220',\n",
       " '236',\n",
       " '238',\n",
       " '239',\n",
       " '25',\n",
       " '25A',\n",
       " '25B',\n",
       " '25X',\n",
       " '26',\n",
       " '27',\n",
       " '270',\n",
       " '27A',\n",
       " '27B',\n",
       " '27X',\n",
       " '29A',\n",
       " '31',\n",
       " '31A',\n",
       " '31B',\n",
       " '32',\n",
       " '32X',\n",
       " '33',\n",
       " '33A',\n",
       " '33B',\n",
       " '33X',\n",
       " '37',\n",
       " '38',\n",
       " '38A',\n",
       " '38B',\n",
       " '39',\n",
       " '39A',\n",
       " '4',\n",
       " '40',\n",
       " '40B',\n",
       " '40D',\n",
       " '41',\n",
       " '41A',\n",
       " '41B',\n",
       " '41C',\n",
       " '41X',\n",
       " '42',\n",
       " '43',\n",
       " '44',\n",
       " '44B',\n",
       " '45A',\n",
       " '46A',\n",
       " '46E',\n",
       " '47',\n",
       " '49',\n",
       " '51D',\n",
       " '51X',\n",
       " '53',\n",
       " '54A',\n",
       " '56A',\n",
       " '59',\n",
       " '61',\n",
       " '63',\n",
       " '65',\n",
       " '65B',\n",
       " '66',\n",
       " '66A',\n",
       " '66B',\n",
       " '66X',\n",
       " '67',\n",
       " '67X',\n",
       " '68',\n",
       " '68A',\n",
       " '69',\n",
       " '69X',\n",
       " '7',\n",
       " '70',\n",
       " '747',\n",
       " '75',\n",
       " '76',\n",
       " '76A',\n",
       " '77A',\n",
       " '79',\n",
       " '79A',\n",
       " '7B',\n",
       " '7D',\n",
       " '8',\n",
       " '83',\n",
       " '83A',\n",
       " '84',\n",
       " '84A',\n",
       " '84X',\n",
       " '9']"
      ]
     },
     "execution_count": 18,
     "metadata": {},
     "output_type": "execute_result"
    }
   ],
   "source": [
    "lines"
   ]
  },
  {
   "cell_type": "code",
   "execution_count": 4,
   "metadata": {
    "collapsed": false
   },
   "outputs": [],
   "source": [
    "lines =['102', '104', '111', '114', '116', '118', '11', '120', '122', '123',\n",
    "       '130', '13', '140', '142', '145', '14', '150', '151', '15A', '15B',\n",
    "       '15', '161', '16', '17A', '17', '184', '185', '18', '1', '220',\n",
    "       '236', '238', '239', '25A', '25B', '25X', '25', '26', '270', '27A',\n",
    "       '27B', '27X', '27', '29A', '31B', '31', '32', '32X', '33A', '33B',\n",
    "       '33X', '33', '37', '38A', '38', '39A', '39', '40B', '40D', '40',\n",
    "       '41B', '41C', '41X', '41', '42', '43', '44B', '44', '45A', '46A',\n",
    "       '46E', '47', '49', '4', '51D', '51X', '53', '54A', '56A', '59',\n",
    "       '61', '63', '65B', '65', '66A', '66X', '66', '67', '68', '69X',\n",
    "       '69', '70', '747', '75', '76A', '76', '77A', '79', '79A', '7B',\n",
    "       '7D', '7', '83', '84', '84A', '84X', '8', '9']\n",
    "\n",
    "service_types = [\"weekday\",\"weekday\",\"weekday\",\"weekday\",\"weekday\",\"saturday\",\"sunday\"]\n"
   ]
  },
  {
   "cell_type": "markdown",
   "metadata": {},
   "source": [
    "# Map Timetable to SOUTHBOUND"
   ]
  },
  {
   "cell_type": "code",
   "execution_count": 5,
   "metadata": {
    "collapsed": false
   },
   "outputs": [],
   "source": [
    "#Existing Mapping\n",
    "timetable_mapping = pd.read_csv('bus_data/static_data/final_timetable.csv')\n",
    "timetable_mapping = timetable_mapping.drop('Unnamed: 0', 1)"
   ]
  },
  {
   "cell_type": "code",
   "execution_count": 6,
   "metadata": {
    "collapsed": false
   },
   "outputs": [
    {
     "data": {
      "text/html": [
       "<div>\n",
       "<table border=\"1\" class=\"dataframe\">\n",
       "  <thead>\n",
       "    <tr style=\"text-align: right;\">\n",
       "      <th></th>\n",
       "      <th>LineID</th>\n",
       "      <th>day</th>\n",
       "      <th>departure</th>\n",
       "      <th>JourneyPatternID</th>\n",
       "    </tr>\n",
       "  </thead>\n",
       "  <tbody>\n",
       "    <tr>\n",
       "      <th>0</th>\n",
       "      <td>102</td>\n",
       "      <td>saturday</td>\n",
       "      <td>05:45</td>\n",
       "      <td>1001</td>\n",
       "    </tr>\n",
       "    <tr>\n",
       "      <th>1</th>\n",
       "      <td>102</td>\n",
       "      <td>saturday</td>\n",
       "      <td>06:45</td>\n",
       "      <td>1001</td>\n",
       "    </tr>\n",
       "    <tr>\n",
       "      <th>2</th>\n",
       "      <td>102</td>\n",
       "      <td>saturday</td>\n",
       "      <td>07:10</td>\n",
       "      <td>1001</td>\n",
       "    </tr>\n",
       "    <tr>\n",
       "      <th>3</th>\n",
       "      <td>102</td>\n",
       "      <td>saturday</td>\n",
       "      <td>07:20</td>\n",
       "      <td>1001</td>\n",
       "    </tr>\n",
       "    <tr>\n",
       "      <th>4</th>\n",
       "      <td>102</td>\n",
       "      <td>saturday</td>\n",
       "      <td>07:05</td>\n",
       "      <td>1001</td>\n",
       "    </tr>\n",
       "  </tbody>\n",
       "</table>\n",
       "</div>"
      ],
      "text/plain": [
       "  LineID       day departure  JourneyPatternID\n",
       "0    102  saturday     05:45              1001\n",
       "1    102  saturday     06:45              1001\n",
       "2    102  saturday     07:10              1001\n",
       "3    102  saturday     07:20              1001\n",
       "4    102  saturday     07:05              1001"
      ]
     },
     "execution_count": 6,
     "metadata": {},
     "output_type": "execute_result"
    }
   ],
   "source": [
    "timetable_mapping.head()"
   ]
  },
  {
   "cell_type": "code",
   "execution_count": 7,
   "metadata": {
    "collapsed": false
   },
   "outputs": [
    {
     "data": {
      "text/plain": [
       "array(['102', '104', '111', '114', '116', '118', '11', '120', '122', '123',\n",
       "       '130', '13', '140', '142', '145', '14', '150', '151', '15A', '15B',\n",
       "       '15', '161', '16', '17A', '17', '184', '185', '18', '1', '220',\n",
       "       '236', '238', '239', '25A', '25B', '25X', '25', '26', '270', '27A',\n",
       "       '27B', '27X', '27', '29A', '31B', '31', '32', '32X', '33A', '33B',\n",
       "       '33X', '33', '37', '38A', '38', '39A', '39', '40B', '40D', '40',\n",
       "       '41B', '41C', '41X', '41', '42', '43', '44B', '44', '45A', '46A',\n",
       "       '46E', '47', '49', '4', '51D', '51X', '53', '54A', '56A', '59',\n",
       "       '61', '63', '65B', '65', '66A', '66X', '66', '67', '68', '69X',\n",
       "       '69', '70', '747', '75', '76A', '76', '77A', '79', '79A', '7B',\n",
       "       '7D', '7', '83', '84', '84A', '84X', '8', '9'], dtype=object)"
      ]
     },
     "execution_count": 7,
     "metadata": {},
     "output_type": "execute_result"
    }
   ],
   "source": [
    "timetable_mapping.LineID.unique()"
   ]
  },
  {
   "cell_type": "code",
   "execution_count": 8,
   "metadata": {
    "collapsed": false
   },
   "outputs": [],
   "source": [
    "for i in lines:\n",
    "    if i not in timetable_mapping.LineID.unique():\n",
    "        print(i)"
   ]
  },
  {
   "cell_type": "code",
   "execution_count": 9,
   "metadata": {
    "collapsed": false
   },
   "outputs": [],
   "source": [
    "#to drop\n",
    "for i in timetable_mapping.LineID.unique():\n",
    "    if i not in lines:\n",
    "        print(i)"
   ]
  },
  {
   "cell_type": "code",
   "execution_count": 8,
   "metadata": {
    "collapsed": true
   },
   "outputs": [],
   "source": [
    "timetable_mapping = timetable_mapping[~timetable_mapping['LineID'].isin(['32B','32A','33D','90'])]\n",
    "timetable_mapping.dropna(axis=0, subset=['LineID'], inplace=True)"
   ]
  },
  {
   "cell_type": "code",
   "execution_count": 10,
   "metadata": {
    "collapsed": false
   },
   "outputs": [
    {
     "data": {
      "text/plain": [
       "Index(['fullname', 'LineID', 'southbound'], dtype='object')"
      ]
     },
     "execution_count": 10,
     "metadata": {},
     "output_type": "execute_result"
    }
   ],
   "source": [
    "timetable_mapping.columns"
   ]
  },
  {
   "cell_type": "code",
   "execution_count": 11,
   "metadata": {
    "collapsed": true
   },
   "outputs": [],
   "source": [
    "timetable_mapping.to_csv('timetable_mapping.csv')"
   ]
  },
  {
   "cell_type": "markdown",
   "metadata": {},
   "source": [
    "# MERGE TIMETABLES ON 'fullname' TO TIMETABLE MAPPING"
   ]
  },
  {
   "cell_type": "code",
   "execution_count": null,
   "metadata": {
    "collapsed": true
   },
   "outputs": [],
   "source": []
  },
  {
   "cell_type": "code",
   "execution_count": null,
   "metadata": {
    "collapsed": true
   },
   "outputs": [],
   "source": []
  },
  {
   "cell_type": "code",
   "execution_count": null,
   "metadata": {
    "collapsed": true
   },
   "outputs": [],
   "source": []
  },
  {
   "cell_type": "markdown",
   "metadata": {},
   "source": [
    "# MAP HEADSIGNS TO SOUTHBOUND"
   ]
  },
  {
   "cell_type": "code",
   "execution_count": 95,
   "metadata": {
    "collapsed": true
   },
   "outputs": [],
   "source": [
    "heads = pd.read_csv('bus_data/static_data/heads.csv',index_col=0)"
   ]
  },
  {
   "cell_type": "code",
   "execution_count": 96,
   "metadata": {
    "collapsed": false
   },
   "outputs": [
    {
     "data": {
      "text/html": [
       "<div>\n",
       "<table border=\"1\" class=\"dataframe\">\n",
       "  <thead>\n",
       "    <tr style=\"text-align: right;\">\n",
       "      <th></th>\n",
       "      <th>LineID</th>\n",
       "      <th>JourneyPatternID</th>\n",
       "      <th>Headsign</th>\n",
       "      <th>Towards</th>\n",
       "    </tr>\n",
       "  </thead>\n",
       "  <tbody>\n",
       "    <tr>\n",
       "      <th>0</th>\n",
       "      <td>1</td>\n",
       "      <td>1</td>\n",
       "      <td>Strand Road</td>\n",
       "      <td>Strand Road, Dublin</td>\n",
       "    </tr>\n",
       "    <tr>\n",
       "      <th>1</th>\n",
       "      <td>1</td>\n",
       "      <td>1001</td>\n",
       "      <td>Shanard Road</td>\n",
       "      <td>Shanard Road, Dublin</td>\n",
       "    </tr>\n",
       "    <tr>\n",
       "      <th>2</th>\n",
       "      <td>102</td>\n",
       "      <td>1</td>\n",
       "      <td>Airport</td>\n",
       "      <td>Airport, Dublin</td>\n",
       "    </tr>\n",
       "    <tr>\n",
       "      <th>3</th>\n",
       "      <td>102</td>\n",
       "      <td>1001</td>\n",
       "      <td>Sutton</td>\n",
       "      <td>Sutton, Dublin</td>\n",
       "    </tr>\n",
       "    <tr>\n",
       "      <th>4</th>\n",
       "      <td>104</td>\n",
       "      <td>1</td>\n",
       "      <td>Shanard Road</td>\n",
       "      <td>Shanard Road, Dublin</td>\n",
       "    </tr>\n",
       "  </tbody>\n",
       "</table>\n",
       "</div>"
      ],
      "text/plain": [
       "  LineID  JourneyPatternID      Headsign               Towards\n",
       "0      1                 1   Strand Road   Strand Road, Dublin\n",
       "1      1              1001  Shanard Road  Shanard Road, Dublin\n",
       "2    102                 1       Airport       Airport, Dublin\n",
       "3    102              1001        Sutton        Sutton, Dublin\n",
       "4    104                 1  Shanard Road  Shanard Road, Dublin"
      ]
     },
     "execution_count": 96,
     "metadata": {},
     "output_type": "execute_result"
    }
   ],
   "source": [
    "heads.head()"
   ]
  },
  {
   "cell_type": "code",
   "execution_count": 97,
   "metadata": {
    "collapsed": true
   },
   "outputs": [],
   "source": [
    "from geopy.geocoders import Nominatim\n",
    "\n",
    "def get_lat(a):\n",
    "    geolocator = Nominatim()\n",
    "    location = Nominatim().geocode(a)\n",
    "    return(location.latitude)\n",
    "\n"
   ]
  },
  {
   "cell_type": "code",
   "execution_count": 103,
   "metadata": {
    "collapsed": false
   },
   "outputs": [],
   "source": [
    "#INVESTIGATIONS\n",
    "# num = 171\n",
    "# heads.iloc[num]\n",
    "\n",
    "# b = heads.iloc[num].values[-1]\n",
    "# print(get_lat(b))\n",
    "\n",
    "# a = list(heads.Towards)\n",
    "\n",
    "# for i in range(167,len(a)):\n",
    "#     print()\n",
    "#     print(i)\n",
    "#     print(get_lat(a[i]))"
   ]
  },
  {
   "cell_type": "code",
   "execution_count": 102,
   "metadata": {
    "collapsed": false
   },
   "outputs": [],
   "source": [
    "heads['Towards_Lat'] = heads['Towards'].apply(get_lat)"
   ]
  },
  {
   "cell_type": "code",
   "execution_count": 344,
   "metadata": {
    "collapsed": false
   },
   "outputs": [
    {
     "data": {
      "text/html": [
       "<div>\n",
       "<table border=\"1\" class=\"dataframe\">\n",
       "  <thead>\n",
       "    <tr style=\"text-align: right;\">\n",
       "      <th></th>\n",
       "      <th>LineID</th>\n",
       "      <th>JourneyPatternID</th>\n",
       "      <th>Headsign</th>\n",
       "      <th>Towards</th>\n",
       "      <th>Towards_Lat</th>\n",
       "      <th>From_Lat</th>\n",
       "      <th>southbound</th>\n",
       "    </tr>\n",
       "  </thead>\n",
       "  <tbody>\n",
       "    <tr>\n",
       "      <th>0</th>\n",
       "      <td>1</td>\n",
       "      <td>1</td>\n",
       "      <td>Strand Road</td>\n",
       "      <td>Strand Road, Dublin</td>\n",
       "      <td>53.333336</td>\n",
       "      <td>53.390694</td>\n",
       "      <td>True</td>\n",
       "    </tr>\n",
       "    <tr>\n",
       "      <th>1</th>\n",
       "      <td>1</td>\n",
       "      <td>1001</td>\n",
       "      <td>Shanard Road</td>\n",
       "      <td>Shanard Road, Dublin</td>\n",
       "      <td>53.390694</td>\n",
       "      <td>53.333336</td>\n",
       "      <td>False</td>\n",
       "    </tr>\n",
       "    <tr>\n",
       "      <th>2</th>\n",
       "      <td>102</td>\n",
       "      <td>1</td>\n",
       "      <td>Airport</td>\n",
       "      <td>Airport, Dublin</td>\n",
       "      <td>53.429736</td>\n",
       "      <td>53.390520</td>\n",
       "      <td>False</td>\n",
       "    </tr>\n",
       "    <tr>\n",
       "      <th>3</th>\n",
       "      <td>102</td>\n",
       "      <td>1001</td>\n",
       "      <td>Sutton</td>\n",
       "      <td>Sutton, Dublin</td>\n",
       "      <td>53.390520</td>\n",
       "      <td>53.429736</td>\n",
       "      <td>True</td>\n",
       "    </tr>\n",
       "    <tr>\n",
       "      <th>4</th>\n",
       "      <td>104</td>\n",
       "      <td>1</td>\n",
       "      <td>Shanard Road</td>\n",
       "      <td>Shanard Road, Dublin</td>\n",
       "      <td>53.390694</td>\n",
       "      <td>53.362922</td>\n",
       "      <td>False</td>\n",
       "    </tr>\n",
       "  </tbody>\n",
       "</table>\n",
       "</div>"
      ],
      "text/plain": [
       "  LineID  JourneyPatternID      Headsign               Towards  Towards_Lat  \\\n",
       "0      1                 1   Strand Road   Strand Road, Dublin    53.333336   \n",
       "1      1              1001  Shanard Road  Shanard Road, Dublin    53.390694   \n",
       "2    102                 1       Airport       Airport, Dublin    53.429736   \n",
       "3    102              1001        Sutton        Sutton, Dublin    53.390520   \n",
       "4    104                 1  Shanard Road  Shanard Road, Dublin    53.390694   \n",
       "\n",
       "    From_Lat southbound  \n",
       "0  53.390694       True  \n",
       "1  53.333336      False  \n",
       "2  53.390520      False  \n",
       "3  53.429736       True  \n",
       "4  53.362922      False  "
      ]
     },
     "execution_count": 344,
     "metadata": {},
     "output_type": "execute_result"
    }
   ],
   "source": [
    "heads.head()"
   ]
  },
  {
   "cell_type": "code",
   "execution_count": 116,
   "metadata": {
    "collapsed": false
   },
   "outputs": [],
   "source": [
    "pair_list = []\n",
    "grouped = heads.groupby(['LineID'])\n",
    "for key, df in grouped:\n",
    "    pair_list.append(list(df.Towards_Lat))\n",
    "    "
   ]
  },
  {
   "cell_type": "code",
   "execution_count": 117,
   "metadata": {
    "collapsed": false
   },
   "outputs": [],
   "source": [
    "reversed_list = []\n",
    "for pair in pair_list:\n",
    "    reversed_pair = reversed(pair)\n",
    "    for r in reversed_pair:\n",
    "        reversed_list.append(r)\n",
    "        "
   ]
  },
  {
   "cell_type": "code",
   "execution_count": 118,
   "metadata": {
    "collapsed": false
   },
   "outputs": [],
   "source": [
    "heads['From_Lat'] = reversed_list"
   ]
  },
  {
   "cell_type": "code",
   "execution_count": 120,
   "metadata": {
    "collapsed": true
   },
   "outputs": [],
   "source": [
    "heads['southbound'] = (heads.Towards_Lat - heads.From_Lat)<0"
   ]
  },
  {
   "cell_type": "code",
   "execution_count": 123,
   "metadata": {
    "collapsed": true
   },
   "outputs": [],
   "source": [
    "head_map = heads[['LineID','JourneyPatternID','southbound']]"
   ]
  },
  {
   "cell_type": "code",
   "execution_count": 346,
   "metadata": {
    "collapsed": false
   },
   "outputs": [],
   "source": [
    "head_map.to_csv('bus_data/static_data/head_map.csv')"
   ]
  },
  {
   "cell_type": "markdown",
   "metadata": {},
   "source": [
    "# Merge on southbound"
   ]
  },
  {
   "cell_type": "code",
   "execution_count": 127,
   "metadata": {
    "collapsed": false
   },
   "outputs": [
    {
     "data": {
      "text/plain": [
       "(557, 3)"
      ]
     },
     "execution_count": 127,
     "metadata": {},
     "output_type": "execute_result"
    }
   ],
   "source": [
    "timetable_mapping.shape\n",
    "# timetable_mapping.head()"
   ]
  },
  {
   "cell_type": "code",
   "execution_count": 128,
   "metadata": {
    "collapsed": false
   },
   "outputs": [
    {
     "data": {
      "text/plain": [
       "(227, 3)"
      ]
     },
     "execution_count": 128,
     "metadata": {},
     "output_type": "execute_result"
    }
   ],
   "source": [
    "head_map.shape\n",
    "# head_map.head()"
   ]
  },
  {
   "cell_type": "code",
   "execution_count": 130,
   "metadata": {
    "collapsed": false
   },
   "outputs": [
    {
     "data": {
      "text/html": [
       "<div>\n",
       "<table border=\"1\" class=\"dataframe\">\n",
       "  <thead>\n",
       "    <tr style=\"text-align: right;\">\n",
       "      <th></th>\n",
       "      <th>fullname</th>\n",
       "      <th>LineID</th>\n",
       "      <th>southbound</th>\n",
       "    </tr>\n",
       "  </thead>\n",
       "  <tbody>\n",
       "    <tr>\n",
       "      <th>0</th>\n",
       "      <td>102_saturday_From Dublin Airport Towards Sutto...</td>\n",
       "      <td>102</td>\n",
       "      <td>True</td>\n",
       "    </tr>\n",
       "    <tr>\n",
       "      <th>1</th>\n",
       "      <td>102_saturday_From Sutton Station Towards Dubli...</td>\n",
       "      <td>102</td>\n",
       "      <td>False</td>\n",
       "    </tr>\n",
       "    <tr>\n",
       "      <th>2</th>\n",
       "      <td>102_sunday_From Dublin Airport Towards Sutton ...</td>\n",
       "      <td>102</td>\n",
       "      <td>True</td>\n",
       "    </tr>\n",
       "    <tr>\n",
       "      <th>3</th>\n",
       "      <td>102_sunday_From Sutton Station Towards Dublin ...</td>\n",
       "      <td>102</td>\n",
       "      <td>False</td>\n",
       "    </tr>\n",
       "    <tr>\n",
       "      <th>4</th>\n",
       "      <td>102_weekday_From Dublin Airport Towards Sutton...</td>\n",
       "      <td>102</td>\n",
       "      <td>True</td>\n",
       "    </tr>\n",
       "  </tbody>\n",
       "</table>\n",
       "</div>"
      ],
      "text/plain": [
       "                                            fullname LineID southbound\n",
       "0  102_saturday_From Dublin Airport Towards Sutto...    102       True\n",
       "1  102_saturday_From Sutton Station Towards Dubli...    102      False\n",
       "2  102_sunday_From Dublin Airport Towards Sutton ...    102       True\n",
       "3  102_sunday_From Sutton Station Towards Dublin ...    102      False\n",
       "4  102_weekday_From Dublin Airport Towards Sutton...    102       True"
      ]
     },
     "execution_count": 130,
     "metadata": {},
     "output_type": "execute_result"
    }
   ],
   "source": [
    "timetable_mapping.head()"
   ]
  },
  {
   "cell_type": "code",
   "execution_count": 131,
   "metadata": {
    "collapsed": true
   },
   "outputs": [],
   "source": [
    "#Monday is 0, Sunday is 6\n",
    "def get_direction(x):\n",
    "    return x.split(\"_\")[-1].strip('.csv')\n",
    "    \n",
    "timetable_mapping['direction'] = timetable_mapping['fullname'].apply(get_direction)"
   ]
  },
  {
   "cell_type": "code",
   "execution_count": 139,
   "metadata": {
    "collapsed": false
   },
   "outputs": [
    {
     "data": {
      "text/html": [
       "<div>\n",
       "<table border=\"1\" class=\"dataframe\">\n",
       "  <thead>\n",
       "    <tr style=\"text-align: right;\">\n",
       "      <th></th>\n",
       "      <th>fullname</th>\n",
       "      <th>LineID</th>\n",
       "      <th>southbound</th>\n",
       "      <th>direction</th>\n",
       "    </tr>\n",
       "  </thead>\n",
       "  <tbody>\n",
       "    <tr>\n",
       "      <th>0</th>\n",
       "      <td>102_saturday_From Dublin Airport Towards Sutto...</td>\n",
       "      <td>102</td>\n",
       "      <td>True</td>\n",
       "      <td>From Dublin Airport Towards Sutton Station</td>\n",
       "    </tr>\n",
       "    <tr>\n",
       "      <th>1</th>\n",
       "      <td>102_saturday_From Sutton Station Towards Dubli...</td>\n",
       "      <td>102</td>\n",
       "      <td>False</td>\n",
       "      <td>From Sutton Station Towards Dublin Airport</td>\n",
       "    </tr>\n",
       "    <tr>\n",
       "      <th>2</th>\n",
       "      <td>102_sunday_From Dublin Airport Towards Sutton ...</td>\n",
       "      <td>102</td>\n",
       "      <td>True</td>\n",
       "      <td>From Dublin Airport Towards Sutton Station</td>\n",
       "    </tr>\n",
       "    <tr>\n",
       "      <th>3</th>\n",
       "      <td>102_sunday_From Sutton Station Towards Dublin ...</td>\n",
       "      <td>102</td>\n",
       "      <td>False</td>\n",
       "      <td>From Sutton Station Towards Dublin Airport</td>\n",
       "    </tr>\n",
       "    <tr>\n",
       "      <th>4</th>\n",
       "      <td>102_weekday_From Dublin Airport Towards Sutton...</td>\n",
       "      <td>102</td>\n",
       "      <td>True</td>\n",
       "      <td>From Dublin Airport Towards Sutton Station</td>\n",
       "    </tr>\n",
       "  </tbody>\n",
       "</table>\n",
       "</div>"
      ],
      "text/plain": [
       "                                            fullname LineID southbound  \\\n",
       "0  102_saturday_From Dublin Airport Towards Sutto...    102       True   \n",
       "1  102_saturday_From Sutton Station Towards Dubli...    102      False   \n",
       "2  102_sunday_From Dublin Airport Towards Sutton ...    102       True   \n",
       "3  102_sunday_From Sutton Station Towards Dublin ...    102      False   \n",
       "4  102_weekday_From Dublin Airport Towards Sutton...    102       True   \n",
       "\n",
       "                                    direction  \n",
       "0  From Dublin Airport Towards Sutton Station  \n",
       "1  From Sutton Station Towards Dublin Airport  \n",
       "2  From Dublin Airport Towards Sutton Station  \n",
       "3  From Sutton Station Towards Dublin Airport  \n",
       "4  From Dublin Airport Towards Sutton Station  "
      ]
     },
     "execution_count": 139,
     "metadata": {},
     "output_type": "execute_result"
    }
   ],
   "source": [
    "timetable_mapping.head()"
   ]
  },
  {
   "cell_type": "code",
   "execution_count": 210,
   "metadata": {
    "collapsed": true
   },
   "outputs": [],
   "source": [
    "timetable_mapping.to_csv('bus_data/static_data/timetable_mapping.csv')"
   ]
  },
  {
   "cell_type": "markdown",
   "metadata": {},
   "source": [
    "# Merge with Overall Timetable"
   ]
  },
  {
   "cell_type": "code",
   "execution_count": 326,
   "metadata": {
    "collapsed": true
   },
   "outputs": [],
   "source": [
    "timetable_mapping = pd.read_csv('bus_data/static_data/timetable_mapping.csv',index_col=0)"
   ]
  },
  {
   "cell_type": "code",
   "execution_count": 327,
   "metadata": {
    "collapsed": false
   },
   "outputs": [],
   "source": [
    "master_timetable = pd.read_csv('bus_data/static_data/timetable.csv',index_col=0)"
   ]
  },
  {
   "cell_type": "code",
   "execution_count": 328,
   "metadata": {
    "collapsed": false
   },
   "outputs": [
    {
     "data": {
      "text/plain": [
       "221"
      ]
     },
     "execution_count": 328,
     "metadata": {},
     "output_type": "execute_result"
    }
   ],
   "source": [
    "master_timetable.direction.nunique()"
   ]
  },
  {
   "cell_type": "code",
   "execution_count": 329,
   "metadata": {
    "collapsed": false
   },
   "outputs": [
    {
     "data": {
      "text/plain": [
       "197"
      ]
     },
     "execution_count": 329,
     "metadata": {},
     "output_type": "execute_result"
    }
   ],
   "source": [
    "timetable_mapping.direction.nunique()"
   ]
  },
  {
   "cell_type": "code",
   "execution_count": 330,
   "metadata": {
    "collapsed": false
   },
   "outputs": [
    {
     "data": {
      "text/plain": [
       "array(['102', '104', '111', '114', '116', '118', '11', '120', '122', '123',\n",
       "       '130', '13', '140', '142', '145', '14', '150', '151', '15a', '15b',\n",
       "       '15n', '15', '161', '16', '17a', '17', '184', '185', '18', '1',\n",
       "       '220', '236', '238', '239', '25a', '25b', '25n', '25x', '25', '26',\n",
       "       '270', '27a', '27b', '27x', '27', '29a', '29n', '31b', '31n', '31',\n",
       "       '32', '32a', '32x', '33a', '33b', '33d', '33n', '33x', '33', '37',\n",
       "       '38a', '38', '39a', '39n', '39', '40b', '40d', '40', '41b', '41c',\n",
       "       '41n', '41x', '41', '42n', '42', '43', '44b', '44', '45a', '46a',\n",
       "       '46e', '46n', '47', '49n', '49', '4', '51d', '51x', '53', '54a',\n",
       "       '56a', '59', '61', '63', '65b', '65', '66a', '66n', '66x', '66',\n",
       "       '67n', '67', '68', '69x', '69', '70n', '70', '747', '75', '76a',\n",
       "       '76', '77a', '77n', '77x', '79', '7b', '7d', '7n', '7', '83', '84',\n",
       "       '84n', '84x', '88n', '8', '90', '9'], dtype=object)"
      ]
     },
     "execution_count": 330,
     "metadata": {},
     "output_type": "execute_result"
    }
   ],
   "source": [
    "master_timetable.line.unique()"
   ]
  },
  {
   "cell_type": "code",
   "execution_count": 331,
   "metadata": {
    "collapsed": false,
    "scrolled": true
   },
   "outputs": [
    {
     "data": {
      "text/plain": [
       "Index(['day', 'departure', 'direction', 'fullname', 'line'], dtype='object')"
      ]
     },
     "execution_count": 331,
     "metadata": {},
     "output_type": "execute_result"
    }
   ],
   "source": [
    "master_timetable.columns"
   ]
  },
  {
   "cell_type": "code",
   "execution_count": 332,
   "metadata": {
    "collapsed": true
   },
   "outputs": [],
   "source": [
    "# backup_master = master_timetable.copy()"
   ]
  },
  {
   "cell_type": "code",
   "execution_count": 333,
   "metadata": {
    "collapsed": true
   },
   "outputs": [],
   "source": [
    "# master.to_csv(\"TIMETABLE.csv\")"
   ]
  },
  {
   "cell_type": "code",
   "execution_count": 334,
   "metadata": {
    "collapsed": false
   },
   "outputs": [
    {
     "data": {
      "text/plain": [
       "Index(['fullname', 'LineID', 'southbound', 'direction'], dtype='object')"
      ]
     },
     "execution_count": 334,
     "metadata": {},
     "output_type": "execute_result"
    }
   ],
   "source": [
    "timetable_mapping.columns"
   ]
  },
  {
   "cell_type": "code",
   "execution_count": 335,
   "metadata": {
    "collapsed": false
   },
   "outputs": [
    {
     "name": "stdout",
     "output_type": "stream",
     "text": [
      "8_saturday_From Dalkey Towards Mountjoy Sq..csv\n",
      "8_saturday_From Mountjoy Sq. Towards Dalkey.csv\n",
      "8_sunday_From Dalkey Towards Mountjoy Sq..csv\n",
      "8_sunday_From Mountjoy Sq. Towards Dalkey.csv\n"
     ]
    }
   ],
   "source": [
    "for i in timetable_mapping.fullname.unique():\n",
    "    if i not in master_timetable.fullname.unique():\n",
    "        print(i)"
   ]
  },
  {
   "cell_type": "code",
   "execution_count": 336,
   "metadata": {
    "collapsed": false
   },
   "outputs": [
    {
     "name": "stdout",
     "output_type": "stream",
     "text": [
      "15n_Friday Saturday_From D'Olier St. Towards Ellensborough.csv\n",
      "25n_Friday Saturday_From Westmoreland Street Towards Adamstown.csv\n",
      "29n_Friday Saturday_From D'Olier St. Towards Baldoyle Rd..csv\n",
      "31n_Friday Saturday_From D'Olier St. Towards Howth.csv\n",
      "32a_saturday_From Abbey St. Towards Malahide.csv\n",
      "32a_saturday_From Malahide Towards Abbey St..csv\n",
      "32a_sunday_From Abbey St. Towards Malahide.csv\n",
      "32a_sunday_From Malahide Towards Abbey St..csv\n",
      "32a_weekday_From Abbey St. Towards Malahide.csv\n",
      "32a_weekday_From Malahide Towards Abbey St..csv\n",
      "33d_weekday_From Custom House Quay Towards Portrane.csv\n",
      "33d_weekday_From Portrane Towards Custom House Quay.csv\n",
      "33n_Friday Saturday_From Westmoreland St. Towards Balbriggan.csv\n",
      "39n_Friday Saturday_From Westmoreland St. Towards Tyrrelstown.csv\n",
      "41n_Friday Saturday_From Westmoreland St. Towards Swords Manor.csv\n",
      "42n_Friday Saturday_From D'Olier St. Towards Portmarnock.csv\n",
      "46n_Friday Saturday_From D'Olier St. Towards Dundrum.csv\n",
      "49n_Friday Saturday_From D'Olier St. Towards Tallaght (Kilnamanagh).csv\n",
      "66n_Friday Saturday_From Westmoreland St. Towards Leixlip (Louisa Bridge) via Glen Easton.csv\n",
      "67n_Friday Saturday_From Westmoreland St. Towards Celbridge or Maynooth.csv\n",
      "70n_Friday Saturday_From Westmoreland Street Towards Dunboyne.csv\n",
      "77n_Friday Saturday_From D'Olier St. Towards Tallaght (Westbrook Estate).csv\n",
      "77x_weekday_From Tallaght Towards UCD Belfield.csv\n",
      "7n_Friday Saturday_D'Olier St. Towards Shankill.csv\n",
      "84n_Friday Saturday_From D'Olier St. Towards Greystones.csv\n",
      "88n_Friday Saturday_From Westmoreland St. Towards Ashbourne.csv\n",
      "90_weekday_From Heuston Station Towards International Financial Services Centre.csv\n",
      "90_weekday_From International Financial Services Centre Towards Heuston Station.csv\n"
     ]
    }
   ],
   "source": [
    "# replace these\n",
    "for i in master_timetable.fullname.unique():\n",
    "    if i not in timetable_mapping.fullname.unique():\n",
    "        print(i)"
   ]
  },
  {
   "cell_type": "markdown",
   "metadata": {},
   "source": [
    "# Merge"
   ]
  },
  {
   "cell_type": "code",
   "execution_count": 340,
   "metadata": {
    "collapsed": false
   },
   "outputs": [],
   "source": [
    "merged = pd.merge(timetable_mapping, master_timetable, on=['fullname'])"
   ]
  },
  {
   "cell_type": "code",
   "execution_count": 343,
   "metadata": {
    "collapsed": false
   },
   "outputs": [
    {
     "data": {
      "text/html": [
       "<div>\n",
       "<table border=\"1\" class=\"dataframe\">\n",
       "  <thead>\n",
       "    <tr style=\"text-align: right;\">\n",
       "      <th></th>\n",
       "      <th>LineID</th>\n",
       "      <th>day</th>\n",
       "      <th>departure</th>\n",
       "      <th>southbound</th>\n",
       "    </tr>\n",
       "  </thead>\n",
       "  <tbody>\n",
       "    <tr>\n",
       "      <th>0</th>\n",
       "      <td>102</td>\n",
       "      <td>saturday</td>\n",
       "      <td>5:45</td>\n",
       "      <td>True</td>\n",
       "    </tr>\n",
       "    <tr>\n",
       "      <th>1</th>\n",
       "      <td>102</td>\n",
       "      <td>saturday</td>\n",
       "      <td>6:45</td>\n",
       "      <td>True</td>\n",
       "    </tr>\n",
       "    <tr>\n",
       "      <th>2</th>\n",
       "      <td>102</td>\n",
       "      <td>saturday</td>\n",
       "      <td>7:10</td>\n",
       "      <td>True</td>\n",
       "    </tr>\n",
       "    <tr>\n",
       "      <th>3</th>\n",
       "      <td>102</td>\n",
       "      <td>saturday</td>\n",
       "      <td>7:20</td>\n",
       "      <td>True</td>\n",
       "    </tr>\n",
       "    <tr>\n",
       "      <th>4</th>\n",
       "      <td>102</td>\n",
       "      <td>saturday</td>\n",
       "      <td>7:05</td>\n",
       "      <td>True</td>\n",
       "    </tr>\n",
       "  </tbody>\n",
       "</table>\n",
       "</div>"
      ],
      "text/plain": [
       "  LineID       day departure southbound\n",
       "0    102  saturday      5:45       True\n",
       "1    102  saturday      6:45       True\n",
       "2    102  saturday      7:10       True\n",
       "3    102  saturday      7:20       True\n",
       "4    102  saturday      7:05       True"
      ]
     },
     "execution_count": 343,
     "metadata": {},
     "output_type": "execute_result"
    }
   ],
   "source": [
    "essential = merged[['LineID','day','departure','southbound']]\n",
    "essential.head()"
   ]
  },
  {
   "cell_type": "markdown",
   "metadata": {},
   "source": [
    "# Merge again\n",
    "Merge essential with head_map on southbound"
   ]
  },
  {
   "cell_type": "code",
   "execution_count": 347,
   "metadata": {
    "collapsed": false
   },
   "outputs": [
    {
     "data": {
      "text/html": [
       "<div>\n",
       "<table border=\"1\" class=\"dataframe\">\n",
       "  <thead>\n",
       "    <tr style=\"text-align: right;\">\n",
       "      <th></th>\n",
       "      <th>LineID</th>\n",
       "      <th>JourneyPatternID</th>\n",
       "      <th>southbound</th>\n",
       "    </tr>\n",
       "  </thead>\n",
       "  <tbody>\n",
       "    <tr>\n",
       "      <th>0</th>\n",
       "      <td>1</td>\n",
       "      <td>1</td>\n",
       "      <td>True</td>\n",
       "    </tr>\n",
       "    <tr>\n",
       "      <th>1</th>\n",
       "      <td>1</td>\n",
       "      <td>1001</td>\n",
       "      <td>False</td>\n",
       "    </tr>\n",
       "    <tr>\n",
       "      <th>2</th>\n",
       "      <td>102</td>\n",
       "      <td>1</td>\n",
       "      <td>False</td>\n",
       "    </tr>\n",
       "    <tr>\n",
       "      <th>3</th>\n",
       "      <td>102</td>\n",
       "      <td>1001</td>\n",
       "      <td>True</td>\n",
       "    </tr>\n",
       "    <tr>\n",
       "      <th>4</th>\n",
       "      <td>104</td>\n",
       "      <td>1</td>\n",
       "      <td>False</td>\n",
       "    </tr>\n",
       "  </tbody>\n",
       "</table>\n",
       "</div>"
      ],
      "text/plain": [
       "  LineID  JourneyPatternID southbound\n",
       "0      1                 1       True\n",
       "1      1              1001      False\n",
       "2    102                 1      False\n",
       "3    102              1001       True\n",
       "4    104                 1      False"
      ]
     },
     "execution_count": 347,
     "metadata": {},
     "output_type": "execute_result"
    }
   ],
   "source": [
    "head_map.head()"
   ]
  },
  {
   "cell_type": "code",
   "execution_count": 348,
   "metadata": {
    "collapsed": true
   },
   "outputs": [],
   "source": [
    "final = pd.merge(essential,head_map,on=['LineID','southbound'])"
   ]
  },
  {
   "cell_type": "code",
   "execution_count": 349,
   "metadata": {
    "collapsed": false
   },
   "outputs": [
    {
     "data": {
      "text/html": [
       "<div>\n",
       "<table border=\"1\" class=\"dataframe\">\n",
       "  <thead>\n",
       "    <tr style=\"text-align: right;\">\n",
       "      <th></th>\n",
       "      <th>LineID</th>\n",
       "      <th>day</th>\n",
       "      <th>departure</th>\n",
       "      <th>southbound</th>\n",
       "      <th>JourneyPatternID</th>\n",
       "    </tr>\n",
       "  </thead>\n",
       "  <tbody>\n",
       "    <tr>\n",
       "      <th>0</th>\n",
       "      <td>102</td>\n",
       "      <td>saturday</td>\n",
       "      <td>5:45</td>\n",
       "      <td>True</td>\n",
       "      <td>1001</td>\n",
       "    </tr>\n",
       "    <tr>\n",
       "      <th>1</th>\n",
       "      <td>102</td>\n",
       "      <td>saturday</td>\n",
       "      <td>6:45</td>\n",
       "      <td>True</td>\n",
       "      <td>1001</td>\n",
       "    </tr>\n",
       "    <tr>\n",
       "      <th>2</th>\n",
       "      <td>102</td>\n",
       "      <td>saturday</td>\n",
       "      <td>7:10</td>\n",
       "      <td>True</td>\n",
       "      <td>1001</td>\n",
       "    </tr>\n",
       "    <tr>\n",
       "      <th>3</th>\n",
       "      <td>102</td>\n",
       "      <td>saturday</td>\n",
       "      <td>7:20</td>\n",
       "      <td>True</td>\n",
       "      <td>1001</td>\n",
       "    </tr>\n",
       "    <tr>\n",
       "      <th>4</th>\n",
       "      <td>102</td>\n",
       "      <td>saturday</td>\n",
       "      <td>7:05</td>\n",
       "      <td>True</td>\n",
       "      <td>1001</td>\n",
       "    </tr>\n",
       "  </tbody>\n",
       "</table>\n",
       "</div>"
      ],
      "text/plain": [
       "  LineID       day departure southbound  JourneyPatternID\n",
       "0    102  saturday      5:45       True              1001\n",
       "1    102  saturday      6:45       True              1001\n",
       "2    102  saturday      7:10       True              1001\n",
       "3    102  saturday      7:20       True              1001\n",
       "4    102  saturday      7:05       True              1001"
      ]
     },
     "execution_count": 349,
     "metadata": {},
     "output_type": "execute_result"
    }
   ],
   "source": [
    "final.head()"
   ]
  },
  {
   "cell_type": "code",
   "execution_count": 365,
   "metadata": {
    "collapsed": true
   },
   "outputs": [],
   "source": [
    "final_timetable = final[['LineID','day','departure','JourneyPatternID']]"
   ]
  },
  {
   "cell_type": "code",
   "execution_count": 366,
   "metadata": {
    "collapsed": false
   },
   "outputs": [],
   "source": [
    "final_timetable = final_timetable.dropna(axis=0, how='any')"
   ]
  },
  {
   "cell_type": "code",
   "execution_count": 369,
   "metadata": {
    "collapsed": false
   },
   "outputs": [],
   "source": [
    "def typo(x):\n",
    "    if x == 'saturay':\n",
    "        return 'saturday'\n",
    "    elif x == 'sundday':\n",
    "        return 'sunday'\n",
    "    elif x == 'Friday Saturday':\n",
    "        return 'saturday'\n",
    "    else:\n",
    "        return x"
   ]
  },
  {
   "cell_type": "code",
   "execution_count": 370,
   "metadata": {
    "collapsed": false
   },
   "outputs": [],
   "source": [
    "final_timetable['day'] = final_timetable['day'].apply(typo)"
   ]
  },
  {
   "cell_type": "code",
   "execution_count": 371,
   "metadata": {
    "collapsed": false
   },
   "outputs": [
    {
     "data": {
      "text/plain": [
       "weekday     7498\n",
       "saturday    5891\n",
       "sunday      3936\n",
       "Name: day, dtype: int64"
      ]
     },
     "execution_count": 371,
     "metadata": {},
     "output_type": "execute_result"
    }
   ],
   "source": [
    "###TYPOS\n",
    "final_timetable.day.value_counts()"
   ]
  },
  {
   "cell_type": "code",
   "execution_count": 372,
   "metadata": {
    "collapsed": true
   },
   "outputs": [],
   "source": [
    "final_timetable.to_csv(\"bus_data/static_data/final_timetable.csv\")"
   ]
  },
  {
   "cell_type": "code",
   "execution_count": 373,
   "metadata": {
    "collapsed": false
   },
   "outputs": [
    {
     "data": {
      "text/plain": [
       "17:00    227\n",
       "23:30    227\n",
       "16:00    226\n",
       "12:00    211\n",
       "13:00    211\n",
       "18:00    209\n",
       "11:00    209\n",
       "15:00    207\n",
       "17:30    207\n",
       "14:00    204\n",
       "10:00    203\n",
       "19:00    202\n",
       "20:00    195\n",
       "15:30    192\n",
       "13:30    190\n",
       "9:00     189\n",
       "9:30     187\n",
       "11:30    186\n",
       "21:00    185\n",
       "16:30    182\n",
       "14:30    181\n",
       "18:30    180\n",
       "20:30    179\n",
       "10:30    178\n",
       "22:00    173\n",
       "21:30    171\n",
       "12:30    170\n",
       "8:30     169\n",
       "22:30    167\n",
       "19:30    167\n",
       "        ... \n",
       "10:57      1\n",
       "17:03      1\n",
       "9:08       1\n",
       "17:36      1\n",
       "14:57      1\n",
       "18:41      1\n",
       "11:07      1\n",
       "23:13      1\n",
       "15:08      1\n",
       "8:13       1\n",
       "16:51      1\n",
       "8:21       1\n",
       "6:56       1\n",
       "15:58      1\n",
       "6:22       1\n",
       "11:52      1\n",
       "19:07      1\n",
       "15:13      1\n",
       "7:13       1\n",
       "17:04      1\n",
       "17:14      1\n",
       "17:48      1\n",
       "7:58       1\n",
       "9:52       1\n",
       "6:29       1\n",
       "14:04      1\n",
       "21:51      1\n",
       "21:21      1\n",
       "11:08      1\n",
       "12:33      1\n",
       "Name: departure, dtype: int64"
      ]
     },
     "execution_count": 373,
     "metadata": {},
     "output_type": "execute_result"
    }
   ],
   "source": [
    "final_timetable.departure.value_counts()"
   ]
  },
  {
   "cell_type": "code",
   "execution_count": null,
   "metadata": {
    "collapsed": true
   },
   "outputs": [],
   "source": []
  }
 ],
 "metadata": {
  "anaconda-cloud": {},
  "kernelspec": {
   "display_name": "Python 3",
   "language": "python",
   "name": "python3"
  },
  "language_info": {
   "codemirror_mode": {
    "name": "ipython",
    "version": 3
   },
   "file_extension": ".py",
   "mimetype": "text/x-python",
   "name": "python",
   "nbconvert_exporter": "python",
   "pygments_lexer": "ipython3",
   "version": "3.6.0"
  }
 },
 "nbformat": 4,
 "nbformat_minor": 2
}
