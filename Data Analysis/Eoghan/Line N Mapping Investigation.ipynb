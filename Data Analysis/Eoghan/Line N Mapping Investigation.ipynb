{
 "cells": [
  {
   "cell_type": "markdown",
   "metadata": {},
   "source": [
    "# JourneyPatternID is a combination of Variant and Direction"
   ]
  },
  {
   "cell_type": "code",
   "execution_count": 1,
   "metadata": {
    "collapsed": true
   },
   "outputs": [],
   "source": [
    "import pandas as pd\n",
    "from datetime import datetime, timedelta\n",
    "\n",
    "import matplotlib.pyplot as plt\n",
    "%matplotlib inline"
   ]
  },
  {
   "cell_type": "markdown",
   "metadata": {},
   "source": [
    "### Constants"
   ]
  },
  {
   "cell_type": "code",
   "execution_count": 2,
   "metadata": {
    "collapsed": false
   },
   "outputs": [],
   "source": [
    "lines = ['1', '102', '104', '11', '111', '114', '116', '118', '120', '122', '123', '13', '130', '14', '140', '142', '145', '14C', '15', '150', '151', '15A', '15B', '16', '161', '16C', '17', '17A', '18', '184', '185', '220', '236', '238', '239', '25', '25A', '25B', '25X', '26', '27', '270', '27A', '27B', '27X', '29A', '31', '31A', '31B', '32', '32X', '33', '332', '33A', '33B', '33X', '37', '38', '38A', '38B', '39', '39A', '4', '40', '40B', '40D', '41', '41A', '41B', '41C', '41X', '42', '43', '44', '44B', '45A', '46A', '46E', '47', '49', '51D', '51X', '53', '54A', '56A', '59', '61', '63', '65', '65B', '66', '66A', '66B', '66X', '67', '67X', '68', '68A', '69', '69X', '7', '70', '747', '75', '76', '76A', '77A', '79', '79A', '7B', '7D', '8', '83', '83A', '84', '84A', '84X', '86', '9']\n",
    "\n",
    "timeframes = [\"2012-11-23\", \"2012-11-27\", \"2012-11-09\", \"2012-11-22\", \"2012-11-16\", \"2012-11-29\", \"2012-11-15\", \n",
    "            \"2012-11-08\", \"2013-01-24\", \"2013-01-09\", \"2013-01-17\", \"2012-11-07\", \"2013-01-11\", \"2012-11-06\", \"2012-11-14\", \"2013-01-29\",\n",
    "            \"2012-11-19\", \"2012-11-13\", \"2013-01-23\", \"2013-01-22\", \"2013-01-08\", \"2012-11-20\", \"2013-01-15\", \"2013-01-25\",\"2012-11-21\",\n",
    "            \"2013-01-14\", \"2013-01-28\", \"2013-01-16\", \"2013-01-04\", \"2013-01-10\", \"2013-01-18\", \"2012-11-26\", \"2012-11-28\", \"2013-01-07\", \n",
    "            \"2013-01-03\", \"2013-01-21\", \"2012-11-12\", \"2013-01-02\", \"2012-11-30\", \"2013-01-12\", \"2012-11-10\", \"2012-11-17\", \"2013-01-26\",\n",
    "            \"2013-01-19\", \"2013-01-05\", \"2012-11-24\", \"2013-01-30\", \"2012-11-11\", \"2012-11-18\", \"2012-11-25\", \"2013-01-20\", \"2013-01-13\", \n",
    "            \"2013-01-06\", \"2013-01-27\", \"2013-01-01\", \"2013-01-31\",]\n",
    "\n",
    "#journeypatterns dependent upon line data therefore not defined here\n",
    "service_types = [\"weekday\",\"saturday\",\"sunday\"]\n"
   ]
  },
  {
   "cell_type": "markdown",
   "metadata": {},
   "source": [
    "##1 Static Variables"
   ]
  },
  {
   "cell_type": "code",
   "execution_count": 3,
   "metadata": {
    "collapsed": false
   },
   "outputs": [],
   "source": [
    "line = lines[1]\n",
    "date = timeframes[2]\n",
    "service_type = service_types[2]"
   ]
  },
  {
   "cell_type": "markdown",
   "metadata": {},
   "source": [
    "## Import Data For given Line"
   ]
  },
  {
   "cell_type": "code",
   "execution_count": 4,
   "metadata": {
    "collapsed": false
   },
   "outputs": [],
   "source": [
    "linedata = pd.read_csv(\"bus_data/line_data/\"+line+\".csv\")\n",
    "linedata.columns = [\"Timestamp\", \"LineID\", \"JourneyPatternID\", \"TimeFrame\", \n",
    "              \"VehicleJourneyID\", \"Lon\", \"Lat\", \"VehicleID\", \"StopID\", \n",
    "              \"AtStop\", \"HumanTime\", \"Day\", \"Hour\", \"Runtime\"]"
   ]
  },
  {
   "cell_type": "code",
   "execution_count": 5,
   "metadata": {
    "collapsed": true
   },
   "outputs": [],
   "source": [
    "linedata['HumanTime'] = pd.to_datetime(linedata['HumanTime'])"
   ]
  },
  {
   "cell_type": "markdown",
   "metadata": {},
   "source": [
    "#### number of journey pattern ids should equal number of directions + variations on each direction"
   ]
  },
  {
   "cell_type": "code",
   "execution_count": 6,
   "metadata": {
    "collapsed": false
   },
   "outputs": [],
   "source": [
    "#Monday is 0, Sunday is 6\n",
    "def get_day(x):\n",
    "    if x.weekday() == 5:\n",
    "        return \"saturday\"\n",
    "    elif x.weekday() == 6:\n",
    "        return \"sunday\"\n",
    "    else:\n",
    "        return \"weekday\"\n",
    "    \n",
    "linedata[\"day\"] = linedata['HumanTime'].apply(get_day)  "
   ]
  },
  {
   "cell_type": "code",
   "execution_count": 7,
   "metadata": {
    "collapsed": false
   },
   "outputs": [],
   "source": [
    "# #service_type defined above @ static variables\n",
    "# #df of all busses of that line with that service type\n",
    "# service = linedata.loc[linedata['day'] == service_type]\n",
    "\n",
    "# print(\"service_type JourneyPatternIDs:\"+service_type)\n",
    "# service.JourneyPatternID.value_counts()"
   ]
  },
  {
   "cell_type": "markdown",
   "metadata": {},
   "source": [
    "### Extract Trips on a Single Day as day_trips"
   ]
  },
  {
   "cell_type": "code",
   "execution_count": 8,
   "metadata": {
    "collapsed": false
   },
   "outputs": [],
   "source": [
    "#staticvariable\n",
    "# for given_day in linedata.loc[(linedata['TimeFrame'] == timeframe]\n",
    "given_day = linedata.loc[(linedata['TimeFrame'] == date)]"
   ]
  },
  {
   "cell_type": "code",
   "execution_count": 9,
   "metadata": {
    "collapsed": false
   },
   "outputs": [
    {
     "name": "stdout",
     "output_type": "stream",
     "text": [
      "total number of trips on 102 on the 2012-11-09 is:\n"
     ]
    },
    {
     "data": {
      "text/plain": [
       "61"
      ]
     },
     "execution_count": 9,
     "metadata": {},
     "output_type": "execute_result"
    }
   ],
   "source": [
    "day_trips = given_day.drop_duplicates(\"VehicleJourneyID\", keep='first', inplace=False)\n",
    "print(\"total number of trips on \"+line+\" on the \"+date+\" is:\")\n",
    "day_trips.JourneyPatternID.value_counts().sum()"
   ]
  },
  {
   "cell_type": "code",
   "execution_count": 10,
   "metadata": {
    "collapsed": false
   },
   "outputs": [
    {
     "name": "stdout",
     "output_type": "stream",
     "text": [
      "Division of pattens:\n"
     ]
    },
    {
     "data": {
      "text/plain": [
       "1001    44\n",
       "1       11\n",
       "1002     6\n",
       "Name: JourneyPatternID, dtype: int64"
      ]
     },
     "execution_count": 10,
     "metadata": {},
     "output_type": "execute_result"
    }
   ],
   "source": [
    "print(\"Division of pattens:\")\n",
    "day_trips.JourneyPatternID.value_counts()"
   ]
  },
  {
   "cell_type": "markdown",
   "metadata": {
    "collapsed": true
   },
   "source": [
    "# Does The most frequent journey pattern ID actually contain trips in both directions.?\n",
    "## Create Dataframe for 1 JourneyPattern ID\n",
    "### Intermediate Static Varaibles!!"
   ]
  },
  {
   "cell_type": "code",
   "execution_count": 11,
   "metadata": {
    "collapsed": false
   },
   "outputs": [],
   "source": [
    "journeypatterns = list(linedata.JourneyPatternID.unique())\n",
    "vehiclejourneys = day_trips['VehicleJourneyID'].unique()"
   ]
  },
  {
   "cell_type": "code",
   "execution_count": 12,
   "metadata": {
    "collapsed": false
   },
   "outputs": [],
   "source": [
    "# #journeypatterns list defined above\n",
    "# for journeypattern in journeypatterns:\n",
    "#     journey_line_data = line_data[line_data.JourneyPatternID == jp]"
   ]
  },
  {
   "cell_type": "code",
   "execution_count": 13,
   "metadata": {
    "collapsed": false
   },
   "outputs": [],
   "source": [
    "directions = {}\n",
    "\n",
    "directions = {}\n",
    "for journey in vehiclejourneys:\n",
    "    start = linedata[linedata.VehicleJourneyID == journey].iloc[0]\n",
    "    end = linedata[linedata.VehicleJourneyID == journey].iloc[-1]\n",
    "    direction = (start.Lat - end.Lat)\n",
    "    directions[journey] = 1 if (direction > 0) else 0"
   ]
  },
  {
   "cell_type": "code",
   "execution_count": 14,
   "metadata": {
    "collapsed": true
   },
   "outputs": [],
   "source": [
    "#create dataframe mapping of VehicleJourneyID and its Direction\n",
    "journeydirections_df = pd.DataFrame.from_dict(directions, orient='index')\n",
    "journeydirections_df.reset_index(inplace=True)\n",
    "journeydirections_df.columns = [\"VehicleJourneyID\",\"Southbound\"]"
   ]
  },
  {
   "cell_type": "code",
   "execution_count": 15,
   "metadata": {
    "collapsed": false
   },
   "outputs": [
    {
     "name": "stdout",
     "output_type": "stream",
     "text": [
      "DataFrames to merge are of same size: True\n"
     ]
    }
   ],
   "source": [
    "print(\"DataFrames to merge are of same size: \" + str(journeydirections_df.shape[0] == day_trips.VehicleJourneyID.nunique()))"
   ]
  },
  {
   "cell_type": "markdown",
   "metadata": {},
   "source": [
    "### merge data frames"
   ]
  },
  {
   "cell_type": "code",
   "execution_count": 16,
   "metadata": {
    "collapsed": false
   },
   "outputs": [],
   "source": [
    "merged_df = journeydirections_df.merge(day_trips)"
   ]
  },
  {
   "cell_type": "code",
   "execution_count": 17,
   "metadata": {
    "collapsed": false
   },
   "outputs": [
    {
     "data": {
      "text/plain": [
       "1001    44\n",
       "1       11\n",
       "1002     6\n",
       "Name: JourneyPatternID, dtype: int64"
      ]
     },
     "execution_count": 17,
     "metadata": {},
     "output_type": "execute_result"
    }
   ],
   "source": [
    "merged_df['JourneyPatternID'].value_counts()"
   ]
  },
  {
   "cell_type": "code",
   "execution_count": 18,
   "metadata": {
    "collapsed": false
   },
   "outputs": [
    {
     "data": {
      "text/plain": [
       "1001    20\n",
       "1        9\n",
       "1002     2\n",
       "Name: JourneyPatternID, dtype: int64"
      ]
     },
     "execution_count": 18,
     "metadata": {},
     "output_type": "execute_result"
    }
   ],
   "source": [
    "#JourneyPatternIDs of Southbound Trips\n",
    "merged_df.loc[(merged_df['Southbound'] == 1)].JourneyPatternID.value_counts()"
   ]
  },
  {
   "cell_type": "code",
   "execution_count": 19,
   "metadata": {
    "collapsed": false
   },
   "outputs": [
    {
     "data": {
      "text/plain": [
       "1001    24\n",
       "1002     4\n",
       "1        2\n",
       "Name: JourneyPatternID, dtype: int64"
      ]
     },
     "execution_count": 19,
     "metadata": {},
     "output_type": "execute_result"
    }
   ],
   "source": [
    "#JourneyPatternIDs of Northbound Trips\n",
    "merged_df.loc[(merged_df['Southbound'] == 0)].JourneyPatternID.value_counts()"
   ]
  },
  {
   "cell_type": "code",
   "execution_count": 20,
   "metadata": {
    "collapsed": false
   },
   "outputs": [],
   "source": [
    "#Number of Northbound Journeys\n",
    "num_nbound = merged_df.loc[(merged_df['Southbound'] == 0)].shape[0]"
   ]
  },
  {
   "cell_type": "code",
   "execution_count": 21,
   "metadata": {
    "collapsed": false
   },
   "outputs": [],
   "source": [
    "#Number of Southbound Journeys\n",
    "num_sbound = merged_df.loc[(merged_df['Southbound'] == 1)].shape[0]"
   ]
  },
  {
   "cell_type": "markdown",
   "metadata": {
    "collapsed": true
   },
   "source": [
    "## On a given day on a given line we can tell which journey pattern ids are in which direction"
   ]
  },
  {
   "cell_type": "markdown",
   "metadata": {},
   "source": [
    "## Import Timetable"
   ]
  },
  {
   "cell_type": "code",
   "execution_count": 22,
   "metadata": {
    "collapsed": true
   },
   "outputs": [],
   "source": [
    "timetable = pd.read_csv(\"bus_data/static_data/master_timetable.csv\")"
   ]
  },
  {
   "cell_type": "code",
   "execution_count": 23,
   "metadata": {
    "collapsed": false
   },
   "outputs": [],
   "source": [
    "#reassign columns to remove leading whitespace from variant column and name departure index\n",
    "timetable.columns = ['departure_index', 'variant', 'service', 'departure', 'direction', 'line']"
   ]
  },
  {
   "cell_type": "code",
   "execution_count": 24,
   "metadata": {
    "collapsed": false
   },
   "outputs": [],
   "source": [
    "# schedule = timetable.loc[(((timetable['line'] == line)&(timetable['direction'] == directions[0]))&(timetable['service'] == service))]\n",
    "# schedule.reset_index(inplace=True)\n",
    "\n",
    "schedule = timetable.loc[(timetable['line'] == line)&(timetable['service'] == service_type)]\n",
    "schedule.reset_index(inplace=True)"
   ]
  },
  {
   "cell_type": "code",
   "execution_count": 25,
   "metadata": {
    "collapsed": false
   },
   "outputs": [
    {
     "name": "stdout",
     "output_type": "stream",
     "text": [
      "13\n",
      "13\n",
      "number of northbound trips: 30\n",
      "number of southound trips: 31\n"
     ]
    }
   ],
   "source": [
    "print(schedule.direction.value_counts()[0])\n",
    "print(schedule.direction.value_counts()[1])\n",
    "print(\"number of northbound trips: \"+str(num_nbound))\n",
    "print(\"number of southound trips: \"+str(num_sbound))"
   ]
  },
  {
   "cell_type": "markdown",
   "metadata": {},
   "source": [
    "## Is There a Match?"
   ]
  },
  {
   "cell_type": "code",
   "execution_count": null,
   "metadata": {
    "collapsed": true
   },
   "outputs": [],
   "source": []
  }
 ],
 "metadata": {
  "kernelspec": {
   "display_name": "Python 3",
   "language": "python",
   "name": "python3"
  },
  "language_info": {
   "codemirror_mode": {
    "name": "ipython",
    "version": 3
   },
   "file_extension": ".py",
   "mimetype": "text/x-python",
   "name": "python",
   "nbconvert_exporter": "python",
   "pygments_lexer": "ipython3",
   "version": "3.6.0"
  }
 },
 "nbformat": 4,
 "nbformat_minor": 2
}
