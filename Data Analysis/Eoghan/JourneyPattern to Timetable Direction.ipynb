{
 "cells": [
  {
   "cell_type": "markdown",
   "metadata": {},
   "source": [
    "# JourneyPatternID is a combination of Variant and Direction"
   ]
  },
  {
   "cell_type": "markdown",
   "metadata": {},
   "source": [
    "## Plan\n",
    "## Merge on southbound\n",
    "\n",
    "### from routes_all(headsigns).csv derrive SOUTHBOUND (LineID,JourneyPatternID,Headsign)\n",
    "#### Step1:\n",
    "Append County to headsigns\n",
    "#### Step2:\n",
    "Derrive Southbound - for a given LineID there are two headsigns, substract the corresponding latitude for each headsign from the other.\n",
    "\n",
    "### From Timetable - Derive Southbound Column\n",
    "#### Step4:\n",
    "derive to_lat\n",
    "#### Step5:\n",
    "derive from_lat\n",
    "#### Step6:\n",
    "subtract to get southbound\n"
   ]
  },
  {
   "cell_type": "code",
   "execution_count": 2,
   "metadata": {
    "collapsed": true
   },
   "outputs": [],
   "source": [
    "import pandas as pd\n",
    "import math\n",
    "from datetime import datetime, timedelta\n",
    "\n",
    "import matplotlib.pyplot as plt\n",
    "%matplotlib inline"
   ]
  },
  {
   "cell_type": "markdown",
   "metadata": {},
   "source": [
    "### Constants"
   ]
  },
  {
   "cell_type": "code",
   "execution_count": 3,
   "metadata": {
    "collapsed": false
   },
   "outputs": [],
   "source": [
    "lines =['102', '104', '111', '114', '116', '118', '11', '120', '122', '123',\n",
    "       '130', '13', '140', '142', '145', '14', '150', '151', '15A', '15B',\n",
    "       '15', '161', '16', '17A', '17', '184', '185', '18', '1', '220',\n",
    "       '236', '238', '239', '25A', '25B', '25X', '25', '26', '270', '27A',\n",
    "       '27B', '27X', '27', '29A', '31B', '31', '32', '32X', '33A', '33B',\n",
    "       '33X', '33', '37', '38A', '38', '39A', '39', '40B', '40D', '40',\n",
    "       '41B', '41C', '41X', '41', '42', '43', '44B', '44', '45A', '46A',\n",
    "       '46E', '47', '49', '4', '51D', '51X', '53', '54A', '56A', '59',\n",
    "       '61', '63', '65B', '65', '66A', '66X', '66', '67', '68', '69X',\n",
    "       '69', '70', '747', '75', '76A', '76', '77A', '79', '79A', '7B',\n",
    "       '7D', '7', '83', '84', '84A', '84X', '8', '9']\n",
    "\n",
    "service_types = [\"weekday\",\"weekday\",\"weekday\",\"weekday\",\"weekday\",\"saturday\",\"sunday\"]\n"
   ]
  },
  {
   "cell_type": "markdown",
   "metadata": {},
   "source": [
    "# Map Timetable to SOUTHBOUND"
   ]
  },
  {
   "cell_type": "code",
   "execution_count": 54,
   "metadata": {
    "collapsed": false
   },
   "outputs": [],
   "source": [
    "#Existing Mapping\n",
    "timetable_mapping = pd.read_csv('bus_data/static_data/td_map.csv')\n",
    "timetable_mapping = timetable_mapping.drop('Unnamed: 0', 1)"
   ]
  },
  {
   "cell_type": "code",
   "execution_count": 55,
   "metadata": {
    "collapsed": false
   },
   "outputs": [
    {
     "data": {
      "text/html": [
       "<div>\n",
       "<table border=\"1\" class=\"dataframe\">\n",
       "  <thead>\n",
       "    <tr style=\"text-align: right;\">\n",
       "      <th></th>\n",
       "      <th>fullname</th>\n",
       "      <th>LineID</th>\n",
       "      <th>southbound</th>\n",
       "    </tr>\n",
       "  </thead>\n",
       "  <tbody>\n",
       "    <tr>\n",
       "      <th>0</th>\n",
       "      <td>102_saturday_From Dublin Airport Towards Sutto...</td>\n",
       "      <td>102</td>\n",
       "      <td>True</td>\n",
       "    </tr>\n",
       "    <tr>\n",
       "      <th>1</th>\n",
       "      <td>102_saturday_From Sutton Station Towards Dubli...</td>\n",
       "      <td>102</td>\n",
       "      <td>False</td>\n",
       "    </tr>\n",
       "    <tr>\n",
       "      <th>2</th>\n",
       "      <td>102_sunday_From Dublin Airport Towards Sutton ...</td>\n",
       "      <td>102</td>\n",
       "      <td>True</td>\n",
       "    </tr>\n",
       "    <tr>\n",
       "      <th>3</th>\n",
       "      <td>102_sunday_From Sutton Station Towards Dublin ...</td>\n",
       "      <td>102</td>\n",
       "      <td>False</td>\n",
       "    </tr>\n",
       "    <tr>\n",
       "      <th>4</th>\n",
       "      <td>102_weekday_From Dublin Airport Towards Sutton...</td>\n",
       "      <td>102</td>\n",
       "      <td>True</td>\n",
       "    </tr>\n",
       "  </tbody>\n",
       "</table>\n",
       "</div>"
      ],
      "text/plain": [
       "                                            fullname LineID southbound\n",
       "0  102_saturday_From Dublin Airport Towards Sutto...    102       True\n",
       "1  102_saturday_From Sutton Station Towards Dubli...    102      False\n",
       "2  102_sunday_From Dublin Airport Towards Sutton ...    102       True\n",
       "3  102_sunday_From Sutton Station Towards Dublin ...    102      False\n",
       "4  102_weekday_From Dublin Airport Towards Sutton...    102       True"
      ]
     },
     "execution_count": 55,
     "metadata": {},
     "output_type": "execute_result"
    }
   ],
   "source": [
    "timetable_mapping.head()"
   ]
  },
  {
   "cell_type": "code",
   "execution_count": 56,
   "metadata": {
    "collapsed": false
   },
   "outputs": [
    {
     "data": {
      "text/plain": [
       "array(['102', '104', '111', '114', '116', '118', '11', '120', '122', '123',\n",
       "       '130', '13', '140', '142', '145', '14', '150', '151', '15A', '15B',\n",
       "       '15', '161', '16', '17A', '17', '184', '185', '18', '1', '220',\n",
       "       '236', '238', '239', '25A', '25B', '25X', '25', '26', '270', '27A',\n",
       "       '27B', '27X', '27', '29A', '31B', '31', '32B', '32', '32A', '32X',\n",
       "       '33A', '33B', '33D', '33X', '33', '37', '38A', '38', '39A', '39',\n",
       "       '40B', '40D', '40', '41B', '41C', '41X', '41', '42', '43', '44B',\n",
       "       '44', '45A', '46A', '46E', '47', '49', '4', '51D', '51X', '53',\n",
       "       '54A', '56A', '59', '61', '63', '65B', '65', '66A', '66X', '66',\n",
       "       '67', '68', '69X', '69', '70', '747', '75', '76A', '76', '77A',\n",
       "       '79', '79A', '7B', '7D', '7', '83', '84', '84A', '84X', '8', '90',\n",
       "       '9', nan], dtype=object)"
      ]
     },
     "execution_count": 56,
     "metadata": {},
     "output_type": "execute_result"
    }
   ],
   "source": [
    "timetable_mapping.LineID.unique()"
   ]
  },
  {
   "cell_type": "code",
   "execution_count": 57,
   "metadata": {
    "collapsed": false
   },
   "outputs": [
    {
     "data": {
      "text/plain": [
       "[]"
      ]
     },
     "execution_count": 57,
     "metadata": {},
     "output_type": "execute_result"
    }
   ],
   "source": [
    "needed = []\n",
    "for i in lines:\n",
    "    if i not in timetable_mapping.LineID.unique():\n",
    "        needed.append(i)\n",
    "        \n",
    "needed"
   ]
  },
  {
   "cell_type": "code",
   "execution_count": 62,
   "metadata": {
    "collapsed": false
   },
   "outputs": [],
   "source": [
    "#to drop\n",
    "for i in timetable_mapping.LineID.unique():\n",
    "    if i not in lines:\n",
    "        print(i)"
   ]
  },
  {
   "cell_type": "code",
   "execution_count": 61,
   "metadata": {
    "collapsed": true
   },
   "outputs": [],
   "source": [
    "timetable_mapping = timetable_mapping[~timetable_mapping['LineID'].isin(['32B','32A','33D','90'])]\n",
    "timetable_mapping.dropna(axis=0, subset=['LineID'], inplace=True)"
   ]
  },
  {
   "cell_type": "code",
   "execution_count": 63,
   "metadata": {
    "collapsed": false
   },
   "outputs": [
    {
     "data": {
      "text/plain": [
       "Index(['fullname', 'LineID', 'southbound'], dtype='object')"
      ]
     },
     "execution_count": 63,
     "metadata": {},
     "output_type": "execute_result"
    }
   ],
   "source": [
    "timetable_mapping.columns"
   ]
  },
  {
   "cell_type": "code",
   "execution_count": 64,
   "metadata": {
    "collapsed": true
   },
   "outputs": [],
   "source": [
    "timetable_mapping.to_csv('timetable_mapping.csv')"
   ]
  },
  {
   "cell_type": "markdown",
   "metadata": {},
   "source": [
    "# MERGE TIMETABLES ON 'fullname' TO TIMETABLE MAPPING"
   ]
  },
  {
   "cell_type": "code",
   "execution_count": null,
   "metadata": {
    "collapsed": true
   },
   "outputs": [],
   "source": []
  },
  {
   "cell_type": "code",
   "execution_count": null,
   "metadata": {
    "collapsed": true
   },
   "outputs": [],
   "source": []
  },
  {
   "cell_type": "code",
   "execution_count": null,
   "metadata": {
    "collapsed": true
   },
   "outputs": [],
   "source": []
  },
  {
   "cell_type": "markdown",
   "metadata": {},
   "source": [
    "# MAP HEADSIGNS TO SOUTHBOUND"
   ]
  },
  {
   "cell_type": "code",
   "execution_count": 65,
   "metadata": {
    "collapsed": true
   },
   "outputs": [],
   "source": [
    "heads = pd.read_csv('bus_data/static_data/routes_all(headsigns).csv')"
   ]
  },
  {
   "cell_type": "code",
   "execution_count": 68,
   "metadata": {
    "collapsed": false
   },
   "outputs": [
    {
     "data": {
      "text/html": [
       "<div>\n",
       "<table border=\"1\" class=\"dataframe\">\n",
       "  <thead>\n",
       "    <tr style=\"text-align: right;\">\n",
       "      <th></th>\n",
       "      <th>LineID</th>\n",
       "      <th>JourneyPatternID</th>\n",
       "      <th>Headsign</th>\n",
       "      <th>Towards</th>\n",
       "    </tr>\n",
       "  </thead>\n",
       "  <tbody>\n",
       "    <tr>\n",
       "      <th>0</th>\n",
       "      <td>1</td>\n",
       "      <td>1</td>\n",
       "      <td>Strand Road</td>\n",
       "      <td>Strand Road, Dublin</td>\n",
       "    </tr>\n",
       "    <tr>\n",
       "      <th>1</th>\n",
       "      <td>1</td>\n",
       "      <td>1001</td>\n",
       "      <td>Shanard Road</td>\n",
       "      <td>Shanard Road, Dublin</td>\n",
       "    </tr>\n",
       "    <tr>\n",
       "      <th>2</th>\n",
       "      <td>102</td>\n",
       "      <td>1</td>\n",
       "      <td>Airport</td>\n",
       "      <td>Airport, Dublin</td>\n",
       "    </tr>\n",
       "    <tr>\n",
       "      <th>3</th>\n",
       "      <td>102</td>\n",
       "      <td>1001</td>\n",
       "      <td>Sutton</td>\n",
       "      <td>Sutton, Dublin</td>\n",
       "    </tr>\n",
       "    <tr>\n",
       "      <th>4</th>\n",
       "      <td>104</td>\n",
       "      <td>1</td>\n",
       "      <td>Shanard Road</td>\n",
       "      <td>Shanard Road, Dublin</td>\n",
       "    </tr>\n",
       "  </tbody>\n",
       "</table>\n",
       "</div>"
      ],
      "text/plain": [
       "  LineID  JourneyPatternID      Headsign               Towards\n",
       "0      1                 1   Strand Road   Strand Road, Dublin\n",
       "1      1              1001  Shanard Road  Shanard Road, Dublin\n",
       "2    102                 1       Airport       Airport, Dublin\n",
       "3    102              1001        Sutton        Sutton, Dublin\n",
       "4    104                 1  Shanard Road  Shanard Road, Dublin"
      ]
     },
     "execution_count": 68,
     "metadata": {},
     "output_type": "execute_result"
    }
   ],
   "source": [
    "heads.head()"
   ]
  },
  {
   "cell_type": "code",
   "execution_count": 67,
   "metadata": {
    "collapsed": false
   },
   "outputs": [],
   "source": [
    "#Monday is 0, Sunday is 6\n",
    "def append_dublin(x):\n",
    "    return x+(', Dublin')\n",
    "    \n",
    "heads['Towards'] = heads['Headsign'].apply(append_dublin)"
   ]
  },
  {
   "cell_type": "code",
   "execution_count": 20,
   "metadata": {
    "collapsed": false
   },
   "outputs": [
    {
     "ename": "SyntaxError",
     "evalue": "invalid syntax (<ipython-input-20-49049cdecb19>, line 7)",
     "output_type": "error",
     "traceback": [
      "\u001b[0;36m  File \u001b[0;32m\"<ipython-input-20-49049cdecb19>\"\u001b[0;36m, line \u001b[0;32m7\u001b[0m\n\u001b[0;31m    if heads.JourneyPatternID == 1\u001b[0m\n\u001b[0m                                  ^\u001b[0m\n\u001b[0;31mSyntaxError\u001b[0m\u001b[0;31m:\u001b[0m invalid syntax\n"
     ]
    }
   ],
   "source": [
    "# #Monday is 0, Sunday is 6\n",
    "# def get_from(x):\n",
    "#     return x+(', Dublin')\n",
    "\n",
    "# names[names.JourneyPattern==100]\n",
    "\n",
    "# if heads.JourneyPatternID == 1\n",
    "#     heads['From'] = heads.apply(get_from)"
   ]
  },
  {
   "cell_type": "code",
   "execution_count": 24,
   "metadata": {
    "collapsed": false
   },
   "outputs": [],
   "source": [
    "#Monday is 0, Sunday is 6\n",
    "def get_line(x):\n",
    "    return x.split(\"_\")[0].upper()\n",
    "    \n",
    "names['LineID'] = names['fullname'].apply(get_line)"
   ]
  },
  {
   "cell_type": "code",
   "execution_count": 25,
   "metadata": {
    "collapsed": true
   },
   "outputs": [],
   "source": [
    "#Monday is 0, Sunday is 6\n",
    "def get_direction(x):\n",
    "    return x.split(\"_\")[-1].strip('.csv')\n",
    "    \n",
    "names['direction'] = names['fullname'].apply(get_direction)"
   ]
  },
  {
   "cell_type": "code",
   "execution_count": 26,
   "metadata": {
    "collapsed": false
   },
   "outputs": [],
   "source": [
    "def remove_brackets(x):\n",
    "    return x.split(\"(\")[0]\n",
    "names['towards'] = names['towards'].apply(remove_brackets)\n",
    "names['from'] = names['from'].apply(remove_brackets)"
   ]
  },
  {
   "cell_type": "code",
   "execution_count": null,
   "metadata": {
    "collapsed": true
   },
   "outputs": [],
   "source": []
  },
  {
   "cell_type": "code",
   "execution_count": 27,
   "metadata": {
    "collapsed": true
   },
   "outputs": [],
   "source": [
    "from geopy.geocoders import Nominatim\n",
    "\n",
    "def get_lat(a):\n",
    "    geolocator = Nominatim()\n",
    "    location = Nominatim().geocode(a)\n",
    "    return(location.latitude)"
   ]
  },
  {
   "cell_type": "code",
   "execution_count": 92,
   "metadata": {
    "collapsed": false
   },
   "outputs": [
    {
     "name": "stdout",
     "output_type": "stream",
     "text": [
      "Dublin Airport, Dublin\n",
      "53.4286802\n",
      "\n",
      "Sutton Station, Dublin\n",
      "53.3905198\n",
      "\n",
      "Clontarf Rd. \n",
      "53.3629221\n",
      "\n",
      "Santry \n",
      "53.3944773\n",
      "\n",
      "Dun Laoghaire, Dublin\n"
     ]
    },
    {
     "ename": "GeocoderTimedOut",
     "evalue": "Service timed out",
     "output_type": "error",
     "traceback": [
      "\u001b[0;31m---------------------------------------------------------------------------\u001b[0m",
      "\u001b[0;31mtimeout\u001b[0m                                   Traceback (most recent call last)",
      "\u001b[0;32mC:\\Users\\eogha\\Anaconda3\\envs\\comp47350\\lib\\urllib\\request.py\u001b[0m in \u001b[0;36mdo_open\u001b[0;34m(self, http_class, req, **http_conn_args)\u001b[0m\n\u001b[1;32m   1317\u001b[0m                 h.request(req.get_method(), req.selector, req.data, headers,\n\u001b[0;32m-> 1318\u001b[0;31m                           encode_chunked=req.has_header('Transfer-encoding'))\n\u001b[0m\u001b[1;32m   1319\u001b[0m             \u001b[1;32mexcept\u001b[0m \u001b[0mOSError\u001b[0m \u001b[1;32mas\u001b[0m \u001b[0merr\u001b[0m\u001b[1;33m:\u001b[0m \u001b[1;31m# timeout error\u001b[0m\u001b[1;33m\u001b[0m\u001b[0m\n",
      "\u001b[0;32mC:\\Users\\eogha\\Anaconda3\\envs\\comp47350\\lib\\http\\client.py\u001b[0m in \u001b[0;36mrequest\u001b[0;34m(self, method, url, body, headers, encode_chunked)\u001b[0m\n\u001b[1;32m   1238\u001b[0m         \u001b[1;34m\"\"\"Send a complete request to the server.\"\"\"\u001b[0m\u001b[1;33m\u001b[0m\u001b[0m\n\u001b[0;32m-> 1239\u001b[0;31m         \u001b[0mself\u001b[0m\u001b[1;33m.\u001b[0m\u001b[0m_send_request\u001b[0m\u001b[1;33m(\u001b[0m\u001b[0mmethod\u001b[0m\u001b[1;33m,\u001b[0m \u001b[0murl\u001b[0m\u001b[1;33m,\u001b[0m \u001b[0mbody\u001b[0m\u001b[1;33m,\u001b[0m \u001b[0mheaders\u001b[0m\u001b[1;33m,\u001b[0m \u001b[0mencode_chunked\u001b[0m\u001b[1;33m)\u001b[0m\u001b[1;33m\u001b[0m\u001b[0m\n\u001b[0m\u001b[1;32m   1240\u001b[0m \u001b[1;33m\u001b[0m\u001b[0m\n",
      "\u001b[0;32mC:\\Users\\eogha\\Anaconda3\\envs\\comp47350\\lib\\http\\client.py\u001b[0m in \u001b[0;36m_send_request\u001b[0;34m(self, method, url, body, headers, encode_chunked)\u001b[0m\n\u001b[1;32m   1284\u001b[0m             \u001b[0mbody\u001b[0m \u001b[1;33m=\u001b[0m \u001b[0m_encode\u001b[0m\u001b[1;33m(\u001b[0m\u001b[0mbody\u001b[0m\u001b[1;33m,\u001b[0m \u001b[1;34m'body'\u001b[0m\u001b[1;33m)\u001b[0m\u001b[1;33m\u001b[0m\u001b[0m\n\u001b[0;32m-> 1285\u001b[0;31m         \u001b[0mself\u001b[0m\u001b[1;33m.\u001b[0m\u001b[0mendheaders\u001b[0m\u001b[1;33m(\u001b[0m\u001b[0mbody\u001b[0m\u001b[1;33m,\u001b[0m \u001b[0mencode_chunked\u001b[0m\u001b[1;33m=\u001b[0m\u001b[0mencode_chunked\u001b[0m\u001b[1;33m)\u001b[0m\u001b[1;33m\u001b[0m\u001b[0m\n\u001b[0m\u001b[1;32m   1286\u001b[0m \u001b[1;33m\u001b[0m\u001b[0m\n",
      "\u001b[0;32mC:\\Users\\eogha\\Anaconda3\\envs\\comp47350\\lib\\http\\client.py\u001b[0m in \u001b[0;36mendheaders\u001b[0;34m(self, message_body, encode_chunked)\u001b[0m\n\u001b[1;32m   1233\u001b[0m             \u001b[1;32mraise\u001b[0m \u001b[0mCannotSendHeader\u001b[0m\u001b[1;33m(\u001b[0m\u001b[1;33m)\u001b[0m\u001b[1;33m\u001b[0m\u001b[0m\n\u001b[0;32m-> 1234\u001b[0;31m         \u001b[0mself\u001b[0m\u001b[1;33m.\u001b[0m\u001b[0m_send_output\u001b[0m\u001b[1;33m(\u001b[0m\u001b[0mmessage_body\u001b[0m\u001b[1;33m,\u001b[0m \u001b[0mencode_chunked\u001b[0m\u001b[1;33m=\u001b[0m\u001b[0mencode_chunked\u001b[0m\u001b[1;33m)\u001b[0m\u001b[1;33m\u001b[0m\u001b[0m\n\u001b[0m\u001b[1;32m   1235\u001b[0m \u001b[1;33m\u001b[0m\u001b[0m\n",
      "\u001b[0;32mC:\\Users\\eogha\\Anaconda3\\envs\\comp47350\\lib\\http\\client.py\u001b[0m in \u001b[0;36m_send_output\u001b[0;34m(self, message_body, encode_chunked)\u001b[0m\n\u001b[1;32m   1025\u001b[0m         \u001b[1;32mdel\u001b[0m \u001b[0mself\u001b[0m\u001b[1;33m.\u001b[0m\u001b[0m_buffer\u001b[0m\u001b[1;33m[\u001b[0m\u001b[1;33m:\u001b[0m\u001b[1;33m]\u001b[0m\u001b[1;33m\u001b[0m\u001b[0m\n\u001b[0;32m-> 1026\u001b[0;31m         \u001b[0mself\u001b[0m\u001b[1;33m.\u001b[0m\u001b[0msend\u001b[0m\u001b[1;33m(\u001b[0m\u001b[0mmsg\u001b[0m\u001b[1;33m)\u001b[0m\u001b[1;33m\u001b[0m\u001b[0m\n\u001b[0m\u001b[1;32m   1027\u001b[0m \u001b[1;33m\u001b[0m\u001b[0m\n",
      "\u001b[0;32mC:\\Users\\eogha\\Anaconda3\\envs\\comp47350\\lib\\http\\client.py\u001b[0m in \u001b[0;36msend\u001b[0;34m(self, data)\u001b[0m\n\u001b[1;32m    963\u001b[0m             \u001b[1;32mif\u001b[0m \u001b[0mself\u001b[0m\u001b[1;33m.\u001b[0m\u001b[0mauto_open\u001b[0m\u001b[1;33m:\u001b[0m\u001b[1;33m\u001b[0m\u001b[0m\n\u001b[0;32m--> 964\u001b[0;31m                 \u001b[0mself\u001b[0m\u001b[1;33m.\u001b[0m\u001b[0mconnect\u001b[0m\u001b[1;33m(\u001b[0m\u001b[1;33m)\u001b[0m\u001b[1;33m\u001b[0m\u001b[0m\n\u001b[0m\u001b[1;32m    965\u001b[0m             \u001b[1;32melse\u001b[0m\u001b[1;33m:\u001b[0m\u001b[1;33m\u001b[0m\u001b[0m\n",
      "\u001b[0;32mC:\\Users\\eogha\\Anaconda3\\envs\\comp47350\\lib\\http\\client.py\u001b[0m in \u001b[0;36mconnect\u001b[0;34m(self)\u001b[0m\n\u001b[1;32m   1391\u001b[0m \u001b[1;33m\u001b[0m\u001b[0m\n\u001b[0;32m-> 1392\u001b[0;31m             \u001b[0msuper\u001b[0m\u001b[1;33m(\u001b[0m\u001b[1;33m)\u001b[0m\u001b[1;33m.\u001b[0m\u001b[0mconnect\u001b[0m\u001b[1;33m(\u001b[0m\u001b[1;33m)\u001b[0m\u001b[1;33m\u001b[0m\u001b[0m\n\u001b[0m\u001b[1;32m   1393\u001b[0m \u001b[1;33m\u001b[0m\u001b[0m\n",
      "\u001b[0;32mC:\\Users\\eogha\\Anaconda3\\envs\\comp47350\\lib\\http\\client.py\u001b[0m in \u001b[0;36mconnect\u001b[0;34m(self)\u001b[0m\n\u001b[1;32m    935\u001b[0m         self.sock = self._create_connection(\n\u001b[0;32m--> 936\u001b[0;31m             (self.host,self.port), self.timeout, self.source_address)\n\u001b[0m\u001b[1;32m    937\u001b[0m         \u001b[0mself\u001b[0m\u001b[1;33m.\u001b[0m\u001b[0msock\u001b[0m\u001b[1;33m.\u001b[0m\u001b[0msetsockopt\u001b[0m\u001b[1;33m(\u001b[0m\u001b[0msocket\u001b[0m\u001b[1;33m.\u001b[0m\u001b[0mIPPROTO_TCP\u001b[0m\u001b[1;33m,\u001b[0m \u001b[0msocket\u001b[0m\u001b[1;33m.\u001b[0m\u001b[0mTCP_NODELAY\u001b[0m\u001b[1;33m,\u001b[0m \u001b[1;36m1\u001b[0m\u001b[1;33m)\u001b[0m\u001b[1;33m\u001b[0m\u001b[0m\n",
      "\u001b[0;32mC:\\Users\\eogha\\Anaconda3\\envs\\comp47350\\lib\\socket.py\u001b[0m in \u001b[0;36mcreate_connection\u001b[0;34m(address, timeout, source_address)\u001b[0m\n\u001b[1;32m    721\u001b[0m     \u001b[1;32mif\u001b[0m \u001b[0merr\u001b[0m \u001b[1;32mis\u001b[0m \u001b[1;32mnot\u001b[0m \u001b[1;32mNone\u001b[0m\u001b[1;33m:\u001b[0m\u001b[1;33m\u001b[0m\u001b[0m\n\u001b[0;32m--> 722\u001b[0;31m         \u001b[1;32mraise\u001b[0m \u001b[0merr\u001b[0m\u001b[1;33m\u001b[0m\u001b[0m\n\u001b[0m\u001b[1;32m    723\u001b[0m     \u001b[1;32melse\u001b[0m\u001b[1;33m:\u001b[0m\u001b[1;33m\u001b[0m\u001b[0m\n",
      "\u001b[0;32mC:\\Users\\eogha\\Anaconda3\\envs\\comp47350\\lib\\socket.py\u001b[0m in \u001b[0;36mcreate_connection\u001b[0;34m(address, timeout, source_address)\u001b[0m\n\u001b[1;32m    712\u001b[0m                 \u001b[0msock\u001b[0m\u001b[1;33m.\u001b[0m\u001b[0mbind\u001b[0m\u001b[1;33m(\u001b[0m\u001b[0msource_address\u001b[0m\u001b[1;33m)\u001b[0m\u001b[1;33m\u001b[0m\u001b[0m\n\u001b[0;32m--> 713\u001b[0;31m             \u001b[0msock\u001b[0m\u001b[1;33m.\u001b[0m\u001b[0mconnect\u001b[0m\u001b[1;33m(\u001b[0m\u001b[0msa\u001b[0m\u001b[1;33m)\u001b[0m\u001b[1;33m\u001b[0m\u001b[0m\n\u001b[0m\u001b[1;32m    714\u001b[0m             \u001b[1;32mreturn\u001b[0m \u001b[0msock\u001b[0m\u001b[1;33m\u001b[0m\u001b[0m\n",
      "\u001b[0;31mtimeout\u001b[0m: timed out",
      "\nDuring handling of the above exception, another exception occurred:\n",
      "\u001b[0;31mURLError\u001b[0m                                  Traceback (most recent call last)",
      "\u001b[0;32mC:\\Users\\eogha\\Anaconda3\\envs\\comp47350\\lib\\site-packages\\geopy\\geocoders\\base.py\u001b[0m in \u001b[0;36m_call_geocoder\u001b[0;34m(self, url, timeout, raw, requester, deserializer, **kwargs)\u001b[0m\n\u001b[1;32m    142\u001b[0m         \u001b[1;32mtry\u001b[0m\u001b[1;33m:\u001b[0m\u001b[1;33m\u001b[0m\u001b[0m\n\u001b[0;32m--> 143\u001b[0;31m             \u001b[0mpage\u001b[0m \u001b[1;33m=\u001b[0m \u001b[0mrequester\u001b[0m\u001b[1;33m(\u001b[0m\u001b[0mreq\u001b[0m\u001b[1;33m,\u001b[0m \u001b[0mtimeout\u001b[0m\u001b[1;33m=\u001b[0m\u001b[1;33m(\u001b[0m\u001b[0mtimeout\u001b[0m \u001b[1;32mor\u001b[0m \u001b[0mself\u001b[0m\u001b[1;33m.\u001b[0m\u001b[0mtimeout\u001b[0m\u001b[1;33m)\u001b[0m\u001b[1;33m,\u001b[0m \u001b[1;33m**\u001b[0m\u001b[0mkwargs\u001b[0m\u001b[1;33m)\u001b[0m\u001b[1;33m\u001b[0m\u001b[0m\n\u001b[0m\u001b[1;32m    144\u001b[0m         \u001b[1;32mexcept\u001b[0m \u001b[0mException\u001b[0m \u001b[1;32mas\u001b[0m \u001b[0merror\u001b[0m\u001b[1;33m:\u001b[0m \u001b[1;31m# pylint: disable=W0703\u001b[0m\u001b[1;33m\u001b[0m\u001b[0m\n",
      "\u001b[0;32mC:\\Users\\eogha\\Anaconda3\\envs\\comp47350\\lib\\urllib\\request.py\u001b[0m in \u001b[0;36murlopen\u001b[0;34m(url, data, timeout, cafile, capath, cadefault, context)\u001b[0m\n\u001b[1;32m    222\u001b[0m         \u001b[0mopener\u001b[0m \u001b[1;33m=\u001b[0m \u001b[0m_opener\u001b[0m\u001b[1;33m\u001b[0m\u001b[0m\n\u001b[0;32m--> 223\u001b[0;31m     \u001b[1;32mreturn\u001b[0m \u001b[0mopener\u001b[0m\u001b[1;33m.\u001b[0m\u001b[0mopen\u001b[0m\u001b[1;33m(\u001b[0m\u001b[0murl\u001b[0m\u001b[1;33m,\u001b[0m \u001b[0mdata\u001b[0m\u001b[1;33m,\u001b[0m \u001b[0mtimeout\u001b[0m\u001b[1;33m)\u001b[0m\u001b[1;33m\u001b[0m\u001b[0m\n\u001b[0m\u001b[1;32m    224\u001b[0m \u001b[1;33m\u001b[0m\u001b[0m\n",
      "\u001b[0;32mC:\\Users\\eogha\\Anaconda3\\envs\\comp47350\\lib\\urllib\\request.py\u001b[0m in \u001b[0;36mopen\u001b[0;34m(self, fullurl, data, timeout)\u001b[0m\n\u001b[1;32m    525\u001b[0m \u001b[1;33m\u001b[0m\u001b[0m\n\u001b[0;32m--> 526\u001b[0;31m         \u001b[0mresponse\u001b[0m \u001b[1;33m=\u001b[0m \u001b[0mself\u001b[0m\u001b[1;33m.\u001b[0m\u001b[0m_open\u001b[0m\u001b[1;33m(\u001b[0m\u001b[0mreq\u001b[0m\u001b[1;33m,\u001b[0m \u001b[0mdata\u001b[0m\u001b[1;33m)\u001b[0m\u001b[1;33m\u001b[0m\u001b[0m\n\u001b[0m\u001b[1;32m    527\u001b[0m \u001b[1;33m\u001b[0m\u001b[0m\n",
      "\u001b[0;32mC:\\Users\\eogha\\Anaconda3\\envs\\comp47350\\lib\\urllib\\request.py\u001b[0m in \u001b[0;36m_open\u001b[0;34m(self, req, data)\u001b[0m\n\u001b[1;32m    543\u001b[0m         result = self._call_chain(self.handle_open, protocol, protocol +\n\u001b[0;32m--> 544\u001b[0;31m                                   '_open', req)\n\u001b[0m\u001b[1;32m    545\u001b[0m         \u001b[1;32mif\u001b[0m \u001b[0mresult\u001b[0m\u001b[1;33m:\u001b[0m\u001b[1;33m\u001b[0m\u001b[0m\n",
      "\u001b[0;32mC:\\Users\\eogha\\Anaconda3\\envs\\comp47350\\lib\\urllib\\request.py\u001b[0m in \u001b[0;36m_call_chain\u001b[0;34m(self, chain, kind, meth_name, *args)\u001b[0m\n\u001b[1;32m    503\u001b[0m             \u001b[0mfunc\u001b[0m \u001b[1;33m=\u001b[0m \u001b[0mgetattr\u001b[0m\u001b[1;33m(\u001b[0m\u001b[0mhandler\u001b[0m\u001b[1;33m,\u001b[0m \u001b[0mmeth_name\u001b[0m\u001b[1;33m)\u001b[0m\u001b[1;33m\u001b[0m\u001b[0m\n\u001b[0;32m--> 504\u001b[0;31m             \u001b[0mresult\u001b[0m \u001b[1;33m=\u001b[0m \u001b[0mfunc\u001b[0m\u001b[1;33m(\u001b[0m\u001b[1;33m*\u001b[0m\u001b[0margs\u001b[0m\u001b[1;33m)\u001b[0m\u001b[1;33m\u001b[0m\u001b[0m\n\u001b[0m\u001b[1;32m    505\u001b[0m             \u001b[1;32mif\u001b[0m \u001b[0mresult\u001b[0m \u001b[1;32mis\u001b[0m \u001b[1;32mnot\u001b[0m \u001b[1;32mNone\u001b[0m\u001b[1;33m:\u001b[0m\u001b[1;33m\u001b[0m\u001b[0m\n",
      "\u001b[0;32mC:\\Users\\eogha\\Anaconda3\\envs\\comp47350\\lib\\urllib\\request.py\u001b[0m in \u001b[0;36mhttps_open\u001b[0;34m(self, req)\u001b[0m\n\u001b[1;32m   1360\u001b[0m             return self.do_open(http.client.HTTPSConnection, req,\n\u001b[0;32m-> 1361\u001b[0;31m                 context=self._context, check_hostname=self._check_hostname)\n\u001b[0m\u001b[1;32m   1362\u001b[0m \u001b[1;33m\u001b[0m\u001b[0m\n",
      "\u001b[0;32mC:\\Users\\eogha\\Anaconda3\\envs\\comp47350\\lib\\urllib\\request.py\u001b[0m in \u001b[0;36mdo_open\u001b[0;34m(self, http_class, req, **http_conn_args)\u001b[0m\n\u001b[1;32m   1319\u001b[0m             \u001b[1;32mexcept\u001b[0m \u001b[0mOSError\u001b[0m \u001b[1;32mas\u001b[0m \u001b[0merr\u001b[0m\u001b[1;33m:\u001b[0m \u001b[1;31m# timeout error\u001b[0m\u001b[1;33m\u001b[0m\u001b[0m\n\u001b[0;32m-> 1320\u001b[0;31m                 \u001b[1;32mraise\u001b[0m \u001b[0mURLError\u001b[0m\u001b[1;33m(\u001b[0m\u001b[0merr\u001b[0m\u001b[1;33m)\u001b[0m\u001b[1;33m\u001b[0m\u001b[0m\n\u001b[0m\u001b[1;32m   1321\u001b[0m             \u001b[0mr\u001b[0m \u001b[1;33m=\u001b[0m \u001b[0mh\u001b[0m\u001b[1;33m.\u001b[0m\u001b[0mgetresponse\u001b[0m\u001b[1;33m(\u001b[0m\u001b[1;33m)\u001b[0m\u001b[1;33m\u001b[0m\u001b[0m\n",
      "\u001b[0;31mURLError\u001b[0m: <urlopen error timed out>",
      "\nDuring handling of the above exception, another exception occurred:\n",
      "\u001b[0;31mGeocoderTimedOut\u001b[0m                          Traceback (most recent call last)",
      "\u001b[0;32m<ipython-input-92-af2211429ff3>\u001b[0m in \u001b[0;36m<module>\u001b[0;34m()\u001b[0m\n\u001b[1;32m      2\u001b[0m     \u001b[0mg\u001b[0m \u001b[1;33m=\u001b[0m \u001b[0mnames\u001b[0m\u001b[1;33m[\u001b[0m\u001b[1;34m'from'\u001b[0m\u001b[1;33m]\u001b[0m\u001b[1;33m.\u001b[0m\u001b[0mvalues\u001b[0m\u001b[1;33m[\u001b[0m\u001b[0mi\u001b[0m\u001b[1;33m]\u001b[0m\u001b[1;33m\u001b[0m\u001b[0m\n\u001b[1;32m      3\u001b[0m     \u001b[0mprint\u001b[0m\u001b[1;33m(\u001b[0m\u001b[0mg\u001b[0m\u001b[1;33m)\u001b[0m\u001b[1;33m\u001b[0m\u001b[0m\n\u001b[0;32m----> 4\u001b[0;31m     \u001b[0mprint\u001b[0m\u001b[1;33m(\u001b[0m\u001b[0mget_lat\u001b[0m\u001b[1;33m(\u001b[0m\u001b[0mg\u001b[0m\u001b[1;33m)\u001b[0m\u001b[1;33m)\u001b[0m\u001b[1;33m\u001b[0m\u001b[0m\n\u001b[0m\u001b[1;32m      5\u001b[0m     \u001b[0mprint\u001b[0m\u001b[1;33m(\u001b[0m\u001b[1;33m)\u001b[0m\u001b[1;33m\u001b[0m\u001b[0m\n",
      "\u001b[0;32m<ipython-input-91-4380a82dc048>\u001b[0m in \u001b[0;36mget_lat\u001b[0;34m(a)\u001b[0m\n\u001b[1;32m      3\u001b[0m \u001b[1;32mdef\u001b[0m \u001b[0mget_lat\u001b[0m\u001b[1;33m(\u001b[0m\u001b[0ma\u001b[0m\u001b[1;33m)\u001b[0m\u001b[1;33m:\u001b[0m\u001b[1;33m\u001b[0m\u001b[0m\n\u001b[1;32m      4\u001b[0m     \u001b[0mgeolocator\u001b[0m \u001b[1;33m=\u001b[0m \u001b[0mNominatim\u001b[0m\u001b[1;33m(\u001b[0m\u001b[1;33m)\u001b[0m\u001b[1;33m\u001b[0m\u001b[0m\n\u001b[0;32m----> 5\u001b[0;31m     \u001b[0mlocation\u001b[0m \u001b[1;33m=\u001b[0m \u001b[0mNominatim\u001b[0m\u001b[1;33m(\u001b[0m\u001b[1;33m)\u001b[0m\u001b[1;33m.\u001b[0m\u001b[0mgeocode\u001b[0m\u001b[1;33m(\u001b[0m\u001b[0ma\u001b[0m\u001b[1;33m)\u001b[0m\u001b[1;33m\u001b[0m\u001b[0m\n\u001b[0m\u001b[1;32m      6\u001b[0m     \u001b[1;32mreturn\u001b[0m\u001b[1;33m(\u001b[0m\u001b[0mlocation\u001b[0m\u001b[1;33m.\u001b[0m\u001b[0mlatitude\u001b[0m\u001b[1;33m)\u001b[0m\u001b[1;33m\u001b[0m\u001b[0m\n",
      "\u001b[0;32mC:\\Users\\eogha\\Anaconda3\\envs\\comp47350\\lib\\site-packages\\geopy\\geocoders\\osm.py\u001b[0m in \u001b[0;36mgeocode\u001b[0;34m(self, query, exactly_one, timeout, addressdetails, language, geometry)\u001b[0m\n\u001b[1;32m    191\u001b[0m         \u001b[0mlogger\u001b[0m\u001b[1;33m.\u001b[0m\u001b[0mdebug\u001b[0m\u001b[1;33m(\u001b[0m\u001b[1;34m\"%s.geocode: %s\"\u001b[0m\u001b[1;33m,\u001b[0m \u001b[0mself\u001b[0m\u001b[1;33m.\u001b[0m\u001b[0m__class__\u001b[0m\u001b[1;33m.\u001b[0m\u001b[0m__name__\u001b[0m\u001b[1;33m,\u001b[0m \u001b[0murl\u001b[0m\u001b[1;33m)\u001b[0m\u001b[1;33m\u001b[0m\u001b[0m\n\u001b[1;32m    192\u001b[0m         return self._parse_json(\n\u001b[0;32m--> 193\u001b[0;31m             \u001b[0mself\u001b[0m\u001b[1;33m.\u001b[0m\u001b[0m_call_geocoder\u001b[0m\u001b[1;33m(\u001b[0m\u001b[0murl\u001b[0m\u001b[1;33m,\u001b[0m \u001b[0mtimeout\u001b[0m\u001b[1;33m=\u001b[0m\u001b[0mtimeout\u001b[0m\u001b[1;33m)\u001b[0m\u001b[1;33m,\u001b[0m \u001b[0mexactly_one\u001b[0m\u001b[1;33m\u001b[0m\u001b[0m\n\u001b[0m\u001b[1;32m    194\u001b[0m         )\n\u001b[1;32m    195\u001b[0m \u001b[1;33m\u001b[0m\u001b[0m\n",
      "\u001b[0;32mC:\\Users\\eogha\\Anaconda3\\envs\\comp47350\\lib\\site-packages\\geopy\\geocoders\\base.py\u001b[0m in \u001b[0;36m_call_geocoder\u001b[0;34m(self, url, timeout, raw, requester, deserializer, **kwargs)\u001b[0m\n\u001b[1;32m    161\u001b[0m             \u001b[1;32melif\u001b[0m \u001b[0misinstance\u001b[0m\u001b[1;33m(\u001b[0m\u001b[0merror\u001b[0m\u001b[1;33m,\u001b[0m \u001b[0mURLError\u001b[0m\u001b[1;33m)\u001b[0m\u001b[1;33m:\u001b[0m\u001b[1;33m\u001b[0m\u001b[0m\n\u001b[1;32m    162\u001b[0m                 \u001b[1;32mif\u001b[0m \u001b[1;34m\"timed out\"\u001b[0m \u001b[1;32min\u001b[0m \u001b[0mmessage\u001b[0m\u001b[1;33m:\u001b[0m\u001b[1;33m\u001b[0m\u001b[0m\n\u001b[0;32m--> 163\u001b[0;31m                     \u001b[1;32mraise\u001b[0m \u001b[0mGeocoderTimedOut\u001b[0m\u001b[1;33m(\u001b[0m\u001b[1;34m'Service timed out'\u001b[0m\u001b[1;33m)\u001b[0m\u001b[1;33m\u001b[0m\u001b[0m\n\u001b[0m\u001b[1;32m    164\u001b[0m                 \u001b[1;32melif\u001b[0m \u001b[1;34m\"unreachable\"\u001b[0m \u001b[1;32min\u001b[0m \u001b[0mmessage\u001b[0m\u001b[1;33m:\u001b[0m\u001b[1;33m\u001b[0m\u001b[0m\n\u001b[1;32m    165\u001b[0m                     \u001b[1;32mraise\u001b[0m \u001b[0mGeocoderUnavailable\u001b[0m\u001b[1;33m(\u001b[0m\u001b[1;34m'Service not available'\u001b[0m\u001b[1;33m)\u001b[0m\u001b[1;33m\u001b[0m\u001b[0m\n",
      "\u001b[0;31mGeocoderTimedOut\u001b[0m: Service timed out"
     ]
    }
   ],
   "source": [
    "for i in range(len(names['from'].values)):\n",
    "    g = names['from'].values[i]\n",
    "    print(g)\n",
    "    print(get_lat(g))\n",
    "    print()"
   ]
  },
  {
   "cell_type": "code",
   "execution_count": 74,
   "metadata": {
    "collapsed": false
   },
   "outputs": [
    {
     "ename": "AttributeError",
     "evalue": "'NoneType' object has no attribute 'latitude'",
     "output_type": "error",
     "traceback": [
      "\u001b[0;31m---------------------------------------------------------------------------\u001b[0m",
      "\u001b[0;31mAttributeError\u001b[0m                            Traceback (most recent call last)",
      "\u001b[0;32m<ipython-input-74-7d88b1788689>\u001b[0m in \u001b[0;36m<module>\u001b[0;34m()\u001b[0m\n\u001b[0;32m----> 1\u001b[0;31m \u001b[0mnames\u001b[0m\u001b[1;33m[\u001b[0m\u001b[1;34m'from_lat'\u001b[0m\u001b[1;33m]\u001b[0m \u001b[1;33m=\u001b[0m \u001b[0mnames\u001b[0m\u001b[1;33m[\u001b[0m\u001b[1;34m'from'\u001b[0m\u001b[1;33m]\u001b[0m\u001b[1;33m.\u001b[0m\u001b[0mapply\u001b[0m\u001b[1;33m(\u001b[0m\u001b[0mget_lat\u001b[0m\u001b[1;33m)\u001b[0m\u001b[1;33m\u001b[0m\u001b[0m\n\u001b[0m",
      "\u001b[0;32mC:\\Users\\eogha\\Anaconda3\\envs\\comp47350\\lib\\site-packages\\pandas\\core\\series.py\u001b[0m in \u001b[0;36mapply\u001b[0;34m(self, func, convert_dtype, args, **kwds)\u001b[0m\n\u001b[1;32m   2292\u001b[0m             \u001b[1;32melse\u001b[0m\u001b[1;33m:\u001b[0m\u001b[1;33m\u001b[0m\u001b[0m\n\u001b[1;32m   2293\u001b[0m                 \u001b[0mvalues\u001b[0m \u001b[1;33m=\u001b[0m \u001b[0mself\u001b[0m\u001b[1;33m.\u001b[0m\u001b[0masobject\u001b[0m\u001b[1;33m\u001b[0m\u001b[0m\n\u001b[0;32m-> 2294\u001b[0;31m                 \u001b[0mmapped\u001b[0m \u001b[1;33m=\u001b[0m \u001b[0mlib\u001b[0m\u001b[1;33m.\u001b[0m\u001b[0mmap_infer\u001b[0m\u001b[1;33m(\u001b[0m\u001b[0mvalues\u001b[0m\u001b[1;33m,\u001b[0m \u001b[0mf\u001b[0m\u001b[1;33m,\u001b[0m \u001b[0mconvert\u001b[0m\u001b[1;33m=\u001b[0m\u001b[0mconvert_dtype\u001b[0m\u001b[1;33m)\u001b[0m\u001b[1;33m\u001b[0m\u001b[0m\n\u001b[0m\u001b[1;32m   2295\u001b[0m \u001b[1;33m\u001b[0m\u001b[0m\n\u001b[1;32m   2296\u001b[0m         \u001b[1;32mif\u001b[0m \u001b[0mlen\u001b[0m\u001b[1;33m(\u001b[0m\u001b[0mmapped\u001b[0m\u001b[1;33m)\u001b[0m \u001b[1;32mand\u001b[0m \u001b[0misinstance\u001b[0m\u001b[1;33m(\u001b[0m\u001b[0mmapped\u001b[0m\u001b[1;33m[\u001b[0m\u001b[1;36m0\u001b[0m\u001b[1;33m]\u001b[0m\u001b[1;33m,\u001b[0m \u001b[0mSeries\u001b[0m\u001b[1;33m)\u001b[0m\u001b[1;33m:\u001b[0m\u001b[1;33m\u001b[0m\u001b[0m\n",
      "\u001b[0;32mpandas\\src\\inference.pyx\u001b[0m in \u001b[0;36mpandas.lib.map_infer (pandas\\lib.c:66124)\u001b[0;34m()\u001b[0m\n",
      "\u001b[0;32m<ipython-input-73-4380a82dc048>\u001b[0m in \u001b[0;36mget_lat\u001b[0;34m(a)\u001b[0m\n\u001b[1;32m      4\u001b[0m     \u001b[0mgeolocator\u001b[0m \u001b[1;33m=\u001b[0m \u001b[0mNominatim\u001b[0m\u001b[1;33m(\u001b[0m\u001b[1;33m)\u001b[0m\u001b[1;33m\u001b[0m\u001b[0m\n\u001b[1;32m      5\u001b[0m     \u001b[0mlocation\u001b[0m \u001b[1;33m=\u001b[0m \u001b[0mNominatim\u001b[0m\u001b[1;33m(\u001b[0m\u001b[1;33m)\u001b[0m\u001b[1;33m.\u001b[0m\u001b[0mgeocode\u001b[0m\u001b[1;33m(\u001b[0m\u001b[0ma\u001b[0m\u001b[1;33m)\u001b[0m\u001b[1;33m\u001b[0m\u001b[0m\n\u001b[0;32m----> 6\u001b[0;31m     \u001b[1;32mreturn\u001b[0m\u001b[1;33m(\u001b[0m\u001b[0mlocation\u001b[0m\u001b[1;33m.\u001b[0m\u001b[0mlatitude\u001b[0m\u001b[1;33m)\u001b[0m\u001b[1;33m\u001b[0m\u001b[0m\n\u001b[0m",
      "\u001b[0;31mAttributeError\u001b[0m: 'NoneType' object has no attribute 'latitude'"
     ]
    }
   ],
   "source": [
    "names['from_lat'] = names['from'].apply(get_lat)"
   ]
  },
  {
   "cell_type": "code",
   "execution_count": 65,
   "metadata": {
    "collapsed": false
   },
   "outputs": [
    {
     "ename": "AttributeError",
     "evalue": "'NoneType' object has no attribute 'latitude'",
     "output_type": "error",
     "traceback": [
      "\u001b[0;31m---------------------------------------------------------------------------\u001b[0m",
      "\u001b[0;31mAttributeError\u001b[0m                            Traceback (most recent call last)",
      "\u001b[0;32m<ipython-input-65-26f20ed76710>\u001b[0m in \u001b[0;36m<module>\u001b[0;34m()\u001b[0m\n\u001b[0;32m----> 1\u001b[0;31m \u001b[0mnames\u001b[0m\u001b[1;33m[\u001b[0m\u001b[1;34m'to_lat'\u001b[0m\u001b[1;33m]\u001b[0m \u001b[1;33m=\u001b[0m \u001b[0mnames\u001b[0m\u001b[1;33m[\u001b[0m\u001b[1;34m'towards'\u001b[0m\u001b[1;33m]\u001b[0m\u001b[1;33m.\u001b[0m\u001b[0mapply\u001b[0m\u001b[1;33m(\u001b[0m\u001b[0mget_lat\u001b[0m\u001b[1;33m)\u001b[0m\u001b[1;33m\u001b[0m\u001b[0m\n\u001b[0m",
      "\u001b[0;32mC:\\Users\\eogha\\Anaconda3\\envs\\comp47350\\lib\\site-packages\\pandas\\core\\series.py\u001b[0m in \u001b[0;36mapply\u001b[0;34m(self, func, convert_dtype, args, **kwds)\u001b[0m\n\u001b[1;32m   2292\u001b[0m             \u001b[1;32melse\u001b[0m\u001b[1;33m:\u001b[0m\u001b[1;33m\u001b[0m\u001b[0m\n\u001b[1;32m   2293\u001b[0m                 \u001b[0mvalues\u001b[0m \u001b[1;33m=\u001b[0m \u001b[0mself\u001b[0m\u001b[1;33m.\u001b[0m\u001b[0masobject\u001b[0m\u001b[1;33m\u001b[0m\u001b[0m\n\u001b[0;32m-> 2294\u001b[0;31m                 \u001b[0mmapped\u001b[0m \u001b[1;33m=\u001b[0m \u001b[0mlib\u001b[0m\u001b[1;33m.\u001b[0m\u001b[0mmap_infer\u001b[0m\u001b[1;33m(\u001b[0m\u001b[0mvalues\u001b[0m\u001b[1;33m,\u001b[0m \u001b[0mf\u001b[0m\u001b[1;33m,\u001b[0m \u001b[0mconvert\u001b[0m\u001b[1;33m=\u001b[0m\u001b[0mconvert_dtype\u001b[0m\u001b[1;33m)\u001b[0m\u001b[1;33m\u001b[0m\u001b[0m\n\u001b[0m\u001b[1;32m   2295\u001b[0m \u001b[1;33m\u001b[0m\u001b[0m\n\u001b[1;32m   2296\u001b[0m         \u001b[1;32mif\u001b[0m \u001b[0mlen\u001b[0m\u001b[1;33m(\u001b[0m\u001b[0mmapped\u001b[0m\u001b[1;33m)\u001b[0m \u001b[1;32mand\u001b[0m \u001b[0misinstance\u001b[0m\u001b[1;33m(\u001b[0m\u001b[0mmapped\u001b[0m\u001b[1;33m[\u001b[0m\u001b[1;36m0\u001b[0m\u001b[1;33m]\u001b[0m\u001b[1;33m,\u001b[0m \u001b[0mSeries\u001b[0m\u001b[1;33m)\u001b[0m\u001b[1;33m:\u001b[0m\u001b[1;33m\u001b[0m\u001b[0m\n",
      "\u001b[0;32mpandas\\src\\inference.pyx\u001b[0m in \u001b[0;36mpandas.lib.map_infer (pandas\\lib.c:66124)\u001b[0;34m()\u001b[0m\n",
      "\u001b[0;32m<ipython-input-63-4380a82dc048>\u001b[0m in \u001b[0;36mget_lat\u001b[0;34m(a)\u001b[0m\n\u001b[1;32m      4\u001b[0m     \u001b[0mgeolocator\u001b[0m \u001b[1;33m=\u001b[0m \u001b[0mNominatim\u001b[0m\u001b[1;33m(\u001b[0m\u001b[1;33m)\u001b[0m\u001b[1;33m\u001b[0m\u001b[0m\n\u001b[1;32m      5\u001b[0m     \u001b[0mlocation\u001b[0m \u001b[1;33m=\u001b[0m \u001b[0mNominatim\u001b[0m\u001b[1;33m(\u001b[0m\u001b[1;33m)\u001b[0m\u001b[1;33m.\u001b[0m\u001b[0mgeocode\u001b[0m\u001b[1;33m(\u001b[0m\u001b[0ma\u001b[0m\u001b[1;33m)\u001b[0m\u001b[1;33m\u001b[0m\u001b[0m\n\u001b[0;32m----> 6\u001b[0;31m     \u001b[1;32mreturn\u001b[0m\u001b[1;33m(\u001b[0m\u001b[0mlocation\u001b[0m\u001b[1;33m.\u001b[0m\u001b[0mlatitude\u001b[0m\u001b[1;33m)\u001b[0m\u001b[1;33m\u001b[0m\u001b[0m\n\u001b[0m",
      "\u001b[0;31mAttributeError\u001b[0m: 'NoneType' object has no attribute 'latitude'"
     ]
    }
   ],
   "source": [
    "names['to_lat'] = names['towards'].apply(get_lat)"
   ]
  },
  {
   "cell_type": "code",
   "execution_count": 66,
   "metadata": {
    "collapsed": false
   },
   "outputs": [
    {
     "data": {
      "text/html": [
       "<div>\n",
       "<table border=\"1\" class=\"dataframe\">\n",
       "  <thead>\n",
       "    <tr style=\"text-align: right;\">\n",
       "      <th></th>\n",
       "      <th>fullname</th>\n",
       "      <th>from</th>\n",
       "      <th>towards</th>\n",
       "      <th>LineID</th>\n",
       "      <th>direction</th>\n",
       "    </tr>\n",
       "  </thead>\n",
       "  <tbody>\n",
       "    <tr>\n",
       "      <th>0</th>\n",
       "      <td>102_saturday_From Dublin Airport Towards Sutto...</td>\n",
       "      <td>Dublin Airport, Dublin</td>\n",
       "      <td>Sutton Station, Dublin</td>\n",
       "      <td>102</td>\n",
       "      <td>From Dublin Airport Towards Sutton Station</td>\n",
       "    </tr>\n",
       "    <tr>\n",
       "      <th>1</th>\n",
       "      <td>102_saturday_From Sutton Station Towards Dubli...</td>\n",
       "      <td>Sutton Station, Dublin</td>\n",
       "      <td>Dublin Airport, Dublin</td>\n",
       "      <td>102</td>\n",
       "      <td>From Sutton Station Towards Dublin Airport</td>\n",
       "    </tr>\n",
       "    <tr>\n",
       "      <th>2</th>\n",
       "      <td>102_sunday_From Dublin Airport Towards Sutton ...</td>\n",
       "      <td>Dublin Airport, Dublin</td>\n",
       "      <td>Sutton Station, Dublin</td>\n",
       "      <td>102</td>\n",
       "      <td>From Dublin Airport Towards Sutton Station</td>\n",
       "    </tr>\n",
       "    <tr>\n",
       "      <th>3</th>\n",
       "      <td>102_sunday_From Sutton Station Towards Dublin ...</td>\n",
       "      <td>Sutton Station, Dublin</td>\n",
       "      <td>Dublin Airport, Dublin</td>\n",
       "      <td>102</td>\n",
       "      <td>From Sutton Station Towards Dublin Airport</td>\n",
       "    </tr>\n",
       "    <tr>\n",
       "      <th>4</th>\n",
       "      <td>102_weekday_From Dublin Airport Towards Sutton...</td>\n",
       "      <td>Dublin Airport, Dublin</td>\n",
       "      <td>Sutton Station, Dublin</td>\n",
       "      <td>102</td>\n",
       "      <td>From Dublin Airport Towards Sutton Station</td>\n",
       "    </tr>\n",
       "    <tr>\n",
       "      <th>5</th>\n",
       "      <td>102_weekday_From Sutton Station Towards Dublin...</td>\n",
       "      <td>Sutton Station, Dublin</td>\n",
       "      <td>Dublin Airport, Dublin</td>\n",
       "      <td>102</td>\n",
       "      <td>From Sutton Station Towards Dublin Airport</td>\n",
       "    </tr>\n",
       "    <tr>\n",
       "      <th>6</th>\n",
       "      <td>104_saturday_From Clontarf Rd. (Conquer Hill) ...</td>\n",
       "      <td>Clontarf Rd. (Conquer Hill), Dublin</td>\n",
       "      <td>Santry (Shanard Rd.), Dublin</td>\n",
       "      <td>104</td>\n",
       "      <td>From Clontarf Rd. (Conquer Hill) Towards Santr...</td>\n",
       "    </tr>\n",
       "    <tr>\n",
       "      <th>7</th>\n",
       "      <td>104_saturday_From Santry (Shanard Rd.) Towards...</td>\n",
       "      <td>Santry (Shanard Rd.), Dublin</td>\n",
       "      <td>Clontarf Rd. (Conquer Hill), Dublin</td>\n",
       "      <td>104</td>\n",
       "      <td>From Santry (Shanard Rd.) Towards Clontarf Rd....</td>\n",
       "    </tr>\n",
       "    <tr>\n",
       "      <th>8</th>\n",
       "      <td>104_sunday_From Clontarf Rd. (Conquer Hill) To...</td>\n",
       "      <td>Clontarf Rd. (Conquer Hill), Dublin</td>\n",
       "      <td>Santry (Shanard Rd.), Dublin</td>\n",
       "      <td>104</td>\n",
       "      <td>From Clontarf Rd. (Conquer Hill) Towards Santr...</td>\n",
       "    </tr>\n",
       "    <tr>\n",
       "      <th>9</th>\n",
       "      <td>104_sunday_From Santry (Shanard Rd.) Towards C...</td>\n",
       "      <td>Santry (Shanard Rd.), Dublin</td>\n",
       "      <td>Clontarf Rd. (Conquer Hill), Dublin</td>\n",
       "      <td>104</td>\n",
       "      <td>From Santry (Shanard Rd.) Towards Clontarf Rd....</td>\n",
       "    </tr>\n",
       "    <tr>\n",
       "      <th>10</th>\n",
       "      <td>104_weekday_From Clontarf Rd. (Conquer Hill) T...</td>\n",
       "      <td>Clontarf Rd. (Conquer Hill), Dublin</td>\n",
       "      <td>Santry (Shanard Rd.), Dublin</td>\n",
       "      <td>104</td>\n",
       "      <td>From Clontarf Rd. (Conquer Hill) Towards Santr...</td>\n",
       "    </tr>\n",
       "    <tr>\n",
       "      <th>11</th>\n",
       "      <td>104_weekday_From Santry (Shanard Rd.) Towards ...</td>\n",
       "      <td>Santry (Shanard Rd.), Dublin</td>\n",
       "      <td>Clontarf Rd. (Conquer Hill), Dublin</td>\n",
       "      <td>104</td>\n",
       "      <td>From Santry (Shanard Rd.) Towards Clontarf Rd....</td>\n",
       "    </tr>\n",
       "    <tr>\n",
       "      <th>12</th>\n",
       "      <td>111_weekday_From Dun Laoghaire Towards Loughli...</td>\n",
       "      <td>Dun Laoghaire, Dublin</td>\n",
       "      <td>Loughlinstown Park, Dublin</td>\n",
       "      <td>111</td>\n",
       "      <td>From Dun Laoghaire Towards Loughlinstown Park</td>\n",
       "    </tr>\n",
       "    <tr>\n",
       "      <th>13</th>\n",
       "      <td>111_weekday_From Loughlinstown Park Towards Du...</td>\n",
       "      <td>Loughlinstown Park, Dublin</td>\n",
       "      <td>Dun Laoghaire, Dublin</td>\n",
       "      <td>111</td>\n",
       "      <td>From Loughlinstown Park Towards Dun Laoghaire</td>\n",
       "    </tr>\n",
       "    <tr>\n",
       "      <th>14</th>\n",
       "      <td>114_saturday_From Blackrock Station Towards Ti...</td>\n",
       "      <td>Blackrock Station, Dublin</td>\n",
       "      <td>Ticknock, Dublin</td>\n",
       "      <td>114</td>\n",
       "      <td>From Blackrock Station Towards Ticknock</td>\n",
       "    </tr>\n",
       "    <tr>\n",
       "      <th>15</th>\n",
       "      <td>114_saturday_From Ticknock Towards Blackrock S...</td>\n",
       "      <td>Ticknock, Dublin</td>\n",
       "      <td>Blackrock Station, Dublin</td>\n",
       "      <td>114</td>\n",
       "      <td>From Ticknock Towards Blackrock Station</td>\n",
       "    </tr>\n",
       "    <tr>\n",
       "      <th>16</th>\n",
       "      <td>114_weekday_From Blackrock Station Towards Tic...</td>\n",
       "      <td>Blackrock Station, Dublin</td>\n",
       "      <td>Ticknock, Dublin</td>\n",
       "      <td>114</td>\n",
       "      <td>From Blackrock Station Towards Ticknock</td>\n",
       "    </tr>\n",
       "    <tr>\n",
       "      <th>17</th>\n",
       "      <td>114_weekday_From Ticknock Towards Blackrock St...</td>\n",
       "      <td>Ticknock, Dublin</td>\n",
       "      <td>Blackrock Station, Dublin</td>\n",
       "      <td>114</td>\n",
       "      <td>From Ticknock Towards Blackrock Station</td>\n",
       "    </tr>\n",
       "    <tr>\n",
       "      <th>18</th>\n",
       "      <td>116_weekday_From Burlington Hotel (Sussex Rd.)...</td>\n",
       "      <td>Burlington Hotel (Sussex Rd.), Dublin</td>\n",
       "      <td>Whitechurch, Dublin</td>\n",
       "      <td>116</td>\n",
       "      <td>From Burlington Hotel (Sussex Rd.) Towards Whi...</td>\n",
       "    </tr>\n",
       "    <tr>\n",
       "      <th>19</th>\n",
       "      <td>116_weekday_From Whitechurch Towards Burlingto...</td>\n",
       "      <td>Whitechurch, Dublin</td>\n",
       "      <td>Burlington Hotel (Sussex Rd.), Dublin</td>\n",
       "      <td>116</td>\n",
       "      <td>From Whitechurch Towards Burlington Hotel (Sus...</td>\n",
       "    </tr>\n",
       "    <tr>\n",
       "      <th>20</th>\n",
       "      <td>118_weekday_From Kilternan Towards D'Olier St....</td>\n",
       "      <td>Kilternan, Dublin</td>\n",
       "      <td>D'Olier St., Dublin</td>\n",
       "      <td>118</td>\n",
       "      <td>From Kilternan Towards D'Olier St</td>\n",
       "    </tr>\n",
       "    <tr>\n",
       "      <th>21</th>\n",
       "      <td>11_saturday_From Sandyford Industrial Estate T...</td>\n",
       "      <td>Sandyford Industrial Estate, Dublin</td>\n",
       "      <td>Wadelai Park, Dublin</td>\n",
       "      <td>11</td>\n",
       "      <td>From Sandyford Industrial Estate Towards Wadel...</td>\n",
       "    </tr>\n",
       "    <tr>\n",
       "      <th>22</th>\n",
       "      <td>11_saturday_From Wadelai Park Towards Sandyfor...</td>\n",
       "      <td>Wadelai Park, Dublin</td>\n",
       "      <td>Sandyford Industrial Estate, Dublin</td>\n",
       "      <td>11</td>\n",
       "      <td>From Wadelai Park Towards Sandyford Industrial...</td>\n",
       "    </tr>\n",
       "    <tr>\n",
       "      <th>23</th>\n",
       "      <td>11_sunday_From Sandyford Industrial Estate Tow...</td>\n",
       "      <td>Sandyford Industrial Estate, Dublin</td>\n",
       "      <td>Wadelai Park, Dublin</td>\n",
       "      <td>11</td>\n",
       "      <td>From Sandyford Industrial Estate Towards Wadel...</td>\n",
       "    </tr>\n",
       "    <tr>\n",
       "      <th>24</th>\n",
       "      <td>11_sunday_From Wadelai Park Towards Sandyford ...</td>\n",
       "      <td>Wadelai Park, Dublin</td>\n",
       "      <td>Sandyford Industrial Estate, Dublin</td>\n",
       "      <td>11</td>\n",
       "      <td>From Wadelai Park Towards Sandyford Industrial...</td>\n",
       "    </tr>\n",
       "    <tr>\n",
       "      <th>25</th>\n",
       "      <td>11_weekday_From Sandyford Industrial Estate To...</td>\n",
       "      <td>Sandyford Industrial Estate, Dublin</td>\n",
       "      <td>Wadelai Park, Dublin</td>\n",
       "      <td>11</td>\n",
       "      <td>From Sandyford Industrial Estate Towards Wadel...</td>\n",
       "    </tr>\n",
       "    <tr>\n",
       "      <th>26</th>\n",
       "      <td>11_weekday_From Wadelai Park Towards Sandyford...</td>\n",
       "      <td>Wadelai Park, Dublin</td>\n",
       "      <td>Sandyford Industrial Estate, Dublin</td>\n",
       "      <td>11</td>\n",
       "      <td>From Wadelai Park Towards Sandyford Industrial...</td>\n",
       "    </tr>\n",
       "    <tr>\n",
       "      <th>27</th>\n",
       "      <td>120_saturday_From Ashtown Station Towards Parn...</td>\n",
       "      <td>Ashtown, Dublin</td>\n",
       "      <td>Parnell St., Dublin</td>\n",
       "      <td>120</td>\n",
       "      <td>From Ashtown Station Towards Parnell St</td>\n",
       "    </tr>\n",
       "    <tr>\n",
       "      <th>28</th>\n",
       "      <td>120_saturday_From Parnell St. Towards Ashtown ...</td>\n",
       "      <td>Parnell St., Dublin</td>\n",
       "      <td>Ashtown, Dublin</td>\n",
       "      <td>120</td>\n",
       "      <td>From Parnell St. Towards Ashtown Station</td>\n",
       "    </tr>\n",
       "    <tr>\n",
       "      <th>29</th>\n",
       "      <td>120_sunday_From Ashtown Station Towards Parnel...</td>\n",
       "      <td>Ashtown, Dublin</td>\n",
       "      <td>Parnell St., Dublin</td>\n",
       "      <td>120</td>\n",
       "      <td>From Ashtown Station Towards Parnell St</td>\n",
       "    </tr>\n",
       "    <tr>\n",
       "      <th>...</th>\n",
       "      <td>...</td>\n",
       "      <td>...</td>\n",
       "      <td>...</td>\n",
       "      <td>...</td>\n",
       "      <td>...</td>\n",
       "    </tr>\n",
       "    <tr>\n",
       "      <th>515</th>\n",
       "      <td>83_weekday_From Harristown Towards Kimmage.csv</td>\n",
       "      <td>Harristown, Dublin</td>\n",
       "      <td>Kimmage, Dublin</td>\n",
       "      <td>83</td>\n",
       "      <td>From Harristown Towards Kimmage</td>\n",
       "    </tr>\n",
       "    <tr>\n",
       "      <th>516</th>\n",
       "      <td>83_weekday_From Kimmage Towards Harristown.csv</td>\n",
       "      <td>Kimmage, Dublin</td>\n",
       "      <td>Harristown, Dublin</td>\n",
       "      <td>83</td>\n",
       "      <td>From Kimmage Towards Harristown</td>\n",
       "    </tr>\n",
       "    <tr>\n",
       "      <th>517</th>\n",
       "      <td>84_saturday_From Blackrock Towards Newcastle.csv</td>\n",
       "      <td>Blackrock, Dublin</td>\n",
       "      <td>Newcastle, Wicklow</td>\n",
       "      <td>84</td>\n",
       "      <td>From Blackrock Towards Newcastle</td>\n",
       "    </tr>\n",
       "    <tr>\n",
       "      <th>518</th>\n",
       "      <td>84_saturday_From Newcastle Towards Blackrock.csv</td>\n",
       "      <td>Newcastle, Wicklow</td>\n",
       "      <td>Blackrock, Dublin</td>\n",
       "      <td>84</td>\n",
       "      <td>From Newcastle Towards Blackrock</td>\n",
       "    </tr>\n",
       "    <tr>\n",
       "      <th>519</th>\n",
       "      <td>84_sunday_From Blackrock Towards Newcastle.csv</td>\n",
       "      <td>Blackrock, Dublin</td>\n",
       "      <td>Newcastle, Wicklow</td>\n",
       "      <td>84</td>\n",
       "      <td>From Blackrock Towards Newcastle</td>\n",
       "    </tr>\n",
       "    <tr>\n",
       "      <th>520</th>\n",
       "      <td>84_sunday_From Newcastle Towards Blackrock.csv</td>\n",
       "      <td>Newcastle, Wicklow</td>\n",
       "      <td>Blackrock, Dublin</td>\n",
       "      <td>84</td>\n",
       "      <td>From Newcastle Towards Blackrock</td>\n",
       "    </tr>\n",
       "    <tr>\n",
       "      <th>521</th>\n",
       "      <td>84_weekday_From Blackrock Towards Newcastle.csv</td>\n",
       "      <td>Blackrock, Dublin</td>\n",
       "      <td>Newcastle, Wicklow</td>\n",
       "      <td>84</td>\n",
       "      <td>From Blackrock Towards Newcastle</td>\n",
       "    </tr>\n",
       "    <tr>\n",
       "      <th>522</th>\n",
       "      <td>84_weekday_From Newcastle Towards Blackrock.csv</td>\n",
       "      <td>Newcastle, Wicklow</td>\n",
       "      <td>Blackrock, Dublin</td>\n",
       "      <td>84</td>\n",
       "      <td>From Newcastle Towards Blackrock</td>\n",
       "    </tr>\n",
       "    <tr>\n",
       "      <th>517</th>\n",
       "      <td>84a_saturday_From Blackrock Towards Newcastle.csv</td>\n",
       "      <td>Blackrock, Dublin</td>\n",
       "      <td>Newcastle, Wicklow</td>\n",
       "      <td>84A</td>\n",
       "      <td>From Blackrock Towards Newcastle</td>\n",
       "    </tr>\n",
       "    <tr>\n",
       "      <th>518</th>\n",
       "      <td>84a_saturday_From Newcastle Towards Blackrock.csv</td>\n",
       "      <td>Newcastle, Wicklow</td>\n",
       "      <td>Blackrock, Dublin</td>\n",
       "      <td>84A</td>\n",
       "      <td>From Newcastle Towards Blackrock</td>\n",
       "    </tr>\n",
       "    <tr>\n",
       "      <th>519</th>\n",
       "      <td>84a_sunday_From Blackrock Towards Newcastle.csv</td>\n",
       "      <td>Blackrock, Dublin</td>\n",
       "      <td>Newcastle, Wicklow</td>\n",
       "      <td>84A</td>\n",
       "      <td>From Blackrock Towards Newcastle</td>\n",
       "    </tr>\n",
       "    <tr>\n",
       "      <th>520</th>\n",
       "      <td>84a_sunday_From Newcastle Towards Blackrock.csv</td>\n",
       "      <td>Newcastle, Wicklow</td>\n",
       "      <td>Blackrock, Dublin</td>\n",
       "      <td>84A</td>\n",
       "      <td>From Newcastle Towards Blackrock</td>\n",
       "    </tr>\n",
       "    <tr>\n",
       "      <th>521</th>\n",
       "      <td>84a_weekday_From Blackrock Towards Newcastle.csv</td>\n",
       "      <td>Blackrock, Dublin</td>\n",
       "      <td>Newcastle, Wicklow</td>\n",
       "      <td>84A</td>\n",
       "      <td>From Blackrock Towards Newcastle</td>\n",
       "    </tr>\n",
       "    <tr>\n",
       "      <th>1</th>\n",
       "      <td>84x_weekday_From Newcastle Towards Trinity Col...</td>\n",
       "      <td>Newcastle, Wicklow</td>\n",
       "      <td>Trinity College, Dublin</td>\n",
       "      <td>84X</td>\n",
       "      <td>From Newcastle Towards Trinity College</td>\n",
       "    </tr>\n",
       "    <tr>\n",
       "      <th>2</th>\n",
       "      <td>84x_weekday_Trinity College Towards Newcastle.csv</td>\n",
       "      <td>Trinity College, Dublin</td>\n",
       "      <td>Newcastle, Wicklow</td>\n",
       "      <td>84X</td>\n",
       "      <td>Trinity College Towards Newcastle</td>\n",
       "    </tr>\n",
       "    <tr>\n",
       "      <th>522</th>\n",
       "      <td>84a_weekday_From Newcastle Towards Blackrock.csv</td>\n",
       "      <td>Newcastle, Wicklow</td>\n",
       "      <td>Blackrock, Dublin</td>\n",
       "      <td>84A</td>\n",
       "      <td>From Newcastle Towards Blackrock</td>\n",
       "    </tr>\n",
       "    <tr>\n",
       "      <th>523</th>\n",
       "      <td>8_saturday_From Dalkey Towards Mountjoy Sq..csv</td>\n",
       "      <td>Dalkey, Dublin</td>\n",
       "      <td>Mountjoy Sq., Dublin</td>\n",
       "      <td>8</td>\n",
       "      <td>From Dalkey Towards Mountjoy Sq</td>\n",
       "    </tr>\n",
       "    <tr>\n",
       "      <th>524</th>\n",
       "      <td>8_saturday_From Mountjoy Sq. Towards Dalkey.csv</td>\n",
       "      <td>Mountjoy Sq., Dublin</td>\n",
       "      <td>Dalkey, Dublin</td>\n",
       "      <td>8</td>\n",
       "      <td>From Mountjoy Sq. Towards Dalkey</td>\n",
       "    </tr>\n",
       "    <tr>\n",
       "      <th>525</th>\n",
       "      <td>8_sunday_From Dalkey Towards Mountjoy Sq..csv</td>\n",
       "      <td>Dalkey, Dublin</td>\n",
       "      <td>Mountjoy Sq., Dublin</td>\n",
       "      <td>8</td>\n",
       "      <td>From Dalkey Towards Mountjoy Sq</td>\n",
       "    </tr>\n",
       "    <tr>\n",
       "      <th>526</th>\n",
       "      <td>8_sunday_From Mountjoy Sq. Towards Dalkey.csv</td>\n",
       "      <td>Mountjoy Sq., Dublin</td>\n",
       "      <td>Dalkey, Dublin</td>\n",
       "      <td>8</td>\n",
       "      <td>From Mountjoy Sq. Towards Dalkey</td>\n",
       "    </tr>\n",
       "    <tr>\n",
       "      <th>527</th>\n",
       "      <td>8_weekday_From Dalkey Towards Mountjoy Sq..csv</td>\n",
       "      <td>Dalkey, Dublin</td>\n",
       "      <td>Mountjoy Sq., Dublin</td>\n",
       "      <td>8</td>\n",
       "      <td>From Dalkey Towards Mountjoy Sq</td>\n",
       "    </tr>\n",
       "    <tr>\n",
       "      <th>528</th>\n",
       "      <td>8_weekday_From Mountjoy Sq. Towards Dalkey.csv</td>\n",
       "      <td>Mountjoy Sq., Dublin</td>\n",
       "      <td>Dalkey, Dublin</td>\n",
       "      <td>8</td>\n",
       "      <td>From Mountjoy Sq. Towards Dalkey</td>\n",
       "    </tr>\n",
       "    <tr>\n",
       "      <th>529</th>\n",
       "      <td>90_weekday_From Heuston Station Towards Intern...</td>\n",
       "      <td>Heuston Station, Dublin</td>\n",
       "      <td>International Financial Services Centre, Dublin</td>\n",
       "      <td>90</td>\n",
       "      <td>From Heuston Station Towards International Fin...</td>\n",
       "    </tr>\n",
       "    <tr>\n",
       "      <th>530</th>\n",
       "      <td>90_weekday_From International Financial Servic...</td>\n",
       "      <td>International Financial Services Centre, Dublin</td>\n",
       "      <td>Heuston Station, Dublin</td>\n",
       "      <td>90</td>\n",
       "      <td>From International Financial Services Centre T...</td>\n",
       "    </tr>\n",
       "    <tr>\n",
       "      <th>531</th>\n",
       "      <td>9_saturday_From Charlestown Towards Limekiln A...</td>\n",
       "      <td>Charlestown, Dublin</td>\n",
       "      <td>Limekiln Ave., Dublin</td>\n",
       "      <td>9</td>\n",
       "      <td>From Charlestown Towards Limekiln Ave</td>\n",
       "    </tr>\n",
       "    <tr>\n",
       "      <th>532</th>\n",
       "      <td>9_saturday_From Limekiln Ave. Towards Charlest...</td>\n",
       "      <td>Limekiln Ave., Dublin</td>\n",
       "      <td>Charlestown, Dublin</td>\n",
       "      <td>9</td>\n",
       "      <td>From Limekiln Ave. Towards Charlestown</td>\n",
       "    </tr>\n",
       "    <tr>\n",
       "      <th>533</th>\n",
       "      <td>9_sunday_From Charlestown Towards Limekiln Ave...</td>\n",
       "      <td>Charlestown, Dublin</td>\n",
       "      <td>Limekiln Ave., Dublin</td>\n",
       "      <td>9</td>\n",
       "      <td>From Charlestown Towards Limekiln Ave</td>\n",
       "    </tr>\n",
       "    <tr>\n",
       "      <th>534</th>\n",
       "      <td>9_sunday_From Limekiln Ave. Towards Charlestow...</td>\n",
       "      <td>Limekiln Ave., Dublin</td>\n",
       "      <td>Charlestown, Dublin</td>\n",
       "      <td>9</td>\n",
       "      <td>From Limekiln Ave. Towards Charlestown</td>\n",
       "    </tr>\n",
       "    <tr>\n",
       "      <th>535</th>\n",
       "      <td>9_weekday_From Charlestown Towards Limekiln Av...</td>\n",
       "      <td>Charlestown, Dublin</td>\n",
       "      <td>Limekiln Ave., Dublin</td>\n",
       "      <td>9</td>\n",
       "      <td>From Charlestown Towards Limekiln Ave</td>\n",
       "    </tr>\n",
       "    <tr>\n",
       "      <th>536</th>\n",
       "      <td>9_weekday_From Limekiln Ave. Towards Charlesto...</td>\n",
       "      <td>Limekiln Ave., Dublin</td>\n",
       "      <td>Charlestown, Dublin</td>\n",
       "      <td>9</td>\n",
       "      <td>From Limekiln Ave. Towards Charlestown</td>\n",
       "    </tr>\n",
       "  </tbody>\n",
       "</table>\n",
       "<p>572 rows × 5 columns</p>\n",
       "</div>"
      ],
      "text/plain": [
       "                                              fullname  \\\n",
       "0    102_saturday_From Dublin Airport Towards Sutto...   \n",
       "1    102_saturday_From Sutton Station Towards Dubli...   \n",
       "2    102_sunday_From Dublin Airport Towards Sutton ...   \n",
       "3    102_sunday_From Sutton Station Towards Dublin ...   \n",
       "4    102_weekday_From Dublin Airport Towards Sutton...   \n",
       "5    102_weekday_From Sutton Station Towards Dublin...   \n",
       "6    104_saturday_From Clontarf Rd. (Conquer Hill) ...   \n",
       "7    104_saturday_From Santry (Shanard Rd.) Towards...   \n",
       "8    104_sunday_From Clontarf Rd. (Conquer Hill) To...   \n",
       "9    104_sunday_From Santry (Shanard Rd.) Towards C...   \n",
       "10   104_weekday_From Clontarf Rd. (Conquer Hill) T...   \n",
       "11   104_weekday_From Santry (Shanard Rd.) Towards ...   \n",
       "12   111_weekday_From Dun Laoghaire Towards Loughli...   \n",
       "13   111_weekday_From Loughlinstown Park Towards Du...   \n",
       "14   114_saturday_From Blackrock Station Towards Ti...   \n",
       "15   114_saturday_From Ticknock Towards Blackrock S...   \n",
       "16   114_weekday_From Blackrock Station Towards Tic...   \n",
       "17   114_weekday_From Ticknock Towards Blackrock St...   \n",
       "18   116_weekday_From Burlington Hotel (Sussex Rd.)...   \n",
       "19   116_weekday_From Whitechurch Towards Burlingto...   \n",
       "20   118_weekday_From Kilternan Towards D'Olier St....   \n",
       "21   11_saturday_From Sandyford Industrial Estate T...   \n",
       "22   11_saturday_From Wadelai Park Towards Sandyfor...   \n",
       "23   11_sunday_From Sandyford Industrial Estate Tow...   \n",
       "24   11_sunday_From Wadelai Park Towards Sandyford ...   \n",
       "25   11_weekday_From Sandyford Industrial Estate To...   \n",
       "26   11_weekday_From Wadelai Park Towards Sandyford...   \n",
       "27   120_saturday_From Ashtown Station Towards Parn...   \n",
       "28   120_saturday_From Parnell St. Towards Ashtown ...   \n",
       "29   120_sunday_From Ashtown Station Towards Parnel...   \n",
       "..                                                 ...   \n",
       "515     83_weekday_From Harristown Towards Kimmage.csv   \n",
       "516     83_weekday_From Kimmage Towards Harristown.csv   \n",
       "517   84_saturday_From Blackrock Towards Newcastle.csv   \n",
       "518   84_saturday_From Newcastle Towards Blackrock.csv   \n",
       "519     84_sunday_From Blackrock Towards Newcastle.csv   \n",
       "520     84_sunday_From Newcastle Towards Blackrock.csv   \n",
       "521    84_weekday_From Blackrock Towards Newcastle.csv   \n",
       "522    84_weekday_From Newcastle Towards Blackrock.csv   \n",
       "517  84a_saturday_From Blackrock Towards Newcastle.csv   \n",
       "518  84a_saturday_From Newcastle Towards Blackrock.csv   \n",
       "519    84a_sunday_From Blackrock Towards Newcastle.csv   \n",
       "520    84a_sunday_From Newcastle Towards Blackrock.csv   \n",
       "521   84a_weekday_From Blackrock Towards Newcastle.csv   \n",
       "1    84x_weekday_From Newcastle Towards Trinity Col...   \n",
       "2    84x_weekday_Trinity College Towards Newcastle.csv   \n",
       "522   84a_weekday_From Newcastle Towards Blackrock.csv   \n",
       "523    8_saturday_From Dalkey Towards Mountjoy Sq..csv   \n",
       "524    8_saturday_From Mountjoy Sq. Towards Dalkey.csv   \n",
       "525      8_sunday_From Dalkey Towards Mountjoy Sq..csv   \n",
       "526      8_sunday_From Mountjoy Sq. Towards Dalkey.csv   \n",
       "527     8_weekday_From Dalkey Towards Mountjoy Sq..csv   \n",
       "528     8_weekday_From Mountjoy Sq. Towards Dalkey.csv   \n",
       "529  90_weekday_From Heuston Station Towards Intern...   \n",
       "530  90_weekday_From International Financial Servic...   \n",
       "531  9_saturday_From Charlestown Towards Limekiln A...   \n",
       "532  9_saturday_From Limekiln Ave. Towards Charlest...   \n",
       "533  9_sunday_From Charlestown Towards Limekiln Ave...   \n",
       "534  9_sunday_From Limekiln Ave. Towards Charlestow...   \n",
       "535  9_weekday_From Charlestown Towards Limekiln Av...   \n",
       "536  9_weekday_From Limekiln Ave. Towards Charlesto...   \n",
       "\n",
       "                                                from  \\\n",
       "0                             Dublin Airport, Dublin   \n",
       "1                             Sutton Station, Dublin   \n",
       "2                             Dublin Airport, Dublin   \n",
       "3                             Sutton Station, Dublin   \n",
       "4                             Dublin Airport, Dublin   \n",
       "5                             Sutton Station, Dublin   \n",
       "6                Clontarf Rd. (Conquer Hill), Dublin   \n",
       "7                       Santry (Shanard Rd.), Dublin   \n",
       "8                Clontarf Rd. (Conquer Hill), Dublin   \n",
       "9                       Santry (Shanard Rd.), Dublin   \n",
       "10               Clontarf Rd. (Conquer Hill), Dublin   \n",
       "11                      Santry (Shanard Rd.), Dublin   \n",
       "12                             Dun Laoghaire, Dublin   \n",
       "13                        Loughlinstown Park, Dublin   \n",
       "14                         Blackrock Station, Dublin   \n",
       "15                                  Ticknock, Dublin   \n",
       "16                         Blackrock Station, Dublin   \n",
       "17                                  Ticknock, Dublin   \n",
       "18             Burlington Hotel (Sussex Rd.), Dublin   \n",
       "19                               Whitechurch, Dublin   \n",
       "20                                 Kilternan, Dublin   \n",
       "21               Sandyford Industrial Estate, Dublin   \n",
       "22                              Wadelai Park, Dublin   \n",
       "23               Sandyford Industrial Estate, Dublin   \n",
       "24                              Wadelai Park, Dublin   \n",
       "25               Sandyford Industrial Estate, Dublin   \n",
       "26                              Wadelai Park, Dublin   \n",
       "27                                   Ashtown, Dublin   \n",
       "28                               Parnell St., Dublin   \n",
       "29                                   Ashtown, Dublin   \n",
       "..                                               ...   \n",
       "515                               Harristown, Dublin   \n",
       "516                                  Kimmage, Dublin   \n",
       "517                                Blackrock, Dublin   \n",
       "518                               Newcastle, Wicklow   \n",
       "519                                Blackrock, Dublin   \n",
       "520                               Newcastle, Wicklow   \n",
       "521                                Blackrock, Dublin   \n",
       "522                               Newcastle, Wicklow   \n",
       "517                                Blackrock, Dublin   \n",
       "518                               Newcastle, Wicklow   \n",
       "519                                Blackrock, Dublin   \n",
       "520                               Newcastle, Wicklow   \n",
       "521                                Blackrock, Dublin   \n",
       "1                                 Newcastle, Wicklow   \n",
       "2                            Trinity College, Dublin   \n",
       "522                               Newcastle, Wicklow   \n",
       "523                                   Dalkey, Dublin   \n",
       "524                             Mountjoy Sq., Dublin   \n",
       "525                                   Dalkey, Dublin   \n",
       "526                             Mountjoy Sq., Dublin   \n",
       "527                                   Dalkey, Dublin   \n",
       "528                             Mountjoy Sq., Dublin   \n",
       "529                          Heuston Station, Dublin   \n",
       "530  International Financial Services Centre, Dublin   \n",
       "531                              Charlestown, Dublin   \n",
       "532                            Limekiln Ave., Dublin   \n",
       "533                              Charlestown, Dublin   \n",
       "534                            Limekiln Ave., Dublin   \n",
       "535                              Charlestown, Dublin   \n",
       "536                            Limekiln Ave., Dublin   \n",
       "\n",
       "                                             towards LineID  \\\n",
       "0                             Sutton Station, Dublin    102   \n",
       "1                             Dublin Airport, Dublin    102   \n",
       "2                             Sutton Station, Dublin    102   \n",
       "3                             Dublin Airport, Dublin    102   \n",
       "4                             Sutton Station, Dublin    102   \n",
       "5                             Dublin Airport, Dublin    102   \n",
       "6                       Santry (Shanard Rd.), Dublin    104   \n",
       "7                Clontarf Rd. (Conquer Hill), Dublin    104   \n",
       "8                       Santry (Shanard Rd.), Dublin    104   \n",
       "9                Clontarf Rd. (Conquer Hill), Dublin    104   \n",
       "10                      Santry (Shanard Rd.), Dublin    104   \n",
       "11               Clontarf Rd. (Conquer Hill), Dublin    104   \n",
       "12                        Loughlinstown Park, Dublin    111   \n",
       "13                             Dun Laoghaire, Dublin    111   \n",
       "14                                  Ticknock, Dublin    114   \n",
       "15                         Blackrock Station, Dublin    114   \n",
       "16                                  Ticknock, Dublin    114   \n",
       "17                         Blackrock Station, Dublin    114   \n",
       "18                               Whitechurch, Dublin    116   \n",
       "19             Burlington Hotel (Sussex Rd.), Dublin    116   \n",
       "20                               D'Olier St., Dublin    118   \n",
       "21                              Wadelai Park, Dublin     11   \n",
       "22               Sandyford Industrial Estate, Dublin     11   \n",
       "23                              Wadelai Park, Dublin     11   \n",
       "24               Sandyford Industrial Estate, Dublin     11   \n",
       "25                              Wadelai Park, Dublin     11   \n",
       "26               Sandyford Industrial Estate, Dublin     11   \n",
       "27                               Parnell St., Dublin    120   \n",
       "28                                   Ashtown, Dublin    120   \n",
       "29                               Parnell St., Dublin    120   \n",
       "..                                               ...    ...   \n",
       "515                                  Kimmage, Dublin     83   \n",
       "516                               Harristown, Dublin     83   \n",
       "517                               Newcastle, Wicklow     84   \n",
       "518                                Blackrock, Dublin     84   \n",
       "519                               Newcastle, Wicklow     84   \n",
       "520                                Blackrock, Dublin     84   \n",
       "521                               Newcastle, Wicklow     84   \n",
       "522                                Blackrock, Dublin     84   \n",
       "517                               Newcastle, Wicklow    84A   \n",
       "518                                Blackrock, Dublin    84A   \n",
       "519                               Newcastle, Wicklow    84A   \n",
       "520                                Blackrock, Dublin    84A   \n",
       "521                               Newcastle, Wicklow    84A   \n",
       "1                            Trinity College, Dublin    84X   \n",
       "2                                 Newcastle, Wicklow    84X   \n",
       "522                                Blackrock, Dublin    84A   \n",
       "523                             Mountjoy Sq., Dublin      8   \n",
       "524                                   Dalkey, Dublin      8   \n",
       "525                             Mountjoy Sq., Dublin      8   \n",
       "526                                   Dalkey, Dublin      8   \n",
       "527                             Mountjoy Sq., Dublin      8   \n",
       "528                                   Dalkey, Dublin      8   \n",
       "529  International Financial Services Centre, Dublin     90   \n",
       "530                          Heuston Station, Dublin     90   \n",
       "531                            Limekiln Ave., Dublin      9   \n",
       "532                              Charlestown, Dublin      9   \n",
       "533                            Limekiln Ave., Dublin      9   \n",
       "534                              Charlestown, Dublin      9   \n",
       "535                            Limekiln Ave., Dublin      9   \n",
       "536                              Charlestown, Dublin      9   \n",
       "\n",
       "                                             direction  \n",
       "0           From Dublin Airport Towards Sutton Station  \n",
       "1           From Sutton Station Towards Dublin Airport  \n",
       "2           From Dublin Airport Towards Sutton Station  \n",
       "3           From Sutton Station Towards Dublin Airport  \n",
       "4           From Dublin Airport Towards Sutton Station  \n",
       "5           From Sutton Station Towards Dublin Airport  \n",
       "6    From Clontarf Rd. (Conquer Hill) Towards Santr...  \n",
       "7    From Santry (Shanard Rd.) Towards Clontarf Rd....  \n",
       "8    From Clontarf Rd. (Conquer Hill) Towards Santr...  \n",
       "9    From Santry (Shanard Rd.) Towards Clontarf Rd....  \n",
       "10   From Clontarf Rd. (Conquer Hill) Towards Santr...  \n",
       "11   From Santry (Shanard Rd.) Towards Clontarf Rd....  \n",
       "12       From Dun Laoghaire Towards Loughlinstown Park  \n",
       "13       From Loughlinstown Park Towards Dun Laoghaire  \n",
       "14             From Blackrock Station Towards Ticknock  \n",
       "15             From Ticknock Towards Blackrock Station  \n",
       "16             From Blackrock Station Towards Ticknock  \n",
       "17             From Ticknock Towards Blackrock Station  \n",
       "18   From Burlington Hotel (Sussex Rd.) Towards Whi...  \n",
       "19   From Whitechurch Towards Burlington Hotel (Sus...  \n",
       "20                   From Kilternan Towards D'Olier St  \n",
       "21   From Sandyford Industrial Estate Towards Wadel...  \n",
       "22   From Wadelai Park Towards Sandyford Industrial...  \n",
       "23   From Sandyford Industrial Estate Towards Wadel...  \n",
       "24   From Wadelai Park Towards Sandyford Industrial...  \n",
       "25   From Sandyford Industrial Estate Towards Wadel...  \n",
       "26   From Wadelai Park Towards Sandyford Industrial...  \n",
       "27             From Ashtown Station Towards Parnell St  \n",
       "28            From Parnell St. Towards Ashtown Station  \n",
       "29             From Ashtown Station Towards Parnell St  \n",
       "..                                                 ...  \n",
       "515                    From Harristown Towards Kimmage  \n",
       "516                    From Kimmage Towards Harristown  \n",
       "517                   From Blackrock Towards Newcastle  \n",
       "518                   From Newcastle Towards Blackrock  \n",
       "519                   From Blackrock Towards Newcastle  \n",
       "520                   From Newcastle Towards Blackrock  \n",
       "521                   From Blackrock Towards Newcastle  \n",
       "522                   From Newcastle Towards Blackrock  \n",
       "517                   From Blackrock Towards Newcastle  \n",
       "518                   From Newcastle Towards Blackrock  \n",
       "519                   From Blackrock Towards Newcastle  \n",
       "520                   From Newcastle Towards Blackrock  \n",
       "521                   From Blackrock Towards Newcastle  \n",
       "1               From Newcastle Towards Trinity College  \n",
       "2                    Trinity College Towards Newcastle  \n",
       "522                   From Newcastle Towards Blackrock  \n",
       "523                    From Dalkey Towards Mountjoy Sq  \n",
       "524                   From Mountjoy Sq. Towards Dalkey  \n",
       "525                    From Dalkey Towards Mountjoy Sq  \n",
       "526                   From Mountjoy Sq. Towards Dalkey  \n",
       "527                    From Dalkey Towards Mountjoy Sq  \n",
       "528                   From Mountjoy Sq. Towards Dalkey  \n",
       "529  From Heuston Station Towards International Fin...  \n",
       "530  From International Financial Services Centre T...  \n",
       "531              From Charlestown Towards Limekiln Ave  \n",
       "532             From Limekiln Ave. Towards Charlestown  \n",
       "533              From Charlestown Towards Limekiln Ave  \n",
       "534             From Limekiln Ave. Towards Charlestown  \n",
       "535              From Charlestown Towards Limekiln Ave  \n",
       "536             From Limekiln Ave. Towards Charlestown  \n",
       "\n",
       "[572 rows x 5 columns]"
      ]
     },
     "execution_count": 66,
     "metadata": {},
     "output_type": "execute_result"
    }
   ],
   "source": [
    "names"
   ]
  },
  {
   "cell_type": "code",
   "execution_count": 62,
   "metadata": {
    "collapsed": false
   },
   "outputs": [
    {
     "data": {
      "text/html": [
       "<div>\n",
       "<table border=\"1\" class=\"dataframe\">\n",
       "  <thead>\n",
       "    <tr style=\"text-align: right;\">\n",
       "      <th></th>\n",
       "      <th>fullname</th>\n",
       "      <th>from</th>\n",
       "      <th>towards</th>\n",
       "      <th>LineID</th>\n",
       "      <th>direction</th>\n",
       "    </tr>\n",
       "  </thead>\n",
       "  <tbody>\n",
       "    <tr>\n",
       "      <th>0</th>\n",
       "      <td>102_saturday_From Dublin Airport Towards Sutto...</td>\n",
       "      <td>Dublin Airport, Dublin</td>\n",
       "      <td>Sutton Station, Dublin</td>\n",
       "      <td>102</td>\n",
       "      <td>From Dublin Airport Towards Sutton Station</td>\n",
       "    </tr>\n",
       "    <tr>\n",
       "      <th>1</th>\n",
       "      <td>102_saturday_From Sutton Station Towards Dubli...</td>\n",
       "      <td>Sutton Station, Dublin</td>\n",
       "      <td>Dublin Airport, Dublin</td>\n",
       "      <td>102</td>\n",
       "      <td>From Sutton Station Towards Dublin Airport</td>\n",
       "    </tr>\n",
       "    <tr>\n",
       "      <th>2</th>\n",
       "      <td>102_sunday_From Dublin Airport Towards Sutton ...</td>\n",
       "      <td>Dublin Airport, Dublin</td>\n",
       "      <td>Sutton Station, Dublin</td>\n",
       "      <td>102</td>\n",
       "      <td>From Dublin Airport Towards Sutton Station</td>\n",
       "    </tr>\n",
       "    <tr>\n",
       "      <th>3</th>\n",
       "      <td>102_sunday_From Sutton Station Towards Dublin ...</td>\n",
       "      <td>Sutton Station, Dublin</td>\n",
       "      <td>Dublin Airport, Dublin</td>\n",
       "      <td>102</td>\n",
       "      <td>From Sutton Station Towards Dublin Airport</td>\n",
       "    </tr>\n",
       "    <tr>\n",
       "      <th>4</th>\n",
       "      <td>102_weekday_From Dublin Airport Towards Sutton...</td>\n",
       "      <td>Dublin Airport, Dublin</td>\n",
       "      <td>Sutton Station, Dublin</td>\n",
       "      <td>102</td>\n",
       "      <td>From Dublin Airport Towards Sutton Station</td>\n",
       "    </tr>\n",
       "  </tbody>\n",
       "</table>\n",
       "</div>"
      ],
      "text/plain": [
       "                                            fullname                    from  \\\n",
       "0  102_saturday_From Dublin Airport Towards Sutto...  Dublin Airport, Dublin   \n",
       "1  102_saturday_From Sutton Station Towards Dubli...  Sutton Station, Dublin   \n",
       "2  102_sunday_From Dublin Airport Towards Sutton ...  Dublin Airport, Dublin   \n",
       "3  102_sunday_From Sutton Station Towards Dublin ...  Sutton Station, Dublin   \n",
       "4  102_weekday_From Dublin Airport Towards Sutton...  Dublin Airport, Dublin   \n",
       "\n",
       "                  towards LineID                                   direction  \n",
       "0  Sutton Station, Dublin    102  From Dublin Airport Towards Sutton Station  \n",
       "1  Dublin Airport, Dublin    102  From Sutton Station Towards Dublin Airport  \n",
       "2  Sutton Station, Dublin    102  From Dublin Airport Towards Sutton Station  \n",
       "3  Dublin Airport, Dublin    102  From Sutton Station Towards Dublin Airport  \n",
       "4  Sutton Station, Dublin    102  From Dublin Airport Towards Sutton Station  "
      ]
     },
     "execution_count": 62,
     "metadata": {},
     "output_type": "execute_result"
    }
   ],
   "source": [
    "names.head()"
   ]
  },
  {
   "cell_type": "code",
   "execution_count": 49,
   "metadata": {
    "collapsed": false
   },
   "outputs": [
    {
     "data": {
      "text/plain": [
       "array(['102', '104', '111', '114', '116', '118', '11', '120', '122', '123',\n",
       "       '130', '13', '140', '142', '145', '14', '150', '151', '15A', '15B',\n",
       "       '15', '161', '16', '17A', '17', '184', '185', '18', '1', '220',\n",
       "       '236', '238', '239', '25A', '25B', '25', '25X', '26', '270', '27A',\n",
       "       '27B', '27', '27X', '29A', '31B', '31', '32', '32B', '32A', '32X',\n",
       "       '33A', '33B', '33D', '33', '33X', '37', '38A', '38', '39A', '39',\n",
       "       '40B', '40D', '40', '41B', '41C', '41X', '41', '42', '43', '44B',\n",
       "       '44', '45A', '46A', '46E', '47', '49', '4', '51D', '51X', '53',\n",
       "       '54A', '56A', '59', '61', '63', '65B', '65', '66A', '66', '66X',\n",
       "       '67', '68', '69', '69X', '70', '747', '75', '76A', '76', '77A',\n",
       "       '79', '79A', '7B', '7D', '7', '83', '84', '84A', '84X', '8', '90',\n",
       "       '9'], dtype=object)"
      ]
     },
     "execution_count": 49,
     "metadata": {},
     "output_type": "execute_result"
    }
   ],
   "source": [
    "names.LineID.unique()"
   ]
  },
  {
   "cell_type": "code",
   "execution_count": null,
   "metadata": {
    "collapsed": true
   },
   "outputs": [],
   "source": [
    "#remove lines in timetable not in our data\n",
    "new_df = names[(names.LineID != '32B')&(names.LineID != '32A')&(names.LineID != '33D')&(names.LineID != '90')]"
   ]
  },
  {
   "cell_type": "code",
   "execution_count": 59,
   "metadata": {
    "collapsed": false
   },
   "outputs": [],
   "source": [
    "for i in lines:\n",
    "    if i not in names.LineID.unique():\n",
    "        print(i)"
   ]
  },
  {
   "cell_type": "code",
   "execution_count": 60,
   "metadata": {
    "collapsed": false
   },
   "outputs": [],
   "source": [
    "for i in new_df.LineID.unique():\n",
    "    if i not in lines:\n",
    "        print(i)"
   ]
  },
  {
   "cell_type": "code",
   "execution_count": null,
   "metadata": {
    "collapsed": false
   },
   "outputs": [],
   "source": []
  },
  {
   "cell_type": "code",
   "execution_count": null,
   "metadata": {
    "collapsed": false
   },
   "outputs": [],
   "source": []
  },
  {
   "cell_type": "markdown",
   "metadata": {},
   "source": [
    "## Static Variables"
   ]
  },
  {
   "cell_type": "code",
   "execution_count": 3,
   "metadata": {
    "collapsed": false
   },
   "outputs": [],
   "source": [
    "# line = lines[1]\n",
    "line = \"16\"\n",
    "date = timeframes[2]\n",
    "day = pd.to_datetime(date)\n",
    "service_type = service_types[day.dayofweek]"
   ]
  },
  {
   "cell_type": "markdown",
   "metadata": {},
   "source": [
    "## Import Data For given Line"
   ]
  },
  {
   "cell_type": "code",
   "execution_count": 4,
   "metadata": {
    "collapsed": false
   },
   "outputs": [],
   "source": [
    "linedata = pd.read_csv(\"bus_data/line_data/\"+line+\".csv\")\n",
    "linedata.columns = [\"Timestamp\", \"LineID\", \"JourneyPatternID\", \"TimeFrame\", \n",
    "              \"VehicleJourneyID\", \"Lon\", \"Lat\", \"VehicleID\", \"StopID\", \n",
    "              \"AtStop\", \"HumanTime\", \"Day\", \"Hour\", \"Runtime\"]"
   ]
  },
  {
   "cell_type": "markdown",
   "metadata": {},
   "source": [
    "# Map first digit of JourneyPatternID to a direction"
   ]
  },
  {
   "cell_type": "code",
   "execution_count": 5,
   "metadata": {
    "collapsed": false
   },
   "outputs": [],
   "source": [
    "#break by TimeFrame\n",
    "#break by JourneyPatternID\n",
    "#break by VehicleJourneyID\n",
    "#Check directionality, subtract first lat and last lat\n",
    "\n",
    "journey_pattern_dict = {}\n",
    "\n",
    "time_frame_groups = linedata.groupby('TimeFrame')\n",
    "for time_frame_label, time_frame_df in time_frame_groups:\n",
    "\n",
    "    journey_pattern_groups = time_frame_df.groupby('JourneyPatternID')\n",
    "\n",
    "    for journey_pattern_label, journey_pattern_df in journey_pattern_groups:\n",
    "\n",
    "        vehicle_journey_groups = journey_pattern_df.groupby('VehicleJourneyID')\n",
    "\n",
    "        for vehicle_journey_label, vehicle_journey_df in vehicle_journey_groups:\n",
    "            #get first occurence of vehicleJourneyID\n",
    "            start = vehicle_journey_df.Lat.iloc[0]\n",
    "            #get last occurence of vehicleJourneyID\n",
    "            end = vehicle_journey_df.Lat.iloc[-1]\n",
    "\n",
    "            direction = (start - end)\n",
    "            #sum should reveal the most common directions\n",
    "            if direction > 0:\n",
    "                if not journey_pattern_label in journey_pattern_dict:\n",
    "                    journey_pattern_dict[journey_pattern_label] = [0,1]\n",
    "                else:\n",
    "                    journey_pattern_dict[journey_pattern_label][1] += 1\n",
    "#                 journey_pattern_dict[journey_pattern_label] = 1\n",
    "            else:\n",
    "                if not journey_pattern_label in journey_pattern_dict:\n",
    "                    journey_pattern_dict[journey_pattern_label] = [1,0]\n",
    "                else:\n",
    "                    journey_pattern_dict[journey_pattern_label][0] += 1\n",
    "#                 journey_pattern_dict[journey_pattern_label] = 0\n",
    "#             journey_pattern_dict[journey_pattern_label] += (1 if (direction > 0) else 0)\n",
    "\n",
    "\n",
    "                "
   ]
  },
  {
   "cell_type": "code",
   "execution_count": 6,
   "metadata": {
    "collapsed": false
   },
   "outputs": [
    {
     "data": {
      "text/plain": [
       "{1: [83, 3327], 2: [3, 327], 3: [1, 40], 4: [0, 159], 1001: [6613, 13]}"
      ]
     },
     "execution_count": 6,
     "metadata": {},
     "output_type": "execute_result"
    }
   ],
   "source": [
    "journey_pattern_dict"
   ]
  },
  {
   "cell_type": "code",
   "execution_count": 7,
   "metadata": {
    "collapsed": false
   },
   "outputs": [
    {
     "name": "stdout",
     "output_type": "stream",
     "text": [
      "1 is southbound False\n",
      "2 is southbound False\n",
      "3 is southbound False\n",
      "4 is southbound False\n",
      "1001 is southbound True\n"
     ]
    }
   ],
   "source": [
    "type(journey_pattern_dict)\n",
    "# journey_pattern_dict.values()\n",
    "for key, value in journey_pattern_dict.items():\n",
    "    print(key,\"is southbound\", str(value[0]>value[1]))"
   ]
  },
  {
   "cell_type": "code",
   "execution_count": 8,
   "metadata": {
    "collapsed": false
   },
   "outputs": [],
   "source": [
    "#Create Dataframe with direction counts and JourneyPatternIDs\n",
    "df = pd.DataFrame.from_dict(journey_pattern_dict).T\n",
    "df.index.name = 'JourneyPatternID'\n",
    "df.columns = ['northbound','southbound']"
   ]
  },
  {
   "cell_type": "code",
   "execution_count": 9,
   "metadata": {
    "collapsed": false
   },
   "outputs": [
    {
     "data": {
      "text/plain": [
       "10566"
      ]
     },
     "execution_count": 9,
     "metadata": {},
     "output_type": "execute_result"
    }
   ],
   "source": [
    "df.northbound.sum()+ df.southbound.sum()"
   ]
  },
  {
   "cell_type": "code",
   "execution_count": 10,
   "metadata": {
    "collapsed": false
   },
   "outputs": [
    {
     "data": {
      "text/plain": [
       "218552"
      ]
     },
     "execution_count": 10,
     "metadata": {},
     "output_type": "execute_result"
    }
   ],
   "source": [
    "linedata.shape[0] - (df.northbound.sum()+ df.southbound.sum())"
   ]
  },
  {
   "cell_type": "code",
   "execution_count": 11,
   "metadata": {
    "collapsed": false
   },
   "outputs": [],
   "source": [
    "#add southbound into original linedata df based on first digit of journey pattern id\n",
    "# linedata[\"Southbound\"] = linedata.JourneyPatternID>1000\n",
    "linedata[\"Southbound\"] = linedata.JourneyPatternID>1000"
   ]
  },
  {
   "cell_type": "code",
   "execution_count": 12,
   "metadata": {
    "collapsed": false
   },
   "outputs": [
    {
     "data": {
      "text/html": [
       "<div>\n",
       "<table border=\"1\" class=\"dataframe\">\n",
       "  <thead>\n",
       "    <tr style=\"text-align: right;\">\n",
       "      <th></th>\n",
       "      <th>Timestamp</th>\n",
       "      <th>LineID</th>\n",
       "      <th>JourneyPatternID</th>\n",
       "      <th>TimeFrame</th>\n",
       "      <th>VehicleJourneyID</th>\n",
       "      <th>Lon</th>\n",
       "      <th>Lat</th>\n",
       "      <th>VehicleID</th>\n",
       "      <th>StopID</th>\n",
       "      <th>AtStop</th>\n",
       "      <th>HumanTime</th>\n",
       "      <th>Day</th>\n",
       "      <th>Hour</th>\n",
       "      <th>Runtime</th>\n",
       "      <th>Southbound</th>\n",
       "    </tr>\n",
       "  </thead>\n",
       "  <tbody>\n",
       "    <tr>\n",
       "      <th>0</th>\n",
       "      <td>1352183125000000</td>\n",
       "      <td>16</td>\n",
       "      <td>2</td>\n",
       "      <td>2012-11-06</td>\n",
       "      <td>5705</td>\n",
       "      <td>-6.242439</td>\n",
       "      <td>53.386570</td>\n",
       "      <td>33633</td>\n",
       "      <td>1641</td>\n",
       "      <td>1</td>\n",
       "      <td>2012-11-06 06:25:25</td>\n",
       "      <td>1</td>\n",
       "      <td>6</td>\n",
       "      <td>0</td>\n",
       "      <td>False</td>\n",
       "    </tr>\n",
       "    <tr>\n",
       "      <th>1</th>\n",
       "      <td>1352183146000000</td>\n",
       "      <td>16</td>\n",
       "      <td>1001</td>\n",
       "      <td>2012-11-06</td>\n",
       "      <td>5521</td>\n",
       "      <td>-6.282335</td>\n",
       "      <td>53.292206</td>\n",
       "      <td>33428</td>\n",
       "      <td>1328</td>\n",
       "      <td>1</td>\n",
       "      <td>2012-11-06 06:25:46</td>\n",
       "      <td>1</td>\n",
       "      <td>6</td>\n",
       "      <td>43</td>\n",
       "      <td>True</td>\n",
       "    </tr>\n",
       "    <tr>\n",
       "      <th>2</th>\n",
       "      <td>1352183205000000</td>\n",
       "      <td>16</td>\n",
       "      <td>2</td>\n",
       "      <td>2012-11-06</td>\n",
       "      <td>5705</td>\n",
       "      <td>-6.245068</td>\n",
       "      <td>53.381519</td>\n",
       "      <td>33633</td>\n",
       "      <td>213</td>\n",
       "      <td>1</td>\n",
       "      <td>2012-11-06 06:26:45</td>\n",
       "      <td>1</td>\n",
       "      <td>6</td>\n",
       "      <td>80</td>\n",
       "      <td>False</td>\n",
       "    </tr>\n",
       "    <tr>\n",
       "      <th>3</th>\n",
       "      <td>1352183323000000</td>\n",
       "      <td>16</td>\n",
       "      <td>1001</td>\n",
       "      <td>2012-11-06</td>\n",
       "      <td>5521</td>\n",
       "      <td>-6.284559</td>\n",
       "      <td>53.298477</td>\n",
       "      <td>33428</td>\n",
       "      <td>1331</td>\n",
       "      <td>1</td>\n",
       "      <td>2012-11-06 06:28:43</td>\n",
       "      <td>1</td>\n",
       "      <td>6</td>\n",
       "      <td>220</td>\n",
       "      <td>True</td>\n",
       "    </tr>\n",
       "    <tr>\n",
       "      <th>4</th>\n",
       "      <td>1352183346000000</td>\n",
       "      <td>16</td>\n",
       "      <td>2</td>\n",
       "      <td>2012-11-06</td>\n",
       "      <td>5705</td>\n",
       "      <td>-6.250914</td>\n",
       "      <td>53.375160</td>\n",
       "      <td>33633</td>\n",
       "      <td>119</td>\n",
       "      <td>1</td>\n",
       "      <td>2012-11-06 06:29:06</td>\n",
       "      <td>1</td>\n",
       "      <td>6</td>\n",
       "      <td>221</td>\n",
       "      <td>False</td>\n",
       "    </tr>\n",
       "  </tbody>\n",
       "</table>\n",
       "</div>"
      ],
      "text/plain": [
       "          Timestamp  LineID  JourneyPatternID   TimeFrame  VehicleJourneyID  \\\n",
       "0  1352183125000000      16                 2  2012-11-06              5705   \n",
       "1  1352183146000000      16              1001  2012-11-06              5521   \n",
       "2  1352183205000000      16                 2  2012-11-06              5705   \n",
       "3  1352183323000000      16              1001  2012-11-06              5521   \n",
       "4  1352183346000000      16                 2  2012-11-06              5705   \n",
       "\n",
       "        Lon        Lat  VehicleID  StopID  AtStop            HumanTime  Day  \\\n",
       "0 -6.242439  53.386570      33633    1641       1  2012-11-06 06:25:25    1   \n",
       "1 -6.282335  53.292206      33428    1328       1  2012-11-06 06:25:46    1   \n",
       "2 -6.245068  53.381519      33633     213       1  2012-11-06 06:26:45    1   \n",
       "3 -6.284559  53.298477      33428    1331       1  2012-11-06 06:28:43    1   \n",
       "4 -6.250914  53.375160      33633     119       1  2012-11-06 06:29:06    1   \n",
       "\n",
       "   Hour  Runtime Southbound  \n",
       "0     6        0      False  \n",
       "1     6       43       True  \n",
       "2     6       80      False  \n",
       "3     6      220       True  \n",
       "4     6      221      False  "
      ]
     },
     "execution_count": 12,
     "metadata": {},
     "output_type": "execute_result"
    }
   ],
   "source": [
    "linedata.head()"
   ]
  },
  {
   "cell_type": "markdown",
   "metadata": {},
   "source": [
    "# Tally JourneyPatternIDs based on first digit of journey pattern ID"
   ]
  },
  {
   "cell_type": "code",
   "execution_count": 13,
   "metadata": {
    "collapsed": false
   },
   "outputs": [],
   "source": [
    "#Split JourneyPatternID based on leading 1 or 0\n",
    "def jp_directions(value_counts):\n",
    "    oneway = 0\n",
    "    another = 0\n",
    "\n",
    "    for index in value_counts.index:\n",
    "        if (index<1000):\n",
    "            oneway += value_counts[index]\n",
    "        else:\n",
    "            another += value_counts[index]\n",
    "\n",
    "    return(oneway,another)"
   ]
  },
  {
   "cell_type": "code",
   "execution_count": 14,
   "metadata": {
    "collapsed": false
   },
   "outputs": [
    {
     "name": "stdout",
     "output_type": "stream",
     "text": [
      "112850 116268\n"
     ]
    }
   ],
   "source": [
    "#proof by approximate equality that first digit in JourneyPatternID corresponds to Direction\n",
    "a,b = jp_directions(linedata.JourneyPatternID.value_counts())\n",
    "print(a, b)"
   ]
  },
  {
   "cell_type": "code",
   "execution_count": 29,
   "metadata": {
    "collapsed": true
   },
   "outputs": [],
   "source": [
    "linedata['HumanTime'] = pd.to_datetime(linedata['HumanTime'])"
   ]
  },
  {
   "cell_type": "markdown",
   "metadata": {},
   "source": [
    "#### number of journey pattern ids should equal number of directions + variations on each direction"
   ]
  },
  {
   "cell_type": "code",
   "execution_count": 16,
   "metadata": {
    "collapsed": false
   },
   "outputs": [],
   "source": [
    "#Monday is 0, Sunday is 6\n",
    "def get_day(x):\n",
    "    if x.weekday() == 5:\n",
    "        return \"saturday\"\n",
    "    elif x.weekday() == 6:\n",
    "        return \"sunday\"\n",
    "    else:\n",
    "        return \"weekday\"\n",
    "    \n",
    "linedata[\"day\"] = linedata['HumanTime'].apply(get_day)  "
   ]
  },
  {
   "cell_type": "code",
   "execution_count": 17,
   "metadata": {
    "collapsed": false
   },
   "outputs": [],
   "source": [
    "# #service_type defined above @ static variables\n",
    "# #df of all busses of that line with that service type\n",
    "# service = linedata.loc[linedata['day'] == service_type]\n",
    "\n",
    "# print(\"service_type JourneyPatternIDs:\"+service_type)\n",
    "# service.JourneyPatternID.value_counts()"
   ]
  },
  {
   "cell_type": "markdown",
   "metadata": {},
   "source": [
    "## Find Time regularity in infrequent JourneyPatternIDs"
   ]
  },
  {
   "cell_type": "code",
   "execution_count": 18,
   "metadata": {
    "collapsed": false
   },
   "outputs": [],
   "source": [
    "#break by TimeFrame\n",
    "#break by JourneyPatternID\n",
    "#break by VehicleJourneyID\n",
    "#Check departure, subtract first lat and last lat\n",
    "\n",
    "journey_pattern_time_dict = {}\n",
    "\n",
    "time_frame_groups = linedata.groupby('TimeFrame')\n",
    "for time_frame_label, time_frame_df in time_frame_groups:\n",
    "\n",
    "    journey_pattern_groups = time_frame_df.groupby('JourneyPatternID')\n",
    "\n",
    "    for journey_pattern_label, journey_pattern_df in journey_pattern_groups:\n",
    "\n",
    "        vehicle_journey_groups = journey_pattern_df.groupby('VehicleJourneyID')\n",
    "\n",
    "        for vehicle_journey_label, vehicle_journey_df in vehicle_journey_groups:\n",
    "            #get first occurence of vehicleJourneyID\n",
    "            departure = vehicle_journey_df.HumanTime.iloc[0]\n",
    "            \n",
    "            if not journey_pattern_label in journey_pattern_time_dict:\n",
    "                journey_pattern_time_dict[journey_pattern_label] = [departure]\n",
    "            else:\n",
    "                 journey_pattern_time_dict[journey_pattern_label].append(departure)\n",
    "    "
   ]
  },
  {
   "cell_type": "markdown",
   "metadata": {},
   "source": [
    "## Import Timetable"
   ]
  },
  {
   "cell_type": "code",
   "execution_count": null,
   "metadata": {
    "collapsed": true
   },
   "outputs": [],
   "source": []
  },
  {
   "cell_type": "code",
   "execution_count": 43,
   "metadata": {
    "collapsed": true
   },
   "outputs": [],
   "source": [
    "timetable = pd.read_csv(\"bus_data/static_data/master_timetable.csv\")"
   ]
  },
  {
   "cell_type": "code",
   "execution_count": 44,
   "metadata": {
    "collapsed": false
   },
   "outputs": [],
   "source": [
    "#reassign columns to remove leading whitespace from variant column and name departure index\n",
    "timetable.columns = ['departure_index', 'variant', 'service', 'departure', 'direction', 'line']"
   ]
  },
  {
   "cell_type": "code",
   "execution_count": 45,
   "metadata": {
    "collapsed": false
   },
   "outputs": [],
   "source": [
    "# schedule = timetable.loc[(((timetable['line'] == line)&(timetable['direction'] == directions[0]))&(timetable['service'] == service))]\n",
    "# schedule.reset_index(inplace=True)\n",
    "\n",
    "schedule = timetable.loc[(timetable['line'] == line)&(timetable['service'] == service_type)]\n",
    "schedule.reset_index(inplace=True)"
   ]
  },
  {
   "cell_type": "code",
   "execution_count": 46,
   "metadata": {
    "collapsed": false
   },
   "outputs": [
    {
     "name": "stdout",
     "output_type": "stream",
     "text": [
      "83\n",
      "80\n"
     ]
    }
   ],
   "source": [
    "print(schedule.direction.value_counts()[0])\n",
    "print(schedule.direction.value_counts()[1])\n",
    "# print(\"number of northbound trips: \"+str(num_nbound))\n",
    "# print(\"number of southound trips: \"+str(num_sbound))"
   ]
  },
  {
   "cell_type": "code",
   "execution_count": 86,
   "metadata": {
    "collapsed": false
   },
   "outputs": [],
   "source": [
    "#make line letter uppercase\n",
    "timetable.line = [x.upper() for x in timetable.line]\n",
    "# timetable.line.value_counts()"
   ]
  },
  {
   "cell_type": "code",
   "execution_count": 47,
   "metadata": {
    "collapsed": false
   },
   "outputs": [
    {
     "data": {
      "text/plain": [
       "(130, 16)"
      ]
     },
     "execution_count": 47,
     "metadata": {},
     "output_type": "execute_result"
    }
   ],
   "source": [
    "# Derive Timetable\n",
    "time_frame_groups = linedata.groupby('TimeFrame')\n",
    "\n",
    "# for time_frame_label, time_frame_df in time_frame_groups:\n",
    "time_frame_df = time_frame_groups.get_group(\"2013-01-28\")\n",
    "\n",
    "    \n",
    "a = time_frame_df.drop_duplicates(\"VehicleJourneyID\", keep=\"first\")\n",
    "\n",
    "a[a.Southbound==True].shape\n",
    "   \n",
    "    \n",
    "    \n",
    "    \n",
    "    \n",
    "#     vehicle_journey_groups = journey_pattern_df.groupby('VehicleJourneyID')\n",
    "\n",
    "#     for vehicle_journey_label, vehicle_journey_df in vehicle_journey_groups:\n",
    "        \n",
    "        \n",
    "        \n",
    "\n",
    "#         journey_pattern_groups = time_frame_df.groupby('JourneyPatternID')\n",
    "\n",
    "#         for journey_pattern_label, journey_pattern_df in journey_pattern_groups:\n",
    "            \n",
    "#             print(journey_pattern_label)\n",
    "#             print(journey_pattern_df)\n",
    "            \n",
    "#             vehicle_journey_groups = journey_pattern_df.groupby('VehicleJourneyID')\n",
    "\n",
    "#             for vehicle_journey_label, vehicle_journey_df in vehicle_journey_groups:\n",
    "#                 #get first occurence of vehicleJourneyID\n",
    "#                 departure = vehicle_journey_df.HumanTime.iloc[0]\n",
    "\n",
    "#                 if not journey_pattern_label in journey_pattern_time_dict:\n",
    "#                     journey_pattern_time_dict[journey_pattern_label] = [departure]\n",
    "#                 else:\n",
    "#                      journey_pattern_time_dict[journey_pattern_label].append(departure)"
   ]
  },
  {
   "cell_type": "code",
   "execution_count": null,
   "metadata": {
    "collapsed": true
   },
   "outputs": [],
   "source": []
  },
  {
   "cell_type": "markdown",
   "metadata": {},
   "source": [
    "## Is There a Match?"
   ]
  },
  {
   "cell_type": "code",
   "execution_count": null,
   "metadata": {
    "collapsed": false
   },
   "outputs": [],
   "source": [
    "schedule.variant.value_counts()"
   ]
  },
  {
   "cell_type": "markdown",
   "metadata": {},
   "source": [
    "## Does the first digit of the JourneyPatternID accord with the derived southbound feature?"
   ]
  },
  {
   "cell_type": "code",
   "execution_count": null,
   "metadata": {
    "collapsed": true
   },
   "outputs": [],
   "source": []
  }
 ],
 "metadata": {
  "kernelspec": {
   "display_name": "Python 3",
   "language": "python",
   "name": "python3"
  },
  "language_info": {
   "codemirror_mode": {
    "name": "ipython",
    "version": 3
   },
   "file_extension": ".py",
   "mimetype": "text/x-python",
   "name": "python",
   "nbconvert_exporter": "python",
   "pygments_lexer": "ipython3",
   "version": "3.6.0"
  }
 },
 "nbformat": 4,
 "nbformat_minor": 2
}
