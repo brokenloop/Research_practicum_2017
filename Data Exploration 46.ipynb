{
 "cells": [
  {
   "cell_type": "code",
   "execution_count": 1,
   "metadata": {
    "collapsed": false
   },
   "outputs": [],
   "source": [
    "import pandas as pd\n",
    "import numpy as np\n",
    "import matplotlib.pyplot as plt\n",
    "import seaborn as sns\n",
    "import sklearn\n",
    "import statsmodels.formula.api as sm\n",
    "\n",
    "%matplotlib inline\n"
   ]
  },
  {
   "cell_type": "markdown",
   "metadata": {},
   "source": [
    "## Reading Data"
   ]
  },
  {
   "cell_type": "code",
   "execution_count": 31,
   "metadata": {
    "collapsed": false
   },
   "outputs": [],
   "source": [
    "df = pd.read_csv(\"bus_data/cleaned_data/line46.csv\", low_memory=False, header=None)\n",
    "df.columns = [\"Timestamp\", \"LineID\", \"Direction\", \"JourneyPatternID\", \"TimeFrame\", \n",
    "              \"VehicleJourneyID\", \"Operator\", \"Congestion\", \"LonWGS84\", \"LatWGS84\", \n",
    "              \"Delay\", \"BlockID\", \"VehicleID\", \"StopID\", \"AtStop\"]\n"
   ]
  },
  {
   "cell_type": "code",
   "execution_count": 3,
   "metadata": {
    "collapsed": false
   },
   "outputs": [
    {
     "data": {
      "text/plain": [
       "(3567679, 15)"
      ]
     },
     "execution_count": 3,
     "metadata": {},
     "output_type": "execute_result"
    }
   ],
   "source": [
    "df.shape\n"
   ]
  },
  {
   "cell_type": "code",
   "execution_count": 4,
   "metadata": {
    "collapsed": false
   },
   "outputs": [
    {
     "data": {
      "text/plain": [
       "Timestamp             int64\n",
       "LineID              float64\n",
       "Direction             int64\n",
       "JourneyPatternID     object\n",
       "TimeFrame            object\n",
       "VehicleJourneyID      int64\n",
       "Operator             object\n",
       "Congestion            int64\n",
       "LonWGS84            float64\n",
       "LatWGS84            float64\n",
       "Delay                 int64\n",
       "BlockID               int64\n",
       "VehicleID             int64\n",
       "StopID               object\n",
       "AtStop                int64\n",
       "dtype: object"
      ]
     },
     "execution_count": 4,
     "metadata": {},
     "output_type": "execute_result"
    }
   ],
   "source": [
    "df.dtypes"
   ]
  },
  {
   "cell_type": "markdown",
   "metadata": {},
   "source": [
    "## Cleaning Data"
   ]
  },
  {
   "cell_type": "code",
   "execution_count": 6,
   "metadata": {
    "collapsed": true
   },
   "outputs": [],
   "source": [
    "#Select all columns of type 'object'\n",
    "object_columns = df.select_dtypes(['object']).columns\n"
   ]
  },
  {
   "cell_type": "code",
   "execution_count": 7,
   "metadata": {
    "collapsed": true
   },
   "outputs": [],
   "source": [
    "#Convert selected columns to type 'category'\n",
    "for column in object_columns:\n",
    "    df[column] = df[column].astype('category')   "
   ]
  },
  {
   "cell_type": "code",
   "execution_count": 8,
   "metadata": {
    "collapsed": true
   },
   "outputs": [],
   "source": [
    "# Convert some features to categorical\n",
    "for column in ['LineID', 'VehicleJourneyID', 'Congestion', 'BlockID', 'VehicleID', 'AtStop']:\n",
    "    df[column] = df[column].astype('category')"
   ]
  },
  {
   "cell_type": "code",
   "execution_count": 9,
   "metadata": {
    "collapsed": false
   },
   "outputs": [],
   "source": [
    "# Convert Unix timestamp to datetime\n",
    "\n",
    "# Take uneccesary trailing zeroes off of unix timestamp. \n",
    "df['Timestamp'] = df['Timestamp'].apply(lambda x: x//1000000)\n",
    "\n",
    "# Convert the timestamp\n",
    "df['Timestamp'] = pd.to_datetime(df['Timestamp'], unit='s')\n",
    "\n"
   ]
  },
  {
   "cell_type": "code",
   "execution_count": 10,
   "metadata": {
    "collapsed": true
   },
   "outputs": [],
   "source": [
    "# Add day of week column\n",
    "df['Day'] = df['Timestamp'].dt.dayofweek"
   ]
  },
  {
   "cell_type": "code",
   "execution_count": 11,
   "metadata": {
    "collapsed": true
   },
   "outputs": [],
   "source": [
    "# Add hour of day column\n",
    "df['Hour'] = df['Timestamp'].dt.hour"
   ]
  },
  {
   "cell_type": "markdown",
   "metadata": {},
   "source": [
    "## Data Descriptions\n"
   ]
  },
  {
   "cell_type": "code",
   "execution_count": 32,
   "metadata": {
    "collapsed": false
   },
   "outputs": [
    {
     "data": {
      "text/html": [
       "<div>\n",
       "<table border=\"1\" class=\"dataframe\">\n",
       "  <thead>\n",
       "    <tr style=\"text-align: right;\">\n",
       "      <th></th>\n",
       "      <th>Timestamp</th>\n",
       "      <th>LineID</th>\n",
       "      <th>Direction</th>\n",
       "      <th>JourneyPatternID</th>\n",
       "      <th>TimeFrame</th>\n",
       "      <th>VehicleJourneyID</th>\n",
       "      <th>Operator</th>\n",
       "      <th>Congestion</th>\n",
       "      <th>LonWGS84</th>\n",
       "      <th>LatWGS84</th>\n",
       "      <th>Delay</th>\n",
       "      <th>BlockID</th>\n",
       "      <th>VehicleID</th>\n",
       "      <th>StopID</th>\n",
       "      <th>AtStop</th>\n",
       "    </tr>\n",
       "  </thead>\n",
       "  <tbody>\n",
       "    <tr>\n",
       "      <th>0</th>\n",
       "      <td>1352160000000000</td>\n",
       "      <td>46.0</td>\n",
       "      <td>0</td>\n",
       "      <td>046A1002</td>\n",
       "      <td>2012-11-05</td>\n",
       "      <td>7267</td>\n",
       "      <td>D2</td>\n",
       "      <td>0</td>\n",
       "      <td>-6.259093</td>\n",
       "      <td>53.345425</td>\n",
       "      <td>-1101</td>\n",
       "      <td>46004</td>\n",
       "      <td>36024</td>\n",
       "      <td>794</td>\n",
       "      <td>0</td>\n",
       "    </tr>\n",
       "    <tr>\n",
       "      <th>1</th>\n",
       "      <td>1352160004000000</td>\n",
       "      <td>46.0</td>\n",
       "      <td>0</td>\n",
       "      <td>046A1001</td>\n",
       "      <td>2012-11-05</td>\n",
       "      <td>7417</td>\n",
       "      <td>D2</td>\n",
       "      <td>0</td>\n",
       "      <td>-6.242417</td>\n",
       "      <td>53.326218</td>\n",
       "      <td>-413</td>\n",
       "      <td>46018</td>\n",
       "      <td>36019</td>\n",
       "      <td>804</td>\n",
       "      <td>0</td>\n",
       "    </tr>\n",
       "    <tr>\n",
       "      <th>2</th>\n",
       "      <td>1352160006000000</td>\n",
       "      <td>46.0</td>\n",
       "      <td>0</td>\n",
       "      <td>046A0001</td>\n",
       "      <td>2012-11-05</td>\n",
       "      <td>7254</td>\n",
       "      <td>D2</td>\n",
       "      <td>0</td>\n",
       "      <td>-6.195517</td>\n",
       "      <td>53.298882</td>\n",
       "      <td>0</td>\n",
       "      <td>46003</td>\n",
       "      <td>36025</td>\n",
       "      <td>2039</td>\n",
       "      <td>1</td>\n",
       "    </tr>\n",
       "    <tr>\n",
       "      <th>3</th>\n",
       "      <td>1352160008000000</td>\n",
       "      <td>46.0</td>\n",
       "      <td>0</td>\n",
       "      <td>046A0002</td>\n",
       "      <td>2012-11-05</td>\n",
       "      <td>7333</td>\n",
       "      <td>D2</td>\n",
       "      <td>0</td>\n",
       "      <td>-6.230650</td>\n",
       "      <td>53.317867</td>\n",
       "      <td>0</td>\n",
       "      <td>46010</td>\n",
       "      <td>36008</td>\n",
       "      <td>334</td>\n",
       "      <td>1</td>\n",
       "    </tr>\n",
       "    <tr>\n",
       "      <th>4</th>\n",
       "      <td>1352160010000000</td>\n",
       "      <td>46.0</td>\n",
       "      <td>0</td>\n",
       "      <td>00471001</td>\n",
       "      <td>2012-11-05</td>\n",
       "      <td>5401</td>\n",
       "      <td>D1</td>\n",
       "      <td>0</td>\n",
       "      <td>-6.224720</td>\n",
       "      <td>53.340553</td>\n",
       "      <td>-426</td>\n",
       "      <td>46020</td>\n",
       "      <td>33387</td>\n",
       "      <td>391</td>\n",
       "      <td>0</td>\n",
       "    </tr>\n",
       "    <tr>\n",
       "      <th>5</th>\n",
       "      <td>1352160010000000</td>\n",
       "      <td>46.0</td>\n",
       "      <td>0</td>\n",
       "      <td>046A0001</td>\n",
       "      <td>2012-11-05</td>\n",
       "      <td>7345</td>\n",
       "      <td>D2</td>\n",
       "      <td>0</td>\n",
       "      <td>-6.230783</td>\n",
       "      <td>53.317268</td>\n",
       "      <td>-1012</td>\n",
       "      <td>46011</td>\n",
       "      <td>36009</td>\n",
       "      <td>2035</td>\n",
       "      <td>0</td>\n",
       "    </tr>\n",
       "    <tr>\n",
       "      <th>6</th>\n",
       "      <td>1352160010000000</td>\n",
       "      <td>46.0</td>\n",
       "      <td>0</td>\n",
       "      <td>00470001</td>\n",
       "      <td>2012-11-05</td>\n",
       "      <td>5392</td>\n",
       "      <td>D1</td>\n",
       "      <td>0</td>\n",
       "      <td>-6.220209</td>\n",
       "      <td>53.258236</td>\n",
       "      <td>-825</td>\n",
       "      <td>46025</td>\n",
       "      <td>33526</td>\n",
       "      <td>3473</td>\n",
       "      <td>0</td>\n",
       "    </tr>\n",
       "    <tr>\n",
       "      <th>7</th>\n",
       "      <td>1352160012000000</td>\n",
       "      <td>46.0</td>\n",
       "      <td>0</td>\n",
       "      <td>046A0001</td>\n",
       "      <td>2012-11-05</td>\n",
       "      <td>7429</td>\n",
       "      <td>D1</td>\n",
       "      <td>0</td>\n",
       "      <td>-6.172080</td>\n",
       "      <td>53.274429</td>\n",
       "      <td>-89</td>\n",
       "      <td>46019</td>\n",
       "      <td>33540</td>\n",
       "      <td>2017</td>\n",
       "      <td>0</td>\n",
       "    </tr>\n",
       "    <tr>\n",
       "      <th>8</th>\n",
       "      <td>1352160023000000</td>\n",
       "      <td>46.0</td>\n",
       "      <td>0</td>\n",
       "      <td>046A1001</td>\n",
       "      <td>2012-11-05</td>\n",
       "      <td>7417</td>\n",
       "      <td>D2</td>\n",
       "      <td>0</td>\n",
       "      <td>-6.240850</td>\n",
       "      <td>53.325100</td>\n",
       "      <td>-413</td>\n",
       "      <td>46018</td>\n",
       "      <td>36019</td>\n",
       "      <td>804</td>\n",
       "      <td>0</td>\n",
       "    </tr>\n",
       "    <tr>\n",
       "      <th>9</th>\n",
       "      <td>1352160027000000</td>\n",
       "      <td>46.0</td>\n",
       "      <td>0</td>\n",
       "      <td>046A0001</td>\n",
       "      <td>2012-11-05</td>\n",
       "      <td>7254</td>\n",
       "      <td>D2</td>\n",
       "      <td>0</td>\n",
       "      <td>-6.199850</td>\n",
       "      <td>53.297733</td>\n",
       "      <td>0</td>\n",
       "      <td>46003</td>\n",
       "      <td>36025</td>\n",
       "      <td>2039</td>\n",
       "      <td>1</td>\n",
       "    </tr>\n",
       "  </tbody>\n",
       "</table>\n",
       "</div>"
      ],
      "text/plain": [
       "          Timestamp  LineID  Direction JourneyPatternID   TimeFrame  \\\n",
       "0  1352160000000000    46.0          0         046A1002  2012-11-05   \n",
       "1  1352160004000000    46.0          0         046A1001  2012-11-05   \n",
       "2  1352160006000000    46.0          0         046A0001  2012-11-05   \n",
       "3  1352160008000000    46.0          0         046A0002  2012-11-05   \n",
       "4  1352160010000000    46.0          0         00471001  2012-11-05   \n",
       "5  1352160010000000    46.0          0         046A0001  2012-11-05   \n",
       "6  1352160010000000    46.0          0         00470001  2012-11-05   \n",
       "7  1352160012000000    46.0          0         046A0001  2012-11-05   \n",
       "8  1352160023000000    46.0          0         046A1001  2012-11-05   \n",
       "9  1352160027000000    46.0          0         046A0001  2012-11-05   \n",
       "\n",
       "   VehicleJourneyID Operator  Congestion  LonWGS84   LatWGS84  Delay  BlockID  \\\n",
       "0              7267       D2           0 -6.259093  53.345425  -1101    46004   \n",
       "1              7417       D2           0 -6.242417  53.326218   -413    46018   \n",
       "2              7254       D2           0 -6.195517  53.298882      0    46003   \n",
       "3              7333       D2           0 -6.230650  53.317867      0    46010   \n",
       "4              5401       D1           0 -6.224720  53.340553   -426    46020   \n",
       "5              7345       D2           0 -6.230783  53.317268  -1012    46011   \n",
       "6              5392       D1           0 -6.220209  53.258236   -825    46025   \n",
       "7              7429       D1           0 -6.172080  53.274429    -89    46019   \n",
       "8              7417       D2           0 -6.240850  53.325100   -413    46018   \n",
       "9              7254       D2           0 -6.199850  53.297733      0    46003   \n",
       "\n",
       "   VehicleID StopID  AtStop  \n",
       "0      36024    794       0  \n",
       "1      36019    804       0  \n",
       "2      36025   2039       1  \n",
       "3      36008    334       1  \n",
       "4      33387    391       0  \n",
       "5      36009   2035       0  \n",
       "6      33526   3473       0  \n",
       "7      33540   2017       0  \n",
       "8      36019    804       0  \n",
       "9      36025   2039       1  "
      ]
     },
     "execution_count": 32,
     "metadata": {},
     "output_type": "execute_result"
    }
   ],
   "source": [
    "df.head(10)"
   ]
  },
  {
   "cell_type": "code",
   "execution_count": 12,
   "metadata": {
    "collapsed": false
   },
   "outputs": [
    {
     "data": {
      "text/html": [
       "<div>\n",
       "<table border=\"1\" class=\"dataframe\">\n",
       "  <thead>\n",
       "    <tr style=\"text-align: right;\">\n",
       "      <th></th>\n",
       "      <th>count</th>\n",
       "      <th>unique</th>\n",
       "      <th>top</th>\n",
       "      <th>freq</th>\n",
       "    </tr>\n",
       "  </thead>\n",
       "  <tbody>\n",
       "    <tr>\n",
       "      <th>LineID</th>\n",
       "      <td>3.56768e+06</td>\n",
       "      <td>1</td>\n",
       "      <td>46</td>\n",
       "      <td>3.56768e+06</td>\n",
       "    </tr>\n",
       "    <tr>\n",
       "      <th>JourneyPatternID</th>\n",
       "      <td>3567613</td>\n",
       "      <td>29</td>\n",
       "      <td>046A1001</td>\n",
       "      <td>1485024</td>\n",
       "    </tr>\n",
       "    <tr>\n",
       "      <th>TimeFrame</th>\n",
       "      <td>3567679</td>\n",
       "      <td>58</td>\n",
       "      <td>2012-11-23</td>\n",
       "      <td>77688</td>\n",
       "    </tr>\n",
       "    <tr>\n",
       "      <th>VehicleJourneyID</th>\n",
       "      <td>3567679</td>\n",
       "      <td>2997</td>\n",
       "      <td>6590</td>\n",
       "      <td>7326</td>\n",
       "    </tr>\n",
       "    <tr>\n",
       "      <th>Operator</th>\n",
       "      <td>3567679</td>\n",
       "      <td>8</td>\n",
       "      <td>D2</td>\n",
       "      <td>2269340</td>\n",
       "    </tr>\n",
       "    <tr>\n",
       "      <th>Congestion</th>\n",
       "      <td>3567679</td>\n",
       "      <td>2</td>\n",
       "      <td>0</td>\n",
       "      <td>3534258</td>\n",
       "    </tr>\n",
       "    <tr>\n",
       "      <th>BlockID</th>\n",
       "      <td>3567679</td>\n",
       "      <td>73</td>\n",
       "      <td>46010</td>\n",
       "      <td>166573</td>\n",
       "    </tr>\n",
       "    <tr>\n",
       "      <th>VehicleID</th>\n",
       "      <td>3567679</td>\n",
       "      <td>260</td>\n",
       "      <td>36010</td>\n",
       "      <td>94166</td>\n",
       "    </tr>\n",
       "    <tr>\n",
       "      <th>StopID</th>\n",
       "      <td>3567679</td>\n",
       "      <td>238</td>\n",
       "      <td>2039</td>\n",
       "      <td>349610</td>\n",
       "    </tr>\n",
       "    <tr>\n",
       "      <th>AtStop</th>\n",
       "      <td>3567679</td>\n",
       "      <td>2</td>\n",
       "      <td>0</td>\n",
       "      <td>2471883</td>\n",
       "    </tr>\n",
       "  </tbody>\n",
       "</table>\n",
       "</div>"
      ],
      "text/plain": [
       "                        count unique         top         freq\n",
       "LineID            3.56768e+06      1          46  3.56768e+06\n",
       "JourneyPatternID      3567613     29    046A1001      1485024\n",
       "TimeFrame             3567679     58  2012-11-23        77688\n",
       "VehicleJourneyID      3567679   2997        6590         7326\n",
       "Operator              3567679      8          D2      2269340\n",
       "Congestion            3567679      2           0      3534258\n",
       "BlockID               3567679     73       46010       166573\n",
       "VehicleID             3567679    260       36010        94166\n",
       "StopID                3567679    238        2039       349610\n",
       "AtStop                3567679      2           0      2471883"
      ]
     },
     "execution_count": 12,
     "metadata": {},
     "output_type": "execute_result"
    }
   ],
   "source": [
    "# Descriptive stats for categorical features\n",
    "df.select_dtypes(['category']).describe().T"
   ]
  },
  {
   "cell_type": "code",
   "execution_count": 13,
   "metadata": {
    "collapsed": false
   },
   "outputs": [
    {
     "data": {
      "text/html": [
       "<div>\n",
       "<table border=\"1\" class=\"dataframe\">\n",
       "  <thead>\n",
       "    <tr style=\"text-align: right;\">\n",
       "      <th></th>\n",
       "      <th>count</th>\n",
       "      <th>mean</th>\n",
       "      <th>std</th>\n",
       "      <th>min</th>\n",
       "      <th>25%</th>\n",
       "      <th>50%</th>\n",
       "      <th>75%</th>\n",
       "      <th>max</th>\n",
       "    </tr>\n",
       "  </thead>\n",
       "  <tbody>\n",
       "    <tr>\n",
       "      <th>Direction</th>\n",
       "      <td>3567679.0</td>\n",
       "      <td>0.000000</td>\n",
       "      <td>0.000000</td>\n",
       "      <td>0.000000</td>\n",
       "      <td>0.000000</td>\n",
       "      <td>0.000000</td>\n",
       "      <td>0.000000</td>\n",
       "      <td>0.000000</td>\n",
       "    </tr>\n",
       "    <tr>\n",
       "      <th>LonWGS84</th>\n",
       "      <td>3567679.0</td>\n",
       "      <td>-6.222446</td>\n",
       "      <td>0.052079</td>\n",
       "      <td>-6.387367</td>\n",
       "      <td>-6.260678</td>\n",
       "      <td>-6.230900</td>\n",
       "      <td>-6.182746</td>\n",
       "      <td>-6.100966</td>\n",
       "    </tr>\n",
       "    <tr>\n",
       "      <th>LatWGS84</th>\n",
       "      <td>3567679.0</td>\n",
       "      <td>53.319008</td>\n",
       "      <td>0.029663</td>\n",
       "      <td>53.181885</td>\n",
       "      <td>53.294632</td>\n",
       "      <td>53.319801</td>\n",
       "      <td>53.350033</td>\n",
       "      <td>53.423332</td>\n",
       "    </tr>\n",
       "    <tr>\n",
       "      <th>Delay</th>\n",
       "      <td>3567679.0</td>\n",
       "      <td>-144.848554</td>\n",
       "      <td>441.065986</td>\n",
       "      <td>-7632.000000</td>\n",
       "      <td>-362.000000</td>\n",
       "      <td>-71.000000</td>\n",
       "      <td>15.000000</td>\n",
       "      <td>8365.000000</td>\n",
       "    </tr>\n",
       "    <tr>\n",
       "      <th>Day</th>\n",
       "      <td>3567679.0</td>\n",
       "      <td>2.584571</td>\n",
       "      <td>1.786075</td>\n",
       "      <td>0.000000</td>\n",
       "      <td>1.000000</td>\n",
       "      <td>2.000000</td>\n",
       "      <td>4.000000</td>\n",
       "      <td>6.000000</td>\n",
       "    </tr>\n",
       "    <tr>\n",
       "      <th>Hour</th>\n",
       "      <td>3567679.0</td>\n",
       "      <td>13.869929</td>\n",
       "      <td>4.828944</td>\n",
       "      <td>0.000000</td>\n",
       "      <td>10.000000</td>\n",
       "      <td>14.000000</td>\n",
       "      <td>18.000000</td>\n",
       "      <td>23.000000</td>\n",
       "    </tr>\n",
       "  </tbody>\n",
       "</table>\n",
       "</div>"
      ],
      "text/plain": [
       "               count        mean         std          min         25%  \\\n",
       "Direction  3567679.0    0.000000    0.000000     0.000000    0.000000   \n",
       "LonWGS84   3567679.0   -6.222446    0.052079    -6.387367   -6.260678   \n",
       "LatWGS84   3567679.0   53.319008    0.029663    53.181885   53.294632   \n",
       "Delay      3567679.0 -144.848554  441.065986 -7632.000000 -362.000000   \n",
       "Day        3567679.0    2.584571    1.786075     0.000000    1.000000   \n",
       "Hour       3567679.0   13.869929    4.828944     0.000000   10.000000   \n",
       "\n",
       "                 50%        75%          max  \n",
       "Direction   0.000000   0.000000     0.000000  \n",
       "LonWGS84   -6.230900  -6.182746    -6.100966  \n",
       "LatWGS84   53.319801  53.350033    53.423332  \n",
       "Delay     -71.000000  15.000000  8365.000000  \n",
       "Day         2.000000   4.000000     6.000000  \n",
       "Hour       14.000000  18.000000    23.000000  "
      ]
     },
     "execution_count": 13,
     "metadata": {},
     "output_type": "execute_result"
    }
   ],
   "source": [
    "# Descriptive stats for continuous features\n",
    "df.describe().T"
   ]
  },
  {
   "cell_type": "code",
   "execution_count": null,
   "metadata": {
    "collapsed": true
   },
   "outputs": [],
   "source": []
  },
  {
   "cell_type": "code",
   "execution_count": null,
   "metadata": {
    "collapsed": true
   },
   "outputs": [],
   "source": []
  },
  {
   "cell_type": "markdown",
   "metadata": {
    "collapsed": true
   },
   "source": [
    "## Visualisations"
   ]
  },
  {
   "cell_type": "code",
   "execution_count": 14,
   "metadata": {
    "collapsed": true
   },
   "outputs": [],
   "source": [
    "df[\"Congestion\"] = df[column].astype('int64')"
   ]
  },
  {
   "cell_type": "code",
   "execution_count": 15,
   "metadata": {
    "collapsed": true
   },
   "outputs": [],
   "source": [
    "categorical_features = [\"LineID\", \"JourneyPatternID\", \"TimeFrame\", \"VehicleJourneyID\", \n",
    "                       \"Operator\", \"Congestion\", \"BlockID\", \"VehicleID\", \"StopID\", \"AtStop\"]\n",
    "continuous_features = [\"Timestamp\", \"LonWGS84\", \"LatWGS84\", \"Delay\", \"Congestion\"]"
   ]
  },
  {
   "cell_type": "code",
   "execution_count": 16,
   "metadata": {
    "collapsed": false
   },
   "outputs": [
    {
     "data": {
      "text/plain": [
       "(array([ 0.5,  1.5,  2.5,  3.5]), <a list of 4 Text xticklabel objects>)"
      ]
     },
     "execution_count": 16,
     "metadata": {},
     "output_type": "execute_result"
    },
    {
     "data": {
      "image/png": "[encoded data removed]",
      "text/plain": [
       "<matplotlib.figure.Figure at 0x118288400>"
      ]
     },
     "metadata": {},
     "output_type": "display_data"
    }
   ],
   "source": [
    "# Calculate correlation of all pairs of continuous features\n",
    "corr = df[continuous_features].corr()\n",
    "\n",
    "# Generate a mask for the upper triangle\n",
    "mask = np.zeros_like(corr, dtype=np.bool)\n",
    "mask[np.triu_indices_from(mask)] = True\n",
    "\n",
    "# Set up the matplotlib figure\n",
    "f, ax = plt.subplots(figsize=(11, 9))\n",
    "\n",
    "# Generate a custom colormap - blue and red\n",
    "cmap = sns.diverging_palette(220, 10, as_cmap=True)\n",
    "\n",
    "# Draw the heatmap with the mask and correct aspect ratio\n",
    "sns.heatmap(corr, annot=True, mask=mask, cmap=cmap, vmax=1, vmin=-1,\n",
    "            square=True, xticklabels=True, yticklabels=True,\n",
    "            linewidths=.5, cbar_kws={\"shrink\": .5}, ax=ax)\n",
    "plt.yticks(rotation = 0)\n",
    "plt.xticks(rotation = 45)"
   ]
  },
  {
   "cell_type": "code",
   "execution_count": 19,
   "metadata": {
    "collapsed": false
   },
   "outputs": [
    {
     "data": {
      "text/plain": [
       "<matplotlib.axes._subplots.AxesSubplot at 0x10bdc92b0>"
      ]
     },
     "execution_count": 19,
     "metadata": {},
     "output_type": "execute_result"
    },
    {
     "data": {
      "image/png": "[encoded data removed]",
      "text/plain": [
       "<matplotlib.figure.Figure at 0x1182d8518>"
      ]
     },
     "metadata": {},
     "output_type": "display_data"
    }
   ],
   "source": [
    "df['Congestion'].value_counts().plot(kind='bar')"
   ]
  },
  {
   "cell_type": "code",
   "execution_count": 20,
   "metadata": {
    "collapsed": false
   },
   "outputs": [
    {
     "data": {
      "text/plain": [
       "<matplotlib.axes._subplots.AxesSubplot at 0x10be61438>"
      ]
     },
     "execution_count": 20,
     "metadata": {},
     "output_type": "execute_result"
    },
    {
     "data": {
      "image/png": "[encoded data removed]",
      "text/plain": [
       "<matplotlib.figure.Figure at 0x118523a20>"
      ]
     },
     "metadata": {},
     "output_type": "display_data"
    }
   ],
   "source": [
    "df[\"Delay\"].hist(figsize=(10, 5), bins=100, range=[-2000, 2000])"
   ]
  },
  {
   "cell_type": "code",
   "execution_count": 21,
   "metadata": {
    "collapsed": false
   },
   "outputs": [
    {
     "data": {
      "text/plain": [
       "<matplotlib.axes._subplots.AxesSubplot at 0x118b0fe80>"
      ]
     },
     "execution_count": 21,
     "metadata": {},
     "output_type": "execute_result"
    },
    {
     "data": {
      "image/png": "[encoded data removed]",
      "text/plain": [
       "<matplotlib.figure.Figure at 0x118b0feb8>"
      ]
     },
     "metadata": {},
     "output_type": "display_data"
    }
   ],
   "source": [
    "plt.figure(figsize=(10, 10))\n",
    "df[\"Delay\"].plot(kind='box')"
   ]
  },
  {
   "cell_type": "code",
   "execution_count": 24,
   "metadata": {
    "collapsed": false
   },
   "outputs": [],
   "source": [
    "groups = df.groupby([df[\"Timestamp\"].dt.dayofweek, df[\"Timestamp\"].dt.hour])[\"Delay\"].mean()"
   ]
  },
  {
   "cell_type": "code",
   "execution_count": 26,
   "metadata": {
    "collapsed": false
   },
   "outputs": [
    {
     "data": {
      "text/plain": [
       "[<matplotlib.text.Text at 0x1420a6b38>,\n",
       " <matplotlib.text.Text at 0x14209c978>,\n",
       " <matplotlib.text.Text at 0x1184628d0>,\n",
       " <matplotlib.text.Text at 0x1184683c8>,\n",
       " <matplotlib.text.Text at 0x118468e80>,\n",
       " <matplotlib.text.Text at 0x11846e978>,\n",
       " <matplotlib.text.Text at 0x118476a90>,\n",
       " <matplotlib.text.Text at 0x11846e588>,\n",
       " <matplotlib.text.Text at 0x118476550>,\n",
       " <matplotlib.text.Text at 0x118480470>,\n",
       " <matplotlib.text.Text at 0x11848b0f0>,\n",
       " <matplotlib.text.Text at 0x11848bba8>,\n",
       " <matplotlib.text.Text at 0x11848f6a0>,\n",
       " <matplotlib.text.Text at 0x118497198>,\n",
       " <matplotlib.text.Text at 0x118497c50>,\n",
       " <matplotlib.text.Text at 0x11849c748>,\n",
       " <matplotlib.text.Text at 0x1184a3240>,\n",
       " <matplotlib.text.Text at 0x1184a3cf8>,\n",
       " <matplotlib.text.Text at 0x1184a97f0>,\n",
       " <matplotlib.text.Text at 0x1184ae2e8>,\n",
       " <matplotlib.text.Text at 0x1184aeda0>,\n",
       " <matplotlib.text.Text at 0x1184b8898>,\n",
       " <matplotlib.text.Text at 0x1184bc390>,\n",
       " <matplotlib.text.Text at 0x1184bce48>]"
      ]
     },
     "execution_count": 26,
     "metadata": {},
     "output_type": "execute_result"
    },
    {
     "data": {
      "image/png": "[encoded data removed]",
      "text/plain": [
       "<matplotlib.figure.Figure at 0x118ae05f8>"
      ]
     },
     "metadata": {},
     "output_type": "display_data"
    }
   ],
   "source": [
    "hourly_delay = df.groupby(['Hour'])[\"Delay\"].mean().plot(figsize=(15,5))\n",
    "\n",
    "hourly_delay.set(xlabel=\"Time of Day\", ylabel=\"Delay\")\n",
    "hourly_delay.set_xticks([x for x in range(24)])\n",
    "hourly_delay.set_xticklabels([x for x in range(24)])"
   ]
  },
  {
   "cell_type": "code",
   "execution_count": 27,
   "metadata": {
    "collapsed": false
   },
   "outputs": [
    {
     "data": {
      "text/plain": [
       "[<matplotlib.text.Text at 0x118476be0>, <matplotlib.text.Text at 0x1184ae7f0>]"
      ]
     },
     "execution_count": 27,
     "metadata": {},
     "output_type": "execute_result"
    },
    {
     "data": {
      "image/png": "[encoded data removed]",
      "text/plain": [
       "<matplotlib.figure.Figure at 0x11848f208>"
      ]
     },
     "metadata": {},
     "output_type": "display_data"
    }
   ],
   "source": [
    "hourly_delay = df.groupby(['Hour'])[\"Delay\"].mean().plot(figsize=(15,5), kind='bar')\n",
    "\n",
    "hourly_delay.set(xlabel=\"Time of Day\", ylabel=\"Delay (seconds)\")\n",
    "\n",
    "# plt.savefig(\"hourly_delay_bar.png\")"
   ]
  },
  {
   "cell_type": "code",
   "execution_count": 28,
   "metadata": {
    "collapsed": false
   },
   "outputs": [],
   "source": [
    "days = df.groupby([\"Day\"])\n"
   ]
  },
  {
   "cell_type": "code",
   "execution_count": 38,
   "metadata": {
    "collapsed": false
   },
   "outputs": [
    {
     "data": {
      "image/png": "[encoded data removed]",
      "text/plain": [
       "<matplotlib.figure.Figure at 0x119907940>"
      ]
     },
     "metadata": {},
     "output_type": "display_data"
    }
   ],
   "source": [
    "for key, day in days:\n",
    "    \n",
    "    hours = day.groupby([\"Hour\"])[\"Delay\"].mean().plot()\n"
   ]
  },
  {
   "cell_type": "code",
   "execution_count": null,
   "metadata": {
    "collapsed": true
   },
   "outputs": [],
   "source": []
  },
  {
   "cell_type": "code",
   "execution_count": null,
   "metadata": {
    "collapsed": true
   },
   "outputs": [],
   "source": []
  },
  {
   "cell_type": "code",
   "execution_count": null,
   "metadata": {
    "collapsed": true
   },
   "outputs": [],
   "source": []
  }
 ],
 "metadata": {
  "kernelspec": {
   "display_name": "Python 3",
   "language": "python",
   "name": "python3"
  },
  "language_info": {
   "codemirror_mode": {
    "name": "ipython",
    "version": 3
   },
   "file_extension": ".py",
   "mimetype": "text/x-python",
   "name": "python",
   "nbconvert_exporter": "python",
   "pygments_lexer": "ipython3",
   "version": "3.6.0"
  }
 },
 "nbformat": 4,
 "nbformat_minor": 2
}
