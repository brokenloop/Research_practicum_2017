{
 "cells": [
  {
   "cell_type": "code",
   "execution_count": 6,
   "metadata": {
    "collapsed": true
   },
   "outputs": [],
   "source": [
    "import pandas as pd\n",
    "import os"
   ]
  },
  {
   "cell_type": "code",
   "execution_count": 7,
   "metadata": {
    "collapsed": false
   },
   "outputs": [],
   "source": [
    "def pull_data(readfile, line_id):\n",
    "    \"\"\"  This function opens a file (filename), pulls out the rows for line_id, and returns \n",
    "        a dataframe containing only these rows\n",
    "    \"\"\"\n",
    "    \n",
    "    df = pd.read_csv(readfile, low_memory=False, header=None)\n",
    "    df.columns = [\"Timestamp\", \"LineID\", \"Direction\", \"JourneyPatternID\", \"TimeFrame\", \n",
    "                  \"VehicleJourneyID\", \"Operator\", \"Congestion\", \"LonWGS84\", \"LatWGS84\", \n",
    "                  \"Delay\", \"BlockID\", \"VehicleID\", \"StopID\", \"AtStop\"]\n",
    "    \n",
    "    #Select all columns of type 'object'\n",
    "    object_columns = df.select_dtypes(['object']).columns\n",
    "    \n",
    "    #Convert selected columns to type 'category'\n",
    "    for column in object_columns:\n",
    "        df[column] = df[column].astype('category') \n",
    "        \n",
    "    # Convert some features to categorical\n",
    "    for column in ['LineID', 'VehicleJourneyID', 'Congestion', 'BlockID', 'VehicleID', 'AtStop']:\n",
    "        df[column] = df[column].astype('category')\n",
    "    \n",
    "    # not sure exactly why I need to check both string/int versions of LineID\n",
    "    # In some of the files LineID first shows up as a float64, in others as an object\n",
    "    # This seems to affect how LineID can be accessed once it's cast to a category\n",
    "    line_id_str = str(line_id)\n",
    "\n",
    "    linedata = df[(df.LineID == line_id)|(df.LineID == str(line_id))]\n",
    "        \n",
    "    return linedata"
   ]
  },
  {
   "cell_type": "code",
   "execution_count": 8,
   "metadata": {
    "collapsed": true
   },
   "outputs": [],
   "source": [
    "def insert_into_file(df, writefile):\n",
    "    \"\"\"  This function writes a dataframe (df) to a file (writefile),\n",
    "        creating that file if it doesn't exist.\n",
    "    \"\"\"\n",
    "    try:\n",
    "        with open(writefile, 'a') as f:\n",
    "            df.to_csv(f, header=False, index=False)\n",
    "    except IOError:\n",
    "        with open(writefile, 'w+') as f:\n",
    "            df.to_csv(f, header=False, index=False)"
   ]
  },
  {
   "cell_type": "code",
   "execution_count": 9,
   "metadata": {
    "collapsed": true
   },
   "outputs": [],
   "source": [
    "def main(directory, line_id, writefile):\n",
    "    \"\"\"  This function loops through all csv files in specified directory\n",
    "        It then pulls all of the rows for the specified line, and inserts these into a file (writefile)\n",
    "    \"\"\"\n",
    "    for readfile in os.listdir(directory):\n",
    "        if readfile.endswith(\".csv\"): \n",
    "            readfile = directory + \"/\" + readfile\n",
    "            print(\"Reading\", readfile)\n",
    "            df = pull_data(readfile, line_id)\n",
    "            print(\"Writing to\", writefile, \"...\")\n",
    "            insert_into_file(df, writefile)\n",
    "            print()\n",
    "    print(\"Finished!\")"
   ]
  },
  {
   "cell_type": "code",
   "execution_count": 10,
   "metadata": {
    "collapsed": false
   },
   "outputs": [
    {
     "name": "stdout",
     "output_type": "stream",
     "text": [
      "Reading bus_data/Dcc/siri.20121106.csv\n"
     ]
    },
    {
     "name": "stdout",
     "output_type": "stream",
     "text": [
      "Writing to cleaned_data/line15.csv ...\n"
     ]
    },
    {
     "ename": "FileNotFoundError",
     "evalue": "[Errno 2] No such file or directory: 'cleaned_data/line15.csv'",
     "traceback": [
      "\u001b[0;31m---------------------------------------------------------------------------\u001b[0m",
      "\u001b[0;31mFileNotFoundError\u001b[0m                         Traceback (most recent call last)",
      "\u001b[0;32m<ipython-input-8-332f6774bbe1>\u001b[0m in \u001b[0;36minsert_into_file\u001b[0;34m(df, writefile)\u001b[0m\n\u001b[1;32m      5\u001b[0m     \u001b[1;32mtry\u001b[0m\u001b[1;33m:\u001b[0m\u001b[1;33m\u001b[0m\u001b[0m\n\u001b[0;32m----> 6\u001b[0;31m         \u001b[1;32mwith\u001b[0m \u001b[0mopen\u001b[0m\u001b[1;33m(\u001b[0m\u001b[0mwritefile\u001b[0m\u001b[1;33m,\u001b[0m \u001b[1;34m'a'\u001b[0m\u001b[1;33m)\u001b[0m \u001b[1;32mas\u001b[0m \u001b[0mf\u001b[0m\u001b[1;33m:\u001b[0m\u001b[1;33m\u001b[0m\u001b[0m\n\u001b[0m\u001b[1;32m      7\u001b[0m             \u001b[0mdf\u001b[0m\u001b[1;33m.\u001b[0m\u001b[0mto_csv\u001b[0m\u001b[1;33m(\u001b[0m\u001b[0mf\u001b[0m\u001b[1;33m,\u001b[0m \u001b[0mheader\u001b[0m\u001b[1;33m=\u001b[0m\u001b[1;32mFalse\u001b[0m\u001b[1;33m,\u001b[0m \u001b[0mindex\u001b[0m\u001b[1;33m=\u001b[0m\u001b[1;32mFalse\u001b[0m\u001b[1;33m)\u001b[0m\u001b[1;33m\u001b[0m\u001b[0m\n",
      "\u001b[0;31mFileNotFoundError\u001b[0m: [Errno 2] No such file or directory: 'cleaned_data/line15.csv'",
      "\nDuring handling of the above exception, another exception occurred:\n",
      "\u001b[0;31mFileNotFoundError\u001b[0m                         Traceback (most recent call last)",
      "\u001b[0;32m<ipython-input-10-6229f86d4a45>\u001b[0m in \u001b[0;36m<module>\u001b[0;34m()\u001b[0m\n\u001b[0;32m----> 1\u001b[0;31m \u001b[0mmain\u001b[0m\u001b[1;33m(\u001b[0m\u001b[1;34m\"bus_data/Dcc\"\u001b[0m\u001b[1;33m,\u001b[0m \u001b[1;36m15\u001b[0m\u001b[1;33m,\u001b[0m \u001b[1;34m\"cleaned_data/line15.csv\"\u001b[0m\u001b[1;33m)\u001b[0m\u001b[1;33m\u001b[0m\u001b[0m\n\u001b[0m",
      "\u001b[0;32m<ipython-input-9-31f9faef7605>\u001b[0m in \u001b[0;36mmain\u001b[0;34m(directory, line_id, writefile)\u001b[0m\n\u001b[1;32m      9\u001b[0m             \u001b[0mdf\u001b[0m \u001b[1;33m=\u001b[0m \u001b[0mpull_data\u001b[0m\u001b[1;33m(\u001b[0m\u001b[0mreadfile\u001b[0m\u001b[1;33m,\u001b[0m \u001b[0mline_id\u001b[0m\u001b[1;33m)\u001b[0m\u001b[1;33m\u001b[0m\u001b[0m\n\u001b[1;32m     10\u001b[0m             \u001b[0mprint\u001b[0m\u001b[1;33m(\u001b[0m\u001b[1;34m\"Writing to\"\u001b[0m\u001b[1;33m,\u001b[0m \u001b[0mwritefile\u001b[0m\u001b[1;33m,\u001b[0m \u001b[1;34m\"...\"\u001b[0m\u001b[1;33m)\u001b[0m\u001b[1;33m\u001b[0m\u001b[0m\n\u001b[0;32m---> 11\u001b[0;31m             \u001b[0minsert_into_file\u001b[0m\u001b[1;33m(\u001b[0m\u001b[0mdf\u001b[0m\u001b[1;33m,\u001b[0m \u001b[0mwritefile\u001b[0m\u001b[1;33m)\u001b[0m\u001b[1;33m\u001b[0m\u001b[0m\n\u001b[0m\u001b[1;32m     12\u001b[0m             \u001b[0mprint\u001b[0m\u001b[1;33m(\u001b[0m\u001b[1;33m)\u001b[0m\u001b[1;33m\u001b[0m\u001b[0m\n\u001b[1;32m     13\u001b[0m     \u001b[0mprint\u001b[0m\u001b[1;33m(\u001b[0m\u001b[1;34m\"Finished!\"\u001b[0m\u001b[1;33m)\u001b[0m\u001b[1;33m\u001b[0m\u001b[0m\n",
      "\u001b[0;32m<ipython-input-8-332f6774bbe1>\u001b[0m in \u001b[0;36minsert_into_file\u001b[0;34m(df, writefile)\u001b[0m\n\u001b[1;32m      7\u001b[0m             \u001b[0mdf\u001b[0m\u001b[1;33m.\u001b[0m\u001b[0mto_csv\u001b[0m\u001b[1;33m(\u001b[0m\u001b[0mf\u001b[0m\u001b[1;33m,\u001b[0m \u001b[0mheader\u001b[0m\u001b[1;33m=\u001b[0m\u001b[1;32mFalse\u001b[0m\u001b[1;33m,\u001b[0m \u001b[0mindex\u001b[0m\u001b[1;33m=\u001b[0m\u001b[1;32mFalse\u001b[0m\u001b[1;33m)\u001b[0m\u001b[1;33m\u001b[0m\u001b[0m\n\u001b[1;32m      8\u001b[0m     \u001b[1;32mexcept\u001b[0m \u001b[0mIOError\u001b[0m\u001b[1;33m:\u001b[0m\u001b[1;33m\u001b[0m\u001b[0m\n\u001b[0;32m----> 9\u001b[0;31m         \u001b[1;32mwith\u001b[0m \u001b[0mopen\u001b[0m\u001b[1;33m(\u001b[0m\u001b[0mwritefile\u001b[0m\u001b[1;33m,\u001b[0m \u001b[1;34m'w+'\u001b[0m\u001b[1;33m)\u001b[0m \u001b[1;32mas\u001b[0m \u001b[0mf\u001b[0m\u001b[1;33m:\u001b[0m\u001b[1;33m\u001b[0m\u001b[0m\n\u001b[0m\u001b[1;32m     10\u001b[0m             \u001b[0mdf\u001b[0m\u001b[1;33m.\u001b[0m\u001b[0mto_csv\u001b[0m\u001b[1;33m(\u001b[0m\u001b[0mf\u001b[0m\u001b[1;33m,\u001b[0m \u001b[0mheader\u001b[0m\u001b[1;33m=\u001b[0m\u001b[1;32mFalse\u001b[0m\u001b[1;33m,\u001b[0m \u001b[0mindex\u001b[0m\u001b[1;33m=\u001b[0m\u001b[1;32mFalse\u001b[0m\u001b[1;33m)\u001b[0m\u001b[1;33m\u001b[0m\u001b[0m\n",
      "\u001b[0;31mFileNotFoundError\u001b[0m: [Errno 2] No such file or directory: 'cleaned_data/line15.csv'"
     ],
     "output_type": "error"
    }
   ],
   "source": [
    "main(\"bus_data/Dcc\", 15, \"cleaned_data/line15.csv\")"
   ]
  },
  {
   "cell_type": "code",
   "execution_count": 157,
   "metadata": {
    "collapsed": false
   },
   "outputs": [
    {
     "name": "stdout",
     "output_type": "stream",
     "text": [
      "Reading bus_data/Sir/siri.20130101.csv\n",
      "Writing to cleaned_data/line15.csv ...\n",
      "\n",
      "Reading bus_data/Sir/siri.20130102.csv\n",
      "Writing to cleaned_data/line15.csv ...\n",
      "\n",
      "Reading bus_data/Sir/siri.20130103.csv\n",
      "Writing to cleaned_data/line15.csv ...\n",
      "\n",
      "Reading bus_data/Sir/siri.20130104.csv\n",
      "Writing to cleaned_data/line15.csv ...\n",
      "\n",
      "Reading bus_data/Sir/siri.20130105.csv\n",
      "Writing to cleaned_data/line15.csv ...\n",
      "\n",
      "Reading bus_data/Sir/siri.20130106.csv\n",
      "Writing to cleaned_data/line15.csv ...\n",
      "\n",
      "Reading bus_data/Sir/siri.20130107.csv\n",
      "Writing to cleaned_data/line15.csv ...\n",
      "\n",
      "Reading bus_data/Sir/siri.20130108.csv\n",
      "Writing to cleaned_data/line15.csv ...\n",
      "\n",
      "Reading bus_data/Sir/siri.20130109.csv\n",
      "Writing to cleaned_data/line15.csv ...\n",
      "\n",
      "Reading bus_data/Sir/siri.20130110.csv\n",
      "Writing to cleaned_data/line15.csv ...\n",
      "\n",
      "Reading bus_data/Sir/siri.20130111.csv\n",
      "Writing to cleaned_data/line15.csv ...\n",
      "\n",
      "Reading bus_data/Sir/siri.20130112.csv\n",
      "Writing to cleaned_data/line15.csv ...\n",
      "\n",
      "Reading bus_data/Sir/siri.20130113.csv\n",
      "Writing to cleaned_data/line15.csv ...\n",
      "\n",
      "Reading bus_data/Sir/siri.20130114.csv\n",
      "Writing to cleaned_data/line15.csv ...\n",
      "\n",
      "Reading bus_data/Sir/siri.20130115.csv\n",
      "Writing to cleaned_data/line15.csv ...\n",
      "\n",
      "Reading bus_data/Sir/siri.20130116.csv\n",
      "Writing to cleaned_data/line15.csv ...\n",
      "\n",
      "Reading bus_data/Sir/siri.20130117.csv\n",
      "Writing to cleaned_data/line15.csv ...\n",
      "\n",
      "Reading bus_data/Sir/siri.20130118.csv\n",
      "Writing to cleaned_data/line15.csv ...\n",
      "\n",
      "Reading bus_data/Sir/siri.20130119.csv\n",
      "Writing to cleaned_data/line15.csv ...\n",
      "\n",
      "Reading bus_data/Sir/siri.20130120.csv\n",
      "Writing to cleaned_data/line15.csv ...\n",
      "\n",
      "Reading bus_data/Sir/siri.20130121.csv\n",
      "Writing to cleaned_data/line15.csv ...\n",
      "\n",
      "Reading bus_data/Sir/siri.20130122.csv\n",
      "Writing to cleaned_data/line15.csv ...\n",
      "\n",
      "Reading bus_data/Sir/siri.20130123.csv\n",
      "Writing to cleaned_data/line15.csv ...\n",
      "\n",
      "Reading bus_data/Sir/siri.20130124.csv\n",
      "Writing to cleaned_data/line15.csv ...\n",
      "\n",
      "Reading bus_data/Sir/siri.20130125.csv\n",
      "Writing to cleaned_data/line15.csv ...\n",
      "\n",
      "Reading bus_data/Sir/siri.20130126.csv\n",
      "Writing to cleaned_data/line15.csv ...\n",
      "\n",
      "Reading bus_data/Sir/siri.20130127.csv\n",
      "Writing to cleaned_data/line15.csv ...\n",
      "\n",
      "Reading bus_data/Sir/siri.20130128.csv\n",
      "Writing to cleaned_data/line15.csv ...\n",
      "\n",
      "Reading bus_data/Sir/siri.20130129.csv\n",
      "Writing to cleaned_data/line15.csv ...\n",
      "\n",
      "Reading bus_data/Sir/siri.20130130.csv\n",
      "Writing to cleaned_data/line15.csv ...\n",
      "\n",
      "Reading bus_data/Sir/siri.20130131.csv\n",
      "Writing to cleaned_data/line15.csv ...\n",
      "\n",
      "Finished!\n"
     ]
    }
   ],
   "source": [
    "main(\"bus_data/Sir\", 15, \"cleaned_data/line15.csv\")"
   ]
  },
  {
   "cell_type": "code",
   "execution_count": null,
   "metadata": {
    "collapsed": true
   },
   "outputs": [],
   "source": [
    ""
   ]
  },
  {
   "cell_type": "code",
   "execution_count": null,
   "metadata": {
    "collapsed": true
   },
   "outputs": [],
   "source": [
    ""
   ]
  },
  {
   "cell_type": "code",
   "execution_count": null,
   "metadata": {
    "collapsed": true
   },
   "outputs": [],
   "source": [
    ""
   ]
  },
  {
   "cell_type": "code",
   "execution_count": null,
   "metadata": {
    "collapsed": true
   },
   "outputs": [],
   "source": [
    ""
   ]
  },
  {
   "cell_type": "code",
   "execution_count": null,
   "metadata": {
    "collapsed": true
   },
   "outputs": [],
   "source": [
    ""
   ]
  }
 ],
 "metadata": {
  "kernelspec": {
   "display_name": "Python 3",
   "language": "python",
   "name": "python3"
  },
  "language_info": {
   "codemirror_mode": {
    "name": "ipython",
    "version": 3.0
   },
   "file_extension": ".py",
   "mimetype": "text/x-python",
   "name": "python",
   "nbconvert_exporter": "python",
   "pygments_lexer": "ipython3",
   "version": "3.6.0"
  }
 },
 "nbformat": 4,
 "nbformat_minor": 0
}