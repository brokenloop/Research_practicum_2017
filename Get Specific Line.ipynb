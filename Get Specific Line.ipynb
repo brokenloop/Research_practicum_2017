{
 "cells": [
  {
   "cell_type": "code",
   "execution_count": 6,
   "metadata": {
    "collapsed": true
   },
   "outputs": [],
   "source": [
    "import pandas as pd\n",
    "import os"
   ]
  },
  {
   "cell_type": "code",
   "execution_count": 7,
   "metadata": {
    "collapsed": false
   },
   "outputs": [],
   "source": [
    "def pull_data(readfile, line_id):\n",
    "    \"\"\"  This function opens a file (filename), pulls out the rows for line_id, and returns \n",
    "        a dataframe containing only these rows\n",
    "    \"\"\"\n",
    "    \n",
    "    df = pd.read_csv(readfile, low_memory=False, header=None)\n",
    "    df.columns = [\"Timestamp\", \"LineID\", \"Direction\", \"JourneyPatternID\", \"TimeFrame\", \n",
    "                  \"VehicleJourneyID\", \"Operator\", \"Congestion\", \"LonWGS84\", \"LatWGS84\", \n",
    "                  \"Delay\", \"BlockID\", \"VehicleID\", \"StopID\", \"AtStop\"]\n",
    "    \n",
    "    # not sure exactly why I need to check both string/int versions of LineID\n",
    "    # In some of the files LineID first shows up as a float64, in others as an object\n",
    "    # This seems to affect how LineID can be accessed once it's cast to a category\n",
    "    line_id_str = str(line_id)\n",
    "\n",
    "    linedata = df[(df.LineID == line_id)|(df.LineID == str(line_id))]\n",
    "        \n",
    "    return linedata"
   ]
  },
  {
   "cell_type": "code",
   "execution_count": 8,
   "metadata": {
    "collapsed": true
   },
   "outputs": [],
   "source": [
    "def insert_into_file(df, writefile):\n",
    "    \"\"\"  This function writes a dataframe (df) to a file (writefile),\n",
    "        creating that file if it doesn't exist.\n",
    "    \"\"\"\n",
    "    try:\n",
    "        with open(writefile, 'a') as f:\n",
    "            df.to_csv(f, header=False, index=False)\n",
    "    except IOError:\n",
    "        with open(writefile, 'w+') as f:\n",
    "            df.to_csv(f, header=False, index=False)"
   ]
  },
  {
   "cell_type": "code",
   "execution_count": 9,
   "metadata": {
    "collapsed": true
   },
   "outputs": [],
   "source": [
    "def main(directory, line_id, writefile):\n",
    "    \"\"\"  This function loops through all csv files in specified directory\n",
    "        It then pulls all of the rows for the specified line, and inserts these into a file (writefile)\n",
    "    \"\"\"\n",
    "    for readfile in os.listdir(directory):\n",
    "        if readfile.endswith(\".csv\"): \n",
    "            readfile = directory + \"/\" + readfile\n",
    "            print(\"Reading\", readfile)\n",
    "            df = pull_data(readfile, line_id)\n",
    "            print(\"Writing to\", writefile, \"...\")\n",
    "            insert_into_file(df, writefile)\n",
    "            print()\n",
    "    print(\"Finished!\")"
   ]
  },
  {
   "cell_type": "code",
   "execution_count": 10,
   "metadata": {
    "collapsed": false
   },
   "outputs": [
    {
     "name": "stdout",
     "output_type": "stream",
     "text": [
      "Reading bus_data/Dcc/siri.20121106.csv\n",
      "Writing to bus_data/cleaned_data/line46.csv ...\n",
      "\n",
      "Reading bus_data/Dcc/siri.20121107.csv\n",
      "Writing to bus_data/cleaned_data/line46.csv ...\n",
      "\n",
      "Reading bus_data/Dcc/siri.20121108.csv\n",
      "Writing to bus_data/cleaned_data/line46.csv ...\n",
      "\n",
      "Reading bus_data/Dcc/siri.20121109.csv\n",
      "Writing to bus_data/cleaned_data/line46.csv ...\n",
      "\n",
      "Reading bus_data/Dcc/siri.20121110.csv\n",
      "Writing to bus_data/cleaned_data/line46.csv ...\n",
      "\n",
      "Reading bus_data/Dcc/siri.20121111.csv\n",
      "Writing to bus_data/cleaned_data/line46.csv ...\n",
      "\n",
      "Reading bus_data/Dcc/siri.20121112.csv\n",
      "Writing to bus_data/cleaned_data/line46.csv ...\n",
      "\n",
      "Reading bus_data/Dcc/siri.20121113.csv\n",
      "Writing to bus_data/cleaned_data/line46.csv ...\n",
      "\n",
      "Reading bus_data/Dcc/siri.20121114.csv\n",
      "Writing to bus_data/cleaned_data/line46.csv ...\n",
      "\n",
      "Reading bus_data/Dcc/siri.20121115.csv\n",
      "Writing to bus_data/cleaned_data/line46.csv ...\n",
      "\n",
      "Reading bus_data/Dcc/siri.20121116.csv\n",
      "Writing to bus_data/cleaned_data/line46.csv ...\n",
      "\n",
      "Reading bus_data/Dcc/siri.20121117.csv\n",
      "Writing to bus_data/cleaned_data/line46.csv ...\n",
      "\n",
      "Reading bus_data/Dcc/siri.20121118.csv\n",
      "Writing to bus_data/cleaned_data/line46.csv ...\n",
      "\n",
      "Reading bus_data/Dcc/siri.20121119.csv\n",
      "Writing to bus_data/cleaned_data/line46.csv ...\n",
      "\n",
      "Reading bus_data/Dcc/siri.20121120.csv\n",
      "Writing to bus_data/cleaned_data/line46.csv ...\n",
      "\n",
      "Reading bus_data/Dcc/siri.20121121.csv\n",
      "Writing to bus_data/cleaned_data/line46.csv ...\n",
      "\n",
      "Reading bus_data/Dcc/siri.20121122.csv\n",
      "Writing to bus_data/cleaned_data/line46.csv ...\n",
      "\n",
      "Reading bus_data/Dcc/siri.20121123.csv\n",
      "Writing to bus_data/cleaned_data/line46.csv ...\n",
      "\n",
      "Reading bus_data/Dcc/siri.20121124.csv\n",
      "Writing to bus_data/cleaned_data/line46.csv ...\n",
      "\n",
      "Reading bus_data/Dcc/siri.20121125.csv\n",
      "Writing to bus_data/cleaned_data/line46.csv ...\n",
      "\n",
      "Reading bus_data/Dcc/siri.20121126.csv\n",
      "Writing to bus_data/cleaned_data/line46.csv ...\n",
      "\n",
      "Reading bus_data/Dcc/siri.20121127.csv\n",
      "Writing to bus_data/cleaned_data/line46.csv ...\n",
      "\n",
      "Reading bus_data/Dcc/siri.20121128.csv\n",
      "Writing to bus_data/cleaned_data/line46.csv ...\n",
      "\n",
      "Reading bus_data/Dcc/siri.20121129.csv\n",
      "Writing to bus_data/cleaned_data/line46.csv ...\n",
      "\n",
      "Reading bus_data/Dcc/siri.20121130.csv\n",
      "Writing to bus_data/cleaned_data/line46.csv ...\n",
      "\n",
      "Finished!\n"
     ]
    }
   ],
   "source": [
    "main(\"bus_data/Dcc\", 46, \"bus_data/cleaned_data/line46.csv\")"
   ]
  },
  {
   "cell_type": "code",
   "execution_count": 11,
   "metadata": {
    "collapsed": false
   },
   "outputs": [
    {
     "name": "stdout",
     "output_type": "stream",
     "text": [
      "Reading bus_data/Sir/siri.20130101.csv\n",
      "Writing to bus_data/cleaned_data/line46.csv ...\n",
      "\n",
      "Reading bus_data/Sir/siri.20130102.csv\n",
      "Writing to bus_data/cleaned_data/line46.csv ...\n",
      "\n",
      "Reading bus_data/Sir/siri.20130103.csv\n",
      "Writing to bus_data/cleaned_data/line46.csv ...\n",
      "\n",
      "Reading bus_data/Sir/siri.20130104.csv\n",
      "Writing to bus_data/cleaned_data/line46.csv ...\n",
      "\n",
      "Reading bus_data/Sir/siri.20130105.csv\n",
      "Writing to bus_data/cleaned_data/line46.csv ...\n",
      "\n",
      "Reading bus_data/Sir/siri.20130106.csv\n",
      "Writing to bus_data/cleaned_data/line46.csv ...\n",
      "\n",
      "Reading bus_data/Sir/siri.20130107.csv\n",
      "Writing to bus_data/cleaned_data/line46.csv ...\n",
      "\n",
      "Reading bus_data/Sir/siri.20130108.csv\n",
      "Writing to bus_data/cleaned_data/line46.csv ...\n",
      "\n",
      "Reading bus_data/Sir/siri.20130109.csv\n",
      "Writing to bus_data/cleaned_data/line46.csv ...\n",
      "\n",
      "Reading bus_data/Sir/siri.20130110.csv\n",
      "Writing to bus_data/cleaned_data/line46.csv ...\n",
      "\n",
      "Reading bus_data/Sir/siri.20130111.csv\n",
      "Writing to bus_data/cleaned_data/line46.csv ...\n",
      "\n",
      "Reading bus_data/Sir/siri.20130112.csv\n",
      "Writing to bus_data/cleaned_data/line46.csv ...\n",
      "\n",
      "Reading bus_data/Sir/siri.20130113.csv\n",
      "Writing to bus_data/cleaned_data/line46.csv ...\n",
      "\n",
      "Reading bus_data/Sir/siri.20130114.csv\n",
      "Writing to bus_data/cleaned_data/line46.csv ...\n",
      "\n",
      "Reading bus_data/Sir/siri.20130115.csv\n",
      "Writing to bus_data/cleaned_data/line46.csv ...\n",
      "\n",
      "Reading bus_data/Sir/siri.20130116.csv\n",
      "Writing to bus_data/cleaned_data/line46.csv ...\n",
      "\n",
      "Reading bus_data/Sir/siri.20130117.csv\n",
      "Writing to bus_data/cleaned_data/line46.csv ...\n",
      "\n",
      "Reading bus_data/Sir/siri.20130118.csv\n",
      "Writing to bus_data/cleaned_data/line46.csv ...\n",
      "\n",
      "Reading bus_data/Sir/siri.20130119.csv\n",
      "Writing to bus_data/cleaned_data/line46.csv ...\n",
      "\n",
      "Reading bus_data/Sir/siri.20130120.csv\n",
      "Writing to bus_data/cleaned_data/line46.csv ...\n",
      "\n",
      "Reading bus_data/Sir/siri.20130121.csv\n",
      "Writing to bus_data/cleaned_data/line46.csv ...\n",
      "\n",
      "Reading bus_data/Sir/siri.20130122.csv\n",
      "Writing to bus_data/cleaned_data/line46.csv ...\n",
      "\n",
      "Reading bus_data/Sir/siri.20130123.csv\n",
      "Writing to bus_data/cleaned_data/line46.csv ...\n",
      "\n",
      "Reading bus_data/Sir/siri.20130124.csv\n",
      "Writing to bus_data/cleaned_data/line46.csv ...\n",
      "\n",
      "Reading bus_data/Sir/siri.20130125.csv\n",
      "Writing to bus_data/cleaned_data/line46.csv ...\n",
      "\n",
      "Reading bus_data/Sir/siri.20130126.csv\n",
      "Writing to bus_data/cleaned_data/line46.csv ...\n",
      "\n",
      "Reading bus_data/Sir/siri.20130127.csv\n",
      "Writing to bus_data/cleaned_data/line46.csv ...\n",
      "\n",
      "Reading bus_data/Sir/siri.20130128.csv\n",
      "Writing to bus_data/cleaned_data/line46.csv ...\n",
      "\n",
      "Reading bus_data/Sir/siri.20130129.csv\n",
      "Writing to bus_data/cleaned_data/line46.csv ...\n",
      "\n",
      "Reading bus_data/Sir/siri.20130130.csv\n",
      "Writing to bus_data/cleaned_data/line46.csv ...\n",
      "\n",
      "Reading bus_data/Sir/siri.20130131.csv\n",
      "Writing to bus_data/cleaned_data/line46.csv ...\n",
      "\n",
      "Finished!\n"
     ]
    }
   ],
   "source": [
    "main(\"bus_data/Sir\", 46, \"bus_data/cleaned_data/line46.csv\")"
   ]
  },
  {
   "cell_type": "code",
   "execution_count": null,
   "metadata": {
    "collapsed": true
   },
   "outputs": [],
   "source": []
  },
  {
   "cell_type": "code",
   "execution_count": null,
   "metadata": {
    "collapsed": true
   },
   "outputs": [],
   "source": []
  },
  {
   "cell_type": "code",
   "execution_count": null,
   "metadata": {
    "collapsed": true
   },
   "outputs": [],
   "source": []
  },
  {
   "cell_type": "code",
   "execution_count": null,
   "metadata": {
    "collapsed": true
   },
   "outputs": [],
   "source": []
  },
  {
   "cell_type": "code",
   "execution_count": null,
   "metadata": {
    "collapsed": true
   },
   "outputs": [],
   "source": []
  }
 ],
 "metadata": {
  "kernelspec": {
   "display_name": "Python 3",
   "language": "python",
   "name": "python3"
  },
  "language_info": {
   "codemirror_mode": {
    "name": "ipython",
    "version": 3
   },
   "file_extension": ".py",
   "mimetype": "text/x-python",
   "name": "python",
   "nbconvert_exporter": "python",
   "pygments_lexer": "ipython3",
   "version": "3.6.0"
  }
 },
 "nbformat": 4,
 "nbformat_minor": 0
}
