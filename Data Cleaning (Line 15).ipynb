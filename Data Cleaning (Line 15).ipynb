{
 "cells": [
  {
   "cell_type": "code",
   "execution_count": 80,
   "metadata": {
    "collapsed": false
   },
   "outputs": [],
   "source": [
    "import pandas as pd\n",
    "import numpy as np\n",
    "import matplotlib.pyplot as plt\n",
    "import seaborn as sns\n",
    "import sklearn\n",
    "import statsmodels.formula.api as sm\n",
    "\n",
    "%matplotlib inline"
   ]
  },
  {
   "cell_type": "markdown",
   "metadata": {},
   "source": [
    "## Reading Data & Formatting"
   ]
  },
  {
   "cell_type": "code",
   "execution_count": 81,
   "metadata": {
    "collapsed": false
   },
   "outputs": [],
   "source": [
    "df = pd.read_csv(\"bus_data/cleaned_data/line15.csv\", low_memory=False, header=None)\n",
    "df.columns = [\"Timestamp\", \"LineID\", \"Direction\", \"JourneyPatternID\", \"TimeFrame\", \n",
    "              \"VehicleJourneyID\", \"Operator\", \"Congestion\", \"Lon\", \"Lat\", \n",
    "              \"Delay\", \"BlockID\", \"VehicleID\", \"StopID\", \"AtStop\"]"
   ]
  },
  {
   "cell_type": "code",
   "execution_count": 90,
   "metadata": {
    "collapsed": true
   },
   "outputs": [],
   "source": [
    "#Select all columns of type 'object'\n",
    "object_columns = df.select_dtypes(['object']).columns\n",
    "\n",
    "#Convert selected columns to type 'category'\n",
    "for column in object_columns:\n",
    "    df[column] = df[column].astype('category')\n",
    "    \n",
    "# Convert other features to categorical\n",
    "for column in ['LineID', 'VehicleJourneyID', 'Congestion', 'BlockID', 'VehicleID', 'AtStop']:\n",
    "    df[column] = df[column].astype('category')"
   ]
  },
  {
   "cell_type": "code",
   "execution_count": 91,
   "metadata": {
    "collapsed": false
   },
   "outputs": [],
   "source": [
    "# Add column for human readable time\n",
    "df['HumanTime'] = pd.to_datetime(timedf['Timestamp'], unit='us')"
   ]
  },
  {
   "cell_type": "code",
   "execution_count": 138,
   "metadata": {
    "collapsed": true
   },
   "outputs": [],
   "source": [
    "# Dropping irrelevant columns\n",
    "df = df.drop('BlockID', 1)\n",
    "df = df.drop('Operator', 1)\n",
    "df = df.drop('Delay', 1)\n",
    "df = df.drop('Congestion', 1)"
   ]
  },
  {
   "cell_type": "markdown",
   "metadata": {},
   "source": [
    "## Separating journey patterns"
   ]
  },
  {
   "cell_type": "code",
   "execution_count": 139,
   "metadata": {
    "collapsed": false
   },
   "outputs": [
    {
     "name": "stdout",
     "output_type": "stream",
     "text": [
      "00150001\n",
      "00151001\n",
      "015A1001\n",
      "015A0001\n",
      "null\n",
      "nan\n",
      "015B0002\n",
      "015B1001\n",
      "015A0002\n",
      "015B0001\n",
      "015B1002\n",
      "015B0003\n",
      "00151002\n",
      "00150002\n",
      "029A1001\n",
      "066A0001\n",
      "00400001\n",
      "056A1001\n"
     ]
    }
   ],
   "source": [
    "patterns = df.JourneyPatternID.unique()\n",
    "\n",
    "for pattern in patterns:\n",
    "    print(pattern)"
   ]
  },
  {
   "cell_type": "code",
   "execution_count": 256,
   "metadata": {
    "collapsed": false
   },
   "outputs": [
    {
     "data": {
      "text/plain": [
       "(9042, 12)"
      ]
     },
     "execution_count": 256,
     "metadata": {},
     "output_type": "execute_result"
    }
   ],
   "source": [
    "# Choosing only line 00150001, for a single day, where the busses are at a stop\n",
    "newdf = df[(df.JourneyPatternID == '00150001') & (df.TimeFrame == '2012-11-26') & (df.AtStop == 1)]\n",
    "newdf.shape"
   ]
  },
  {
   "cell_type": "code",
   "execution_count": 257,
   "metadata": {
    "collapsed": false
   },
   "outputs": [],
   "source": [
    "newdf = newdf.drop_duplicates([\"TimeFrame\", \"VehicleJourneyID\", \"StopID\"])"
   ]
  },
  {
   "cell_type": "code",
   "execution_count": 258,
   "metadata": {
    "collapsed": false
   },
   "outputs": [],
   "source": [
    "groups = newdf.groupby([\"TimeFrame\", \"VehicleJourneyID\"])"
   ]
  },
  {
   "cell_type": "markdown",
   "metadata": {},
   "source": [
    "### Problem - Journeys don't all start with the same stop. \n",
    "#### This means that we'll have to find some other way of initialising the journey. Maybe the first row containing VehicleJourneyID with AtStop == 0 ? "
   ]
  },
  {
   "cell_type": "code",
   "execution_count": 260,
   "metadata": {
    "collapsed": false,
    "scrolled": false
   },
   "outputs": [
    {
     "name": "stdout",
     "output_type": "stream",
     "text": [
      "6318\n",
      "7246\n",
      "6320\n",
      "6282\n",
      "7246\n",
      "6282\n",
      "4594\n",
      "6319\n",
      "6318\n",
      "6282\n",
      "6318\n",
      "6282\n",
      "6318\n",
      "6282\n",
      "6320\n",
      "6318\n",
      "6282\n",
      "4594\n",
      "6318\n",
      "6282\n",
      "6320\n",
      "6282\n",
      "6318\n",
      "6318\n",
      "6318\n",
      "4594\n",
      "6318\n",
      "6318\n",
      "6282\n",
      "6319\n",
      "6282\n",
      "6318\n",
      "6318\n",
      "6282\n",
      "6320\n",
      "6282\n",
      "6318\n",
      "6282\n",
      "6318\n",
      "6282\n",
      "4594\n",
      "6282\n",
      "6319\n",
      "6282\n",
      "4596\n",
      "6282\n",
      "6320\n",
      "6318\n",
      "6282\n",
      "4594\n",
      "6282\n",
      "4563\n",
      "6282\n",
      "6318\n",
      "6282\n",
      "6320\n",
      "6318\n",
      "6282\n",
      "6318\n",
      "6282\n",
      "6318\n",
      "6282\n",
      "6318\n",
      "6282\n",
      "4594\n",
      "6282\n",
      "6318\n",
      "6282\n",
      "1270\n",
      "6318\n",
      "6282\n",
      "4563\n",
      "6318\n",
      "6319\n",
      "6282\n",
      "6318\n",
      "6282\n",
      "6318\n",
      "6318\n",
      "6282\n",
      "6319\n",
      "6282\n",
      "6318\n",
      "6319\n",
      "6282\n",
      "6318\n",
      "6318\n",
      "6282\n",
      "6319\n",
      "6282\n",
      "6318\n",
      "7246\n",
      "1273\n",
      "6282\n",
      "6318\n",
      "6282\n",
      "6318\n",
      "6282\n",
      "6318\n",
      "6318\n",
      "6282\n",
      "6318\n",
      "6318\n",
      "6318\n",
      "6282\n",
      "6318\n",
      "6282\n",
      "6318\n",
      "6282\n",
      "6282\n",
      "6282\n",
      "6318\n",
      "6282\n",
      "6318\n",
      "6282\n",
      "6318\n",
      "6282\n",
      "4595\n",
      "6282\n",
      "6318\n",
      "6282\n",
      "6318\n",
      "6282\n",
      "6318\n",
      "6318\n",
      "6282\n",
      "5190\n",
      "6282\n",
      "6318\n",
      "6282\n",
      "6318\n",
      "6282\n",
      "7246\n",
      "6282\n",
      "6318\n",
      "6318\n",
      "6282\n",
      "6318\n",
      "4594\n",
      "6282\n",
      "7246\n",
      "6282\n",
      "6318\n",
      "6282\n",
      "6318\n",
      "6318\n",
      "6318\n",
      "6318\n",
      "675\n"
     ]
    }
   ],
   "source": [
    "for name, group in groups:\n",
    "    group.reset_index(inplace=True)\n",
    "    start = group.loc[0, 'StopID']\n",
    "    print(start)"
   ]
  },
  {
   "cell_type": "code",
   "execution_count": null,
   "metadata": {
    "collapsed": true
   },
   "outputs": [],
   "source": []
  },
  {
   "cell_type": "code",
   "execution_count": null,
   "metadata": {
    "collapsed": true
   },
   "outputs": [],
   "source": []
  }
 ],
 "metadata": {
  "anaconda-cloud": {},
  "kernelspec": {
   "display_name": "Python 3",
   "language": "python",
   "name": "python3"
  },
  "language_info": {
   "codemirror_mode": {
    "name": "ipython",
    "version": 3
   },
   "file_extension": ".py",
   "mimetype": "text/x-python",
   "name": "python",
   "nbconvert_exporter": "python",
   "pygments_lexer": "ipython3",
   "version": "3.6.0"
  }
 },
 "nbformat": 4,
 "nbformat_minor": 0
}
