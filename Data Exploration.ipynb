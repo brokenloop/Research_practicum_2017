{
 "cells": [
  {
   "cell_type": "code",
   "execution_count": 130,
   "metadata": {
    "collapsed": true
   },
   "outputs": [],
   "source": [
    "import pandas as pd\n",
    "import sklearn\n",
    "import statsmodels.formula.api as sm\n"
   ]
  },
  {
   "cell_type": "code",
   "execution_count": 118,
   "metadata": {
    "collapsed": false
   },
   "outputs": [],
   "source": [
    "df = pd.read_csv(\"cleaned_data/line15.csv\", low_memory=False, header=None)\n",
    "# df = pd.read_csv(\"bus_data/Sir/siri.20130101.csv\", low_memory=False, header=None)\n",
    "df.columns = [\"Timestamp\", \"LineID\", \"Direction\", \"JourneyPatternID\", \"TimeFrame\", \n",
    "              \"VehicleJourneyID\", \"Operator\", \"Congestion\", \"LonWGS84\", \"LatWGS84\", \n",
    "              \"Delay\", \"BlockID\", \"VehicleID\", \"StopID\", \"AtStop\"]\n"
   ]
  },
  {
   "cell_type": "code",
   "execution_count": 119,
   "metadata": {
    "collapsed": false
   },
   "outputs": [
    {
     "data": {
      "text/plain": [
       "(4858123, 15)"
      ]
     },
     "execution_count": 119,
     "metadata": {},
     "output_type": "execute_result"
    }
   ],
   "source": [
    "df.shape\n"
   ]
  },
  {
   "cell_type": "code",
   "execution_count": 120,
   "metadata": {
    "collapsed": false
   },
   "outputs": [
    {
     "data": {
      "text/plain": [
       "Timestamp             int64\n",
       "LineID              float64\n",
       "Direction             int64\n",
       "JourneyPatternID     object\n",
       "TimeFrame            object\n",
       "VehicleJourneyID      int64\n",
       "Operator             object\n",
       "Congestion            int64\n",
       "LonWGS84            float64\n",
       "LatWGS84            float64\n",
       "Delay                 int64\n",
       "BlockID               int64\n",
       "VehicleID             int64\n",
       "StopID               object\n",
       "AtStop                int64\n",
       "dtype: object"
      ]
     },
     "execution_count": 120,
     "metadata": {},
     "output_type": "execute_result"
    }
   ],
   "source": [
    "df.dtypes"
   ]
  },
  {
   "cell_type": "code",
   "execution_count": 121,
   "metadata": {
    "collapsed": false
   },
   "outputs": [],
   "source": [
    "\n",
    "# df.head(100)"
   ]
  },
  {
   "cell_type": "code",
   "execution_count": 122,
   "metadata": {
    "collapsed": true
   },
   "outputs": [],
   "source": [
    "#Select all columns of type 'object'\n",
    "object_columns = df.select_dtypes(['object']).columns\n"
   ]
  },
  {
   "cell_type": "code",
   "execution_count": 123,
   "metadata": {
    "collapsed": true
   },
   "outputs": [],
   "source": [
    "#Convert selected columns to type 'category'\n",
    "for column in object_columns:\n",
    "    df[column] = df[column].astype('category')   "
   ]
  },
  {
   "cell_type": "code",
   "execution_count": 124,
   "metadata": {
    "collapsed": true
   },
   "outputs": [],
   "source": [
    "# Convert some features to categorical\n",
    "for column in ['LineID', 'VehicleJourneyID', 'Congestion', 'BlockID', 'VehicleID', 'AtStop']:\n",
    "    df[column] = df[column].astype('category')"
   ]
  },
  {
   "cell_type": "code",
   "execution_count": 125,
   "metadata": {
    "collapsed": false
   },
   "outputs": [
    {
     "data": {
      "text/plain": [
       "Timestamp              int64\n",
       "LineID              category\n",
       "Direction              int64\n",
       "JourneyPatternID    category\n",
       "TimeFrame           category\n",
       "VehicleJourneyID    category\n",
       "Operator            category\n",
       "Congestion          category\n",
       "LonWGS84             float64\n",
       "LatWGS84             float64\n",
       "Delay                  int64\n",
       "BlockID             category\n",
       "VehicleID           category\n",
       "StopID              category\n",
       "AtStop              category\n",
       "dtype: object"
      ]
     },
     "execution_count": 125,
     "metadata": {},
     "output_type": "execute_result"
    }
   ],
   "source": [
    "df.dtypes"
   ]
  },
  {
   "cell_type": "code",
   "execution_count": null,
   "metadata": {
    "collapsed": true
   },
   "outputs": [],
   "source": []
  },
  {
   "cell_type": "code",
   "execution_count": 126,
   "metadata": {
    "collapsed": false
   },
   "outputs": [
    {
     "data": {
      "text/html": [
       "<div>\n",
       "<table border=\"1\" class=\"dataframe\">\n",
       "  <thead>\n",
       "    <tr style=\"text-align: right;\">\n",
       "      <th></th>\n",
       "      <th>count</th>\n",
       "      <th>unique</th>\n",
       "      <th>top</th>\n",
       "      <th>freq</th>\n",
       "    </tr>\n",
       "  </thead>\n",
       "  <tbody>\n",
       "    <tr>\n",
       "      <th>LineID</th>\n",
       "      <td>4.85812e+06</td>\n",
       "      <td>1</td>\n",
       "      <td>15</td>\n",
       "      <td>4.85812e+06</td>\n",
       "    </tr>\n",
       "    <tr>\n",
       "      <th>JourneyPatternID</th>\n",
       "      <td>4858030</td>\n",
       "      <td>17</td>\n",
       "      <td>00150001</td>\n",
       "      <td>1310971</td>\n",
       "    </tr>\n",
       "    <tr>\n",
       "      <th>TimeFrame</th>\n",
       "      <td>4858123</td>\n",
       "      <td>57</td>\n",
       "      <td>2013-01-11</td>\n",
       "      <td>105417</td>\n",
       "    </tr>\n",
       "    <tr>\n",
       "      <th>VehicleJourneyID</th>\n",
       "      <td>4858123</td>\n",
       "      <td>4082</td>\n",
       "      <td>2693</td>\n",
       "      <td>8570</td>\n",
       "    </tr>\n",
       "    <tr>\n",
       "      <th>Operator</th>\n",
       "      <td>4858123</td>\n",
       "      <td>7</td>\n",
       "      <td>RD</td>\n",
       "      <td>3585969</td>\n",
       "    </tr>\n",
       "    <tr>\n",
       "      <th>Congestion</th>\n",
       "      <td>4858123</td>\n",
       "      <td>2</td>\n",
       "      <td>0</td>\n",
       "      <td>4737920</td>\n",
       "    </tr>\n",
       "    <tr>\n",
       "      <th>BlockID</th>\n",
       "      <td>4858123</td>\n",
       "      <td>59</td>\n",
       "      <td>15105</td>\n",
       "      <td>168777</td>\n",
       "    </tr>\n",
       "    <tr>\n",
       "      <th>VehicleID</th>\n",
       "      <td>4858123</td>\n",
       "      <td>212</td>\n",
       "      <td>33547</td>\n",
       "      <td>94944</td>\n",
       "    </tr>\n",
       "    <tr>\n",
       "      <th>StopID</th>\n",
       "      <td>4858122</td>\n",
       "      <td>250</td>\n",
       "      <td>6282</td>\n",
       "      <td>299478</td>\n",
       "    </tr>\n",
       "    <tr>\n",
       "      <th>AtStop</th>\n",
       "      <td>4858123</td>\n",
       "      <td>2</td>\n",
       "      <td>0</td>\n",
       "      <td>3653530</td>\n",
       "    </tr>\n",
       "  </tbody>\n",
       "</table>\n",
       "</div>"
      ],
      "text/plain": [
       "                        count unique         top         freq\n",
       "LineID            4.85812e+06      1          15  4.85812e+06\n",
       "JourneyPatternID      4858030     17    00150001      1310971\n",
       "TimeFrame             4858123     57  2013-01-11       105417\n",
       "VehicleJourneyID      4858123   4082        2693         8570\n",
       "Operator              4858123      7          RD      3585969\n",
       "Congestion            4858123      2           0      4737920\n",
       "BlockID               4858123     59       15105       168777\n",
       "VehicleID             4858123    212       33547        94944\n",
       "StopID                4858122    250        6282       299478\n",
       "AtStop                4858123      2           0      3653530"
      ]
     },
     "execution_count": 126,
     "metadata": {},
     "output_type": "execute_result"
    }
   ],
   "source": [
    "# Descriptive stats for categorical features\n",
    "df.select_dtypes(['category']).describe().T"
   ]
  },
  {
   "cell_type": "code",
   "execution_count": 127,
   "metadata": {
    "collapsed": false
   },
   "outputs": [
    {
     "data": {
      "text/html": [
       "<div>\n",
       "<table border=\"1\" class=\"dataframe\">\n",
       "  <thead>\n",
       "    <tr style=\"text-align: right;\">\n",
       "      <th></th>\n",
       "      <th>count</th>\n",
       "      <th>mean</th>\n",
       "      <th>std</th>\n",
       "      <th>min</th>\n",
       "      <th>25%</th>\n",
       "      <th>50%</th>\n",
       "      <th>75%</th>\n",
       "      <th>max</th>\n",
       "    </tr>\n",
       "  </thead>\n",
       "  <tbody>\n",
       "    <tr>\n",
       "      <th>Timestamp</th>\n",
       "      <td>4858123.0</td>\n",
       "      <td>1.355959e+15</td>\n",
       "      <td>2.620094e+12</td>\n",
       "      <td>1.352160e+15</td>\n",
       "      <td>1.353346e+15</td>\n",
       "      <td>1.357211e+15</td>\n",
       "      <td>1.358373e+15</td>\n",
       "      <td>1.359633e+15</td>\n",
       "    </tr>\n",
       "    <tr>\n",
       "      <th>Direction</th>\n",
       "      <td>4858123.0</td>\n",
       "      <td>0.000000e+00</td>\n",
       "      <td>0.000000e+00</td>\n",
       "      <td>0.000000e+00</td>\n",
       "      <td>0.000000e+00</td>\n",
       "      <td>0.000000e+00</td>\n",
       "      <td>0.000000e+00</td>\n",
       "      <td>0.000000e+00</td>\n",
       "    </tr>\n",
       "    <tr>\n",
       "      <th>LonWGS84</th>\n",
       "      <td>4858123.0</td>\n",
       "      <td>-6.261115e+00</td>\n",
       "      <td>5.138256e-02</td>\n",
       "      <td>-6.539633e+00</td>\n",
       "      <td>-6.302107e+00</td>\n",
       "      <td>-6.264140e+00</td>\n",
       "      <td>-6.235311e+00</td>\n",
       "      <td>-6.100584e+00</td>\n",
       "    </tr>\n",
       "    <tr>\n",
       "      <th>LatWGS84</th>\n",
       "      <td>4858123.0</td>\n",
       "      <td>5.333175e+01</td>\n",
       "      <td>4.070459e-02</td>\n",
       "      <td>5.316537e+01</td>\n",
       "      <td>5.330310e+01</td>\n",
       "      <td>5.333346e+01</td>\n",
       "      <td>5.334829e+01</td>\n",
       "      <td>5.342166e+01</td>\n",
       "    </tr>\n",
       "    <tr>\n",
       "      <th>Delay</th>\n",
       "      <td>4858123.0</td>\n",
       "      <td>-5.478431e+01</td>\n",
       "      <td>4.746589e+02</td>\n",
       "      <td>-1.413600e+04</td>\n",
       "      <td>-2.460000e+02</td>\n",
       "      <td>0.000000e+00</td>\n",
       "      <td>8.400000e+01</td>\n",
       "      <td>1.088200e+04</td>\n",
       "    </tr>\n",
       "  </tbody>\n",
       "</table>\n",
       "</div>"
      ],
      "text/plain": [
       "               count          mean           std           min           25%  \\\n",
       "Timestamp  4858123.0  1.355959e+15  2.620094e+12  1.352160e+15  1.353346e+15   \n",
       "Direction  4858123.0  0.000000e+00  0.000000e+00  0.000000e+00  0.000000e+00   \n",
       "LonWGS84   4858123.0 -6.261115e+00  5.138256e-02 -6.539633e+00 -6.302107e+00   \n",
       "LatWGS84   4858123.0  5.333175e+01  4.070459e-02  5.316537e+01  5.330310e+01   \n",
       "Delay      4858123.0 -5.478431e+01  4.746589e+02 -1.413600e+04 -2.460000e+02   \n",
       "\n",
       "                    50%           75%           max  \n",
       "Timestamp  1.357211e+15  1.358373e+15  1.359633e+15  \n",
       "Direction  0.000000e+00  0.000000e+00  0.000000e+00  \n",
       "LonWGS84  -6.264140e+00 -6.235311e+00 -6.100584e+00  \n",
       "LatWGS84   5.333346e+01  5.334829e+01  5.342166e+01  \n",
       "Delay      0.000000e+00  8.400000e+01  1.088200e+04  "
      ]
     },
     "execution_count": 127,
     "metadata": {},
     "output_type": "execute_result"
    }
   ],
   "source": [
    "# Descriptive stats for continuous features\n",
    "df.describe().T"
   ]
  },
  {
   "cell_type": "code",
   "execution_count": null,
   "metadata": {
    "collapsed": false
   },
   "outputs": [],
   "source": []
  },
  {
   "cell_type": "code",
   "execution_count": 134,
   "metadata": {
    "collapsed": false
   },
   "outputs": [],
   "source": [
    "lm = sm.ols(formula=\"Delay ~  Timestamp\", data=df).fit()\n"
   ]
  },
  {
   "cell_type": "code",
   "execution_count": 135,
   "metadata": {
    "collapsed": false
   },
   "outputs": [
    {
     "name": "stdout",
     "output_type": "stream",
     "text": [
      "                            OLS Regression Results                            \n",
      "==============================================================================\n",
      "Dep. Variable:                  Delay   R-squared:                       0.000\n",
      "Model:                            OLS   Adj. R-squared:                  0.000\n",
      "Method:                 Least Squares   F-statistic:                       inf\n",
      "Date:                Mon, 12 Jun 2017   Prob (F-statistic):                nan\n",
      "Time:                        20:06:53   Log-Likelihood:            -3.6832e+07\n",
      "No. Observations:             4858123   AIC:                         7.366e+07\n",
      "Df Residuals:                 4858122   BIC:                         7.366e+07\n",
      "Df Model:                           0                                         \n",
      "Covariance Type:            nonrobust                                         \n",
      "==============================================================================\n",
      "                 coef    std err          t      P>|t|      [95.0% Conf. Int.]\n",
      "------------------------------------------------------------------------------\n",
      "Intercept  -2.983e-29   1.17e-31   -254.717      0.000     -3.01e-29 -2.96e-29\n",
      "Timestamp  -4.045e-14   1.59e-16   -254.717      0.000     -4.08e-14 -4.01e-14\n",
      "==============================================================================\n",
      "Omnibus:                  2249160.445   Durbin-Watson:                   1.751\n",
      "Prob(Omnibus):                  0.000   Jarque-Bera (JB):        317257248.481\n",
      "Skew:                           1.201   Prob(JB):                         0.00\n",
      "Kurtosis:                      42.516   Cond. No.                     7.02e+17\n",
      "==============================================================================\n",
      "\n",
      "Warnings:\n",
      "[1] Standard Errors assume that the covariance matrix of the errors is correctly specified.\n",
      "[2] The condition number is large, 7.02e+17. This might indicate that there are\n",
      "strong multicollinearity or other numerical problems.\n"
     ]
    },
    {
     "name": "stderr",
     "output_type": "stream",
     "text": [
      "/Users/danieljordan/anaconda3/lib/python3.6/site-packages/statsmodels/regression/linear_model.py:1191: RuntimeWarning: divide by zero encountered in double_scalars\n",
      "  return self.ess/self.df_model\n"
     ]
    }
   ],
   "source": [
    "print(lm.summary())"
   ]
  },
  {
   "cell_type": "code",
   "execution_count": null,
   "metadata": {
    "collapsed": true
   },
   "outputs": [],
   "source": []
  },
  {
   "cell_type": "code",
   "execution_count": null,
   "metadata": {
    "collapsed": true
   },
   "outputs": [],
   "source": []
  },
  {
   "cell_type": "code",
   "execution_count": null,
   "metadata": {
    "collapsed": true
   },
   "outputs": [],
   "source": []
  },
  {
   "cell_type": "code",
   "execution_count": null,
   "metadata": {
    "collapsed": true
   },
   "outputs": [],
   "source": []
  }
 ],
 "metadata": {
  "kernelspec": {
   "display_name": "Python 3",
   "language": "python",
   "name": "python3"
  },
  "language_info": {
   "codemirror_mode": {
    "name": "ipython",
    "version": 3
   },
   "file_extension": ".py",
   "mimetype": "text/x-python",
   "name": "python",
   "nbconvert_exporter": "python",
   "pygments_lexer": "ipython3",
   "version": "3.6.0"
  }
 },
 "nbformat": 4,
 "nbformat_minor": 2
}
